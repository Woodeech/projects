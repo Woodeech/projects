{
 "cells": [
  {
   "cell_type": "markdown",
   "id": "c3bb0b1a",
   "metadata": {
    "toc": true
   },
   "source": [
    "<h1>Содержание<span class=\"tocSkip\"></span></h1>\n",
    "<div class=\"toc\"><ul class=\"toc-item\"><li><span><a href=\"#Обзор-данных\" data-toc-modified-id=\"Обзор-данных-1\"><span class=\"toc-item-num\">1&nbsp;&nbsp;</span>Обзор данных</a></span></li><li><span><a href=\"#Предобработка-данных\" data-toc-modified-id=\"Предобработка-данных-2\"><span class=\"toc-item-num\">2&nbsp;&nbsp;</span>Предобработка данных</a></span><ul class=\"toc-item\"><li><span><a href=\"#Проверка-данных-на-аномалии-и-исправления.\" data-toc-modified-id=\"Проверка-данных-на-аномалии-и-исправления.-2.1\"><span class=\"toc-item-num\">2.1&nbsp;&nbsp;</span>Проверка данных на аномалии и исправления.</a></span></li><li><span><a href=\"#Заполнение-пропусков\" data-toc-modified-id=\"Заполнение-пропусков-2.2\"><span class=\"toc-item-num\">2.2&nbsp;&nbsp;</span>Заполнение пропусков</a></span></li><li><span><a href=\"#Изменение-типов-данных.\" data-toc-modified-id=\"Изменение-типов-данных.-2.3\"><span class=\"toc-item-num\">2.3&nbsp;&nbsp;</span>Изменение типов данных.</a></span></li><li><span><a href=\"#Удаление-дубликатов.\" data-toc-modified-id=\"Удаление-дубликатов.-2.4\"><span class=\"toc-item-num\">2.4&nbsp;&nbsp;</span>Удаление дубликатов.</a></span></li><li><span><a href=\"#Формирование-дополнительных-датафреймов-словарей,-декомпозиция-исходного-датафрейма.\" data-toc-modified-id=\"Формирование-дополнительных-датафреймов-словарей,-декомпозиция-исходного-датафрейма.-2.5\"><span class=\"toc-item-num\">2.5&nbsp;&nbsp;</span>Формирование дополнительных датафреймов словарей, декомпозиция исходного датафрейма.</a></span></li><li><span><a href=\"#Категоризация-дохода.\" data-toc-modified-id=\"Категоризация-дохода.-2.6\"><span class=\"toc-item-num\">2.6&nbsp;&nbsp;</span>Категоризация дохода.</a></span></li><li><span><a href=\"#Категоризация-целей-кредита.\" data-toc-modified-id=\"Категоризация-целей-кредита.-2.7\"><span class=\"toc-item-num\">2.7&nbsp;&nbsp;</span>Категоризация целей кредита.</a></span></li><li><span><a href=\"#Ответы-на-вопросы.\" data-toc-modified-id=\"Ответы-на-вопросы.-2.8\"><span class=\"toc-item-num\">2.8&nbsp;&nbsp;</span>Ответы на вопросы.</a></span><ul class=\"toc-item\"><li><span><a href=\"#Вопрос:-Есть-ли-зависимость-между-количеством-детей-и-возвратом-кредита-в-срок?\" data-toc-modified-id=\"Вопрос:-Есть-ли-зависимость-между-количеством-детей-и-возвратом-кредита-в-срок?-2.8.1\"><span class=\"toc-item-num\">2.8.1&nbsp;&nbsp;</span>Вопрос: Есть ли зависимость между количеством детей и возвратом кредита в срок?</a></span></li><li><span><a href=\"#Есть-ли-зависимость-между-семейным-положением-и-возвратом-кредита-в-срок?\" data-toc-modified-id=\"Есть-ли-зависимость-между-семейным-положением-и-возвратом-кредита-в-срок?-2.8.2\"><span class=\"toc-item-num\">2.8.2&nbsp;&nbsp;</span>Есть ли зависимость между семейным положением и возвратом кредита в срок?</a></span></li><li><span><a href=\"#Есть-ли-зависимость-между-уровнем-дохода-и-возвратом-кредита-в-срок?\" data-toc-modified-id=\"Есть-ли-зависимость-между-уровнем-дохода-и-возвратом-кредита-в-срок?-2.8.3\"><span class=\"toc-item-num\">2.8.3&nbsp;&nbsp;</span>Есть ли зависимость между уровнем дохода и возвратом кредита в срок?</a></span></li><li><span><a href=\"#Как-разные-цели-кредита-влияют-на-его-возврат-в-срок?\" data-toc-modified-id=\"Как-разные-цели-кредита-влияют-на-его-возврат-в-срок?-2.8.4\"><span class=\"toc-item-num\">2.8.4&nbsp;&nbsp;</span>Как разные цели кредита влияют на его возврат в срок?</a></span></li></ul></li></ul></li><li><span><a href=\"#Общий-вывод:\" data-toc-modified-id=\"Общий-вывод:-3\"><span class=\"toc-item-num\">3&nbsp;&nbsp;</span>Общий вывод:</a></span></li></ul></div>"
   ]
  },
  {
   "cell_type": "markdown",
   "id": "bd9c8d8f",
   "metadata": {},
   "source": [
    "# Исследование надежности заемщиков"
   ]
  },
  {
   "cell_type": "markdown",
   "id": "d67e2201",
   "metadata": {},
   "source": [
    "\n",
    "\n",
    "**Цель исследования**\n",
    "\n",
    "Понять как количество детей и семейное положение влияет на факт погашения кредита в срок.\n",
    "\n",
    "**Ход исследования**\n",
    "\n",
    "Входные данные от банка — статистика о платёжеспособности клиентов мы получим из файла `/datasets/data.csv`.\n",
    "\n",
    " \n",
    "Таким образом, исследование пройдёт в три этапа:\n",
    " 1. Обзор данных.\n",
    " 2. Предобработка данных.\n",
    " 3. Общий вывод."
   ]
  },
  {
   "cell_type": "markdown",
   "id": "d4a6bf34",
   "metadata": {},
   "source": [
    "## Обзор данных"
   ]
  },
  {
   "cell_type": "markdown",
   "id": "13d44eff",
   "metadata": {},
   "source": [
    "Импортируем библиотеку `pandas`"
   ]
  },
  {
   "cell_type": "code",
   "execution_count": 2,
   "id": "181057dd",
   "metadata": {},
   "outputs": [],
   "source": [
    "# Импортируем библиотеку pandas\n",
    "import pandas as pd "
   ]
  },
  {
   "cell_type": "markdown",
   "id": "b65125ec",
   "metadata": {},
   "source": [
    "Прочитаем файл `data.csv` из папки `/datasets` и сохраним его в переменной `df`:"
   ]
  },
  {
   "cell_type": "code",
   "execution_count": 3,
   "id": "424ba1ee",
   "metadata": {},
   "outputs": [],
   "source": [
    "# Чтение фала с данными и сохранение в df\n",
    "df = pd.read_csv('/datasets/data.csv') "
   ]
  },
  {
   "cell_type": "markdown",
   "id": "27b66718",
   "metadata": {},
   "source": [
    "Выведем на экран первый 10 строк таблицы `df`"
   ]
  },
  {
   "cell_type": "code",
   "execution_count": 4,
   "id": "2fe4e4a0",
   "metadata": {},
   "outputs": [
    {
     "data": {
      "text/html": [
       "<div>\n",
       "<style scoped>\n",
       "    .dataframe tbody tr th:only-of-type {\n",
       "        vertical-align: middle;\n",
       "    }\n",
       "\n",
       "    .dataframe tbody tr th {\n",
       "        vertical-align: top;\n",
       "    }\n",
       "\n",
       "    .dataframe thead th {\n",
       "        text-align: right;\n",
       "    }\n",
       "</style>\n",
       "<table border=\"1\" class=\"dataframe\">\n",
       "  <thead>\n",
       "    <tr style=\"text-align: right;\">\n",
       "      <th></th>\n",
       "      <th>children</th>\n",
       "      <th>days_employed</th>\n",
       "      <th>dob_years</th>\n",
       "      <th>education</th>\n",
       "      <th>education_id</th>\n",
       "      <th>family_status</th>\n",
       "      <th>family_status_id</th>\n",
       "      <th>gender</th>\n",
       "      <th>income_type</th>\n",
       "      <th>debt</th>\n",
       "      <th>total_income</th>\n",
       "      <th>purpose</th>\n",
       "    </tr>\n",
       "  </thead>\n",
       "  <tbody>\n",
       "    <tr>\n",
       "      <th>0</th>\n",
       "      <td>1</td>\n",
       "      <td>-8437.673028</td>\n",
       "      <td>42</td>\n",
       "      <td>высшее</td>\n",
       "      <td>0</td>\n",
       "      <td>женат / замужем</td>\n",
       "      <td>0</td>\n",
       "      <td>F</td>\n",
       "      <td>сотрудник</td>\n",
       "      <td>0</td>\n",
       "      <td>253875.639453</td>\n",
       "      <td>покупка жилья</td>\n",
       "    </tr>\n",
       "    <tr>\n",
       "      <th>1</th>\n",
       "      <td>1</td>\n",
       "      <td>-4024.803754</td>\n",
       "      <td>36</td>\n",
       "      <td>среднее</td>\n",
       "      <td>1</td>\n",
       "      <td>женат / замужем</td>\n",
       "      <td>0</td>\n",
       "      <td>F</td>\n",
       "      <td>сотрудник</td>\n",
       "      <td>0</td>\n",
       "      <td>112080.014102</td>\n",
       "      <td>приобретение автомобиля</td>\n",
       "    </tr>\n",
       "    <tr>\n",
       "      <th>2</th>\n",
       "      <td>0</td>\n",
       "      <td>-5623.422610</td>\n",
       "      <td>33</td>\n",
       "      <td>Среднее</td>\n",
       "      <td>1</td>\n",
       "      <td>женат / замужем</td>\n",
       "      <td>0</td>\n",
       "      <td>M</td>\n",
       "      <td>сотрудник</td>\n",
       "      <td>0</td>\n",
       "      <td>145885.952297</td>\n",
       "      <td>покупка жилья</td>\n",
       "    </tr>\n",
       "    <tr>\n",
       "      <th>3</th>\n",
       "      <td>3</td>\n",
       "      <td>-4124.747207</td>\n",
       "      <td>32</td>\n",
       "      <td>среднее</td>\n",
       "      <td>1</td>\n",
       "      <td>женат / замужем</td>\n",
       "      <td>0</td>\n",
       "      <td>M</td>\n",
       "      <td>сотрудник</td>\n",
       "      <td>0</td>\n",
       "      <td>267628.550329</td>\n",
       "      <td>дополнительное образование</td>\n",
       "    </tr>\n",
       "    <tr>\n",
       "      <th>4</th>\n",
       "      <td>0</td>\n",
       "      <td>340266.072047</td>\n",
       "      <td>53</td>\n",
       "      <td>среднее</td>\n",
       "      <td>1</td>\n",
       "      <td>гражданский брак</td>\n",
       "      <td>1</td>\n",
       "      <td>F</td>\n",
       "      <td>пенсионер</td>\n",
       "      <td>0</td>\n",
       "      <td>158616.077870</td>\n",
       "      <td>сыграть свадьбу</td>\n",
       "    </tr>\n",
       "    <tr>\n",
       "      <th>5</th>\n",
       "      <td>0</td>\n",
       "      <td>-926.185831</td>\n",
       "      <td>27</td>\n",
       "      <td>высшее</td>\n",
       "      <td>0</td>\n",
       "      <td>гражданский брак</td>\n",
       "      <td>1</td>\n",
       "      <td>M</td>\n",
       "      <td>компаньон</td>\n",
       "      <td>0</td>\n",
       "      <td>255763.565419</td>\n",
       "      <td>покупка жилья</td>\n",
       "    </tr>\n",
       "    <tr>\n",
       "      <th>6</th>\n",
       "      <td>0</td>\n",
       "      <td>-2879.202052</td>\n",
       "      <td>43</td>\n",
       "      <td>высшее</td>\n",
       "      <td>0</td>\n",
       "      <td>женат / замужем</td>\n",
       "      <td>0</td>\n",
       "      <td>F</td>\n",
       "      <td>компаньон</td>\n",
       "      <td>0</td>\n",
       "      <td>240525.971920</td>\n",
       "      <td>операции с жильем</td>\n",
       "    </tr>\n",
       "    <tr>\n",
       "      <th>7</th>\n",
       "      <td>0</td>\n",
       "      <td>-152.779569</td>\n",
       "      <td>50</td>\n",
       "      <td>СРЕДНЕЕ</td>\n",
       "      <td>1</td>\n",
       "      <td>женат / замужем</td>\n",
       "      <td>0</td>\n",
       "      <td>M</td>\n",
       "      <td>сотрудник</td>\n",
       "      <td>0</td>\n",
       "      <td>135823.934197</td>\n",
       "      <td>образование</td>\n",
       "    </tr>\n",
       "    <tr>\n",
       "      <th>8</th>\n",
       "      <td>2</td>\n",
       "      <td>-6929.865299</td>\n",
       "      <td>35</td>\n",
       "      <td>ВЫСШЕЕ</td>\n",
       "      <td>0</td>\n",
       "      <td>гражданский брак</td>\n",
       "      <td>1</td>\n",
       "      <td>F</td>\n",
       "      <td>сотрудник</td>\n",
       "      <td>0</td>\n",
       "      <td>95856.832424</td>\n",
       "      <td>на проведение свадьбы</td>\n",
       "    </tr>\n",
       "    <tr>\n",
       "      <th>9</th>\n",
       "      <td>0</td>\n",
       "      <td>-2188.756445</td>\n",
       "      <td>41</td>\n",
       "      <td>среднее</td>\n",
       "      <td>1</td>\n",
       "      <td>женат / замужем</td>\n",
       "      <td>0</td>\n",
       "      <td>M</td>\n",
       "      <td>сотрудник</td>\n",
       "      <td>0</td>\n",
       "      <td>144425.938277</td>\n",
       "      <td>покупка жилья для семьи</td>\n",
       "    </tr>\n",
       "  </tbody>\n",
       "</table>\n",
       "</div>"
      ],
      "text/plain": [
       "   children  days_employed  dob_years education  education_id  \\\n",
       "0         1   -8437.673028         42    высшее             0   \n",
       "1         1   -4024.803754         36   среднее             1   \n",
       "2         0   -5623.422610         33   Среднее             1   \n",
       "3         3   -4124.747207         32   среднее             1   \n",
       "4         0  340266.072047         53   среднее             1   \n",
       "5         0    -926.185831         27    высшее             0   \n",
       "6         0   -2879.202052         43    высшее             0   \n",
       "7         0    -152.779569         50   СРЕДНЕЕ             1   \n",
       "8         2   -6929.865299         35    ВЫСШЕЕ             0   \n",
       "9         0   -2188.756445         41   среднее             1   \n",
       "\n",
       "      family_status  family_status_id gender income_type  debt   total_income  \\\n",
       "0   женат / замужем                 0      F   сотрудник     0  253875.639453   \n",
       "1   женат / замужем                 0      F   сотрудник     0  112080.014102   \n",
       "2   женат / замужем                 0      M   сотрудник     0  145885.952297   \n",
       "3   женат / замужем                 0      M   сотрудник     0  267628.550329   \n",
       "4  гражданский брак                 1      F   пенсионер     0  158616.077870   \n",
       "5  гражданский брак                 1      M   компаньон     0  255763.565419   \n",
       "6   женат / замужем                 0      F   компаньон     0  240525.971920   \n",
       "7   женат / замужем                 0      M   сотрудник     0  135823.934197   \n",
       "8  гражданский брак                 1      F   сотрудник     0   95856.832424   \n",
       "9   женат / замужем                 0      M   сотрудник     0  144425.938277   \n",
       "\n",
       "                      purpose  \n",
       "0               покупка жилья  \n",
       "1     приобретение автомобиля  \n",
       "2               покупка жилья  \n",
       "3  дополнительное образование  \n",
       "4             сыграть свадьбу  \n",
       "5               покупка жилья  \n",
       "6           операции с жильем  \n",
       "7                 образование  \n",
       "8       на проведение свадьбы  \n",
       "9     покупка жилья для семьи  "
      ]
     },
     "metadata": {},
     "output_type": "display_data"
    }
   ],
   "source": [
    "# Получение первых 10 строк таблицы df\n",
    "display(df.head(10)) "
   ]
  },
  {
   "cell_type": "markdown",
   "id": "de1c84ba",
   "metadata": {},
   "source": [
    "Получим общую информацию о таблице:"
   ]
  },
  {
   "cell_type": "code",
   "execution_count": 5,
   "id": "255f10f5",
   "metadata": {},
   "outputs": [
    {
     "name": "stdout",
     "output_type": "stream",
     "text": [
      "<class 'pandas.core.frame.DataFrame'>\n",
      "RangeIndex: 21525 entries, 0 to 21524\n",
      "Data columns (total 12 columns):\n",
      " #   Column            Non-Null Count  Dtype  \n",
      "---  ------            --------------  -----  \n",
      " 0   children          21525 non-null  int64  \n",
      " 1   days_employed     19351 non-null  float64\n",
      " 2   dob_years         21525 non-null  int64  \n",
      " 3   education         21525 non-null  object \n",
      " 4   education_id      21525 non-null  int64  \n",
      " 5   family_status     21525 non-null  object \n",
      " 6   family_status_id  21525 non-null  int64  \n",
      " 7   gender            21525 non-null  object \n",
      " 8   income_type       21525 non-null  object \n",
      " 9   debt              21525 non-null  int64  \n",
      " 10  total_income      19351 non-null  float64\n",
      " 11  purpose           21525 non-null  object \n",
      "dtypes: float64(2), int64(5), object(5)\n",
      "memory usage: 2.0+ MB\n"
     ]
    }
   ],
   "source": [
    "# Получение общей информации о данных в таблице df\n",
    "df.info()"
   ]
  },
  {
   "cell_type": "markdown",
   "id": "a98d0e7e",
   "metadata": {},
   "source": [
    "В таблице 12 столбцов:\n",
    "* с типом данных `float64` — 2 шт.\n",
    "* с типом данных `int64` — 5 шт.\n",
    "* с типом данных `object` — 5 шт.\n",
    "\n",
    "Документация к данным:\n",
    "* `children` — количество детей в семье\n",
    "* `days_employed` — общий трудовой стаж в днях\n",
    "* `dob_years` — возраст клиента в годах\n",
    "* `education` — уровень образования клиента\n",
    "* `education_id` — идентификатор уровня образования\n",
    "* `family_status` — семейное положение\n",
    "* `family_status_id` — идентификатор семейного положения\n",
    "* `gender` — пол клиента\n",
    "* `income_type` — тип занятости\n",
    "* `debt` — имел ли задолженность по возврату кредитов\n",
    "* `total_income` — ежемесячный доход\n",
    "* `purpose` — цель получения кредита"
   ]
  },
  {
   "cell_type": "markdown",
   "id": "72575358",
   "metadata": {},
   "source": [
    "**Выводы**\n",
    "\n",
    "По названиям столбцов видно что они написаны в соответствии со змеиным регистром. Тут все хорошо.\n",
    "Но в столбцах `days_employed` и `total_income` есть пропуски. Это нужно будет исправить.\n",
    "Из 10 полученных строчек видно, что в столбце `days_emloyed` есть отрицательные значения. Так не должно быть. В столбце `education` строки записаны в разном регистре. Это тоже нужно будет поправить."
   ]
  },
  {
   "cell_type": "markdown",
   "id": "b3e4931a",
   "metadata": {},
   "source": [
    "## Предобработка данных "
   ]
  },
  {
   "cell_type": "markdown",
   "id": "32d20212",
   "metadata": {},
   "source": [
    "### Проверка данных на аномалии и исправления."
   ]
  },
  {
   "cell_type": "code",
   "execution_count": 6,
   "id": "c0ca622d",
   "metadata": {},
   "outputs": [],
   "source": [
    "# Используем abs функцию, которая измененит отрицательных значений на положительные в столбце days_emloyed\n",
    "df['days_employed'] = df['days_employed'].abs()"
   ]
  },
  {
   "cell_type": "code",
   "execution_count": 7,
   "id": "1f7a0aa5",
   "metadata": {},
   "outputs": [
    {
     "data": {
      "text/html": [
       "<div>\n",
       "<style scoped>\n",
       "    .dataframe tbody tr th:only-of-type {\n",
       "        vertical-align: middle;\n",
       "    }\n",
       "\n",
       "    .dataframe tbody tr th {\n",
       "        vertical-align: top;\n",
       "    }\n",
       "\n",
       "    .dataframe thead th {\n",
       "        text-align: right;\n",
       "    }\n",
       "</style>\n",
       "<table border=\"1\" class=\"dataframe\">\n",
       "  <thead>\n",
       "    <tr style=\"text-align: right;\">\n",
       "      <th></th>\n",
       "      <th>children</th>\n",
       "      <th>days_employed</th>\n",
       "      <th>dob_years</th>\n",
       "      <th>education</th>\n",
       "      <th>education_id</th>\n",
       "      <th>family_status</th>\n",
       "      <th>family_status_id</th>\n",
       "      <th>gender</th>\n",
       "      <th>income_type</th>\n",
       "      <th>debt</th>\n",
       "      <th>total_income</th>\n",
       "      <th>purpose</th>\n",
       "    </tr>\n",
       "  </thead>\n",
       "  <tbody>\n",
       "    <tr>\n",
       "      <th>0</th>\n",
       "      <td>1</td>\n",
       "      <td>8437.673028</td>\n",
       "      <td>42</td>\n",
       "      <td>высшее</td>\n",
       "      <td>0</td>\n",
       "      <td>женат / замужем</td>\n",
       "      <td>0</td>\n",
       "      <td>F</td>\n",
       "      <td>сотрудник</td>\n",
       "      <td>0</td>\n",
       "      <td>253875.639453</td>\n",
       "      <td>покупка жилья</td>\n",
       "    </tr>\n",
       "    <tr>\n",
       "      <th>1</th>\n",
       "      <td>1</td>\n",
       "      <td>4024.803754</td>\n",
       "      <td>36</td>\n",
       "      <td>среднее</td>\n",
       "      <td>1</td>\n",
       "      <td>женат / замужем</td>\n",
       "      <td>0</td>\n",
       "      <td>F</td>\n",
       "      <td>сотрудник</td>\n",
       "      <td>0</td>\n",
       "      <td>112080.014102</td>\n",
       "      <td>приобретение автомобиля</td>\n",
       "    </tr>\n",
       "    <tr>\n",
       "      <th>2</th>\n",
       "      <td>0</td>\n",
       "      <td>5623.422610</td>\n",
       "      <td>33</td>\n",
       "      <td>Среднее</td>\n",
       "      <td>1</td>\n",
       "      <td>женат / замужем</td>\n",
       "      <td>0</td>\n",
       "      <td>M</td>\n",
       "      <td>сотрудник</td>\n",
       "      <td>0</td>\n",
       "      <td>145885.952297</td>\n",
       "      <td>покупка жилья</td>\n",
       "    </tr>\n",
       "    <tr>\n",
       "      <th>3</th>\n",
       "      <td>3</td>\n",
       "      <td>4124.747207</td>\n",
       "      <td>32</td>\n",
       "      <td>среднее</td>\n",
       "      <td>1</td>\n",
       "      <td>женат / замужем</td>\n",
       "      <td>0</td>\n",
       "      <td>M</td>\n",
       "      <td>сотрудник</td>\n",
       "      <td>0</td>\n",
       "      <td>267628.550329</td>\n",
       "      <td>дополнительное образование</td>\n",
       "    </tr>\n",
       "    <tr>\n",
       "      <th>4</th>\n",
       "      <td>0</td>\n",
       "      <td>340266.072047</td>\n",
       "      <td>53</td>\n",
       "      <td>среднее</td>\n",
       "      <td>1</td>\n",
       "      <td>гражданский брак</td>\n",
       "      <td>1</td>\n",
       "      <td>F</td>\n",
       "      <td>пенсионер</td>\n",
       "      <td>0</td>\n",
       "      <td>158616.077870</td>\n",
       "      <td>сыграть свадьбу</td>\n",
       "    </tr>\n",
       "    <tr>\n",
       "      <th>5</th>\n",
       "      <td>0</td>\n",
       "      <td>926.185831</td>\n",
       "      <td>27</td>\n",
       "      <td>высшее</td>\n",
       "      <td>0</td>\n",
       "      <td>гражданский брак</td>\n",
       "      <td>1</td>\n",
       "      <td>M</td>\n",
       "      <td>компаньон</td>\n",
       "      <td>0</td>\n",
       "      <td>255763.565419</td>\n",
       "      <td>покупка жилья</td>\n",
       "    </tr>\n",
       "    <tr>\n",
       "      <th>6</th>\n",
       "      <td>0</td>\n",
       "      <td>2879.202052</td>\n",
       "      <td>43</td>\n",
       "      <td>высшее</td>\n",
       "      <td>0</td>\n",
       "      <td>женат / замужем</td>\n",
       "      <td>0</td>\n",
       "      <td>F</td>\n",
       "      <td>компаньон</td>\n",
       "      <td>0</td>\n",
       "      <td>240525.971920</td>\n",
       "      <td>операции с жильем</td>\n",
       "    </tr>\n",
       "    <tr>\n",
       "      <th>7</th>\n",
       "      <td>0</td>\n",
       "      <td>152.779569</td>\n",
       "      <td>50</td>\n",
       "      <td>СРЕДНЕЕ</td>\n",
       "      <td>1</td>\n",
       "      <td>женат / замужем</td>\n",
       "      <td>0</td>\n",
       "      <td>M</td>\n",
       "      <td>сотрудник</td>\n",
       "      <td>0</td>\n",
       "      <td>135823.934197</td>\n",
       "      <td>образование</td>\n",
       "    </tr>\n",
       "    <tr>\n",
       "      <th>8</th>\n",
       "      <td>2</td>\n",
       "      <td>6929.865299</td>\n",
       "      <td>35</td>\n",
       "      <td>ВЫСШЕЕ</td>\n",
       "      <td>0</td>\n",
       "      <td>гражданский брак</td>\n",
       "      <td>1</td>\n",
       "      <td>F</td>\n",
       "      <td>сотрудник</td>\n",
       "      <td>0</td>\n",
       "      <td>95856.832424</td>\n",
       "      <td>на проведение свадьбы</td>\n",
       "    </tr>\n",
       "    <tr>\n",
       "      <th>9</th>\n",
       "      <td>0</td>\n",
       "      <td>2188.756445</td>\n",
       "      <td>41</td>\n",
       "      <td>среднее</td>\n",
       "      <td>1</td>\n",
       "      <td>женат / замужем</td>\n",
       "      <td>0</td>\n",
       "      <td>M</td>\n",
       "      <td>сотрудник</td>\n",
       "      <td>0</td>\n",
       "      <td>144425.938277</td>\n",
       "      <td>покупка жилья для семьи</td>\n",
       "    </tr>\n",
       "  </tbody>\n",
       "</table>\n",
       "</div>"
      ],
      "text/plain": [
       "   children  days_employed  dob_years education  education_id  \\\n",
       "0         1    8437.673028         42    высшее             0   \n",
       "1         1    4024.803754         36   среднее             1   \n",
       "2         0    5623.422610         33   Среднее             1   \n",
       "3         3    4124.747207         32   среднее             1   \n",
       "4         0  340266.072047         53   среднее             1   \n",
       "5         0     926.185831         27    высшее             0   \n",
       "6         0    2879.202052         43    высшее             0   \n",
       "7         0     152.779569         50   СРЕДНЕЕ             1   \n",
       "8         2    6929.865299         35    ВЫСШЕЕ             0   \n",
       "9         0    2188.756445         41   среднее             1   \n",
       "\n",
       "      family_status  family_status_id gender income_type  debt   total_income  \\\n",
       "0   женат / замужем                 0      F   сотрудник     0  253875.639453   \n",
       "1   женат / замужем                 0      F   сотрудник     0  112080.014102   \n",
       "2   женат / замужем                 0      M   сотрудник     0  145885.952297   \n",
       "3   женат / замужем                 0      M   сотрудник     0  267628.550329   \n",
       "4  гражданский брак                 1      F   пенсионер     0  158616.077870   \n",
       "5  гражданский брак                 1      M   компаньон     0  255763.565419   \n",
       "6   женат / замужем                 0      F   компаньон     0  240525.971920   \n",
       "7   женат / замужем                 0      M   сотрудник     0  135823.934197   \n",
       "8  гражданский брак                 1      F   сотрудник     0   95856.832424   \n",
       "9   женат / замужем                 0      M   сотрудник     0  144425.938277   \n",
       "\n",
       "                      purpose  \n",
       "0               покупка жилья  \n",
       "1     приобретение автомобиля  \n",
       "2               покупка жилья  \n",
       "3  дополнительное образование  \n",
       "4             сыграть свадьбу  \n",
       "5               покупка жилья  \n",
       "6           операции с жильем  \n",
       "7                 образование  \n",
       "8       на проведение свадьбы  \n",
       "9     покупка жилья для семьи  "
      ]
     },
     "metadata": {},
     "output_type": "display_data"
    }
   ],
   "source": [
    "# Получение первых 10 строк таблицы df\n",
    "display(df.head(10)) "
   ]
  },
  {
   "cell_type": "code",
   "execution_count": 8,
   "id": "4947137c",
   "metadata": {},
   "outputs": [
    {
     "data": {
      "text/plain": [
       "array([ 1,  0,  3,  2, -1,  4, 20,  5])"
      ]
     },
     "metadata": {},
     "output_type": "display_data"
    }
   ],
   "source": [
    "# Посмотрим уникальные значения в столбце children\n",
    "display(df['children'].unique()) "
   ]
  },
  {
   "cell_type": "markdown",
   "id": "30945cca",
   "metadata": {},
   "source": [
    "В столбце `children` есть отрицательные значения и подозрительное значение в 20 детей, хотя мировой рекорд 87."
   ]
  },
  {
   "cell_type": "code",
   "execution_count": 9,
   "id": "78d5db07",
   "metadata": {},
   "outputs": [
    {
     "data": {
      "text/html": [
       "<div>\n",
       "<style scoped>\n",
       "    .dataframe tbody tr th:only-of-type {\n",
       "        vertical-align: middle;\n",
       "    }\n",
       "\n",
       "    .dataframe tbody tr th {\n",
       "        vertical-align: top;\n",
       "    }\n",
       "\n",
       "    .dataframe thead th {\n",
       "        text-align: right;\n",
       "    }\n",
       "</style>\n",
       "<table border=\"1\" class=\"dataframe\">\n",
       "  <thead>\n",
       "    <tr style=\"text-align: right;\">\n",
       "      <th></th>\n",
       "      <th>children</th>\n",
       "      <th>days_employed</th>\n",
       "      <th>dob_years</th>\n",
       "      <th>education</th>\n",
       "      <th>education_id</th>\n",
       "      <th>family_status</th>\n",
       "      <th>family_status_id</th>\n",
       "      <th>gender</th>\n",
       "      <th>income_type</th>\n",
       "      <th>debt</th>\n",
       "      <th>total_income</th>\n",
       "      <th>purpose</th>\n",
       "    </tr>\n",
       "  </thead>\n",
       "  <tbody>\n",
       "    <tr>\n",
       "      <th>606</th>\n",
       "      <td>20</td>\n",
       "      <td>880.221113</td>\n",
       "      <td>21</td>\n",
       "      <td>среднее</td>\n",
       "      <td>1</td>\n",
       "      <td>женат / замужем</td>\n",
       "      <td>0</td>\n",
       "      <td>M</td>\n",
       "      <td>компаньон</td>\n",
       "      <td>0</td>\n",
       "      <td>145334.865002</td>\n",
       "      <td>покупка жилья</td>\n",
       "    </tr>\n",
       "    <tr>\n",
       "      <th>720</th>\n",
       "      <td>20</td>\n",
       "      <td>855.595512</td>\n",
       "      <td>44</td>\n",
       "      <td>среднее</td>\n",
       "      <td>1</td>\n",
       "      <td>женат / замужем</td>\n",
       "      <td>0</td>\n",
       "      <td>F</td>\n",
       "      <td>компаньон</td>\n",
       "      <td>0</td>\n",
       "      <td>112998.738649</td>\n",
       "      <td>покупка недвижимости</td>\n",
       "    </tr>\n",
       "    <tr>\n",
       "      <th>1074</th>\n",
       "      <td>20</td>\n",
       "      <td>3310.411598</td>\n",
       "      <td>56</td>\n",
       "      <td>среднее</td>\n",
       "      <td>1</td>\n",
       "      <td>женат / замужем</td>\n",
       "      <td>0</td>\n",
       "      <td>F</td>\n",
       "      <td>сотрудник</td>\n",
       "      <td>1</td>\n",
       "      <td>229518.537004</td>\n",
       "      <td>получение образования</td>\n",
       "    </tr>\n",
       "    <tr>\n",
       "      <th>2510</th>\n",
       "      <td>20</td>\n",
       "      <td>2714.161249</td>\n",
       "      <td>59</td>\n",
       "      <td>высшее</td>\n",
       "      <td>0</td>\n",
       "      <td>вдовец / вдова</td>\n",
       "      <td>2</td>\n",
       "      <td>F</td>\n",
       "      <td>сотрудник</td>\n",
       "      <td>0</td>\n",
       "      <td>264474.835577</td>\n",
       "      <td>операции с коммерческой недвижимостью</td>\n",
       "    </tr>\n",
       "    <tr>\n",
       "      <th>2941</th>\n",
       "      <td>20</td>\n",
       "      <td>2161.591519</td>\n",
       "      <td>0</td>\n",
       "      <td>среднее</td>\n",
       "      <td>1</td>\n",
       "      <td>женат / замужем</td>\n",
       "      <td>0</td>\n",
       "      <td>F</td>\n",
       "      <td>сотрудник</td>\n",
       "      <td>0</td>\n",
       "      <td>199739.941398</td>\n",
       "      <td>на покупку автомобиля</td>\n",
       "    </tr>\n",
       "    <tr>\n",
       "      <th>...</th>\n",
       "      <td>...</td>\n",
       "      <td>...</td>\n",
       "      <td>...</td>\n",
       "      <td>...</td>\n",
       "      <td>...</td>\n",
       "      <td>...</td>\n",
       "      <td>...</td>\n",
       "      <td>...</td>\n",
       "      <td>...</td>\n",
       "      <td>...</td>\n",
       "      <td>...</td>\n",
       "      <td>...</td>\n",
       "    </tr>\n",
       "    <tr>\n",
       "      <th>21008</th>\n",
       "      <td>20</td>\n",
       "      <td>1240.257910</td>\n",
       "      <td>40</td>\n",
       "      <td>среднее</td>\n",
       "      <td>1</td>\n",
       "      <td>женат / замужем</td>\n",
       "      <td>0</td>\n",
       "      <td>F</td>\n",
       "      <td>сотрудник</td>\n",
       "      <td>1</td>\n",
       "      <td>133524.010303</td>\n",
       "      <td>свой автомобиль</td>\n",
       "    </tr>\n",
       "    <tr>\n",
       "      <th>21325</th>\n",
       "      <td>20</td>\n",
       "      <td>601.174883</td>\n",
       "      <td>37</td>\n",
       "      <td>среднее</td>\n",
       "      <td>1</td>\n",
       "      <td>женат / замужем</td>\n",
       "      <td>0</td>\n",
       "      <td>F</td>\n",
       "      <td>компаньон</td>\n",
       "      <td>0</td>\n",
       "      <td>102986.065978</td>\n",
       "      <td>профильное образование</td>\n",
       "    </tr>\n",
       "    <tr>\n",
       "      <th>21390</th>\n",
       "      <td>20</td>\n",
       "      <td>NaN</td>\n",
       "      <td>53</td>\n",
       "      <td>среднее</td>\n",
       "      <td>1</td>\n",
       "      <td>женат / замужем</td>\n",
       "      <td>0</td>\n",
       "      <td>M</td>\n",
       "      <td>компаньон</td>\n",
       "      <td>0</td>\n",
       "      <td>NaN</td>\n",
       "      <td>покупка жилой недвижимости</td>\n",
       "    </tr>\n",
       "    <tr>\n",
       "      <th>21404</th>\n",
       "      <td>20</td>\n",
       "      <td>494.788448</td>\n",
       "      <td>52</td>\n",
       "      <td>среднее</td>\n",
       "      <td>1</td>\n",
       "      <td>женат / замужем</td>\n",
       "      <td>0</td>\n",
       "      <td>M</td>\n",
       "      <td>компаньон</td>\n",
       "      <td>0</td>\n",
       "      <td>156629.683642</td>\n",
       "      <td>операции со своей недвижимостью</td>\n",
       "    </tr>\n",
       "    <tr>\n",
       "      <th>21491</th>\n",
       "      <td>20</td>\n",
       "      <td>173.954460</td>\n",
       "      <td>27</td>\n",
       "      <td>среднее</td>\n",
       "      <td>1</td>\n",
       "      <td>женат / замужем</td>\n",
       "      <td>0</td>\n",
       "      <td>F</td>\n",
       "      <td>сотрудник</td>\n",
       "      <td>0</td>\n",
       "      <td>155520.899688</td>\n",
       "      <td>на покупку подержанного автомобиля</td>\n",
       "    </tr>\n",
       "  </tbody>\n",
       "</table>\n",
       "<p>76 rows × 12 columns</p>\n",
       "</div>"
      ],
      "text/plain": [
       "       children  days_employed  dob_years education  education_id  \\\n",
       "606          20     880.221113         21   среднее             1   \n",
       "720          20     855.595512         44   среднее             1   \n",
       "1074         20    3310.411598         56   среднее             1   \n",
       "2510         20    2714.161249         59    высшее             0   \n",
       "2941         20    2161.591519          0   среднее             1   \n",
       "...         ...            ...        ...       ...           ...   \n",
       "21008        20    1240.257910         40   среднее             1   \n",
       "21325        20     601.174883         37   среднее             1   \n",
       "21390        20            NaN         53   среднее             1   \n",
       "21404        20     494.788448         52   среднее             1   \n",
       "21491        20     173.954460         27   среднее             1   \n",
       "\n",
       "         family_status  family_status_id gender income_type  debt  \\\n",
       "606    женат / замужем                 0      M   компаньон     0   \n",
       "720    женат / замужем                 0      F   компаньон     0   \n",
       "1074   женат / замужем                 0      F   сотрудник     1   \n",
       "2510    вдовец / вдова                 2      F   сотрудник     0   \n",
       "2941   женат / замужем                 0      F   сотрудник     0   \n",
       "...                ...               ...    ...         ...   ...   \n",
       "21008  женат / замужем                 0      F   сотрудник     1   \n",
       "21325  женат / замужем                 0      F   компаньон     0   \n",
       "21390  женат / замужем                 0      M   компаньон     0   \n",
       "21404  женат / замужем                 0      M   компаньон     0   \n",
       "21491  женат / замужем                 0      F   сотрудник     0   \n",
       "\n",
       "        total_income                                purpose  \n",
       "606    145334.865002                          покупка жилья  \n",
       "720    112998.738649                   покупка недвижимости  \n",
       "1074   229518.537004                  получение образования  \n",
       "2510   264474.835577  операции с коммерческой недвижимостью  \n",
       "2941   199739.941398                  на покупку автомобиля  \n",
       "...              ...                                    ...  \n",
       "21008  133524.010303                        свой автомобиль  \n",
       "21325  102986.065978                 профильное образование  \n",
       "21390            NaN             покупка жилой недвижимости  \n",
       "21404  156629.683642        операции со своей недвижимостью  \n",
       "21491  155520.899688     на покупку подержанного автомобиля  \n",
       "\n",
       "[76 rows x 12 columns]"
      ]
     },
     "metadata": {},
     "output_type": "display_data"
    }
   ],
   "source": [
    "# Отфильтруем данные. Посмотрим сколько людей с таким колличеством детей\n",
    "display(df[df['children'] == 20]) "
   ]
  },
  {
   "cell_type": "markdown",
   "id": "89073379",
   "metadata": {},
   "source": [
    "Видно что таких записей 76. Т.е. 76 людей имеют по 20 детей. Это ошибка,\n",
    "изменим число 20 на 2."
   ]
  },
  {
   "cell_type": "code",
   "execution_count": 10,
   "id": "d8f56ac5",
   "metadata": {},
   "outputs": [],
   "source": [
    "# Используем abs функцию, которая измененит отрицательных значений на положительные в столбце children\n",
    "df['children'] = df['children'].abs() "
   ]
  },
  {
   "cell_type": "code",
   "execution_count": 11,
   "id": "ec15ba65",
   "metadata": {},
   "outputs": [],
   "source": [
    "# Используем функцию loc, которая заменит в колонке children значения 20 на 2\n",
    "df.loc[(df.children == 20), 'children'] = 2 "
   ]
  },
  {
   "cell_type": "code",
   "execution_count": 12,
   "id": "29209daf",
   "metadata": {},
   "outputs": [
    {
     "data": {
      "text/plain": [
       "array([1, 0, 3, 2, 4, 5])"
      ]
     },
     "metadata": {},
     "output_type": "display_data"
    }
   ],
   "source": [
    "# Посмотрим еще раз уникальные значения в столбце children\n",
    "display(df['children'].unique()) "
   ]
  },
  {
   "cell_type": "markdown",
   "id": "93333572",
   "metadata": {},
   "source": [
    "**Выводы**\n",
    "\n",
    "Отрицательные и подозрительные значения в столбцах `days_employed` и `children` убраны. Теперь данные смотрятся лучше."
   ]
  },
  {
   "cell_type": "markdown",
   "id": "3003a091",
   "metadata": {},
   "source": [
    "### Заполнение пропусков"
   ]
  },
  {
   "cell_type": "markdown",
   "id": "02577f29",
   "metadata": {},
   "source": [
    "Посмотрим какое количество пропусков и в каких колонках:"
   ]
  },
  {
   "cell_type": "code",
   "execution_count": 13,
   "id": "92ded537",
   "metadata": {},
   "outputs": [
    {
     "data": {
      "text/plain": [
       "children               0\n",
       "days_employed       2174\n",
       "dob_years              0\n",
       "education              0\n",
       "education_id           0\n",
       "family_status          0\n",
       "family_status_id       0\n",
       "gender                 0\n",
       "income_type            0\n",
       "debt                   0\n",
       "total_income        2174\n",
       "purpose                0\n",
       "dtype: int64"
      ]
     },
     "metadata": {},
     "output_type": "display_data"
    }
   ],
   "source": [
    "# Вызываем метод isna, чтобы увидеть, где есть пропуски и посчитаем их методом sum \n",
    "display(df.isna().sum()) "
   ]
  },
  {
   "cell_type": "markdown",
   "id": "2dd7e6f2",
   "metadata": {},
   "source": [
    "В столбцах `days_employed` и `total_income` 2174 пустых значения"
   ]
  },
  {
   "cell_type": "markdown",
   "id": "d7cc7979",
   "metadata": {},
   "source": [
    "Посмотрим что это за пустые значения в столбцах `days_employed` и `total_income`:"
   ]
  },
  {
   "cell_type": "code",
   "execution_count": 14,
   "id": "9d4968fc",
   "metadata": {},
   "outputs": [
    {
     "data": {
      "text/html": [
       "<div>\n",
       "<style scoped>\n",
       "    .dataframe tbody tr th:only-of-type {\n",
       "        vertical-align: middle;\n",
       "    }\n",
       "\n",
       "    .dataframe tbody tr th {\n",
       "        vertical-align: top;\n",
       "    }\n",
       "\n",
       "    .dataframe thead th {\n",
       "        text-align: right;\n",
       "    }\n",
       "</style>\n",
       "<table border=\"1\" class=\"dataframe\">\n",
       "  <thead>\n",
       "    <tr style=\"text-align: right;\">\n",
       "      <th></th>\n",
       "      <th>children</th>\n",
       "      <th>days_employed</th>\n",
       "      <th>dob_years</th>\n",
       "      <th>education</th>\n",
       "      <th>education_id</th>\n",
       "      <th>family_status</th>\n",
       "      <th>family_status_id</th>\n",
       "      <th>gender</th>\n",
       "      <th>income_type</th>\n",
       "      <th>debt</th>\n",
       "      <th>total_income</th>\n",
       "      <th>purpose</th>\n",
       "    </tr>\n",
       "  </thead>\n",
       "  <tbody>\n",
       "    <tr>\n",
       "      <th>12</th>\n",
       "      <td>0</td>\n",
       "      <td>NaN</td>\n",
       "      <td>65</td>\n",
       "      <td>среднее</td>\n",
       "      <td>1</td>\n",
       "      <td>гражданский брак</td>\n",
       "      <td>1</td>\n",
       "      <td>M</td>\n",
       "      <td>пенсионер</td>\n",
       "      <td>0</td>\n",
       "      <td>NaN</td>\n",
       "      <td>сыграть свадьбу</td>\n",
       "    </tr>\n",
       "    <tr>\n",
       "      <th>26</th>\n",
       "      <td>0</td>\n",
       "      <td>NaN</td>\n",
       "      <td>41</td>\n",
       "      <td>среднее</td>\n",
       "      <td>1</td>\n",
       "      <td>женат / замужем</td>\n",
       "      <td>0</td>\n",
       "      <td>M</td>\n",
       "      <td>госслужащий</td>\n",
       "      <td>0</td>\n",
       "      <td>NaN</td>\n",
       "      <td>образование</td>\n",
       "    </tr>\n",
       "    <tr>\n",
       "      <th>29</th>\n",
       "      <td>0</td>\n",
       "      <td>NaN</td>\n",
       "      <td>63</td>\n",
       "      <td>среднее</td>\n",
       "      <td>1</td>\n",
       "      <td>Не женат / не замужем</td>\n",
       "      <td>4</td>\n",
       "      <td>F</td>\n",
       "      <td>пенсионер</td>\n",
       "      <td>0</td>\n",
       "      <td>NaN</td>\n",
       "      <td>строительство жилой недвижимости</td>\n",
       "    </tr>\n",
       "    <tr>\n",
       "      <th>41</th>\n",
       "      <td>0</td>\n",
       "      <td>NaN</td>\n",
       "      <td>50</td>\n",
       "      <td>среднее</td>\n",
       "      <td>1</td>\n",
       "      <td>женат / замужем</td>\n",
       "      <td>0</td>\n",
       "      <td>F</td>\n",
       "      <td>госслужащий</td>\n",
       "      <td>0</td>\n",
       "      <td>NaN</td>\n",
       "      <td>сделка с подержанным автомобилем</td>\n",
       "    </tr>\n",
       "    <tr>\n",
       "      <th>55</th>\n",
       "      <td>0</td>\n",
       "      <td>NaN</td>\n",
       "      <td>54</td>\n",
       "      <td>среднее</td>\n",
       "      <td>1</td>\n",
       "      <td>гражданский брак</td>\n",
       "      <td>1</td>\n",
       "      <td>F</td>\n",
       "      <td>пенсионер</td>\n",
       "      <td>1</td>\n",
       "      <td>NaN</td>\n",
       "      <td>сыграть свадьбу</td>\n",
       "    </tr>\n",
       "    <tr>\n",
       "      <th>65</th>\n",
       "      <td>0</td>\n",
       "      <td>NaN</td>\n",
       "      <td>21</td>\n",
       "      <td>среднее</td>\n",
       "      <td>1</td>\n",
       "      <td>Не женат / не замужем</td>\n",
       "      <td>4</td>\n",
       "      <td>M</td>\n",
       "      <td>компаньон</td>\n",
       "      <td>0</td>\n",
       "      <td>NaN</td>\n",
       "      <td>операции с коммерческой недвижимостью</td>\n",
       "    </tr>\n",
       "    <tr>\n",
       "      <th>67</th>\n",
       "      <td>0</td>\n",
       "      <td>NaN</td>\n",
       "      <td>52</td>\n",
       "      <td>высшее</td>\n",
       "      <td>0</td>\n",
       "      <td>женат / замужем</td>\n",
       "      <td>0</td>\n",
       "      <td>F</td>\n",
       "      <td>пенсионер</td>\n",
       "      <td>0</td>\n",
       "      <td>NaN</td>\n",
       "      <td>покупка жилья для семьи</td>\n",
       "    </tr>\n",
       "    <tr>\n",
       "      <th>72</th>\n",
       "      <td>1</td>\n",
       "      <td>NaN</td>\n",
       "      <td>32</td>\n",
       "      <td>высшее</td>\n",
       "      <td>0</td>\n",
       "      <td>женат / замужем</td>\n",
       "      <td>0</td>\n",
       "      <td>M</td>\n",
       "      <td>госслужащий</td>\n",
       "      <td>0</td>\n",
       "      <td>NaN</td>\n",
       "      <td>операции с коммерческой недвижимостью</td>\n",
       "    </tr>\n",
       "    <tr>\n",
       "      <th>82</th>\n",
       "      <td>2</td>\n",
       "      <td>NaN</td>\n",
       "      <td>50</td>\n",
       "      <td>высшее</td>\n",
       "      <td>0</td>\n",
       "      <td>женат / замужем</td>\n",
       "      <td>0</td>\n",
       "      <td>F</td>\n",
       "      <td>сотрудник</td>\n",
       "      <td>0</td>\n",
       "      <td>NaN</td>\n",
       "      <td>жилье</td>\n",
       "    </tr>\n",
       "    <tr>\n",
       "      <th>83</th>\n",
       "      <td>0</td>\n",
       "      <td>NaN</td>\n",
       "      <td>52</td>\n",
       "      <td>среднее</td>\n",
       "      <td>1</td>\n",
       "      <td>женат / замужем</td>\n",
       "      <td>0</td>\n",
       "      <td>M</td>\n",
       "      <td>сотрудник</td>\n",
       "      <td>0</td>\n",
       "      <td>NaN</td>\n",
       "      <td>жилье</td>\n",
       "    </tr>\n",
       "  </tbody>\n",
       "</table>\n",
       "</div>"
      ],
      "text/plain": [
       "    children  days_employed  dob_years education  education_id  \\\n",
       "12         0            NaN         65   среднее             1   \n",
       "26         0            NaN         41   среднее             1   \n",
       "29         0            NaN         63   среднее             1   \n",
       "41         0            NaN         50   среднее             1   \n",
       "55         0            NaN         54   среднее             1   \n",
       "65         0            NaN         21   среднее             1   \n",
       "67         0            NaN         52    высшее             0   \n",
       "72         1            NaN         32    высшее             0   \n",
       "82         2            NaN         50    высшее             0   \n",
       "83         0            NaN         52   среднее             1   \n",
       "\n",
       "            family_status  family_status_id gender  income_type  debt  \\\n",
       "12       гражданский брак                 1      M    пенсионер     0   \n",
       "26        женат / замужем                 0      M  госслужащий     0   \n",
       "29  Не женат / не замужем                 4      F    пенсионер     0   \n",
       "41        женат / замужем                 0      F  госслужащий     0   \n",
       "55       гражданский брак                 1      F    пенсионер     1   \n",
       "65  Не женат / не замужем                 4      M    компаньон     0   \n",
       "67        женат / замужем                 0      F    пенсионер     0   \n",
       "72        женат / замужем                 0      M  госслужащий     0   \n",
       "82        женат / замужем                 0      F    сотрудник     0   \n",
       "83        женат / замужем                 0      M    сотрудник     0   \n",
       "\n",
       "    total_income                                purpose  \n",
       "12           NaN                        сыграть свадьбу  \n",
       "26           NaN                            образование  \n",
       "29           NaN       строительство жилой недвижимости  \n",
       "41           NaN       сделка с подержанным автомобилем  \n",
       "55           NaN                        сыграть свадьбу  \n",
       "65           NaN  операции с коммерческой недвижимостью  \n",
       "67           NaN                покупка жилья для семьи  \n",
       "72           NaN  операции с коммерческой недвижимостью  \n",
       "82           NaN                                  жилье  \n",
       "83           NaN                                  жилье  "
      ]
     },
     "metadata": {},
     "output_type": "display_data"
    }
   ],
   "source": [
    "# Посмотрим 10 пустых значений столбца days_employed используя метод isna и head\n",
    "display(df[df['days_employed'].isna()].head(10)) "
   ]
  },
  {
   "cell_type": "code",
   "execution_count": 15,
   "id": "bbeeb992",
   "metadata": {},
   "outputs": [
    {
     "data": {
      "text/html": [
       "<div>\n",
       "<style scoped>\n",
       "    .dataframe tbody tr th:only-of-type {\n",
       "        vertical-align: middle;\n",
       "    }\n",
       "\n",
       "    .dataframe tbody tr th {\n",
       "        vertical-align: top;\n",
       "    }\n",
       "\n",
       "    .dataframe thead th {\n",
       "        text-align: right;\n",
       "    }\n",
       "</style>\n",
       "<table border=\"1\" class=\"dataframe\">\n",
       "  <thead>\n",
       "    <tr style=\"text-align: right;\">\n",
       "      <th></th>\n",
       "      <th>children</th>\n",
       "      <th>days_employed</th>\n",
       "      <th>dob_years</th>\n",
       "      <th>education</th>\n",
       "      <th>education_id</th>\n",
       "      <th>family_status</th>\n",
       "      <th>family_status_id</th>\n",
       "      <th>gender</th>\n",
       "      <th>income_type</th>\n",
       "      <th>debt</th>\n",
       "      <th>total_income</th>\n",
       "      <th>purpose</th>\n",
       "    </tr>\n",
       "  </thead>\n",
       "  <tbody>\n",
       "    <tr>\n",
       "      <th>12</th>\n",
       "      <td>0</td>\n",
       "      <td>NaN</td>\n",
       "      <td>65</td>\n",
       "      <td>среднее</td>\n",
       "      <td>1</td>\n",
       "      <td>гражданский брак</td>\n",
       "      <td>1</td>\n",
       "      <td>M</td>\n",
       "      <td>пенсионер</td>\n",
       "      <td>0</td>\n",
       "      <td>NaN</td>\n",
       "      <td>сыграть свадьбу</td>\n",
       "    </tr>\n",
       "    <tr>\n",
       "      <th>26</th>\n",
       "      <td>0</td>\n",
       "      <td>NaN</td>\n",
       "      <td>41</td>\n",
       "      <td>среднее</td>\n",
       "      <td>1</td>\n",
       "      <td>женат / замужем</td>\n",
       "      <td>0</td>\n",
       "      <td>M</td>\n",
       "      <td>госслужащий</td>\n",
       "      <td>0</td>\n",
       "      <td>NaN</td>\n",
       "      <td>образование</td>\n",
       "    </tr>\n",
       "    <tr>\n",
       "      <th>29</th>\n",
       "      <td>0</td>\n",
       "      <td>NaN</td>\n",
       "      <td>63</td>\n",
       "      <td>среднее</td>\n",
       "      <td>1</td>\n",
       "      <td>Не женат / не замужем</td>\n",
       "      <td>4</td>\n",
       "      <td>F</td>\n",
       "      <td>пенсионер</td>\n",
       "      <td>0</td>\n",
       "      <td>NaN</td>\n",
       "      <td>строительство жилой недвижимости</td>\n",
       "    </tr>\n",
       "    <tr>\n",
       "      <th>41</th>\n",
       "      <td>0</td>\n",
       "      <td>NaN</td>\n",
       "      <td>50</td>\n",
       "      <td>среднее</td>\n",
       "      <td>1</td>\n",
       "      <td>женат / замужем</td>\n",
       "      <td>0</td>\n",
       "      <td>F</td>\n",
       "      <td>госслужащий</td>\n",
       "      <td>0</td>\n",
       "      <td>NaN</td>\n",
       "      <td>сделка с подержанным автомобилем</td>\n",
       "    </tr>\n",
       "    <tr>\n",
       "      <th>55</th>\n",
       "      <td>0</td>\n",
       "      <td>NaN</td>\n",
       "      <td>54</td>\n",
       "      <td>среднее</td>\n",
       "      <td>1</td>\n",
       "      <td>гражданский брак</td>\n",
       "      <td>1</td>\n",
       "      <td>F</td>\n",
       "      <td>пенсионер</td>\n",
       "      <td>1</td>\n",
       "      <td>NaN</td>\n",
       "      <td>сыграть свадьбу</td>\n",
       "    </tr>\n",
       "    <tr>\n",
       "      <th>65</th>\n",
       "      <td>0</td>\n",
       "      <td>NaN</td>\n",
       "      <td>21</td>\n",
       "      <td>среднее</td>\n",
       "      <td>1</td>\n",
       "      <td>Не женат / не замужем</td>\n",
       "      <td>4</td>\n",
       "      <td>M</td>\n",
       "      <td>компаньон</td>\n",
       "      <td>0</td>\n",
       "      <td>NaN</td>\n",
       "      <td>операции с коммерческой недвижимостью</td>\n",
       "    </tr>\n",
       "    <tr>\n",
       "      <th>67</th>\n",
       "      <td>0</td>\n",
       "      <td>NaN</td>\n",
       "      <td>52</td>\n",
       "      <td>высшее</td>\n",
       "      <td>0</td>\n",
       "      <td>женат / замужем</td>\n",
       "      <td>0</td>\n",
       "      <td>F</td>\n",
       "      <td>пенсионер</td>\n",
       "      <td>0</td>\n",
       "      <td>NaN</td>\n",
       "      <td>покупка жилья для семьи</td>\n",
       "    </tr>\n",
       "    <tr>\n",
       "      <th>72</th>\n",
       "      <td>1</td>\n",
       "      <td>NaN</td>\n",
       "      <td>32</td>\n",
       "      <td>высшее</td>\n",
       "      <td>0</td>\n",
       "      <td>женат / замужем</td>\n",
       "      <td>0</td>\n",
       "      <td>M</td>\n",
       "      <td>госслужащий</td>\n",
       "      <td>0</td>\n",
       "      <td>NaN</td>\n",
       "      <td>операции с коммерческой недвижимостью</td>\n",
       "    </tr>\n",
       "    <tr>\n",
       "      <th>82</th>\n",
       "      <td>2</td>\n",
       "      <td>NaN</td>\n",
       "      <td>50</td>\n",
       "      <td>высшее</td>\n",
       "      <td>0</td>\n",
       "      <td>женат / замужем</td>\n",
       "      <td>0</td>\n",
       "      <td>F</td>\n",
       "      <td>сотрудник</td>\n",
       "      <td>0</td>\n",
       "      <td>NaN</td>\n",
       "      <td>жилье</td>\n",
       "    </tr>\n",
       "    <tr>\n",
       "      <th>83</th>\n",
       "      <td>0</td>\n",
       "      <td>NaN</td>\n",
       "      <td>52</td>\n",
       "      <td>среднее</td>\n",
       "      <td>1</td>\n",
       "      <td>женат / замужем</td>\n",
       "      <td>0</td>\n",
       "      <td>M</td>\n",
       "      <td>сотрудник</td>\n",
       "      <td>0</td>\n",
       "      <td>NaN</td>\n",
       "      <td>жилье</td>\n",
       "    </tr>\n",
       "  </tbody>\n",
       "</table>\n",
       "</div>"
      ],
      "text/plain": [
       "    children  days_employed  dob_years education  education_id  \\\n",
       "12         0            NaN         65   среднее             1   \n",
       "26         0            NaN         41   среднее             1   \n",
       "29         0            NaN         63   среднее             1   \n",
       "41         0            NaN         50   среднее             1   \n",
       "55         0            NaN         54   среднее             1   \n",
       "65         0            NaN         21   среднее             1   \n",
       "67         0            NaN         52    высшее             0   \n",
       "72         1            NaN         32    высшее             0   \n",
       "82         2            NaN         50    высшее             0   \n",
       "83         0            NaN         52   среднее             1   \n",
       "\n",
       "            family_status  family_status_id gender  income_type  debt  \\\n",
       "12       гражданский брак                 1      M    пенсионер     0   \n",
       "26        женат / замужем                 0      M  госслужащий     0   \n",
       "29  Не женат / не замужем                 4      F    пенсионер     0   \n",
       "41        женат / замужем                 0      F  госслужащий     0   \n",
       "55       гражданский брак                 1      F    пенсионер     1   \n",
       "65  Не женат / не замужем                 4      M    компаньон     0   \n",
       "67        женат / замужем                 0      F    пенсионер     0   \n",
       "72        женат / замужем                 0      M  госслужащий     0   \n",
       "82        женат / замужем                 0      F    сотрудник     0   \n",
       "83        женат / замужем                 0      M    сотрудник     0   \n",
       "\n",
       "    total_income                                purpose  \n",
       "12           NaN                        сыграть свадьбу  \n",
       "26           NaN                            образование  \n",
       "29           NaN       строительство жилой недвижимости  \n",
       "41           NaN       сделка с подержанным автомобилем  \n",
       "55           NaN                        сыграть свадьбу  \n",
       "65           NaN  операции с коммерческой недвижимостью  \n",
       "67           NaN                покупка жилья для семьи  \n",
       "72           NaN  операции с коммерческой недвижимостью  \n",
       "82           NaN                                  жилье  \n",
       "83           NaN                                  жилье  "
      ]
     },
     "metadata": {},
     "output_type": "display_data"
    }
   ],
   "source": [
    "# Посмотрим 10 пустых значений столбца total_income\n",
    "display(df[df['total_income'].isna()].head(10)) "
   ]
  },
  {
   "cell_type": "markdown",
   "id": "76d7215f",
   "metadata": {},
   "source": [
    "Видим пустое значение `NaN` он принадлежит к типу `float` с ним можно совершать математические операции"
   ]
  },
  {
   "cell_type": "markdown",
   "id": "b0a6b273",
   "metadata": {},
   "source": [
    "Посмотрим, какую долю составляют пропущенные значения в каждом из столбцов с пропусками"
   ]
  },
  {
   "cell_type": "code",
   "execution_count": 16,
   "id": "3e0a7edb",
   "metadata": {},
   "outputs": [],
   "source": [
    "# Создаем переменную df_ratio_days_employed_isna, \n",
    "# в которой посчитаем долю пропущенных значений в столбце days_employed\n",
    "df_ratio_days_employed_isna = df['days_employed'].isna().sum()/len(df['days_employed'])*100 "
   ]
  },
  {
   "cell_type": "code",
   "execution_count": 17,
   "id": "4b5ce9bc",
   "metadata": {},
   "outputs": [],
   "source": [
    "# Создаем переменную df_ratio_days_total_income, \n",
    "# в которой посчитаем долю пропущенных значений в столбце total_income\n",
    "df_ratio_days_total_income = df['total_income'].isna().sum()/len(df['total_income'])*100 "
   ]
  },
  {
   "cell_type": "code",
   "execution_count": 18,
   "id": "226f2754",
   "metadata": {},
   "outputs": [
    {
     "data": {
      "text/plain": [
       "'Доля пропущенных значений в столбце days_employed: 10%'"
      ]
     },
     "metadata": {},
     "output_type": "display_data"
    }
   ],
   "source": [
    "# Посмотрим долю пропущенных значений в столбце days_employed \n",
    "display(f'Доля пропущенных значений в столбце days_employed: {int(df_ratio_days_employed_isna)}%') "
   ]
  },
  {
   "cell_type": "code",
   "execution_count": 19,
   "id": "c0f051ae",
   "metadata": {},
   "outputs": [
    {
     "data": {
      "text/plain": [
       "'Доля пропущенных значений в столбце total_income: 10%'"
      ]
     },
     "metadata": {},
     "output_type": "display_data"
    }
   ],
   "source": [
    "# Посмотрим долю пропущенных значений в столбце total_income \n",
    "display(f'Доля пропущенных значений в столбце total_income: {int(df_ratio_days_total_income)}%') "
   ]
  },
  {
   "cell_type": "markdown",
   "id": "9e5b2165",
   "metadata": {},
   "source": [
    "В столбцах `days_employed` и `total_income` доля пропущенных значений составила: 10%. Возможно просто не указали свой трудовой стаж работы."
   ]
  },
  {
   "cell_type": "markdown",
   "id": "19a30d3e",
   "metadata": {},
   "source": [
    "Заполним пропущенные значения медианой. Т.к в выборке есть выборке есть выдающиеся значения. "
   ]
  },
  {
   "cell_type": "code",
   "execution_count": 21,
   "id": "558d375c",
   "metadata": {},
   "outputs": [],
   "source": [
    "# Создадим новую переменную df_days_employed_median и получим медианное значение (с помощью метода .median()),\n",
    "# в стобце days_employed \n",
    "df_days_employed_median = df['days_employed'].median() "
   ]
  },
  {
   "cell_type": "code",
   "execution_count": 22,
   "id": "079a55aa",
   "metadata": {},
   "outputs": [],
   "source": [
    "# Создадим новую переменную df_total_income_median и получим медианное значение (с помощью метода .median()),\n",
    "# в стобце total_income\n",
    "df_total_income_median = df['total_income'].median() "
   ]
  },
  {
   "cell_type": "code",
   "execution_count": 23,
   "id": "9835ed12",
   "metadata": {},
   "outputs": [],
   "source": [
    "# Используем метод fillna() для заполнения пропусков медианой\n",
    "df['days_employed'].fillna(df_days_employed_median, inplace = True) "
   ]
  },
  {
   "cell_type": "code",
   "execution_count": 24,
   "id": "e88577e6",
   "metadata": {},
   "outputs": [],
   "source": [
    "# Используем метод fillna() для заполнения пропусков медианой\n",
    "df['total_income'].fillna(df_total_income_median, inplace = True) "
   ]
  },
  {
   "cell_type": "code",
   "execution_count": 25,
   "id": "771e4763",
   "metadata": {},
   "outputs": [
    {
     "data": {
      "text/plain": [
       "children            0\n",
       "days_employed       0\n",
       "dob_years           0\n",
       "education           0\n",
       "education_id        0\n",
       "family_status       0\n",
       "family_status_id    0\n",
       "gender              0\n",
       "income_type         0\n",
       "debt                0\n",
       "total_income        0\n",
       "purpose             0\n",
       "dtype: int64"
      ]
     },
     "metadata": {},
     "output_type": "display_data"
    }
   ],
   "source": [
    "# Вызываем метод isna, чтобы увидеть, остались ли пропуски\n",
    "display(df.isna().sum()) "
   ]
  },
  {
   "cell_type": "markdown",
   "id": "c66d9e2f",
   "metadata": {},
   "source": [
    "**Выводы**\n",
    "\n",
    "Пропусков в колоках больше нет, они заменены на медиану."
   ]
  },
  {
   "cell_type": "markdown",
   "id": "3aa8d9ef",
   "metadata": {},
   "source": [
    "### Изменение типов данных."
   ]
  },
  {
   "cell_type": "code",
   "execution_count": 26,
   "id": "662f337a",
   "metadata": {},
   "outputs": [],
   "source": [
    "# Используем функцию astype для изменения типа данных на целочисленный в колонке total_income\n",
    "df['total_income'] = df['total_income'].astype(int) "
   ]
  },
  {
   "cell_type": "code",
   "execution_count": 27,
   "id": "7b905aaf",
   "metadata": {},
   "outputs": [
    {
     "name": "stdout",
     "output_type": "stream",
     "text": [
      "<class 'pandas.core.frame.DataFrame'>\n",
      "RangeIndex: 21525 entries, 0 to 21524\n",
      "Data columns (total 12 columns):\n",
      " #   Column            Non-Null Count  Dtype  \n",
      "---  ------            --------------  -----  \n",
      " 0   children          21525 non-null  int64  \n",
      " 1   days_employed     21525 non-null  float64\n",
      " 2   dob_years         21525 non-null  int64  \n",
      " 3   education         21525 non-null  object \n",
      " 4   education_id      21525 non-null  int64  \n",
      " 5   family_status     21525 non-null  object \n",
      " 6   family_status_id  21525 non-null  int64  \n",
      " 7   gender            21525 non-null  object \n",
      " 8   income_type       21525 non-null  object \n",
      " 9   debt              21525 non-null  int64  \n",
      " 10  total_income      21525 non-null  int64  \n",
      " 11  purpose           21525 non-null  object \n",
      "dtypes: float64(1), int64(6), object(5)\n",
      "memory usage: 2.0+ MB\n"
     ]
    }
   ],
   "source": [
    "df.info()"
   ]
  },
  {
   "cell_type": "markdown",
   "id": "fa8c3df3",
   "metadata": {},
   "source": [
    "**Выводы**\n",
    "\n",
    "Поменяли тип данных в колонке `total_income`. Теперь данные смотрятся лучше."
   ]
  },
  {
   "cell_type": "markdown",
   "id": "c5cf9ce3",
   "metadata": {},
   "source": [
    "### Удаление дубликатов."
   ]
  },
  {
   "cell_type": "code",
   "execution_count": 28,
   "id": "898cefea",
   "metadata": {},
   "outputs": [
    {
     "data": {
      "text/plain": [
       "array(['высшее', 'среднее', 'Среднее', 'СРЕДНЕЕ', 'ВЫСШЕЕ',\n",
       "       'неоконченное высшее', 'начальное', 'Высшее',\n",
       "       'НЕОКОНЧЕННОЕ ВЫСШЕЕ', 'Неоконченное высшее', 'НАЧАЛЬНОЕ',\n",
       "       'Начальное', 'Ученая степень', 'УЧЕНАЯ СТЕПЕНЬ', 'ученая степень'],\n",
       "      dtype=object)"
      ]
     },
     "metadata": {},
     "output_type": "display_data"
    }
   ],
   "source": [
    "# Посмотрим уникальные значения в колонке education\n",
    "display(df['education'].unique()) "
   ]
  },
  {
   "cell_type": "markdown",
   "id": "5577d6cf",
   "metadata": {},
   "source": [
    "Видны не явнвные дубликаты, которые обычно появляются из-за человеческого фактора. Кот-то пишет в нижнем регистре, кто-то в верхнем."
   ]
  },
  {
   "cell_type": "code",
   "execution_count": 29,
   "id": "58ef8f2b",
   "metadata": {},
   "outputs": [],
   "source": [
    "# Сделаем все записи в колонке education в нижнем регистре. С помощью метода str.lower()\n",
    "df['education'] = df['education'].str.lower() "
   ]
  },
  {
   "cell_type": "code",
   "execution_count": 30,
   "id": "b18a29de",
   "metadata": {},
   "outputs": [
    {
     "data": {
      "text/plain": [
       "array(['высшее', 'среднее', 'неоконченное высшее', 'начальное',\n",
       "       'ученая степень'], dtype=object)"
      ]
     },
     "metadata": {},
     "output_type": "display_data"
    }
   ],
   "source": [
    "# Посмотрим еще раз уникальные значения в колонке education\n",
    "display(df['education'].unique()) "
   ]
  },
  {
   "cell_type": "code",
   "execution_count": 31,
   "id": "d01e24b1",
   "metadata": {},
   "outputs": [
    {
     "data": {
      "text/plain": [
       "array(['женат / замужем', 'гражданский брак', 'вдовец / вдова',\n",
       "       'в разводе', 'Не женат / не замужем'], dtype=object)"
      ]
     },
     "metadata": {},
     "output_type": "display_data"
    }
   ],
   "source": [
    "# Посмотрим уникальные значения в family_status\n",
    "display(df['family_status'].unique()) "
   ]
  },
  {
   "cell_type": "code",
   "execution_count": 32,
   "id": "376aec78",
   "metadata": {},
   "outputs": [],
   "source": [
    "# Сделаем все записи в колонке family_status в нижнем регистре. С помощью метода str.lower()\n",
    "df['family_status'] = df['family_status'].str.lower() "
   ]
  },
  {
   "cell_type": "code",
   "execution_count": 33,
   "id": "42b98952",
   "metadata": {},
   "outputs": [
    {
     "data": {
      "text/plain": [
       "array(['женат / замужем', 'гражданский брак', 'вдовец / вдова',\n",
       "       'в разводе', 'не женат / не замужем'], dtype=object)"
      ]
     },
     "metadata": {},
     "output_type": "display_data"
    }
   ],
   "source": [
    "# Посмотрим еще раз уникальные значения в колонке family_status\n",
    "display(df['family_status'].unique()) "
   ]
  },
  {
   "cell_type": "code",
   "execution_count": 34,
   "id": "ec896f62",
   "metadata": {},
   "outputs": [
    {
     "data": {
      "text/plain": [
       "71"
      ]
     },
     "execution_count": 34,
     "metadata": {},
     "output_type": "execute_result"
    }
   ],
   "source": [
    "# Посмотрим количество дубликатов\n",
    "df.duplicated().sum() "
   ]
  },
  {
   "cell_type": "code",
   "execution_count": 35,
   "id": "f2c581dd",
   "metadata": {},
   "outputs": [
    {
     "data": {
      "text/html": [
       "<div>\n",
       "<style scoped>\n",
       "    .dataframe tbody tr th:only-of-type {\n",
       "        vertical-align: middle;\n",
       "    }\n",
       "\n",
       "    .dataframe tbody tr th {\n",
       "        vertical-align: top;\n",
       "    }\n",
       "\n",
       "    .dataframe thead th {\n",
       "        text-align: right;\n",
       "    }\n",
       "</style>\n",
       "<table border=\"1\" class=\"dataframe\">\n",
       "  <thead>\n",
       "    <tr style=\"text-align: right;\">\n",
       "      <th></th>\n",
       "      <th>children</th>\n",
       "      <th>days_employed</th>\n",
       "      <th>dob_years</th>\n",
       "      <th>education</th>\n",
       "      <th>education_id</th>\n",
       "      <th>family_status</th>\n",
       "      <th>family_status_id</th>\n",
       "      <th>gender</th>\n",
       "      <th>income_type</th>\n",
       "      <th>debt</th>\n",
       "      <th>total_income</th>\n",
       "      <th>purpose</th>\n",
       "    </tr>\n",
       "  </thead>\n",
       "  <tbody>\n",
       "    <tr>\n",
       "      <th>2849</th>\n",
       "      <td>0</td>\n",
       "      <td>2194.220567</td>\n",
       "      <td>41</td>\n",
       "      <td>среднее</td>\n",
       "      <td>1</td>\n",
       "      <td>женат / замужем</td>\n",
       "      <td>0</td>\n",
       "      <td>F</td>\n",
       "      <td>сотрудник</td>\n",
       "      <td>0</td>\n",
       "      <td>145017</td>\n",
       "      <td>покупка жилья для семьи</td>\n",
       "    </tr>\n",
       "    <tr>\n",
       "      <th>3290</th>\n",
       "      <td>0</td>\n",
       "      <td>2194.220567</td>\n",
       "      <td>58</td>\n",
       "      <td>среднее</td>\n",
       "      <td>1</td>\n",
       "      <td>гражданский брак</td>\n",
       "      <td>1</td>\n",
       "      <td>F</td>\n",
       "      <td>пенсионер</td>\n",
       "      <td>0</td>\n",
       "      <td>145017</td>\n",
       "      <td>сыграть свадьбу</td>\n",
       "    </tr>\n",
       "    <tr>\n",
       "      <th>4182</th>\n",
       "      <td>1</td>\n",
       "      <td>2194.220567</td>\n",
       "      <td>34</td>\n",
       "      <td>высшее</td>\n",
       "      <td>0</td>\n",
       "      <td>гражданский брак</td>\n",
       "      <td>1</td>\n",
       "      <td>F</td>\n",
       "      <td>сотрудник</td>\n",
       "      <td>0</td>\n",
       "      <td>145017</td>\n",
       "      <td>свадьба</td>\n",
       "    </tr>\n",
       "    <tr>\n",
       "      <th>4851</th>\n",
       "      <td>0</td>\n",
       "      <td>2194.220567</td>\n",
       "      <td>60</td>\n",
       "      <td>среднее</td>\n",
       "      <td>1</td>\n",
       "      <td>гражданский брак</td>\n",
       "      <td>1</td>\n",
       "      <td>F</td>\n",
       "      <td>пенсионер</td>\n",
       "      <td>0</td>\n",
       "      <td>145017</td>\n",
       "      <td>свадьба</td>\n",
       "    </tr>\n",
       "    <tr>\n",
       "      <th>5557</th>\n",
       "      <td>0</td>\n",
       "      <td>2194.220567</td>\n",
       "      <td>58</td>\n",
       "      <td>среднее</td>\n",
       "      <td>1</td>\n",
       "      <td>гражданский брак</td>\n",
       "      <td>1</td>\n",
       "      <td>F</td>\n",
       "      <td>пенсионер</td>\n",
       "      <td>0</td>\n",
       "      <td>145017</td>\n",
       "      <td>сыграть свадьбу</td>\n",
       "    </tr>\n",
       "    <tr>\n",
       "      <th>...</th>\n",
       "      <td>...</td>\n",
       "      <td>...</td>\n",
       "      <td>...</td>\n",
       "      <td>...</td>\n",
       "      <td>...</td>\n",
       "      <td>...</td>\n",
       "      <td>...</td>\n",
       "      <td>...</td>\n",
       "      <td>...</td>\n",
       "      <td>...</td>\n",
       "      <td>...</td>\n",
       "      <td>...</td>\n",
       "    </tr>\n",
       "    <tr>\n",
       "      <th>20702</th>\n",
       "      <td>0</td>\n",
       "      <td>2194.220567</td>\n",
       "      <td>64</td>\n",
       "      <td>среднее</td>\n",
       "      <td>1</td>\n",
       "      <td>женат / замужем</td>\n",
       "      <td>0</td>\n",
       "      <td>F</td>\n",
       "      <td>пенсионер</td>\n",
       "      <td>0</td>\n",
       "      <td>145017</td>\n",
       "      <td>дополнительное образование</td>\n",
       "    </tr>\n",
       "    <tr>\n",
       "      <th>21032</th>\n",
       "      <td>0</td>\n",
       "      <td>2194.220567</td>\n",
       "      <td>60</td>\n",
       "      <td>среднее</td>\n",
       "      <td>1</td>\n",
       "      <td>женат / замужем</td>\n",
       "      <td>0</td>\n",
       "      <td>F</td>\n",
       "      <td>пенсионер</td>\n",
       "      <td>0</td>\n",
       "      <td>145017</td>\n",
       "      <td>заняться образованием</td>\n",
       "    </tr>\n",
       "    <tr>\n",
       "      <th>21132</th>\n",
       "      <td>0</td>\n",
       "      <td>2194.220567</td>\n",
       "      <td>47</td>\n",
       "      <td>среднее</td>\n",
       "      <td>1</td>\n",
       "      <td>женат / замужем</td>\n",
       "      <td>0</td>\n",
       "      <td>F</td>\n",
       "      <td>сотрудник</td>\n",
       "      <td>0</td>\n",
       "      <td>145017</td>\n",
       "      <td>ремонт жилью</td>\n",
       "    </tr>\n",
       "    <tr>\n",
       "      <th>21281</th>\n",
       "      <td>1</td>\n",
       "      <td>2194.220567</td>\n",
       "      <td>30</td>\n",
       "      <td>высшее</td>\n",
       "      <td>0</td>\n",
       "      <td>женат / замужем</td>\n",
       "      <td>0</td>\n",
       "      <td>F</td>\n",
       "      <td>сотрудник</td>\n",
       "      <td>0</td>\n",
       "      <td>145017</td>\n",
       "      <td>покупка коммерческой недвижимости</td>\n",
       "    </tr>\n",
       "    <tr>\n",
       "      <th>21415</th>\n",
       "      <td>0</td>\n",
       "      <td>2194.220567</td>\n",
       "      <td>54</td>\n",
       "      <td>среднее</td>\n",
       "      <td>1</td>\n",
       "      <td>женат / замужем</td>\n",
       "      <td>0</td>\n",
       "      <td>F</td>\n",
       "      <td>пенсионер</td>\n",
       "      <td>0</td>\n",
       "      <td>145017</td>\n",
       "      <td>операции с жильем</td>\n",
       "    </tr>\n",
       "  </tbody>\n",
       "</table>\n",
       "<p>71 rows × 12 columns</p>\n",
       "</div>"
      ],
      "text/plain": [
       "       children  days_employed  dob_years education  education_id  \\\n",
       "2849          0    2194.220567         41   среднее             1   \n",
       "3290          0    2194.220567         58   среднее             1   \n",
       "4182          1    2194.220567         34    высшее             0   \n",
       "4851          0    2194.220567         60   среднее             1   \n",
       "5557          0    2194.220567         58   среднее             1   \n",
       "...         ...            ...        ...       ...           ...   \n",
       "20702         0    2194.220567         64   среднее             1   \n",
       "21032         0    2194.220567         60   среднее             1   \n",
       "21132         0    2194.220567         47   среднее             1   \n",
       "21281         1    2194.220567         30    высшее             0   \n",
       "21415         0    2194.220567         54   среднее             1   \n",
       "\n",
       "          family_status  family_status_id gender income_type  debt  \\\n",
       "2849    женат / замужем                 0      F   сотрудник     0   \n",
       "3290   гражданский брак                 1      F   пенсионер     0   \n",
       "4182   гражданский брак                 1      F   сотрудник     0   \n",
       "4851   гражданский брак                 1      F   пенсионер     0   \n",
       "5557   гражданский брак                 1      F   пенсионер     0   \n",
       "...                 ...               ...    ...         ...   ...   \n",
       "20702   женат / замужем                 0      F   пенсионер     0   \n",
       "21032   женат / замужем                 0      F   пенсионер     0   \n",
       "21132   женат / замужем                 0      F   сотрудник     0   \n",
       "21281   женат / замужем                 0      F   сотрудник     0   \n",
       "21415   женат / замужем                 0      F   пенсионер     0   \n",
       "\n",
       "       total_income                            purpose  \n",
       "2849         145017            покупка жилья для семьи  \n",
       "3290         145017                    сыграть свадьбу  \n",
       "4182         145017                            свадьба  \n",
       "4851         145017                            свадьба  \n",
       "5557         145017                    сыграть свадьбу  \n",
       "...             ...                                ...  \n",
       "20702        145017         дополнительное образование  \n",
       "21032        145017              заняться образованием  \n",
       "21132        145017                       ремонт жилью  \n",
       "21281        145017  покупка коммерческой недвижимости  \n",
       "21415        145017                  операции с жильем  \n",
       "\n",
       "[71 rows x 12 columns]"
      ]
     },
     "metadata": {},
     "output_type": "display_data"
    }
   ],
   "source": [
    "# Посмотрим на них в таблице\n",
    "display(df[df.duplicated()==True]) "
   ]
  },
  {
   "cell_type": "code",
   "execution_count": 36,
   "id": "073dd8ba",
   "metadata": {},
   "outputs": [],
   "source": [
    "# удаление явных дубликатов (с удалением старых индексов и формированием новых)\n",
    "df = df.drop_duplicates().reset_index(drop=True) "
   ]
  },
  {
   "cell_type": "code",
   "execution_count": 37,
   "id": "d705468e",
   "metadata": {},
   "outputs": [
    {
     "data": {
      "text/plain": [
       "0"
      ]
     },
     "metadata": {},
     "output_type": "display_data"
    }
   ],
   "source": [
    "# Посмотрим еще раз количество дубликатов\n",
    "display(df.duplicated().sum()) "
   ]
  },
  {
   "cell_type": "markdown",
   "id": "dfd8495c",
   "metadata": {},
   "source": [
    "**Выводы**\n",
    "\n",
    "Перезаписали все значения в колонках `education` и `family_status` на нижний регистр. Так же удалили явные дубликаты из датафрейма"
   ]
  },
  {
   "cell_type": "markdown",
   "id": "88bc8b30",
   "metadata": {},
   "source": [
    "### Формирование дополнительных датафреймов словарей, декомпозиция исходного датафрейма."
   ]
  },
  {
   "cell_type": "code",
   "execution_count": 38,
   "id": "9c87683b",
   "metadata": {},
   "outputs": [],
   "source": [
    "# Создадим новый DataFrame (df_education) с уникальными значениями колонок education и education_id,\n",
    "# при помощи методов .drop_duplicates() и .reset_index \n",
    "df_education = df[['education', 'education_id']].drop_duplicates().reset_index(drop=True) "
   ]
  },
  {
   "cell_type": "code",
   "execution_count": 39,
   "id": "069f837f",
   "metadata": {},
   "outputs": [],
   "source": [
    "# Создадим новый DataFrame (df_family_status) с уникальными значениями колонок family_status и family_status_id,\n",
    "# при помощи методов .drop_duplicates() и .reset_index \n",
    "df_family_status = df[['family_status', 'family_status_id']].drop_duplicates().reset_index(drop=True) "
   ]
  },
  {
   "cell_type": "code",
   "execution_count": 40,
   "id": "8da92207",
   "metadata": {},
   "outputs": [
    {
     "data": {
      "text/html": [
       "<div>\n",
       "<style scoped>\n",
       "    .dataframe tbody tr th:only-of-type {\n",
       "        vertical-align: middle;\n",
       "    }\n",
       "\n",
       "    .dataframe tbody tr th {\n",
       "        vertical-align: top;\n",
       "    }\n",
       "\n",
       "    .dataframe thead th {\n",
       "        text-align: right;\n",
       "    }\n",
       "</style>\n",
       "<table border=\"1\" class=\"dataframe\">\n",
       "  <thead>\n",
       "    <tr style=\"text-align: right;\">\n",
       "      <th></th>\n",
       "      <th>education</th>\n",
       "      <th>education_id</th>\n",
       "    </tr>\n",
       "  </thead>\n",
       "  <tbody>\n",
       "    <tr>\n",
       "      <th>0</th>\n",
       "      <td>высшее</td>\n",
       "      <td>0</td>\n",
       "    </tr>\n",
       "    <tr>\n",
       "      <th>1</th>\n",
       "      <td>среднее</td>\n",
       "      <td>1</td>\n",
       "    </tr>\n",
       "    <tr>\n",
       "      <th>2</th>\n",
       "      <td>неоконченное высшее</td>\n",
       "      <td>2</td>\n",
       "    </tr>\n",
       "    <tr>\n",
       "      <th>3</th>\n",
       "      <td>начальное</td>\n",
       "      <td>3</td>\n",
       "    </tr>\n",
       "    <tr>\n",
       "      <th>4</th>\n",
       "      <td>ученая степень</td>\n",
       "      <td>4</td>\n",
       "    </tr>\n",
       "  </tbody>\n",
       "</table>\n",
       "</div>"
      ],
      "text/plain": [
       "             education  education_id\n",
       "0               высшее             0\n",
       "1              среднее             1\n",
       "2  неоконченное высшее             2\n",
       "3            начальное             3\n",
       "4       ученая степень             4"
      ]
     },
     "metadata": {},
     "output_type": "display_data"
    }
   ],
   "source": [
    "# Посмотрим что получилось в df_education\n",
    "display(df_education) "
   ]
  },
  {
   "cell_type": "code",
   "execution_count": 41,
   "id": "214846d4",
   "metadata": {},
   "outputs": [
    {
     "data": {
      "text/html": [
       "<div>\n",
       "<style scoped>\n",
       "    .dataframe tbody tr th:only-of-type {\n",
       "        vertical-align: middle;\n",
       "    }\n",
       "\n",
       "    .dataframe tbody tr th {\n",
       "        vertical-align: top;\n",
       "    }\n",
       "\n",
       "    .dataframe thead th {\n",
       "        text-align: right;\n",
       "    }\n",
       "</style>\n",
       "<table border=\"1\" class=\"dataframe\">\n",
       "  <thead>\n",
       "    <tr style=\"text-align: right;\">\n",
       "      <th></th>\n",
       "      <th>family_status</th>\n",
       "      <th>family_status_id</th>\n",
       "    </tr>\n",
       "  </thead>\n",
       "  <tbody>\n",
       "    <tr>\n",
       "      <th>0</th>\n",
       "      <td>женат / замужем</td>\n",
       "      <td>0</td>\n",
       "    </tr>\n",
       "    <tr>\n",
       "      <th>1</th>\n",
       "      <td>гражданский брак</td>\n",
       "      <td>1</td>\n",
       "    </tr>\n",
       "    <tr>\n",
       "      <th>2</th>\n",
       "      <td>вдовец / вдова</td>\n",
       "      <td>2</td>\n",
       "    </tr>\n",
       "    <tr>\n",
       "      <th>3</th>\n",
       "      <td>в разводе</td>\n",
       "      <td>3</td>\n",
       "    </tr>\n",
       "    <tr>\n",
       "      <th>4</th>\n",
       "      <td>не женат / не замужем</td>\n",
       "      <td>4</td>\n",
       "    </tr>\n",
       "  </tbody>\n",
       "</table>\n",
       "</div>"
      ],
      "text/plain": [
       "           family_status  family_status_id\n",
       "0        женат / замужем                 0\n",
       "1       гражданский брак                 1\n",
       "2         вдовец / вдова                 2\n",
       "3              в разводе                 3\n",
       "4  не женат / не замужем                 4"
      ]
     },
     "metadata": {},
     "output_type": "display_data"
    }
   ],
   "source": [
    "# Посмотрим что получилось в df_education\n",
    "display(df_family_status) "
   ]
  },
  {
   "cell_type": "code",
   "execution_count": 42,
   "id": "8a882270",
   "metadata": {},
   "outputs": [],
   "source": [
    "# Удалим колонки education и family_status из исходного дата фрейма\n",
    "df = df.drop(columns=['education', 'family_status']) "
   ]
  },
  {
   "cell_type": "markdown",
   "id": "f41d1fdb",
   "metadata": {},
   "source": [
    "**Выводы**\n",
    "\n",
    "Создали два новых дата фрейма: `df_education` и `df_family_status`. И удалили колонки `education` `family_status` из исходного дата фрейма."
   ]
  },
  {
   "cell_type": "markdown",
   "id": "f5442752",
   "metadata": {},
   "source": [
    "### Категоризация дохода."
   ]
  },
  {
   "cell_type": "markdown",
   "id": "5028f599",
   "metadata": {},
   "source": [
    "На основании диапазонов `total_income`, создадим столбец `total_income_category` с категориями."
   ]
  },
  {
   "cell_type": "code",
   "execution_count": 43,
   "id": "fa97e4cc",
   "metadata": {},
   "outputs": [],
   "source": [
    "# Функция возвращает группу по значению total_income — ежемесячный доход, используя правила:\n",
    "def total_income_category(total_income): \n",
    "    try:\n",
    "        if total_income <= 30000:            # - 'E', если total_income <= 30000;                          \n",
    "            return 'E'                       # - 'D', если total_income <= 50000;\n",
    "        if total_income <= 50000:            # - 'C' если total_income <= 200000;\n",
    "            return 'D'                       # - 'B' если total_income <= 1000000;\n",
    "        if total_income <= 200000:           # - 'A' если total_income от 1000001 и выше.\n",
    "            return 'C'                       # обернем все проверки в конструкцию try except на случай ошибки в данных\n",
    "        if total_income <= 1000000:\n",
    "            return 'B'\n",
    "        return 'A'\n",
    "    except:\n",
    "        display('Это число не подходит. Введите ')\n",
    "        \n",
    "        \n",
    "        \n",
    "        \n",
    "        \n",
    "        \n",
    "    \n",
    "   "
   ]
  },
  {
   "cell_type": "code",
   "execution_count": 44,
   "id": "f5cb732d",
   "metadata": {},
   "outputs": [],
   "source": [
    "# Создадим новый столбец (total_income_category), для этого нужен метод apply(): \n",
    "# он берёт значения столбца датафрейма и применяет к ним функцию из своего аргумента\n",
    "df['total_income_category'] = df['total_income'].apply(total_income_category) "
   ]
  },
  {
   "cell_type": "code",
   "execution_count": 45,
   "id": "d3c35f2d",
   "metadata": {},
   "outputs": [
    {
     "data": {
      "text/html": [
       "<div>\n",
       "<style scoped>\n",
       "    .dataframe tbody tr th:only-of-type {\n",
       "        vertical-align: middle;\n",
       "    }\n",
       "\n",
       "    .dataframe tbody tr th {\n",
       "        vertical-align: top;\n",
       "    }\n",
       "\n",
       "    .dataframe thead th {\n",
       "        text-align: right;\n",
       "    }\n",
       "</style>\n",
       "<table border=\"1\" class=\"dataframe\">\n",
       "  <thead>\n",
       "    <tr style=\"text-align: right;\">\n",
       "      <th></th>\n",
       "      <th>children</th>\n",
       "      <th>days_employed</th>\n",
       "      <th>dob_years</th>\n",
       "      <th>education_id</th>\n",
       "      <th>family_status_id</th>\n",
       "      <th>gender</th>\n",
       "      <th>income_type</th>\n",
       "      <th>debt</th>\n",
       "      <th>total_income</th>\n",
       "      <th>purpose</th>\n",
       "      <th>total_income_category</th>\n",
       "    </tr>\n",
       "  </thead>\n",
       "  <tbody>\n",
       "    <tr>\n",
       "      <th>0</th>\n",
       "      <td>1</td>\n",
       "      <td>8437.673028</td>\n",
       "      <td>42</td>\n",
       "      <td>0</td>\n",
       "      <td>0</td>\n",
       "      <td>F</td>\n",
       "      <td>сотрудник</td>\n",
       "      <td>0</td>\n",
       "      <td>253875</td>\n",
       "      <td>покупка жилья</td>\n",
       "      <td>B</td>\n",
       "    </tr>\n",
       "    <tr>\n",
       "      <th>1</th>\n",
       "      <td>1</td>\n",
       "      <td>4024.803754</td>\n",
       "      <td>36</td>\n",
       "      <td>1</td>\n",
       "      <td>0</td>\n",
       "      <td>F</td>\n",
       "      <td>сотрудник</td>\n",
       "      <td>0</td>\n",
       "      <td>112080</td>\n",
       "      <td>приобретение автомобиля</td>\n",
       "      <td>C</td>\n",
       "    </tr>\n",
       "    <tr>\n",
       "      <th>2</th>\n",
       "      <td>0</td>\n",
       "      <td>5623.422610</td>\n",
       "      <td>33</td>\n",
       "      <td>1</td>\n",
       "      <td>0</td>\n",
       "      <td>M</td>\n",
       "      <td>сотрудник</td>\n",
       "      <td>0</td>\n",
       "      <td>145885</td>\n",
       "      <td>покупка жилья</td>\n",
       "      <td>C</td>\n",
       "    </tr>\n",
       "    <tr>\n",
       "      <th>3</th>\n",
       "      <td>3</td>\n",
       "      <td>4124.747207</td>\n",
       "      <td>32</td>\n",
       "      <td>1</td>\n",
       "      <td>0</td>\n",
       "      <td>M</td>\n",
       "      <td>сотрудник</td>\n",
       "      <td>0</td>\n",
       "      <td>267628</td>\n",
       "      <td>дополнительное образование</td>\n",
       "      <td>B</td>\n",
       "    </tr>\n",
       "    <tr>\n",
       "      <th>4</th>\n",
       "      <td>0</td>\n",
       "      <td>340266.072047</td>\n",
       "      <td>53</td>\n",
       "      <td>1</td>\n",
       "      <td>1</td>\n",
       "      <td>F</td>\n",
       "      <td>пенсионер</td>\n",
       "      <td>0</td>\n",
       "      <td>158616</td>\n",
       "      <td>сыграть свадьбу</td>\n",
       "      <td>C</td>\n",
       "    </tr>\n",
       "    <tr>\n",
       "      <th>5</th>\n",
       "      <td>0</td>\n",
       "      <td>926.185831</td>\n",
       "      <td>27</td>\n",
       "      <td>0</td>\n",
       "      <td>1</td>\n",
       "      <td>M</td>\n",
       "      <td>компаньон</td>\n",
       "      <td>0</td>\n",
       "      <td>255763</td>\n",
       "      <td>покупка жилья</td>\n",
       "      <td>B</td>\n",
       "    </tr>\n",
       "    <tr>\n",
       "      <th>6</th>\n",
       "      <td>0</td>\n",
       "      <td>2879.202052</td>\n",
       "      <td>43</td>\n",
       "      <td>0</td>\n",
       "      <td>0</td>\n",
       "      <td>F</td>\n",
       "      <td>компаньон</td>\n",
       "      <td>0</td>\n",
       "      <td>240525</td>\n",
       "      <td>операции с жильем</td>\n",
       "      <td>B</td>\n",
       "    </tr>\n",
       "    <tr>\n",
       "      <th>7</th>\n",
       "      <td>0</td>\n",
       "      <td>152.779569</td>\n",
       "      <td>50</td>\n",
       "      <td>1</td>\n",
       "      <td>0</td>\n",
       "      <td>M</td>\n",
       "      <td>сотрудник</td>\n",
       "      <td>0</td>\n",
       "      <td>135823</td>\n",
       "      <td>образование</td>\n",
       "      <td>C</td>\n",
       "    </tr>\n",
       "    <tr>\n",
       "      <th>8</th>\n",
       "      <td>2</td>\n",
       "      <td>6929.865299</td>\n",
       "      <td>35</td>\n",
       "      <td>0</td>\n",
       "      <td>1</td>\n",
       "      <td>F</td>\n",
       "      <td>сотрудник</td>\n",
       "      <td>0</td>\n",
       "      <td>95856</td>\n",
       "      <td>на проведение свадьбы</td>\n",
       "      <td>C</td>\n",
       "    </tr>\n",
       "    <tr>\n",
       "      <th>9</th>\n",
       "      <td>0</td>\n",
       "      <td>2188.756445</td>\n",
       "      <td>41</td>\n",
       "      <td>1</td>\n",
       "      <td>0</td>\n",
       "      <td>M</td>\n",
       "      <td>сотрудник</td>\n",
       "      <td>0</td>\n",
       "      <td>144425</td>\n",
       "      <td>покупка жилья для семьи</td>\n",
       "      <td>C</td>\n",
       "    </tr>\n",
       "  </tbody>\n",
       "</table>\n",
       "</div>"
      ],
      "text/plain": [
       "   children  days_employed  dob_years  education_id  family_status_id gender  \\\n",
       "0         1    8437.673028         42             0                 0      F   \n",
       "1         1    4024.803754         36             1                 0      F   \n",
       "2         0    5623.422610         33             1                 0      M   \n",
       "3         3    4124.747207         32             1                 0      M   \n",
       "4         0  340266.072047         53             1                 1      F   \n",
       "5         0     926.185831         27             0                 1      M   \n",
       "6         0    2879.202052         43             0                 0      F   \n",
       "7         0     152.779569         50             1                 0      M   \n",
       "8         2    6929.865299         35             0                 1      F   \n",
       "9         0    2188.756445         41             1                 0      M   \n",
       "\n",
       "  income_type  debt  total_income                     purpose  \\\n",
       "0   сотрудник     0        253875               покупка жилья   \n",
       "1   сотрудник     0        112080     приобретение автомобиля   \n",
       "2   сотрудник     0        145885               покупка жилья   \n",
       "3   сотрудник     0        267628  дополнительное образование   \n",
       "4   пенсионер     0        158616             сыграть свадьбу   \n",
       "5   компаньон     0        255763               покупка жилья   \n",
       "6   компаньон     0        240525           операции с жильем   \n",
       "7   сотрудник     0        135823                 образование   \n",
       "8   сотрудник     0         95856       на проведение свадьбы   \n",
       "9   сотрудник     0        144425     покупка жилья для семьи   \n",
       "\n",
       "  total_income_category  \n",
       "0                     B  \n",
       "1                     C  \n",
       "2                     C  \n",
       "3                     B  \n",
       "4                     C  \n",
       "5                     B  \n",
       "6                     B  \n",
       "7                     C  \n",
       "8                     C  \n",
       "9                     C  "
      ]
     },
     "metadata": {},
     "output_type": "display_data"
    }
   ],
   "source": [
    "# Посмотрим первые 10 строк таблицы\n",
    "display(df.head(10)) "
   ]
  },
  {
   "cell_type": "markdown",
   "id": "a2c007f3",
   "metadata": {},
   "source": [
    "**Выводы**\n",
    "\n",
    "Написали функцию, которая возвращает группу по значению `total_income` и создали столбец с этой группой (`A`, `B`, `C`, `D`, `E`) в нашем датафрейме."
   ]
  },
  {
   "cell_type": "markdown",
   "id": "ff1b9bb2",
   "metadata": {},
   "source": [
    "### Категоризация целей кредита."
   ]
  },
  {
   "cell_type": "markdown",
   "id": "25c33a93",
   "metadata": {},
   "source": [
    "На основании диапазонов `purpose`, создадим столбец `purpose_category` с категориями."
   ]
  },
  {
   "cell_type": "code",
   "execution_count": 46,
   "id": "a36d2eee",
   "metadata": {},
   "outputs": [
    {
     "data": {
      "text/plain": [
       "array(['покупка жилья', 'приобретение автомобиля',\n",
       "       'дополнительное образование', 'сыграть свадьбу',\n",
       "       'операции с жильем', 'образование', 'на проведение свадьбы',\n",
       "       'покупка жилья для семьи', 'покупка недвижимости',\n",
       "       'покупка коммерческой недвижимости', 'покупка жилой недвижимости',\n",
       "       'строительство собственной недвижимости', 'недвижимость',\n",
       "       'строительство недвижимости', 'на покупку подержанного автомобиля',\n",
       "       'на покупку своего автомобиля',\n",
       "       'операции с коммерческой недвижимостью',\n",
       "       'строительство жилой недвижимости', 'жилье',\n",
       "       'операции со своей недвижимостью', 'автомобили',\n",
       "       'заняться образованием', 'сделка с подержанным автомобилем',\n",
       "       'получение образования', 'автомобиль', 'свадьба',\n",
       "       'получение дополнительного образования', 'покупка своего жилья',\n",
       "       'операции с недвижимостью', 'получение высшего образования',\n",
       "       'свой автомобиль', 'сделка с автомобилем',\n",
       "       'профильное образование', 'высшее образование',\n",
       "       'покупка жилья для сдачи', 'на покупку автомобиля', 'ремонт жилью',\n",
       "       'заняться высшим образованием'], dtype=object)"
      ]
     },
     "execution_count": 46,
     "metadata": {},
     "output_type": "execute_result"
    }
   ],
   "source": [
    "# Посмотрим все уникальные значения в столбце purpose\n",
    "df['purpose'].unique() "
   ]
  },
  {
   "cell_type": "code",
   "execution_count": 47,
   "id": "646c6710",
   "metadata": {},
   "outputs": [],
   "source": [
    "def purpose_category(purpose):                         # Функция возвращает группу по значению purpose — цель получения кредита, используя правила:\n",
    "    try:\n",
    "        if 'авто' in purpose:                          # - 'операции с автомобилем', если purpose содержит авто;\n",
    "            return 'операции с автомобилем'            # - 'операции с недвижимостью', если purpose содержит 'недвиж' или 'жил';\n",
    "        if 'жиль' in purpose or 'недвиж' in purpose:   # - 'проведение свадьбы', если purpose содержит свадьб;\n",
    "            return 'операции с недвижимостью'          # - 'получение образования', если purpose содержит образ;\n",
    "        if 'свадьб' in purpose:                        # обернем все проверки в конструкцию try except на случай ошибки в данных.\n",
    "            return 'проведение свадьбы'\n",
    "        if 'образ' in purpose:\n",
    "            return 'получение образования'\n",
    "    except:\n",
    "        display('Что-то пошло не так. Это не подходящие данные.')\n",
    "        \n",
    "        \n",
    "        \n",
    "        \n",
    "        \n",
    "        \n",
    "        \n",
    "        \n",
    "        \n",
    "        \n",
    "    "
   ]
  },
  {
   "cell_type": "code",
   "execution_count": 48,
   "id": "ddd951be",
   "metadata": {},
   "outputs": [],
   "source": [
    "# Создадим новый столбец (purpose_category), для этого нужен метод apply(): \n",
    "# он берёт значения столбца датафрейма и применяет к ним функцию из своего аргумента\n",
    "df['purpose_category'] = df['purpose'].apply(purpose_category) "
   ]
  },
  {
   "cell_type": "code",
   "execution_count": 49,
   "id": "f87be82a",
   "metadata": {},
   "outputs": [
    {
     "data": {
      "text/plain": [
       "array(['операции с недвижимостью', 'операции с автомобилем',\n",
       "       'получение образования', 'проведение свадьбы'], dtype=object)"
      ]
     },
     "metadata": {},
     "output_type": "display_data"
    }
   ],
   "source": [
    "# Посмотрим уникальные значения столбца purpose_category\n",
    "display(df['purpose_category'].unique()) "
   ]
  },
  {
   "cell_type": "markdown",
   "id": "bcd77f19",
   "metadata": {},
   "source": [
    "**Выводы**\n",
    "\n",
    "Написали функцию, которая возвращает группу по значению `purpose` и создали столбец с этой группой (`операции с автомобилем`, `операции с недвижимостью`, `проведение свадьбы`, `получение образования`) в нашем датафрейме."
   ]
  },
  {
   "cell_type": "markdown",
   "id": "f998f887",
   "metadata": {},
   "source": [
    "### Ответы на вопросы."
   ]
  },
  {
   "cell_type": "markdown",
   "id": "40a0f6f6",
   "metadata": {},
   "source": [
    "#### Вопрос: Есть ли зависимость между количеством детей и возвратом кредита в срок?"
   ]
  },
  {
   "cell_type": "markdown",
   "id": "0640a9be",
   "metadata": {},
   "source": [
    "Сделаем сводную табилцу по количеству детей и задолженности по возврату кредитов."
   ]
  },
  {
   "cell_type": "code",
   "execution_count": 50,
   "id": "3cfdddb9",
   "metadata": {},
   "outputs": [
    {
     "data": {
      "text/html": [
       "<div>\n",
       "<style scoped>\n",
       "    .dataframe tbody tr th:only-of-type {\n",
       "        vertical-align: middle;\n",
       "    }\n",
       "\n",
       "    .dataframe tbody tr th {\n",
       "        vertical-align: top;\n",
       "    }\n",
       "\n",
       "    .dataframe thead tr th {\n",
       "        text-align: left;\n",
       "    }\n",
       "\n",
       "    .dataframe thead tr:last-of-type th {\n",
       "        text-align: right;\n",
       "    }\n",
       "</style>\n",
       "<table border=\"1\" class=\"dataframe\">\n",
       "  <thead>\n",
       "    <tr>\n",
       "      <th></th>\n",
       "      <th colspan=\"2\" halign=\"left\">income_type</th>\n",
       "    </tr>\n",
       "    <tr>\n",
       "      <th>debt</th>\n",
       "      <th>0</th>\n",
       "      <th>1</th>\n",
       "    </tr>\n",
       "    <tr>\n",
       "      <th>children</th>\n",
       "      <th></th>\n",
       "      <th></th>\n",
       "    </tr>\n",
       "  </thead>\n",
       "  <tbody>\n",
       "    <tr>\n",
       "      <th>0</th>\n",
       "      <td>13028</td>\n",
       "      <td>1063</td>\n",
       "    </tr>\n",
       "    <tr>\n",
       "      <th>1</th>\n",
       "      <td>4410</td>\n",
       "      <td>445</td>\n",
       "    </tr>\n",
       "    <tr>\n",
       "      <th>2</th>\n",
       "      <td>1926</td>\n",
       "      <td>202</td>\n",
       "    </tr>\n",
       "    <tr>\n",
       "      <th>3</th>\n",
       "      <td>303</td>\n",
       "      <td>27</td>\n",
       "    </tr>\n",
       "    <tr>\n",
       "      <th>4</th>\n",
       "      <td>37</td>\n",
       "      <td>4</td>\n",
       "    </tr>\n",
       "    <tr>\n",
       "      <th>5</th>\n",
       "      <td>9</td>\n",
       "      <td>0</td>\n",
       "    </tr>\n",
       "  </tbody>\n",
       "</table>\n",
       "</div>"
      ],
      "text/plain": [
       "         income_type      \n",
       "debt               0     1\n",
       "children                  \n",
       "0              13028  1063\n",
       "1               4410   445\n",
       "2               1926   202\n",
       "3                303    27\n",
       "4                 37     4\n",
       "5                  9     0"
      ]
     },
     "metadata": {},
     "output_type": "display_data"
    }
   ],
   "source": [
    "# Используем метод pivot_table() и посмотрим сводную таблицу по числу детей и колонке debt, где 1 означает,\n",
    "# что имеется задолженность по возврату кредитов, а 0 что не имеется.\n",
    "display(df.pivot_table(index=['children'], columns=['debt'], values=['income_type'], aggfunc='count', fill_value=0)) "
   ]
  },
  {
   "cell_type": "code",
   "execution_count": 51,
   "id": "8a7c01e6",
   "metadata": {},
   "outputs": [
    {
     "data": {
      "text/html": [
       "<div>\n",
       "<style scoped>\n",
       "    .dataframe tbody tr th:only-of-type {\n",
       "        vertical-align: middle;\n",
       "    }\n",
       "\n",
       "    .dataframe tbody tr th {\n",
       "        vertical-align: top;\n",
       "    }\n",
       "\n",
       "    .dataframe thead th {\n",
       "        text-align: right;\n",
       "    }\n",
       "</style>\n",
       "<table border=\"1\" class=\"dataframe\">\n",
       "  <thead>\n",
       "    <tr style=\"text-align: right;\">\n",
       "      <th></th>\n",
       "      <th>debt</th>\n",
       "    </tr>\n",
       "    <tr>\n",
       "      <th>children</th>\n",
       "      <th></th>\n",
       "    </tr>\n",
       "  </thead>\n",
       "  <tbody>\n",
       "    <tr>\n",
       "      <th>0</th>\n",
       "      <td>0.075438</td>\n",
       "    </tr>\n",
       "    <tr>\n",
       "      <th>1</th>\n",
       "      <td>0.091658</td>\n",
       "    </tr>\n",
       "    <tr>\n",
       "      <th>2</th>\n",
       "      <td>0.094925</td>\n",
       "    </tr>\n",
       "    <tr>\n",
       "      <th>3</th>\n",
       "      <td>0.081818</td>\n",
       "    </tr>\n",
       "    <tr>\n",
       "      <th>4</th>\n",
       "      <td>0.097561</td>\n",
       "    </tr>\n",
       "    <tr>\n",
       "      <th>5</th>\n",
       "      <td>0.000000</td>\n",
       "    </tr>\n",
       "  </tbody>\n",
       "</table>\n",
       "</div>"
      ],
      "text/plain": [
       "              debt\n",
       "children          \n",
       "0         0.075438\n",
       "1         0.091658\n",
       "2         0.094925\n",
       "3         0.081818\n",
       "4         0.097561\n",
       "5         0.000000"
      ]
     },
     "metadata": {},
     "output_type": "display_data"
    }
   ],
   "source": [
    "# посмотрим среднее значение (ratio)\n",
    "display(df.pivot_table(index=['children'], values=['debt'])) "
   ]
  },
  {
   "cell_type": "markdown",
   "id": "ab0bf1ca",
   "metadata": {},
   "source": [
    "**Выводы**\n",
    "\n",
    "Из этих данных можно сделать вывод, что клиенты без детей отвественнее всего подходят к выплате кредита в срок."
   ]
  },
  {
   "cell_type": "markdown",
   "id": "a5661c55",
   "metadata": {},
   "source": [
    "#### Есть ли зависимость между семейным положением и возвратом кредита в срок?"
   ]
  },
  {
   "cell_type": "code",
   "execution_count": 52,
   "id": "d4cbded9",
   "metadata": {},
   "outputs": [],
   "source": [
    "# Объединим два дата фрейма df и df_family_status\n",
    "data_family_status = df.merge(df_family_status, on='family_status_id', how='left') "
   ]
  },
  {
   "cell_type": "code",
   "execution_count": 53,
   "id": "58d9ae32",
   "metadata": {},
   "outputs": [
    {
     "data": {
      "text/html": [
       "<div>\n",
       "<style scoped>\n",
       "    .dataframe tbody tr th:only-of-type {\n",
       "        vertical-align: middle;\n",
       "    }\n",
       "\n",
       "    .dataframe tbody tr th {\n",
       "        vertical-align: top;\n",
       "    }\n",
       "\n",
       "    .dataframe thead tr th {\n",
       "        text-align: left;\n",
       "    }\n",
       "\n",
       "    .dataframe thead tr:last-of-type th {\n",
       "        text-align: right;\n",
       "    }\n",
       "</style>\n",
       "<table border=\"1\" class=\"dataframe\">\n",
       "  <thead>\n",
       "    <tr>\n",
       "      <th></th>\n",
       "      <th colspan=\"2\" halign=\"left\">income_type</th>\n",
       "    </tr>\n",
       "    <tr>\n",
       "      <th>debt</th>\n",
       "      <th>0</th>\n",
       "      <th>1</th>\n",
       "    </tr>\n",
       "    <tr>\n",
       "      <th>family_status</th>\n",
       "      <th></th>\n",
       "      <th></th>\n",
       "    </tr>\n",
       "  </thead>\n",
       "  <tbody>\n",
       "    <tr>\n",
       "      <th>в разводе</th>\n",
       "      <td>1110</td>\n",
       "      <td>85</td>\n",
       "    </tr>\n",
       "    <tr>\n",
       "      <th>вдовец / вдова</th>\n",
       "      <td>896</td>\n",
       "      <td>63</td>\n",
       "    </tr>\n",
       "    <tr>\n",
       "      <th>гражданский брак</th>\n",
       "      <td>3763</td>\n",
       "      <td>388</td>\n",
       "    </tr>\n",
       "    <tr>\n",
       "      <th>женат / замужем</th>\n",
       "      <td>11408</td>\n",
       "      <td>931</td>\n",
       "    </tr>\n",
       "    <tr>\n",
       "      <th>не женат / не замужем</th>\n",
       "      <td>2536</td>\n",
       "      <td>274</td>\n",
       "    </tr>\n",
       "  </tbody>\n",
       "</table>\n",
       "</div>"
      ],
      "text/plain": [
       "                      income_type     \n",
       "debt                            0    1\n",
       "family_status                         \n",
       "в разводе                    1110   85\n",
       "вдовец / вдова                896   63\n",
       "гражданский брак             3763  388\n",
       "женат / замужем             11408  931\n",
       "не женат / не замужем        2536  274"
      ]
     },
     "metadata": {},
     "output_type": "display_data"
    }
   ],
   "source": [
    "# Используем метод pivot_table() и посмотрим сводную таблицу по семейному положению и колонке debt, где 1 означает,\n",
    "# что имеется задолженность по возврату кредитов, а 0 что не имеется.\n",
    "display(data_family_status.pivot_table(index=['family_status'], columns=['debt'], values=['income_type'], aggfunc='count', fill_value=0)) "
   ]
  },
  {
   "cell_type": "code",
   "execution_count": 54,
   "id": "70f3cd74",
   "metadata": {},
   "outputs": [
    {
     "data": {
      "text/html": [
       "<div>\n",
       "<style scoped>\n",
       "    .dataframe tbody tr th:only-of-type {\n",
       "        vertical-align: middle;\n",
       "    }\n",
       "\n",
       "    .dataframe tbody tr th {\n",
       "        vertical-align: top;\n",
       "    }\n",
       "\n",
       "    .dataframe thead th {\n",
       "        text-align: right;\n",
       "    }\n",
       "</style>\n",
       "<table border=\"1\" class=\"dataframe\">\n",
       "  <thead>\n",
       "    <tr style=\"text-align: right;\">\n",
       "      <th></th>\n",
       "      <th>debt</th>\n",
       "    </tr>\n",
       "    <tr>\n",
       "      <th>family_status</th>\n",
       "      <th></th>\n",
       "    </tr>\n",
       "  </thead>\n",
       "  <tbody>\n",
       "    <tr>\n",
       "      <th>в разводе</th>\n",
       "      <td>0.071130</td>\n",
       "    </tr>\n",
       "    <tr>\n",
       "      <th>вдовец / вдова</th>\n",
       "      <td>0.065693</td>\n",
       "    </tr>\n",
       "    <tr>\n",
       "      <th>гражданский брак</th>\n",
       "      <td>0.093471</td>\n",
       "    </tr>\n",
       "    <tr>\n",
       "      <th>женат / замужем</th>\n",
       "      <td>0.075452</td>\n",
       "    </tr>\n",
       "    <tr>\n",
       "      <th>не женат / не замужем</th>\n",
       "      <td>0.097509</td>\n",
       "    </tr>\n",
       "  </tbody>\n",
       "</table>\n",
       "</div>"
      ],
      "text/plain": [
       "                           debt\n",
       "family_status                  \n",
       "в разводе              0.071130\n",
       "вдовец / вдова         0.065693\n",
       "гражданский брак       0.093471\n",
       "женат / замужем        0.075452\n",
       "не женат / не замужем  0.097509"
      ]
     },
     "metadata": {},
     "output_type": "display_data"
    }
   ],
   "source": [
    "# посмотрим среднее значение (ratio)\n",
    "display(data_family_status.pivot_table(index=['family_status'], values=['debt'])) "
   ]
  },
  {
   "cell_type": "markdown",
   "id": "c46b984a",
   "metadata": {},
   "source": [
    "**Выводы**\n",
    "\n",
    "Из таблицы данных видно, что вдовец/вдова самые ответственные из клиентов."
   ]
  },
  {
   "cell_type": "markdown",
   "id": "8449a836",
   "metadata": {},
   "source": [
    "#### Есть ли зависимость между уровнем дохода и возвратом кредита в срок?"
   ]
  },
  {
   "cell_type": "code",
   "execution_count": 55,
   "id": "c1618882",
   "metadata": {},
   "outputs": [
    {
     "data": {
      "text/html": [
       "<div>\n",
       "<style scoped>\n",
       "    .dataframe tbody tr th:only-of-type {\n",
       "        vertical-align: middle;\n",
       "    }\n",
       "\n",
       "    .dataframe tbody tr th {\n",
       "        vertical-align: top;\n",
       "    }\n",
       "\n",
       "    .dataframe thead tr th {\n",
       "        text-align: left;\n",
       "    }\n",
       "\n",
       "    .dataframe thead tr:last-of-type th {\n",
       "        text-align: right;\n",
       "    }\n",
       "</style>\n",
       "<table border=\"1\" class=\"dataframe\">\n",
       "  <thead>\n",
       "    <tr>\n",
       "      <th></th>\n",
       "      <th colspan=\"2\" halign=\"left\">income_type</th>\n",
       "    </tr>\n",
       "    <tr>\n",
       "      <th>debt</th>\n",
       "      <th>0</th>\n",
       "      <th>1</th>\n",
       "    </tr>\n",
       "    <tr>\n",
       "      <th>total_income_category</th>\n",
       "      <th></th>\n",
       "      <th></th>\n",
       "    </tr>\n",
       "  </thead>\n",
       "  <tbody>\n",
       "    <tr>\n",
       "      <th>A</th>\n",
       "      <td>23</td>\n",
       "      <td>2</td>\n",
       "    </tr>\n",
       "    <tr>\n",
       "      <th>B</th>\n",
       "      <td>4685</td>\n",
       "      <td>356</td>\n",
       "    </tr>\n",
       "    <tr>\n",
       "      <th>C</th>\n",
       "      <td>14656</td>\n",
       "      <td>1360</td>\n",
       "    </tr>\n",
       "    <tr>\n",
       "      <th>D</th>\n",
       "      <td>329</td>\n",
       "      <td>21</td>\n",
       "    </tr>\n",
       "    <tr>\n",
       "      <th>E</th>\n",
       "      <td>20</td>\n",
       "      <td>2</td>\n",
       "    </tr>\n",
       "  </tbody>\n",
       "</table>\n",
       "</div>"
      ],
      "text/plain": [
       "                      income_type      \n",
       "debt                            0     1\n",
       "total_income_category                  \n",
       "A                              23     2\n",
       "B                            4685   356\n",
       "C                           14656  1360\n",
       "D                             329    21\n",
       "E                              20     2"
      ]
     },
     "metadata": {},
     "output_type": "display_data"
    }
   ],
   "source": [
    "# Используем метод pivot_table() и посмотрим сводную таблицу по категории дохода и колонке debt, где 1 означает,\n",
    "# что имеется задолженность по возврату кредитов, а 0 что не имеется.\n",
    "display(df.pivot_table(index=['total_income_category'], columns=['debt'], values=['income_type'], aggfunc='count', fill_value=0)) "
   ]
  },
  {
   "cell_type": "code",
   "execution_count": 56,
   "id": "1071e4dd",
   "metadata": {},
   "outputs": [
    {
     "data": {
      "text/html": [
       "<div>\n",
       "<style scoped>\n",
       "    .dataframe tbody tr th:only-of-type {\n",
       "        vertical-align: middle;\n",
       "    }\n",
       "\n",
       "    .dataframe tbody tr th {\n",
       "        vertical-align: top;\n",
       "    }\n",
       "\n",
       "    .dataframe thead th {\n",
       "        text-align: right;\n",
       "    }\n",
       "</style>\n",
       "<table border=\"1\" class=\"dataframe\">\n",
       "  <thead>\n",
       "    <tr style=\"text-align: right;\">\n",
       "      <th></th>\n",
       "      <th>debt</th>\n",
       "    </tr>\n",
       "    <tr>\n",
       "      <th>total_income_category</th>\n",
       "      <th></th>\n",
       "    </tr>\n",
       "  </thead>\n",
       "  <tbody>\n",
       "    <tr>\n",
       "      <th>A</th>\n",
       "      <td>0.080000</td>\n",
       "    </tr>\n",
       "    <tr>\n",
       "      <th>B</th>\n",
       "      <td>0.070621</td>\n",
       "    </tr>\n",
       "    <tr>\n",
       "      <th>C</th>\n",
       "      <td>0.084915</td>\n",
       "    </tr>\n",
       "    <tr>\n",
       "      <th>D</th>\n",
       "      <td>0.060000</td>\n",
       "    </tr>\n",
       "    <tr>\n",
       "      <th>E</th>\n",
       "      <td>0.090909</td>\n",
       "    </tr>\n",
       "  </tbody>\n",
       "</table>\n",
       "</div>"
      ],
      "text/plain": [
       "                           debt\n",
       "total_income_category          \n",
       "A                      0.080000\n",
       "B                      0.070621\n",
       "C                      0.084915\n",
       "D                      0.060000\n",
       "E                      0.090909"
      ]
     },
     "metadata": {},
     "output_type": "display_data"
    }
   ],
   "source": [
    "# посмотрим среднее значение (ratio)\n",
    "display(df.pivot_table(index=['total_income_category'], values=['debt'])) "
   ]
  },
  {
   "cell_type": "markdown",
   "id": "c4f75a26",
   "metadata": {},
   "source": [
    "**Выводы**\n",
    "\n",
    "Лучший средний показатель у клиентов из категрии `D`. Клиенты с небольшим доходом знают, что в им нужна хорошая кредитная история."
   ]
  },
  {
   "cell_type": "markdown",
   "id": "26c426d1",
   "metadata": {},
   "source": [
    "#### Как разные цели кредита влияют на его возврат в срок?"
   ]
  },
  {
   "cell_type": "code",
   "execution_count": 57,
   "id": "08e03ea7",
   "metadata": {},
   "outputs": [
    {
     "data": {
      "text/html": [
       "<div>\n",
       "<style scoped>\n",
       "    .dataframe tbody tr th:only-of-type {\n",
       "        vertical-align: middle;\n",
       "    }\n",
       "\n",
       "    .dataframe tbody tr th {\n",
       "        vertical-align: top;\n",
       "    }\n",
       "\n",
       "    .dataframe thead tr th {\n",
       "        text-align: left;\n",
       "    }\n",
       "\n",
       "    .dataframe thead tr:last-of-type th {\n",
       "        text-align: right;\n",
       "    }\n",
       "</style>\n",
       "<table border=\"1\" class=\"dataframe\">\n",
       "  <thead>\n",
       "    <tr>\n",
       "      <th></th>\n",
       "      <th colspan=\"2\" halign=\"left\">income_type</th>\n",
       "    </tr>\n",
       "    <tr>\n",
       "      <th>debt</th>\n",
       "      <th>0</th>\n",
       "      <th>1</th>\n",
       "    </tr>\n",
       "    <tr>\n",
       "      <th>purpose_category</th>\n",
       "      <th></th>\n",
       "      <th></th>\n",
       "    </tr>\n",
       "  </thead>\n",
       "  <tbody>\n",
       "    <tr>\n",
       "      <th>операции с автомобилем</th>\n",
       "      <td>3903</td>\n",
       "      <td>403</td>\n",
       "    </tr>\n",
       "    <tr>\n",
       "      <th>операции с недвижимостью</th>\n",
       "      <td>10029</td>\n",
       "      <td>782</td>\n",
       "    </tr>\n",
       "    <tr>\n",
       "      <th>получение образования</th>\n",
       "      <td>3643</td>\n",
       "      <td>370</td>\n",
       "    </tr>\n",
       "    <tr>\n",
       "      <th>проведение свадьбы</th>\n",
       "      <td>2138</td>\n",
       "      <td>186</td>\n",
       "    </tr>\n",
       "  </tbody>\n",
       "</table>\n",
       "</div>"
      ],
      "text/plain": [
       "                         income_type     \n",
       "debt                               0    1\n",
       "purpose_category                         \n",
       "операции с автомобилем          3903  403\n",
       "операции с недвижимостью       10029  782\n",
       "получение образования           3643  370\n",
       "проведение свадьбы              2138  186"
      ]
     },
     "execution_count": 57,
     "metadata": {},
     "output_type": "execute_result"
    }
   ],
   "source": [
    "# Используем метод pivot_table() и посмотрим сводную таблицу по целям кредита и колонке debt, где 1 означает,\n",
    "# что имеется задолженность по возврату кредитов, а 0 что не имеется.\n",
    "df.pivot_table(index=['purpose_category'], columns=['debt'], values=['income_type'], aggfunc='count', fill_value=0) "
   ]
  },
  {
   "cell_type": "code",
   "execution_count": 58,
   "id": "db027a86",
   "metadata": {},
   "outputs": [
    {
     "data": {
      "text/html": [
       "<div>\n",
       "<style scoped>\n",
       "    .dataframe tbody tr th:only-of-type {\n",
       "        vertical-align: middle;\n",
       "    }\n",
       "\n",
       "    .dataframe tbody tr th {\n",
       "        vertical-align: top;\n",
       "    }\n",
       "\n",
       "    .dataframe thead th {\n",
       "        text-align: right;\n",
       "    }\n",
       "</style>\n",
       "<table border=\"1\" class=\"dataframe\">\n",
       "  <thead>\n",
       "    <tr style=\"text-align: right;\">\n",
       "      <th></th>\n",
       "      <th>debt</th>\n",
       "    </tr>\n",
       "    <tr>\n",
       "      <th>purpose_category</th>\n",
       "      <th></th>\n",
       "    </tr>\n",
       "  </thead>\n",
       "  <tbody>\n",
       "    <tr>\n",
       "      <th>операции с автомобилем</th>\n",
       "      <td>0.093590</td>\n",
       "    </tr>\n",
       "    <tr>\n",
       "      <th>операции с недвижимостью</th>\n",
       "      <td>0.072334</td>\n",
       "    </tr>\n",
       "    <tr>\n",
       "      <th>получение образования</th>\n",
       "      <td>0.092200</td>\n",
       "    </tr>\n",
       "    <tr>\n",
       "      <th>проведение свадьбы</th>\n",
       "      <td>0.080034</td>\n",
       "    </tr>\n",
       "  </tbody>\n",
       "</table>\n",
       "</div>"
      ],
      "text/plain": [
       "                              debt\n",
       "purpose_category                  \n",
       "операции с автомобилем    0.093590\n",
       "операции с недвижимостью  0.072334\n",
       "получение образования     0.092200\n",
       "проведение свадьбы        0.080034"
      ]
     },
     "execution_count": 58,
     "metadata": {},
     "output_type": "execute_result"
    }
   ],
   "source": [
    "# посмотрим среднее значение (ratio)\n",
    "df.pivot_table(index=['purpose_category'], values=['debt']) "
   ]
  },
  {
   "cell_type": "markdown",
   "id": "b8f7607e",
   "metadata": {},
   "source": [
    "**Выводы**\n",
    "\n",
    "Луший показатель у клиентов с целью покупки недвижимости или жилья."
   ]
  },
  {
   "cell_type": "markdown",
   "id": "ea2ebc36",
   "metadata": {},
   "source": [
    "## Общий вывод:"
   ]
  },
  {
   "cell_type": "markdown",
   "id": "da9738bd",
   "metadata": {},
   "source": [
    "Клиенты без детей отвественнее всего подходят к выплате кредита в срок. А если смотреть семейное положение то вдовец/вдова самые ответственные из клиентов, но их не так много от общего числа клиентов. У клиентов с целью покупки недвижимости или жилья тоже показатель очень высокий. Лучший средний показатель у клиентов из категрии `D`. Клиенты с небольшим доходом знают, что в им нужна хорошая кредитная история."
   ]
  }
 ],
 "metadata": {
  "ExecuteTimeLog": [
   {
    "duration": 293,
    "start_time": "2022-03-08T17:54:00.196Z"
   },
   {
    "duration": 1064,
    "start_time": "2022-03-08T17:54:46.368Z"
   },
   {
    "duration": 97,
    "start_time": "2022-03-08T17:54:48.168Z"
   },
   {
    "duration": 81,
    "start_time": "2022-03-08T17:54:50.096Z"
   },
   {
    "duration": 36,
    "start_time": "2022-03-08T17:56:26.569Z"
   },
   {
    "duration": 14,
    "start_time": "2022-03-08T18:11:13.641Z"
   },
   {
    "duration": 20,
    "start_time": "2022-03-08T18:44:40.396Z"
   },
   {
    "duration": 14,
    "start_time": "2022-03-08T18:47:58.190Z"
   },
   {
    "duration": 14,
    "start_time": "2022-03-08T18:53:16.364Z"
   },
   {
    "duration": 297,
    "start_time": "2022-03-09T18:36:17.342Z"
   },
   {
    "duration": 706,
    "start_time": "2022-03-09T18:36:25.111Z"
   },
   {
    "duration": 59,
    "start_time": "2022-03-09T18:36:25.820Z"
   },
   {
    "duration": 31,
    "start_time": "2022-03-09T18:36:25.886Z"
   },
   {
    "duration": 16,
    "start_time": "2022-03-09T18:36:25.919Z"
   },
   {
    "duration": 13,
    "start_time": "2022-03-09T18:36:25.937Z"
   },
   {
    "duration": 255,
    "start_time": "2022-03-09T18:38:19.880Z"
   },
   {
    "duration": 8,
    "start_time": "2022-03-09T18:38:31.186Z"
   },
   {
    "duration": 14,
    "start_time": "2022-03-09T18:38:58.708Z"
   },
   {
    "duration": 20,
    "start_time": "2022-03-09T18:39:17.236Z"
   },
   {
    "duration": 18,
    "start_time": "2022-03-09T18:39:26.108Z"
   },
   {
    "duration": 12,
    "start_time": "2022-03-09T18:39:55.028Z"
   },
   {
    "duration": 12,
    "start_time": "2022-03-09T18:40:07.659Z"
   },
   {
    "duration": 33,
    "start_time": "2022-03-09T18:40:23.236Z"
   },
   {
    "duration": 10,
    "start_time": "2022-03-09T18:54:01.109Z"
   },
   {
    "duration": 11,
    "start_time": "2022-03-09T18:54:43.479Z"
   },
   {
    "duration": 238,
    "start_time": "2022-03-09T18:56:23.759Z"
   },
   {
    "duration": 19,
    "start_time": "2022-03-09T18:57:00.576Z"
   },
   {
    "duration": 25,
    "start_time": "2022-03-09T18:57:31.247Z"
   },
   {
    "duration": 23,
    "start_time": "2022-03-09T19:12:10.554Z"
   },
   {
    "duration": 22,
    "start_time": "2022-03-09T19:13:54.456Z"
   },
   {
    "duration": 21,
    "start_time": "2022-03-09T19:13:57.650Z"
   },
   {
    "duration": 268,
    "start_time": "2022-03-12T08:43:10.141Z"
   },
   {
    "duration": 558,
    "start_time": "2022-03-12T08:43:21.989Z"
   },
   {
    "duration": 46,
    "start_time": "2022-03-12T08:43:22.549Z"
   },
   {
    "duration": 17,
    "start_time": "2022-03-12T08:43:22.597Z"
   },
   {
    "duration": 12,
    "start_time": "2022-03-12T08:43:22.616Z"
   },
   {
    "duration": 8,
    "start_time": "2022-03-12T08:43:22.630Z"
   },
   {
    "duration": 14,
    "start_time": "2022-03-12T08:43:22.663Z"
   },
   {
    "duration": 13,
    "start_time": "2022-03-12T08:43:22.679Z"
   },
   {
    "duration": 6,
    "start_time": "2022-03-12T08:43:22.693Z"
   },
   {
    "duration": 8,
    "start_time": "2022-03-12T08:44:55.122Z"
   },
   {
    "duration": 8,
    "start_time": "2022-03-12T08:47:13.052Z"
   },
   {
    "duration": 584,
    "start_time": "2022-03-12T08:47:36.684Z"
   },
   {
    "duration": 8,
    "start_time": "2022-03-12T08:47:43.604Z"
   },
   {
    "duration": 7,
    "start_time": "2022-03-12T08:48:38.285Z"
   },
   {
    "duration": 4,
    "start_time": "2022-03-12T08:53:06.709Z"
   },
   {
    "duration": 4,
    "start_time": "2022-03-12T08:53:15.352Z"
   },
   {
    "duration": 294,
    "start_time": "2022-03-12T08:58:07.152Z"
   },
   {
    "duration": 108,
    "start_time": "2022-03-12T08:58:16.657Z"
   },
   {
    "duration": 347,
    "start_time": "2022-03-12T08:58:30.171Z"
   },
   {
    "duration": 266,
    "start_time": "2022-03-12T08:59:56.804Z"
   },
   {
    "duration": 8,
    "start_time": "2022-03-12T09:01:36.549Z"
   },
   {
    "duration": 8,
    "start_time": "2022-03-12T09:02:18.414Z"
   },
   {
    "duration": 5,
    "start_time": "2022-03-12T09:04:21.113Z"
   },
   {
    "duration": 5,
    "start_time": "2022-03-12T09:04:45.102Z"
   },
   {
    "duration": 4,
    "start_time": "2022-03-12T09:04:58.784Z"
   },
   {
    "duration": 4,
    "start_time": "2022-03-12T09:05:17.071Z"
   },
   {
    "duration": 11,
    "start_time": "2022-03-12T09:06:04.520Z"
   },
   {
    "duration": 6,
    "start_time": "2022-03-12T09:06:41.824Z"
   },
   {
    "duration": 85,
    "start_time": "2022-03-12T09:12:13.972Z"
   },
   {
    "duration": 5,
    "start_time": "2022-03-12T09:13:04.005Z"
   },
   {
    "duration": 4,
    "start_time": "2022-03-12T09:20:50.576Z"
   },
   {
    "duration": 5,
    "start_time": "2022-03-12T09:21:19.455Z"
   },
   {
    "duration": 6,
    "start_time": "2022-03-12T09:22:00.449Z"
   },
   {
    "duration": 79,
    "start_time": "2022-03-12T09:27:02.836Z"
   },
   {
    "duration": 92,
    "start_time": "2022-03-12T09:27:51.102Z"
   },
   {
    "duration": 78,
    "start_time": "2022-03-12T09:27:55.102Z"
   },
   {
    "duration": 111,
    "start_time": "2022-03-12T09:28:52.024Z"
   },
   {
    "duration": 115,
    "start_time": "2022-03-12T09:29:21.607Z"
   },
   {
    "duration": 6,
    "start_time": "2022-03-12T09:29:39.014Z"
   },
   {
    "duration": 4,
    "start_time": "2022-03-12T09:33:41.383Z"
   },
   {
    "duration": 5,
    "start_time": "2022-03-12T09:33:59.945Z"
   },
   {
    "duration": 3,
    "start_time": "2022-03-12T09:34:22.738Z"
   },
   {
    "duration": 4,
    "start_time": "2022-03-12T09:35:16.050Z"
   },
   {
    "duration": 3,
    "start_time": "2022-03-12T09:35:18.690Z"
   },
   {
    "duration": 5,
    "start_time": "2022-03-12T09:35:27.099Z"
   },
   {
    "duration": 4,
    "start_time": "2022-03-12T09:35:36.011Z"
   },
   {
    "duration": 4,
    "start_time": "2022-03-12T09:35:38.427Z"
   },
   {
    "duration": 78,
    "start_time": "2022-03-12T09:36:28.403Z"
   },
   {
    "duration": 4,
    "start_time": "2022-03-12T09:36:43.867Z"
   },
   {
    "duration": 4,
    "start_time": "2022-03-12T09:36:46.379Z"
   },
   {
    "duration": 3,
    "start_time": "2022-03-12T09:36:53.220Z"
   },
   {
    "duration": 4,
    "start_time": "2022-03-12T09:41:04.029Z"
   },
   {
    "duration": 5,
    "start_time": "2022-03-12T09:44:26.174Z"
   },
   {
    "duration": 5,
    "start_time": "2022-03-12T09:45:25.874Z"
   },
   {
    "duration": 87,
    "start_time": "2022-03-12T09:45:34.786Z"
   },
   {
    "duration": 96,
    "start_time": "2022-03-12T09:45:39.198Z"
   },
   {
    "duration": 4,
    "start_time": "2022-03-12T09:45:57.018Z"
   },
   {
    "duration": 4,
    "start_time": "2022-03-12T09:46:13.297Z"
   },
   {
    "duration": 4,
    "start_time": "2022-03-12T09:46:16.034Z"
   },
   {
    "duration": 4,
    "start_time": "2022-03-12T09:49:50.460Z"
   },
   {
    "duration": 3,
    "start_time": "2022-03-12T09:50:09.348Z"
   },
   {
    "duration": 4,
    "start_time": "2022-03-12T09:50:24.236Z"
   },
   {
    "duration": 4,
    "start_time": "2022-03-12T09:51:06.674Z"
   },
   {
    "duration": 4,
    "start_time": "2022-03-12T09:52:08.742Z"
   },
   {
    "duration": 5,
    "start_time": "2022-03-12T09:52:10.357Z"
   },
   {
    "duration": 84,
    "start_time": "2022-03-12T10:33:48.113Z"
   },
   {
    "duration": 79,
    "start_time": "2022-03-12T10:35:03.241Z"
   },
   {
    "duration": 77,
    "start_time": "2022-03-12T10:35:13.210Z"
   },
   {
    "duration": 230,
    "start_time": "2022-03-12T10:35:23.778Z"
   },
   {
    "duration": 330,
    "start_time": "2022-03-12T10:35:40.962Z"
   },
   {
    "duration": 270,
    "start_time": "2022-03-12T10:35:51.642Z"
   },
   {
    "duration": 6,
    "start_time": "2022-03-12T10:37:24.163Z"
   },
   {
    "duration": 234,
    "start_time": "2022-03-12T10:37:41.043Z"
   },
   {
    "duration": 79,
    "start_time": "2022-03-12T10:37:49.741Z"
   },
   {
    "duration": 269,
    "start_time": "2022-03-12T10:37:53.790Z"
   },
   {
    "duration": 5,
    "start_time": "2022-03-12T10:47:28.991Z"
   },
   {
    "duration": 4,
    "start_time": "2022-03-12T10:47:43.074Z"
   },
   {
    "duration": 4,
    "start_time": "2022-03-12T10:49:54.962Z"
   },
   {
    "duration": 4,
    "start_time": "2022-03-12T10:51:54.266Z"
   },
   {
    "duration": 4,
    "start_time": "2022-03-12T10:51:55.492Z"
   },
   {
    "duration": 4,
    "start_time": "2022-03-12T10:52:30.717Z"
   },
   {
    "duration": 4,
    "start_time": "2022-03-12T10:52:39.325Z"
   },
   {
    "duration": 4,
    "start_time": "2022-03-12T10:58:01.903Z"
   },
   {
    "duration": 4,
    "start_time": "2022-03-12T10:58:35.434Z"
   },
   {
    "duration": 11,
    "start_time": "2022-03-12T10:59:04.938Z"
   },
   {
    "duration": 86,
    "start_time": "2022-03-12T11:00:06.787Z"
   },
   {
    "duration": 5,
    "start_time": "2022-03-12T11:00:11.028Z"
   },
   {
    "duration": 4,
    "start_time": "2022-03-12T11:00:47.020Z"
   },
   {
    "duration": 5,
    "start_time": "2022-03-12T11:01:04.364Z"
   },
   {
    "duration": 10,
    "start_time": "2022-03-12T11:01:51.580Z"
   },
   {
    "duration": 10,
    "start_time": "2022-03-12T11:03:10.820Z"
   },
   {
    "duration": 792,
    "start_time": "2022-03-12T16:50:02.903Z"
   },
   {
    "duration": 429,
    "start_time": "2022-03-12T16:50:03.697Z"
   },
   {
    "duration": 30,
    "start_time": "2022-03-12T16:50:04.129Z"
   },
   {
    "duration": 15,
    "start_time": "2022-03-12T16:50:04.162Z"
   },
   {
    "duration": 14,
    "start_time": "2022-03-12T16:50:04.180Z"
   },
   {
    "duration": 23,
    "start_time": "2022-03-12T16:50:04.232Z"
   },
   {
    "duration": 21,
    "start_time": "2022-03-12T16:50:04.257Z"
   },
   {
    "duration": 4,
    "start_time": "2022-03-12T16:50:04.280Z"
   },
   {
    "duration": 44,
    "start_time": "2022-03-12T16:50:04.288Z"
   },
   {
    "duration": 4,
    "start_time": "2022-03-12T16:50:04.335Z"
   },
   {
    "duration": 5,
    "start_time": "2022-03-12T16:50:04.342Z"
   },
   {
    "duration": 7,
    "start_time": "2022-03-12T16:50:04.349Z"
   },
   {
    "duration": 5,
    "start_time": "2022-03-12T16:50:04.358Z"
   },
   {
    "duration": 4,
    "start_time": "2022-03-12T16:50:04.365Z"
   },
   {
    "duration": 5,
    "start_time": "2022-03-12T16:50:04.371Z"
   },
   {
    "duration": 64,
    "start_time": "2022-03-12T16:50:04.378Z"
   },
   {
    "duration": 99,
    "start_time": "2022-03-12T16:53:26.450Z"
   },
   {
    "duration": 5,
    "start_time": "2022-03-12T16:53:31.267Z"
   },
   {
    "duration": 19,
    "start_time": "2022-03-12T16:54:05.294Z"
   },
   {
    "duration": 7,
    "start_time": "2022-03-12T16:56:23.742Z"
   },
   {
    "duration": 6,
    "start_time": "2022-03-12T16:56:35.264Z"
   },
   {
    "duration": 18,
    "start_time": "2022-03-12T17:52:11.646Z"
   },
   {
    "duration": 7,
    "start_time": "2022-03-12T17:54:53.692Z"
   },
   {
    "duration": 5,
    "start_time": "2022-03-12T18:11:07.023Z"
   },
   {
    "duration": 5,
    "start_time": "2022-03-12T18:11:20.650Z"
   },
   {
    "duration": 3,
    "start_time": "2022-03-12T18:11:29.119Z"
   },
   {
    "duration": 67,
    "start_time": "2022-03-12T18:11:29.125Z"
   },
   {
    "duration": 19,
    "start_time": "2022-03-12T18:11:29.195Z"
   },
   {
    "duration": 34,
    "start_time": "2022-03-12T18:11:29.216Z"
   },
   {
    "duration": 5,
    "start_time": "2022-03-12T18:11:29.253Z"
   },
   {
    "duration": 74,
    "start_time": "2022-03-12T18:11:29.261Z"
   },
   {
    "duration": 17,
    "start_time": "2022-03-12T18:11:29.338Z"
   },
   {
    "duration": 23,
    "start_time": "2022-03-12T18:11:29.359Z"
   },
   {
    "duration": 58,
    "start_time": "2022-03-12T18:11:29.384Z"
   },
   {
    "duration": 5,
    "start_time": "2022-03-12T18:11:29.445Z"
   },
   {
    "duration": 11,
    "start_time": "2022-03-12T18:11:29.452Z"
   },
   {
    "duration": 8,
    "start_time": "2022-03-12T18:11:29.466Z"
   },
   {
    "duration": 5,
    "start_time": "2022-03-12T18:11:29.476Z"
   },
   {
    "duration": 6,
    "start_time": "2022-03-12T18:11:29.531Z"
   },
   {
    "duration": 6,
    "start_time": "2022-03-12T18:11:29.539Z"
   },
   {
    "duration": 5,
    "start_time": "2022-03-12T18:11:29.548Z"
   },
   {
    "duration": 5,
    "start_time": "2022-03-12T18:11:29.556Z"
   },
   {
    "duration": 14,
    "start_time": "2022-03-12T18:11:29.563Z"
   },
   {
    "duration": 6,
    "start_time": "2022-03-12T18:11:29.632Z"
   },
   {
    "duration": 5,
    "start_time": "2022-03-12T18:11:56.162Z"
   },
   {
    "duration": 404,
    "start_time": "2022-03-12T18:13:26.883Z"
   },
   {
    "duration": 102,
    "start_time": "2022-03-12T18:13:32.708Z"
   },
   {
    "duration": 325,
    "start_time": "2022-03-12T18:13:37.194Z"
   },
   {
    "duration": 5,
    "start_time": "2022-03-12T18:13:40.884Z"
   },
   {
    "duration": 6,
    "start_time": "2022-03-12T18:14:39.140Z"
   },
   {
    "duration": 6,
    "start_time": "2022-03-12T18:15:15.404Z"
   },
   {
    "duration": 6,
    "start_time": "2022-03-12T18:18:25.756Z"
   },
   {
    "duration": 37,
    "start_time": "2022-03-12T18:30:16.925Z"
   },
   {
    "duration": 35,
    "start_time": "2022-03-12T18:31:10.484Z"
   },
   {
    "duration": 36,
    "start_time": "2022-03-12T18:31:48.991Z"
   },
   {
    "duration": 35,
    "start_time": "2022-03-12T18:32:45.912Z"
   },
   {
    "duration": 5,
    "start_time": "2022-03-12T18:40:51.805Z"
   },
   {
    "duration": 5,
    "start_time": "2022-03-12T18:41:06.526Z"
   },
   {
    "duration": 6,
    "start_time": "2022-03-12T18:41:27.365Z"
   },
   {
    "duration": 38,
    "start_time": "2022-03-12T18:42:25.764Z"
   },
   {
    "duration": 303,
    "start_time": "2022-03-12T19:15:58.533Z"
   },
   {
    "duration": 334,
    "start_time": "2022-03-12T19:16:07.028Z"
   },
   {
    "duration": 390,
    "start_time": "2022-03-12T19:20:03.136Z"
   },
   {
    "duration": 8,
    "start_time": "2022-03-12T19:20:28.136Z"
   },
   {
    "duration": 6,
    "start_time": "2022-03-12T19:20:31.832Z"
   },
   {
    "duration": 115,
    "start_time": "2022-03-12T19:25:09.681Z"
   },
   {
    "duration": 380,
    "start_time": "2022-03-12T19:25:22.434Z"
   },
   {
    "duration": 324,
    "start_time": "2022-03-12T19:25:45.251Z"
   },
   {
    "duration": 339,
    "start_time": "2022-03-12T19:26:40.052Z"
   },
   {
    "duration": 545,
    "start_time": "2022-03-12T19:27:20.984Z"
   },
   {
    "duration": 1477,
    "start_time": "2022-03-12T19:27:37.953Z"
   },
   {
    "duration": 116,
    "start_time": "2022-03-12T19:28:14.317Z"
   },
   {
    "duration": 7793,
    "start_time": "2022-03-12T19:28:17.351Z"
   },
   {
    "duration": 355,
    "start_time": "2022-03-12T19:28:52.101Z"
   },
   {
    "duration": 11,
    "start_time": "2022-03-12T19:29:04.805Z"
   },
   {
    "duration": 10,
    "start_time": "2022-03-12T19:29:14.147Z"
   },
   {
    "duration": 5,
    "start_time": "2022-03-12T19:30:39.743Z"
   },
   {
    "duration": 6,
    "start_time": "2022-03-12T19:31:26.440Z"
   },
   {
    "duration": 7,
    "start_time": "2022-03-12T19:32:04.071Z"
   },
   {
    "duration": 7,
    "start_time": "2022-03-12T19:32:19.423Z"
   },
   {
    "duration": 5,
    "start_time": "2022-03-12T19:32:46.936Z"
   },
   {
    "duration": 7,
    "start_time": "2022-03-12T19:33:02.616Z"
   },
   {
    "duration": 6,
    "start_time": "2022-03-12T19:33:55.145Z"
   },
   {
    "duration": 7,
    "start_time": "2022-03-12T19:34:06.712Z"
   },
   {
    "duration": 7,
    "start_time": "2022-03-12T19:37:37.427Z"
   },
   {
    "duration": 6,
    "start_time": "2022-03-12T19:37:53.107Z"
   },
   {
    "duration": 9,
    "start_time": "2022-03-12T19:38:06.763Z"
   },
   {
    "duration": 8,
    "start_time": "2022-03-12T19:51:12.969Z"
   },
   {
    "duration": 6,
    "start_time": "2022-03-12T19:51:37.964Z"
   },
   {
    "duration": 15,
    "start_time": "2022-03-12T19:51:51.508Z"
   },
   {
    "duration": 32,
    "start_time": "2022-03-12T19:52:13.300Z"
   },
   {
    "duration": 376,
    "start_time": "2022-03-13T07:55:42.015Z"
   },
   {
    "duration": 552,
    "start_time": "2022-03-13T07:55:56.020Z"
   },
   {
    "duration": 46,
    "start_time": "2022-03-13T07:55:56.574Z"
   },
   {
    "duration": 16,
    "start_time": "2022-03-13T07:55:56.622Z"
   },
   {
    "duration": 9,
    "start_time": "2022-03-13T07:55:56.640Z"
   },
   {
    "duration": 2,
    "start_time": "2022-03-13T07:55:56.651Z"
   },
   {
    "duration": 12,
    "start_time": "2022-03-13T07:55:56.654Z"
   },
   {
    "duration": 5,
    "start_time": "2022-03-13T07:55:56.668Z"
   },
   {
    "duration": 20,
    "start_time": "2022-03-13T07:55:56.701Z"
   },
   {
    "duration": 3,
    "start_time": "2022-03-13T07:55:56.723Z"
   },
   {
    "duration": 6,
    "start_time": "2022-03-13T07:55:56.727Z"
   },
   {
    "duration": 4,
    "start_time": "2022-03-13T07:55:56.735Z"
   },
   {
    "duration": 9,
    "start_time": "2022-03-13T07:55:56.740Z"
   },
   {
    "duration": 12,
    "start_time": "2022-03-13T07:55:56.750Z"
   },
   {
    "duration": 11,
    "start_time": "2022-03-13T07:55:56.801Z"
   },
   {
    "duration": 2,
    "start_time": "2022-03-13T07:55:56.814Z"
   },
   {
    "duration": 5,
    "start_time": "2022-03-13T07:55:56.817Z"
   },
   {
    "duration": 9,
    "start_time": "2022-03-13T07:55:56.823Z"
   },
   {
    "duration": 10,
    "start_time": "2022-03-13T07:55:56.833Z"
   },
   {
    "duration": 11,
    "start_time": "2022-03-13T07:55:56.845Z"
   },
   {
    "duration": 8,
    "start_time": "2022-03-13T07:55:56.858Z"
   },
   {
    "duration": 8,
    "start_time": "2022-03-13T07:55:56.867Z"
   },
   {
    "duration": 24,
    "start_time": "2022-03-13T07:55:56.877Z"
   },
   {
    "duration": 13,
    "start_time": "2022-03-13T07:55:56.903Z"
   },
   {
    "duration": 4,
    "start_time": "2022-03-13T07:55:56.917Z"
   },
   {
    "duration": 16,
    "start_time": "2022-03-13T07:55:56.922Z"
   },
   {
    "duration": 4,
    "start_time": "2022-03-13T07:55:56.940Z"
   },
   {
    "duration": 341,
    "start_time": "2022-03-13T07:58:46.518Z"
   },
   {
    "duration": 10,
    "start_time": "2022-03-13T08:05:08.008Z"
   },
   {
    "duration": 8,
    "start_time": "2022-03-13T08:05:19.329Z"
   },
   {
    "duration": 5,
    "start_time": "2022-03-13T08:07:40.401Z"
   },
   {
    "duration": 5,
    "start_time": "2022-03-13T08:07:56.822Z"
   },
   {
    "duration": 5,
    "start_time": "2022-03-13T08:08:09.883Z"
   },
   {
    "duration": 11,
    "start_time": "2022-03-13T08:08:18.124Z"
   },
   {
    "duration": 7,
    "start_time": "2022-03-13T08:08:20.643Z"
   },
   {
    "duration": 3,
    "start_time": "2022-03-13T08:08:27.536Z"
   },
   {
    "duration": 56,
    "start_time": "2022-03-13T08:08:27.540Z"
   },
   {
    "duration": 11,
    "start_time": "2022-03-13T08:08:27.598Z"
   },
   {
    "duration": 17,
    "start_time": "2022-03-13T08:08:27.610Z"
   },
   {
    "duration": 12,
    "start_time": "2022-03-13T08:08:27.628Z"
   },
   {
    "duration": 29,
    "start_time": "2022-03-13T08:08:27.641Z"
   },
   {
    "duration": 14,
    "start_time": "2022-03-13T08:08:27.672Z"
   },
   {
    "duration": 23,
    "start_time": "2022-03-13T08:08:27.688Z"
   },
   {
    "duration": 3,
    "start_time": "2022-03-13T08:08:27.714Z"
   },
   {
    "duration": 12,
    "start_time": "2022-03-13T08:08:27.720Z"
   },
   {
    "duration": 7,
    "start_time": "2022-03-13T08:08:27.734Z"
   },
   {
    "duration": 19,
    "start_time": "2022-03-13T08:08:27.743Z"
   },
   {
    "duration": 23,
    "start_time": "2022-03-13T08:08:27.763Z"
   },
   {
    "duration": 26,
    "start_time": "2022-03-13T08:08:27.788Z"
   },
   {
    "duration": 4,
    "start_time": "2022-03-13T08:08:27.815Z"
   },
   {
    "duration": 15,
    "start_time": "2022-03-13T08:08:27.821Z"
   },
   {
    "duration": 19,
    "start_time": "2022-03-13T08:08:27.837Z"
   },
   {
    "duration": 11,
    "start_time": "2022-03-13T08:08:27.857Z"
   },
   {
    "duration": 18,
    "start_time": "2022-03-13T08:08:27.869Z"
   },
   {
    "duration": 18,
    "start_time": "2022-03-13T08:08:27.888Z"
   },
   {
    "duration": 9,
    "start_time": "2022-03-13T08:08:27.908Z"
   },
   {
    "duration": 15,
    "start_time": "2022-03-13T08:08:27.919Z"
   },
   {
    "duration": 25,
    "start_time": "2022-03-13T08:08:27.935Z"
   },
   {
    "duration": 13,
    "start_time": "2022-03-13T08:08:27.961Z"
   },
   {
    "duration": 29,
    "start_time": "2022-03-13T08:08:27.975Z"
   },
   {
    "duration": 6,
    "start_time": "2022-03-13T08:08:28.006Z"
   },
   {
    "duration": 21,
    "start_time": "2022-03-13T08:08:28.015Z"
   },
   {
    "duration": 23,
    "start_time": "2022-03-13T08:08:28.037Z"
   },
   {
    "duration": 7810,
    "start_time": "2022-03-13T08:34:53.390Z"
   },
   {
    "duration": 3,
    "start_time": "2022-03-13T08:37:14.502Z"
   },
   {
    "duration": 4,
    "start_time": "2022-03-13T08:37:41.815Z"
   },
   {
    "duration": 9094,
    "start_time": "2022-03-13T08:44:45.004Z"
   },
   {
    "duration": 4,
    "start_time": "2022-03-13T08:45:02.060Z"
   },
   {
    "duration": 9,
    "start_time": "2022-03-13T08:45:04.547Z"
   },
   {
    "duration": 324,
    "start_time": "2022-03-13T08:45:48.541Z"
   },
   {
    "duration": 7,
    "start_time": "2022-03-13T08:47:24.950Z"
   },
   {
    "duration": 8,
    "start_time": "2022-03-13T08:48:17.726Z"
   },
   {
    "duration": 6,
    "start_time": "2022-03-13T08:48:20.716Z"
   },
   {
    "duration": 4,
    "start_time": "2022-03-13T08:52:13.921Z"
   },
   {
    "duration": 8,
    "start_time": "2022-03-13T08:52:16.233Z"
   },
   {
    "duration": 107,
    "start_time": "2022-03-13T08:52:51.721Z"
   },
   {
    "duration": 7,
    "start_time": "2022-03-13T08:52:56.633Z"
   },
   {
    "duration": 5,
    "start_time": "2022-03-13T08:52:59.383Z"
   },
   {
    "duration": 6,
    "start_time": "2022-03-13T08:54:18.698Z"
   },
   {
    "duration": 5,
    "start_time": "2022-03-13T08:54:43.331Z"
   },
   {
    "duration": 12,
    "start_time": "2022-03-13T08:59:48.582Z"
   },
   {
    "duration": 7,
    "start_time": "2022-03-13T09:00:36.374Z"
   },
   {
    "duration": 5,
    "start_time": "2022-03-13T09:01:10.527Z"
   },
   {
    "duration": 2,
    "start_time": "2022-03-13T09:01:29.201Z"
   },
   {
    "duration": 48,
    "start_time": "2022-03-13T09:01:29.205Z"
   },
   {
    "duration": 11,
    "start_time": "2022-03-13T09:01:29.255Z"
   },
   {
    "duration": 11,
    "start_time": "2022-03-13T09:01:29.267Z"
   },
   {
    "duration": 2,
    "start_time": "2022-03-13T09:01:29.301Z"
   },
   {
    "duration": 11,
    "start_time": "2022-03-13T09:01:29.305Z"
   },
   {
    "duration": 4,
    "start_time": "2022-03-13T09:01:29.318Z"
   },
   {
    "duration": 20,
    "start_time": "2022-03-13T09:01:29.324Z"
   },
   {
    "duration": 3,
    "start_time": "2022-03-13T09:01:29.346Z"
   },
   {
    "duration": 5,
    "start_time": "2022-03-13T09:01:29.351Z"
   },
   {
    "duration": 45,
    "start_time": "2022-03-13T09:01:29.357Z"
   },
   {
    "duration": 8,
    "start_time": "2022-03-13T09:01:29.403Z"
   },
   {
    "duration": 15,
    "start_time": "2022-03-13T09:01:29.413Z"
   },
   {
    "duration": 12,
    "start_time": "2022-03-13T09:01:29.430Z"
   },
   {
    "duration": 4,
    "start_time": "2022-03-13T09:01:29.444Z"
   },
   {
    "duration": 8,
    "start_time": "2022-03-13T09:01:29.450Z"
   },
   {
    "duration": 41,
    "start_time": "2022-03-13T09:01:29.460Z"
   },
   {
    "duration": 5,
    "start_time": "2022-03-13T09:01:29.503Z"
   },
   {
    "duration": 6,
    "start_time": "2022-03-13T09:01:29.509Z"
   },
   {
    "duration": 11,
    "start_time": "2022-03-13T09:01:29.517Z"
   },
   {
    "duration": 11,
    "start_time": "2022-03-13T09:01:29.529Z"
   },
   {
    "duration": 8,
    "start_time": "2022-03-13T09:01:29.542Z"
   },
   {
    "duration": 17,
    "start_time": "2022-03-13T09:01:29.551Z"
   },
   {
    "duration": 6,
    "start_time": "2022-03-13T09:01:29.570Z"
   },
   {
    "duration": 17,
    "start_time": "2022-03-13T09:01:29.577Z"
   },
   {
    "duration": 4,
    "start_time": "2022-03-13T09:01:29.601Z"
   },
   {
    "duration": 12,
    "start_time": "2022-03-13T09:01:29.608Z"
   },
   {
    "duration": 10,
    "start_time": "2022-03-13T09:01:29.621Z"
   },
   {
    "duration": 10,
    "start_time": "2022-03-13T09:01:29.633Z"
   },
   {
    "duration": 15,
    "start_time": "2022-03-13T09:01:29.644Z"
   },
   {
    "duration": 11,
    "start_time": "2022-03-13T09:01:29.660Z"
   },
   {
    "duration": 30,
    "start_time": "2022-03-13T09:01:29.672Z"
   },
   {
    "duration": 7,
    "start_time": "2022-03-13T09:01:29.704Z"
   },
   {
    "duration": 9,
    "start_time": "2022-03-13T09:01:29.713Z"
   },
   {
    "duration": 10,
    "start_time": "2022-03-13T09:01:29.723Z"
   },
   {
    "duration": 6,
    "start_time": "2022-03-13T09:06:04.122Z"
   },
   {
    "duration": 16,
    "start_time": "2022-03-13T09:34:50.573Z"
   },
   {
    "duration": 16,
    "start_time": "2022-03-13T09:35:15.675Z"
   },
   {
    "duration": 18,
    "start_time": "2022-03-13T09:35:37.637Z"
   },
   {
    "duration": 5,
    "start_time": "2022-03-13T09:35:49.551Z"
   },
   {
    "duration": 20,
    "start_time": "2022-03-13T09:35:52.221Z"
   },
   {
    "duration": 645,
    "start_time": "2022-03-13T11:40:07.367Z"
   },
   {
    "duration": 3,
    "start_time": "2022-03-13T11:40:11.919Z"
   },
   {
    "duration": 4,
    "start_time": "2022-03-13T11:40:13.880Z"
   },
   {
    "duration": 4,
    "start_time": "2022-03-13T11:40:38.487Z"
   },
   {
    "duration": 3,
    "start_time": "2022-03-13T11:40:53.152Z"
   },
   {
    "duration": 4,
    "start_time": "2022-03-13T11:41:07.471Z"
   },
   {
    "duration": 3,
    "start_time": "2022-03-13T11:41:18.752Z"
   },
   {
    "duration": 5,
    "start_time": "2022-03-13T11:49:35.779Z"
   },
   {
    "duration": 56,
    "start_time": "2022-03-13T11:51:47.095Z"
   },
   {
    "duration": 48,
    "start_time": "2022-03-13T11:51:47.103Z"
   },
   {
    "duration": 15,
    "start_time": "2022-03-13T11:52:05.574Z"
   },
   {
    "duration": 8,
    "start_time": "2022-03-13T11:52:24.543Z"
   },
   {
    "duration": 18,
    "start_time": "2022-03-13T11:52:26.452Z"
   },
   {
    "duration": 9,
    "start_time": "2022-03-13T11:55:20.230Z"
   },
   {
    "duration": 308,
    "start_time": "2022-03-13T11:59:40.212Z"
   },
   {
    "duration": 11,
    "start_time": "2022-03-13T12:00:02.827Z"
   },
   {
    "duration": 11,
    "start_time": "2022-03-13T12:00:36.506Z"
   },
   {
    "duration": 10,
    "start_time": "2022-03-13T12:00:45.620Z"
   },
   {
    "duration": 5,
    "start_time": "2022-03-13T12:02:20.845Z"
   },
   {
    "duration": 5,
    "start_time": "2022-03-13T12:02:26.965Z"
   },
   {
    "duration": 5,
    "start_time": "2022-03-13T12:02:33.285Z"
   },
   {
    "duration": 315,
    "start_time": "2022-03-13T12:19:31.201Z"
   },
   {
    "duration": 3,
    "start_time": "2022-03-13T12:19:38.712Z"
   },
   {
    "duration": 623,
    "start_time": "2022-03-13T12:19:41.032Z"
   },
   {
    "duration": 109,
    "start_time": "2022-03-13T12:31:54.702Z"
   },
   {
    "duration": 143,
    "start_time": "2022-03-13T12:32:04.472Z"
   },
   {
    "duration": 114,
    "start_time": "2022-03-13T12:32:44.161Z"
   },
   {
    "duration": 2,
    "start_time": "2022-03-13T12:33:32.089Z"
   },
   {
    "duration": 96,
    "start_time": "2022-03-13T12:33:38.561Z"
   },
   {
    "duration": 669,
    "start_time": "2022-03-13T12:33:52.953Z"
   },
   {
    "duration": 297,
    "start_time": "2022-03-13T12:34:09.586Z"
   },
   {
    "duration": 358,
    "start_time": "2022-03-13T12:34:38.538Z"
   },
   {
    "duration": 3,
    "start_time": "2022-03-13T12:34:45.226Z"
   },
   {
    "duration": 289,
    "start_time": "2022-03-13T12:34:47.169Z"
   },
   {
    "duration": 104,
    "start_time": "2022-03-13T12:34:56.713Z"
   },
   {
    "duration": 323,
    "start_time": "2022-03-13T12:35:01.282Z"
   },
   {
    "duration": 3,
    "start_time": "2022-03-13T12:35:20.387Z"
   },
   {
    "duration": 4,
    "start_time": "2022-03-13T12:35:26.410Z"
   },
   {
    "duration": 4,
    "start_time": "2022-03-13T12:36:01.644Z"
   },
   {
    "duration": 106,
    "start_time": "2022-03-13T12:53:56.372Z"
   },
   {
    "duration": 3,
    "start_time": "2022-03-13T12:54:53.183Z"
   },
   {
    "duration": 4,
    "start_time": "2022-03-13T12:55:46.711Z"
   },
   {
    "duration": 4,
    "start_time": "2022-03-13T12:55:50.743Z"
   },
   {
    "duration": 3,
    "start_time": "2022-03-13T12:55:58.920Z"
   },
   {
    "duration": 4,
    "start_time": "2022-03-13T12:56:10.280Z"
   },
   {
    "duration": 4,
    "start_time": "2022-03-13T12:56:17.345Z"
   },
   {
    "duration": 4,
    "start_time": "2022-03-13T12:56:34.568Z"
   },
   {
    "duration": 4,
    "start_time": "2022-03-13T12:56:36.504Z"
   },
   {
    "duration": 4,
    "start_time": "2022-03-13T12:56:38.615Z"
   },
   {
    "duration": 3,
    "start_time": "2022-03-13T12:56:52.624Z"
   },
   {
    "duration": 128,
    "start_time": "2022-03-13T12:57:11.737Z"
   },
   {
    "duration": 4,
    "start_time": "2022-03-13T12:57:22.752Z"
   },
   {
    "duration": 3,
    "start_time": "2022-03-13T12:57:28.000Z"
   },
   {
    "duration": 5,
    "start_time": "2022-03-13T12:57:30.432Z"
   },
   {
    "duration": 3,
    "start_time": "2022-03-13T12:57:40.961Z"
   },
   {
    "duration": 300,
    "start_time": "2022-03-13T12:57:48.289Z"
   },
   {
    "duration": 3,
    "start_time": "2022-03-13T12:58:05.305Z"
   },
   {
    "duration": 4,
    "start_time": "2022-03-13T12:59:29.274Z"
   },
   {
    "duration": 3,
    "start_time": "2022-03-13T13:01:53.042Z"
   },
   {
    "duration": 7,
    "start_time": "2022-03-13T13:02:01.531Z"
   },
   {
    "duration": 332,
    "start_time": "2022-03-13T13:02:34.348Z"
   },
   {
    "duration": 5,
    "start_time": "2022-03-13T13:02:41.051Z"
   },
   {
    "duration": 4,
    "start_time": "2022-03-13T13:09:28.007Z"
   },
   {
    "duration": 3,
    "start_time": "2022-03-13T13:12:09.693Z"
   },
   {
    "duration": 47,
    "start_time": "2022-03-13T13:12:09.697Z"
   },
   {
    "duration": 12,
    "start_time": "2022-03-13T13:12:09.746Z"
   },
   {
    "duration": 13,
    "start_time": "2022-03-13T13:12:09.760Z"
   },
   {
    "duration": 28,
    "start_time": "2022-03-13T13:12:09.775Z"
   },
   {
    "duration": 15,
    "start_time": "2022-03-13T13:12:09.805Z"
   },
   {
    "duration": 4,
    "start_time": "2022-03-13T13:12:09.822Z"
   },
   {
    "duration": 21,
    "start_time": "2022-03-13T13:12:09.828Z"
   },
   {
    "duration": 3,
    "start_time": "2022-03-13T13:12:09.853Z"
   },
   {
    "duration": 6,
    "start_time": "2022-03-13T13:12:09.903Z"
   },
   {
    "duration": 4,
    "start_time": "2022-03-13T13:12:09.911Z"
   },
   {
    "duration": 8,
    "start_time": "2022-03-13T13:12:09.917Z"
   },
   {
    "duration": 12,
    "start_time": "2022-03-13T13:12:09.926Z"
   },
   {
    "duration": 11,
    "start_time": "2022-03-13T13:12:09.940Z"
   },
   {
    "duration": 3,
    "start_time": "2022-03-13T13:12:09.953Z"
   },
   {
    "duration": 3,
    "start_time": "2022-03-13T13:12:10.002Z"
   },
   {
    "duration": 6,
    "start_time": "2022-03-13T13:12:10.006Z"
   },
   {
    "duration": 5,
    "start_time": "2022-03-13T13:12:10.013Z"
   },
   {
    "duration": 8,
    "start_time": "2022-03-13T13:12:10.019Z"
   },
   {
    "duration": 8,
    "start_time": "2022-03-13T13:12:10.028Z"
   },
   {
    "duration": 9,
    "start_time": "2022-03-13T13:12:10.037Z"
   },
   {
    "duration": 8,
    "start_time": "2022-03-13T13:12:10.047Z"
   },
   {
    "duration": 18,
    "start_time": "2022-03-13T13:12:10.057Z"
   },
   {
    "duration": 26,
    "start_time": "2022-03-13T13:12:10.077Z"
   },
   {
    "duration": 12,
    "start_time": "2022-03-13T13:12:10.104Z"
   },
   {
    "duration": 5,
    "start_time": "2022-03-13T13:12:10.117Z"
   },
   {
    "duration": 10,
    "start_time": "2022-03-13T13:12:10.125Z"
   },
   {
    "duration": 9,
    "start_time": "2022-03-13T13:12:10.137Z"
   },
   {
    "duration": 9,
    "start_time": "2022-03-13T13:12:10.147Z"
   },
   {
    "duration": 51,
    "start_time": "2022-03-13T13:12:10.158Z"
   },
   {
    "duration": 9,
    "start_time": "2022-03-13T13:12:10.210Z"
   },
   {
    "duration": 8,
    "start_time": "2022-03-13T13:12:10.220Z"
   },
   {
    "duration": 8,
    "start_time": "2022-03-13T13:12:10.229Z"
   },
   {
    "duration": 11,
    "start_time": "2022-03-13T13:12:10.238Z"
   },
   {
    "duration": 10,
    "start_time": "2022-03-13T13:12:10.251Z"
   },
   {
    "duration": 39,
    "start_time": "2022-03-13T13:12:10.262Z"
   },
   {
    "duration": 4,
    "start_time": "2022-03-13T13:12:10.303Z"
   },
   {
    "duration": 9,
    "start_time": "2022-03-13T13:12:10.309Z"
   },
   {
    "duration": 21,
    "start_time": "2022-03-13T13:12:10.319Z"
   },
   {
    "duration": 10,
    "start_time": "2022-03-13T13:12:10.341Z"
   },
   {
    "duration": 7,
    "start_time": "2022-03-13T13:12:10.352Z"
   },
   {
    "duration": 30084,
    "start_time": "2022-03-13T13:12:10.360Z"
   },
   {
    "duration": 58,
    "start_time": "2022-03-13T13:12:40.446Z"
   },
   {
    "duration": 18,
    "start_time": "2022-03-13T13:14:00.318Z"
   },
   {
    "duration": 5,
    "start_time": "2022-03-13T13:14:36.390Z"
   },
   {
    "duration": 4,
    "start_time": "2022-03-13T13:15:05.143Z"
   },
   {
    "duration": 33139,
    "start_time": "2022-03-13T13:15:08.769Z"
   },
   {
    "duration": 3,
    "start_time": "2022-03-13T13:16:25.320Z"
   },
   {
    "duration": 30355,
    "start_time": "2022-03-13T13:16:28.686Z"
   },
   {
    "duration": 63,
    "start_time": "2022-03-13T13:16:59.043Z"
   },
   {
    "duration": 5,
    "start_time": "2022-03-13T13:17:00.518Z"
   },
   {
    "duration": 3,
    "start_time": "2022-03-13T13:17:29.178Z"
   },
   {
    "duration": 7,
    "start_time": "2022-03-13T13:17:32.372Z"
   },
   {
    "duration": 4,
    "start_time": "2022-03-13T13:17:34.669Z"
   },
   {
    "duration": 3,
    "start_time": "2022-03-13T13:17:59.270Z"
   },
   {
    "duration": 34457,
    "start_time": "2022-03-13T13:18:01.766Z"
   },
   {
    "duration": 4,
    "start_time": "2022-03-13T13:19:25.107Z"
   },
   {
    "duration": 34085,
    "start_time": "2022-03-13T13:19:29.247Z"
   },
   {
    "duration": 5,
    "start_time": "2022-03-13T13:20:03.334Z"
   },
   {
    "duration": 3,
    "start_time": "2022-03-13T13:20:25.900Z"
   },
   {
    "duration": 13,
    "start_time": "2022-03-13T13:20:29.012Z"
   },
   {
    "duration": 7,
    "start_time": "2022-03-13T13:20:30.912Z"
   },
   {
    "duration": 5,
    "start_time": "2022-03-13T13:21:43.049Z"
   },
   {
    "duration": 95,
    "start_time": "2022-03-13T13:22:54.913Z"
   },
   {
    "duration": 14,
    "start_time": "2022-03-13T13:22:58.365Z"
   },
   {
    "duration": 4,
    "start_time": "2022-03-13T13:23:25.130Z"
   },
   {
    "duration": 5,
    "start_time": "2022-03-13T13:24:01.827Z"
   },
   {
    "duration": 3,
    "start_time": "2022-03-13T13:24:33.605Z"
   },
   {
    "duration": 95,
    "start_time": "2022-03-13T13:24:33.611Z"
   },
   {
    "duration": 11,
    "start_time": "2022-03-13T13:24:33.708Z"
   },
   {
    "duration": 11,
    "start_time": "2022-03-13T13:24:33.721Z"
   },
   {
    "duration": 3,
    "start_time": "2022-03-13T13:24:33.734Z"
   },
   {
    "duration": 64,
    "start_time": "2022-03-13T13:24:33.739Z"
   },
   {
    "duration": 7,
    "start_time": "2022-03-13T13:24:33.805Z"
   },
   {
    "duration": 27,
    "start_time": "2022-03-13T13:24:33.815Z"
   },
   {
    "duration": 5,
    "start_time": "2022-03-13T13:24:33.844Z"
   },
   {
    "duration": 55,
    "start_time": "2022-03-13T13:24:33.852Z"
   },
   {
    "duration": 6,
    "start_time": "2022-03-13T13:24:33.909Z"
   },
   {
    "duration": 8,
    "start_time": "2022-03-13T13:24:33.918Z"
   },
   {
    "duration": 13,
    "start_time": "2022-03-13T13:24:33.928Z"
   },
   {
    "duration": 66,
    "start_time": "2022-03-13T13:24:33.942Z"
   },
   {
    "duration": 3,
    "start_time": "2022-03-13T13:24:34.010Z"
   },
   {
    "duration": 6,
    "start_time": "2022-03-13T13:24:34.014Z"
   },
   {
    "duration": 10,
    "start_time": "2022-03-13T13:24:34.021Z"
   },
   {
    "duration": 8,
    "start_time": "2022-03-13T13:24:34.032Z"
   },
   {
    "duration": 8,
    "start_time": "2022-03-13T13:24:34.042Z"
   },
   {
    "duration": 53,
    "start_time": "2022-03-13T13:24:34.052Z"
   },
   {
    "duration": 4,
    "start_time": "2022-03-13T13:24:34.107Z"
   },
   {
    "duration": 5,
    "start_time": "2022-03-13T13:24:34.113Z"
   },
   {
    "duration": 17,
    "start_time": "2022-03-13T13:24:34.119Z"
   },
   {
    "duration": 4,
    "start_time": "2022-03-13T13:24:34.137Z"
   },
   {
    "duration": 70,
    "start_time": "2022-03-13T13:24:34.143Z"
   },
   {
    "duration": 5,
    "start_time": "2022-03-13T13:24:34.215Z"
   },
   {
    "duration": 10,
    "start_time": "2022-03-13T13:24:34.221Z"
   },
   {
    "duration": 8,
    "start_time": "2022-03-13T13:24:34.233Z"
   },
   {
    "duration": 4,
    "start_time": "2022-03-13T13:24:34.243Z"
   },
   {
    "duration": 63,
    "start_time": "2022-03-13T13:24:34.248Z"
   },
   {
    "duration": 8,
    "start_time": "2022-03-13T13:24:34.313Z"
   },
   {
    "duration": 6,
    "start_time": "2022-03-13T13:24:34.322Z"
   },
   {
    "duration": 6,
    "start_time": "2022-03-13T13:24:34.330Z"
   },
   {
    "duration": 67,
    "start_time": "2022-03-13T13:24:34.338Z"
   },
   {
    "duration": 5,
    "start_time": "2022-03-13T13:24:34.407Z"
   },
   {
    "duration": 7,
    "start_time": "2022-03-13T13:24:34.414Z"
   },
   {
    "duration": 8,
    "start_time": "2022-03-13T13:24:34.422Z"
   },
   {
    "duration": 8,
    "start_time": "2022-03-13T13:24:34.432Z"
   },
   {
    "duration": 59,
    "start_time": "2022-03-13T13:24:34.442Z"
   },
   {
    "duration": 5,
    "start_time": "2022-03-13T13:24:34.503Z"
   },
   {
    "duration": 6,
    "start_time": "2022-03-13T13:24:34.509Z"
   },
   {
    "duration": 12,
    "start_time": "2022-03-13T13:24:34.516Z"
   },
   {
    "duration": 5,
    "start_time": "2022-03-13T13:24:34.529Z"
   },
   {
    "duration": 68,
    "start_time": "2022-03-13T13:24:34.535Z"
   },
   {
    "duration": 4,
    "start_time": "2022-03-13T13:28:25.125Z"
   },
   {
    "duration": 9,
    "start_time": "2022-03-13T13:28:27.436Z"
   },
   {
    "duration": 6,
    "start_time": "2022-03-13T13:28:29.740Z"
   },
   {
    "duration": 11,
    "start_time": "2022-03-13T14:40:18.093Z"
   },
   {
    "duration": 19,
    "start_time": "2022-03-13T14:40:25.628Z"
   },
   {
    "duration": 17,
    "start_time": "2022-03-13T14:46:19.049Z"
   },
   {
    "duration": 12,
    "start_time": "2022-03-13T14:46:59.873Z"
   },
   {
    "duration": 13,
    "start_time": "2022-03-13T14:48:48.810Z"
   },
   {
    "duration": 18,
    "start_time": "2022-03-13T15:49:52.719Z"
   },
   {
    "duration": 12,
    "start_time": "2022-03-13T15:57:32.910Z"
   },
   {
    "duration": 43,
    "start_time": "2022-03-13T16:09:52.789Z"
   },
   {
    "duration": 303,
    "start_time": "2022-03-13T16:21:07.061Z"
   },
   {
    "duration": 17,
    "start_time": "2022-03-13T16:22:32.876Z"
   },
   {
    "duration": 762,
    "start_time": "2022-03-13T16:24:45.848Z"
   },
   {
    "duration": 315,
    "start_time": "2022-03-13T16:25:06.792Z"
   },
   {
    "duration": 18,
    "start_time": "2022-03-13T16:25:13.136Z"
   },
   {
    "duration": 296,
    "start_time": "2022-03-13T16:27:24.609Z"
   },
   {
    "duration": 101,
    "start_time": "2022-03-13T16:27:29.194Z"
   },
   {
    "duration": 324,
    "start_time": "2022-03-13T16:27:33.138Z"
   },
   {
    "duration": 310,
    "start_time": "2022-03-13T16:27:40.018Z"
   },
   {
    "duration": 20,
    "start_time": "2022-03-13T16:27:58.145Z"
   },
   {
    "duration": 307,
    "start_time": "2022-03-13T16:28:02.857Z"
   },
   {
    "duration": 23,
    "start_time": "2022-03-13T17:00:46.975Z"
   },
   {
    "duration": 14,
    "start_time": "2022-03-13T17:13:25.966Z"
   },
   {
    "duration": 8,
    "start_time": "2022-03-13T17:13:34.589Z"
   },
   {
    "duration": 7628,
    "start_time": "2022-03-13T17:14:19.022Z"
   },
   {
    "duration": 7,
    "start_time": "2022-03-13T17:14:33.815Z"
   },
   {
    "duration": 7568,
    "start_time": "2022-03-13T17:14:38.406Z"
   },
   {
    "duration": 304,
    "start_time": "2022-03-13T17:14:58.014Z"
   },
   {
    "duration": 6,
    "start_time": "2022-03-13T17:15:07.366Z"
   },
   {
    "duration": 11,
    "start_time": "2022-03-13T17:15:56.583Z"
   },
   {
    "duration": 308,
    "start_time": "2022-03-13T17:16:32.288Z"
   },
   {
    "duration": 106,
    "start_time": "2022-03-13T17:16:48.936Z"
   },
   {
    "duration": 3,
    "start_time": "2022-03-13T17:16:53.896Z"
   },
   {
    "duration": 5,
    "start_time": "2022-03-13T17:17:48.072Z"
   },
   {
    "duration": 7,
    "start_time": "2022-03-13T17:25:09.566Z"
   },
   {
    "duration": 302,
    "start_time": "2022-03-13T17:25:23.741Z"
   },
   {
    "duration": 14,
    "start_time": "2022-03-13T17:25:30.253Z"
   },
   {
    "duration": 99,
    "start_time": "2022-03-13T17:28:46.368Z"
   },
   {
    "duration": 12,
    "start_time": "2022-03-13T17:28:51.488Z"
   },
   {
    "duration": 7,
    "start_time": "2022-03-13T17:28:59.278Z"
   },
   {
    "duration": 13,
    "start_time": "2022-03-13T17:31:36.522Z"
   },
   {
    "duration": 7,
    "start_time": "2022-03-13T17:31:38.609Z"
   },
   {
    "duration": 601,
    "start_time": "2022-03-13T17:35:20.012Z"
   },
   {
    "duration": 426,
    "start_time": "2022-03-13T17:36:17.085Z"
   },
   {
    "duration": 15,
    "start_time": "2022-03-13T17:36:30.116Z"
   },
   {
    "duration": 7,
    "start_time": "2022-03-13T17:44:42.091Z"
   },
   {
    "duration": 284,
    "start_time": "2022-03-13T17:48:49.213Z"
   },
   {
    "duration": 293,
    "start_time": "2022-03-13T17:48:52.572Z"
   },
   {
    "duration": 301,
    "start_time": "2022-03-13T17:48:54.702Z"
   },
   {
    "duration": 3,
    "start_time": "2022-03-13T17:48:59.100Z"
   },
   {
    "duration": 7252,
    "start_time": "2022-03-13T17:49:23.205Z"
   },
   {
    "duration": 5,
    "start_time": "2022-03-13T17:53:13.808Z"
   },
   {
    "duration": 5,
    "start_time": "2022-03-13T17:53:18.868Z"
   },
   {
    "duration": 295,
    "start_time": "2022-03-13T17:54:14.063Z"
   },
   {
    "duration": 6,
    "start_time": "2022-03-13T17:58:32.515Z"
   },
   {
    "duration": 5,
    "start_time": "2022-03-13T17:58:35.354Z"
   },
   {
    "duration": 7,
    "start_time": "2022-03-13T17:59:07.115Z"
   },
   {
    "duration": 7,
    "start_time": "2022-03-13T17:59:08.483Z"
   },
   {
    "duration": 5,
    "start_time": "2022-03-13T17:59:50.845Z"
   },
   {
    "duration": 9,
    "start_time": "2022-03-13T17:59:53.723Z"
   },
   {
    "duration": 6,
    "start_time": "2022-03-13T18:00:28.515Z"
   },
   {
    "duration": 5,
    "start_time": "2022-03-13T18:00:29.748Z"
   },
   {
    "duration": 7,
    "start_time": "2022-03-13T18:00:42.924Z"
   },
   {
    "duration": 6,
    "start_time": "2022-03-13T18:00:44.452Z"
   },
   {
    "duration": 295,
    "start_time": "2022-03-13T18:02:48.630Z"
   },
   {
    "duration": 298,
    "start_time": "2022-03-13T18:02:58.070Z"
   },
   {
    "duration": 359,
    "start_time": "2022-03-13T18:03:29.694Z"
   },
   {
    "duration": 21,
    "start_time": "2022-03-13T18:03:51.335Z"
   },
   {
    "duration": 25,
    "start_time": "2022-03-13T18:05:04.238Z"
   },
   {
    "duration": 22,
    "start_time": "2022-03-13T18:05:32.607Z"
   },
   {
    "duration": 315,
    "start_time": "2022-03-13T18:05:41.495Z"
   },
   {
    "duration": 17,
    "start_time": "2022-03-13T18:07:36.849Z"
   },
   {
    "duration": 13,
    "start_time": "2022-03-13T18:08:03.633Z"
   },
   {
    "duration": 39,
    "start_time": "2022-03-13T18:08:09.507Z"
   },
   {
    "duration": 14,
    "start_time": "2022-03-13T18:08:24.790Z"
   },
   {
    "duration": 316,
    "start_time": "2022-03-13T18:08:56.825Z"
   },
   {
    "duration": 18,
    "start_time": "2022-03-13T18:09:02.505Z"
   },
   {
    "duration": 13,
    "start_time": "2022-03-13T18:12:08.554Z"
   },
   {
    "duration": 111,
    "start_time": "2022-03-13T18:12:25.308Z"
   },
   {
    "duration": 34,
    "start_time": "2022-03-13T18:12:28.916Z"
   },
   {
    "duration": 17,
    "start_time": "2022-03-13T18:12:39.612Z"
   },
   {
    "duration": 11,
    "start_time": "2022-03-13T18:12:51.581Z"
   },
   {
    "duration": 15,
    "start_time": "2022-03-13T18:15:51.086Z"
   },
   {
    "duration": 18,
    "start_time": "2022-03-13T18:16:15.062Z"
   },
   {
    "duration": 16,
    "start_time": "2022-03-13T18:16:23.111Z"
   },
   {
    "duration": 92,
    "start_time": "2022-03-13T18:24:38.027Z"
   },
   {
    "duration": 17,
    "start_time": "2022-03-13T18:35:19.667Z"
   },
   {
    "duration": 12,
    "start_time": "2022-03-13T18:36:17.161Z"
   },
   {
    "duration": 12,
    "start_time": "2022-03-13T18:37:03.916Z"
   },
   {
    "duration": 6,
    "start_time": "2022-03-13T18:37:18.131Z"
   },
   {
    "duration": 17,
    "start_time": "2022-03-13T18:37:46.260Z"
   },
   {
    "duration": 10,
    "start_time": "2022-03-13T18:38:19.428Z"
   },
   {
    "duration": 101,
    "start_time": "2022-03-13T18:38:32.477Z"
   },
   {
    "duration": 303,
    "start_time": "2022-03-13T18:38:49.045Z"
   },
   {
    "duration": 314,
    "start_time": "2022-03-13T18:38:56.580Z"
   },
   {
    "duration": 23,
    "start_time": "2022-03-13T18:39:59.789Z"
   },
   {
    "duration": 16,
    "start_time": "2022-03-13T18:40:53.910Z"
   },
   {
    "duration": 12,
    "start_time": "2022-03-13T18:41:25.167Z"
   },
   {
    "duration": 99,
    "start_time": "2022-03-13T18:43:36.904Z"
   },
   {
    "duration": 301,
    "start_time": "2022-03-13T18:44:42.210Z"
   },
   {
    "duration": 10,
    "start_time": "2022-03-13T18:44:54.969Z"
   },
   {
    "duration": 316,
    "start_time": "2022-03-13T18:45:25.850Z"
   },
   {
    "duration": 299,
    "start_time": "2022-03-13T18:46:18.211Z"
   },
   {
    "duration": 316,
    "start_time": "2022-03-13T18:46:23.812Z"
   },
   {
    "duration": 14,
    "start_time": "2022-03-13T18:46:35.075Z"
   },
   {
    "duration": 15,
    "start_time": "2022-03-13T18:46:58.530Z"
   },
   {
    "duration": 317,
    "start_time": "2022-03-13T18:58:50.672Z"
   },
   {
    "duration": 312,
    "start_time": "2022-03-13T18:59:22.306Z"
   },
   {
    "duration": 7,
    "start_time": "2022-03-13T18:59:30.218Z"
   },
   {
    "duration": 303,
    "start_time": "2022-03-13T19:01:14.921Z"
   },
   {
    "duration": 598,
    "start_time": "2022-03-13T19:02:20.957Z"
   },
   {
    "duration": 11,
    "start_time": "2022-03-13T19:02:38.164Z"
   },
   {
    "duration": 17,
    "start_time": "2022-03-13T19:02:44.772Z"
   },
   {
    "duration": 14,
    "start_time": "2022-03-13T19:04:42.677Z"
   },
   {
    "duration": 20,
    "start_time": "2022-03-13T19:05:24.814Z"
   },
   {
    "duration": 19,
    "start_time": "2022-03-13T19:07:07.237Z"
   },
   {
    "duration": 288,
    "start_time": "2022-03-13T19:07:32.952Z"
   },
   {
    "duration": 18,
    "start_time": "2022-03-13T19:07:45.536Z"
   },
   {
    "duration": 17,
    "start_time": "2022-03-13T19:16:33.269Z"
   },
   {
    "duration": 41,
    "start_time": "2022-03-13T19:18:28.190Z"
   },
   {
    "duration": 312,
    "start_time": "2022-03-13T19:18:55.216Z"
   },
   {
    "duration": 16,
    "start_time": "2022-03-13T19:22:53.050Z"
   },
   {
    "duration": 18,
    "start_time": "2022-03-13T19:23:48.561Z"
   },
   {
    "duration": 18,
    "start_time": "2022-03-13T19:25:16.483Z"
   },
   {
    "duration": 13,
    "start_time": "2022-03-13T19:25:52.300Z"
   },
   {
    "duration": 310,
    "start_time": "2022-03-13T19:38:04.742Z"
   },
   {
    "duration": 16,
    "start_time": "2022-03-13T19:38:26.197Z"
   },
   {
    "duration": 21,
    "start_time": "2022-03-13T19:38:52.053Z"
   },
   {
    "duration": 19,
    "start_time": "2022-03-13T19:39:27.341Z"
   },
   {
    "duration": 13,
    "start_time": "2022-03-13T19:39:54.605Z"
   },
   {
    "duration": 17,
    "start_time": "2022-03-13T19:47:44.794Z"
   },
   {
    "duration": 12,
    "start_time": "2022-03-13T19:47:48.242Z"
   },
   {
    "duration": 12,
    "start_time": "2022-03-13T19:47:58.386Z"
   },
   {
    "duration": 18,
    "start_time": "2022-03-13T19:48:08.546Z"
   },
   {
    "duration": 13,
    "start_time": "2022-03-13T19:48:16.730Z"
   },
   {
    "duration": 20,
    "start_time": "2022-03-13T19:48:25.994Z"
   },
   {
    "duration": 13,
    "start_time": "2022-03-13T19:48:35.979Z"
   },
   {
    "duration": 10,
    "start_time": "2022-03-13T19:48:47.652Z"
   },
   {
    "duration": 18,
    "start_time": "2022-03-13T19:49:11.218Z"
   },
   {
    "duration": 15,
    "start_time": "2022-03-13T19:49:20.412Z"
   },
   {
    "duration": 3,
    "start_time": "2022-03-13T19:58:25.260Z"
   },
   {
    "duration": 49,
    "start_time": "2022-03-13T19:58:25.265Z"
   },
   {
    "duration": 12,
    "start_time": "2022-03-13T19:58:25.316Z"
   },
   {
    "duration": 11,
    "start_time": "2022-03-13T19:58:25.329Z"
   },
   {
    "duration": 3,
    "start_time": "2022-03-13T19:58:25.341Z"
   },
   {
    "duration": 14,
    "start_time": "2022-03-13T19:58:25.345Z"
   },
   {
    "duration": 44,
    "start_time": "2022-03-13T19:58:25.360Z"
   },
   {
    "duration": 19,
    "start_time": "2022-03-13T19:58:25.407Z"
   },
   {
    "duration": 3,
    "start_time": "2022-03-13T19:58:25.428Z"
   },
   {
    "duration": 6,
    "start_time": "2022-03-13T19:58:25.433Z"
   },
   {
    "duration": 5,
    "start_time": "2022-03-13T19:58:25.441Z"
   },
   {
    "duration": 11,
    "start_time": "2022-03-13T19:58:25.448Z"
   },
   {
    "duration": 57,
    "start_time": "2022-03-13T19:58:25.461Z"
   },
   {
    "duration": 13,
    "start_time": "2022-03-13T19:58:25.519Z"
   },
   {
    "duration": 2,
    "start_time": "2022-03-13T19:58:25.534Z"
   },
   {
    "duration": 6,
    "start_time": "2022-03-13T19:58:25.538Z"
   },
   {
    "duration": 10,
    "start_time": "2022-03-13T19:58:25.545Z"
   },
   {
    "duration": 9,
    "start_time": "2022-03-13T19:58:25.556Z"
   },
   {
    "duration": 35,
    "start_time": "2022-03-13T19:58:25.566Z"
   },
   {
    "duration": 3,
    "start_time": "2022-03-13T19:58:25.603Z"
   },
   {
    "duration": 6,
    "start_time": "2022-03-13T19:58:25.608Z"
   },
   {
    "duration": 8,
    "start_time": "2022-03-13T19:58:25.616Z"
   },
   {
    "duration": 11,
    "start_time": "2022-03-13T19:58:25.628Z"
   },
   {
    "duration": 4,
    "start_time": "2022-03-13T19:58:25.641Z"
   },
   {
    "duration": 18,
    "start_time": "2022-03-13T19:58:25.647Z"
   },
   {
    "duration": 4,
    "start_time": "2022-03-13T19:58:25.666Z"
   },
   {
    "duration": 33,
    "start_time": "2022-03-13T19:58:25.672Z"
   },
   {
    "duration": 7,
    "start_time": "2022-03-13T19:58:25.707Z"
   },
   {
    "duration": 8,
    "start_time": "2022-03-13T19:58:25.716Z"
   },
   {
    "duration": 15,
    "start_time": "2022-03-13T19:58:25.725Z"
   },
   {
    "duration": 13,
    "start_time": "2022-03-13T19:58:25.742Z"
   },
   {
    "duration": 14,
    "start_time": "2022-03-13T19:58:25.756Z"
   },
   {
    "duration": 33,
    "start_time": "2022-03-13T19:58:25.772Z"
   },
   {
    "duration": 5,
    "start_time": "2022-03-13T19:58:25.807Z"
   },
   {
    "duration": 10,
    "start_time": "2022-03-13T19:58:25.814Z"
   },
   {
    "duration": 12,
    "start_time": "2022-03-13T19:58:25.826Z"
   },
   {
    "duration": 9,
    "start_time": "2022-03-13T19:58:25.839Z"
   },
   {
    "duration": 20,
    "start_time": "2022-03-13T19:58:25.850Z"
   },
   {
    "duration": 14,
    "start_time": "2022-03-13T19:58:25.871Z"
   },
   {
    "duration": 15,
    "start_time": "2022-03-13T19:58:25.887Z"
   },
   {
    "duration": 12,
    "start_time": "2022-03-13T19:58:25.903Z"
   },
   {
    "duration": 16,
    "start_time": "2022-03-13T19:58:25.917Z"
   },
   {
    "duration": 8,
    "start_time": "2022-03-13T19:58:25.934Z"
   },
   {
    "duration": 23,
    "start_time": "2022-03-13T19:58:25.943Z"
   },
   {
    "duration": 11,
    "start_time": "2022-03-13T19:58:25.967Z"
   },
   {
    "duration": 35,
    "start_time": "2022-03-13T19:58:25.979Z"
   },
   {
    "duration": 23,
    "start_time": "2022-03-13T19:58:26.016Z"
   },
   {
    "duration": 14,
    "start_time": "2022-03-13T19:58:26.041Z"
   },
   {
    "duration": 54,
    "start_time": "2022-03-13T19:58:26.057Z"
   },
   {
    "duration": 12,
    "start_time": "2022-03-13T19:58:26.113Z"
   },
   {
    "duration": 17,
    "start_time": "2022-03-13T19:58:26.126Z"
   },
   {
    "duration": 11,
    "start_time": "2022-03-13T19:58:26.145Z"
   },
   {
    "duration": 428,
    "start_time": "2022-03-23T12:47:06.430Z"
   },
   {
    "duration": 55,
    "start_time": "2022-03-23T12:47:06.860Z"
   },
   {
    "duration": 21,
    "start_time": "2022-03-23T12:47:06.917Z"
   },
   {
    "duration": 28,
    "start_time": "2022-03-23T12:47:06.939Z"
   },
   {
    "duration": 3,
    "start_time": "2022-03-23T12:47:06.969Z"
   },
   {
    "duration": 15,
    "start_time": "2022-03-23T12:47:06.973Z"
   },
   {
    "duration": 8,
    "start_time": "2022-03-23T12:47:06.990Z"
   },
   {
    "duration": 23,
    "start_time": "2022-03-23T12:47:07.000Z"
   },
   {
    "duration": 3,
    "start_time": "2022-03-23T12:47:07.024Z"
   },
   {
    "duration": 8,
    "start_time": "2022-03-23T12:47:07.029Z"
   },
   {
    "duration": 25,
    "start_time": "2022-03-23T12:47:07.039Z"
   },
   {
    "duration": 11,
    "start_time": "2022-03-23T12:47:07.066Z"
   },
   {
    "duration": 13,
    "start_time": "2022-03-23T12:47:07.079Z"
   },
   {
    "duration": 14,
    "start_time": "2022-03-23T12:47:07.096Z"
   },
   {
    "duration": 4,
    "start_time": "2022-03-23T12:47:07.111Z"
   },
   {
    "duration": 8,
    "start_time": "2022-03-23T12:47:07.116Z"
   },
   {
    "duration": 8,
    "start_time": "2022-03-23T12:47:07.125Z"
   },
   {
    "duration": 31,
    "start_time": "2022-03-23T12:47:07.134Z"
   },
   {
    "duration": 9,
    "start_time": "2022-03-23T12:47:07.166Z"
   },
   {
    "duration": 11,
    "start_time": "2022-03-23T12:47:07.176Z"
   },
   {
    "duration": 4,
    "start_time": "2022-03-23T12:47:07.189Z"
   },
   {
    "duration": 6,
    "start_time": "2022-03-23T12:47:07.194Z"
   },
   {
    "duration": 14,
    "start_time": "2022-03-23T12:47:07.201Z"
   },
   {
    "duration": 9,
    "start_time": "2022-03-23T12:47:07.216Z"
   },
   {
    "duration": 17,
    "start_time": "2022-03-23T12:47:07.227Z"
   },
   {
    "duration": 18,
    "start_time": "2022-03-23T12:47:07.245Z"
   },
   {
    "duration": 13,
    "start_time": "2022-03-23T12:47:07.265Z"
   },
   {
    "duration": 11,
    "start_time": "2022-03-23T12:47:07.280Z"
   },
   {
    "duration": 7,
    "start_time": "2022-03-23T12:47:07.293Z"
   },
   {
    "duration": 16,
    "start_time": "2022-03-23T12:47:07.301Z"
   },
   {
    "duration": 8,
    "start_time": "2022-03-23T12:47:07.318Z"
   },
   {
    "duration": 37,
    "start_time": "2022-03-23T12:47:07.328Z"
   },
   {
    "duration": 7,
    "start_time": "2022-03-23T12:47:07.367Z"
   },
   {
    "duration": 13,
    "start_time": "2022-03-23T12:47:07.376Z"
   },
   {
    "duration": 8,
    "start_time": "2022-03-23T12:47:07.391Z"
   },
   {
    "duration": 7,
    "start_time": "2022-03-23T12:47:07.400Z"
   },
   {
    "duration": 6,
    "start_time": "2022-03-23T12:47:07.408Z"
   },
   {
    "duration": 14,
    "start_time": "2022-03-23T12:47:07.415Z"
   },
   {
    "duration": 11,
    "start_time": "2022-03-23T12:47:07.430Z"
   },
   {
    "duration": 6,
    "start_time": "2022-03-23T12:47:07.462Z"
   },
   {
    "duration": 8,
    "start_time": "2022-03-23T12:47:07.472Z"
   },
   {
    "duration": 12,
    "start_time": "2022-03-23T12:47:07.482Z"
   },
   {
    "duration": 6,
    "start_time": "2022-03-23T12:47:07.496Z"
   },
   {
    "duration": 19,
    "start_time": "2022-03-23T12:47:07.504Z"
   },
   {
    "duration": 38,
    "start_time": "2022-03-23T12:47:07.525Z"
   },
   {
    "duration": 11,
    "start_time": "2022-03-23T12:47:07.564Z"
   },
   {
    "duration": 22,
    "start_time": "2022-03-23T12:47:07.576Z"
   },
   {
    "duration": 13,
    "start_time": "2022-03-23T12:47:07.599Z"
   },
   {
    "duration": 18,
    "start_time": "2022-03-23T12:47:07.613Z"
   },
   {
    "duration": 41,
    "start_time": "2022-03-23T12:47:07.632Z"
   },
   {
    "duration": 17,
    "start_time": "2022-03-23T12:47:07.674Z"
   },
   {
    "duration": 24,
    "start_time": "2022-03-23T12:47:07.692Z"
   },
   {
    "duration": 18,
    "start_time": "2022-03-23T12:54:50.714Z"
   },
   {
    "duration": 6,
    "start_time": "2022-03-23T12:55:14.443Z"
   },
   {
    "duration": 7,
    "start_time": "2022-03-23T12:55:24.492Z"
   },
   {
    "duration": 201,
    "start_time": "2022-03-24T16:30:43.477Z"
   },
   {
    "duration": 192,
    "start_time": "2022-03-24T16:33:48.350Z"
   },
   {
    "duration": 414,
    "start_time": "2022-03-24T16:34:37.996Z"
   },
   {
    "duration": 61,
    "start_time": "2022-03-24T16:34:38.412Z"
   },
   {
    "duration": 20,
    "start_time": "2022-03-24T16:34:38.474Z"
   },
   {
    "duration": 15,
    "start_time": "2022-03-24T16:34:38.497Z"
   },
   {
    "duration": 4,
    "start_time": "2022-03-24T16:34:38.514Z"
   },
   {
    "duration": 13,
    "start_time": "2022-03-24T16:34:38.520Z"
   },
   {
    "duration": 8,
    "start_time": "2022-03-24T16:34:38.535Z"
   },
   {
    "duration": 41,
    "start_time": "2022-03-24T16:34:38.544Z"
   },
   {
    "duration": 4,
    "start_time": "2022-03-24T16:34:38.586Z"
   },
   {
    "duration": 8,
    "start_time": "2022-03-24T16:34:38.592Z"
   },
   {
    "duration": 8,
    "start_time": "2022-03-24T16:34:38.602Z"
   },
   {
    "duration": 11,
    "start_time": "2022-03-24T16:34:38.611Z"
   },
   {
    "duration": 15,
    "start_time": "2022-03-24T16:34:38.623Z"
   },
   {
    "duration": 12,
    "start_time": "2022-03-24T16:34:38.641Z"
   },
   {
    "duration": 3,
    "start_time": "2022-03-24T16:34:38.654Z"
   },
   {
    "duration": 30,
    "start_time": "2022-03-24T16:34:38.659Z"
   },
   {
    "duration": 13,
    "start_time": "2022-03-24T16:34:38.690Z"
   },
   {
    "duration": 6,
    "start_time": "2022-03-24T16:34:38.704Z"
   },
   {
    "duration": 7,
    "start_time": "2022-03-24T16:34:38.711Z"
   },
   {
    "duration": 5,
    "start_time": "2022-03-24T16:34:38.719Z"
   },
   {
    "duration": 8,
    "start_time": "2022-03-24T16:34:38.725Z"
   },
   {
    "duration": 5,
    "start_time": "2022-03-24T16:34:38.734Z"
   },
   {
    "duration": 11,
    "start_time": "2022-03-24T16:34:38.741Z"
   },
   {
    "duration": 3,
    "start_time": "2022-03-24T16:34:38.753Z"
   },
   {
    "duration": 42,
    "start_time": "2022-03-24T16:34:38.758Z"
   },
   {
    "duration": 5,
    "start_time": "2022-03-24T16:34:38.801Z"
   },
   {
    "duration": 12,
    "start_time": "2022-03-24T16:34:38.807Z"
   },
   {
    "duration": 7,
    "start_time": "2022-03-24T16:34:38.820Z"
   },
   {
    "duration": 9,
    "start_time": "2022-03-24T16:34:38.828Z"
   },
   {
    "duration": 15,
    "start_time": "2022-03-24T16:34:38.838Z"
   },
   {
    "duration": 7,
    "start_time": "2022-03-24T16:34:38.855Z"
   },
   {
    "duration": 27,
    "start_time": "2022-03-24T16:34:38.863Z"
   },
   {
    "duration": 18,
    "start_time": "2022-03-24T16:34:38.892Z"
   },
   {
    "duration": 9,
    "start_time": "2022-03-24T16:34:38.911Z"
   },
   {
    "duration": 10,
    "start_time": "2022-03-24T16:34:38.921Z"
   },
   {
    "duration": 7,
    "start_time": "2022-03-24T16:34:38.933Z"
   },
   {
    "duration": 8,
    "start_time": "2022-03-24T16:34:38.941Z"
   },
   {
    "duration": 12,
    "start_time": "2022-03-24T16:34:38.950Z"
   },
   {
    "duration": 23,
    "start_time": "2022-03-24T16:34:38.964Z"
   },
   {
    "duration": 13,
    "start_time": "2022-03-24T16:34:38.988Z"
   },
   {
    "duration": 3,
    "start_time": "2022-03-24T16:34:39.008Z"
   },
   {
    "duration": 12,
    "start_time": "2022-03-24T16:34:39.013Z"
   },
   {
    "duration": 7,
    "start_time": "2022-03-24T16:34:39.027Z"
   },
   {
    "duration": 26,
    "start_time": "2022-03-24T16:34:39.036Z"
   },
   {
    "duration": 37,
    "start_time": "2022-03-24T16:34:39.064Z"
   },
   {
    "duration": 12,
    "start_time": "2022-03-24T16:34:39.103Z"
   },
   {
    "duration": 21,
    "start_time": "2022-03-24T16:34:39.116Z"
   },
   {
    "duration": 16,
    "start_time": "2022-03-24T16:34:39.139Z"
   },
   {
    "duration": 48,
    "start_time": "2022-03-24T16:34:39.157Z"
   },
   {
    "duration": 14,
    "start_time": "2022-03-24T16:34:39.207Z"
   },
   {
    "duration": 20,
    "start_time": "2022-03-24T16:34:39.223Z"
   },
   {
    "duration": 37,
    "start_time": "2022-03-24T16:34:39.245Z"
   },
   {
    "duration": 3157,
    "start_time": "2022-03-24T16:44:33.805Z"
   },
   {
    "duration": 3394,
    "start_time": "2022-03-24T16:46:17.023Z"
   },
   {
    "duration": 17,
    "start_time": "2022-03-24T16:46:27.144Z"
   },
   {
    "duration": 17,
    "start_time": "2022-03-24T16:48:16.154Z"
   },
   {
    "duration": 199,
    "start_time": "2022-03-24T16:49:21.852Z"
   },
   {
    "duration": 30,
    "start_time": "2022-03-24T16:49:41.867Z"
   },
   {
    "duration": 16,
    "start_time": "2022-03-24T16:52:07.737Z"
   },
   {
    "duration": 27,
    "start_time": "2022-03-24T16:53:48.653Z"
   },
   {
    "duration": 8,
    "start_time": "2022-03-24T16:54:26.886Z"
   },
   {
    "duration": 4,
    "start_time": "2022-03-24T16:54:29.717Z"
   },
   {
    "duration": 48,
    "start_time": "2022-03-24T16:56:34.362Z"
   },
   {
    "duration": 25,
    "start_time": "2022-03-24T16:56:44.047Z"
   },
   {
    "duration": 32,
    "start_time": "2022-03-24T16:56:47.726Z"
   },
   {
    "duration": 25,
    "start_time": "2022-03-24T16:57:23.839Z"
   },
   {
    "duration": 19,
    "start_time": "2022-03-24T16:59:33.287Z"
   },
   {
    "duration": 25,
    "start_time": "2022-03-24T16:59:36.320Z"
   },
   {
    "duration": 26,
    "start_time": "2022-03-24T16:59:45.496Z"
   },
   {
    "duration": 17,
    "start_time": "2022-03-24T17:00:06.433Z"
   },
   {
    "duration": 214,
    "start_time": "2022-03-24T17:03:22.339Z"
   },
   {
    "duration": 209,
    "start_time": "2022-03-24T17:09:50.711Z"
   },
   {
    "duration": 394,
    "start_time": "2022-03-24T17:13:37.102Z"
   },
   {
    "duration": 63,
    "start_time": "2022-03-24T17:13:37.499Z"
   },
   {
    "duration": 19,
    "start_time": "2022-03-24T17:13:37.564Z"
   },
   {
    "duration": 15,
    "start_time": "2022-03-24T17:13:37.585Z"
   },
   {
    "duration": 5,
    "start_time": "2022-03-24T17:13:37.601Z"
   },
   {
    "duration": 14,
    "start_time": "2022-03-24T17:13:37.607Z"
   },
   {
    "duration": 6,
    "start_time": "2022-03-24T17:13:37.623Z"
   },
   {
    "duration": 23,
    "start_time": "2022-03-24T17:13:37.631Z"
   },
   {
    "duration": 3,
    "start_time": "2022-03-24T17:13:37.681Z"
   },
   {
    "duration": 6,
    "start_time": "2022-03-24T17:13:37.687Z"
   },
   {
    "duration": 6,
    "start_time": "2022-03-24T17:13:37.695Z"
   },
   {
    "duration": 10,
    "start_time": "2022-03-24T17:13:37.702Z"
   },
   {
    "duration": 13,
    "start_time": "2022-03-24T17:13:37.714Z"
   },
   {
    "duration": 13,
    "start_time": "2022-03-24T17:13:37.728Z"
   },
   {
    "duration": 39,
    "start_time": "2022-03-24T17:13:37.742Z"
   },
   {
    "duration": 3,
    "start_time": "2022-03-24T17:13:37.783Z"
   },
   {
    "duration": 6,
    "start_time": "2022-03-24T17:13:37.787Z"
   },
   {
    "duration": 4,
    "start_time": "2022-03-24T17:13:37.794Z"
   },
   {
    "duration": 5,
    "start_time": "2022-03-24T17:13:37.800Z"
   },
   {
    "duration": 4,
    "start_time": "2022-03-24T17:13:37.806Z"
   },
   {
    "duration": 5,
    "start_time": "2022-03-24T17:13:37.811Z"
   },
   {
    "duration": 6,
    "start_time": "2022-03-24T17:13:37.818Z"
   },
   {
    "duration": 12,
    "start_time": "2022-03-24T17:13:37.825Z"
   },
   {
    "duration": 3,
    "start_time": "2022-03-24T17:13:37.838Z"
   },
   {
    "duration": 21,
    "start_time": "2022-03-24T17:13:37.881Z"
   },
   {
    "duration": 5,
    "start_time": "2022-03-24T17:13:37.904Z"
   },
   {
    "duration": 14,
    "start_time": "2022-03-24T17:13:37.910Z"
   },
   {
    "duration": 8,
    "start_time": "2022-03-24T17:13:37.927Z"
   },
   {
    "duration": 7,
    "start_time": "2022-03-24T17:13:37.936Z"
   },
   {
    "duration": 14,
    "start_time": "2022-03-24T17:13:37.944Z"
   },
   {
    "duration": 23,
    "start_time": "2022-03-24T17:13:37.960Z"
   },
   {
    "duration": 20,
    "start_time": "2022-03-24T17:13:37.984Z"
   },
   {
    "duration": 31,
    "start_time": "2022-03-24T17:13:38.006Z"
   },
   {
    "duration": 51,
    "start_time": "2022-03-24T17:13:38.038Z"
   },
   {
    "duration": 19,
    "start_time": "2022-03-24T17:13:38.090Z"
   },
   {
    "duration": 7,
    "start_time": "2022-03-24T17:13:38.110Z"
   },
   {
    "duration": 8,
    "start_time": "2022-03-24T17:13:38.118Z"
   },
   {
    "duration": 7,
    "start_time": "2022-03-24T17:13:38.127Z"
   },
   {
    "duration": 7,
    "start_time": "2022-03-24T17:13:38.136Z"
   },
   {
    "duration": 36,
    "start_time": "2022-03-24T17:13:38.145Z"
   },
   {
    "duration": 7,
    "start_time": "2022-03-24T17:13:38.183Z"
   },
   {
    "duration": 17,
    "start_time": "2022-03-24T17:13:38.191Z"
   },
   {
    "duration": 11,
    "start_time": "2022-03-24T17:13:38.210Z"
   },
   {
    "duration": 12,
    "start_time": "2022-03-24T17:13:38.223Z"
   },
   {
    "duration": 5,
    "start_time": "2022-03-24T17:13:38.237Z"
   },
   {
    "duration": 17,
    "start_time": "2022-03-24T17:13:38.244Z"
   },
   {
    "duration": 11,
    "start_time": "2022-03-24T17:13:38.263Z"
   },
   {
    "duration": 20,
    "start_time": "2022-03-24T17:13:38.280Z"
   },
   {
    "duration": 16,
    "start_time": "2022-03-24T17:13:38.301Z"
   },
   {
    "duration": 16,
    "start_time": "2022-03-24T17:13:38.319Z"
   },
   {
    "duration": 67,
    "start_time": "2022-03-24T17:13:38.338Z"
   },
   {
    "duration": 28,
    "start_time": "2022-03-24T17:13:38.407Z"
   },
   {
    "duration": 47,
    "start_time": "2022-03-24T17:13:38.437Z"
   },
   {
    "duration": 15,
    "start_time": "2022-03-24T17:13:38.486Z"
   },
   {
    "duration": 18,
    "start_time": "2022-03-24T17:13:38.503Z"
   },
   {
    "duration": 21,
    "start_time": "2022-03-24T17:13:38.523Z"
   },
   {
    "duration": 68,
    "start_time": "2022-03-27T08:57:19.012Z"
   },
   {
    "duration": 518,
    "start_time": "2022-03-27T08:57:32.464Z"
   },
   {
    "duration": 152,
    "start_time": "2022-03-27T08:57:33.905Z"
   },
   {
    "duration": 76,
    "start_time": "2022-03-27T08:57:54.863Z"
   },
   {
    "duration": 119,
    "start_time": "2022-03-27T15:58:02.501Z"
   },
   {
    "duration": 517,
    "start_time": "2022-03-27T15:58:08.477Z"
   },
   {
    "duration": 89,
    "start_time": "2022-03-27T15:58:08.996Z"
   },
   {
    "duration": 42,
    "start_time": "2022-03-27T15:58:09.088Z"
   },
   {
    "duration": 25,
    "start_time": "2022-03-27T15:58:09.146Z"
   },
   {
    "duration": 4,
    "start_time": "2022-03-27T15:58:09.173Z"
   },
   {
    "duration": 21,
    "start_time": "2022-03-27T15:58:09.179Z"
   },
   {
    "duration": 8,
    "start_time": "2022-03-27T15:58:09.202Z"
   },
   {
    "duration": 77,
    "start_time": "2022-03-27T15:58:09.212Z"
   },
   {
    "duration": 5,
    "start_time": "2022-03-27T15:58:09.291Z"
   },
   {
    "duration": 6,
    "start_time": "2022-03-27T15:58:09.300Z"
   },
   {
    "duration": 8,
    "start_time": "2022-03-27T15:58:09.308Z"
   },
   {
    "duration": 33,
    "start_time": "2022-03-27T15:58:09.318Z"
   },
   {
    "duration": 28,
    "start_time": "2022-03-27T15:58:09.353Z"
   },
   {
    "duration": 20,
    "start_time": "2022-03-27T15:58:09.383Z"
   },
   {
    "duration": 4,
    "start_time": "2022-03-27T15:58:09.406Z"
   },
   {
    "duration": 5,
    "start_time": "2022-03-27T15:58:09.448Z"
   },
   {
    "duration": 11,
    "start_time": "2022-03-27T15:58:09.456Z"
   },
   {
    "duration": 6,
    "start_time": "2022-03-27T15:58:09.471Z"
   },
   {
    "duration": 20,
    "start_time": "2022-03-27T15:58:09.480Z"
   },
   {
    "duration": 44,
    "start_time": "2022-03-27T15:58:09.503Z"
   },
   {
    "duration": 6,
    "start_time": "2022-03-27T15:58:09.550Z"
   },
   {
    "duration": 8,
    "start_time": "2022-03-27T15:58:09.559Z"
   },
   {
    "duration": 8,
    "start_time": "2022-03-27T15:58:09.570Z"
   },
   {
    "duration": 14,
    "start_time": "2022-03-27T15:58:09.581Z"
   },
   {
    "duration": 6,
    "start_time": "2022-03-27T15:58:09.597Z"
   },
   {
    "duration": 64,
    "start_time": "2022-03-27T15:58:09.605Z"
   },
   {
    "duration": 8,
    "start_time": "2022-03-27T15:58:09.672Z"
   },
   {
    "duration": 16,
    "start_time": "2022-03-27T15:58:09.687Z"
   },
   {
    "duration": 47,
    "start_time": "2022-03-27T15:58:09.705Z"
   },
   {
    "duration": 8,
    "start_time": "2022-03-27T15:58:09.758Z"
   },
   {
    "duration": 22,
    "start_time": "2022-03-27T15:58:09.768Z"
   },
   {
    "duration": 11,
    "start_time": "2022-03-27T15:58:09.792Z"
   },
   {
    "duration": 72,
    "start_time": "2022-03-27T15:58:09.805Z"
   },
   {
    "duration": 46,
    "start_time": "2022-03-27T15:58:09.880Z"
   },
   {
    "duration": 43,
    "start_time": "2022-03-27T15:58:09.928Z"
   },
   {
    "duration": 25,
    "start_time": "2022-03-27T15:58:09.974Z"
   },
   {
    "duration": 9,
    "start_time": "2022-03-27T15:58:10.003Z"
   },
   {
    "duration": 38,
    "start_time": "2022-03-27T15:58:10.015Z"
   },
   {
    "duration": 10,
    "start_time": "2022-03-27T15:58:10.057Z"
   },
   {
    "duration": 16,
    "start_time": "2022-03-27T15:58:10.069Z"
   },
   {
    "duration": 10,
    "start_time": "2022-03-27T15:58:10.087Z"
   },
   {
    "duration": 6,
    "start_time": "2022-03-27T15:58:10.099Z"
   },
   {
    "duration": 52,
    "start_time": "2022-03-27T15:58:10.107Z"
   },
   {
    "duration": 24,
    "start_time": "2022-03-27T15:58:10.161Z"
   },
   {
    "duration": 10,
    "start_time": "2022-03-27T15:58:10.187Z"
   },
   {
    "duration": 6,
    "start_time": "2022-03-27T15:58:10.199Z"
   },
   {
    "duration": 43,
    "start_time": "2022-03-27T15:58:10.207Z"
   },
   {
    "duration": 11,
    "start_time": "2022-03-27T15:58:10.254Z"
   },
   {
    "duration": 41,
    "start_time": "2022-03-27T15:58:10.267Z"
   },
   {
    "duration": 43,
    "start_time": "2022-03-27T15:58:10.311Z"
   },
   {
    "duration": 18,
    "start_time": "2022-03-27T15:58:10.357Z"
   },
   {
    "duration": 30,
    "start_time": "2022-03-27T15:58:10.377Z"
   },
   {
    "duration": 52,
    "start_time": "2022-03-27T15:58:10.409Z"
   },
   {
    "duration": 27,
    "start_time": "2022-03-27T15:58:10.464Z"
   },
   {
    "duration": 54,
    "start_time": "2022-03-27T15:58:10.494Z"
   },
   {
    "duration": 31,
    "start_time": "2022-03-27T15:58:10.550Z"
   },
   {
    "duration": 22,
    "start_time": "2022-03-27T15:58:10.584Z"
   }
  ],
  "kernelspec": {
   "display_name": "Python 3 (ipykernel)",
   "language": "python",
   "name": "python3"
  },
  "language_info": {
   "codemirror_mode": {
    "name": "ipython",
    "version": 3
   },
   "file_extension": ".py",
   "mimetype": "text/x-python",
   "name": "python",
   "nbconvert_exporter": "python",
   "pygments_lexer": "ipython3",
   "version": "3.9.7"
  },
  "toc": {
   "base_numbering": 1,
   "nav_menu": {},
   "number_sections": true,
   "sideBar": true,
   "skip_h1_title": true,
   "title_cell": "Содержание",
   "title_sidebar": "Contents",
   "toc_cell": true,
   "toc_position": {},
   "toc_section_display": true,
   "toc_window_display": true
  }
 },
 "nbformat": 4,
 "nbformat_minor": 5
}
