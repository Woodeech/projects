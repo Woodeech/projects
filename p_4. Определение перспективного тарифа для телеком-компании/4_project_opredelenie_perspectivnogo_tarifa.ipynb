{
 "cells": [
  {
   "cell_type": "markdown",
   "metadata": {
    "toc": true
   },
   "source": [
    "<h1>Содержание<span class=\"tocSkip\"></span></h1>\n",
    "<div class=\"toc\"><ul class=\"toc-item\"><li><span><a href=\"#Откроем-файлы-с-данными-и-изучим-общую-информацию\" data-toc-modified-id=\"Откроем-файлы-с-данными-и-изучим-общую-информацию-1\"><span class=\"toc-item-num\">1&nbsp;&nbsp;</span>Откроем файлы с данными и изучим общую информацию</a></span><ul class=\"toc-item\"><li><span><a href=\"#Вывод-по-таблице-df_users\" data-toc-modified-id=\"Вывод-по-таблице-df_users-1.1\"><span class=\"toc-item-num\">1.1&nbsp;&nbsp;</span>Вывод по таблице df_users</a></span></li><li><span><a href=\"#Вывод-по-таблице-df_calls\" data-toc-modified-id=\"Вывод-по-таблице-df_calls-1.2\"><span class=\"toc-item-num\">1.2&nbsp;&nbsp;</span>Вывод по таблице df_calls</a></span></li><li><span><a href=\"#Вывод-по-таблице-df_messages\" data-toc-modified-id=\"Вывод-по-таблице-df_messages-1.3\"><span class=\"toc-item-num\">1.3&nbsp;&nbsp;</span>Вывод по таблице df_messages</a></span></li><li><span><a href=\"#Вывод-по-таблице-df_internet\" data-toc-modified-id=\"Вывод-по-таблице-df_internet-1.4\"><span class=\"toc-item-num\">1.4&nbsp;&nbsp;</span>Вывод по таблице df_internet</a></span></li><li><span><a href=\"#Вывод-по-талице-df_tariffs\" data-toc-modified-id=\"Вывод-по-талице-df_tariffs-1.5\"><span class=\"toc-item-num\">1.5&nbsp;&nbsp;</span>Вывод по талице df_tariffs</a></span></li></ul></li><li><span><a href=\"#Подготовим-данные\" data-toc-modified-id=\"Подготовим-данные-2\"><span class=\"toc-item-num\">2&nbsp;&nbsp;</span>Подготовим данные</a></span><ul class=\"toc-item\"><li><span><a href=\"#Начнем-с-таблицы-df_users.\" data-toc-modified-id=\"Начнем-с-таблицы-df_users.-2.1\"><span class=\"toc-item-num\">2.1&nbsp;&nbsp;</span>Начнем с таблицы df_users.</a></span></li><li><span><a href=\"#Подготовим-таблицу-df_calls\" data-toc-modified-id=\"Подготовим-таблицу-df_calls-2.2\"><span class=\"toc-item-num\">2.2&nbsp;&nbsp;</span>Подготовим таблицу df_calls</a></span></li><li><span><a href=\"#Подготовим-таблицу-df_messages\" data-toc-modified-id=\"Подготовим-таблицу-df_messages-2.3\"><span class=\"toc-item-num\">2.3&nbsp;&nbsp;</span>Подготовим таблицу df_messages</a></span></li><li><span><a href=\"#Подготовим-таблицу-df_internet\" data-toc-modified-id=\"Подготовим-таблицу-df_internet-2.4\"><span class=\"toc-item-num\">2.4&nbsp;&nbsp;</span>Подготовим таблицу df_internet</a></span></li><li><span><a href=\"#Посчитаем-для-каждого-пользователя-количество-сделанных-звонков-и-израсходованных-минут-разговора-по-месяцам:\" data-toc-modified-id=\"Посчитаем-для-каждого-пользователя-количество-сделанных-звонков-и-израсходованных-минут-разговора-по-месяцам:-2.5\"><span class=\"toc-item-num\">2.5&nbsp;&nbsp;</span>Посчитаем для каждого пользователя количество сделанных звонков и израсходованных минут разговора по месяцам:</a></span></li><li><span><a href=\"#Посчитаем-для-каждого-пользователя-количество-отправленных-сообщений-по-месяцам:\" data-toc-modified-id=\"Посчитаем-для-каждого-пользователя-количество-отправленных-сообщений-по-месяцам:-2.6\"><span class=\"toc-item-num\">2.6&nbsp;&nbsp;</span>Посчитаем для каждого пользователя количество отправленных сообщений по месяцам:</a></span></li><li><span><a href=\"#Посчитаем-для-каждого-пользователя-объем-израсходованного-интернет-трафика-по-месяцам:\" data-toc-modified-id=\"Посчитаем-для-каждого-пользователя-объем-израсходованного-интернет-трафика-по-месяцам:-2.7\"><span class=\"toc-item-num\">2.7&nbsp;&nbsp;</span>Посчитаем для каждого пользователя объем израсходованного интернет-трафика по месяцам:</a></span></li><li><span><a href=\"#Посчитаем-для-каждого-пользователя-помесячную-выручку-с-каждого-пользователя\" data-toc-modified-id=\"Посчитаем-для-каждого-пользователя-помесячную-выручку-с-каждого-пользователя-2.8\"><span class=\"toc-item-num\">2.8&nbsp;&nbsp;</span>Посчитаем для каждого пользователя помесячную выручку с каждого пользователя</a></span></li><li><span><a href=\"#Вывод-по-подсчетам\" data-toc-modified-id=\"Вывод-по-подсчетам-2.9\"><span class=\"toc-item-num\">2.9&nbsp;&nbsp;</span>Вывод по подсчетам</a></span></li></ul></li><li><span><a href=\"#Проанализируем-данные\" data-toc-modified-id=\"Проанализируем-данные-3\"><span class=\"toc-item-num\">3&nbsp;&nbsp;</span>Проанализируем данные</a></span><ul class=\"toc-item\"><li><span><a href=\"#Вывод-по-данным-за-12-месяцев\" data-toc-modified-id=\"Вывод-по-данным-за-12-месяцев-3.1\"><span class=\"toc-item-num\">3.1&nbsp;&nbsp;</span>Вывод по данным за 12 месяцев</a></span></li><li><span><a href=\"#Вывод-по-среднему,-дисперсии-и-стандартному-отклонению\" data-toc-modified-id=\"Вывод-по-среднему,-дисперсии-и-стандартному-отклонению-3.2\"><span class=\"toc-item-num\">3.2&nbsp;&nbsp;</span>Вывод по среднему, дисперсии и стандартному отклонению</a></span></li><li><span><a href=\"#Вывод-тарифам-и-потльзователям\" data-toc-modified-id=\"Вывод-тарифам-и-потльзователям-3.3\"><span class=\"toc-item-num\">3.3&nbsp;&nbsp;</span>Вывод тарифам и потльзователям</a></span></li></ul></li><li><span><a href=\"#Проверим-гипотезы\" data-toc-modified-id=\"Проверим-гипотезы-4\"><span class=\"toc-item-num\">4&nbsp;&nbsp;</span>Проверим гипотезы</a></span><ul class=\"toc-item\"><li><span><a href=\"#Вывод-по-первой-гипотизе\" data-toc-modified-id=\"Вывод-по-первой-гипотизе-4.1\"><span class=\"toc-item-num\">4.1&nbsp;&nbsp;</span>Вывод по первой гипотизе</a></span></li><li><span><a href=\"#Вывод-по-второй-гипотизе\" data-toc-modified-id=\"Вывод-по-второй-гипотизе-4.2\"><span class=\"toc-item-num\">4.2&nbsp;&nbsp;</span>Вывод по второй гипотизе</a></span></li></ul></li><li><span><a href=\"#Напишем-общий-вывод\" data-toc-modified-id=\"Напишем-общий-вывод-5\"><span class=\"toc-item-num\">5&nbsp;&nbsp;</span>Напишем общий вывод</a></span></li></ul></div>"
   ]
  },
  {
   "cell_type": "markdown",
   "metadata": {},
   "source": [
    "# Исследование двух тарифных планов компании \"Мегалайн\".\n",
    "В нашем распоряжении данные компании \"Мегалайн\" по двум тарифным планам \"Смарт\" и \"Ультра\"."
   ]
  },
  {
   "cell_type": "markdown",
   "metadata": {},
   "source": [
    "**Цель исследования**\n",
    "\n",
    "Чтобы скорректировать рекламный бюджет, коммерческий департамент хочет понять, какой тариф приносит больше денег.\n",
    "Нужно понять, какой тариф выгоднее для компании \"Смарт\" или \"Ультра\".\n",
    "\n",
    "**Ход исследования**\n",
    "\n",
    "Входные данные мы получим из файлов:\n",
    "\n",
    "\n",
    "* `/datasets/calls.csv`\n",
    "* `/datasets/internet.csv`\n",
    "* `/datasets/messages.csv`\n",
    "* `/datasets/tariffs.csv`\n",
    "* `/datasets/users.csv`\n",
    "\n",
    "Таким образом, исследование пройдёт в пять этапов:\n",
    "1. Откроем файлы с данными и изучим общую информацию\n",
    "2. Подготовим данные\n",
    "3. Проанализируем данные\n",
    "4. Проверим гипотезы\n",
    "5. Напишем общий вывод\n",
    "\n",
    "\n",
    "\n",
    "**Описание тарифов**\n",
    "\n",
    "Тариф «Смарт»\n",
    "1. Ежемесячная плата: 550 рублей\n",
    "2. Включено 500 минут разговора, 50 сообщений и 15 Гб интернет-трафика\n",
    "3. Стоимость услуг сверх тарифного пакета:\n",
    "* минута разговора: 3 рубля\n",
    "* сообщение: 3 рубля\n",
    "* 1 Гб интернет-трафика: 200 рублей\n",
    "\n",
    "Тариф «Ультра»\n",
    "1. Ежемесячная плата: 1950 рублей\n",
    "2. Включено 3000 минут разговора, 1000 сообщений и 30 Гб интернет-трафика\n",
    "3. Стоимость услуг сверх тарифного пакета:\n",
    "* минута разговора: 1 рубль\n",
    "* сообщение: 1 рубль\n",
    "* 1 Гб интернет-трафика: 150 рублей\n",
    "\n",
    "**Примечание**\n",
    "\n",
    "«Мегалайн» всегда округляет секунды до минут, а мегабайты — до гигабайт. Каждый звонок округляется отдельно: даже если он длился всего 1 секунду, будет засчитан как 1 минута.\n",
    "Для веб-трафика отдельные сессии не считаются. Вместо этого общая сумма за месяц округляется в бо́льшую сторону. Если абонент использует 1025 мегабайт в этом месяце, с него возьмут плату за 2 гигабайта. Примите, что неиспользованные за предыдущий месяц звонки, смс, интернет на следующий месяц не переносятся.\n",
    "\n",
    "**Описание данных**\n",
    "\n",
    "Таблица `users` (информация о пользователях):\n",
    "* `user_id` — уникальный идентификатор пользователя\n",
    "* `first_name` — имя пользователя\n",
    "* `last_name` — фамилия пользователя\n",
    "* `age` — возраст пользователя (годы)\n",
    "* `reg_date` — дата подключения тарифа (день, месяц, год)\n",
    "* `churn_date` — дата прекращения пользования тарифом (если значение пропущено, то тариф ещё действовал на момент выгрузки данных)\n",
    "* `city` — город проживания пользователя\n",
    "* `tariff` — название тарифного плана\n",
    "\n",
    "\n",
    "Таблица `calls` (информация о звонках):\n",
    "* `id` — уникальный номер звонка\n",
    "* `call_date` — дата звонка\n",
    "* `duration` — длительность звонка в минутах\n",
    "* `user_id` — идентификатор пользователя, сделавшего звонок\n",
    "\n",
    "\n",
    "Таблица `messages` (информация о сообщениях):\n",
    "* `id` — уникальный номер сообщения\n",
    "* `message_date` — дата сообщения\n",
    "* `user_id` — идентификатор пользователя, отправившего сообщение\n",
    "\n",
    "\n",
    "Таблица `internet` (информация об интернет-сессиях):\n",
    "* `id` — уникальный номер сессии\n",
    "* `mb_used` — объём потраченного за сессию интернет-трафика (в мегабайтах)\n",
    "* `session_date` — дата интернет-сессии\n",
    "* `user_id` — идентификатор пользователя\n",
    "\n",
    "\n",
    "Таблица `tariffs` (информация о тарифах):\n",
    "* `tariff_name` — название тарифа\n",
    "* `rub_monthly_fee` — ежемесячная абонентская плата в рублях\n",
    "* `minutes_included` — количество минут разговора в месяц, включённых в абонентскую плату\n",
    "* `messages_included` — количество сообщений в месяц, включённых в абонентскую плату\n",
    "* `mb_per_month_included` — объём интернет-трафика, включённого в абонентскую плату (в мегабайтах)\n",
    "* `rub_per_minute` — стоимость минуты разговора сверх тарифного пакета (например, если в тарифе 100 минут разговора в месяц, то со 101 минуты будет взиматься плата)\n",
    "* `rub_per_message` — стоимость отправки сообщения сверх тарифного пакета\n",
    "* `rub_per_gb` — стоимость дополнительного гигабайта интернет-трафика сверх тарифного пакета (1 гигабайт = 1024 мегабайта)"
   ]
  },
  {
   "cell_type": "markdown",
   "metadata": {},
   "source": [
    "## Откроем файлы с данными и изучим общую информацию"
   ]
  },
  {
   "cell_type": "markdown",
   "metadata": {},
   "source": [
    "Импротируем библиотеки"
   ]
  },
  {
   "cell_type": "code",
   "execution_count": 1,
   "metadata": {},
   "outputs": [],
   "source": [
    "# импортируем библиотеку pandas\n",
    "import pandas as pd\n",
    "# импортируем библиотеку matplotlib\n",
    "import matplotlib.pyplot as plt\n",
    "# импортируем библиотеку seaborn\n",
    "import seaborn as sns\n",
    "# импортируем библиотеку math\n",
    "import math\n",
    "# импортируем библиотеку numpy\n",
    "import numpy as np\n",
    "# импортируем библиотеку stats\n",
    "from scipy import stats as st"
   ]
  },
  {
   "cell_type": "markdown",
   "metadata": {},
   "source": [
    "Используем настройки `pandas`"
   ]
  },
  {
   "cell_type": "code",
   "execution_count": 2,
   "metadata": {},
   "outputs": [],
   "source": [
    "# используем настроики \"Pandas\". Настроим вывод таблиц так, чтобы все колонки были видны. \n",
    "pd.set_option('display.max_columns', 200)"
   ]
  },
  {
   "cell_type": "markdown",
   "metadata": {},
   "source": [
    "Прочитаем файл `users.csv` из папки `datasets`"
   ]
  },
  {
   "cell_type": "code",
   "execution_count": 3,
   "metadata": {},
   "outputs": [],
   "source": [
    "# чтение файла users.csv и занесем его в переменную df_users\n",
    "try:\n",
    "    df_users = pd.read_csv('C:/Users/Woode/Projects yandex/Stat/users.csv')\n",
    "except:\n",
    "    df_users = pd.read_csv('/datasets/users.csv')"
   ]
  },
  {
   "cell_type": "markdown",
   "metadata": {},
   "source": [
    "Выведем на экран первые 5 записей таблицы `users`"
   ]
  },
  {
   "cell_type": "code",
   "execution_count": 4,
   "metadata": {},
   "outputs": [
    {
     "data": {
      "text/html": [
       "<div>\n",
       "<style scoped>\n",
       "    .dataframe tbody tr th:only-of-type {\n",
       "        vertical-align: middle;\n",
       "    }\n",
       "\n",
       "    .dataframe tbody tr th {\n",
       "        vertical-align: top;\n",
       "    }\n",
       "\n",
       "    .dataframe thead th {\n",
       "        text-align: right;\n",
       "    }\n",
       "</style>\n",
       "<table border=\"1\" class=\"dataframe\">\n",
       "  <thead>\n",
       "    <tr style=\"text-align: right;\">\n",
       "      <th></th>\n",
       "      <th>user_id</th>\n",
       "      <th>age</th>\n",
       "      <th>churn_date</th>\n",
       "      <th>city</th>\n",
       "      <th>first_name</th>\n",
       "      <th>last_name</th>\n",
       "      <th>reg_date</th>\n",
       "      <th>tariff</th>\n",
       "    </tr>\n",
       "  </thead>\n",
       "  <tbody>\n",
       "    <tr>\n",
       "      <th>0</th>\n",
       "      <td>1000</td>\n",
       "      <td>52</td>\n",
       "      <td>NaN</td>\n",
       "      <td>Краснодар</td>\n",
       "      <td>Рафаил</td>\n",
       "      <td>Верещагин</td>\n",
       "      <td>2018-05-25</td>\n",
       "      <td>ultra</td>\n",
       "    </tr>\n",
       "    <tr>\n",
       "      <th>1</th>\n",
       "      <td>1001</td>\n",
       "      <td>41</td>\n",
       "      <td>NaN</td>\n",
       "      <td>Москва</td>\n",
       "      <td>Иван</td>\n",
       "      <td>Ежов</td>\n",
       "      <td>2018-11-01</td>\n",
       "      <td>smart</td>\n",
       "    </tr>\n",
       "    <tr>\n",
       "      <th>2</th>\n",
       "      <td>1002</td>\n",
       "      <td>59</td>\n",
       "      <td>NaN</td>\n",
       "      <td>Стерлитамак</td>\n",
       "      <td>Евгений</td>\n",
       "      <td>Абрамович</td>\n",
       "      <td>2018-06-17</td>\n",
       "      <td>smart</td>\n",
       "    </tr>\n",
       "    <tr>\n",
       "      <th>3</th>\n",
       "      <td>1003</td>\n",
       "      <td>23</td>\n",
       "      <td>NaN</td>\n",
       "      <td>Москва</td>\n",
       "      <td>Белла</td>\n",
       "      <td>Белякова</td>\n",
       "      <td>2018-08-17</td>\n",
       "      <td>ultra</td>\n",
       "    </tr>\n",
       "    <tr>\n",
       "      <th>4</th>\n",
       "      <td>1004</td>\n",
       "      <td>68</td>\n",
       "      <td>NaN</td>\n",
       "      <td>Новокузнецк</td>\n",
       "      <td>Татьяна</td>\n",
       "      <td>Авдеенко</td>\n",
       "      <td>2018-05-14</td>\n",
       "      <td>ultra</td>\n",
       "    </tr>\n",
       "  </tbody>\n",
       "</table>\n",
       "</div>"
      ],
      "text/plain": [
       "   user_id  age churn_date         city first_name  last_name    reg_date  \\\n",
       "0     1000   52        NaN    Краснодар     Рафаил  Верещагин  2018-05-25   \n",
       "1     1001   41        NaN       Москва       Иван       Ежов  2018-11-01   \n",
       "2     1002   59        NaN  Стерлитамак    Евгений  Абрамович  2018-06-17   \n",
       "3     1003   23        NaN       Москва      Белла   Белякова  2018-08-17   \n",
       "4     1004   68        NaN  Новокузнецк    Татьяна   Авдеенко  2018-05-14   \n",
       "\n",
       "  tariff  \n",
       "0  ultra  \n",
       "1  smart  \n",
       "2  smart  \n",
       "3  ultra  \n",
       "4  ultra  "
      ]
     },
     "metadata": {},
     "output_type": "display_data"
    }
   ],
   "source": [
    "# посмотрим первые 5 записей таблицы df_users\n",
    "display(df_users.head())"
   ]
  },
  {
   "cell_type": "markdown",
   "metadata": {},
   "source": [
    "Выведем на экран последние 5 записей таблицы `df_users`"
   ]
  },
  {
   "cell_type": "code",
   "execution_count": 5,
   "metadata": {},
   "outputs": [
    {
     "data": {
      "text/html": [
       "<div>\n",
       "<style scoped>\n",
       "    .dataframe tbody tr th:only-of-type {\n",
       "        vertical-align: middle;\n",
       "    }\n",
       "\n",
       "    .dataframe tbody tr th {\n",
       "        vertical-align: top;\n",
       "    }\n",
       "\n",
       "    .dataframe thead th {\n",
       "        text-align: right;\n",
       "    }\n",
       "</style>\n",
       "<table border=\"1\" class=\"dataframe\">\n",
       "  <thead>\n",
       "    <tr style=\"text-align: right;\">\n",
       "      <th></th>\n",
       "      <th>user_id</th>\n",
       "      <th>age</th>\n",
       "      <th>churn_date</th>\n",
       "      <th>city</th>\n",
       "      <th>first_name</th>\n",
       "      <th>last_name</th>\n",
       "      <th>reg_date</th>\n",
       "      <th>tariff</th>\n",
       "    </tr>\n",
       "  </thead>\n",
       "  <tbody>\n",
       "    <tr>\n",
       "      <th>495</th>\n",
       "      <td>1495</td>\n",
       "      <td>65</td>\n",
       "      <td>NaN</td>\n",
       "      <td>Иркутск</td>\n",
       "      <td>Авксентий</td>\n",
       "      <td>Фокин</td>\n",
       "      <td>2018-08-28</td>\n",
       "      <td>ultra</td>\n",
       "    </tr>\n",
       "    <tr>\n",
       "      <th>496</th>\n",
       "      <td>1496</td>\n",
       "      <td>36</td>\n",
       "      <td>NaN</td>\n",
       "      <td>Вологда</td>\n",
       "      <td>Трифон</td>\n",
       "      <td>Блохин</td>\n",
       "      <td>2018-01-27</td>\n",
       "      <td>smart</td>\n",
       "    </tr>\n",
       "    <tr>\n",
       "      <th>497</th>\n",
       "      <td>1497</td>\n",
       "      <td>32</td>\n",
       "      <td>NaN</td>\n",
       "      <td>Челябинск</td>\n",
       "      <td>Каролина</td>\n",
       "      <td>Агеева</td>\n",
       "      <td>2018-10-09</td>\n",
       "      <td>smart</td>\n",
       "    </tr>\n",
       "    <tr>\n",
       "      <th>498</th>\n",
       "      <td>1498</td>\n",
       "      <td>68</td>\n",
       "      <td>2018-10-25</td>\n",
       "      <td>Владикавказ</td>\n",
       "      <td>Всеволод</td>\n",
       "      <td>Акимчин</td>\n",
       "      <td>2018-07-19</td>\n",
       "      <td>smart</td>\n",
       "    </tr>\n",
       "    <tr>\n",
       "      <th>499</th>\n",
       "      <td>1499</td>\n",
       "      <td>35</td>\n",
       "      <td>NaN</td>\n",
       "      <td>Пермь</td>\n",
       "      <td>Гектор</td>\n",
       "      <td>Корнилов</td>\n",
       "      <td>2018-09-27</td>\n",
       "      <td>smart</td>\n",
       "    </tr>\n",
       "  </tbody>\n",
       "</table>\n",
       "</div>"
      ],
      "text/plain": [
       "     user_id  age  churn_date         city first_name last_name    reg_date  \\\n",
       "495     1495   65         NaN      Иркутск  Авксентий     Фокин  2018-08-28   \n",
       "496     1496   36         NaN      Вологда     Трифон    Блохин  2018-01-27   \n",
       "497     1497   32         NaN    Челябинск   Каролина    Агеева  2018-10-09   \n",
       "498     1498   68  2018-10-25  Владикавказ   Всеволод   Акимчин  2018-07-19   \n",
       "499     1499   35         NaN        Пермь     Гектор  Корнилов  2018-09-27   \n",
       "\n",
       "    tariff  \n",
       "495  ultra  \n",
       "496  smart  \n",
       "497  smart  \n",
       "498  smart  \n",
       "499  smart  "
      ]
     },
     "metadata": {},
     "output_type": "display_data"
    }
   ],
   "source": [
    "# посмотрим последние 5 записей таблицы df_users\n",
    "display(df_users.tail())"
   ]
  },
  {
   "cell_type": "markdown",
   "metadata": {},
   "source": [
    "Выведем случаейные 5 записей табицы `df_users`"
   ]
  },
  {
   "cell_type": "code",
   "execution_count": 6,
   "metadata": {},
   "outputs": [
    {
     "data": {
      "text/html": [
       "<div>\n",
       "<style scoped>\n",
       "    .dataframe tbody tr th:only-of-type {\n",
       "        vertical-align: middle;\n",
       "    }\n",
       "\n",
       "    .dataframe tbody tr th {\n",
       "        vertical-align: top;\n",
       "    }\n",
       "\n",
       "    .dataframe thead th {\n",
       "        text-align: right;\n",
       "    }\n",
       "</style>\n",
       "<table border=\"1\" class=\"dataframe\">\n",
       "  <thead>\n",
       "    <tr style=\"text-align: right;\">\n",
       "      <th></th>\n",
       "      <th>user_id</th>\n",
       "      <th>age</th>\n",
       "      <th>churn_date</th>\n",
       "      <th>city</th>\n",
       "      <th>first_name</th>\n",
       "      <th>last_name</th>\n",
       "      <th>reg_date</th>\n",
       "      <th>tariff</th>\n",
       "    </tr>\n",
       "  </thead>\n",
       "  <tbody>\n",
       "    <tr>\n",
       "      <th>246</th>\n",
       "      <td>1246</td>\n",
       "      <td>27</td>\n",
       "      <td>NaN</td>\n",
       "      <td>Санкт-Петербург</td>\n",
       "      <td>Марта</td>\n",
       "      <td>Ситникова</td>\n",
       "      <td>2018-09-26</td>\n",
       "      <td>smart</td>\n",
       "    </tr>\n",
       "    <tr>\n",
       "      <th>81</th>\n",
       "      <td>1081</td>\n",
       "      <td>42</td>\n",
       "      <td>NaN</td>\n",
       "      <td>Москва</td>\n",
       "      <td>Софья</td>\n",
       "      <td>Терехова</td>\n",
       "      <td>2018-03-25</td>\n",
       "      <td>ultra</td>\n",
       "    </tr>\n",
       "    <tr>\n",
       "      <th>40</th>\n",
       "      <td>1040</td>\n",
       "      <td>23</td>\n",
       "      <td>NaN</td>\n",
       "      <td>Сочи</td>\n",
       "      <td>Юрий</td>\n",
       "      <td>Одинцов</td>\n",
       "      <td>2018-06-08</td>\n",
       "      <td>smart</td>\n",
       "    </tr>\n",
       "    <tr>\n",
       "      <th>352</th>\n",
       "      <td>1352</td>\n",
       "      <td>53</td>\n",
       "      <td>NaN</td>\n",
       "      <td>Рязань</td>\n",
       "      <td>Кристина</td>\n",
       "      <td>Румянцева</td>\n",
       "      <td>2018-04-17</td>\n",
       "      <td>ultra</td>\n",
       "    </tr>\n",
       "    <tr>\n",
       "      <th>468</th>\n",
       "      <td>1468</td>\n",
       "      <td>29</td>\n",
       "      <td>NaN</td>\n",
       "      <td>Тамбов</td>\n",
       "      <td>Иван</td>\n",
       "      <td>Авдышев</td>\n",
       "      <td>2018-02-11</td>\n",
       "      <td>smart</td>\n",
       "    </tr>\n",
       "  </tbody>\n",
       "</table>\n",
       "</div>"
      ],
      "text/plain": [
       "     user_id  age churn_date             city first_name  last_name  \\\n",
       "246     1246   27        NaN  Санкт-Петербург      Марта  Ситникова   \n",
       "81      1081   42        NaN           Москва      Софья   Терехова   \n",
       "40      1040   23        NaN             Сочи       Юрий    Одинцов   \n",
       "352     1352   53        NaN           Рязань   Кристина  Румянцева   \n",
       "468     1468   29        NaN           Тамбов       Иван    Авдышев   \n",
       "\n",
       "       reg_date tariff  \n",
       "246  2018-09-26  smart  \n",
       "81   2018-03-25  ultra  \n",
       "40   2018-06-08  smart  \n",
       "352  2018-04-17  ultra  \n",
       "468  2018-02-11  smart  "
      ]
     },
     "metadata": {},
     "output_type": "display_data"
    }
   ],
   "source": [
    "# посмотрим случайные 5 записей таблицы df_users\n",
    "display(df_users.sample(5))"
   ]
  },
  {
   "cell_type": "markdown",
   "metadata": {},
   "source": [
    "Посмотрим общую информацию о таблице `df_users`"
   ]
  },
  {
   "cell_type": "code",
   "execution_count": 7,
   "metadata": {},
   "outputs": [
    {
     "name": "stdout",
     "output_type": "stream",
     "text": [
      "<class 'pandas.core.frame.DataFrame'>\n",
      "RangeIndex: 500 entries, 0 to 499\n",
      "Data columns (total 8 columns):\n",
      " #   Column      Non-Null Count  Dtype \n",
      "---  ------      --------------  ----- \n",
      " 0   user_id     500 non-null    int64 \n",
      " 1   age         500 non-null    int64 \n",
      " 2   churn_date  38 non-null     object\n",
      " 3   city        500 non-null    object\n",
      " 4   first_name  500 non-null    object\n",
      " 5   last_name   500 non-null    object\n",
      " 6   reg_date    500 non-null    object\n",
      " 7   tariff      500 non-null    object\n",
      "dtypes: int64(2), object(6)\n",
      "memory usage: 31.4+ KB\n"
     ]
    },
    {
     "data": {
      "text/plain": [
       "None"
      ]
     },
     "metadata": {},
     "output_type": "display_data"
    }
   ],
   "source": [
    "# получение общей ифнормации о таблице df_users\n",
    "display(df_users.info())"
   ]
  },
  {
   "cell_type": "code",
   "execution_count": 8,
   "metadata": {},
   "outputs": [
    {
     "data": {
      "text/html": [
       "<div>\n",
       "<style scoped>\n",
       "    .dataframe tbody tr th:only-of-type {\n",
       "        vertical-align: middle;\n",
       "    }\n",
       "\n",
       "    .dataframe tbody tr th {\n",
       "        vertical-align: top;\n",
       "    }\n",
       "\n",
       "    .dataframe thead th {\n",
       "        text-align: right;\n",
       "    }\n",
       "</style>\n",
       "<table border=\"1\" class=\"dataframe\">\n",
       "  <thead>\n",
       "    <tr style=\"text-align: right;\">\n",
       "      <th></th>\n",
       "      <th>user_id</th>\n",
       "      <th>age</th>\n",
       "    </tr>\n",
       "  </thead>\n",
       "  <tbody>\n",
       "    <tr>\n",
       "      <th>count</th>\n",
       "      <td>500.000000</td>\n",
       "      <td>500.00000</td>\n",
       "    </tr>\n",
       "    <tr>\n",
       "      <th>mean</th>\n",
       "      <td>1249.500000</td>\n",
       "      <td>46.58800</td>\n",
       "    </tr>\n",
       "    <tr>\n",
       "      <th>std</th>\n",
       "      <td>144.481833</td>\n",
       "      <td>16.66763</td>\n",
       "    </tr>\n",
       "    <tr>\n",
       "      <th>min</th>\n",
       "      <td>1000.000000</td>\n",
       "      <td>18.00000</td>\n",
       "    </tr>\n",
       "    <tr>\n",
       "      <th>25%</th>\n",
       "      <td>1124.750000</td>\n",
       "      <td>32.00000</td>\n",
       "    </tr>\n",
       "    <tr>\n",
       "      <th>50%</th>\n",
       "      <td>1249.500000</td>\n",
       "      <td>46.00000</td>\n",
       "    </tr>\n",
       "    <tr>\n",
       "      <th>75%</th>\n",
       "      <td>1374.250000</td>\n",
       "      <td>62.00000</td>\n",
       "    </tr>\n",
       "    <tr>\n",
       "      <th>max</th>\n",
       "      <td>1499.000000</td>\n",
       "      <td>75.00000</td>\n",
       "    </tr>\n",
       "  </tbody>\n",
       "</table>\n",
       "</div>"
      ],
      "text/plain": [
       "           user_id        age\n",
       "count   500.000000  500.00000\n",
       "mean   1249.500000   46.58800\n",
       "std     144.481833   16.66763\n",
       "min    1000.000000   18.00000\n",
       "25%    1124.750000   32.00000\n",
       "50%    1249.500000   46.00000\n",
       "75%    1374.250000   62.00000\n",
       "max    1499.000000   75.00000"
      ]
     },
     "metadata": {},
     "output_type": "display_data"
    }
   ],
   "source": [
    "# используем метод \"describe()\". Он покажет разброс значений, максимум, минимум, среднее и медиану.\n",
    "display(df_users.describe())"
   ]
  },
  {
   "cell_type": "code",
   "execution_count": 9,
   "metadata": {},
   "outputs": [
    {
     "data": {
      "text/plain": [
       "0"
      ]
     },
     "metadata": {},
     "output_type": "display_data"
    }
   ],
   "source": [
    "# посмотрим есть ли дубликаты в таблице, используем метод duplicated() и sum()\n",
    "display(df_users.duplicated().sum())"
   ]
  },
  {
   "cell_type": "markdown",
   "metadata": {},
   "source": [
    "### Вывод по таблице df_users\n",
    "Видно, что в таблице `df_users`:\n",
    "\n",
    "\n",
    "`500` строк и\n",
    "\n",
    "`8` колонок:\n",
    "* `user_id`\n",
    "* `age`\n",
    "* `churn_date`\n",
    "* `city`\n",
    "* `first_name`\n",
    "* `last_name`\n",
    "* `reg_date`\n",
    "* `tariff`\n",
    "\n",
    "В колонках `churn_date` и `reg_date` присвоен тип `object`, поменяем его на тип `date_time`, когда будем подготавливать данные.\n",
    "\n",
    "В колонке `churn_date` есть пропуски, но в описании к данным сказано, что если значение пропущено, то тариф ещё действовал на момент выгрузки данных."
   ]
  },
  {
   "cell_type": "markdown",
   "metadata": {},
   "source": [
    "Прочитаем файл `calls.csv` из папки `datasets`"
   ]
  },
  {
   "cell_type": "code",
   "execution_count": 10,
   "metadata": {},
   "outputs": [],
   "source": [
    "# чтение файла calls.csv и занесем его в переменную df_calls\n",
    "try:\n",
    "    df_users = pd.read_csv('C:/Users/Woode/Projects yandex/Stat/calls.csv')\n",
    "except:\n",
    "    df_calls = pd.read_csv('/datasets/calls.csv')"
   ]
  },
  {
   "cell_type": "markdown",
   "metadata": {},
   "source": [
    "Выведем на экран первые 5 записей таблицы `df_calls`"
   ]
  },
  {
   "cell_type": "code",
   "execution_count": 11,
   "metadata": {},
   "outputs": [
    {
     "data": {
      "text/html": [
       "<div>\n",
       "<style scoped>\n",
       "    .dataframe tbody tr th:only-of-type {\n",
       "        vertical-align: middle;\n",
       "    }\n",
       "\n",
       "    .dataframe tbody tr th {\n",
       "        vertical-align: top;\n",
       "    }\n",
       "\n",
       "    .dataframe thead th {\n",
       "        text-align: right;\n",
       "    }\n",
       "</style>\n",
       "<table border=\"1\" class=\"dataframe\">\n",
       "  <thead>\n",
       "    <tr style=\"text-align: right;\">\n",
       "      <th></th>\n",
       "      <th>id</th>\n",
       "      <th>call_date</th>\n",
       "      <th>duration</th>\n",
       "      <th>user_id</th>\n",
       "    </tr>\n",
       "  </thead>\n",
       "  <tbody>\n",
       "    <tr>\n",
       "      <th>0</th>\n",
       "      <td>1000_0</td>\n",
       "      <td>2018-07-25</td>\n",
       "      <td>0.00</td>\n",
       "      <td>1000</td>\n",
       "    </tr>\n",
       "    <tr>\n",
       "      <th>1</th>\n",
       "      <td>1000_1</td>\n",
       "      <td>2018-08-17</td>\n",
       "      <td>0.00</td>\n",
       "      <td>1000</td>\n",
       "    </tr>\n",
       "    <tr>\n",
       "      <th>2</th>\n",
       "      <td>1000_2</td>\n",
       "      <td>2018-06-11</td>\n",
       "      <td>2.85</td>\n",
       "      <td>1000</td>\n",
       "    </tr>\n",
       "    <tr>\n",
       "      <th>3</th>\n",
       "      <td>1000_3</td>\n",
       "      <td>2018-09-21</td>\n",
       "      <td>13.80</td>\n",
       "      <td>1000</td>\n",
       "    </tr>\n",
       "    <tr>\n",
       "      <th>4</th>\n",
       "      <td>1000_4</td>\n",
       "      <td>2018-12-15</td>\n",
       "      <td>5.18</td>\n",
       "      <td>1000</td>\n",
       "    </tr>\n",
       "  </tbody>\n",
       "</table>\n",
       "</div>"
      ],
      "text/plain": [
       "       id   call_date  duration  user_id\n",
       "0  1000_0  2018-07-25      0.00     1000\n",
       "1  1000_1  2018-08-17      0.00     1000\n",
       "2  1000_2  2018-06-11      2.85     1000\n",
       "3  1000_3  2018-09-21     13.80     1000\n",
       "4  1000_4  2018-12-15      5.18     1000"
      ]
     },
     "metadata": {},
     "output_type": "display_data"
    }
   ],
   "source": [
    "# посмотрим первые 5 записей таблицы df_calls\n",
    "display(df_calls.head())"
   ]
  },
  {
   "cell_type": "markdown",
   "metadata": {},
   "source": [
    "Выведем на экран последние 5 записей таблицы `df_calls`"
   ]
  },
  {
   "cell_type": "code",
   "execution_count": 12,
   "metadata": {},
   "outputs": [
    {
     "data": {
      "text/html": [
       "<div>\n",
       "<style scoped>\n",
       "    .dataframe tbody tr th:only-of-type {\n",
       "        vertical-align: middle;\n",
       "    }\n",
       "\n",
       "    .dataframe tbody tr th {\n",
       "        vertical-align: top;\n",
       "    }\n",
       "\n",
       "    .dataframe thead th {\n",
       "        text-align: right;\n",
       "    }\n",
       "</style>\n",
       "<table border=\"1\" class=\"dataframe\">\n",
       "  <thead>\n",
       "    <tr style=\"text-align: right;\">\n",
       "      <th></th>\n",
       "      <th>id</th>\n",
       "      <th>call_date</th>\n",
       "      <th>duration</th>\n",
       "      <th>user_id</th>\n",
       "    </tr>\n",
       "  </thead>\n",
       "  <tbody>\n",
       "    <tr>\n",
       "      <th>202602</th>\n",
       "      <td>1499_215</td>\n",
       "      <td>2018-12-26</td>\n",
       "      <td>0.76</td>\n",
       "      <td>1499</td>\n",
       "    </tr>\n",
       "    <tr>\n",
       "      <th>202603</th>\n",
       "      <td>1499_216</td>\n",
       "      <td>2018-10-18</td>\n",
       "      <td>18.83</td>\n",
       "      <td>1499</td>\n",
       "    </tr>\n",
       "    <tr>\n",
       "      <th>202604</th>\n",
       "      <td>1499_217</td>\n",
       "      <td>2018-11-10</td>\n",
       "      <td>10.81</td>\n",
       "      <td>1499</td>\n",
       "    </tr>\n",
       "    <tr>\n",
       "      <th>202605</th>\n",
       "      <td>1499_218</td>\n",
       "      <td>2018-10-06</td>\n",
       "      <td>4.27</td>\n",
       "      <td>1499</td>\n",
       "    </tr>\n",
       "    <tr>\n",
       "      <th>202606</th>\n",
       "      <td>1499_219</td>\n",
       "      <td>2018-12-14</td>\n",
       "      <td>19.62</td>\n",
       "      <td>1499</td>\n",
       "    </tr>\n",
       "  </tbody>\n",
       "</table>\n",
       "</div>"
      ],
      "text/plain": [
       "              id   call_date  duration  user_id\n",
       "202602  1499_215  2018-12-26      0.76     1499\n",
       "202603  1499_216  2018-10-18     18.83     1499\n",
       "202604  1499_217  2018-11-10     10.81     1499\n",
       "202605  1499_218  2018-10-06      4.27     1499\n",
       "202606  1499_219  2018-12-14     19.62     1499"
      ]
     },
     "metadata": {},
     "output_type": "display_data"
    }
   ],
   "source": [
    "# посмотрим последние 5 записей таблицы df_calls\n",
    "display(df_calls.tail())"
   ]
  },
  {
   "cell_type": "markdown",
   "metadata": {},
   "source": [
    "Выведем случаейные 5 записей табицы `df_calls`"
   ]
  },
  {
   "cell_type": "code",
   "execution_count": 13,
   "metadata": {
    "scrolled": true
   },
   "outputs": [
    {
     "data": {
      "text/html": [
       "<div>\n",
       "<style scoped>\n",
       "    .dataframe tbody tr th:only-of-type {\n",
       "        vertical-align: middle;\n",
       "    }\n",
       "\n",
       "    .dataframe tbody tr th {\n",
       "        vertical-align: top;\n",
       "    }\n",
       "\n",
       "    .dataframe thead th {\n",
       "        text-align: right;\n",
       "    }\n",
       "</style>\n",
       "<table border=\"1\" class=\"dataframe\">\n",
       "  <thead>\n",
       "    <tr style=\"text-align: right;\">\n",
       "      <th></th>\n",
       "      <th>id</th>\n",
       "      <th>call_date</th>\n",
       "      <th>duration</th>\n",
       "      <th>user_id</th>\n",
       "    </tr>\n",
       "  </thead>\n",
       "  <tbody>\n",
       "    <tr>\n",
       "      <th>11579</th>\n",
       "      <td>1030_112</td>\n",
       "      <td>2018-09-23</td>\n",
       "      <td>0.15</td>\n",
       "      <td>1030</td>\n",
       "    </tr>\n",
       "    <tr>\n",
       "      <th>165097</th>\n",
       "      <td>1408_346</td>\n",
       "      <td>2018-09-26</td>\n",
       "      <td>5.16</td>\n",
       "      <td>1408</td>\n",
       "    </tr>\n",
       "    <tr>\n",
       "      <th>125843</th>\n",
       "      <td>1323_366</td>\n",
       "      <td>2018-09-19</td>\n",
       "      <td>2.71</td>\n",
       "      <td>1323</td>\n",
       "    </tr>\n",
       "    <tr>\n",
       "      <th>45470</th>\n",
       "      <td>1113_886</td>\n",
       "      <td>2018-11-04</td>\n",
       "      <td>7.03</td>\n",
       "      <td>1113</td>\n",
       "    </tr>\n",
       "    <tr>\n",
       "      <th>188735</th>\n",
       "      <td>1465_452</td>\n",
       "      <td>2018-07-22</td>\n",
       "      <td>17.11</td>\n",
       "      <td>1465</td>\n",
       "    </tr>\n",
       "  </tbody>\n",
       "</table>\n",
       "</div>"
      ],
      "text/plain": [
       "              id   call_date  duration  user_id\n",
       "11579   1030_112  2018-09-23      0.15     1030\n",
       "165097  1408_346  2018-09-26      5.16     1408\n",
       "125843  1323_366  2018-09-19      2.71     1323\n",
       "45470   1113_886  2018-11-04      7.03     1113\n",
       "188735  1465_452  2018-07-22     17.11     1465"
      ]
     },
     "metadata": {},
     "output_type": "display_data"
    }
   ],
   "source": [
    "# посмотрим случайные 5 записей таблицы df_calls\n",
    "display(df_calls.sample(5))"
   ]
  },
  {
   "cell_type": "markdown",
   "metadata": {},
   "source": [
    "Посмотрим общую информацию о таблице `df_calls`"
   ]
  },
  {
   "cell_type": "code",
   "execution_count": 14,
   "metadata": {},
   "outputs": [
    {
     "name": "stdout",
     "output_type": "stream",
     "text": [
      "<class 'pandas.core.frame.DataFrame'>\n",
      "RangeIndex: 202607 entries, 0 to 202606\n",
      "Data columns (total 4 columns):\n",
      " #   Column     Non-Null Count   Dtype  \n",
      "---  ------     --------------   -----  \n",
      " 0   id         202607 non-null  object \n",
      " 1   call_date  202607 non-null  object \n",
      " 2   duration   202607 non-null  float64\n",
      " 3   user_id    202607 non-null  int64  \n",
      "dtypes: float64(1), int64(1), object(2)\n",
      "memory usage: 6.2+ MB\n"
     ]
    },
    {
     "data": {
      "text/plain": [
       "None"
      ]
     },
     "metadata": {},
     "output_type": "display_data"
    }
   ],
   "source": [
    "# получение общей ифнормации о таблице df_calls\n",
    "display(df_calls.info())"
   ]
  },
  {
   "cell_type": "code",
   "execution_count": 15,
   "metadata": {
    "scrolled": true
   },
   "outputs": [
    {
     "data": {
      "text/html": [
       "<div>\n",
       "<style scoped>\n",
       "    .dataframe tbody tr th:only-of-type {\n",
       "        vertical-align: middle;\n",
       "    }\n",
       "\n",
       "    .dataframe tbody tr th {\n",
       "        vertical-align: top;\n",
       "    }\n",
       "\n",
       "    .dataframe thead th {\n",
       "        text-align: right;\n",
       "    }\n",
       "</style>\n",
       "<table border=\"1\" class=\"dataframe\">\n",
       "  <thead>\n",
       "    <tr style=\"text-align: right;\">\n",
       "      <th></th>\n",
       "      <th>duration</th>\n",
       "      <th>user_id</th>\n",
       "    </tr>\n",
       "  </thead>\n",
       "  <tbody>\n",
       "    <tr>\n",
       "      <th>count</th>\n",
       "      <td>202607.000000</td>\n",
       "      <td>202607.000000</td>\n",
       "    </tr>\n",
       "    <tr>\n",
       "      <th>mean</th>\n",
       "      <td>6.755887</td>\n",
       "      <td>1253.940619</td>\n",
       "    </tr>\n",
       "    <tr>\n",
       "      <th>std</th>\n",
       "      <td>5.843365</td>\n",
       "      <td>144.722751</td>\n",
       "    </tr>\n",
       "    <tr>\n",
       "      <th>min</th>\n",
       "      <td>0.000000</td>\n",
       "      <td>1000.000000</td>\n",
       "    </tr>\n",
       "    <tr>\n",
       "      <th>25%</th>\n",
       "      <td>1.300000</td>\n",
       "      <td>1126.000000</td>\n",
       "    </tr>\n",
       "    <tr>\n",
       "      <th>50%</th>\n",
       "      <td>6.000000</td>\n",
       "      <td>1260.000000</td>\n",
       "    </tr>\n",
       "    <tr>\n",
       "      <th>75%</th>\n",
       "      <td>10.700000</td>\n",
       "      <td>1379.000000</td>\n",
       "    </tr>\n",
       "    <tr>\n",
       "      <th>max</th>\n",
       "      <td>38.000000</td>\n",
       "      <td>1499.000000</td>\n",
       "    </tr>\n",
       "  </tbody>\n",
       "</table>\n",
       "</div>"
      ],
      "text/plain": [
       "            duration        user_id\n",
       "count  202607.000000  202607.000000\n",
       "mean        6.755887    1253.940619\n",
       "std         5.843365     144.722751\n",
       "min         0.000000    1000.000000\n",
       "25%         1.300000    1126.000000\n",
       "50%         6.000000    1260.000000\n",
       "75%        10.700000    1379.000000\n",
       "max        38.000000    1499.000000"
      ]
     },
     "metadata": {},
     "output_type": "display_data"
    }
   ],
   "source": [
    "# используем метод \"describe()\". Он покажет разброс значений, максимум, минимум, среднее и медиану.\n",
    "display(df_calls.describe())"
   ]
  },
  {
   "cell_type": "code",
   "execution_count": 16,
   "metadata": {},
   "outputs": [
    {
     "data": {
      "text/plain": [
       "0"
      ]
     },
     "metadata": {},
     "output_type": "display_data"
    }
   ],
   "source": [
    "# посмотрим есть ли дубликаты в таблице, используем метод duplicated() и sum()\n",
    "display(df_calls.duplicated().sum())"
   ]
  },
  {
   "cell_type": "markdown",
   "metadata": {},
   "source": [
    "### Вывод по таблице df_calls\n",
    "Видно, что в таблице `df_calls`:\n",
    "\n",
    "\n",
    "`202606` строк и\n",
    "\n",
    "`4` колонки:\n",
    "* `id`\n",
    "* `call_date`\n",
    "* `duration`\n",
    "* `user_id`\n",
    "\n",
    "В колонке `call_date` присвоен тип `object`, поменяем его на тип `date_time`, когда будем подготавливать данные.\n",
    "В колонке `duration` есть нулевые значения. Скорее всего не смогли дозвониться или сбрасывали или мошенники звонят как это часто бывает. В подготовке данных посмотрим что с этим делать. Есть лишняя колонка `id`."
   ]
  },
  {
   "cell_type": "markdown",
   "metadata": {},
   "source": [
    "Прочитаем файл `messages.csv` из папки `datasets`"
   ]
  },
  {
   "cell_type": "code",
   "execution_count": 17,
   "metadata": {},
   "outputs": [],
   "source": [
    "# чтение файла messages.csv и занесем его в переменную df_messages\n",
    "try:\n",
    "    df_users = pd.read_csv('C:/Users/Woode/Projects yandex/Stat/messages.csv')\n",
    "except:\n",
    "    df_messages = pd.read_csv('/datasets/messages.csv')"
   ]
  },
  {
   "cell_type": "markdown",
   "metadata": {},
   "source": [
    "Выведем на экран первые 5 записей таблицы `df_messages`"
   ]
  },
  {
   "cell_type": "code",
   "execution_count": 18,
   "metadata": {},
   "outputs": [
    {
     "data": {
      "text/html": [
       "<div>\n",
       "<style scoped>\n",
       "    .dataframe tbody tr th:only-of-type {\n",
       "        vertical-align: middle;\n",
       "    }\n",
       "\n",
       "    .dataframe tbody tr th {\n",
       "        vertical-align: top;\n",
       "    }\n",
       "\n",
       "    .dataframe thead th {\n",
       "        text-align: right;\n",
       "    }\n",
       "</style>\n",
       "<table border=\"1\" class=\"dataframe\">\n",
       "  <thead>\n",
       "    <tr style=\"text-align: right;\">\n",
       "      <th></th>\n",
       "      <th>id</th>\n",
       "      <th>message_date</th>\n",
       "      <th>user_id</th>\n",
       "    </tr>\n",
       "  </thead>\n",
       "  <tbody>\n",
       "    <tr>\n",
       "      <th>0</th>\n",
       "      <td>1000_0</td>\n",
       "      <td>2018-06-27</td>\n",
       "      <td>1000</td>\n",
       "    </tr>\n",
       "    <tr>\n",
       "      <th>1</th>\n",
       "      <td>1000_1</td>\n",
       "      <td>2018-10-08</td>\n",
       "      <td>1000</td>\n",
       "    </tr>\n",
       "    <tr>\n",
       "      <th>2</th>\n",
       "      <td>1000_2</td>\n",
       "      <td>2018-08-04</td>\n",
       "      <td>1000</td>\n",
       "    </tr>\n",
       "    <tr>\n",
       "      <th>3</th>\n",
       "      <td>1000_3</td>\n",
       "      <td>2018-06-16</td>\n",
       "      <td>1000</td>\n",
       "    </tr>\n",
       "    <tr>\n",
       "      <th>4</th>\n",
       "      <td>1000_4</td>\n",
       "      <td>2018-12-05</td>\n",
       "      <td>1000</td>\n",
       "    </tr>\n",
       "  </tbody>\n",
       "</table>\n",
       "</div>"
      ],
      "text/plain": [
       "       id message_date  user_id\n",
       "0  1000_0   2018-06-27     1000\n",
       "1  1000_1   2018-10-08     1000\n",
       "2  1000_2   2018-08-04     1000\n",
       "3  1000_3   2018-06-16     1000\n",
       "4  1000_4   2018-12-05     1000"
      ]
     },
     "metadata": {},
     "output_type": "display_data"
    }
   ],
   "source": [
    "# посмотрим первые 5 записей таблицы df_messages\n",
    "display(df_messages.head())"
   ]
  },
  {
   "cell_type": "markdown",
   "metadata": {},
   "source": [
    "Выведем на экран последние 5 записей таблицы `df_messages`"
   ]
  },
  {
   "cell_type": "code",
   "execution_count": 19,
   "metadata": {},
   "outputs": [
    {
     "data": {
      "text/html": [
       "<div>\n",
       "<style scoped>\n",
       "    .dataframe tbody tr th:only-of-type {\n",
       "        vertical-align: middle;\n",
       "    }\n",
       "\n",
       "    .dataframe tbody tr th {\n",
       "        vertical-align: top;\n",
       "    }\n",
       "\n",
       "    .dataframe thead th {\n",
       "        text-align: right;\n",
       "    }\n",
       "</style>\n",
       "<table border=\"1\" class=\"dataframe\">\n",
       "  <thead>\n",
       "    <tr style=\"text-align: right;\">\n",
       "      <th></th>\n",
       "      <th>id</th>\n",
       "      <th>message_date</th>\n",
       "      <th>user_id</th>\n",
       "    </tr>\n",
       "  </thead>\n",
       "  <tbody>\n",
       "    <tr>\n",
       "      <th>123031</th>\n",
       "      <td>1499_179</td>\n",
       "      <td>2018-12-12</td>\n",
       "      <td>1499</td>\n",
       "    </tr>\n",
       "    <tr>\n",
       "      <th>123032</th>\n",
       "      <td>1499_180</td>\n",
       "      <td>2018-09-28</td>\n",
       "      <td>1499</td>\n",
       "    </tr>\n",
       "    <tr>\n",
       "      <th>123033</th>\n",
       "      <td>1499_181</td>\n",
       "      <td>2018-09-27</td>\n",
       "      <td>1499</td>\n",
       "    </tr>\n",
       "    <tr>\n",
       "      <th>123034</th>\n",
       "      <td>1499_182</td>\n",
       "      <td>2018-11-15</td>\n",
       "      <td>1499</td>\n",
       "    </tr>\n",
       "    <tr>\n",
       "      <th>123035</th>\n",
       "      <td>1499_183</td>\n",
       "      <td>2018-11-16</td>\n",
       "      <td>1499</td>\n",
       "    </tr>\n",
       "  </tbody>\n",
       "</table>\n",
       "</div>"
      ],
      "text/plain": [
       "              id message_date  user_id\n",
       "123031  1499_179   2018-12-12     1499\n",
       "123032  1499_180   2018-09-28     1499\n",
       "123033  1499_181   2018-09-27     1499\n",
       "123034  1499_182   2018-11-15     1499\n",
       "123035  1499_183   2018-11-16     1499"
      ]
     },
     "metadata": {},
     "output_type": "display_data"
    }
   ],
   "source": [
    "# посмотрим последние 5 записей таблицы df_messages\n",
    "display(df_messages.tail())"
   ]
  },
  {
   "cell_type": "markdown",
   "metadata": {},
   "source": [
    "Выведем случаейные 5 записей табицы `df_messages`"
   ]
  },
  {
   "cell_type": "code",
   "execution_count": 20,
   "metadata": {
    "scrolled": true
   },
   "outputs": [
    {
     "data": {
      "text/html": [
       "<div>\n",
       "<style scoped>\n",
       "    .dataframe tbody tr th:only-of-type {\n",
       "        vertical-align: middle;\n",
       "    }\n",
       "\n",
       "    .dataframe tbody tr th {\n",
       "        vertical-align: top;\n",
       "    }\n",
       "\n",
       "    .dataframe thead th {\n",
       "        text-align: right;\n",
       "    }\n",
       "</style>\n",
       "<table border=\"1\" class=\"dataframe\">\n",
       "  <thead>\n",
       "    <tr style=\"text-align: right;\">\n",
       "      <th></th>\n",
       "      <th>id</th>\n",
       "      <th>message_date</th>\n",
       "      <th>user_id</th>\n",
       "    </tr>\n",
       "  </thead>\n",
       "  <tbody>\n",
       "    <tr>\n",
       "      <th>16492</th>\n",
       "      <td>1071_123</td>\n",
       "      <td>2018-02-12</td>\n",
       "      <td>1071</td>\n",
       "    </tr>\n",
       "    <tr>\n",
       "      <th>5520</th>\n",
       "      <td>1021_676</td>\n",
       "      <td>2018-05-21</td>\n",
       "      <td>1021</td>\n",
       "    </tr>\n",
       "    <tr>\n",
       "      <th>62572</th>\n",
       "      <td>1274_158</td>\n",
       "      <td>2018-06-16</td>\n",
       "      <td>1274</td>\n",
       "    </tr>\n",
       "    <tr>\n",
       "      <th>95503</th>\n",
       "      <td>1393_77</td>\n",
       "      <td>2018-06-13</td>\n",
       "      <td>1393</td>\n",
       "    </tr>\n",
       "    <tr>\n",
       "      <th>75639</th>\n",
       "      <td>1319_228</td>\n",
       "      <td>2018-11-30</td>\n",
       "      <td>1319</td>\n",
       "    </tr>\n",
       "  </tbody>\n",
       "</table>\n",
       "</div>"
      ],
      "text/plain": [
       "             id message_date  user_id\n",
       "16492  1071_123   2018-02-12     1071\n",
       "5520   1021_676   2018-05-21     1021\n",
       "62572  1274_158   2018-06-16     1274\n",
       "95503   1393_77   2018-06-13     1393\n",
       "75639  1319_228   2018-11-30     1319"
      ]
     },
     "metadata": {},
     "output_type": "display_data"
    }
   ],
   "source": [
    "# посмотрим случайные 5 записей таблицы df_messages\n",
    "display(df_messages.sample(5))"
   ]
  },
  {
   "cell_type": "markdown",
   "metadata": {},
   "source": [
    "Посмотрим общую информацию о таблице `df_messages`"
   ]
  },
  {
   "cell_type": "code",
   "execution_count": 21,
   "metadata": {},
   "outputs": [
    {
     "name": "stdout",
     "output_type": "stream",
     "text": [
      "<class 'pandas.core.frame.DataFrame'>\n",
      "RangeIndex: 123036 entries, 0 to 123035\n",
      "Data columns (total 3 columns):\n",
      " #   Column        Non-Null Count   Dtype \n",
      "---  ------        --------------   ----- \n",
      " 0   id            123036 non-null  object\n",
      " 1   message_date  123036 non-null  object\n",
      " 2   user_id       123036 non-null  int64 \n",
      "dtypes: int64(1), object(2)\n",
      "memory usage: 2.8+ MB\n"
     ]
    },
    {
     "data": {
      "text/plain": [
       "None"
      ]
     },
     "metadata": {},
     "output_type": "display_data"
    }
   ],
   "source": [
    "# получение общей ифнормации о таблице df_messages\n",
    "display(df_messages.info())"
   ]
  },
  {
   "cell_type": "code",
   "execution_count": 22,
   "metadata": {},
   "outputs": [
    {
     "data": {
      "text/html": [
       "<div>\n",
       "<style scoped>\n",
       "    .dataframe tbody tr th:only-of-type {\n",
       "        vertical-align: middle;\n",
       "    }\n",
       "\n",
       "    .dataframe tbody tr th {\n",
       "        vertical-align: top;\n",
       "    }\n",
       "\n",
       "    .dataframe thead th {\n",
       "        text-align: right;\n",
       "    }\n",
       "</style>\n",
       "<table border=\"1\" class=\"dataframe\">\n",
       "  <thead>\n",
       "    <tr style=\"text-align: right;\">\n",
       "      <th></th>\n",
       "      <th>user_id</th>\n",
       "    </tr>\n",
       "  </thead>\n",
       "  <tbody>\n",
       "    <tr>\n",
       "      <th>count</th>\n",
       "      <td>123036.000000</td>\n",
       "    </tr>\n",
       "    <tr>\n",
       "      <th>mean</th>\n",
       "      <td>1256.989410</td>\n",
       "    </tr>\n",
       "    <tr>\n",
       "      <th>std</th>\n",
       "      <td>143.523967</td>\n",
       "    </tr>\n",
       "    <tr>\n",
       "      <th>min</th>\n",
       "      <td>1000.000000</td>\n",
       "    </tr>\n",
       "    <tr>\n",
       "      <th>25%</th>\n",
       "      <td>1134.000000</td>\n",
       "    </tr>\n",
       "    <tr>\n",
       "      <th>50%</th>\n",
       "      <td>1271.000000</td>\n",
       "    </tr>\n",
       "    <tr>\n",
       "      <th>75%</th>\n",
       "      <td>1381.000000</td>\n",
       "    </tr>\n",
       "    <tr>\n",
       "      <th>max</th>\n",
       "      <td>1499.000000</td>\n",
       "    </tr>\n",
       "  </tbody>\n",
       "</table>\n",
       "</div>"
      ],
      "text/plain": [
       "             user_id\n",
       "count  123036.000000\n",
       "mean     1256.989410\n",
       "std       143.523967\n",
       "min      1000.000000\n",
       "25%      1134.000000\n",
       "50%      1271.000000\n",
       "75%      1381.000000\n",
       "max      1499.000000"
      ]
     },
     "metadata": {},
     "output_type": "display_data"
    }
   ],
   "source": [
    "# используем метод \"describe()\". Он покажет разброс значений, максимум, минимум, среднее и медиану.\n",
    "display(df_messages.describe())"
   ]
  },
  {
   "cell_type": "code",
   "execution_count": 23,
   "metadata": {},
   "outputs": [
    {
     "data": {
      "text/plain": [
       "0"
      ]
     },
     "metadata": {},
     "output_type": "display_data"
    }
   ],
   "source": [
    "# посмотрим есть ли дубликаты в таблице, используем метод duplicated() и sum()\n",
    "display(df_messages.duplicated().sum())"
   ]
  },
  {
   "cell_type": "markdown",
   "metadata": {},
   "source": [
    "### Вывод по таблице df_messages\n",
    "Видно, что в таблице `df_messages`:\n",
    "\n",
    "\n",
    "`123036` строк и\n",
    "\n",
    "`3` колонки:\n",
    "* `id`\n",
    "* `message_date`\n",
    "* `user_id`\n",
    "\n",
    "В колонке `message_date` присвоен тип `object`, поменяем его на тип `date_time`, когда будем подготавливать данные. Есть лишняя колонка `id`."
   ]
  },
  {
   "cell_type": "markdown",
   "metadata": {},
   "source": [
    "Прочитаем файл `internet.csv` из папки `datasets`"
   ]
  },
  {
   "cell_type": "code",
   "execution_count": 24,
   "metadata": {},
   "outputs": [],
   "source": [
    "# чтение файла internet.csv и занесем его в переменную df_internet\n",
    "try:\n",
    "    df_users = pd.read_csv('C:/Users/Woode/Projects yandex/Stat/internet.csv')\n",
    "except:\n",
    "    df_internet = pd.read_csv('/datasets/internet.csv')"
   ]
  },
  {
   "cell_type": "markdown",
   "metadata": {},
   "source": [
    "Выведем на экран первые 5 записей таблицы `df_internet`"
   ]
  },
  {
   "cell_type": "code",
   "execution_count": 25,
   "metadata": {
    "scrolled": true
   },
   "outputs": [
    {
     "data": {
      "text/html": [
       "<div>\n",
       "<style scoped>\n",
       "    .dataframe tbody tr th:only-of-type {\n",
       "        vertical-align: middle;\n",
       "    }\n",
       "\n",
       "    .dataframe tbody tr th {\n",
       "        vertical-align: top;\n",
       "    }\n",
       "\n",
       "    .dataframe thead th {\n",
       "        text-align: right;\n",
       "    }\n",
       "</style>\n",
       "<table border=\"1\" class=\"dataframe\">\n",
       "  <thead>\n",
       "    <tr style=\"text-align: right;\">\n",
       "      <th></th>\n",
       "      <th>Unnamed: 0</th>\n",
       "      <th>id</th>\n",
       "      <th>mb_used</th>\n",
       "      <th>session_date</th>\n",
       "      <th>user_id</th>\n",
       "    </tr>\n",
       "  </thead>\n",
       "  <tbody>\n",
       "    <tr>\n",
       "      <th>0</th>\n",
       "      <td>0</td>\n",
       "      <td>1000_0</td>\n",
       "      <td>112.95</td>\n",
       "      <td>2018-11-25</td>\n",
       "      <td>1000</td>\n",
       "    </tr>\n",
       "    <tr>\n",
       "      <th>1</th>\n",
       "      <td>1</td>\n",
       "      <td>1000_1</td>\n",
       "      <td>1052.81</td>\n",
       "      <td>2018-09-07</td>\n",
       "      <td>1000</td>\n",
       "    </tr>\n",
       "    <tr>\n",
       "      <th>2</th>\n",
       "      <td>2</td>\n",
       "      <td>1000_2</td>\n",
       "      <td>1197.26</td>\n",
       "      <td>2018-06-25</td>\n",
       "      <td>1000</td>\n",
       "    </tr>\n",
       "    <tr>\n",
       "      <th>3</th>\n",
       "      <td>3</td>\n",
       "      <td>1000_3</td>\n",
       "      <td>550.27</td>\n",
       "      <td>2018-08-22</td>\n",
       "      <td>1000</td>\n",
       "    </tr>\n",
       "    <tr>\n",
       "      <th>4</th>\n",
       "      <td>4</td>\n",
       "      <td>1000_4</td>\n",
       "      <td>302.56</td>\n",
       "      <td>2018-09-24</td>\n",
       "      <td>1000</td>\n",
       "    </tr>\n",
       "  </tbody>\n",
       "</table>\n",
       "</div>"
      ],
      "text/plain": [
       "   Unnamed: 0      id  mb_used session_date  user_id\n",
       "0           0  1000_0   112.95   2018-11-25     1000\n",
       "1           1  1000_1  1052.81   2018-09-07     1000\n",
       "2           2  1000_2  1197.26   2018-06-25     1000\n",
       "3           3  1000_3   550.27   2018-08-22     1000\n",
       "4           4  1000_4   302.56   2018-09-24     1000"
      ]
     },
     "metadata": {},
     "output_type": "display_data"
    }
   ],
   "source": [
    "# посмотрим первые 5 записей таблицы df_internet\n",
    "display(df_internet.head())"
   ]
  },
  {
   "cell_type": "markdown",
   "metadata": {},
   "source": [
    "Выведем на экран последние 5 записей таблицы `df_internet`"
   ]
  },
  {
   "cell_type": "code",
   "execution_count": 26,
   "metadata": {},
   "outputs": [
    {
     "data": {
      "text/html": [
       "<div>\n",
       "<style scoped>\n",
       "    .dataframe tbody tr th:only-of-type {\n",
       "        vertical-align: middle;\n",
       "    }\n",
       "\n",
       "    .dataframe tbody tr th {\n",
       "        vertical-align: top;\n",
       "    }\n",
       "\n",
       "    .dataframe thead th {\n",
       "        text-align: right;\n",
       "    }\n",
       "</style>\n",
       "<table border=\"1\" class=\"dataframe\">\n",
       "  <thead>\n",
       "    <tr style=\"text-align: right;\">\n",
       "      <th></th>\n",
       "      <th>Unnamed: 0</th>\n",
       "      <th>id</th>\n",
       "      <th>mb_used</th>\n",
       "      <th>session_date</th>\n",
       "      <th>user_id</th>\n",
       "    </tr>\n",
       "  </thead>\n",
       "  <tbody>\n",
       "    <tr>\n",
       "      <th>149391</th>\n",
       "      <td>149391</td>\n",
       "      <td>1499_152</td>\n",
       "      <td>318.90</td>\n",
       "      <td>2018-10-03</td>\n",
       "      <td>1499</td>\n",
       "    </tr>\n",
       "    <tr>\n",
       "      <th>149392</th>\n",
       "      <td>149392</td>\n",
       "      <td>1499_153</td>\n",
       "      <td>490.13</td>\n",
       "      <td>2018-12-14</td>\n",
       "      <td>1499</td>\n",
       "    </tr>\n",
       "    <tr>\n",
       "      <th>149393</th>\n",
       "      <td>149393</td>\n",
       "      <td>1499_154</td>\n",
       "      <td>0.00</td>\n",
       "      <td>2018-10-27</td>\n",
       "      <td>1499</td>\n",
       "    </tr>\n",
       "    <tr>\n",
       "      <th>149394</th>\n",
       "      <td>149394</td>\n",
       "      <td>1499_155</td>\n",
       "      <td>1246.32</td>\n",
       "      <td>2018-11-26</td>\n",
       "      <td>1499</td>\n",
       "    </tr>\n",
       "    <tr>\n",
       "      <th>149395</th>\n",
       "      <td>149395</td>\n",
       "      <td>1499_156</td>\n",
       "      <td>544.37</td>\n",
       "      <td>2018-10-26</td>\n",
       "      <td>1499</td>\n",
       "    </tr>\n",
       "  </tbody>\n",
       "</table>\n",
       "</div>"
      ],
      "text/plain": [
       "        Unnamed: 0        id  mb_used session_date  user_id\n",
       "149391      149391  1499_152   318.90   2018-10-03     1499\n",
       "149392      149392  1499_153   490.13   2018-12-14     1499\n",
       "149393      149393  1499_154     0.00   2018-10-27     1499\n",
       "149394      149394  1499_155  1246.32   2018-11-26     1499\n",
       "149395      149395  1499_156   544.37   2018-10-26     1499"
      ]
     },
     "metadata": {},
     "output_type": "display_data"
    }
   ],
   "source": [
    "# посмотрим последние 5 записей таблицы df_internet\n",
    "display(df_internet.tail())"
   ]
  },
  {
   "cell_type": "markdown",
   "metadata": {},
   "source": [
    "Выведем случаейные 5 записей табицы `df_internet`"
   ]
  },
  {
   "cell_type": "code",
   "execution_count": 27,
   "metadata": {
    "scrolled": true
   },
   "outputs": [
    {
     "data": {
      "text/html": [
       "<div>\n",
       "<style scoped>\n",
       "    .dataframe tbody tr th:only-of-type {\n",
       "        vertical-align: middle;\n",
       "    }\n",
       "\n",
       "    .dataframe tbody tr th {\n",
       "        vertical-align: top;\n",
       "    }\n",
       "\n",
       "    .dataframe thead th {\n",
       "        text-align: right;\n",
       "    }\n",
       "</style>\n",
       "<table border=\"1\" class=\"dataframe\">\n",
       "  <thead>\n",
       "    <tr style=\"text-align: right;\">\n",
       "      <th></th>\n",
       "      <th>Unnamed: 0</th>\n",
       "      <th>id</th>\n",
       "      <th>mb_used</th>\n",
       "      <th>session_date</th>\n",
       "      <th>user_id</th>\n",
       "    </tr>\n",
       "  </thead>\n",
       "  <tbody>\n",
       "    <tr>\n",
       "      <th>3561</th>\n",
       "      <td>3561</td>\n",
       "      <td>1011_428</td>\n",
       "      <td>854.69</td>\n",
       "      <td>2018-11-16</td>\n",
       "      <td>1011</td>\n",
       "    </tr>\n",
       "    <tr>\n",
       "      <th>2743</th>\n",
       "      <td>2743</td>\n",
       "      <td>1009_385</td>\n",
       "      <td>578.88</td>\n",
       "      <td>2018-09-28</td>\n",
       "      <td>1009</td>\n",
       "    </tr>\n",
       "    <tr>\n",
       "      <th>62930</th>\n",
       "      <td>62930</td>\n",
       "      <td>1214_27</td>\n",
       "      <td>438.40</td>\n",
       "      <td>2018-08-14</td>\n",
       "      <td>1214</td>\n",
       "    </tr>\n",
       "    <tr>\n",
       "      <th>1228</th>\n",
       "      <td>1228</td>\n",
       "      <td>1005_148</td>\n",
       "      <td>288.80</td>\n",
       "      <td>2018-08-05</td>\n",
       "      <td>1005</td>\n",
       "    </tr>\n",
       "    <tr>\n",
       "      <th>122953</th>\n",
       "      <td>122953</td>\n",
       "      <td>1414_46</td>\n",
       "      <td>494.23</td>\n",
       "      <td>2018-08-30</td>\n",
       "      <td>1414</td>\n",
       "    </tr>\n",
       "  </tbody>\n",
       "</table>\n",
       "</div>"
      ],
      "text/plain": [
       "        Unnamed: 0        id  mb_used session_date  user_id\n",
       "3561          3561  1011_428   854.69   2018-11-16     1011\n",
       "2743          2743  1009_385   578.88   2018-09-28     1009\n",
       "62930        62930   1214_27   438.40   2018-08-14     1214\n",
       "1228          1228  1005_148   288.80   2018-08-05     1005\n",
       "122953      122953   1414_46   494.23   2018-08-30     1414"
      ]
     },
     "metadata": {},
     "output_type": "display_data"
    }
   ],
   "source": [
    "# посмотрим случайные 5 записей таблицы df_internet\n",
    "display(df_internet.sample(5))"
   ]
  },
  {
   "cell_type": "markdown",
   "metadata": {},
   "source": [
    "Посмотрим общую информацию о таблице `df_messages`"
   ]
  },
  {
   "cell_type": "code",
   "execution_count": 28,
   "metadata": {},
   "outputs": [
    {
     "name": "stdout",
     "output_type": "stream",
     "text": [
      "<class 'pandas.core.frame.DataFrame'>\n",
      "RangeIndex: 149396 entries, 0 to 149395\n",
      "Data columns (total 5 columns):\n",
      " #   Column        Non-Null Count   Dtype  \n",
      "---  ------        --------------   -----  \n",
      " 0   Unnamed: 0    149396 non-null  int64  \n",
      " 1   id            149396 non-null  object \n",
      " 2   mb_used       149396 non-null  float64\n",
      " 3   session_date  149396 non-null  object \n",
      " 4   user_id       149396 non-null  int64  \n",
      "dtypes: float64(1), int64(2), object(2)\n",
      "memory usage: 5.7+ MB\n"
     ]
    },
    {
     "data": {
      "text/plain": [
       "None"
      ]
     },
     "metadata": {},
     "output_type": "display_data"
    }
   ],
   "source": [
    "# получение общей ифнормации о таблице df_internet\n",
    "display(df_internet.info())"
   ]
  },
  {
   "cell_type": "code",
   "execution_count": 29,
   "metadata": {},
   "outputs": [
    {
     "data": {
      "text/html": [
       "<div>\n",
       "<style scoped>\n",
       "    .dataframe tbody tr th:only-of-type {\n",
       "        vertical-align: middle;\n",
       "    }\n",
       "\n",
       "    .dataframe tbody tr th {\n",
       "        vertical-align: top;\n",
       "    }\n",
       "\n",
       "    .dataframe thead th {\n",
       "        text-align: right;\n",
       "    }\n",
       "</style>\n",
       "<table border=\"1\" class=\"dataframe\">\n",
       "  <thead>\n",
       "    <tr style=\"text-align: right;\">\n",
       "      <th></th>\n",
       "      <th>Unnamed: 0</th>\n",
       "      <th>mb_used</th>\n",
       "      <th>user_id</th>\n",
       "    </tr>\n",
       "  </thead>\n",
       "  <tbody>\n",
       "    <tr>\n",
       "      <th>count</th>\n",
       "      <td>149396.000000</td>\n",
       "      <td>149396.000000</td>\n",
       "      <td>149396.000000</td>\n",
       "    </tr>\n",
       "    <tr>\n",
       "      <th>mean</th>\n",
       "      <td>74697.500000</td>\n",
       "      <td>370.192426</td>\n",
       "      <td>1252.099842</td>\n",
       "    </tr>\n",
       "    <tr>\n",
       "      <th>std</th>\n",
       "      <td>43127.054745</td>\n",
       "      <td>278.300951</td>\n",
       "      <td>144.050823</td>\n",
       "    </tr>\n",
       "    <tr>\n",
       "      <th>min</th>\n",
       "      <td>0.000000</td>\n",
       "      <td>0.000000</td>\n",
       "      <td>1000.000000</td>\n",
       "    </tr>\n",
       "    <tr>\n",
       "      <th>25%</th>\n",
       "      <td>37348.750000</td>\n",
       "      <td>138.187500</td>\n",
       "      <td>1130.000000</td>\n",
       "    </tr>\n",
       "    <tr>\n",
       "      <th>50%</th>\n",
       "      <td>74697.500000</td>\n",
       "      <td>348.015000</td>\n",
       "      <td>1251.000000</td>\n",
       "    </tr>\n",
       "    <tr>\n",
       "      <th>75%</th>\n",
       "      <td>112046.250000</td>\n",
       "      <td>559.552500</td>\n",
       "      <td>1380.000000</td>\n",
       "    </tr>\n",
       "    <tr>\n",
       "      <th>max</th>\n",
       "      <td>149395.000000</td>\n",
       "      <td>1724.830000</td>\n",
       "      <td>1499.000000</td>\n",
       "    </tr>\n",
       "  </tbody>\n",
       "</table>\n",
       "</div>"
      ],
      "text/plain": [
       "          Unnamed: 0        mb_used        user_id\n",
       "count  149396.000000  149396.000000  149396.000000\n",
       "mean    74697.500000     370.192426    1252.099842\n",
       "std     43127.054745     278.300951     144.050823\n",
       "min         0.000000       0.000000    1000.000000\n",
       "25%     37348.750000     138.187500    1130.000000\n",
       "50%     74697.500000     348.015000    1251.000000\n",
       "75%    112046.250000     559.552500    1380.000000\n",
       "max    149395.000000    1724.830000    1499.000000"
      ]
     },
     "metadata": {},
     "output_type": "display_data"
    }
   ],
   "source": [
    "# используем метод \"describe()\". Он покажет разброс значений, максимум, минимум, среднее и медиану.\n",
    "display(df_internet.describe())"
   ]
  },
  {
   "cell_type": "code",
   "execution_count": 30,
   "metadata": {},
   "outputs": [
    {
     "data": {
      "text/plain": [
       "0"
      ]
     },
     "metadata": {},
     "output_type": "display_data"
    }
   ],
   "source": [
    "# посмотрим есть ли дубликаты в таблице, используем метод duplicated() и sum()\n",
    "display(df_internet.duplicated().sum())"
   ]
  },
  {
   "cell_type": "markdown",
   "metadata": {},
   "source": [
    "### Вывод по таблице df_internet\n",
    "Видно, что в таблице `df_internet`:\n",
    "\n",
    "\n",
    "`149396` строк и\n",
    "\n",
    "`5` колонок:\n",
    "* `Unnamed: 0`\n",
    "* `id`\n",
    "* `mb_used`\n",
    "* `session_date`\n",
    "* `user_id`\n",
    "\n",
    "По колонке `Unnamed: 0` нет информации откуда она там и зачем она в таблице и есть лишняя колонка `id`. Удалим их на этапе подготовки данных. \n",
    "В колонке `session_date` присвоен тип `object`, поменяем его на тип `date_time`, когда будем подготавливать данные. "
   ]
  },
  {
   "cell_type": "code",
   "execution_count": 31,
   "metadata": {},
   "outputs": [],
   "source": [
    "# чтение файла tariffs.csv и занесем его в переменную df_tariffs\n",
    "try:\n",
    "    df_users = pd.read_csv('C:/Users/Woode/Projects yandex/Stat/tariffs.csv')\n",
    "except:\n",
    "    df_tariffs = pd.read_csv('/datasets/tariffs.csv')"
   ]
  },
  {
   "cell_type": "markdown",
   "metadata": {},
   "source": [
    "Выведем на экран первые 5 записей таблицы `df_tariffs`"
   ]
  },
  {
   "cell_type": "code",
   "execution_count": 32,
   "metadata": {
    "scrolled": true
   },
   "outputs": [
    {
     "data": {
      "text/html": [
       "<div>\n",
       "<style scoped>\n",
       "    .dataframe tbody tr th:only-of-type {\n",
       "        vertical-align: middle;\n",
       "    }\n",
       "\n",
       "    .dataframe tbody tr th {\n",
       "        vertical-align: top;\n",
       "    }\n",
       "\n",
       "    .dataframe thead th {\n",
       "        text-align: right;\n",
       "    }\n",
       "</style>\n",
       "<table border=\"1\" class=\"dataframe\">\n",
       "  <thead>\n",
       "    <tr style=\"text-align: right;\">\n",
       "      <th></th>\n",
       "      <th>messages_included</th>\n",
       "      <th>mb_per_month_included</th>\n",
       "      <th>minutes_included</th>\n",
       "      <th>rub_monthly_fee</th>\n",
       "      <th>rub_per_gb</th>\n",
       "      <th>rub_per_message</th>\n",
       "      <th>rub_per_minute</th>\n",
       "      <th>tariff_name</th>\n",
       "    </tr>\n",
       "  </thead>\n",
       "  <tbody>\n",
       "    <tr>\n",
       "      <th>0</th>\n",
       "      <td>50</td>\n",
       "      <td>15360</td>\n",
       "      <td>500</td>\n",
       "      <td>550</td>\n",
       "      <td>200</td>\n",
       "      <td>3</td>\n",
       "      <td>3</td>\n",
       "      <td>smart</td>\n",
       "    </tr>\n",
       "    <tr>\n",
       "      <th>1</th>\n",
       "      <td>1000</td>\n",
       "      <td>30720</td>\n",
       "      <td>3000</td>\n",
       "      <td>1950</td>\n",
       "      <td>150</td>\n",
       "      <td>1</td>\n",
       "      <td>1</td>\n",
       "      <td>ultra</td>\n",
       "    </tr>\n",
       "  </tbody>\n",
       "</table>\n",
       "</div>"
      ],
      "text/plain": [
       "   messages_included  mb_per_month_included  minutes_included  \\\n",
       "0                 50                  15360               500   \n",
       "1               1000                  30720              3000   \n",
       "\n",
       "   rub_monthly_fee  rub_per_gb  rub_per_message  rub_per_minute tariff_name  \n",
       "0              550         200                3               3       smart  \n",
       "1             1950         150                1               1       ultra  "
      ]
     },
     "metadata": {},
     "output_type": "display_data"
    }
   ],
   "source": [
    "# посмотрим первые 5 записей таблицы df_tariffs\n",
    "display(df_tariffs.head())"
   ]
  },
  {
   "cell_type": "markdown",
   "metadata": {},
   "source": [
    "Посмотрим общую информацию о таблице `df_tariffs`"
   ]
  },
  {
   "cell_type": "code",
   "execution_count": 33,
   "metadata": {},
   "outputs": [
    {
     "name": "stdout",
     "output_type": "stream",
     "text": [
      "<class 'pandas.core.frame.DataFrame'>\n",
      "RangeIndex: 2 entries, 0 to 1\n",
      "Data columns (total 8 columns):\n",
      " #   Column                 Non-Null Count  Dtype \n",
      "---  ------                 --------------  ----- \n",
      " 0   messages_included      2 non-null      int64 \n",
      " 1   mb_per_month_included  2 non-null      int64 \n",
      " 2   minutes_included       2 non-null      int64 \n",
      " 3   rub_monthly_fee        2 non-null      int64 \n",
      " 4   rub_per_gb             2 non-null      int64 \n",
      " 5   rub_per_message        2 non-null      int64 \n",
      " 6   rub_per_minute         2 non-null      int64 \n",
      " 7   tariff_name            2 non-null      object\n",
      "dtypes: int64(7), object(1)\n",
      "memory usage: 256.0+ bytes\n"
     ]
    },
    {
     "data": {
      "text/plain": [
       "None"
      ]
     },
     "metadata": {},
     "output_type": "display_data"
    }
   ],
   "source": [
    "# получение общей ифнормации о таблице df_tariffs\n",
    "display(df_tariffs.info())"
   ]
  },
  {
   "cell_type": "code",
   "execution_count": 34,
   "metadata": {},
   "outputs": [
    {
     "data": {
      "text/html": [
       "<div>\n",
       "<style scoped>\n",
       "    .dataframe tbody tr th:only-of-type {\n",
       "        vertical-align: middle;\n",
       "    }\n",
       "\n",
       "    .dataframe tbody tr th {\n",
       "        vertical-align: top;\n",
       "    }\n",
       "\n",
       "    .dataframe thead th {\n",
       "        text-align: right;\n",
       "    }\n",
       "</style>\n",
       "<table border=\"1\" class=\"dataframe\">\n",
       "  <thead>\n",
       "    <tr style=\"text-align: right;\">\n",
       "      <th></th>\n",
       "      <th>messages_included</th>\n",
       "      <th>mb_per_month_included</th>\n",
       "      <th>minutes_included</th>\n",
       "      <th>rub_monthly_fee</th>\n",
       "      <th>rub_per_gb</th>\n",
       "      <th>rub_per_message</th>\n",
       "      <th>rub_per_minute</th>\n",
       "    </tr>\n",
       "  </thead>\n",
       "  <tbody>\n",
       "    <tr>\n",
       "      <th>count</th>\n",
       "      <td>2.000000</td>\n",
       "      <td>2.000000</td>\n",
       "      <td>2.000000</td>\n",
       "      <td>2.000000</td>\n",
       "      <td>2.000000</td>\n",
       "      <td>2.000000</td>\n",
       "      <td>2.000000</td>\n",
       "    </tr>\n",
       "    <tr>\n",
       "      <th>mean</th>\n",
       "      <td>525.000000</td>\n",
       "      <td>23040.000000</td>\n",
       "      <td>1750.000000</td>\n",
       "      <td>1250.000000</td>\n",
       "      <td>175.000000</td>\n",
       "      <td>2.000000</td>\n",
       "      <td>2.000000</td>\n",
       "    </tr>\n",
       "    <tr>\n",
       "      <th>std</th>\n",
       "      <td>671.751442</td>\n",
       "      <td>10861.160159</td>\n",
       "      <td>1767.766953</td>\n",
       "      <td>989.949494</td>\n",
       "      <td>35.355339</td>\n",
       "      <td>1.414214</td>\n",
       "      <td>1.414214</td>\n",
       "    </tr>\n",
       "    <tr>\n",
       "      <th>min</th>\n",
       "      <td>50.000000</td>\n",
       "      <td>15360.000000</td>\n",
       "      <td>500.000000</td>\n",
       "      <td>550.000000</td>\n",
       "      <td>150.000000</td>\n",
       "      <td>1.000000</td>\n",
       "      <td>1.000000</td>\n",
       "    </tr>\n",
       "    <tr>\n",
       "      <th>25%</th>\n",
       "      <td>287.500000</td>\n",
       "      <td>19200.000000</td>\n",
       "      <td>1125.000000</td>\n",
       "      <td>900.000000</td>\n",
       "      <td>162.500000</td>\n",
       "      <td>1.500000</td>\n",
       "      <td>1.500000</td>\n",
       "    </tr>\n",
       "    <tr>\n",
       "      <th>50%</th>\n",
       "      <td>525.000000</td>\n",
       "      <td>23040.000000</td>\n",
       "      <td>1750.000000</td>\n",
       "      <td>1250.000000</td>\n",
       "      <td>175.000000</td>\n",
       "      <td>2.000000</td>\n",
       "      <td>2.000000</td>\n",
       "    </tr>\n",
       "    <tr>\n",
       "      <th>75%</th>\n",
       "      <td>762.500000</td>\n",
       "      <td>26880.000000</td>\n",
       "      <td>2375.000000</td>\n",
       "      <td>1600.000000</td>\n",
       "      <td>187.500000</td>\n",
       "      <td>2.500000</td>\n",
       "      <td>2.500000</td>\n",
       "    </tr>\n",
       "    <tr>\n",
       "      <th>max</th>\n",
       "      <td>1000.000000</td>\n",
       "      <td>30720.000000</td>\n",
       "      <td>3000.000000</td>\n",
       "      <td>1950.000000</td>\n",
       "      <td>200.000000</td>\n",
       "      <td>3.000000</td>\n",
       "      <td>3.000000</td>\n",
       "    </tr>\n",
       "  </tbody>\n",
       "</table>\n",
       "</div>"
      ],
      "text/plain": [
       "       messages_included  mb_per_month_included  minutes_included  \\\n",
       "count           2.000000               2.000000          2.000000   \n",
       "mean          525.000000           23040.000000       1750.000000   \n",
       "std           671.751442           10861.160159       1767.766953   \n",
       "min            50.000000           15360.000000        500.000000   \n",
       "25%           287.500000           19200.000000       1125.000000   \n",
       "50%           525.000000           23040.000000       1750.000000   \n",
       "75%           762.500000           26880.000000       2375.000000   \n",
       "max          1000.000000           30720.000000       3000.000000   \n",
       "\n",
       "       rub_monthly_fee  rub_per_gb  rub_per_message  rub_per_minute  \n",
       "count         2.000000    2.000000         2.000000        2.000000  \n",
       "mean       1250.000000  175.000000         2.000000        2.000000  \n",
       "std         989.949494   35.355339         1.414214        1.414214  \n",
       "min         550.000000  150.000000         1.000000        1.000000  \n",
       "25%         900.000000  162.500000         1.500000        1.500000  \n",
       "50%        1250.000000  175.000000         2.000000        2.000000  \n",
       "75%        1600.000000  187.500000         2.500000        2.500000  \n",
       "max        1950.000000  200.000000         3.000000        3.000000  "
      ]
     },
     "metadata": {},
     "output_type": "display_data"
    }
   ],
   "source": [
    "# используем метод \"describe()\". Он покажет разброс значений, максимум, минимум, среднее и медиану.\n",
    "display(df_tariffs.describe())"
   ]
  },
  {
   "cell_type": "markdown",
   "metadata": {},
   "source": [
    "### Вывод по талице df_tariffs\n",
    "Видно, что в таблице `df_tariffs`:\n",
    "\n",
    "\n",
    "`2` строки и\n",
    "\n",
    "`8` колонок:\n",
    "* `messages_included`\n",
    "* `mb_per_month_included`\n",
    "* `minutes_included`\n",
    "* `rub_monthly_fee`\n",
    "* `rub_per_gb`\n",
    "* `rub_per_message`\n",
    "* `rub_per_minute`\n",
    "* `tariff_name`"
   ]
  },
  {
   "cell_type": "markdown",
   "metadata": {},
   "source": [
    "## Подготовим данные"
   ]
  },
  {
   "cell_type": "markdown",
   "metadata": {},
   "source": [
    "Поменяем типы данных в колонках.\n",
    "\n",
    "### Начнем с таблицы df_users."
   ]
  },
  {
   "cell_type": "code",
   "execution_count": 35,
   "metadata": {},
   "outputs": [],
   "source": [
    "# используем метод to_datetime, чтобы изменить тип c object на datetime в колонках churn_date и reg_date\n",
    "df_users['churn_date'] = pd.to_datetime(df_users['churn_date'])\n",
    "df_users['reg_date'] = pd.to_datetime(df_users['reg_date'])"
   ]
  },
  {
   "cell_type": "code",
   "execution_count": 36,
   "metadata": {},
   "outputs": [
    {
     "name": "stdout",
     "output_type": "stream",
     "text": [
      "<class 'pandas.core.frame.DataFrame'>\n",
      "RangeIndex: 500 entries, 0 to 499\n",
      "Data columns (total 8 columns):\n",
      " #   Column      Non-Null Count  Dtype         \n",
      "---  ------      --------------  -----         \n",
      " 0   user_id     500 non-null    int64         \n",
      " 1   age         500 non-null    int64         \n",
      " 2   churn_date  38 non-null     datetime64[ns]\n",
      " 3   city        500 non-null    object        \n",
      " 4   first_name  500 non-null    object        \n",
      " 5   last_name   500 non-null    object        \n",
      " 6   reg_date    500 non-null    datetime64[ns]\n",
      " 7   tariff      500 non-null    object        \n",
      "dtypes: datetime64[ns](2), int64(2), object(4)\n",
      "memory usage: 31.4+ KB\n"
     ]
    },
    {
     "data": {
      "text/plain": [
       "None"
      ]
     },
     "metadata": {},
     "output_type": "display_data"
    }
   ],
   "source": [
    "# получим общую информацию о df_users\n",
    "display(df_users.info())"
   ]
  },
  {
   "cell_type": "markdown",
   "metadata": {},
   "source": [
    "Поменяли тип данных c `object` на `datetime` в колонках `churn_date` и `reg_date`."
   ]
  },
  {
   "cell_type": "markdown",
   "metadata": {},
   "source": [
    "### Подготовим таблицу df_calls"
   ]
  },
  {
   "cell_type": "code",
   "execution_count": 37,
   "metadata": {},
   "outputs": [
    {
     "data": {
      "text/plain": [
       "39613"
      ]
     },
     "metadata": {},
     "output_type": "display_data"
    },
    {
     "data": {
      "text/plain": [
       "20.0"
      ]
     },
     "metadata": {},
     "output_type": "display_data"
    }
   ],
   "source": [
    "# используем метод to_datetime, чтобы именить тип с object на datetime в колонке call_date\n",
    "df_calls['call_date'] = pd.to_datetime(df_calls['call_date'])\n",
    "# округлим значения продолжительности звонков до целых чисел в большую сторону с помощью метода np.ceil()\n",
    "df_calls['duration'] = np.ceil(df_calls['duration'])\n",
    "# посмотрим сколько нулевых значений в колонке duration\n",
    "display(df_calls[df_calls['duration']==0]['duration'].count())\n",
    "\n",
    "# посмотрим долю нулевых значений от общих данных и запишем этот расчет в переменную ratio_null_duration\n",
    "ratio_null_duration = df_calls[df_calls['duration']==0]['duration'].count()/len(df_calls['duration'])\n",
    "display(ratio_null_duration.round(1)*100)"
   ]
  },
  {
   "cell_type": "code",
   "execution_count": 38,
   "metadata": {},
   "outputs": [
    {
     "data": {
      "text/plain": [
       "<seaborn.axisgrid.FacetGrid at 0x7fb665f37fa0>"
      ]
     },
     "execution_count": 38,
     "metadata": {},
     "output_type": "execute_result"
    },
    {
     "data": {
      "image/png": "[encoded data removed]",
      "text/plain": [
       "<Figure size 360x360 with 1 Axes>"
      ]
     },
     "metadata": {
      "needs_background": "light"
     },
     "output_type": "display_data"
    }
   ],
   "source": [
    "# посмотрим на kde график\n",
    "sns.displot(data=df_calls, x='duration', kind='kde', fill=True)"
   ]
  },
  {
   "cell_type": "code",
   "execution_count": 39,
   "metadata": {},
   "outputs": [],
   "source": [
    "# удаляем не нужные колонки с помощью метода drop() и параметр axis='columns'\n",
    "df_calls = df_calls.drop('id', axis='columns')"
   ]
  },
  {
   "cell_type": "code",
   "execution_count": 40,
   "metadata": {},
   "outputs": [
    {
     "name": "stdout",
     "output_type": "stream",
     "text": [
      "<class 'pandas.core.frame.DataFrame'>\n",
      "RangeIndex: 202607 entries, 0 to 202606\n",
      "Data columns (total 3 columns):\n",
      " #   Column     Non-Null Count   Dtype         \n",
      "---  ------     --------------   -----         \n",
      " 0   call_date  202607 non-null  datetime64[ns]\n",
      " 1   duration   202607 non-null  float64       \n",
      " 2   user_id    202607 non-null  int64         \n",
      "dtypes: datetime64[ns](1), float64(1), int64(1)\n",
      "memory usage: 4.6 MB\n"
     ]
    },
    {
     "data": {
      "text/plain": [
       "None"
      ]
     },
     "metadata": {},
     "output_type": "display_data"
    }
   ],
   "source": [
    "# получим общую информацию о df_calls\n",
    "display(df_calls.info())"
   ]
  },
  {
   "cell_type": "markdown",
   "metadata": {},
   "source": [
    "Поменяли тип данных c object на datetime в колонке `calldate`.\n",
    "\n",
    "Количество нулевых значений в колонке `duration` составило `43 780`. Это `20 %` от общего количества данных в таблице `df_calls`.\n",
    "Не очень понятно пригодятся ли такие данные, но пока оставим. Удалили лишнюю колонку `id`."
   ]
  },
  {
   "cell_type": "markdown",
   "metadata": {},
   "source": [
    "### Подготовим таблицу df_messages"
   ]
  },
  {
   "cell_type": "code",
   "execution_count": 41,
   "metadata": {},
   "outputs": [],
   "source": [
    "# используем метод to_datetime, чтобы изменить тип с object на datetime в колонке message_date\n",
    "df_messages['message_date'] = pd.to_datetime(df_messages['message_date'])"
   ]
  },
  {
   "cell_type": "code",
   "execution_count": 42,
   "metadata": {},
   "outputs": [],
   "source": [
    "# удаляем не нужные колонки с помощью метод drop() и параметр axis='columns'\n",
    "df_messages = df_messages.drop('id', axis='columns')"
   ]
  },
  {
   "cell_type": "code",
   "execution_count": 43,
   "metadata": {},
   "outputs": [
    {
     "name": "stdout",
     "output_type": "stream",
     "text": [
      "<class 'pandas.core.frame.DataFrame'>\n",
      "RangeIndex: 123036 entries, 0 to 123035\n",
      "Data columns (total 2 columns):\n",
      " #   Column        Non-Null Count   Dtype         \n",
      "---  ------        --------------   -----         \n",
      " 0   message_date  123036 non-null  datetime64[ns]\n",
      " 1   user_id       123036 non-null  int64         \n",
      "dtypes: datetime64[ns](1), int64(1)\n",
      "memory usage: 1.9 MB\n"
     ]
    },
    {
     "data": {
      "text/plain": [
       "None"
      ]
     },
     "metadata": {},
     "output_type": "display_data"
    }
   ],
   "source": [
    "# посмотрим общую информацию о df_messages\n",
    "display(df_messages.info())"
   ]
  },
  {
   "cell_type": "markdown",
   "metadata": {},
   "source": [
    "Поменяли тип данных c object на datetime в колонке `message_date`. Удалили лишнюю колонку `id`."
   ]
  },
  {
   "cell_type": "markdown",
   "metadata": {},
   "source": [
    "### Подготовим таблицу df_internet"
   ]
  },
  {
   "cell_type": "code",
   "execution_count": 44,
   "metadata": {},
   "outputs": [],
   "source": [
    "# используем метод to_datetime, чтобы изменить тип с object на datetime в колонке message_date\n",
    "df_internet['session_date'] = pd.to_datetime(df_internet['session_date'])"
   ]
  },
  {
   "cell_type": "code",
   "execution_count": 45,
   "metadata": {},
   "outputs": [],
   "source": [
    "# используем метод pop для удлания столбца\n",
    "df_internet.pop('Unnamed: 0')\n",
    "# удаляем не нужные колонки с помощью метода drop() и параметр axis='columns'\n",
    "df_internet = df_internet.drop('id', axis='columns')"
   ]
  },
  {
   "cell_type": "code",
   "execution_count": 46,
   "metadata": {},
   "outputs": [
    {
     "name": "stdout",
     "output_type": "stream",
     "text": [
      "<class 'pandas.core.frame.DataFrame'>\n",
      "RangeIndex: 149396 entries, 0 to 149395\n",
      "Data columns (total 3 columns):\n",
      " #   Column        Non-Null Count   Dtype         \n",
      "---  ------        --------------   -----         \n",
      " 0   mb_used       149396 non-null  float64       \n",
      " 1   session_date  149396 non-null  datetime64[ns]\n",
      " 2   user_id       149396 non-null  int64         \n",
      "dtypes: datetime64[ns](1), float64(1), int64(1)\n",
      "memory usage: 3.4 MB\n"
     ]
    }
   ],
   "source": [
    "df_internet.info()"
   ]
  },
  {
   "cell_type": "code",
   "execution_count": 47,
   "metadata": {},
   "outputs": [
    {
     "data": {
      "text/plain": [
       "<bound method DataFrame.info of         mb_used session_date  user_id\n",
       "0        112.95   2018-11-25     1000\n",
       "1       1052.81   2018-09-07     1000\n",
       "2       1197.26   2018-06-25     1000\n",
       "3        550.27   2018-08-22     1000\n",
       "4        302.56   2018-09-24     1000\n",
       "...         ...          ...      ...\n",
       "149391   318.90   2018-10-03     1499\n",
       "149392   490.13   2018-12-14     1499\n",
       "149393     0.00   2018-10-27     1499\n",
       "149394  1246.32   2018-11-26     1499\n",
       "149395   544.37   2018-10-26     1499\n",
       "\n",
       "[149396 rows x 3 columns]>"
      ]
     },
     "metadata": {},
     "output_type": "display_data"
    }
   ],
   "source": [
    "# посмотрим общую информацию о df_internet\n",
    "display(df_internet.info)"
   ]
  },
  {
   "cell_type": "markdown",
   "metadata": {},
   "source": [
    "Поменяли тип данных c object на datetime в колонке `session_date`. Удалили лишние колонки `Unnamed: 0` и `id`."
   ]
  },
  {
   "cell_type": "markdown",
   "metadata": {},
   "source": [
    "### Посчитаем для каждого пользователя количество сделанных звонков и израсходованных минут разговора по месяцам:\n",
    "\n",
    "   - добавим колонку `month` в таблицу `df_calls`\n",
    "   - создадим сводную таблицу по `user_id` и `month`"
   ]
  },
  {
   "cell_type": "code",
   "execution_count": 48,
   "metadata": {},
   "outputs": [
    {
     "data": {
      "text/html": [
       "<div>\n",
       "<style scoped>\n",
       "    .dataframe tbody tr th:only-of-type {\n",
       "        vertical-align: middle;\n",
       "    }\n",
       "\n",
       "    .dataframe tbody tr th {\n",
       "        vertical-align: top;\n",
       "    }\n",
       "\n",
       "    .dataframe thead th {\n",
       "        text-align: right;\n",
       "    }\n",
       "</style>\n",
       "<table border=\"1\" class=\"dataframe\">\n",
       "  <thead>\n",
       "    <tr style=\"text-align: right;\">\n",
       "      <th></th>\n",
       "      <th></th>\n",
       "      <th>calls_count</th>\n",
       "      <th>calls_duration</th>\n",
       "    </tr>\n",
       "    <tr>\n",
       "      <th>user_id</th>\n",
       "      <th>month</th>\n",
       "      <th></th>\n",
       "      <th></th>\n",
       "    </tr>\n",
       "  </thead>\n",
       "  <tbody>\n",
       "    <tr>\n",
       "      <th rowspan=\"8\" valign=\"top\">1000</th>\n",
       "      <th>5</th>\n",
       "      <td>22</td>\n",
       "      <td>159.0</td>\n",
       "    </tr>\n",
       "    <tr>\n",
       "      <th>6</th>\n",
       "      <td>43</td>\n",
       "      <td>172.0</td>\n",
       "    </tr>\n",
       "    <tr>\n",
       "      <th>7</th>\n",
       "      <td>47</td>\n",
       "      <td>340.0</td>\n",
       "    </tr>\n",
       "    <tr>\n",
       "      <th>8</th>\n",
       "      <td>52</td>\n",
       "      <td>408.0</td>\n",
       "    </tr>\n",
       "    <tr>\n",
       "      <th>9</th>\n",
       "      <td>58</td>\n",
       "      <td>466.0</td>\n",
       "    </tr>\n",
       "    <tr>\n",
       "      <th>10</th>\n",
       "      <td>57</td>\n",
       "      <td>350.0</td>\n",
       "    </tr>\n",
       "    <tr>\n",
       "      <th>11</th>\n",
       "      <td>43</td>\n",
       "      <td>338.0</td>\n",
       "    </tr>\n",
       "    <tr>\n",
       "      <th>12</th>\n",
       "      <td>46</td>\n",
       "      <td>333.0</td>\n",
       "    </tr>\n",
       "    <tr>\n",
       "      <th rowspan=\"2\" valign=\"top\">1001</th>\n",
       "      <th>11</th>\n",
       "      <td>59</td>\n",
       "      <td>430.0</td>\n",
       "    </tr>\n",
       "    <tr>\n",
       "      <th>12</th>\n",
       "      <td>63</td>\n",
       "      <td>414.0</td>\n",
       "    </tr>\n",
       "    <tr>\n",
       "      <th rowspan=\"2\" valign=\"top\">1002</th>\n",
       "      <th>6</th>\n",
       "      <td>15</td>\n",
       "      <td>117.0</td>\n",
       "    </tr>\n",
       "    <tr>\n",
       "      <th>7</th>\n",
       "      <td>26</td>\n",
       "      <td>214.0</td>\n",
       "    </tr>\n",
       "  </tbody>\n",
       "</table>\n",
       "</div>"
      ],
      "text/plain": [
       "               calls_count  calls_duration\n",
       "user_id month                             \n",
       "1000    5               22           159.0\n",
       "        6               43           172.0\n",
       "        7               47           340.0\n",
       "        8               52           408.0\n",
       "        9               58           466.0\n",
       "        10              57           350.0\n",
       "        11              43           338.0\n",
       "        12              46           333.0\n",
       "1001    11              59           430.0\n",
       "        12              63           414.0\n",
       "1002    6               15           117.0\n",
       "        7               26           214.0"
      ]
     },
     "metadata": {},
     "output_type": "display_data"
    }
   ],
   "source": [
    "# добавим колонку month и используем метод datetime (dt) и оставим только месяц с помощью метода month\n",
    "df_calls['month'] = df_calls['call_date'].dt.month\n",
    "\n",
    "# создадим переменную df_calls_pivot и положим в неё сводную таблицу с помощью метода pivot_table()\n",
    "df_calls_pivot = df_calls.pivot_table(index=['user_id', 'month'], aggfunc={'call_date':'count', 'duration':sum})\n",
    "\n",
    "# создадим две колонки для подсчета количества сделанных звоноков и израсходованных минут\n",
    "df_calls_pivot.columns = ['calls_count', 'calls_duration']\n",
    "\n",
    "# выведем первые 12 строчек сводной таблицы df_calls_pivot\n",
    "display(df_calls_pivot.head(12))"
   ]
  },
  {
   "cell_type": "markdown",
   "metadata": {},
   "source": [
    "### Посчитаем для каждого пользователя количество отправленных сообщений по месяцам:\n",
    "   - добавим колонку `month` в таблицу `df_messages`\n",
    "   - создадим сводную таблицу по `user_id` и `month`"
   ]
  },
  {
   "cell_type": "code",
   "execution_count": 49,
   "metadata": {},
   "outputs": [
    {
     "data": {
      "text/html": [
       "<div>\n",
       "<style scoped>\n",
       "    .dataframe tbody tr th:only-of-type {\n",
       "        vertical-align: middle;\n",
       "    }\n",
       "\n",
       "    .dataframe tbody tr th {\n",
       "        vertical-align: top;\n",
       "    }\n",
       "\n",
       "    .dataframe thead th {\n",
       "        text-align: right;\n",
       "    }\n",
       "</style>\n",
       "<table border=\"1\" class=\"dataframe\">\n",
       "  <thead>\n",
       "    <tr style=\"text-align: right;\">\n",
       "      <th></th>\n",
       "      <th></th>\n",
       "      <th>messages_count</th>\n",
       "    </tr>\n",
       "    <tr>\n",
       "      <th>user_id</th>\n",
       "      <th>month</th>\n",
       "      <th></th>\n",
       "    </tr>\n",
       "  </thead>\n",
       "  <tbody>\n",
       "    <tr>\n",
       "      <th rowspan=\"8\" valign=\"top\">1000</th>\n",
       "      <th>5</th>\n",
       "      <td>22</td>\n",
       "    </tr>\n",
       "    <tr>\n",
       "      <th>6</th>\n",
       "      <td>60</td>\n",
       "    </tr>\n",
       "    <tr>\n",
       "      <th>7</th>\n",
       "      <td>75</td>\n",
       "    </tr>\n",
       "    <tr>\n",
       "      <th>8</th>\n",
       "      <td>81</td>\n",
       "    </tr>\n",
       "    <tr>\n",
       "      <th>9</th>\n",
       "      <td>57</td>\n",
       "    </tr>\n",
       "    <tr>\n",
       "      <th>10</th>\n",
       "      <td>73</td>\n",
       "    </tr>\n",
       "    <tr>\n",
       "      <th>11</th>\n",
       "      <td>58</td>\n",
       "    </tr>\n",
       "    <tr>\n",
       "      <th>12</th>\n",
       "      <td>70</td>\n",
       "    </tr>\n",
       "    <tr>\n",
       "      <th rowspan=\"4\" valign=\"top\">1002</th>\n",
       "      <th>6</th>\n",
       "      <td>4</td>\n",
       "    </tr>\n",
       "    <tr>\n",
       "      <th>7</th>\n",
       "      <td>11</td>\n",
       "    </tr>\n",
       "    <tr>\n",
       "      <th>8</th>\n",
       "      <td>13</td>\n",
       "    </tr>\n",
       "    <tr>\n",
       "      <th>9</th>\n",
       "      <td>4</td>\n",
       "    </tr>\n",
       "  </tbody>\n",
       "</table>\n",
       "</div>"
      ],
      "text/plain": [
       "               messages_count\n",
       "user_id month                \n",
       "1000    5                  22\n",
       "        6                  60\n",
       "        7                  75\n",
       "        8                  81\n",
       "        9                  57\n",
       "        10                 73\n",
       "        11                 58\n",
       "        12                 70\n",
       "1002    6                   4\n",
       "        7                  11\n",
       "        8                  13\n",
       "        9                   4"
      ]
     },
     "metadata": {},
     "output_type": "display_data"
    }
   ],
   "source": [
    "# добавим колонку month и используем метода datetime (dt) и оставим только месяц с помощью метода month\n",
    "df_messages['month'] = df_messages['message_date'].dt.month\n",
    "\n",
    "# создадим переменную df_messages_pivot и положим в неё сводную таблицу с помощью метода pivot_table()\n",
    "df_messages_pivot = df_messages.pivot_table(index=['user_id', 'month'], aggfunc={'user_id':'count'})\n",
    "\n",
    "# создадим колонку для подсчета количества сообщений\n",
    "df_messages_pivot.columns = ['messages_count']\n",
    "\n",
    "# выведем первые 12 строчек сводной таблицы df_messages_pivot\n",
    "display(df_messages_pivot.head(12))"
   ]
  },
  {
   "cell_type": "markdown",
   "metadata": {},
   "source": [
    "### Посчитаем для каждого пользователя объем израсходованного интернет-трафика по месяцам:\n",
    "   - добавим колонку `month` в таблицу `df_internet`\n",
    "   - создадим сводную таблицу по `user_id` и `month`"
   ]
  },
  {
   "cell_type": "code",
   "execution_count": 50,
   "metadata": {},
   "outputs": [
    {
     "data": {
      "text/html": [
       "<div>\n",
       "<style scoped>\n",
       "    .dataframe tbody tr th:only-of-type {\n",
       "        vertical-align: middle;\n",
       "    }\n",
       "\n",
       "    .dataframe tbody tr th {\n",
       "        vertical-align: top;\n",
       "    }\n",
       "\n",
       "    .dataframe thead th {\n",
       "        text-align: right;\n",
       "    }\n",
       "</style>\n",
       "<table border=\"1\" class=\"dataframe\">\n",
       "  <thead>\n",
       "    <tr style=\"text-align: right;\">\n",
       "      <th></th>\n",
       "      <th></th>\n",
       "      <th>internet_sum</th>\n",
       "    </tr>\n",
       "    <tr>\n",
       "      <th>user_id</th>\n",
       "      <th>month</th>\n",
       "      <th></th>\n",
       "    </tr>\n",
       "  </thead>\n",
       "  <tbody>\n",
       "    <tr>\n",
       "      <th rowspan=\"8\" valign=\"top\">1000</th>\n",
       "      <th>5</th>\n",
       "      <td>2253.49</td>\n",
       "    </tr>\n",
       "    <tr>\n",
       "      <th>6</th>\n",
       "      <td>23233.77</td>\n",
       "    </tr>\n",
       "    <tr>\n",
       "      <th>7</th>\n",
       "      <td>14003.64</td>\n",
       "    </tr>\n",
       "    <tr>\n",
       "      <th>8</th>\n",
       "      <td>14055.93</td>\n",
       "    </tr>\n",
       "    <tr>\n",
       "      <th>9</th>\n",
       "      <td>14568.91</td>\n",
       "    </tr>\n",
       "    <tr>\n",
       "      <th>10</th>\n",
       "      <td>14702.49</td>\n",
       "    </tr>\n",
       "    <tr>\n",
       "      <th>11</th>\n",
       "      <td>14756.47</td>\n",
       "    </tr>\n",
       "    <tr>\n",
       "      <th>12</th>\n",
       "      <td>9817.61</td>\n",
       "    </tr>\n",
       "    <tr>\n",
       "      <th rowspan=\"2\" valign=\"top\">1001</th>\n",
       "      <th>11</th>\n",
       "      <td>18429.34</td>\n",
       "    </tr>\n",
       "    <tr>\n",
       "      <th>12</th>\n",
       "      <td>14036.66</td>\n",
       "    </tr>\n",
       "    <tr>\n",
       "      <th rowspan=\"2\" valign=\"top\">1002</th>\n",
       "      <th>6</th>\n",
       "      <td>10856.82</td>\n",
       "    </tr>\n",
       "    <tr>\n",
       "      <th>7</th>\n",
       "      <td>17580.10</td>\n",
       "    </tr>\n",
       "  </tbody>\n",
       "</table>\n",
       "</div>"
      ],
      "text/plain": [
       "               internet_sum\n",
       "user_id month              \n",
       "1000    5           2253.49\n",
       "        6          23233.77\n",
       "        7          14003.64\n",
       "        8          14055.93\n",
       "        9          14568.91\n",
       "        10         14702.49\n",
       "        11         14756.47\n",
       "        12          9817.61\n",
       "1001    11         18429.34\n",
       "        12         14036.66\n",
       "1002    6          10856.82\n",
       "        7          17580.10"
      ]
     },
     "metadata": {},
     "output_type": "display_data"
    }
   ],
   "source": [
    "# добавим колонку month и используем метод datetime (dt) и оставим только месяц с помощью метода month\n",
    "df_internet['month'] = df_internet['session_date'].dt.month\n",
    "\n",
    "# создадим переменную df_internet_pivot и положим в неё сводную таблицу с помощью метода pivot_table()\n",
    "df_internet_pivot = df_internet.pivot_table(index=['user_id', 'month'], aggfunc={'mb_used':sum})\n",
    "\n",
    "# создадим колонку для подсчета интернет-трафика\n",
    "df_internet_pivot.columns=['internet_sum']\n",
    "\n",
    "# выведем первые 12 строчек сводной таблицы df_internet_pivot\n",
    "display(df_internet_pivot.head(12))"
   ]
  },
  {
   "cell_type": "markdown",
   "metadata": {},
   "source": [
    "### Посчитаем для каждого пользователя помесячную выручку с каждого пользователя"
   ]
  },
  {
   "cell_type": "markdown",
   "metadata": {},
   "source": [
    "Для начала для подсчета выручки объединим все наши таблицы в одну."
   ]
  },
  {
   "cell_type": "code",
   "execution_count": 51,
   "metadata": {},
   "outputs": [],
   "source": [
    "# объединим все наши сводные в одну сводную df_all_pivot с помощью метода join() \n",
    "# все присоединяем к df_internet_pivot и сбросим индексы с помощью метода reset_index()\n",
    "df_all_pivot = df_internet_pivot.join([df_messages_pivot, df_calls_pivot], how='outer').reset_index(level='month')\n",
    "\n",
    "# объединим таблицу df_users и все наши сводные по колонке user_id с помощью метода join() \n",
    "df_all_pivot_and_users = df_users.join(df_all_pivot, on='user_id')\n",
    "\n",
    "# поменяем название колонки в таблице df_tariffs с tariff_name на tariff, чтобы можно было по ней объединить данные\n",
    "# чтобы изминение применилось используем параметр inplace=True\n",
    "df_tariffs.rename(columns={'tariff_name' : 'tariff'}, inplace=True)\n",
    "\n",
    "# объединим таблицу df_all_pivot_and_users и df_tariffs с помощью метода merge()\n",
    "df_all_pivot_and_users_and_tariffs = df_all_pivot_and_users.merge(df_tariffs, on='tariff')\n"
   ]
  },
  {
   "cell_type": "markdown",
   "metadata": {},
   "source": [
    "Посмотрим общую информацию о таблице, которая собрала в себе всю информацию."
   ]
  },
  {
   "cell_type": "code",
   "execution_count": 52,
   "metadata": {},
   "outputs": [
    {
     "name": "stdout",
     "output_type": "stream",
     "text": [
      "<class 'pandas.core.frame.DataFrame'>\n",
      "Int64Index: 3216 entries, 0 to 3215\n",
      "Data columns (total 20 columns):\n",
      " #   Column                 Non-Null Count  Dtype         \n",
      "---  ------                 --------------  -----         \n",
      " 0   user_id                3216 non-null   int64         \n",
      " 1   age                    3216 non-null   int64         \n",
      " 2   churn_date             189 non-null    datetime64[ns]\n",
      " 3   city                   3216 non-null   object        \n",
      " 4   first_name             3216 non-null   object        \n",
      " 5   last_name              3216 non-null   object        \n",
      " 6   reg_date               3216 non-null   datetime64[ns]\n",
      " 7   tariff                 3216 non-null   object        \n",
      " 8   month                  3214 non-null   float64       \n",
      " 9   internet_sum           3203 non-null   float64       \n",
      " 10  messages_count         2717 non-null   float64       \n",
      " 11  calls_count            3174 non-null   float64       \n",
      " 12  calls_duration         3174 non-null   float64       \n",
      " 13  messages_included      3216 non-null   int64         \n",
      " 14  mb_per_month_included  3216 non-null   int64         \n",
      " 15  minutes_included       3216 non-null   int64         \n",
      " 16  rub_monthly_fee        3216 non-null   int64         \n",
      " 17  rub_per_gb             3216 non-null   int64         \n",
      " 18  rub_per_message        3216 non-null   int64         \n",
      " 19  rub_per_minute         3216 non-null   int64         \n",
      "dtypes: datetime64[ns](2), float64(5), int64(9), object(4)\n",
      "memory usage: 527.6+ KB\n"
     ]
    }
   ],
   "source": [
    "# используем метод info()\n",
    "df_all_pivot_and_users_and_tariffs.info()"
   ]
  },
  {
   "cell_type": "markdown",
   "metadata": {},
   "source": [
    "Колонки `churn_date`, `first_name`, `last_name`, `reg_date` не нужны, удаляем их."
   ]
  },
  {
   "cell_type": "code",
   "execution_count": 53,
   "metadata": {},
   "outputs": [],
   "source": [
    "# удаляем не нужные колонки с помощью метода drop() и параметр axis='columns'\n",
    "df_all_pivot_and_users_and_tariffs = df_all_pivot_and_users_and_tariffs.drop(['churn_date', 'first_name', 'last_name', 'reg_date'], axis='columns')"
   ]
  },
  {
   "cell_type": "code",
   "execution_count": 54,
   "metadata": {},
   "outputs": [
    {
     "name": "stdout",
     "output_type": "stream",
     "text": [
      "<class 'pandas.core.frame.DataFrame'>\n",
      "Int64Index: 3216 entries, 0 to 3215\n",
      "Data columns (total 16 columns):\n",
      " #   Column                 Non-Null Count  Dtype  \n",
      "---  ------                 --------------  -----  \n",
      " 0   user_id                3216 non-null   int64  \n",
      " 1   age                    3216 non-null   int64  \n",
      " 2   city                   3216 non-null   object \n",
      " 3   tariff                 3216 non-null   object \n",
      " 4   month                  3214 non-null   float64\n",
      " 5   internet_sum           3203 non-null   float64\n",
      " 6   messages_count         2717 non-null   float64\n",
      " 7   calls_count            3174 non-null   float64\n",
      " 8   calls_duration         3174 non-null   float64\n",
      " 9   messages_included      3216 non-null   int64  \n",
      " 10  mb_per_month_included  3216 non-null   int64  \n",
      " 11  minutes_included       3216 non-null   int64  \n",
      " 12  rub_monthly_fee        3216 non-null   int64  \n",
      " 13  rub_per_gb             3216 non-null   int64  \n",
      " 14  rub_per_message        3216 non-null   int64  \n",
      " 15  rub_per_minute         3216 non-null   int64  \n",
      "dtypes: float64(5), int64(9), object(2)\n",
      "memory usage: 427.1+ KB\n"
     ]
    }
   ],
   "source": [
    "# используем метод info()\n",
    "df_all_pivot_and_users_and_tariffs.info()"
   ]
  },
  {
   "cell_type": "markdown",
   "metadata": {},
   "source": [
    "Из-за объединения таблиц появились пропуски в колонках:\n",
    "\n",
    "* `month`\n",
    "* `internet_sum`\n",
    "* `messages_count`\n",
    "* `calls_count`\n",
    "* `calls_duration`"
   ]
  },
  {
   "cell_type": "code",
   "execution_count": 55,
   "metadata": {},
   "outputs": [
    {
     "data": {
      "text/plain": [
       "user_id                    0\n",
       "age                        0\n",
       "city                       0\n",
       "tariff                     0\n",
       "month                      2\n",
       "internet_sum              13\n",
       "messages_count           499\n",
       "calls_count               42\n",
       "calls_duration            42\n",
       "messages_included          0\n",
       "mb_per_month_included      0\n",
       "minutes_included           0\n",
       "rub_monthly_fee            0\n",
       "rub_per_gb                 0\n",
       "rub_per_message            0\n",
       "rub_per_minute             0\n",
       "dtype: int64"
      ]
     },
     "execution_count": 55,
     "metadata": {},
     "output_type": "execute_result"
    }
   ],
   "source": [
    "df_all_pivot_and_users_and_tariffs.isnull().sum()"
   ]
  },
  {
   "cell_type": "code",
   "execution_count": 56,
   "metadata": {},
   "outputs": [
    {
     "data": {
      "text/plain": [
       "user_id                  0.000000\n",
       "age                      0.000000\n",
       "city                     0.000000\n",
       "tariff                   0.000000\n",
       "month                    0.000622\n",
       "internet_sum             0.004042\n",
       "messages_count           0.155162\n",
       "calls_count              0.013060\n",
       "calls_duration           0.013060\n",
       "messages_included        0.000000\n",
       "mb_per_month_included    0.000000\n",
       "minutes_included         0.000000\n",
       "rub_monthly_fee          0.000000\n",
       "rub_per_gb               0.000000\n",
       "rub_per_message          0.000000\n",
       "rub_per_minute           0.000000\n",
       "dtype: float64"
      ]
     },
     "metadata": {},
     "output_type": "display_data"
    }
   ],
   "source": [
    "# посмотрим долю пропущенных значений от общего количества строк в колонках\n",
    "display(df_all_pivot_and_users_and_tariffs.isnull().sum()/len(df_all_pivot_and_users_and_tariffs))"
   ]
  },
  {
   "cell_type": "markdown",
   "metadata": {},
   "source": [
    "Менее `1%` Удалим `2` строчки с пропусками из общей таблицы. Эти данные большой роли не сыграют."
   ]
  },
  {
   "cell_type": "code",
   "execution_count": 57,
   "metadata": {},
   "outputs": [
    {
     "data": {
      "text/html": [
       "<div>\n",
       "<style scoped>\n",
       "    .dataframe tbody tr th:only-of-type {\n",
       "        vertical-align: middle;\n",
       "    }\n",
       "\n",
       "    .dataframe tbody tr th {\n",
       "        vertical-align: top;\n",
       "    }\n",
       "\n",
       "    .dataframe thead th {\n",
       "        text-align: right;\n",
       "    }\n",
       "</style>\n",
       "<table border=\"1\" class=\"dataframe\">\n",
       "  <thead>\n",
       "    <tr style=\"text-align: right;\">\n",
       "      <th></th>\n",
       "      <th>user_id</th>\n",
       "      <th>age</th>\n",
       "      <th>city</th>\n",
       "      <th>tariff</th>\n",
       "      <th>month</th>\n",
       "      <th>internet_sum</th>\n",
       "      <th>messages_count</th>\n",
       "      <th>calls_count</th>\n",
       "      <th>calls_duration</th>\n",
       "      <th>messages_included</th>\n",
       "      <th>mb_per_month_included</th>\n",
       "      <th>minutes_included</th>\n",
       "      <th>rub_monthly_fee</th>\n",
       "      <th>rub_per_gb</th>\n",
       "      <th>rub_per_message</th>\n",
       "      <th>rub_per_minute</th>\n",
       "    </tr>\n",
       "  </thead>\n",
       "  <tbody>\n",
       "    <tr>\n",
       "      <th>243</th>\n",
       "      <td>1128</td>\n",
       "      <td>51</td>\n",
       "      <td>Волжский</td>\n",
       "      <td>ultra</td>\n",
       "      <td>NaN</td>\n",
       "      <td>NaN</td>\n",
       "      <td>NaN</td>\n",
       "      <td>NaN</td>\n",
       "      <td>NaN</td>\n",
       "      <td>1000</td>\n",
       "      <td>30720</td>\n",
       "      <td>3000</td>\n",
       "      <td>1950</td>\n",
       "      <td>150</td>\n",
       "      <td>1</td>\n",
       "      <td>1</td>\n",
       "    </tr>\n",
       "    <tr>\n",
       "      <th>2619</th>\n",
       "      <td>1371</td>\n",
       "      <td>50</td>\n",
       "      <td>Омск</td>\n",
       "      <td>smart</td>\n",
       "      <td>NaN</td>\n",
       "      <td>NaN</td>\n",
       "      <td>NaN</td>\n",
       "      <td>NaN</td>\n",
       "      <td>NaN</td>\n",
       "      <td>50</td>\n",
       "      <td>15360</td>\n",
       "      <td>500</td>\n",
       "      <td>550</td>\n",
       "      <td>200</td>\n",
       "      <td>3</td>\n",
       "      <td>3</td>\n",
       "    </tr>\n",
       "  </tbody>\n",
       "</table>\n",
       "</div>"
      ],
      "text/plain": [
       "      user_id  age      city tariff  month  internet_sum  messages_count  \\\n",
       "243      1128   51  Волжский  ultra    NaN           NaN             NaN   \n",
       "2619     1371   50      Омск  smart    NaN           NaN             NaN   \n",
       "\n",
       "      calls_count  calls_duration  messages_included  mb_per_month_included  \\\n",
       "243           NaN             NaN               1000                  30720   \n",
       "2619          NaN             NaN                 50                  15360   \n",
       "\n",
       "      minutes_included  rub_monthly_fee  rub_per_gb  rub_per_message  \\\n",
       "243               3000             1950         150                1   \n",
       "2619               500              550         200                3   \n",
       "\n",
       "      rub_per_minute  \n",
       "243                1  \n",
       "2619               3  "
      ]
     },
     "execution_count": 57,
     "metadata": {},
     "output_type": "execute_result"
    }
   ],
   "source": [
    "df_all_pivot_and_users_and_tariffs[df_all_pivot_and_users_and_tariffs['month'].isnull()]"
   ]
  },
  {
   "cell_type": "markdown",
   "metadata": {},
   "source": [
    "В таблице `df_users` есть две строчки с `user_id` - `1128` и `1371`. Но когда мы соединяем сводные таблицы и в самом конце таблицу `user_id` он их пропускает, т.к. их не было в сводных ранее."
   ]
  },
  {
   "cell_type": "code",
   "execution_count": 58,
   "metadata": {},
   "outputs": [],
   "source": [
    "# используем метод dropna() для удаления пропусков\n",
    "df_all_pivot_and_users_and_tariffs = df_all_pivot_and_users_and_tariffs.dropna(subset=['month'])"
   ]
  },
  {
   "cell_type": "markdown",
   "metadata": {},
   "source": [
    "Остальные пустые значения заполним нулевыми значениями."
   ]
  },
  {
   "cell_type": "code",
   "execution_count": 59,
   "metadata": {},
   "outputs": [
    {
     "data": {
      "text/plain": [
       "user_id                  0\n",
       "age                      0\n",
       "city                     0\n",
       "tariff                   0\n",
       "month                    0\n",
       "internet_sum             0\n",
       "messages_count           0\n",
       "calls_count              0\n",
       "calls_duration           0\n",
       "messages_included        0\n",
       "mb_per_month_included    0\n",
       "minutes_included         0\n",
       "rub_monthly_fee          0\n",
       "rub_per_gb               0\n",
       "rub_per_message          0\n",
       "rub_per_minute           0\n",
       "dtype: int64"
      ]
     },
     "metadata": {},
     "output_type": "display_data"
    }
   ],
   "source": [
    "# меняем пропущенные значения на значение 0 с помощью метода fillna() и сохраним нашу переработанную таблицу в df\n",
    "df = df_all_pivot_and_users_and_tariffs.fillna(0)\n",
    "\n",
    "# проверим остались ли пропуски с помощью метода isnull() и sum()\n",
    "display(df.isnull().sum())"
   ]
  },
  {
   "cell_type": "markdown",
   "metadata": {},
   "source": [
    "Напишем функцию, которая будет расчитывать выручку"
   ]
  },
  {
   "cell_type": "code",
   "execution_count": 60,
   "metadata": {},
   "outputs": [],
   "source": [
    "def revenue(row): # определяем функцию и назвем её revenue\n",
    "    \n",
    "    revenue_minutes = 0 # переменная счетчик для подсчета минут разговора\n",
    "    revenue_sms = 0 # переменная счетчик для подсчета SMS\n",
    "    revenue_internet = 0 # переменная счетчик для подсчета использованного интернета\n",
    "    \n",
    "    # теперь напишем условие, по которому функция будет собирать выручку\n",
    "    revenue_minutes += np.maximum((row['calls_duration'] - row['minutes_included']) * row['rub_per_minute'], 0) # то количество израсходованных минут отнимается от лимита по тарифу и затем умножается на стоймость минуты сверх тарифа и записывается в переменную счетчик\n",
    "    \n",
    "    revenue_sms += np.maximum((row['messages_count'] - row['messages_included']) * row['rub_per_message'], 0) # то количество израсходованных SMS отнимается от лимита по тарифу и затем умножается на стоймость SMS сверх тарифа и записывается в переменную счетчик\n",
    "   \n",
    "    revenue_internet += np.maximum(((row['internet_sum'] - row['mb_per_month_included']) / 1024 ) * row['rub_per_gb'], 0) # то количество израсходованного интернета отнимается от лимита по тарифу. Затем делим это число на 1024, чтобы округлить цифру до GB. И затем умножаем на стоймость 1-GB интернета сверх тарифа и записывается в переменную счетчик\n",
    "   \n",
    "        \n",
    "    return revenue_minutes + revenue_sms + revenue_internet + row['rub_monthly_fee'] # теперь функция будет складывать все что получилось в счетчиках + оплата по тарифу\n"
   ]
  },
  {
   "cell_type": "code",
   "execution_count": 61,
   "metadata": {},
   "outputs": [],
   "source": [
    "# добавим колонку revenue к нашей таблице и используем на ней функцию revenue для подсчета значений\n",
    "df['revenue'] = df.apply(revenue, axis=1) # чтобы функция применилась к каждой строке используем параметр axis=1\n",
    "df['revenue'] = df['revenue'].astype('int') # меняем тип колонки с float на int"
   ]
  },
  {
   "cell_type": "code",
   "execution_count": 62,
   "metadata": {},
   "outputs": [
    {
     "data": {
      "text/html": [
       "<div>\n",
       "<style scoped>\n",
       "    .dataframe tbody tr th:only-of-type {\n",
       "        vertical-align: middle;\n",
       "    }\n",
       "\n",
       "    .dataframe tbody tr th {\n",
       "        vertical-align: top;\n",
       "    }\n",
       "\n",
       "    .dataframe thead th {\n",
       "        text-align: right;\n",
       "    }\n",
       "</style>\n",
       "<table border=\"1\" class=\"dataframe\">\n",
       "  <thead>\n",
       "    <tr style=\"text-align: right;\">\n",
       "      <th></th>\n",
       "      <th>user_id</th>\n",
       "      <th>age</th>\n",
       "      <th>city</th>\n",
       "      <th>tariff</th>\n",
       "      <th>month</th>\n",
       "      <th>internet_sum</th>\n",
       "      <th>messages_count</th>\n",
       "      <th>calls_count</th>\n",
       "      <th>calls_duration</th>\n",
       "      <th>messages_included</th>\n",
       "      <th>mb_per_month_included</th>\n",
       "      <th>minutes_included</th>\n",
       "      <th>rub_monthly_fee</th>\n",
       "      <th>rub_per_gb</th>\n",
       "      <th>rub_per_message</th>\n",
       "      <th>rub_per_minute</th>\n",
       "      <th>revenue</th>\n",
       "    </tr>\n",
       "  </thead>\n",
       "  <tbody>\n",
       "    <tr>\n",
       "      <th>1211</th>\n",
       "      <td>1046</td>\n",
       "      <td>72</td>\n",
       "      <td>Тула</td>\n",
       "      <td>smart</td>\n",
       "      <td>8.0</td>\n",
       "      <td>7636.98</td>\n",
       "      <td>13.0</td>\n",
       "      <td>25.0</td>\n",
       "      <td>228.0</td>\n",
       "      <td>50</td>\n",
       "      <td>15360</td>\n",
       "      <td>500</td>\n",
       "      <td>550</td>\n",
       "      <td>200</td>\n",
       "      <td>3</td>\n",
       "      <td>3</td>\n",
       "      <td>550</td>\n",
       "    </tr>\n",
       "    <tr>\n",
       "      <th>87</th>\n",
       "      <td>1057</td>\n",
       "      <td>43</td>\n",
       "      <td>Москва</td>\n",
       "      <td>ultra</td>\n",
       "      <td>4.0</td>\n",
       "      <td>21165.03</td>\n",
       "      <td>21.0</td>\n",
       "      <td>105.0</td>\n",
       "      <td>858.0</td>\n",
       "      <td>1000</td>\n",
       "      <td>30720</td>\n",
       "      <td>3000</td>\n",
       "      <td>1950</td>\n",
       "      <td>150</td>\n",
       "      <td>1</td>\n",
       "      <td>1</td>\n",
       "      <td>1950</td>\n",
       "    </tr>\n",
       "    <tr>\n",
       "      <th>927</th>\n",
       "      <td>1466</td>\n",
       "      <td>37</td>\n",
       "      <td>Новосибирск</td>\n",
       "      <td>ultra</td>\n",
       "      <td>6.0</td>\n",
       "      <td>16321.45</td>\n",
       "      <td>0.0</td>\n",
       "      <td>89.0</td>\n",
       "      <td>610.0</td>\n",
       "      <td>1000</td>\n",
       "      <td>30720</td>\n",
       "      <td>3000</td>\n",
       "      <td>1950</td>\n",
       "      <td>150</td>\n",
       "      <td>1</td>\n",
       "      <td>1</td>\n",
       "      <td>1950</td>\n",
       "    </tr>\n",
       "    <tr>\n",
       "      <th>1825</th>\n",
       "      <td>1178</td>\n",
       "      <td>56</td>\n",
       "      <td>Москва</td>\n",
       "      <td>smart</td>\n",
       "      <td>12.0</td>\n",
       "      <td>15192.36</td>\n",
       "      <td>18.0</td>\n",
       "      <td>76.0</td>\n",
       "      <td>611.0</td>\n",
       "      <td>50</td>\n",
       "      <td>15360</td>\n",
       "      <td>500</td>\n",
       "      <td>550</td>\n",
       "      <td>200</td>\n",
       "      <td>3</td>\n",
       "      <td>3</td>\n",
       "      <td>883</td>\n",
       "    </tr>\n",
       "    <tr>\n",
       "      <th>2790</th>\n",
       "      <td>1409</td>\n",
       "      <td>42</td>\n",
       "      <td>Набережные Челны</td>\n",
       "      <td>smart</td>\n",
       "      <td>9.0</td>\n",
       "      <td>18341.51</td>\n",
       "      <td>34.0</td>\n",
       "      <td>102.0</td>\n",
       "      <td>733.0</td>\n",
       "      <td>50</td>\n",
       "      <td>15360</td>\n",
       "      <td>500</td>\n",
       "      <td>550</td>\n",
       "      <td>200</td>\n",
       "      <td>3</td>\n",
       "      <td>3</td>\n",
       "      <td>1831</td>\n",
       "    </tr>\n",
       "  </tbody>\n",
       "</table>\n",
       "</div>"
      ],
      "text/plain": [
       "      user_id  age              city tariff  month  internet_sum  \\\n",
       "1211     1046   72              Тула  smart    8.0       7636.98   \n",
       "87       1057   43            Москва  ultra    4.0      21165.03   \n",
       "927      1466   37       Новосибирск  ultra    6.0      16321.45   \n",
       "1825     1178   56            Москва  smart   12.0      15192.36   \n",
       "2790     1409   42  Набережные Челны  smart    9.0      18341.51   \n",
       "\n",
       "      messages_count  calls_count  calls_duration  messages_included  \\\n",
       "1211            13.0         25.0           228.0                 50   \n",
       "87              21.0        105.0           858.0               1000   \n",
       "927              0.0         89.0           610.0               1000   \n",
       "1825            18.0         76.0           611.0                 50   \n",
       "2790            34.0        102.0           733.0                 50   \n",
       "\n",
       "      mb_per_month_included  minutes_included  rub_monthly_fee  rub_per_gb  \\\n",
       "1211                  15360               500              550         200   \n",
       "87                    30720              3000             1950         150   \n",
       "927                   30720              3000             1950         150   \n",
       "1825                  15360               500              550         200   \n",
       "2790                  15360               500              550         200   \n",
       "\n",
       "      rub_per_message  rub_per_minute  revenue  \n",
       "1211                3               3      550  \n",
       "87                  1               1     1950  \n",
       "927                 1               1     1950  \n",
       "1825                3               3      883  \n",
       "2790                3               3     1831  "
      ]
     },
     "metadata": {},
     "output_type": "display_data"
    }
   ],
   "source": [
    "# посмотрим случайные 5 записей таблицы df\n",
    "display(df.sample(5))"
   ]
  },
  {
   "cell_type": "markdown",
   "metadata": {},
   "source": [
    "### Вывод по подсчетам"
   ]
  },
  {
   "cell_type": "markdown",
   "metadata": {},
   "source": [
    "Подсчитали для каждого пользователя:\n",
    "- количество сделанных звонков и израсходованных минут разговора по месяцам. Записали это все в колонки `calls_count` и `calls_duration`;\n",
    "- количество отправленных сообщений по месяцам и записали в колонку `messages_count`;\n",
    "- объем израсходованного интернет-трафика по месяцам и записали в колонку `internet_sum`;\n",
    "- выручку с каждого пользователя.\n",
    "\n",
    "Посчитали для каждого пользователя помесячную выручку с каждого пользователя. Для этого:\n",
    "- объединили все наши таблицы в одну;\n",
    "- убрали лишние колонки, которые не пригодятся в подсчетах;\n",
    "- написали функцию `revenue`, которая считает выручку от каждого пользователя помесячно."
   ]
  },
  {
   "cell_type": "markdown",
   "metadata": {},
   "source": [
    "## Проанализируем данные"
   ]
  },
  {
   "cell_type": "markdown",
   "metadata": {},
   "source": [
    "Посмотрим поведение клиентов исходя из выборки. Изучим сколько сообщений и какой объем интернет-трафика требуется пользователям каждого тарифа в месяц."
   ]
  },
  {
   "cell_type": "code",
   "execution_count": 63,
   "metadata": {},
   "outputs": [
    {
     "data": {
      "text/html": [
       "<div>\n",
       "<style scoped>\n",
       "    .dataframe tbody tr th:only-of-type {\n",
       "        vertical-align: middle;\n",
       "    }\n",
       "\n",
       "    .dataframe tbody tr th {\n",
       "        vertical-align: top;\n",
       "    }\n",
       "\n",
       "    .dataframe thead th {\n",
       "        text-align: right;\n",
       "    }\n",
       "</style>\n",
       "<table border=\"1\" class=\"dataframe\">\n",
       "  <thead>\n",
       "    <tr style=\"text-align: right;\">\n",
       "      <th></th>\n",
       "      <th>month</th>\n",
       "      <th>calls_count</th>\n",
       "      <th>calls_duration</th>\n",
       "      <th>internet_sum</th>\n",
       "      <th>messages_count</th>\n",
       "      <th>revenue</th>\n",
       "    </tr>\n",
       "    <tr>\n",
       "      <th>tariff</th>\n",
       "      <th></th>\n",
       "      <th></th>\n",
       "      <th></th>\n",
       "      <th></th>\n",
       "      <th></th>\n",
       "      <th></th>\n",
       "    </tr>\n",
       "  </thead>\n",
       "  <tbody>\n",
       "    <tr>\n",
       "      <th>smart</th>\n",
       "      <td>1</td>\n",
       "      <td>941</td>\n",
       "      <td>6931</td>\n",
       "      <td>289466</td>\n",
       "      <td>620</td>\n",
       "      <td>23853</td>\n",
       "    </tr>\n",
       "    <tr>\n",
       "      <th>smart</th>\n",
       "      <td>2</td>\n",
       "      <td>2331</td>\n",
       "      <td>17324</td>\n",
       "      <td>672629</td>\n",
       "      <td>1397</td>\n",
       "      <td>46583</td>\n",
       "    </tr>\n",
       "    <tr>\n",
       "      <th>smart</th>\n",
       "      <td>3</td>\n",
       "      <td>4183</td>\n",
       "      <td>30034</td>\n",
       "      <td>1163020</td>\n",
       "      <td>2453</td>\n",
       "      <td>85902</td>\n",
       "    </tr>\n",
       "    <tr>\n",
       "      <th>smart</th>\n",
       "      <td>4</td>\n",
       "      <td>5747</td>\n",
       "      <td>41119</td>\n",
       "      <td>1507764</td>\n",
       "      <td>3443</td>\n",
       "      <td>103072</td>\n",
       "    </tr>\n",
       "    <tr>\n",
       "      <th>smart</th>\n",
       "      <td>5</td>\n",
       "      <td>7789</td>\n",
       "      <td>54618</td>\n",
       "      <td>2228530</td>\n",
       "      <td>4762</td>\n",
       "      <td>161310</td>\n",
       "    </tr>\n",
       "    <tr>\n",
       "      <th>smart</th>\n",
       "      <td>6</td>\n",
       "      <td>9110</td>\n",
       "      <td>64885</td>\n",
       "      <td>2590322</td>\n",
       "      <td>5478</td>\n",
       "      <td>188043</td>\n",
       "    </tr>\n",
       "    <tr>\n",
       "      <th>smart</th>\n",
       "      <td>7</td>\n",
       "      <td>11402</td>\n",
       "      <td>82079</td>\n",
       "      <td>3164373</td>\n",
       "      <td>6784</td>\n",
       "      <td>234164</td>\n",
       "    </tr>\n",
       "    <tr>\n",
       "      <th>smart</th>\n",
       "      <td>8</td>\n",
       "      <td>13860</td>\n",
       "      <td>99045</td>\n",
       "      <td>3903519</td>\n",
       "      <td>7905</td>\n",
       "      <td>294941</td>\n",
       "    </tr>\n",
       "    <tr>\n",
       "      <th>smart</th>\n",
       "      <td>9</td>\n",
       "      <td>15482</td>\n",
       "      <td>111439</td>\n",
       "      <td>4238930</td>\n",
       "      <td>8746</td>\n",
       "      <td>310958</td>\n",
       "    </tr>\n",
       "    <tr>\n",
       "      <th>smart</th>\n",
       "      <td>10</td>\n",
       "      <td>17629</td>\n",
       "      <td>125284</td>\n",
       "      <td>4926594</td>\n",
       "      <td>9927</td>\n",
       "      <td>382630</td>\n",
       "    </tr>\n",
       "    <tr>\n",
       "      <th>smart</th>\n",
       "      <td>11</td>\n",
       "      <td>19435</td>\n",
       "      <td>137544</td>\n",
       "      <td>5339040</td>\n",
       "      <td>10768</td>\n",
       "      <td>404428</td>\n",
       "    </tr>\n",
       "    <tr>\n",
       "      <th>smart</th>\n",
       "      <td>12</td>\n",
       "      <td>22406</td>\n",
       "      <td>161275</td>\n",
       "      <td>6104304</td>\n",
       "      <td>12130</td>\n",
       "      <td>506134</td>\n",
       "    </tr>\n",
       "    <tr>\n",
       "      <th>ultra</th>\n",
       "      <td>1</td>\n",
       "      <td>535</td>\n",
       "      <td>3853</td>\n",
       "      <td>118266</td>\n",
       "      <td>304</td>\n",
       "      <td>17550</td>\n",
       "    </tr>\n",
       "    <tr>\n",
       "      <th>ultra</th>\n",
       "      <td>2</td>\n",
       "      <td>997</td>\n",
       "      <td>7131</td>\n",
       "      <td>282622</td>\n",
       "      <td>527</td>\n",
       "      <td>47343</td>\n",
       "    </tr>\n",
       "    <tr>\n",
       "      <th>ultra</th>\n",
       "      <td>3</td>\n",
       "      <td>2504</td>\n",
       "      <td>18117</td>\n",
       "      <td>648815</td>\n",
       "      <td>1195</td>\n",
       "      <td>74129</td>\n",
       "    </tr>\n",
       "    <tr>\n",
       "      <th>ultra</th>\n",
       "      <td>4</td>\n",
       "      <td>3525</td>\n",
       "      <td>25191</td>\n",
       "      <td>925547</td>\n",
       "      <td>1736</td>\n",
       "      <td>109724</td>\n",
       "    </tr>\n",
       "    <tr>\n",
       "      <th>ultra</th>\n",
       "      <td>5</td>\n",
       "      <td>4858</td>\n",
       "      <td>34192</td>\n",
       "      <td>1297331</td>\n",
       "      <td>2536</td>\n",
       "      <td>137647</td>\n",
       "    </tr>\n",
       "    <tr>\n",
       "      <th>ultra</th>\n",
       "      <td>6</td>\n",
       "      <td>5606</td>\n",
       "      <td>40295</td>\n",
       "      <td>1589694</td>\n",
       "      <td>3505</td>\n",
       "      <td>170646</td>\n",
       "    </tr>\n",
       "    <tr>\n",
       "      <th>ultra</th>\n",
       "      <td>7</td>\n",
       "      <td>6896</td>\n",
       "      <td>49667</td>\n",
       "      <td>1865105</td>\n",
       "      <td>4536</td>\n",
       "      <td>191799</td>\n",
       "    </tr>\n",
       "    <tr>\n",
       "      <th>ultra</th>\n",
       "      <td>8</td>\n",
       "      <td>7628</td>\n",
       "      <td>54653</td>\n",
       "      <td>2094637</td>\n",
       "      <td>5183</td>\n",
       "      <td>221520</td>\n",
       "    </tr>\n",
       "    <tr>\n",
       "      <th>ultra</th>\n",
       "      <td>9</td>\n",
       "      <td>8579</td>\n",
       "      <td>62036</td>\n",
       "      <td>2208491</td>\n",
       "      <td>6013</td>\n",
       "      <td>231507</td>\n",
       "    </tr>\n",
       "    <tr>\n",
       "      <th>ultra</th>\n",
       "      <td>10</td>\n",
       "      <td>9517</td>\n",
       "      <td>68644</td>\n",
       "      <td>2465576</td>\n",
       "      <td>7187</td>\n",
       "      <td>252914</td>\n",
       "    </tr>\n",
       "    <tr>\n",
       "      <th>ultra</th>\n",
       "      <td>11</td>\n",
       "      <td>10066</td>\n",
       "      <td>72545</td>\n",
       "      <td>2651432</td>\n",
       "      <td>7476</td>\n",
       "      <td>278710</td>\n",
       "    </tr>\n",
       "    <tr>\n",
       "      <th>ultra</th>\n",
       "      <td>12</td>\n",
       "      <td>11581</td>\n",
       "      <td>82400</td>\n",
       "      <td>3029250</td>\n",
       "      <td>8425</td>\n",
       "      <td>295414</td>\n",
       "    </tr>\n",
       "  </tbody>\n",
       "</table>\n",
       "</div>"
      ],
      "text/plain": [
       "        month  calls_count  calls_duration  internet_sum  messages_count  \\\n",
       "tariff                                                                     \n",
       "smart       1          941            6931        289466             620   \n",
       "smart       2         2331           17324        672629            1397   \n",
       "smart       3         4183           30034       1163020            2453   \n",
       "smart       4         5747           41119       1507764            3443   \n",
       "smart       5         7789           54618       2228530            4762   \n",
       "smart       6         9110           64885       2590322            5478   \n",
       "smart       7        11402           82079       3164373            6784   \n",
       "smart       8        13860           99045       3903519            7905   \n",
       "smart       9        15482          111439       4238930            8746   \n",
       "smart      10        17629          125284       4926594            9927   \n",
       "smart      11        19435          137544       5339040           10768   \n",
       "smart      12        22406          161275       6104304           12130   \n",
       "ultra       1          535            3853        118266             304   \n",
       "ultra       2          997            7131        282622             527   \n",
       "ultra       3         2504           18117        648815            1195   \n",
       "ultra       4         3525           25191        925547            1736   \n",
       "ultra       5         4858           34192       1297331            2536   \n",
       "ultra       6         5606           40295       1589694            3505   \n",
       "ultra       7         6896           49667       1865105            4536   \n",
       "ultra       8         7628           54653       2094637            5183   \n",
       "ultra       9         8579           62036       2208491            6013   \n",
       "ultra      10         9517           68644       2465576            7187   \n",
       "ultra      11        10066           72545       2651432            7476   \n",
       "ultra      12        11581           82400       3029250            8425   \n",
       "\n",
       "        revenue  \n",
       "tariff           \n",
       "smart     23853  \n",
       "smart     46583  \n",
       "smart     85902  \n",
       "smart    103072  \n",
       "smart    161310  \n",
       "smart    188043  \n",
       "smart    234164  \n",
       "smart    294941  \n",
       "smart    310958  \n",
       "smart    382630  \n",
       "smart    404428  \n",
       "smart    506134  \n",
       "ultra     17550  \n",
       "ultra     47343  \n",
       "ultra     74129  \n",
       "ultra    109724  \n",
       "ultra    137647  \n",
       "ultra    170646  \n",
       "ultra    191799  \n",
       "ultra    221520  \n",
       "ultra    231507  \n",
       "ultra    252914  \n",
       "ultra    278710  \n",
       "ultra    295414  "
      ]
     },
     "metadata": {},
     "output_type": "display_data"
    }
   ],
   "source": [
    "# сделаем сводную таблицу df_per_month на основе данных старой df\n",
    "# групируем все по тарифа и месяцам и сумируем значения колонок calls_count, calls_duration, messages_count, internet_sum, revenue.\n",
    "df_per_month = (df.pivot_table(index=['tariff', 'month'], values=['calls_count', 'calls_duration', 'messages_count', 'internet_sum', 'revenue'],\n",
    "                             aggfunc=sum))\n",
    "# сбрасываем индексы с помощью метода reset_index()\n",
    "df_per_month = df_per_month.reset_index(level='month')\n",
    "\n",
    "# поменяем тип данных в колонках c float на int\n",
    "df_per_month[['month', 'calls_count', 'calls_duration', 'internet_sum', 'messages_count']] = df_per_month[['month', 'calls_count', 'calls_duration', 'internet_sum', 'messages_count']].astype('int')\n",
    "\n",
    "# посмотрим получившуюся таблицу\n",
    "display(df_per_month)"
   ]
  },
  {
   "cell_type": "markdown",
   "metadata": {},
   "source": [
    "Посмотрим объем выборок по тарифам"
   ]
  },
  {
   "cell_type": "code",
   "execution_count": 64,
   "metadata": {},
   "outputs": [],
   "source": [
    "# используем булевую маску посмотрим количество значений по тарифу smart в таблице df\n",
    "df_count_smart = df[df['tariff']=='smart']['tariff'].count()"
   ]
  },
  {
   "cell_type": "code",
   "execution_count": 65,
   "metadata": {},
   "outputs": [],
   "source": [
    "# используем булевую маску посмотрим количество значений по тарифу ultra в таблице df\n",
    "df_count_ultra = df[df['tariff']=='ultra']['tariff'].count()"
   ]
  },
  {
   "cell_type": "code",
   "execution_count": 66,
   "metadata": {},
   "outputs": [
    {
     "data": {
      "text/plain": [
       "'Количество пользователей тарифа smart составляет: 2229'"
      ]
     },
     "metadata": {},
     "output_type": "display_data"
    },
    {
     "data": {
      "text/plain": [
       "'Количество пользователей тарифа smart составляет: 985'"
      ]
     },
     "metadata": {},
     "output_type": "display_data"
    }
   ],
   "source": [
    "display(f'Количество пользователей тарифа smart составляет: {df_count_smart}')\n",
    "display(f'Количество пользователей тарифа smart составляет: {df_count_ultra}')"
   ]
  },
  {
   "cell_type": "markdown",
   "metadata": {},
   "source": [
    "Объем выборок разный"
   ]
  },
  {
   "cell_type": "code",
   "execution_count": 67,
   "metadata": {},
   "outputs": [
    {
     "data": {
      "text/plain": [
       "<seaborn.axisgrid.FacetGrid at 0x7fb6646d5d30>"
      ]
     },
     "execution_count": 67,
     "metadata": {},
     "output_type": "execute_result"
    },
    {
     "data": {
      "image/png": "[encoded data removed]",
      "text/plain": [
       "<Figure size 425x360 with 1 Axes>"
      ]
     },
     "metadata": {
      "needs_background": "light"
     },
     "output_type": "display_data"
    }
   ],
   "source": [
    "# используем график из библиотеки seaborn, который называется line\n",
    "# посмотрим количество звонков помесячно по каждому тарифу\n",
    "sns.relplot(data=df_per_month, x='month', y='calls_count', kind='line', hue='tariff')"
   ]
  },
  {
   "cell_type": "code",
   "execution_count": 68,
   "metadata": {},
   "outputs": [
    {
     "data": {
      "text/plain": [
       "<seaborn.axisgrid.FacetGrid at 0x7fb666d15a60>"
      ]
     },
     "execution_count": 68,
     "metadata": {},
     "output_type": "execute_result"
    },
    {
     "data": {
      "image/png": "[encoded data removed]",
      "text/plain": [
       "<Figure size 425x360 with 1 Axes>"
      ]
     },
     "metadata": {
      "needs_background": "light"
     },
     "output_type": "display_data"
    }
   ],
   "source": [
    "# используем график из библиотеки seaborn, который называется line\n",
    "# посмотрим продолжительность звонков помесячно по каждому тарифу\n",
    "sns.relplot(data=df_per_month, x='month', y='calls_duration', kind='line', hue='tariff')"
   ]
  },
  {
   "cell_type": "code",
   "execution_count": 69,
   "metadata": {},
   "outputs": [
    {
     "data": {
      "text/plain": [
       "<seaborn.axisgrid.FacetGrid at 0x7fb666ceb9d0>"
      ]
     },
     "execution_count": 69,
     "metadata": {},
     "output_type": "execute_result"
    },
    {
     "data": {
      "image/png": "[encoded data removed]",
      "text/plain": [
       "<Figure size 425x360 with 1 Axes>"
      ]
     },
     "metadata": {
      "needs_background": "light"
     },
     "output_type": "display_data"
    }
   ],
   "source": [
    "# используем график из библиотеки seaborn, который называется line\n",
    "# посмотрим сколько израсходованно интернет трафика помесячно по каждому тарифу\n",
    "sns.relplot(data=df_per_month, x='month', y='internet_sum', kind='line', hue='tariff')"
   ]
  },
  {
   "cell_type": "code",
   "execution_count": 70,
   "metadata": {},
   "outputs": [
    {
     "data": {
      "text/plain": [
       "<seaborn.axisgrid.FacetGrid at 0x7fb666b1b190>"
      ]
     },
     "execution_count": 70,
     "metadata": {},
     "output_type": "execute_result"
    },
    {
     "data": {
      "image/png": "[encoded data removed]",
      "text/plain": [
       "<Figure size 425x360 with 1 Axes>"
      ]
     },
     "metadata": {
      "needs_background": "light"
     },
     "output_type": "display_data"
    }
   ],
   "source": [
    "# используем график из библиотеки seaborn, который называется line\n",
    "# посмотрим сколько израсходованно SMS помесячно по каждому тарифу\n",
    "sns.relplot(data=df_per_month, x='month', y='messages_count', kind='line', hue='tariff')"
   ]
  },
  {
   "cell_type": "code",
   "execution_count": 71,
   "metadata": {
    "scrolled": false
   },
   "outputs": [
    {
     "data": {
      "text/plain": [
       "<seaborn.axisgrid.FacetGrid at 0x7fb666a68c10>"
      ]
     },
     "execution_count": 71,
     "metadata": {},
     "output_type": "execute_result"
    },
    {
     "data": {
      "image/png": "[encoded data removed]",
      "text/plain": [
       "<Figure size 425x360 with 1 Axes>"
      ]
     },
     "metadata": {
      "needs_background": "light"
     },
     "output_type": "display_data"
    }
   ],
   "source": [
    "# используем график из библиотеки seaborn, который называется line\n",
    "# посмотрим сколько выручки приносит помесячно каждый тариф\n",
    "sns.relplot(data=df_per_month, x='month', y='revenue', kind='line', hue='tariff')"
   ]
  },
  {
   "cell_type": "markdown",
   "metadata": {},
   "source": [
    "### Вывод по данным за 12 месяцев\n",
    "Из графиков видно, что все показатели растут линейно от января к декабрю, в обоих тарифах.\n",
    "Виден рост пользовательской базы из месяца в месяц. Кто-то подключается в январе, а кто-то в мае и т.д. \n",
    "\n",
    "Общее количество пользователей пользователей за весь год:\n",
    "- в тарифе `smart` - `2228`;\n",
    "- в тарифе `ultra` - `975`.\n",
    "\n",
    "Но из месяца в месяц оно может менятся. Кто-то может пользоватся одним тарифом месяц и прейти на другой в следующем."
   ]
  },
  {
   "cell_type": "markdown",
   "metadata": {},
   "source": [
    "Посчитаем среднее количество, дисперсию и стандартное отклонение."
   ]
  },
  {
   "cell_type": "code",
   "execution_count": 72,
   "metadata": {},
   "outputs": [
    {
     "data": {
      "text/html": [
       "<div>\n",
       "<style scoped>\n",
       "    .dataframe tbody tr th:only-of-type {\n",
       "        vertical-align: middle;\n",
       "    }\n",
       "\n",
       "    .dataframe tbody tr th {\n",
       "        vertical-align: top;\n",
       "    }\n",
       "\n",
       "    .dataframe thead th {\n",
       "        text-align: right;\n",
       "    }\n",
       "</style>\n",
       "<table border=\"1\" class=\"dataframe\">\n",
       "  <thead>\n",
       "    <tr style=\"text-align: right;\">\n",
       "      <th></th>\n",
       "      <th>calls_duration_mean</th>\n",
       "      <th>messages_count_mean</th>\n",
       "      <th>internet_sum_mean</th>\n",
       "      <th>revenue_mean</th>\n",
       "    </tr>\n",
       "    <tr>\n",
       "      <th>tariff</th>\n",
       "      <th></th>\n",
       "      <th></th>\n",
       "      <th></th>\n",
       "      <th></th>\n",
       "    </tr>\n",
       "  </thead>\n",
       "  <tbody>\n",
       "    <tr>\n",
       "      <th>smart</th>\n",
       "      <td>417</td>\n",
       "      <td>16208</td>\n",
       "      <td>33</td>\n",
       "      <td>1230</td>\n",
       "    </tr>\n",
       "    <tr>\n",
       "      <th>ultra</th>\n",
       "      <td>526</td>\n",
       "      <td>19468</td>\n",
       "      <td>49</td>\n",
       "      <td>2059</td>\n",
       "    </tr>\n",
       "  </tbody>\n",
       "</table>\n",
       "</div>"
      ],
      "text/plain": [
       "        calls_duration_mean  messages_count_mean  internet_sum_mean  \\\n",
       "tariff                                                                \n",
       "smart                   417                16208                 33   \n",
       "ultra                   526                19468                 49   \n",
       "\n",
       "        revenue_mean  \n",
       "tariff                \n",
       "smart           1230  \n",
       "ultra           2059  "
      ]
     },
     "metadata": {},
     "output_type": "display_data"
    },
    {
     "data": {
      "text/html": [
       "<div>\n",
       "<style scoped>\n",
       "    .dataframe tbody tr th:only-of-type {\n",
       "        vertical-align: middle;\n",
       "    }\n",
       "\n",
       "    .dataframe tbody tr th {\n",
       "        vertical-align: top;\n",
       "    }\n",
       "\n",
       "    .dataframe thead th {\n",
       "        text-align: right;\n",
       "    }\n",
       "</style>\n",
       "<table border=\"1\" class=\"dataframe\">\n",
       "  <thead>\n",
       "    <tr style=\"text-align: right;\">\n",
       "      <th></th>\n",
       "      <th>calls_duration_var</th>\n",
       "      <th>messages_count_var</th>\n",
       "      <th>internet_sum_var</th>\n",
       "      <th>revenue_var</th>\n",
       "    </tr>\n",
       "    <tr>\n",
       "      <th>tariff</th>\n",
       "      <th></th>\n",
       "      <th></th>\n",
       "      <th></th>\n",
       "      <th></th>\n",
       "    </tr>\n",
       "  </thead>\n",
       "  <tbody>\n",
       "    <tr>\n",
       "      <th>smart</th>\n",
       "      <td>36219</td>\n",
       "      <td>34462496</td>\n",
       "      <td>796</td>\n",
       "      <td>617119</td>\n",
       "    </tr>\n",
       "    <tr>\n",
       "      <th>ultra</th>\n",
       "      <td>100873</td>\n",
       "      <td>101751013</td>\n",
       "      <td>2285</td>\n",
       "      <td>125843</td>\n",
       "    </tr>\n",
       "  </tbody>\n",
       "</table>\n",
       "</div>"
      ],
      "text/plain": [
       "        calls_duration_var  messages_count_var  internet_sum_var  revenue_var\n",
       "tariff                                                                       \n",
       "smart                36219            34462496               796       617119\n",
       "ultra               100873           101751013              2285       125843"
      ]
     },
     "metadata": {},
     "output_type": "display_data"
    },
    {
     "data": {
      "text/html": [
       "<div>\n",
       "<style scoped>\n",
       "    .dataframe tbody tr th:only-of-type {\n",
       "        vertical-align: middle;\n",
       "    }\n",
       "\n",
       "    .dataframe tbody tr th {\n",
       "        vertical-align: top;\n",
       "    }\n",
       "\n",
       "    .dataframe thead th {\n",
       "        text-align: right;\n",
       "    }\n",
       "</style>\n",
       "<table border=\"1\" class=\"dataframe\">\n",
       "  <thead>\n",
       "    <tr style=\"text-align: right;\">\n",
       "      <th></th>\n",
       "      <th>calls_duration_std</th>\n",
       "      <th>messages_count_std</th>\n",
       "      <th>internet_sum_std</th>\n",
       "      <th>revenue_std</th>\n",
       "    </tr>\n",
       "    <tr>\n",
       "      <th>tariff</th>\n",
       "      <th></th>\n",
       "      <th></th>\n",
       "      <th></th>\n",
       "      <th></th>\n",
       "    </tr>\n",
       "  </thead>\n",
       "  <tbody>\n",
       "    <tr>\n",
       "      <th>smart</th>\n",
       "      <td>190</td>\n",
       "      <td>5870</td>\n",
       "      <td>28</td>\n",
       "      <td>785</td>\n",
       "    </tr>\n",
       "    <tr>\n",
       "      <th>ultra</th>\n",
       "      <td>317</td>\n",
       "      <td>10087</td>\n",
       "      <td>47</td>\n",
       "      <td>354</td>\n",
       "    </tr>\n",
       "  </tbody>\n",
       "</table>\n",
       "</div>"
      ],
      "text/plain": [
       "        calls_duration_std  messages_count_std  internet_sum_std  revenue_std\n",
       "tariff                                                                       \n",
       "smart                  190                5870                28          785\n",
       "ultra                  317               10087                47          354"
      ]
     },
     "metadata": {},
     "output_type": "display_data"
    }
   ],
   "source": [
    "    \n",
    "methods = ['mean', np.var, np.std] # методы (среднее, дисперсия и стандартное отклонение), которые будем применять к значениям\n",
    "tables = ['total_month_sum_mean', 'total_month_sum_var', 'total_month_sum_std'] # названия колонок в сводных таблицах\n",
    "suffix = ['_mean', '_var', '_std'] # суффикс, который добавим к именам колонок\n",
    "list_of_columns = ['calls_duration', 'messages_count', 'internet_sum', 'revenue'] # колнки из которых берем значения\n",
    "\n",
    "for i in range(0, 3):\n",
    "    tables[i] = df.pivot_table(index=['tariff'], values=list_of_columns, aggfunc=methods[i]) # цикл ищет в нашей общей таблице df по тарифу колонки calls_duration, messages_count, internet_sum, revenue и считает по ним данные тремя методами: среднее, дисперсию и страдартное отклонение\n",
    "    tables[i].columns = ['calls_duration'+suffix[i], 'messages_count'+suffix[i], 'internet_sum'+suffix[i], 'revenue'+suffix[i]] # и добовляет соответствующий суфикс к этим колонкам (mean, var или std) \n",
    "    display(tables[i].astype('int')) # выводим цикл на экран и меняем тип значения с помощью метода astype()"
   ]
  },
  {
   "cell_type": "markdown",
   "metadata": {},
   "source": [
    "### Вывод по среднему, дисперсии и стандартному отклонению\n",
    "В среднем пользователи тарифа `ultra` больше:\n",
    "\n",
    "- звонят по телефону\n",
    "- отправляют SMS сообщения\n",
    "- пользуются интернетом\n",
    "- приносят выручки\n",
    "\n",
    "чем пользователи тарифа `smart`.\n",
    "\n",
    "Показатели дисперси тоже выше у тарфа `ultra`, кроме одного - выручки. Скорее всего это из-за объема выборки.\n",
    "\n",
    "По показателю стандартного отклонения все выше у тарфа `ultra`, кроме одного - выручки. "
   ]
  },
  {
   "cell_type": "markdown",
   "metadata": {},
   "source": [
    "Сделаем сводную по тарифу и пользователям. Построим гистограммы и опишем распределения для каждого тарифа."
   ]
  },
  {
   "cell_type": "code",
   "execution_count": 73,
   "metadata": {},
   "outputs": [
    {
     "data": {
      "text/html": [
       "<div>\n",
       "<style scoped>\n",
       "    .dataframe tbody tr th:only-of-type {\n",
       "        vertical-align: middle;\n",
       "    }\n",
       "\n",
       "    .dataframe tbody tr th {\n",
       "        vertical-align: top;\n",
       "    }\n",
       "\n",
       "    .dataframe thead th {\n",
       "        text-align: right;\n",
       "    }\n",
       "</style>\n",
       "<table border=\"1\" class=\"dataframe\">\n",
       "  <thead>\n",
       "    <tr style=\"text-align: right;\">\n",
       "      <th></th>\n",
       "      <th>tariff</th>\n",
       "      <th>user_id</th>\n",
       "      <th>month</th>\n",
       "      <th>calls_count</th>\n",
       "      <th>calls_duration</th>\n",
       "      <th>internet_sum</th>\n",
       "      <th>messages_count</th>\n",
       "      <th>revenue</th>\n",
       "    </tr>\n",
       "  </thead>\n",
       "  <tbody>\n",
       "    <tr>\n",
       "      <th>0</th>\n",
       "      <td>smart</td>\n",
       "      <td>1001</td>\n",
       "      <td>11.0</td>\n",
       "      <td>59.0</td>\n",
       "      <td>430.0</td>\n",
       "      <td>18429.0</td>\n",
       "      <td>0.0</td>\n",
       "      <td>1149</td>\n",
       "    </tr>\n",
       "    <tr>\n",
       "      <th>1</th>\n",
       "      <td>smart</td>\n",
       "      <td>1001</td>\n",
       "      <td>12.0</td>\n",
       "      <td>63.0</td>\n",
       "      <td>414.0</td>\n",
       "      <td>14037.0</td>\n",
       "      <td>0.0</td>\n",
       "      <td>550</td>\n",
       "    </tr>\n",
       "    <tr>\n",
       "      <th>2</th>\n",
       "      <td>smart</td>\n",
       "      <td>1002</td>\n",
       "      <td>6.0</td>\n",
       "      <td>15.0</td>\n",
       "      <td>117.0</td>\n",
       "      <td>10857.0</td>\n",
       "      <td>4.0</td>\n",
       "      <td>550</td>\n",
       "    </tr>\n",
       "    <tr>\n",
       "      <th>3</th>\n",
       "      <td>smart</td>\n",
       "      <td>1002</td>\n",
       "      <td>7.0</td>\n",
       "      <td>26.0</td>\n",
       "      <td>214.0</td>\n",
       "      <td>17580.0</td>\n",
       "      <td>11.0</td>\n",
       "      <td>983</td>\n",
       "    </tr>\n",
       "    <tr>\n",
       "      <th>4</th>\n",
       "      <td>smart</td>\n",
       "      <td>1002</td>\n",
       "      <td>8.0</td>\n",
       "      <td>42.0</td>\n",
       "      <td>289.0</td>\n",
       "      <td>20319.0</td>\n",
       "      <td>13.0</td>\n",
       "      <td>1518</td>\n",
       "    </tr>\n",
       "    <tr>\n",
       "      <th>5</th>\n",
       "      <td>smart</td>\n",
       "      <td>1002</td>\n",
       "      <td>9.0</td>\n",
       "      <td>36.0</td>\n",
       "      <td>206.0</td>\n",
       "      <td>16691.0</td>\n",
       "      <td>4.0</td>\n",
       "      <td>809</td>\n",
       "    </tr>\n",
       "    <tr>\n",
       "      <th>6</th>\n",
       "      <td>smart</td>\n",
       "      <td>1002</td>\n",
       "      <td>10.0</td>\n",
       "      <td>33.0</td>\n",
       "      <td>212.0</td>\n",
       "      <td>13888.0</td>\n",
       "      <td>10.0</td>\n",
       "      <td>550</td>\n",
       "    </tr>\n",
       "    <tr>\n",
       "      <th>7</th>\n",
       "      <td>smart</td>\n",
       "      <td>1002</td>\n",
       "      <td>11.0</td>\n",
       "      <td>32.0</td>\n",
       "      <td>243.0</td>\n",
       "      <td>18587.0</td>\n",
       "      <td>16.0</td>\n",
       "      <td>1180</td>\n",
       "    </tr>\n",
       "    <tr>\n",
       "      <th>8</th>\n",
       "      <td>smart</td>\n",
       "      <td>1002</td>\n",
       "      <td>12.0</td>\n",
       "      <td>33.0</td>\n",
       "      <td>236.0</td>\n",
       "      <td>18114.0</td>\n",
       "      <td>12.0</td>\n",
       "      <td>1087</td>\n",
       "    </tr>\n",
       "    <tr>\n",
       "      <th>9</th>\n",
       "      <td>smart</td>\n",
       "      <td>1005</td>\n",
       "      <td>1.0</td>\n",
       "      <td>15.0</td>\n",
       "      <td>95.0</td>\n",
       "      <td>2728.0</td>\n",
       "      <td>7.0</td>\n",
       "      <td>550</td>\n",
       "    </tr>\n",
       "    <tr>\n",
       "      <th>10</th>\n",
       "      <td>smart</td>\n",
       "      <td>1005</td>\n",
       "      <td>2.0</td>\n",
       "      <td>69.0</td>\n",
       "      <td>456.0</td>\n",
       "      <td>7384.0</td>\n",
       "      <td>38.0</td>\n",
       "      <td>550</td>\n",
       "    </tr>\n",
       "    <tr>\n",
       "      <th>11</th>\n",
       "      <td>smart</td>\n",
       "      <td>1005</td>\n",
       "      <td>3.0</td>\n",
       "      <td>77.0</td>\n",
       "      <td>606.0</td>\n",
       "      <td>11104.0</td>\n",
       "      <td>56.0</td>\n",
       "      <td>886</td>\n",
       "    </tr>\n",
       "    <tr>\n",
       "      <th>12</th>\n",
       "      <td>smart</td>\n",
       "      <td>1005</td>\n",
       "      <td>4.0</td>\n",
       "      <td>101.0</td>\n",
       "      <td>712.0</td>\n",
       "      <td>9352.0</td>\n",
       "      <td>41.0</td>\n",
       "      <td>1186</td>\n",
       "    </tr>\n",
       "    <tr>\n",
       "      <th>13</th>\n",
       "      <td>smart</td>\n",
       "      <td>1005</td>\n",
       "      <td>5.0</td>\n",
       "      <td>73.0</td>\n",
       "      <td>595.0</td>\n",
       "      <td>7866.0</td>\n",
       "      <td>42.0</td>\n",
       "      <td>835</td>\n",
       "    </tr>\n",
       "    <tr>\n",
       "      <th>14</th>\n",
       "      <td>smart</td>\n",
       "      <td>1005</td>\n",
       "      <td>6.0</td>\n",
       "      <td>80.0</td>\n",
       "      <td>612.0</td>\n",
       "      <td>9863.0</td>\n",
       "      <td>47.0</td>\n",
       "      <td>886</td>\n",
       "    </tr>\n",
       "  </tbody>\n",
       "</table>\n",
       "</div>"
      ],
      "text/plain": [
       "   tariff  user_id  month  calls_count  calls_duration  internet_sum  \\\n",
       "0   smart     1001   11.0         59.0           430.0       18429.0   \n",
       "1   smart     1001   12.0         63.0           414.0       14037.0   \n",
       "2   smart     1002    6.0         15.0           117.0       10857.0   \n",
       "3   smart     1002    7.0         26.0           214.0       17580.0   \n",
       "4   smart     1002    8.0         42.0           289.0       20319.0   \n",
       "5   smart     1002    9.0         36.0           206.0       16691.0   \n",
       "6   smart     1002   10.0         33.0           212.0       13888.0   \n",
       "7   smart     1002   11.0         32.0           243.0       18587.0   \n",
       "8   smart     1002   12.0         33.0           236.0       18114.0   \n",
       "9   smart     1005    1.0         15.0            95.0        2728.0   \n",
       "10  smart     1005    2.0         69.0           456.0        7384.0   \n",
       "11  smart     1005    3.0         77.0           606.0       11104.0   \n",
       "12  smart     1005    4.0        101.0           712.0        9352.0   \n",
       "13  smart     1005    5.0         73.0           595.0        7866.0   \n",
       "14  smart     1005    6.0         80.0           612.0        9863.0   \n",
       "\n",
       "    messages_count  revenue  \n",
       "0              0.0     1149  \n",
       "1              0.0      550  \n",
       "2              4.0      550  \n",
       "3             11.0      983  \n",
       "4             13.0     1518  \n",
       "5              4.0      809  \n",
       "6             10.0      550  \n",
       "7             16.0     1180  \n",
       "8             12.0     1087  \n",
       "9              7.0      550  \n",
       "10            38.0      550  \n",
       "11            56.0      886  \n",
       "12            41.0     1186  \n",
       "13            42.0      835  \n",
       "14            47.0      886  "
      ]
     },
     "metadata": {},
     "output_type": "display_data"
    }
   ],
   "source": [
    "# сгруппируем данные сводной таблицей по тарифу и пользователям:\n",
    "df_tariff_user_mean = (df.pivot_table(index=['tariff', 'user_id', 'month'], values=['calls_count', 'calls_duration', 'messages_count', 'internet_sum', 'revenue'], aggfunc='mean').round())\n",
    "\n",
    "# сбросим индексы с помощью метода reset_index()\n",
    "df_tariff_user_mean.reset_index(inplace=True)\n",
    "\n",
    "# посмотрим 15 строк получившейся таблицы\n",
    "display(df_tariff_user_mean.head(15))"
   ]
  },
  {
   "cell_type": "code",
   "execution_count": 74,
   "metadata": {},
   "outputs": [
    {
     "data": {
      "text/html": [
       "<div>\n",
       "<style scoped>\n",
       "    .dataframe tbody tr th:only-of-type {\n",
       "        vertical-align: middle;\n",
       "    }\n",
       "\n",
       "    .dataframe tbody tr th {\n",
       "        vertical-align: top;\n",
       "    }\n",
       "\n",
       "    .dataframe thead th {\n",
       "        text-align: right;\n",
       "    }\n",
       "</style>\n",
       "<table border=\"1\" class=\"dataframe\">\n",
       "  <thead>\n",
       "    <tr style=\"text-align: right;\">\n",
       "      <th></th>\n",
       "      <th>tariff</th>\n",
       "      <th>user_id</th>\n",
       "      <th>calls_count</th>\n",
       "      <th>calls_duration</th>\n",
       "      <th>internet_sum</th>\n",
       "      <th>messages_count</th>\n",
       "      <th>revenue</th>\n",
       "    </tr>\n",
       "  </thead>\n",
       "  <tbody>\n",
       "    <tr>\n",
       "      <th>0</th>\n",
       "      <td>smart</td>\n",
       "      <td>1001</td>\n",
       "      <td>122.0</td>\n",
       "      <td>844.0</td>\n",
       "      <td>32466.00</td>\n",
       "      <td>0.0</td>\n",
       "      <td>1699</td>\n",
       "    </tr>\n",
       "    <tr>\n",
       "      <th>1</th>\n",
       "      <td>smart</td>\n",
       "      <td>1002</td>\n",
       "      <td>217.0</td>\n",
       "      <td>1517.0</td>\n",
       "      <td>116036.52</td>\n",
       "      <td>70.0</td>\n",
       "      <td>6677</td>\n",
       "    </tr>\n",
       "    <tr>\n",
       "      <th>2</th>\n",
       "      <td>smart</td>\n",
       "      <td>1005</td>\n",
       "      <td>888.0</td>\n",
       "      <td>6605.0</td>\n",
       "      <td>99687.31</td>\n",
       "      <td>552.0</td>\n",
       "      <td>9924</td>\n",
       "    </tr>\n",
       "    <tr>\n",
       "      <th>3</th>\n",
       "      <td>smart</td>\n",
       "      <td>1006</td>\n",
       "      <td>506.0</td>\n",
       "      <td>3501.0</td>\n",
       "      <td>164188.81</td>\n",
       "      <td>0.0</td>\n",
       "      <td>9582</td>\n",
       "    </tr>\n",
       "    <tr>\n",
       "      <th>4</th>\n",
       "      <td>smart</td>\n",
       "      <td>1007</td>\n",
       "      <td>612.0</td>\n",
       "      <td>4379.0</td>\n",
       "      <td>131625.67</td>\n",
       "      <td>225.0</td>\n",
       "      <td>7772</td>\n",
       "    </tr>\n",
       "    <tr>\n",
       "      <th>5</th>\n",
       "      <td>smart</td>\n",
       "      <td>1008</td>\n",
       "      <td>52.0</td>\n",
       "      <td>339.0</td>\n",
       "      <td>13217.14</td>\n",
       "      <td>56.0</td>\n",
       "      <td>568</td>\n",
       "    </tr>\n",
       "    <tr>\n",
       "      <th>6</th>\n",
       "      <td>smart</td>\n",
       "      <td>1009</td>\n",
       "      <td>290.0</td>\n",
       "      <td>2189.0</td>\n",
       "      <td>177411.21</td>\n",
       "      <td>110.0</td>\n",
       "      <td>12228</td>\n",
       "    </tr>\n",
       "    <tr>\n",
       "      <th>7</th>\n",
       "      <td>smart</td>\n",
       "      <td>1010</td>\n",
       "      <td>155.0</td>\n",
       "      <td>1155.0</td>\n",
       "      <td>83670.65</td>\n",
       "      <td>0.0</td>\n",
       "      <td>4412</td>\n",
       "    </tr>\n",
       "    <tr>\n",
       "      <th>8</th>\n",
       "      <td>smart</td>\n",
       "      <td>1011</td>\n",
       "      <td>620.0</td>\n",
       "      <td>4328.0</td>\n",
       "      <td>188101.33</td>\n",
       "      <td>110.0</td>\n",
       "      <td>14528</td>\n",
       "    </tr>\n",
       "    <tr>\n",
       "      <th>9</th>\n",
       "      <td>smart</td>\n",
       "      <td>1012</td>\n",
       "      <td>340.0</td>\n",
       "      <td>2516.0</td>\n",
       "      <td>200295.77</td>\n",
       "      <td>150.0</td>\n",
       "      <td>17410</td>\n",
       "    </tr>\n",
       "    <tr>\n",
       "      <th>10</th>\n",
       "      <td>smart</td>\n",
       "      <td>1014</td>\n",
       "      <td>272.0</td>\n",
       "      <td>1817.0</td>\n",
       "      <td>190746.26</td>\n",
       "      <td>352.0</td>\n",
       "      <td>18115</td>\n",
       "    </tr>\n",
       "    <tr>\n",
       "      <th>11</th>\n",
       "      <td>smart</td>\n",
       "      <td>1015</td>\n",
       "      <td>504.0</td>\n",
       "      <td>3808.0</td>\n",
       "      <td>166679.97</td>\n",
       "      <td>585.0</td>\n",
       "      <td>14301</td>\n",
       "    </tr>\n",
       "    <tr>\n",
       "      <th>12</th>\n",
       "      <td>smart</td>\n",
       "      <td>1017</td>\n",
       "      <td>408.0</td>\n",
       "      <td>2904.0</td>\n",
       "      <td>134586.54</td>\n",
       "      <td>0.0</td>\n",
       "      <td>8489</td>\n",
       "    </tr>\n",
       "    <tr>\n",
       "      <th>13</th>\n",
       "      <td>smart</td>\n",
       "      <td>1020</td>\n",
       "      <td>184.0</td>\n",
       "      <td>1253.0</td>\n",
       "      <td>32271.74</td>\n",
       "      <td>38.0</td>\n",
       "      <td>2703</td>\n",
       "    </tr>\n",
       "    <tr>\n",
       "      <th>14</th>\n",
       "      <td>smart</td>\n",
       "      <td>1022</td>\n",
       "      <td>36.0</td>\n",
       "      <td>267.0</td>\n",
       "      <td>15438.31</td>\n",
       "      <td>10.0</td>\n",
       "      <td>565</td>\n",
       "    </tr>\n",
       "  </tbody>\n",
       "</table>\n",
       "</div>"
      ],
      "text/plain": [
       "   tariff  user_id  calls_count  calls_duration  internet_sum  messages_count  \\\n",
       "0   smart     1001        122.0           844.0      32466.00             0.0   \n",
       "1   smart     1002        217.0          1517.0     116036.52            70.0   \n",
       "2   smart     1005        888.0          6605.0      99687.31           552.0   \n",
       "3   smart     1006        506.0          3501.0     164188.81             0.0   \n",
       "4   smart     1007        612.0          4379.0     131625.67           225.0   \n",
       "5   smart     1008         52.0           339.0      13217.14            56.0   \n",
       "6   smart     1009        290.0          2189.0     177411.21           110.0   \n",
       "7   smart     1010        155.0          1155.0      83670.65             0.0   \n",
       "8   smart     1011        620.0          4328.0     188101.33           110.0   \n",
       "9   smart     1012        340.0          2516.0     200295.77           150.0   \n",
       "10  smart     1014        272.0          1817.0     190746.26           352.0   \n",
       "11  smart     1015        504.0          3808.0     166679.97           585.0   \n",
       "12  smart     1017        408.0          2904.0     134586.54             0.0   \n",
       "13  smart     1020        184.0          1253.0      32271.74            38.0   \n",
       "14  smart     1022         36.0           267.0      15438.31            10.0   \n",
       "\n",
       "    revenue  \n",
       "0      1699  \n",
       "1      6677  \n",
       "2      9924  \n",
       "3      9582  \n",
       "4      7772  \n",
       "5       568  \n",
       "6     12228  \n",
       "7      4412  \n",
       "8     14528  \n",
       "9     17410  \n",
       "10    18115  \n",
       "11    14301  \n",
       "12     8489  \n",
       "13     2703  \n",
       "14      565  "
      ]
     },
     "metadata": {},
     "output_type": "display_data"
    }
   ],
   "source": [
    "# сгруппируем данные сводной таблицей по тарифу и пользователям:\n",
    "df_tariff_user_sum = (df.pivot_table(index=['tariff', 'user_id'], values=['calls_count', 'calls_duration', 'messages_count', 'internet_sum', 'revenue'], aggfunc=sum))\n",
    "\n",
    "# сбросим индексы с помощью метода reset_index()\n",
    "df_tariff_user_sum.reset_index(inplace=True)\n",
    "\n",
    "# посмотрим 15 строк получившейся таблицы\n",
    "display(df_tariff_user_sum.head(15))"
   ]
  },
  {
   "cell_type": "code",
   "execution_count": 75,
   "metadata": {},
   "outputs": [
    {
     "data": {
      "text/plain": [
       "<seaborn.axisgrid.FacetGrid at 0x7fb666a10f70>"
      ]
     },
     "execution_count": 75,
     "metadata": {},
     "output_type": "execute_result"
    },
    {
     "data": {
      "image/png": "[encoded data removed]",
      "text/plain": [
       "<Figure size 425x360 with 1 Axes>"
      ]
     },
     "metadata": {
      "needs_background": "light"
     },
     "output_type": "display_data"
    }
   ],
   "source": [
    "# напишем цикл для вывода гистограмм в среднем\n",
    "# используем график из библиотеки seaborn, который называется line\n",
    "# посмотрим количество звонков помесячно по каждому тарифу\n",
    "sns.displot(data=df_tariff_user_mean, x='user_id', y='month', kind='hist', hue='tariff')\n"
   ]
  },
  {
   "cell_type": "code",
   "execution_count": 76,
   "metadata": {},
   "outputs": [
    {
     "data": {
      "text/plain": [
       "<AxesSubplot:ylabel='Frequency'>"
      ]
     },
     "execution_count": 76,
     "metadata": {},
     "output_type": "execute_result"
    },
    {
     "data": {
      "image/png": "[encoded data removed]",
      "text/plain": [
       "<Figure size 432x288 with 1 Axes>"
      ]
     },
     "metadata": {
      "needs_background": "light"
     },
     "output_type": "display_data"
    }
   ],
   "source": [
    "df_tariff_user_mean.plot.hist(x='user_id', y='month', alpha=0.5)"
   ]
  },
  {
   "cell_type": "code",
   "execution_count": 77,
   "metadata": {
    "scrolled": false
   },
   "outputs": [
    {
     "data": {
      "text/plain": [
       "<seaborn.axisgrid.FacetGrid at 0x7fb6666d5f10>"
      ]
     },
     "execution_count": 77,
     "metadata": {},
     "output_type": "execute_result"
    },
    {
     "data": {
      "image/png": "[encoded data removed]",
      "text/plain": [
       "<Figure size 425x360 with 1 Axes>"
      ]
     },
     "metadata": {
      "needs_background": "light"
     },
     "output_type": "display_data"
    },
    {
     "data": {
      "image/png": "[encoded data removed]",
      "text/plain": [
       "<Figure size 425x360 with 1 Axes>"
      ]
     },
     "metadata": {
      "needs_background": "light"
     },
     "output_type": "display_data"
    },
    {
     "data": {
      "image/png": "[encoded data removed]",
      "text/plain": [
       "<Figure size 425x360 with 1 Axes>"
      ]
     },
     "metadata": {
      "needs_background": "light"
     },
     "output_type": "display_data"
    },
    {
     "data": {
      "image/png": "[encoded data removed]",
      "text/plain": [
       "<Figure size 425x360 with 1 Axes>"
      ]
     },
     "metadata": {
      "needs_background": "light"
     },
     "output_type": "display_data"
    },
    {
     "data": {
      "image/png": "[encoded data removed]",
      "text/plain": [
       "<Figure size 425x360 with 1 Axes>"
      ]
     },
     "metadata": {
      "needs_background": "light"
     },
     "output_type": "display_data"
    }
   ],
   "source": [
    "# напишем цикл для вывода гистограмм в среднем\n",
    "# используем график из библиотеки seaborn, который называется line\n",
    "# посмотрим количество звонков помесячно по каждому тарифу\n",
    "sns.relplot(data=df_tariff_user_mean, x='month', y='calls_count', kind='line', hue='tariff')\n",
    "# напишем цикл для вывода гистограмм в среднем\n",
    "# используем график из библиотеки seaborn, который называется line\n",
    "# посмотрим количество звонков помесячно по каждому тарифу\n",
    "sns.relplot(data=df_tariff_user_mean, x='month', y='calls_duration', kind='line', hue='tariff')\n",
    "# напишем цикл для вывода гистограмм в среднем\n",
    "# используем график из библиотеки seaborn, который называется line\n",
    "# посмотрим количество звонков помесячно по каждому тарифу\n",
    "sns.relplot(data=df_tariff_user_mean, x='month', y='internet_sum', kind='line', hue='tariff')\n",
    "# напишем цикл для вывода гистограмм в среднем\n",
    "# используем график из библиотеки seaborn, который называется line\n",
    "# посмотрим количество звонков помесячно по каждому тарифу\n",
    "sns.relplot(data=df_tariff_user_mean, x='month', y='messages_count', kind='line', hue='tariff')\n",
    "# напишем цикл для вывода гистограмм в среднем\n",
    "# используем график из библиотеки seaborn, который называется line\n",
    "# посмотрим количество звонков помесячно по каждому тарифу\n",
    "sns.relplot(data=df_tariff_user_mean, x='month', y='revenue', kind='line', hue='tariff')"
   ]
  },
  {
   "cell_type": "code",
   "execution_count": 78,
   "metadata": {
    "scrolled": true
   },
   "outputs": [
    {
     "data": {
      "image/png": "[encoded data removed]",
      "text/plain": [
       "<Figure size 1080x360 with 2 Axes>"
      ]
     },
     "metadata": {
      "needs_background": "light"
     },
     "output_type": "display_data"
    },
    {
     "data": {
      "image/png": "[encoded data removed]",
      "text/plain": [
       "<Figure size 1080x360 with 2 Axes>"
      ]
     },
     "metadata": {
      "needs_background": "light"
     },
     "output_type": "display_data"
    },
    {
     "data": {
      "image/png": "[encoded data removed]",
      "text/plain": [
       "<Figure size 1080x360 with 2 Axes>"
      ]
     },
     "metadata": {
      "needs_background": "light"
     },
     "output_type": "display_data"
    },
    {
     "data": {
      "image/png": "[encoded data removed]",
      "text/plain": [
       "<Figure size 1080x360 with 2 Axes>"
      ]
     },
     "metadata": {
      "needs_background": "light"
     },
     "output_type": "display_data"
    }
   ],
   "source": [
    "# напишем цикл для вывода гистограмм за год\n",
    "for d_t_u_column in df_tariff_user_sum.columns[3:]:\n",
    "    fig, axs = plt.subplots(1,2)\n",
    "    df_tariff_user_sum[df_tariff_user_sum['tariff']=='smart'][d_t_u_column].plot(bins=90, kind='hist', figsize=(15, 5), title=d_t_u_column+'_smart', ax=axs[0])\n",
    "    df_tariff_user_sum[df_tariff_user_sum['tariff']=='ultra'][d_t_u_column].plot(bins=60, kind='hist', figsize=(15, 5), title=d_t_u_column+'_ultra', ax=axs[1])"
   ]
  },
  {
   "cell_type": "markdown",
   "metadata": {},
   "source": [
    "### Вывод тарифам и потльзователям\n",
    "Из данных видно:\n",
    "- Количество звонков у `smart` приходится на `200`, у `ultra` - около `130`.\n",
    "- Продолжительность звонков у `smart` около `400` и `1 500` минут, у `ultra` один - около `1 000`. Люди тарифа `smart` говорят не больше `6 500` минут в год, в то время как клиенты `ultra` почти `8 000` минут.\n",
    "- Интернет-трафик на границе `200 000` мб у обоих тарифов. Пик у `ultra` в районе `100 000` мб, у `smart` два пика - один в районе `20 000`, другой около `130 000` мб.\n",
    "\n",
    "- SMS сообщения в обоих тарифах люди редко используют. Оно и понятно. В основном люди испотзуют мессенджеры.\n",
    "\n",
    "- По выручке большая часть трат составляет: `6 600`. Это годовая оплата за тариф `smart`, а затем идет снижение. Большая часть людей хоть немного, но перерасходует тарифные лимиты. Для `ultra` в год нужно тратить `23 400`, а большинство пользователей тратит до `20 000`, после чего есть еще одна граница в районе `23 000 - 24 000`, после чего небольшой хвост, т.е. пользователя тарифа `ultra` в укладываются в лимиты тарифного плана.\n",
    "\n",
    "Если смотреть среднемесячные показатели:\n",
    "\n",
    "- по количеству звонков в феврале у обоих тарифов схожие данные, около - `40`, затем показатели увеличиваются. Максимальные в декабре у `smart`- `60`, а у `ultra` - `80`;\n",
    "- по длителности звонков в феврале у обоих тарифов схожие данные, примерно - `250` минут, затем показатели увеличиваются. Максимальные в декабре у `smart`- `400` минут, а у `ultra` - `500` минут;\n",
    "- интернет-трафик в феврале у обоих тарифов схожие данные, примерно - `12 500` мб, затем показатели увеличиваются. Максимальные в декабре у `smart`- `175 000` мб, а у `ultra` - в районе `220 000` мб;\n",
    "- количество SMS в феврале и марте у обоих тарифов схожие данные примерно - `30` SMS, затем показатели увеличиваются. Максимальные в декабре у `smart`- `35` SMS, а у `ultra` - в районе `60` SMS;\n",
    "- по выручке данные у обоих тарифов сильно отличаются с самого начала. У `smart` минимальное значение в январе `650`, максимальное в декабре `1 400`. У `ultra` минимальное в январе `1 960`, а максимальное в декабре `2 100`.\n"
   ]
  },
  {
   "cell_type": "markdown",
   "metadata": {},
   "source": [
    "## Проверим гипотезы"
   ]
  },
  {
   "cell_type": "markdown",
   "metadata": {},
   "source": [
    "Проверим первую гипотизу: \n",
    "- Cредняя выручка пользователей тарифов `Smart` и `Ultra` различаются."
   ]
  },
  {
   "cell_type": "markdown",
   "metadata": {},
   "source": [
    "Сформулируем нулевую и альтернативную гипотезы:\n",
    "\n",
    "- H0 - средняя выручка пользователей тарифов `Smart` и `Ultra` равны;\n",
    "- H1 - средние выручки пользователей тарифов `Smart` и `Ultra` различаются."
   ]
  },
  {
   "cell_type": "code",
   "execution_count": 79,
   "metadata": {},
   "outputs": [
    {
     "data": {
      "text/plain": [
       "'p-значение:'"
      ]
     },
     "metadata": {},
     "output_type": "display_data"
    },
    {
     "data": {
      "text/plain": [
       "0.0"
      ]
     },
     "metadata": {},
     "output_type": "display_data"
    },
    {
     "data": {
      "text/plain": [
       "'Отвергаем нулевую гипотезу'"
      ]
     },
     "metadata": {},
     "output_type": "display_data"
    }
   ],
   "source": [
    "# В Python есть специальный метод для проверки гипотезы о равенстве среднего двух генеральных совокупностей по взятым из них выборкам:\n",
    "# Применим метод scipy.stats.ttest_ind (array1, array2, equal_var), \n",
    "# где equal_var - параметр, задающий считать ли равными дисперсии выборок. \n",
    "# Передаётся как \"equal_var = True\" или \"equal_var = False\" (True — считать, False — не считать). \n",
    "# Мы знаем, что дисперсии выборок по тарифу smart и ultra различаются то equal_var зададим как False.\n",
    "\n",
    "# Первая выборка по выручке от тарифа smart\n",
    "smart_ttest = df[df['tariff']=='smart']['revenue']\n",
    "\n",
    "# Вторая выборка по выручке от тарифа ultra\n",
    "ultra_ttest = df[df['tariff']=='ultra']['revenue']\n",
    "\n",
    "# уровень значимости 5%\n",
    "alpha = 0.05\n",
    "# если p-value окажется меньше него - отвергнем гипотезу\n",
    "\n",
    "results = st.ttest_ind(smart_ttest, ultra_ttest, equal_var=False)\n",
    "\n",
    "display('p-значение:', results.pvalue.round(2))\n",
    "\n",
    "if (results.pvalue < alpha):\n",
    "    display(\"Отвергаем нулевую гипотезу\")\n",
    "else:\n",
    "    display(\"Не получилось отвергнуть нулевую гипотезу\")"
   ]
  },
  {
   "cell_type": "markdown",
   "metadata": {},
   "source": [
    "### Вывод по первой гипотизе"
   ]
  },
  {
   "cell_type": "markdown",
   "metadata": {},
   "source": [
    "Средняя выручка пользователей тарифов `Smart` и `Ultra` сильно отличается друг от друга. Нулевую гипотезу подтвердить не удалось."
   ]
  },
  {
   "cell_type": "markdown",
   "metadata": {},
   "source": [
    "Проверим вторую гипотезу:\n",
    "\n",
    "- средняя выручка пользователей из Москвы отличается от выручки пользователей из других регионов."
   ]
  },
  {
   "cell_type": "markdown",
   "metadata": {},
   "source": [
    "Сформулируем нулевую и альтернативную гипотезы:\n",
    "\n",
    "- Н0 - средняя выручка пользователей из Москвы равна средней выручке пользователей из других регионов;\n",
    "- Н1 - средняя выручка пользователей из Москвы отличается от выручки пользователей из других регионов."
   ]
  },
  {
   "cell_type": "code",
   "execution_count": 80,
   "metadata": {},
   "outputs": [
    {
     "data": {
      "text/plain": [
       "'p-значение:'"
      ]
     },
     "metadata": {},
     "output_type": "display_data"
    },
    {
     "data": {
      "text/plain": [
       "0.45"
      ]
     },
     "metadata": {},
     "output_type": "display_data"
    },
    {
     "data": {
      "text/plain": [
       "'Не получилось отвергнуть нулевую гипотезу'"
      ]
     },
     "metadata": {},
     "output_type": "display_data"
    }
   ],
   "source": [
    "# В Python есть специальный метод для проверки гипотезы о равенстве среднего двух генеральных совокупностей по взятым из них выборкам:\n",
    "# Применим метод scipy.stats.ttest_ind (array1, array2, equal_var), \n",
    "# где equal_var - параметр, задающий считать ли равными дисперсии выборок. \n",
    "# Передаётся как \"equal_var = True\" или \"equal_var = False\" (True — считать, False — не считать). \n",
    "# Мы знаем, что дисперсии выборок по тарифу smart и ultra различаются то equal_var зададим как False.\n",
    "\n",
    "# Первая выборка по выручке по городу Москва\n",
    "moscow_ttest = df[df['city']=='Москва']['revenue']\n",
    "\n",
    "# Вторая выборка по выручке остальных городов\n",
    "other_city_ttest = df[df['city']!='Москва']['revenue']\n",
    "\n",
    "# уровень значимости 5%\n",
    "alpha = 0.05\n",
    "# если p-value окажется меньше него - отвергнем гипотезу\n",
    "\n",
    "results = st.ttest_ind(moscow_ttest, other_city_ttest, equal_var=False)\n",
    "\n",
    "display('p-значение:', results.pvalue.round(2))\n",
    "\n",
    "if (results.pvalue < alpha):\n",
    "    display(\"Отвергаем нулевую гипотезу\")\n",
    "else:\n",
    "    display(\"Не получилось отвергнуть нулевую гипотезу\")"
   ]
  },
  {
   "cell_type": "code",
   "execution_count": 81,
   "metadata": {},
   "outputs": [
    {
     "data": {
      "text/plain": [
       "1505.04"
      ]
     },
     "metadata": {},
     "output_type": "display_data"
    }
   ],
   "source": [
    "# Посмотрим значение средней выручки по городу Москва\n",
    "display(df[df['city']=='Москва']['revenue'].mean().round(2))"
   ]
  },
  {
   "cell_type": "code",
   "execution_count": 82,
   "metadata": {},
   "outputs": [
    {
     "data": {
      "text/plain": [
       "1479.58"
      ]
     },
     "metadata": {},
     "output_type": "display_data"
    }
   ],
   "source": [
    "# Посмотрим значение средней выручки по остальным городам\n",
    "display(df[df['city']!='Москва']['revenue'].mean().round(2))"
   ]
  },
  {
   "cell_type": "markdown",
   "metadata": {},
   "source": [
    "### Вывод по второй гипотизе\n",
    "Уровень значимости составил 37%, это гораздо выше 5%. Средняя выручка по Москве статистически значимо не отличается от средней выручки по другим городам."
   ]
  },
  {
   "cell_type": "markdown",
   "metadata": {},
   "source": [
    "## Напишем общий вывод"
   ]
  },
  {
   "cell_type": "markdown",
   "metadata": {},
   "source": [
    "Сделав предварительный анализ тарифов на небольшой выборке пользователей можно сказать следущее:\n",
    "\n",
    "- Из графиков по `12` месяцам видно, что все показатели растут линейно от января к декабрю, в обоих тарифах.\n",
    "\n",
    "В среднем пользователи тарифа `ultra` больше:\n",
    "\n",
    "- звонят по телефону\n",
    "- отправляют SMS сообщения\n",
    "- пользуются интернетом\n",
    "- приносят выручки\n",
    "\n",
    "чем пользователи тарифа `smart`.\n",
    "\n",
    "Показатели дисперси тоже выше у тарфа `ultra`, кроме одного - выручки. Скорее всего это из-за объема выборки.\n",
    "\n",
    "Если смотреть на показатели от пользвателя каждым тарифом видно следущее:\n",
    "- Количество звонков у `smart` приходится на `200`, у `ultra` - около `130`.\n",
    "- Продолжительность звонков у `smart` около `400` и `1 500` минут, у `ultra` один - около `1 000`. Люди тарифа `smart` говорят не больше `6 500` минут в год, в то время как клиенты `ultra` почти `8 000` минут.\n",
    "- Интернет-трафик на границе `200 000` мб у обоих тарифов. Пик у `ultra` в районе `100 000` мб, у `smart` два пика - один в районе `20 000`, другой около `130 000` мб.\n",
    "\n",
    "- SMS сообщения в обоих тарифах люди редко используют. Оно и понятно. В основном люди испотзуют мессенджеры.\n",
    "\n",
    "- По выручке большая часть трат составляет: `6 600`. Это годовая оплата за тариф `smart`, а затем идет снижение. Большая часть людей хоть немного, но перерасходует тарифные лимиты. Для `ultra` в год нужно тратить `23 400`, а большинство пользователей тратит до `20 000`, после чего есть еще одна граница в районе `23 000 - 24 000`, после чего небольшой хвост, т.е. пользователя тарифа `ultra` в укладываются в лимиты тарифного плана.\n",
    "\n",
    "Первая гипотеза о том, что средняя выручка пользователей тарифов `Smart` и `Ultra` равны не подтвердилась. Выручки сильно отличается друг от друга.\n",
    "\n",
    "Вторая гипотеза о том, что средняя выручка пользователей из Москвы отличается от выручки пользователей из других регионов не подтвердилась. Среднии выручки за год очень похожи:\n",
    "- Средняя выручка в Москве - `1484.88`\n",
    "- Средняя выручка в остольных городах - `1454.61`\n",
    "\n",
    "А вот среднемесячная выручка отличаются значительно и хорошая тенденция роста видна именно у тарифа `Smart`. Если смотреть на график видно, что он догоняет `Ultra` по оборотам и в дальнейшем может его и перегнать.\n"
   ]
  }
 ],
 "metadata": {
  "ExecuteTimeLog": [
   {
    "duration": 422,
    "start_time": "2022-05-14T18:42:08.869Z"
   },
   {
    "duration": 443,
    "start_time": "2022-05-14T18:43:19.396Z"
   },
   {
    "duration": 3,
    "start_time": "2022-05-14T18:43:31.110Z"
   },
   {
    "duration": 192,
    "start_time": "2022-05-14T18:50:05.146Z"
   },
   {
    "duration": 161,
    "start_time": "2022-05-14T18:50:33.528Z"
   },
   {
    "duration": 212,
    "start_time": "2022-05-14T18:51:09.427Z"
   },
   {
    "duration": 69,
    "start_time": "2022-05-14T18:56:34.121Z"
   },
   {
    "duration": 10,
    "start_time": "2022-05-14T18:56:44.983Z"
   },
   {
    "duration": 3,
    "start_time": "2022-05-14T18:57:14.855Z"
   },
   {
    "duration": 11,
    "start_time": "2022-05-14T18:57:16.830Z"
   },
   {
    "duration": 3,
    "start_time": "2022-05-14T18:57:57.783Z"
   },
   {
    "duration": 3,
    "start_time": "2022-05-14T18:58:34.000Z"
   },
   {
    "duration": 705,
    "start_time": "2022-05-14T18:58:40.923Z"
   },
   {
    "duration": 14,
    "start_time": "2022-05-14T18:58:53.247Z"
   },
   {
    "duration": 150,
    "start_time": "2022-05-14T19:00:04.129Z"
   },
   {
    "duration": 7,
    "start_time": "2022-05-14T19:00:05.217Z"
   },
   {
    "duration": 159,
    "start_time": "2022-05-14T19:00:48.202Z"
   },
   {
    "duration": 951,
    "start_time": "2022-05-14T19:00:59.225Z"
   },
   {
    "duration": 6,
    "start_time": "2022-05-14T19:01:00.666Z"
   },
   {
    "duration": 832,
    "start_time": "2022-05-14T19:01:05.853Z"
   },
   {
    "duration": 8,
    "start_time": "2022-05-14T19:01:07.913Z"
   },
   {
    "duration": 136,
    "start_time": "2022-05-14T19:01:16.953Z"
   },
   {
    "duration": 8,
    "start_time": "2022-05-14T19:01:18.146Z"
   },
   {
    "duration": 152,
    "start_time": "2022-05-14T19:02:15.112Z"
   },
   {
    "duration": 153,
    "start_time": "2022-05-14T19:02:32.115Z"
   },
   {
    "duration": 10,
    "start_time": "2022-05-14T19:02:34.314Z"
   },
   {
    "duration": 8,
    "start_time": "2022-05-14T19:03:47.092Z"
   },
   {
    "duration": 2,
    "start_time": "2022-05-14T19:05:19.685Z"
   },
   {
    "duration": 137,
    "start_time": "2022-05-14T19:05:21.764Z"
   },
   {
    "duration": 7,
    "start_time": "2022-05-14T19:05:23.789Z"
   },
   {
    "duration": 9,
    "start_time": "2022-05-14T19:06:50.390Z"
   },
   {
    "duration": 8,
    "start_time": "2022-05-14T19:07:42.384Z"
   },
   {
    "duration": 8,
    "start_time": "2022-05-14T19:07:58.918Z"
   },
   {
    "duration": 7,
    "start_time": "2022-05-14T19:08:51.286Z"
   },
   {
    "duration": 8,
    "start_time": "2022-05-14T19:09:08.653Z"
   },
   {
    "duration": 8,
    "start_time": "2022-05-14T19:09:28.520Z"
   },
   {
    "duration": 12,
    "start_time": "2022-05-14T19:10:28.080Z"
   },
   {
    "duration": 14,
    "start_time": "2022-05-14T19:10:32.655Z"
   },
   {
    "duration": 12,
    "start_time": "2022-05-14T19:10:56.817Z"
   },
   {
    "duration": 44,
    "start_time": "2022-05-16T07:42:12.007Z"
   },
   {
    "duration": 806,
    "start_time": "2022-05-16T07:42:17.094Z"
   },
   {
    "duration": 3,
    "start_time": "2022-05-16T07:42:17.902Z"
   },
   {
    "duration": 158,
    "start_time": "2022-05-16T07:42:17.907Z"
   },
   {
    "duration": 13,
    "start_time": "2022-05-16T07:42:18.067Z"
   },
   {
    "duration": 8,
    "start_time": "2022-05-16T07:42:18.082Z"
   },
   {
    "duration": 17,
    "start_time": "2022-05-16T07:42:18.092Z"
   },
   {
    "duration": 25,
    "start_time": "2022-05-16T07:42:18.110Z"
   },
   {
    "duration": 104,
    "start_time": "2022-05-16T08:06:17.523Z"
   },
   {
    "duration": 26,
    "start_time": "2022-05-16T08:07:37.876Z"
   },
   {
    "duration": 106,
    "start_time": "2022-05-16T08:08:23.973Z"
   },
   {
    "duration": 20,
    "start_time": "2022-05-16T08:08:29.813Z"
   },
   {
    "duration": 10,
    "start_time": "2022-05-16T08:10:01.455Z"
   },
   {
    "duration": 144,
    "start_time": "2022-05-16T08:17:55.691Z"
   },
   {
    "duration": 9,
    "start_time": "2022-05-16T08:19:57.317Z"
   },
   {
    "duration": 9,
    "start_time": "2022-05-16T08:21:56.582Z"
   },
   {
    "duration": 9,
    "start_time": "2022-05-16T08:22:10.389Z"
   },
   {
    "duration": 10,
    "start_time": "2022-05-16T08:22:14.150Z"
   },
   {
    "duration": 10,
    "start_time": "2022-05-16T08:22:47.655Z"
   },
   {
    "duration": 13,
    "start_time": "2022-05-16T08:25:48.722Z"
   },
   {
    "duration": 9,
    "start_time": "2022-05-16T08:26:12.095Z"
   },
   {
    "duration": 9,
    "start_time": "2022-05-16T08:26:54.786Z"
   },
   {
    "duration": 11,
    "start_time": "2022-05-16T08:27:02.290Z"
   },
   {
    "duration": 10,
    "start_time": "2022-05-16T08:27:11.785Z"
   },
   {
    "duration": 12,
    "start_time": "2022-05-16T08:27:18.361Z"
   },
   {
    "duration": 139,
    "start_time": "2022-05-16T08:27:25.642Z"
   },
   {
    "duration": 148,
    "start_time": "2022-05-16T08:27:33.051Z"
   },
   {
    "duration": 7,
    "start_time": "2022-05-16T08:27:43.227Z"
   },
   {
    "duration": 8,
    "start_time": "2022-05-16T08:27:50.394Z"
   },
   {
    "duration": 12,
    "start_time": "2022-05-16T08:27:57.339Z"
   },
   {
    "duration": 24,
    "start_time": "2022-05-16T08:28:05.770Z"
   },
   {
    "duration": 6,
    "start_time": "2022-05-16T08:28:40.571Z"
   },
   {
    "duration": 7,
    "start_time": "2022-05-16T08:29:05.291Z"
   },
   {
    "duration": 25,
    "start_time": "2022-05-16T08:29:09.283Z"
   },
   {
    "duration": 24,
    "start_time": "2022-05-16T08:29:39.914Z"
   },
   {
    "duration": 23,
    "start_time": "2022-05-16T08:30:09.164Z"
   },
   {
    "duration": 12,
    "start_time": "2022-05-16T08:31:49.701Z"
   },
   {
    "duration": 23,
    "start_time": "2022-05-16T10:26:26.088Z"
   },
   {
    "duration": 148,
    "start_time": "2022-05-16T10:31:14.258Z"
   },
   {
    "duration": 137,
    "start_time": "2022-05-16T10:31:18.826Z"
   },
   {
    "duration": 86,
    "start_time": "2022-05-16T10:32:00.531Z"
   },
   {
    "duration": 7,
    "start_time": "2022-05-16T10:32:21.284Z"
   },
   {
    "duration": 7,
    "start_time": "2022-05-16T10:32:33.486Z"
   },
   {
    "duration": 9,
    "start_time": "2022-05-16T10:32:47.724Z"
   },
   {
    "duration": 20,
    "start_time": "2022-05-16T10:33:05.915Z"
   },
   {
    "duration": 13,
    "start_time": "2022-05-16T10:33:17.667Z"
   },
   {
    "duration": 141,
    "start_time": "2022-05-16T10:40:19.847Z"
   },
   {
    "duration": 10,
    "start_time": "2022-05-16T10:40:24.991Z"
   },
   {
    "duration": 7,
    "start_time": "2022-05-16T10:40:48.913Z"
   },
   {
    "duration": 11,
    "start_time": "2022-05-16T10:45:07.835Z"
   },
   {
    "duration": 22,
    "start_time": "2022-05-16T10:45:17.498Z"
   },
   {
    "duration": 24,
    "start_time": "2022-05-16T10:57:48.482Z"
   },
   {
    "duration": 21,
    "start_time": "2022-05-16T10:57:51.235Z"
   },
   {
    "duration": 12,
    "start_time": "2022-05-16T11:02:22.110Z"
   },
   {
    "duration": 123,
    "start_time": "2022-05-16T11:15:27.588Z"
   },
   {
    "duration": 85,
    "start_time": "2022-05-16T11:17:22.484Z"
   },
   {
    "duration": 9,
    "start_time": "2022-05-16T11:22:27.019Z"
   },
   {
    "duration": 2,
    "start_time": "2022-05-16T11:22:52.260Z"
   },
   {
    "duration": 11,
    "start_time": "2022-05-16T11:24:27.437Z"
   },
   {
    "duration": 8,
    "start_time": "2022-05-16T11:24:44.388Z"
   },
   {
    "duration": 11,
    "start_time": "2022-05-16T11:25:24.119Z"
   },
   {
    "duration": 465,
    "start_time": "2022-05-16T11:26:36.247Z"
   },
   {
    "duration": 14,
    "start_time": "2022-05-16T11:26:40.871Z"
   },
   {
    "duration": 11,
    "start_time": "2022-05-16T11:27:45.397Z"
   },
   {
    "duration": 22,
    "start_time": "2022-05-16T11:28:17.209Z"
   },
   {
    "duration": 5,
    "start_time": "2022-05-16T15:22:12.982Z"
   },
   {
    "duration": 11,
    "start_time": "2022-05-16T15:22:25.638Z"
   },
   {
    "duration": 9,
    "start_time": "2022-05-16T15:22:42.263Z"
   },
   {
    "duration": 10,
    "start_time": "2022-05-16T15:23:23.565Z"
   },
   {
    "duration": 4,
    "start_time": "2022-05-16T15:27:36.680Z"
   },
   {
    "duration": 10,
    "start_time": "2022-05-16T15:27:37.970Z"
   },
   {
    "duration": 1165,
    "start_time": "2022-05-18T10:02:26.404Z"
   },
   {
    "duration": 5,
    "start_time": "2022-05-18T10:02:27.574Z"
   },
   {
    "duration": 111,
    "start_time": "2022-05-18T10:02:27.580Z"
   },
   {
    "duration": 15,
    "start_time": "2022-05-18T10:02:27.693Z"
   },
   {
    "duration": 18,
    "start_time": "2022-05-18T10:02:27.710Z"
   },
   {
    "duration": 16,
    "start_time": "2022-05-18T10:02:27.729Z"
   },
   {
    "duration": 27,
    "start_time": "2022-05-18T10:02:27.747Z"
   },
   {
    "duration": 30,
    "start_time": "2022-05-18T10:02:27.775Z"
   },
   {
    "duration": 546,
    "start_time": "2022-05-18T10:02:27.806Z"
   },
   {
    "duration": 19,
    "start_time": "2022-05-18T10:02:28.354Z"
   },
   {
    "duration": 25,
    "start_time": "2022-05-18T10:02:28.375Z"
   },
   {
    "duration": 19,
    "start_time": "2022-05-18T10:02:28.401Z"
   },
   {
    "duration": 23,
    "start_time": "2022-05-18T10:02:28.421Z"
   },
   {
    "duration": 28,
    "start_time": "2022-05-18T10:02:28.445Z"
   },
   {
    "duration": 296,
    "start_time": "2022-05-18T10:02:28.474Z"
   },
   {
    "duration": 8,
    "start_time": "2022-05-18T10:02:28.774Z"
   },
   {
    "duration": 11,
    "start_time": "2022-05-18T10:02:28.784Z"
   },
   {
    "duration": 13,
    "start_time": "2022-05-18T10:02:28.796Z"
   },
   {
    "duration": 16,
    "start_time": "2022-05-18T10:02:28.811Z"
   },
   {
    "duration": 11,
    "start_time": "2022-05-18T10:02:28.829Z"
   },
   {
    "duration": 483,
    "start_time": "2022-05-18T10:02:28.842Z"
   },
   {
    "duration": 9,
    "start_time": "2022-05-18T10:02:29.327Z"
   },
   {
    "duration": 16,
    "start_time": "2022-05-18T10:02:29.337Z"
   },
   {
    "duration": 19,
    "start_time": "2022-05-18T10:02:29.355Z"
   },
   {
    "duration": 43,
    "start_time": "2022-05-18T10:02:29.376Z"
   },
   {
    "duration": 35,
    "start_time": "2022-05-18T10:02:29.421Z"
   },
   {
    "duration": 78,
    "start_time": "2022-05-18T10:02:29.462Z"
   },
   {
    "duration": 8,
    "start_time": "2022-05-18T10:02:29.543Z"
   },
   {
    "duration": 29,
    "start_time": "2022-05-18T10:02:29.552Z"
   },
   {
    "duration": 33,
    "start_time": "2022-05-18T10:02:29.583Z"
   },
   {
    "duration": 29,
    "start_time": "2022-05-18T10:02:29.618Z"
   },
   {
    "duration": 41,
    "start_time": "2022-05-18T10:02:29.649Z"
   },
   {
    "duration": 19,
    "start_time": "2022-05-18T10:02:29.692Z"
   },
   {
    "duration": 77,
    "start_time": "2022-05-18T10:03:35.756Z"
   },
   {
    "duration": 9,
    "start_time": "2022-05-18T10:03:47.436Z"
   },
   {
    "duration": 9,
    "start_time": "2022-05-18T10:03:57.357Z"
   },
   {
    "duration": 10,
    "start_time": "2022-05-18T10:04:15.220Z"
   },
   {
    "duration": 5,
    "start_time": "2022-05-18T10:04:47.917Z"
   },
   {
    "duration": 8,
    "start_time": "2022-05-18T10:04:57.309Z"
   },
   {
    "duration": 4,
    "start_time": "2022-05-18T10:05:05.197Z"
   },
   {
    "duration": 5,
    "start_time": "2022-05-18T10:05:53.718Z"
   },
   {
    "duration": 4,
    "start_time": "2022-05-18T10:06:11.134Z"
   },
   {
    "duration": 13,
    "start_time": "2022-05-18T10:08:05.824Z"
   },
   {
    "duration": 860,
    "start_time": "2022-05-18T10:18:25.784Z"
   },
   {
    "duration": 32,
    "start_time": "2022-05-18T10:19:15.111Z"
   },
   {
    "duration": 16,
    "start_time": "2022-05-18T10:19:18.890Z"
   },
   {
    "duration": 20,
    "start_time": "2022-05-18T10:20:18.823Z"
   },
   {
    "duration": 4,
    "start_time": "2022-05-18T10:30:46.874Z"
   },
   {
    "duration": 32,
    "start_time": "2022-05-18T10:31:55.187Z"
   },
   {
    "duration": 16,
    "start_time": "2022-05-18T10:32:50.791Z"
   },
   {
    "duration": 85,
    "start_time": "2022-05-18T10:39:08.148Z"
   },
   {
    "duration": 35,
    "start_time": "2022-05-18T10:40:31.178Z"
   },
   {
    "duration": 9,
    "start_time": "2022-05-18T10:41:02.183Z"
   },
   {
    "duration": 14,
    "start_time": "2022-05-18T10:54:17.997Z"
   },
   {
    "duration": 15,
    "start_time": "2022-05-18T10:55:06.350Z"
   },
   {
    "duration": 14,
    "start_time": "2022-05-18T10:56:05.251Z"
   },
   {
    "duration": 13,
    "start_time": "2022-05-18T10:56:07.926Z"
   },
   {
    "duration": 7,
    "start_time": "2022-05-18T10:56:20.736Z"
   },
   {
    "duration": 11,
    "start_time": "2022-05-18T10:57:15.591Z"
   },
   {
    "duration": 9,
    "start_time": "2022-05-18T11:00:44.419Z"
   },
   {
    "duration": 1547,
    "start_time": "2022-05-18T11:02:53.429Z"
   },
   {
    "duration": 697,
    "start_time": "2022-05-18T11:03:10.248Z"
   },
   {
    "duration": 5,
    "start_time": "2022-05-18T11:03:59.220Z"
   },
   {
    "duration": 655,
    "start_time": "2022-05-18T11:04:20.145Z"
   },
   {
    "duration": 3,
    "start_time": "2022-05-18T11:04:42.653Z"
   },
   {
    "duration": 29,
    "start_time": "2022-05-18T11:04:42.658Z"
   },
   {
    "duration": 89,
    "start_time": "2022-05-18T11:04:42.688Z"
   },
   {
    "duration": 8,
    "start_time": "2022-05-18T11:04:42.779Z"
   },
   {
    "duration": 31,
    "start_time": "2022-05-18T11:04:42.789Z"
   },
   {
    "duration": 18,
    "start_time": "2022-05-18T11:04:42.822Z"
   },
   {
    "duration": 27,
    "start_time": "2022-05-18T11:04:42.842Z"
   },
   {
    "duration": 29,
    "start_time": "2022-05-18T11:04:42.871Z"
   },
   {
    "duration": 247,
    "start_time": "2022-05-18T11:04:42.902Z"
   },
   {
    "duration": 9,
    "start_time": "2022-05-18T11:04:43.151Z"
   },
   {
    "duration": 40,
    "start_time": "2022-05-18T11:04:43.161Z"
   },
   {
    "duration": 34,
    "start_time": "2022-05-18T11:04:43.202Z"
   },
   {
    "duration": 38,
    "start_time": "2022-05-18T11:04:43.237Z"
   },
   {
    "duration": 23,
    "start_time": "2022-05-18T11:04:43.278Z"
   },
   {
    "duration": 89,
    "start_time": "2022-05-18T11:04:43.302Z"
   },
   {
    "duration": 6,
    "start_time": "2022-05-18T11:04:43.393Z"
   },
   {
    "duration": 21,
    "start_time": "2022-05-18T11:04:43.400Z"
   },
   {
    "duration": 30,
    "start_time": "2022-05-18T11:04:43.422Z"
   },
   {
    "duration": 33,
    "start_time": "2022-05-18T11:04:43.454Z"
   },
   {
    "duration": 12,
    "start_time": "2022-05-18T11:04:43.488Z"
   },
   {
    "duration": 129,
    "start_time": "2022-05-18T11:04:43.501Z"
   },
   {
    "duration": 8,
    "start_time": "2022-05-18T11:04:43.632Z"
   },
   {
    "duration": 18,
    "start_time": "2022-05-18T11:04:43.641Z"
   },
   {
    "duration": 31,
    "start_time": "2022-05-18T11:04:43.660Z"
   },
   {
    "duration": 38,
    "start_time": "2022-05-18T11:04:43.693Z"
   },
   {
    "duration": 25,
    "start_time": "2022-05-18T11:04:43.732Z"
   },
   {
    "duration": 25,
    "start_time": "2022-05-18T11:04:43.758Z"
   },
   {
    "duration": 7,
    "start_time": "2022-05-18T11:04:43.784Z"
   },
   {
    "duration": 21,
    "start_time": "2022-05-18T11:04:43.792Z"
   },
   {
    "duration": 26,
    "start_time": "2022-05-18T11:04:43.815Z"
   },
   {
    "duration": 5,
    "start_time": "2022-05-18T11:04:43.842Z"
   },
   {
    "duration": 15,
    "start_time": "2022-05-18T11:04:43.849Z"
   },
   {
    "duration": 30,
    "start_time": "2022-05-18T11:04:43.865Z"
   },
   {
    "duration": 16,
    "start_time": "2022-05-18T11:04:43.897Z"
   },
   {
    "duration": 17,
    "start_time": "2022-05-18T11:04:43.915Z"
   },
   {
    "duration": 34,
    "start_time": "2022-05-18T11:04:43.933Z"
   },
   {
    "duration": 19,
    "start_time": "2022-05-18T11:04:43.968Z"
   },
   {
    "duration": 5,
    "start_time": "2022-05-18T11:04:43.989Z"
   },
   {
    "duration": 9,
    "start_time": "2022-05-18T11:04:43.996Z"
   },
   {
    "duration": 7,
    "start_time": "2022-05-18T11:04:58.669Z"
   },
   {
    "duration": 8,
    "start_time": "2022-05-18T11:06:26.909Z"
   },
   {
    "duration": 8,
    "start_time": "2022-05-18T11:35:13.477Z"
   },
   {
    "duration": 50,
    "start_time": "2022-05-18T11:37:53.858Z"
   },
   {
    "duration": 895,
    "start_time": "2022-05-18T11:54:21.082Z"
   },
   {
    "duration": 4,
    "start_time": "2022-05-18T11:59:17.924Z"
   },
   {
    "duration": 357,
    "start_time": "2022-05-18T12:08:00.242Z"
   },
   {
    "duration": 14,
    "start_time": "2022-05-18T12:08:13.490Z"
   },
   {
    "duration": 19,
    "start_time": "2022-05-18T12:15:22.728Z"
   },
   {
    "duration": 32,
    "start_time": "2022-05-18T12:19:18.634Z"
   },
   {
    "duration": 26,
    "start_time": "2022-05-18T12:21:16.108Z"
   },
   {
    "duration": 47,
    "start_time": "2022-05-18T12:21:30.243Z"
   },
   {
    "duration": 29,
    "start_time": "2022-05-18T12:21:42.996Z"
   },
   {
    "duration": 29,
    "start_time": "2022-05-18T12:22:14.061Z"
   },
   {
    "duration": 24,
    "start_time": "2022-05-18T12:22:49.428Z"
   },
   {
    "duration": 23,
    "start_time": "2022-05-18T12:25:19.173Z"
   },
   {
    "duration": 123,
    "start_time": "2022-05-18T12:25:30.873Z"
   },
   {
    "duration": 28,
    "start_time": "2022-05-18T12:25:53.370Z"
   },
   {
    "duration": 25,
    "start_time": "2022-05-18T12:26:03.526Z"
   },
   {
    "duration": 25,
    "start_time": "2022-05-18T12:26:19.630Z"
   },
   {
    "duration": 24,
    "start_time": "2022-05-18T12:26:22.983Z"
   },
   {
    "duration": 33,
    "start_time": "2022-05-18T12:26:28.110Z"
   },
   {
    "duration": 39,
    "start_time": "2022-05-18T12:26:48.455Z"
   },
   {
    "duration": 35,
    "start_time": "2022-05-18T12:28:47.817Z"
   },
   {
    "duration": 25,
    "start_time": "2022-05-18T12:29:11.480Z"
   },
   {
    "duration": 115,
    "start_time": "2022-05-18T12:29:21.505Z"
   },
   {
    "duration": 25,
    "start_time": "2022-05-18T12:29:49.473Z"
   },
   {
    "duration": 28,
    "start_time": "2022-05-18T12:31:32.026Z"
   },
   {
    "duration": 34,
    "start_time": "2022-05-18T12:36:45.542Z"
   },
   {
    "duration": 39,
    "start_time": "2022-05-18T12:37:01.230Z"
   },
   {
    "duration": 25,
    "start_time": "2022-05-18T12:37:12.389Z"
   },
   {
    "duration": 33,
    "start_time": "2022-05-18T12:37:21.853Z"
   },
   {
    "duration": 67,
    "start_time": "2022-05-18T12:37:41.414Z"
   },
   {
    "duration": 29,
    "start_time": "2022-05-18T12:37:55.877Z"
   },
   {
    "duration": 28,
    "start_time": "2022-05-18T12:38:10.349Z"
   },
   {
    "duration": 37,
    "start_time": "2022-05-18T12:38:13.654Z"
   },
   {
    "duration": 29,
    "start_time": "2022-05-18T12:38:18.486Z"
   },
   {
    "duration": 2,
    "start_time": "2022-05-18T15:33:08.240Z"
   },
   {
    "duration": 6,
    "start_time": "2022-05-18T15:33:08.244Z"
   },
   {
    "duration": 81,
    "start_time": "2022-05-18T15:33:08.252Z"
   },
   {
    "duration": 9,
    "start_time": "2022-05-18T15:33:08.335Z"
   },
   {
    "duration": 13,
    "start_time": "2022-05-18T15:33:08.346Z"
   },
   {
    "duration": 11,
    "start_time": "2022-05-18T15:33:08.361Z"
   },
   {
    "duration": 12,
    "start_time": "2022-05-18T15:33:08.374Z"
   },
   {
    "duration": 13,
    "start_time": "2022-05-18T15:33:08.387Z"
   },
   {
    "duration": 368,
    "start_time": "2022-05-18T15:33:08.402Z"
   },
   {
    "duration": 8,
    "start_time": "2022-05-18T15:33:08.771Z"
   },
   {
    "duration": 10,
    "start_time": "2022-05-18T15:33:08.780Z"
   },
   {
    "duration": 14,
    "start_time": "2022-05-18T15:33:08.791Z"
   },
   {
    "duration": 22,
    "start_time": "2022-05-18T15:33:08.806Z"
   },
   {
    "duration": 31,
    "start_time": "2022-05-18T15:33:08.829Z"
   },
   {
    "duration": 80,
    "start_time": "2022-05-18T15:33:08.862Z"
   },
   {
    "duration": 6,
    "start_time": "2022-05-18T15:33:08.944Z"
   },
   {
    "duration": 9,
    "start_time": "2022-05-18T15:33:08.951Z"
   },
   {
    "duration": 12,
    "start_time": "2022-05-18T15:33:08.961Z"
   },
   {
    "duration": 21,
    "start_time": "2022-05-18T15:33:08.974Z"
   },
   {
    "duration": 11,
    "start_time": "2022-05-18T15:33:08.996Z"
   },
   {
    "duration": 125,
    "start_time": "2022-05-18T15:33:09.009Z"
   },
   {
    "duration": 10,
    "start_time": "2022-05-18T15:33:09.135Z"
   },
   {
    "duration": 16,
    "start_time": "2022-05-18T15:33:09.146Z"
   },
   {
    "duration": 12,
    "start_time": "2022-05-18T15:33:09.164Z"
   },
   {
    "duration": 20,
    "start_time": "2022-05-18T15:33:09.178Z"
   },
   {
    "duration": 25,
    "start_time": "2022-05-18T15:33:09.199Z"
   },
   {
    "duration": 14,
    "start_time": "2022-05-18T15:33:09.225Z"
   },
   {
    "duration": 23,
    "start_time": "2022-05-18T15:33:09.241Z"
   },
   {
    "duration": 14,
    "start_time": "2022-05-18T15:33:09.266Z"
   },
   {
    "duration": 28,
    "start_time": "2022-05-18T15:33:09.282Z"
   },
   {
    "duration": 5,
    "start_time": "2022-05-18T15:33:09.311Z"
   },
   {
    "duration": 16,
    "start_time": "2022-05-18T15:33:09.317Z"
   },
   {
    "duration": 56,
    "start_time": "2022-05-18T15:33:09.334Z"
   },
   {
    "duration": 18,
    "start_time": "2022-05-18T15:33:09.392Z"
   },
   {
    "duration": 18,
    "start_time": "2022-05-18T15:33:09.411Z"
   },
   {
    "duration": 33,
    "start_time": "2022-05-18T15:33:09.431Z"
   },
   {
    "duration": 19,
    "start_time": "2022-05-18T15:33:09.466Z"
   },
   {
    "duration": 5,
    "start_time": "2022-05-18T15:33:09.487Z"
   },
   {
    "duration": 11,
    "start_time": "2022-05-18T15:33:09.493Z"
   },
   {
    "duration": 21,
    "start_time": "2022-05-18T15:36:01.020Z"
   },
   {
    "duration": 8,
    "start_time": "2022-05-18T15:36:13.659Z"
   },
   {
    "duration": 31,
    "start_time": "2022-05-18T15:36:33.091Z"
   },
   {
    "duration": 12,
    "start_time": "2022-05-18T15:36:34.531Z"
   },
   {
    "duration": 1182,
    "start_time": "2022-05-18T15:43:46.658Z"
   },
   {
    "duration": 3,
    "start_time": "2022-05-18T15:43:47.842Z"
   },
   {
    "duration": 49,
    "start_time": "2022-05-18T15:43:47.846Z"
   },
   {
    "duration": 14,
    "start_time": "2022-05-18T15:43:47.898Z"
   },
   {
    "duration": 25,
    "start_time": "2022-05-18T15:43:47.913Z"
   },
   {
    "duration": 24,
    "start_time": "2022-05-18T15:43:47.940Z"
   },
   {
    "duration": 18,
    "start_time": "2022-05-18T15:43:47.966Z"
   },
   {
    "duration": 19,
    "start_time": "2022-05-18T15:43:47.985Z"
   },
   {
    "duration": 179,
    "start_time": "2022-05-18T15:43:48.006Z"
   },
   {
    "duration": 8,
    "start_time": "2022-05-18T15:43:48.188Z"
   },
   {
    "duration": 10,
    "start_time": "2022-05-18T15:43:48.198Z"
   },
   {
    "duration": 16,
    "start_time": "2022-05-18T15:43:48.209Z"
   },
   {
    "duration": 39,
    "start_time": "2022-05-18T15:43:48.226Z"
   },
   {
    "duration": 33,
    "start_time": "2022-05-18T15:43:48.266Z"
   },
   {
    "duration": 107,
    "start_time": "2022-05-18T15:43:48.301Z"
   },
   {
    "duration": 7,
    "start_time": "2022-05-18T15:43:48.409Z"
   },
   {
    "duration": 16,
    "start_time": "2022-05-18T15:43:48.418Z"
   },
   {
    "duration": 16,
    "start_time": "2022-05-18T15:43:48.435Z"
   },
   {
    "duration": 34,
    "start_time": "2022-05-18T15:43:48.453Z"
   },
   {
    "duration": 13,
    "start_time": "2022-05-18T15:43:48.489Z"
   },
   {
    "duration": 145,
    "start_time": "2022-05-18T15:43:48.503Z"
   },
   {
    "duration": 13,
    "start_time": "2022-05-18T15:43:48.649Z"
   },
   {
    "duration": 26,
    "start_time": "2022-05-18T15:43:48.663Z"
   },
   {
    "duration": 34,
    "start_time": "2022-05-18T15:43:48.691Z"
   },
   {
    "duration": 33,
    "start_time": "2022-05-18T15:43:48.727Z"
   },
   {
    "duration": 34,
    "start_time": "2022-05-18T15:43:48.762Z"
   },
   {
    "duration": 21,
    "start_time": "2022-05-18T15:43:48.797Z"
   },
   {
    "duration": 6,
    "start_time": "2022-05-18T15:43:48.821Z"
   },
   {
    "duration": 28,
    "start_time": "2022-05-18T15:43:48.829Z"
   },
   {
    "duration": 57,
    "start_time": "2022-05-18T15:43:48.859Z"
   },
   {
    "duration": 35,
    "start_time": "2022-05-18T15:43:48.918Z"
   },
   {
    "duration": 24,
    "start_time": "2022-05-18T15:43:48.955Z"
   },
   {
    "duration": 69,
    "start_time": "2022-05-18T15:43:48.981Z"
   },
   {
    "duration": 18,
    "start_time": "2022-05-18T15:43:49.051Z"
   },
   {
    "duration": 55,
    "start_time": "2022-05-18T15:43:49.071Z"
   },
   {
    "duration": 17,
    "start_time": "2022-05-18T15:43:49.128Z"
   },
   {
    "duration": 49,
    "start_time": "2022-05-18T15:43:49.147Z"
   },
   {
    "duration": 14,
    "start_time": "2022-05-18T15:43:49.198Z"
   },
   {
    "duration": 34,
    "start_time": "2022-05-18T15:43:49.213Z"
   },
   {
    "duration": 133,
    "start_time": "2022-05-18T15:43:49.248Z"
   },
   {
    "duration": 0,
    "start_time": "2022-05-18T15:43:49.383Z"
   },
   {
    "duration": 22,
    "start_time": "2022-05-18T15:44:02.268Z"
   },
   {
    "duration": 8,
    "start_time": "2022-05-18T15:44:03.788Z"
   },
   {
    "duration": 21,
    "start_time": "2022-05-18T15:47:43.495Z"
   },
   {
    "duration": 9,
    "start_time": "2022-05-18T15:47:44.511Z"
   },
   {
    "duration": 3,
    "start_time": "2022-05-18T15:47:54.237Z"
   },
   {
    "duration": 6,
    "start_time": "2022-05-18T15:47:54.241Z"
   },
   {
    "duration": 41,
    "start_time": "2022-05-18T15:47:54.248Z"
   },
   {
    "duration": 8,
    "start_time": "2022-05-18T15:47:54.291Z"
   },
   {
    "duration": 12,
    "start_time": "2022-05-18T15:47:54.301Z"
   },
   {
    "duration": 12,
    "start_time": "2022-05-18T15:47:54.315Z"
   },
   {
    "duration": 18,
    "start_time": "2022-05-18T15:47:54.328Z"
   },
   {
    "duration": 18,
    "start_time": "2022-05-18T15:47:54.348Z"
   },
   {
    "duration": 141,
    "start_time": "2022-05-18T15:47:54.368Z"
   },
   {
    "duration": 8,
    "start_time": "2022-05-18T15:47:54.511Z"
   },
   {
    "duration": 9,
    "start_time": "2022-05-18T15:47:54.521Z"
   },
   {
    "duration": 13,
    "start_time": "2022-05-18T15:47:54.532Z"
   },
   {
    "duration": 34,
    "start_time": "2022-05-18T15:47:54.546Z"
   },
   {
    "duration": 24,
    "start_time": "2022-05-18T15:47:54.581Z"
   },
   {
    "duration": 89,
    "start_time": "2022-05-18T15:47:54.607Z"
   },
   {
    "duration": 7,
    "start_time": "2022-05-18T15:47:54.698Z"
   },
   {
    "duration": 9,
    "start_time": "2022-05-18T15:47:54.706Z"
   },
   {
    "duration": 11,
    "start_time": "2022-05-18T15:47:54.717Z"
   },
   {
    "duration": 37,
    "start_time": "2022-05-18T15:47:54.729Z"
   },
   {
    "duration": 12,
    "start_time": "2022-05-18T15:47:54.767Z"
   },
   {
    "duration": 121,
    "start_time": "2022-05-18T15:47:54.780Z"
   },
   {
    "duration": 8,
    "start_time": "2022-05-18T15:47:54.903Z"
   },
   {
    "duration": 13,
    "start_time": "2022-05-18T15:47:54.913Z"
   },
   {
    "duration": 15,
    "start_time": "2022-05-18T15:47:54.927Z"
   },
   {
    "duration": 46,
    "start_time": "2022-05-18T15:47:54.943Z"
   },
   {
    "duration": 30,
    "start_time": "2022-05-18T15:47:54.991Z"
   },
   {
    "duration": 15,
    "start_time": "2022-05-18T15:47:55.022Z"
   },
   {
    "duration": 6,
    "start_time": "2022-05-18T15:47:55.041Z"
   },
   {
    "duration": 12,
    "start_time": "2022-05-18T15:47:55.058Z"
   },
   {
    "duration": 24,
    "start_time": "2022-05-18T15:47:55.072Z"
   },
   {
    "duration": 6,
    "start_time": "2022-05-18T15:47:55.098Z"
   },
   {
    "duration": 13,
    "start_time": "2022-05-18T15:47:55.105Z"
   },
   {
    "duration": 60,
    "start_time": "2022-05-18T15:47:55.119Z"
   },
   {
    "duration": 17,
    "start_time": "2022-05-18T15:47:55.180Z"
   },
   {
    "duration": 17,
    "start_time": "2022-05-18T15:47:55.198Z"
   },
   {
    "duration": 13,
    "start_time": "2022-05-18T15:47:55.216Z"
   },
   {
    "duration": 44,
    "start_time": "2022-05-18T15:47:55.230Z"
   },
   {
    "duration": 5,
    "start_time": "2022-05-18T15:47:55.275Z"
   },
   {
    "duration": 13,
    "start_time": "2022-05-18T15:47:55.282Z"
   },
   {
    "duration": 22,
    "start_time": "2022-05-18T15:47:55.296Z"
   },
   {
    "duration": 8,
    "start_time": "2022-05-18T15:47:55.319Z"
   },
   {
    "duration": 64,
    "start_time": "2022-05-18T16:05:55.450Z"
   },
   {
    "duration": 38,
    "start_time": "2022-05-18T16:06:06.899Z"
   },
   {
    "duration": 42,
    "start_time": "2022-05-18T16:06:38.036Z"
   },
   {
    "duration": 42,
    "start_time": "2022-05-18T16:06:56.548Z"
   },
   {
    "duration": 55,
    "start_time": "2022-05-18T16:10:37.854Z"
   },
   {
    "duration": 45,
    "start_time": "2022-05-18T16:11:20.687Z"
   },
   {
    "duration": 49,
    "start_time": "2022-05-18T16:11:29.855Z"
   },
   {
    "duration": 42,
    "start_time": "2022-05-18T16:11:35.798Z"
   },
   {
    "duration": 42,
    "start_time": "2022-05-18T16:11:45.119Z"
   },
   {
    "duration": 597,
    "start_time": "2022-05-18T16:16:08.417Z"
   },
   {
    "duration": 1166,
    "start_time": "2022-05-18T16:17:04.851Z"
   },
   {
    "duration": 2,
    "start_time": "2022-05-18T16:17:06.019Z"
   },
   {
    "duration": 55,
    "start_time": "2022-05-18T16:17:06.022Z"
   },
   {
    "duration": 14,
    "start_time": "2022-05-18T16:17:06.079Z"
   },
   {
    "duration": 27,
    "start_time": "2022-05-18T16:17:06.095Z"
   },
   {
    "duration": 23,
    "start_time": "2022-05-18T16:17:06.123Z"
   },
   {
    "duration": 26,
    "start_time": "2022-05-18T16:17:06.148Z"
   },
   {
    "duration": 27,
    "start_time": "2022-05-18T16:17:06.175Z"
   },
   {
    "duration": 158,
    "start_time": "2022-05-18T16:17:06.204Z"
   },
   {
    "duration": 8,
    "start_time": "2022-05-18T16:17:06.365Z"
   },
   {
    "duration": 20,
    "start_time": "2022-05-18T16:17:06.374Z"
   },
   {
    "duration": 25,
    "start_time": "2022-05-18T16:17:06.395Z"
   },
   {
    "duration": 24,
    "start_time": "2022-05-18T16:17:06.421Z"
   },
   {
    "duration": 36,
    "start_time": "2022-05-18T16:17:06.446Z"
   },
   {
    "duration": 93,
    "start_time": "2022-05-18T16:17:06.483Z"
   },
   {
    "duration": 7,
    "start_time": "2022-05-18T16:17:06.578Z"
   },
   {
    "duration": 44,
    "start_time": "2022-05-18T16:17:06.586Z"
   },
   {
    "duration": 23,
    "start_time": "2022-05-18T16:17:06.632Z"
   },
   {
    "duration": 34,
    "start_time": "2022-05-18T16:17:06.657Z"
   },
   {
    "duration": 28,
    "start_time": "2022-05-18T16:17:06.692Z"
   },
   {
    "duration": 146,
    "start_time": "2022-05-18T16:17:06.721Z"
   },
   {
    "duration": 9,
    "start_time": "2022-05-18T16:17:06.868Z"
   },
   {
    "duration": 18,
    "start_time": "2022-05-18T16:17:06.879Z"
   },
   {
    "duration": 27,
    "start_time": "2022-05-18T16:17:06.898Z"
   },
   {
    "duration": 29,
    "start_time": "2022-05-18T16:17:06.927Z"
   },
   {
    "duration": 27,
    "start_time": "2022-05-18T16:17:06.957Z"
   },
   {
    "duration": 14,
    "start_time": "2022-05-18T16:17:06.986Z"
   },
   {
    "duration": 22,
    "start_time": "2022-05-18T16:17:07.004Z"
   },
   {
    "duration": 19,
    "start_time": "2022-05-18T16:17:07.028Z"
   },
   {
    "duration": 49,
    "start_time": "2022-05-18T16:17:07.049Z"
   },
   {
    "duration": 25,
    "start_time": "2022-05-18T16:17:07.099Z"
   },
   {
    "duration": 21,
    "start_time": "2022-05-18T16:17:07.126Z"
   },
   {
    "duration": 67,
    "start_time": "2022-05-18T16:17:07.149Z"
   },
   {
    "duration": 19,
    "start_time": "2022-05-18T16:17:07.217Z"
   },
   {
    "duration": 39,
    "start_time": "2022-05-18T16:17:07.237Z"
   },
   {
    "duration": 23,
    "start_time": "2022-05-18T16:17:07.277Z"
   },
   {
    "duration": 24,
    "start_time": "2022-05-18T16:17:07.301Z"
   },
   {
    "duration": 6,
    "start_time": "2022-05-18T16:17:07.326Z"
   },
   {
    "duration": 11,
    "start_time": "2022-05-18T16:17:07.333Z"
   },
   {
    "duration": 59,
    "start_time": "2022-05-18T16:17:07.346Z"
   },
   {
    "duration": 4,
    "start_time": "2022-05-18T16:32:26.638Z"
   },
   {
    "duration": 9,
    "start_time": "2022-05-18T16:32:35.718Z"
   },
   {
    "duration": 14,
    "start_time": "2022-05-18T16:32:53.310Z"
   },
   {
    "duration": 8,
    "start_time": "2022-05-18T16:32:54.297Z"
   },
   {
    "duration": 109,
    "start_time": "2022-05-18T16:51:24.427Z"
   },
   {
    "duration": 24,
    "start_time": "2022-05-18T16:51:58.739Z"
   },
   {
    "duration": 13,
    "start_time": "2022-05-18T16:53:02.427Z"
   },
   {
    "duration": 26,
    "start_time": "2022-05-18T16:53:05.963Z"
   },
   {
    "duration": 28,
    "start_time": "2022-05-18T16:53:16.452Z"
   },
   {
    "duration": 23,
    "start_time": "2022-05-18T16:53:41.036Z"
   },
   {
    "duration": 27,
    "start_time": "2022-05-18T16:54:07.742Z"
   },
   {
    "duration": 27,
    "start_time": "2022-05-18T16:54:20.943Z"
   },
   {
    "duration": 28,
    "start_time": "2022-05-18T16:54:36.564Z"
   },
   {
    "duration": 28,
    "start_time": "2022-05-18T16:54:42.700Z"
   },
   {
    "duration": 28,
    "start_time": "2022-05-18T16:54:55.620Z"
   },
   {
    "duration": 45,
    "start_time": "2022-05-18T16:55:05.212Z"
   },
   {
    "duration": 48,
    "start_time": "2022-05-18T16:55:08.900Z"
   },
   {
    "duration": 18,
    "start_time": "2022-05-18T17:02:20.072Z"
   },
   {
    "duration": 21,
    "start_time": "2022-05-18T17:02:34.513Z"
   },
   {
    "duration": 16,
    "start_time": "2022-05-18T17:02:41.225Z"
   },
   {
    "duration": 30,
    "start_time": "2022-05-18T17:04:01.697Z"
   },
   {
    "duration": 42,
    "start_time": "2022-05-18T17:06:48.948Z"
   },
   {
    "duration": 70,
    "start_time": "2022-05-18T17:06:54.643Z"
   },
   {
    "duration": 31,
    "start_time": "2022-05-18T17:07:19.689Z"
   },
   {
    "duration": 35,
    "start_time": "2022-05-18T17:11:06.551Z"
   },
   {
    "duration": 38,
    "start_time": "2022-05-18T17:12:14.519Z"
   },
   {
    "duration": 38,
    "start_time": "2022-05-18T17:13:32.360Z"
   },
   {
    "duration": 63,
    "start_time": "2022-05-20T11:52:31.647Z"
   },
   {
    "duration": 1530,
    "start_time": "2022-05-20T11:53:29.757Z"
   },
   {
    "duration": 3,
    "start_time": "2022-05-20T11:53:31.288Z"
   },
   {
    "duration": 124,
    "start_time": "2022-05-20T11:53:31.292Z"
   },
   {
    "duration": 13,
    "start_time": "2022-05-20T11:53:31.418Z"
   },
   {
    "duration": 59,
    "start_time": "2022-05-20T11:53:31.432Z"
   },
   {
    "duration": 30,
    "start_time": "2022-05-20T11:53:31.492Z"
   },
   {
    "duration": 15,
    "start_time": "2022-05-20T11:53:31.523Z"
   },
   {
    "duration": 22,
    "start_time": "2022-05-20T11:53:31.539Z"
   },
   {
    "duration": 533,
    "start_time": "2022-05-20T11:53:31.562Z"
   },
   {
    "duration": 8,
    "start_time": "2022-05-20T11:53:32.098Z"
   },
   {
    "duration": 47,
    "start_time": "2022-05-20T11:53:32.108Z"
   },
   {
    "duration": 38,
    "start_time": "2022-05-20T11:53:32.157Z"
   },
   {
    "duration": 22,
    "start_time": "2022-05-20T11:53:32.197Z"
   },
   {
    "duration": 23,
    "start_time": "2022-05-20T11:53:32.221Z"
   },
   {
    "duration": 274,
    "start_time": "2022-05-20T11:53:32.246Z"
   },
   {
    "duration": 7,
    "start_time": "2022-05-20T11:53:32.522Z"
   },
   {
    "duration": 20,
    "start_time": "2022-05-20T11:53:32.531Z"
   },
   {
    "duration": 24,
    "start_time": "2022-05-20T11:53:32.553Z"
   },
   {
    "duration": 22,
    "start_time": "2022-05-20T11:53:32.579Z"
   },
   {
    "duration": 17,
    "start_time": "2022-05-20T11:53:32.603Z"
   },
   {
    "duration": 395,
    "start_time": "2022-05-20T11:53:32.621Z"
   },
   {
    "duration": 8,
    "start_time": "2022-05-20T11:53:33.018Z"
   },
   {
    "duration": 24,
    "start_time": "2022-05-20T11:53:33.027Z"
   },
   {
    "duration": 18,
    "start_time": "2022-05-20T11:53:33.052Z"
   },
   {
    "duration": 21,
    "start_time": "2022-05-20T11:53:33.071Z"
   },
   {
    "duration": 25,
    "start_time": "2022-05-20T11:53:33.093Z"
   },
   {
    "duration": 69,
    "start_time": "2022-05-20T11:53:33.119Z"
   },
   {
    "duration": 7,
    "start_time": "2022-05-20T11:53:33.191Z"
   },
   {
    "duration": 23,
    "start_time": "2022-05-20T11:53:33.199Z"
   },
   {
    "duration": 25,
    "start_time": "2022-05-20T11:53:33.224Z"
   },
   {
    "duration": 8,
    "start_time": "2022-05-20T11:53:33.250Z"
   },
   {
    "duration": 13,
    "start_time": "2022-05-20T11:53:33.259Z"
   },
   {
    "duration": 53,
    "start_time": "2022-05-20T11:53:33.273Z"
   },
   {
    "duration": 16,
    "start_time": "2022-05-20T11:53:33.327Z"
   },
   {
    "duration": 18,
    "start_time": "2022-05-20T11:53:33.360Z"
   },
   {
    "duration": 16,
    "start_time": "2022-05-20T11:53:33.379Z"
   },
   {
    "duration": 21,
    "start_time": "2022-05-20T11:53:33.396Z"
   },
   {
    "duration": 5,
    "start_time": "2022-05-20T11:53:33.418Z"
   },
   {
    "duration": 36,
    "start_time": "2022-05-20T11:53:33.425Z"
   },
   {
    "duration": 56,
    "start_time": "2022-05-20T11:53:33.463Z"
   },
   {
    "duration": 47,
    "start_time": "2022-05-20T11:53:33.520Z"
   },
   {
    "duration": 34,
    "start_time": "2022-05-20T11:53:33.568Z"
   },
   {
    "duration": 109,
    "start_time": "2022-05-20T11:53:33.603Z"
   },
   {
    "duration": 15,
    "start_time": "2022-05-20T11:53:42.149Z"
   },
   {
    "duration": 15,
    "start_time": "2022-05-20T11:55:14.335Z"
   },
   {
    "duration": 13,
    "start_time": "2022-05-20T11:55:33.943Z"
   },
   {
    "duration": 11,
    "start_time": "2022-05-20T11:55:34.934Z"
   },
   {
    "duration": 38,
    "start_time": "2022-05-20T11:56:00.318Z"
   },
   {
    "duration": 19,
    "start_time": "2022-05-20T11:56:07.687Z"
   },
   {
    "duration": 11,
    "start_time": "2022-05-20T11:56:08.648Z"
   },
   {
    "duration": 20,
    "start_time": "2022-05-20T11:56:48.343Z"
   },
   {
    "duration": 10,
    "start_time": "2022-05-20T11:56:53.207Z"
   },
   {
    "duration": 21,
    "start_time": "2022-05-20T11:57:23.672Z"
   },
   {
    "duration": 10,
    "start_time": "2022-05-20T11:57:24.760Z"
   },
   {
    "duration": 20,
    "start_time": "2022-05-20T11:57:37.200Z"
   },
   {
    "duration": 13,
    "start_time": "2022-05-20T11:57:38.319Z"
   },
   {
    "duration": 20,
    "start_time": "2022-05-20T12:03:37.482Z"
   },
   {
    "duration": 11,
    "start_time": "2022-05-20T12:03:38.810Z"
   },
   {
    "duration": 22,
    "start_time": "2022-05-20T12:03:40.889Z"
   },
   {
    "duration": 12,
    "start_time": "2022-05-20T12:03:41.825Z"
   },
   {
    "duration": 2,
    "start_time": "2022-05-20T12:04:19.923Z"
   },
   {
    "duration": 6,
    "start_time": "2022-05-20T12:04:19.927Z"
   },
   {
    "duration": 40,
    "start_time": "2022-05-20T12:04:19.935Z"
   },
   {
    "duration": 10,
    "start_time": "2022-05-20T12:04:19.976Z"
   },
   {
    "duration": 11,
    "start_time": "2022-05-20T12:04:19.988Z"
   },
   {
    "duration": 12,
    "start_time": "2022-05-20T12:04:20.001Z"
   },
   {
    "duration": 16,
    "start_time": "2022-05-20T12:04:20.014Z"
   },
   {
    "duration": 35,
    "start_time": "2022-05-20T12:04:20.031Z"
   },
   {
    "duration": 149,
    "start_time": "2022-05-20T12:04:20.068Z"
   },
   {
    "duration": 8,
    "start_time": "2022-05-20T12:04:20.219Z"
   },
   {
    "duration": 12,
    "start_time": "2022-05-20T12:04:20.229Z"
   },
   {
    "duration": 23,
    "start_time": "2022-05-20T12:04:20.242Z"
   },
   {
    "duration": 25,
    "start_time": "2022-05-20T12:04:20.266Z"
   },
   {
    "duration": 27,
    "start_time": "2022-05-20T12:04:20.292Z"
   },
   {
    "duration": 94,
    "start_time": "2022-05-20T12:04:20.320Z"
   },
   {
    "duration": 7,
    "start_time": "2022-05-20T12:04:20.415Z"
   },
   {
    "duration": 9,
    "start_time": "2022-05-20T12:04:20.423Z"
   },
   {
    "duration": 27,
    "start_time": "2022-05-20T12:04:20.433Z"
   },
   {
    "duration": 19,
    "start_time": "2022-05-20T12:04:20.462Z"
   },
   {
    "duration": 15,
    "start_time": "2022-05-20T12:04:20.483Z"
   },
   {
    "duration": 131,
    "start_time": "2022-05-20T12:04:20.499Z"
   },
   {
    "duration": 8,
    "start_time": "2022-05-20T12:04:20.631Z"
   },
   {
    "duration": 22,
    "start_time": "2022-05-20T12:04:20.641Z"
   },
   {
    "duration": 14,
    "start_time": "2022-05-20T12:04:20.664Z"
   },
   {
    "duration": 35,
    "start_time": "2022-05-20T12:04:20.679Z"
   },
   {
    "duration": 25,
    "start_time": "2022-05-20T12:04:20.715Z"
   },
   {
    "duration": 18,
    "start_time": "2022-05-20T12:04:20.741Z"
   },
   {
    "duration": 9,
    "start_time": "2022-05-20T12:04:20.761Z"
   },
   {
    "duration": 21,
    "start_time": "2022-05-20T12:04:20.773Z"
   },
   {
    "duration": 28,
    "start_time": "2022-05-20T12:04:20.796Z"
   },
   {
    "duration": 18,
    "start_time": "2022-05-20T12:04:20.826Z"
   },
   {
    "duration": 19,
    "start_time": "2022-05-20T12:04:20.846Z"
   },
   {
    "duration": 63,
    "start_time": "2022-05-20T12:04:20.867Z"
   },
   {
    "duration": 23,
    "start_time": "2022-05-20T12:04:20.931Z"
   },
   {
    "duration": 29,
    "start_time": "2022-05-20T12:04:20.956Z"
   },
   {
    "duration": 23,
    "start_time": "2022-05-20T12:04:20.986Z"
   },
   {
    "duration": 33,
    "start_time": "2022-05-20T12:04:21.011Z"
   },
   {
    "duration": 14,
    "start_time": "2022-05-20T12:04:21.046Z"
   },
   {
    "duration": 32,
    "start_time": "2022-05-20T12:04:21.062Z"
   },
   {
    "duration": 60,
    "start_time": "2022-05-20T12:04:21.095Z"
   },
   {
    "duration": 29,
    "start_time": "2022-05-20T12:04:21.157Z"
   },
   {
    "duration": 30,
    "start_time": "2022-05-20T12:04:21.188Z"
   },
   {
    "duration": 40,
    "start_time": "2022-05-20T12:04:21.220Z"
   },
   {
    "duration": 10,
    "start_time": "2022-05-20T12:04:21.261Z"
   },
   {
    "duration": 54,
    "start_time": "2022-05-20T12:06:42.819Z"
   },
   {
    "duration": 4,
    "start_time": "2022-05-20T12:31:40.765Z"
   },
   {
    "duration": 24,
    "start_time": "2022-05-20T12:31:47.881Z"
   },
   {
    "duration": 19,
    "start_time": "2022-05-20T12:32:45.382Z"
   },
   {
    "duration": 10,
    "start_time": "2022-05-20T12:32:53.062Z"
   },
   {
    "duration": 83,
    "start_time": "2022-05-20T12:33:12.319Z"
   },
   {
    "duration": 11,
    "start_time": "2022-05-20T12:33:13.165Z"
   },
   {
    "duration": 21,
    "start_time": "2022-05-20T12:33:33.198Z"
   },
   {
    "duration": 10,
    "start_time": "2022-05-20T12:33:34.166Z"
   },
   {
    "duration": 43,
    "start_time": "2022-05-20T12:38:38.321Z"
   },
   {
    "duration": 30,
    "start_time": "2022-05-20T12:39:01.058Z"
   },
   {
    "duration": 32,
    "start_time": "2022-05-20T12:39:56.250Z"
   },
   {
    "duration": 22,
    "start_time": "2022-05-20T12:42:27.219Z"
   },
   {
    "duration": 10,
    "start_time": "2022-05-20T12:42:45.515Z"
   },
   {
    "duration": 27,
    "start_time": "2022-05-20T12:43:38.444Z"
   },
   {
    "duration": 40,
    "start_time": "2022-05-20T12:47:57.310Z"
   },
   {
    "duration": 87,
    "start_time": "2022-05-20T12:48:04.575Z"
   },
   {
    "duration": 12,
    "start_time": "2022-05-20T12:48:05.598Z"
   },
   {
    "duration": 21,
    "start_time": "2022-05-20T12:48:24.133Z"
   },
   {
    "duration": 11,
    "start_time": "2022-05-20T12:48:25.438Z"
   },
   {
    "duration": 21,
    "start_time": "2022-05-20T12:48:45.502Z"
   },
   {
    "duration": 29,
    "start_time": "2022-05-20T12:48:50.351Z"
   },
   {
    "duration": 25,
    "start_time": "2022-05-20T12:49:05.655Z"
   },
   {
    "duration": 11,
    "start_time": "2022-05-20T12:49:06.846Z"
   },
   {
    "duration": 23,
    "start_time": "2022-05-20T12:50:42.191Z"
   },
   {
    "duration": 11,
    "start_time": "2022-05-20T12:50:43.247Z"
   },
   {
    "duration": 16,
    "start_time": "2022-05-20T12:51:00.552Z"
   },
   {
    "duration": 28,
    "start_time": "2022-05-20T12:52:07.809Z"
   },
   {
    "duration": 16,
    "start_time": "2022-05-20T12:52:09.528Z"
   },
   {
    "duration": 5,
    "start_time": "2022-05-20T12:56:00.754Z"
   },
   {
    "duration": 15,
    "start_time": "2022-05-20T12:56:09.442Z"
   },
   {
    "duration": 6,
    "start_time": "2022-05-20T12:56:42.026Z"
   },
   {
    "duration": 16,
    "start_time": "2022-05-20T12:56:43.067Z"
   },
   {
    "duration": 8,
    "start_time": "2022-05-20T13:00:15.341Z"
   },
   {
    "duration": 11,
    "start_time": "2022-05-20T13:00:30.925Z"
   },
   {
    "duration": 5,
    "start_time": "2022-05-20T13:00:39.324Z"
   },
   {
    "duration": 10,
    "start_time": "2022-05-20T13:00:40.140Z"
   },
   {
    "duration": 6,
    "start_time": "2022-05-20T13:00:57.901Z"
   },
   {
    "duration": 12,
    "start_time": "2022-05-20T13:00:58.812Z"
   },
   {
    "duration": 9,
    "start_time": "2022-05-20T13:01:54.693Z"
   },
   {
    "duration": 5,
    "start_time": "2022-05-20T13:02:43.469Z"
   },
   {
    "duration": 19,
    "start_time": "2022-05-20T13:02:58.022Z"
   },
   {
    "duration": 22,
    "start_time": "2022-05-20T13:06:12.920Z"
   },
   {
    "duration": 13,
    "start_time": "2022-05-20T13:07:47.081Z"
   },
   {
    "duration": 11,
    "start_time": "2022-05-20T13:08:15.872Z"
   },
   {
    "duration": 12,
    "start_time": "2022-05-20T13:08:42.439Z"
   },
   {
    "duration": 85,
    "start_time": "2022-05-20T13:21:21.468Z"
   },
   {
    "duration": 23,
    "start_time": "2022-05-20T13:21:24.236Z"
   },
   {
    "duration": 13,
    "start_time": "2022-05-20T13:21:38.069Z"
   },
   {
    "duration": 11,
    "start_time": "2022-05-20T13:39:46.717Z"
   },
   {
    "duration": 18,
    "start_time": "2022-05-20T13:43:13.137Z"
   },
   {
    "duration": 3,
    "start_time": "2022-05-20T14:54:11.011Z"
   },
   {
    "duration": 8,
    "start_time": "2022-05-20T14:54:29.587Z"
   },
   {
    "duration": 8,
    "start_time": "2022-05-20T14:54:38.732Z"
   },
   {
    "duration": 9,
    "start_time": "2022-05-20T14:54:41.684Z"
   },
   {
    "duration": 7,
    "start_time": "2022-05-20T14:54:44.098Z"
   },
   {
    "duration": 7,
    "start_time": "2022-05-20T14:54:46.099Z"
   },
   {
    "duration": 7,
    "start_time": "2022-05-20T14:54:47.354Z"
   },
   {
    "duration": 8,
    "start_time": "2022-05-20T14:54:48.386Z"
   },
   {
    "duration": 7,
    "start_time": "2022-05-20T14:54:49.754Z"
   },
   {
    "duration": 8,
    "start_time": "2022-05-20T14:54:50.755Z"
   },
   {
    "duration": 10,
    "start_time": "2022-05-20T14:54:51.714Z"
   },
   {
    "duration": 3,
    "start_time": "2022-05-20T14:54:56.820Z"
   },
   {
    "duration": 27,
    "start_time": "2022-05-20T14:54:56.825Z"
   },
   {
    "duration": 61,
    "start_time": "2022-05-20T14:54:56.854Z"
   },
   {
    "duration": 9,
    "start_time": "2022-05-20T14:54:56.918Z"
   },
   {
    "duration": 15,
    "start_time": "2022-05-20T14:54:56.929Z"
   },
   {
    "duration": 20,
    "start_time": "2022-05-20T14:54:56.946Z"
   },
   {
    "duration": 18,
    "start_time": "2022-05-20T14:54:56.968Z"
   },
   {
    "duration": 28,
    "start_time": "2022-05-20T14:54:56.988Z"
   },
   {
    "duration": 150,
    "start_time": "2022-05-20T14:54:57.019Z"
   },
   {
    "duration": 8,
    "start_time": "2022-05-20T14:54:57.171Z"
   },
   {
    "duration": 23,
    "start_time": "2022-05-20T14:54:57.180Z"
   },
   {
    "duration": 27,
    "start_time": "2022-05-20T14:54:57.204Z"
   },
   {
    "duration": 36,
    "start_time": "2022-05-20T14:54:57.232Z"
   },
   {
    "duration": 37,
    "start_time": "2022-05-20T14:54:57.269Z"
   },
   {
    "duration": 84,
    "start_time": "2022-05-20T14:54:57.307Z"
   },
   {
    "duration": 7,
    "start_time": "2022-05-20T14:54:57.393Z"
   },
   {
    "duration": 11,
    "start_time": "2022-05-20T14:54:57.402Z"
   },
   {
    "duration": 16,
    "start_time": "2022-05-20T14:54:57.415Z"
   },
   {
    "duration": 45,
    "start_time": "2022-05-20T14:54:57.433Z"
   },
   {
    "duration": 18,
    "start_time": "2022-05-20T14:54:57.480Z"
   },
   {
    "duration": 150,
    "start_time": "2022-05-20T14:54:57.500Z"
   },
   {
    "duration": 12,
    "start_time": "2022-05-20T14:54:57.652Z"
   },
   {
    "duration": 10,
    "start_time": "2022-05-20T14:54:57.666Z"
   },
   {
    "duration": 10,
    "start_time": "2022-05-20T14:54:57.679Z"
   },
   {
    "duration": 24,
    "start_time": "2022-05-20T14:54:57.691Z"
   },
   {
    "duration": 57,
    "start_time": "2022-05-20T14:54:57.716Z"
   },
   {
    "duration": 15,
    "start_time": "2022-05-20T14:54:57.775Z"
   },
   {
    "duration": 11,
    "start_time": "2022-05-20T14:54:57.792Z"
   },
   {
    "duration": 22,
    "start_time": "2022-05-20T14:54:57.804Z"
   },
   {
    "duration": 48,
    "start_time": "2022-05-20T14:54:57.828Z"
   },
   {
    "duration": 19,
    "start_time": "2022-05-20T14:54:57.878Z"
   },
   {
    "duration": 17,
    "start_time": "2022-05-20T14:54:57.899Z"
   },
   {
    "duration": 60,
    "start_time": "2022-05-20T14:54:57.918Z"
   },
   {
    "duration": 22,
    "start_time": "2022-05-20T14:54:57.980Z"
   },
   {
    "duration": 35,
    "start_time": "2022-05-20T14:54:58.004Z"
   },
   {
    "duration": 27,
    "start_time": "2022-05-20T14:54:58.041Z"
   },
   {
    "duration": 36,
    "start_time": "2022-05-20T14:54:58.069Z"
   },
   {
    "duration": 7,
    "start_time": "2022-05-20T14:54:58.106Z"
   },
   {
    "duration": 21,
    "start_time": "2022-05-20T14:54:58.115Z"
   },
   {
    "duration": 56,
    "start_time": "2022-05-20T14:54:58.138Z"
   },
   {
    "duration": 27,
    "start_time": "2022-05-20T14:54:58.196Z"
   },
   {
    "duration": 48,
    "start_time": "2022-05-20T14:54:58.225Z"
   },
   {
    "duration": 24,
    "start_time": "2022-05-20T14:54:58.275Z"
   },
   {
    "duration": 8,
    "start_time": "2022-05-20T14:54:58.300Z"
   },
   {
    "duration": 50,
    "start_time": "2022-05-20T14:54:58.309Z"
   },
   {
    "duration": 35,
    "start_time": "2022-05-20T14:54:58.361Z"
   },
   {
    "duration": 0,
    "start_time": "2022-05-20T14:54:58.398Z"
   },
   {
    "duration": 0,
    "start_time": "2022-05-20T14:54:58.399Z"
   },
   {
    "duration": 14,
    "start_time": "2022-05-20T14:55:22.460Z"
   },
   {
    "duration": 11,
    "start_time": "2022-05-20T14:55:27.188Z"
   },
   {
    "duration": 11,
    "start_time": "2022-05-20T14:56:09.405Z"
   },
   {
    "duration": 4,
    "start_time": "2022-05-20T14:57:04.725Z"
   },
   {
    "duration": 6,
    "start_time": "2022-05-20T14:57:05.997Z"
   },
   {
    "duration": 4,
    "start_time": "2022-05-20T14:57:11.209Z"
   },
   {
    "duration": 34,
    "start_time": "2022-05-20T14:57:11.214Z"
   },
   {
    "duration": 69,
    "start_time": "2022-05-20T14:57:11.250Z"
   },
   {
    "duration": 10,
    "start_time": "2022-05-20T14:57:11.321Z"
   },
   {
    "duration": 26,
    "start_time": "2022-05-20T14:57:11.332Z"
   },
   {
    "duration": 37,
    "start_time": "2022-05-20T14:57:11.359Z"
   },
   {
    "duration": 38,
    "start_time": "2022-05-20T14:57:11.397Z"
   },
   {
    "duration": 29,
    "start_time": "2022-05-20T14:57:11.436Z"
   },
   {
    "duration": 167,
    "start_time": "2022-05-20T14:57:11.467Z"
   },
   {
    "duration": 7,
    "start_time": "2022-05-20T14:57:11.636Z"
   },
   {
    "duration": 19,
    "start_time": "2022-05-20T14:57:11.644Z"
   },
   {
    "duration": 16,
    "start_time": "2022-05-20T14:57:11.665Z"
   },
   {
    "duration": 37,
    "start_time": "2022-05-20T14:57:11.683Z"
   },
   {
    "duration": 23,
    "start_time": "2022-05-20T14:57:11.722Z"
   },
   {
    "duration": 79,
    "start_time": "2022-05-20T14:57:11.747Z"
   },
   {
    "duration": 6,
    "start_time": "2022-05-20T14:57:11.827Z"
   },
   {
    "duration": 32,
    "start_time": "2022-05-20T14:57:11.835Z"
   },
   {
    "duration": 17,
    "start_time": "2022-05-20T14:57:11.869Z"
   },
   {
    "duration": 19,
    "start_time": "2022-05-20T14:57:11.888Z"
   },
   {
    "duration": 11,
    "start_time": "2022-05-20T14:57:11.908Z"
   },
   {
    "duration": 129,
    "start_time": "2022-05-20T14:57:11.921Z"
   },
   {
    "duration": 15,
    "start_time": "2022-05-20T14:57:12.052Z"
   },
   {
    "duration": 28,
    "start_time": "2022-05-20T14:57:12.069Z"
   },
   {
    "duration": 10,
    "start_time": "2022-05-20T14:57:12.101Z"
   },
   {
    "duration": 18,
    "start_time": "2022-05-20T14:57:12.112Z"
   },
   {
    "duration": 39,
    "start_time": "2022-05-20T14:57:12.131Z"
   },
   {
    "duration": 15,
    "start_time": "2022-05-20T14:57:12.173Z"
   },
   {
    "duration": 7,
    "start_time": "2022-05-20T14:57:12.189Z"
   },
   {
    "duration": 12,
    "start_time": "2022-05-20T14:57:12.198Z"
   },
   {
    "duration": 24,
    "start_time": "2022-05-20T14:57:12.212Z"
   },
   {
    "duration": 24,
    "start_time": "2022-05-20T14:57:12.238Z"
   },
   {
    "duration": 22,
    "start_time": "2022-05-20T14:57:12.264Z"
   },
   {
    "duration": 72,
    "start_time": "2022-05-20T14:57:12.288Z"
   },
   {
    "duration": 19,
    "start_time": "2022-05-20T14:57:12.362Z"
   },
   {
    "duration": 23,
    "start_time": "2022-05-20T14:57:12.382Z"
   },
   {
    "duration": 14,
    "start_time": "2022-05-20T14:57:12.406Z"
   },
   {
    "duration": 49,
    "start_time": "2022-05-20T14:57:12.422Z"
   },
   {
    "duration": 6,
    "start_time": "2022-05-20T14:57:12.472Z"
   },
   {
    "duration": 10,
    "start_time": "2022-05-20T14:57:12.479Z"
   },
   {
    "duration": 44,
    "start_time": "2022-05-20T14:57:12.491Z"
   },
   {
    "duration": 47,
    "start_time": "2022-05-20T14:57:12.538Z"
   },
   {
    "duration": 32,
    "start_time": "2022-05-20T14:57:12.587Z"
   },
   {
    "duration": 46,
    "start_time": "2022-05-20T14:57:12.620Z"
   },
   {
    "duration": 2,
    "start_time": "2022-05-20T14:57:12.668Z"
   },
   {
    "duration": 10,
    "start_time": "2022-05-20T14:57:12.671Z"
   },
   {
    "duration": 13,
    "start_time": "2022-05-20T14:57:12.683Z"
   },
   {
    "duration": 0,
    "start_time": "2022-05-20T14:57:12.698Z"
   },
   {
    "duration": 0,
    "start_time": "2022-05-20T14:57:12.698Z"
   },
   {
    "duration": 12,
    "start_time": "2022-05-20T14:59:19.327Z"
   },
   {
    "duration": 22,
    "start_time": "2022-05-20T14:59:22.376Z"
   },
   {
    "duration": 11,
    "start_time": "2022-05-20T14:59:23.895Z"
   },
   {
    "duration": 20,
    "start_time": "2022-05-20T15:00:03.545Z"
   },
   {
    "duration": 7,
    "start_time": "2022-05-20T15:00:33.440Z"
   },
   {
    "duration": 14,
    "start_time": "2022-05-20T15:01:11.873Z"
   },
   {
    "duration": 12,
    "start_time": "2022-05-20T15:13:26.956Z"
   },
   {
    "duration": 11,
    "start_time": "2022-05-20T15:13:33.036Z"
   },
   {
    "duration": 12,
    "start_time": "2022-05-20T15:14:04.085Z"
   },
   {
    "duration": 13,
    "start_time": "2022-05-20T15:14:36.092Z"
   },
   {
    "duration": 8,
    "start_time": "2022-05-20T15:14:56.188Z"
   },
   {
    "duration": 10,
    "start_time": "2022-05-20T15:15:26.837Z"
   },
   {
    "duration": 22,
    "start_time": "2022-05-20T15:15:46.982Z"
   },
   {
    "duration": 12,
    "start_time": "2022-05-20T15:15:59.542Z"
   },
   {
    "duration": 10,
    "start_time": "2022-05-20T15:16:17.558Z"
   },
   {
    "duration": 12,
    "start_time": "2022-05-20T15:17:16.263Z"
   },
   {
    "duration": 11,
    "start_time": "2022-05-20T15:20:14.681Z"
   },
   {
    "duration": 7,
    "start_time": "2022-05-20T15:20:28.697Z"
   },
   {
    "duration": 8,
    "start_time": "2022-05-20T15:20:32.658Z"
   },
   {
    "duration": 7,
    "start_time": "2022-05-20T15:20:36.793Z"
   },
   {
    "duration": 12,
    "start_time": "2022-05-20T15:20:39.665Z"
   },
   {
    "duration": 43,
    "start_time": "2022-05-20T15:20:44.848Z"
   },
   {
    "duration": 12,
    "start_time": "2022-05-20T15:20:48.113Z"
   },
   {
    "duration": 12,
    "start_time": "2022-05-20T15:21:53.610Z"
   },
   {
    "duration": 11,
    "start_time": "2022-05-20T15:22:39.260Z"
   },
   {
    "duration": 8,
    "start_time": "2022-05-20T15:23:23.612Z"
   },
   {
    "duration": 23,
    "start_time": "2022-05-20T15:24:45.324Z"
   },
   {
    "duration": 48,
    "start_time": "2022-05-20T15:24:47.148Z"
   },
   {
    "duration": 9,
    "start_time": "2022-05-20T15:24:54.636Z"
   },
   {
    "duration": 3,
    "start_time": "2022-05-20T15:25:04.633Z"
   },
   {
    "duration": 30,
    "start_time": "2022-05-20T15:25:04.639Z"
   },
   {
    "duration": 65,
    "start_time": "2022-05-20T15:25:04.671Z"
   },
   {
    "duration": 14,
    "start_time": "2022-05-20T15:25:04.739Z"
   },
   {
    "duration": 21,
    "start_time": "2022-05-20T15:25:04.754Z"
   },
   {
    "duration": 17,
    "start_time": "2022-05-20T15:25:04.777Z"
   },
   {
    "duration": 30,
    "start_time": "2022-05-20T15:25:04.796Z"
   },
   {
    "duration": 17,
    "start_time": "2022-05-20T15:25:04.828Z"
   },
   {
    "duration": 178,
    "start_time": "2022-05-20T15:25:04.847Z"
   },
   {
    "duration": 9,
    "start_time": "2022-05-20T15:25:05.027Z"
   },
   {
    "duration": 11,
    "start_time": "2022-05-20T15:25:05.037Z"
   },
   {
    "duration": 15,
    "start_time": "2022-05-20T15:25:05.060Z"
   },
   {
    "duration": 27,
    "start_time": "2022-05-20T15:25:05.077Z"
   },
   {
    "duration": 55,
    "start_time": "2022-05-20T15:25:05.106Z"
   },
   {
    "duration": 91,
    "start_time": "2022-05-20T15:25:05.162Z"
   },
   {
    "duration": 6,
    "start_time": "2022-05-20T15:25:05.255Z"
   },
   {
    "duration": 14,
    "start_time": "2022-05-20T15:25:05.263Z"
   },
   {
    "duration": 27,
    "start_time": "2022-05-20T15:25:05.278Z"
   },
   {
    "duration": 24,
    "start_time": "2022-05-20T15:25:05.306Z"
   },
   {
    "duration": 16,
    "start_time": "2022-05-20T15:25:05.332Z"
   },
   {
    "duration": 135,
    "start_time": "2022-05-20T15:25:05.349Z"
   },
   {
    "duration": 7,
    "start_time": "2022-05-20T15:25:05.486Z"
   },
   {
    "duration": 13,
    "start_time": "2022-05-20T15:25:05.495Z"
   },
   {
    "duration": 16,
    "start_time": "2022-05-20T15:25:05.509Z"
   },
   {
    "duration": 42,
    "start_time": "2022-05-20T15:25:05.526Z"
   },
   {
    "duration": 27,
    "start_time": "2022-05-20T15:25:05.569Z"
   },
   {
    "duration": 16,
    "start_time": "2022-05-20T15:25:05.597Z"
   },
   {
    "duration": 7,
    "start_time": "2022-05-20T15:25:05.616Z"
   },
   {
    "duration": 21,
    "start_time": "2022-05-20T15:25:05.624Z"
   },
   {
    "duration": 28,
    "start_time": "2022-05-20T15:25:05.659Z"
   },
   {
    "duration": 11,
    "start_time": "2022-05-20T15:25:05.688Z"
   },
   {
    "duration": 20,
    "start_time": "2022-05-20T15:25:05.700Z"
   },
   {
    "duration": 56,
    "start_time": "2022-05-20T15:25:05.722Z"
   },
   {
    "duration": 18,
    "start_time": "2022-05-20T15:25:05.780Z"
   },
   {
    "duration": 27,
    "start_time": "2022-05-20T15:25:05.799Z"
   },
   {
    "duration": 36,
    "start_time": "2022-05-20T15:25:05.828Z"
   },
   {
    "duration": 27,
    "start_time": "2022-05-20T15:25:05.866Z"
   },
   {
    "duration": 5,
    "start_time": "2022-05-20T15:25:05.895Z"
   },
   {
    "duration": 19,
    "start_time": "2022-05-20T15:25:05.902Z"
   },
   {
    "duration": 67,
    "start_time": "2022-05-20T15:25:05.923Z"
   },
   {
    "duration": 30,
    "start_time": "2022-05-20T15:25:05.991Z"
   },
   {
    "duration": 54,
    "start_time": "2022-05-20T15:25:06.023Z"
   },
   {
    "duration": 26,
    "start_time": "2022-05-20T15:25:06.078Z"
   },
   {
    "duration": 8,
    "start_time": "2022-05-20T15:25:06.106Z"
   },
   {
    "duration": 0,
    "start_time": "2022-05-20T15:25:06.115Z"
   },
   {
    "duration": 0,
    "start_time": "2022-05-20T15:25:06.116Z"
   },
   {
    "duration": 17,
    "start_time": "2022-05-20T15:25:24.212Z"
   },
   {
    "duration": 9,
    "start_time": "2022-05-20T15:26:53.750Z"
   },
   {
    "duration": 9,
    "start_time": "2022-05-20T15:27:13.686Z"
   },
   {
    "duration": 35,
    "start_time": "2022-05-20T15:27:19.965Z"
   },
   {
    "duration": 41,
    "start_time": "2022-05-20T15:28:03.863Z"
   },
   {
    "duration": 41,
    "start_time": "2022-05-20T15:30:20.064Z"
   },
   {
    "duration": 15,
    "start_time": "2022-05-20T15:32:24.297Z"
   },
   {
    "duration": 12,
    "start_time": "2022-05-20T15:43:32.848Z"
   },
   {
    "duration": 6,
    "start_time": "2022-05-20T15:44:23.329Z"
   },
   {
    "duration": 10,
    "start_time": "2022-05-20T15:44:48.425Z"
   },
   {
    "duration": 3,
    "start_time": "2022-05-20T15:45:20.186Z"
   },
   {
    "duration": 38,
    "start_time": "2022-05-20T15:45:20.191Z"
   },
   {
    "duration": 64,
    "start_time": "2022-05-20T15:45:20.231Z"
   },
   {
    "duration": 9,
    "start_time": "2022-05-20T15:45:20.296Z"
   },
   {
    "duration": 19,
    "start_time": "2022-05-20T15:45:20.308Z"
   },
   {
    "duration": 30,
    "start_time": "2022-05-20T15:45:20.329Z"
   },
   {
    "duration": 15,
    "start_time": "2022-05-20T15:45:20.361Z"
   },
   {
    "duration": 27,
    "start_time": "2022-05-20T15:45:20.378Z"
   },
   {
    "duration": 154,
    "start_time": "2022-05-20T15:45:20.407Z"
   },
   {
    "duration": 9,
    "start_time": "2022-05-20T15:45:20.563Z"
   },
   {
    "duration": 17,
    "start_time": "2022-05-20T15:45:20.574Z"
   },
   {
    "duration": 27,
    "start_time": "2022-05-20T15:45:20.593Z"
   },
   {
    "duration": 44,
    "start_time": "2022-05-20T15:45:20.622Z"
   },
   {
    "duration": 26,
    "start_time": "2022-05-20T15:45:20.668Z"
   },
   {
    "duration": 129,
    "start_time": "2022-05-20T15:45:20.696Z"
   },
   {
    "duration": 11,
    "start_time": "2022-05-20T15:45:20.827Z"
   },
   {
    "duration": 23,
    "start_time": "2022-05-20T15:45:20.840Z"
   },
   {
    "duration": 28,
    "start_time": "2022-05-20T15:45:20.865Z"
   },
   {
    "duration": 32,
    "start_time": "2022-05-20T15:45:20.894Z"
   },
   {
    "duration": 21,
    "start_time": "2022-05-20T15:45:20.928Z"
   },
   {
    "duration": 164,
    "start_time": "2022-05-20T15:45:20.951Z"
   },
   {
    "duration": 9,
    "start_time": "2022-05-20T15:45:21.116Z"
   },
   {
    "duration": 19,
    "start_time": "2022-05-20T15:45:21.127Z"
   },
   {
    "duration": 28,
    "start_time": "2022-05-20T15:45:21.147Z"
   },
   {
    "duration": 43,
    "start_time": "2022-05-20T15:45:21.177Z"
   },
   {
    "duration": 37,
    "start_time": "2022-05-20T15:45:21.223Z"
   },
   {
    "duration": 19,
    "start_time": "2022-05-20T15:45:21.262Z"
   },
   {
    "duration": 8,
    "start_time": "2022-05-20T15:45:21.284Z"
   },
   {
    "duration": 43,
    "start_time": "2022-05-20T15:45:21.296Z"
   },
   {
    "duration": 40,
    "start_time": "2022-05-20T15:45:21.341Z"
   },
   {
    "duration": 5,
    "start_time": "2022-05-20T15:45:21.383Z"
   },
   {
    "duration": 28,
    "start_time": "2022-05-20T15:45:21.390Z"
   },
   {
    "duration": 58,
    "start_time": "2022-05-20T15:45:21.420Z"
   },
   {
    "duration": 20,
    "start_time": "2022-05-20T15:45:21.480Z"
   },
   {
    "duration": 21,
    "start_time": "2022-05-20T15:45:21.502Z"
   },
   {
    "duration": 44,
    "start_time": "2022-05-20T15:45:21.525Z"
   },
   {
    "duration": 31,
    "start_time": "2022-05-20T15:45:21.573Z"
   },
   {
    "duration": 27,
    "start_time": "2022-05-20T15:45:21.606Z"
   },
   {
    "duration": 31,
    "start_time": "2022-05-20T15:45:21.635Z"
   },
   {
    "duration": 67,
    "start_time": "2022-05-20T15:45:21.668Z"
   },
   {
    "duration": 47,
    "start_time": "2022-05-20T15:45:21.737Z"
   },
   {
    "duration": 33,
    "start_time": "2022-05-20T15:45:21.785Z"
   },
   {
    "duration": 128,
    "start_time": "2022-05-20T15:45:21.820Z"
   },
   {
    "duration": 32,
    "start_time": "2022-05-20T15:45:21.950Z"
   },
   {
    "duration": 14,
    "start_time": "2022-05-20T15:45:21.984Z"
   },
   {
    "duration": 13,
    "start_time": "2022-05-20T15:45:45.961Z"
   },
   {
    "duration": 10,
    "start_time": "2022-05-20T15:46:45.043Z"
   },
   {
    "duration": 20,
    "start_time": "2022-05-20T15:47:57.619Z"
   },
   {
    "duration": 9,
    "start_time": "2022-05-20T15:48:09.564Z"
   },
   {
    "duration": 3,
    "start_time": "2022-05-20T15:48:13.539Z"
   },
   {
    "duration": 9,
    "start_time": "2022-05-20T15:50:33.125Z"
   },
   {
    "duration": 19,
    "start_time": "2022-05-20T15:50:44.299Z"
   },
   {
    "duration": 18,
    "start_time": "2022-05-20T15:52:11.887Z"
   },
   {
    "duration": 15,
    "start_time": "2022-05-20T15:53:22.360Z"
   },
   {
    "duration": 34,
    "start_time": "2022-05-20T15:54:02.840Z"
   },
   {
    "duration": 11,
    "start_time": "2022-05-20T15:54:10.656Z"
   },
   {
    "duration": 10,
    "start_time": "2022-05-20T16:00:23.276Z"
   },
   {
    "duration": 9,
    "start_time": "2022-05-20T16:00:50.292Z"
   },
   {
    "duration": 8,
    "start_time": "2022-05-20T16:01:53.372Z"
   },
   {
    "duration": 11,
    "start_time": "2022-05-20T16:02:22.724Z"
   },
   {
    "duration": 12,
    "start_time": "2022-05-20T16:09:04.382Z"
   },
   {
    "duration": 8,
    "start_time": "2022-05-20T16:12:18.696Z"
   },
   {
    "duration": 10,
    "start_time": "2022-05-20T16:12:30.241Z"
   },
   {
    "duration": 8,
    "start_time": "2022-05-20T16:12:37.520Z"
   },
   {
    "duration": 4,
    "start_time": "2022-05-20T16:12:47.945Z"
   },
   {
    "duration": 4,
    "start_time": "2022-05-20T16:13:07.432Z"
   },
   {
    "duration": 4,
    "start_time": "2022-05-20T16:13:22.872Z"
   },
   {
    "duration": 4,
    "start_time": "2022-05-20T16:13:40.304Z"
   },
   {
    "duration": 4,
    "start_time": "2022-05-20T16:13:54.632Z"
   },
   {
    "duration": 14,
    "start_time": "2022-05-20T16:27:46.889Z"
   },
   {
    "duration": 7,
    "start_time": "2022-05-20T16:27:51.881Z"
   },
   {
    "duration": 6,
    "start_time": "2022-05-20T16:28:04.441Z"
   },
   {
    "duration": 5,
    "start_time": "2022-05-20T16:31:17.395Z"
   },
   {
    "duration": 5,
    "start_time": "2022-05-20T16:31:30.203Z"
   },
   {
    "duration": 79,
    "start_time": "2022-05-20T16:31:39.611Z"
   },
   {
    "duration": 78,
    "start_time": "2022-05-20T16:31:51.243Z"
   },
   {
    "duration": 6,
    "start_time": "2022-05-20T16:32:06.139Z"
   },
   {
    "duration": 5,
    "start_time": "2022-05-20T16:32:11.348Z"
   },
   {
    "duration": 10,
    "start_time": "2022-05-20T16:32:43.852Z"
   },
   {
    "duration": 35,
    "start_time": "2022-05-20T16:32:54.684Z"
   },
   {
    "duration": 41,
    "start_time": "2022-05-20T16:33:23.892Z"
   },
   {
    "duration": 8,
    "start_time": "2022-05-20T16:35:18.726Z"
   },
   {
    "duration": 8,
    "start_time": "2022-05-20T16:35:58.094Z"
   },
   {
    "duration": 8,
    "start_time": "2022-05-20T16:36:06.519Z"
   },
   {
    "duration": 1034,
    "start_time": "2022-05-20T16:38:13.249Z"
   },
   {
    "duration": 733,
    "start_time": "2022-05-20T16:39:25.329Z"
   },
   {
    "duration": 1596,
    "start_time": "2022-05-20T16:42:59.196Z"
   },
   {
    "duration": 9,
    "start_time": "2022-05-20T16:43:30.973Z"
   },
   {
    "duration": 753,
    "start_time": "2022-05-20T16:43:36.148Z"
   },
   {
    "duration": 1391,
    "start_time": "2022-05-20T16:44:51.861Z"
   },
   {
    "duration": 7,
    "start_time": "2022-05-20T16:46:16.406Z"
   },
   {
    "duration": 10,
    "start_time": "2022-05-20T16:46:27.750Z"
   },
   {
    "duration": 8,
    "start_time": "2022-05-20T16:46:37.445Z"
   },
   {
    "duration": 10,
    "start_time": "2022-05-20T16:46:43.206Z"
   },
   {
    "duration": 7,
    "start_time": "2022-05-20T16:46:48.071Z"
   },
   {
    "duration": 7,
    "start_time": "2022-05-20T16:47:11.559Z"
   },
   {
    "duration": 72,
    "start_time": "2022-05-20T16:47:13.414Z"
   },
   {
    "duration": 7,
    "start_time": "2022-05-20T16:47:14.245Z"
   },
   {
    "duration": 3,
    "start_time": "2022-05-20T16:47:18.528Z"
   },
   {
    "duration": 6,
    "start_time": "2022-05-20T16:47:18.532Z"
   },
   {
    "duration": 46,
    "start_time": "2022-05-20T16:47:18.540Z"
   },
   {
    "duration": 9,
    "start_time": "2022-05-20T16:47:18.588Z"
   },
   {
    "duration": 10,
    "start_time": "2022-05-20T16:47:18.598Z"
   },
   {
    "duration": 12,
    "start_time": "2022-05-20T16:47:18.610Z"
   },
   {
    "duration": 19,
    "start_time": "2022-05-20T16:47:18.623Z"
   },
   {
    "duration": 26,
    "start_time": "2022-05-20T16:47:18.643Z"
   },
   {
    "duration": 4,
    "start_time": "2022-05-20T16:47:18.671Z"
   },
   {
    "duration": 165,
    "start_time": "2022-05-20T16:47:18.676Z"
   },
   {
    "duration": 9,
    "start_time": "2022-05-20T16:47:18.843Z"
   },
   {
    "duration": 14,
    "start_time": "2022-05-20T16:47:18.853Z"
   },
   {
    "duration": 16,
    "start_time": "2022-05-20T16:47:18.868Z"
   },
   {
    "duration": 22,
    "start_time": "2022-05-20T16:47:18.885Z"
   },
   {
    "duration": 26,
    "start_time": "2022-05-20T16:47:18.909Z"
   },
   {
    "duration": 93,
    "start_time": "2022-05-20T16:47:18.936Z"
   },
   {
    "duration": 7,
    "start_time": "2022-05-20T16:47:19.030Z"
   },
   {
    "duration": 0,
    "start_time": "2022-05-20T16:47:19.039Z"
   },
   {
    "duration": 0,
    "start_time": "2022-05-20T16:47:19.040Z"
   },
   {
    "duration": 0,
    "start_time": "2022-05-20T16:47:19.041Z"
   },
   {
    "duration": 0,
    "start_time": "2022-05-20T16:47:19.042Z"
   },
   {
    "duration": 0,
    "start_time": "2022-05-20T16:47:19.043Z"
   },
   {
    "duration": 0,
    "start_time": "2022-05-20T16:47:19.044Z"
   },
   {
    "duration": 0,
    "start_time": "2022-05-20T16:47:19.045Z"
   },
   {
    "duration": 0,
    "start_time": "2022-05-20T16:47:19.046Z"
   },
   {
    "duration": 0,
    "start_time": "2022-05-20T16:47:19.047Z"
   },
   {
    "duration": 0,
    "start_time": "2022-05-20T16:47:19.048Z"
   },
   {
    "duration": 0,
    "start_time": "2022-05-20T16:47:19.049Z"
   },
   {
    "duration": 0,
    "start_time": "2022-05-20T16:47:19.050Z"
   },
   {
    "duration": 0,
    "start_time": "2022-05-20T16:47:19.059Z"
   },
   {
    "duration": 0,
    "start_time": "2022-05-20T16:47:19.059Z"
   },
   {
    "duration": 0,
    "start_time": "2022-05-20T16:47:19.061Z"
   },
   {
    "duration": 0,
    "start_time": "2022-05-20T16:47:19.061Z"
   },
   {
    "duration": 0,
    "start_time": "2022-05-20T16:47:19.062Z"
   },
   {
    "duration": 0,
    "start_time": "2022-05-20T16:47:19.063Z"
   },
   {
    "duration": 0,
    "start_time": "2022-05-20T16:47:19.064Z"
   },
   {
    "duration": 0,
    "start_time": "2022-05-20T16:47:19.065Z"
   },
   {
    "duration": 0,
    "start_time": "2022-05-20T16:47:19.066Z"
   },
   {
    "duration": 0,
    "start_time": "2022-05-20T16:47:19.067Z"
   },
   {
    "duration": 0,
    "start_time": "2022-05-20T16:47:19.068Z"
   },
   {
    "duration": 0,
    "start_time": "2022-05-20T16:47:19.069Z"
   },
   {
    "duration": 0,
    "start_time": "2022-05-20T16:47:19.070Z"
   },
   {
    "duration": 0,
    "start_time": "2022-05-20T16:47:19.071Z"
   },
   {
    "duration": 0,
    "start_time": "2022-05-20T16:47:19.071Z"
   },
   {
    "duration": 0,
    "start_time": "2022-05-20T16:47:19.072Z"
   },
   {
    "duration": 0,
    "start_time": "2022-05-20T16:47:19.073Z"
   },
   {
    "duration": 0,
    "start_time": "2022-05-20T16:47:19.074Z"
   },
   {
    "duration": 0,
    "start_time": "2022-05-20T16:47:19.075Z"
   },
   {
    "duration": 0,
    "start_time": "2022-05-20T16:47:19.076Z"
   },
   {
    "duration": 0,
    "start_time": "2022-05-20T16:47:19.077Z"
   },
   {
    "duration": 0,
    "start_time": "2022-05-20T16:47:19.078Z"
   },
   {
    "duration": 0,
    "start_time": "2022-05-20T16:47:19.078Z"
   },
   {
    "duration": 0,
    "start_time": "2022-05-20T16:47:19.079Z"
   },
   {
    "duration": 0,
    "start_time": "2022-05-20T16:47:19.080Z"
   },
   {
    "duration": 0,
    "start_time": "2022-05-20T16:47:19.081Z"
   },
   {
    "duration": 0,
    "start_time": "2022-05-20T16:47:19.082Z"
   },
   {
    "duration": 0,
    "start_time": "2022-05-20T16:47:19.083Z"
   },
   {
    "duration": 0,
    "start_time": "2022-05-20T16:47:19.084Z"
   },
   {
    "duration": 0,
    "start_time": "2022-05-20T16:47:19.084Z"
   },
   {
    "duration": 428,
    "start_time": "2022-05-20T16:47:33.118Z"
   },
   {
    "duration": 202,
    "start_time": "2022-05-20T16:47:58.183Z"
   },
   {
    "duration": 547,
    "start_time": "2022-05-20T16:48:41.936Z"
   },
   {
    "duration": 8,
    "start_time": "2022-05-20T16:48:54.768Z"
   },
   {
    "duration": 787,
    "start_time": "2022-05-20T16:49:14.920Z"
   },
   {
    "duration": 626,
    "start_time": "2022-05-20T16:49:28.408Z"
   },
   {
    "duration": 725,
    "start_time": "2022-05-20T16:49:36.896Z"
   },
   {
    "duration": 8,
    "start_time": "2022-05-20T16:49:49.528Z"
   },
   {
    "duration": 207,
    "start_time": "2022-05-20T16:49:57.512Z"
   },
   {
    "duration": 9,
    "start_time": "2022-05-20T16:50:03.360Z"
   },
   {
    "duration": 11,
    "start_time": "2022-05-20T16:50:06.456Z"
   },
   {
    "duration": 1030,
    "start_time": "2022-05-20T16:53:30.056Z"
   },
   {
    "duration": 3,
    "start_time": "2022-05-20T16:53:31.087Z"
   },
   {
    "duration": 64,
    "start_time": "2022-05-20T16:53:31.094Z"
   },
   {
    "duration": 12,
    "start_time": "2022-05-20T16:53:31.160Z"
   },
   {
    "duration": 17,
    "start_time": "2022-05-20T16:53:31.174Z"
   },
   {
    "duration": 31,
    "start_time": "2022-05-20T16:53:31.193Z"
   },
   {
    "duration": 31,
    "start_time": "2022-05-20T16:53:31.225Z"
   },
   {
    "duration": 36,
    "start_time": "2022-05-20T16:53:31.258Z"
   },
   {
    "duration": 5,
    "start_time": "2022-05-20T16:53:31.297Z"
   },
   {
    "duration": 150,
    "start_time": "2022-05-20T16:53:31.303Z"
   },
   {
    "duration": 8,
    "start_time": "2022-05-20T16:53:31.458Z"
   },
   {
    "duration": 15,
    "start_time": "2022-05-20T16:53:31.468Z"
   },
   {
    "duration": 17,
    "start_time": "2022-05-20T16:53:31.485Z"
   },
   {
    "duration": 23,
    "start_time": "2022-05-20T16:53:31.503Z"
   },
   {
    "duration": 46,
    "start_time": "2022-05-20T16:53:31.528Z"
   },
   {
    "duration": 122,
    "start_time": "2022-05-20T16:53:31.575Z"
   },
   {
    "duration": 14341,
    "start_time": "2022-05-20T16:53:31.698Z"
   },
   {
    "duration": 84,
    "start_time": "2022-05-20T16:53:46.041Z"
   },
   {
    "duration": 8,
    "start_time": "2022-05-20T16:53:46.127Z"
   },
   {
    "duration": 9,
    "start_time": "2022-05-20T16:53:46.136Z"
   },
   {
    "duration": 19,
    "start_time": "2022-05-20T16:53:46.147Z"
   },
   {
    "duration": 25,
    "start_time": "2022-05-20T16:53:46.168Z"
   },
   {
    "duration": 18,
    "start_time": "2022-05-20T16:53:46.195Z"
   },
   {
    "duration": 76,
    "start_time": "2022-05-20T16:53:46.214Z"
   },
   {
    "duration": 122,
    "start_time": "2022-05-20T16:53:46.292Z"
   },
   {
    "duration": 10,
    "start_time": "2022-05-20T16:53:46.416Z"
   },
   {
    "duration": 28,
    "start_time": "2022-05-20T16:53:46.431Z"
   },
   {
    "duration": 84,
    "start_time": "2022-05-20T16:53:46.461Z"
   },
   {
    "duration": 20,
    "start_time": "2022-05-20T16:53:46.559Z"
   },
   {
    "duration": 25,
    "start_time": "2022-05-20T16:53:46.581Z"
   },
   {
    "duration": 79,
    "start_time": "2022-05-20T16:53:46.608Z"
   },
   {
    "duration": 16,
    "start_time": "2022-05-20T16:53:46.689Z"
   },
   {
    "duration": 11,
    "start_time": "2022-05-20T16:53:46.706Z"
   },
   {
    "duration": 15,
    "start_time": "2022-05-20T16:53:46.719Z"
   },
   {
    "duration": 43,
    "start_time": "2022-05-20T16:53:46.736Z"
   },
   {
    "duration": 6,
    "start_time": "2022-05-20T16:53:46.781Z"
   },
   {
    "duration": 13,
    "start_time": "2022-05-20T16:53:46.789Z"
   },
   {
    "duration": 74,
    "start_time": "2022-05-20T16:53:46.804Z"
   },
   {
    "duration": 18,
    "start_time": "2022-05-20T16:53:46.879Z"
   },
   {
    "duration": 26,
    "start_time": "2022-05-20T16:53:46.899Z"
   },
   {
    "duration": 44,
    "start_time": "2022-05-20T16:53:46.927Z"
   },
   {
    "duration": 20,
    "start_time": "2022-05-20T16:53:46.973Z"
   },
   {
    "duration": 6,
    "start_time": "2022-05-20T16:53:46.994Z"
   },
   {
    "duration": 8,
    "start_time": "2022-05-20T16:53:47.001Z"
   },
   {
    "duration": 73,
    "start_time": "2022-05-20T16:53:47.011Z"
   },
   {
    "duration": 27,
    "start_time": "2022-05-20T16:53:47.085Z"
   },
   {
    "duration": 52,
    "start_time": "2022-05-20T16:53:47.114Z"
   },
   {
    "duration": 4,
    "start_time": "2022-05-20T16:53:47.167Z"
   },
   {
    "duration": 7,
    "start_time": "2022-05-20T16:53:47.172Z"
   },
   {
    "duration": 7,
    "start_time": "2022-05-20T16:53:47.180Z"
   },
   {
    "duration": 6,
    "start_time": "2022-05-20T16:53:47.189Z"
   },
   {
    "duration": 7,
    "start_time": "2022-05-20T16:53:47.196Z"
   },
   {
    "duration": 76,
    "start_time": "2022-05-20T16:53:47.204Z"
   },
   {
    "duration": 12,
    "start_time": "2022-05-20T16:53:47.282Z"
   },
   {
    "duration": 5,
    "start_time": "2022-05-20T16:53:47.295Z"
   },
   {
    "duration": 11,
    "start_time": "2022-05-20T16:53:47.302Z"
   },
   {
    "duration": 11,
    "start_time": "2022-05-20T16:53:47.315Z"
   },
   {
    "duration": 41,
    "start_time": "2022-05-20T16:53:47.327Z"
   },
   {
    "duration": 28,
    "start_time": "2022-05-20T16:53:47.369Z"
   },
   {
    "duration": 19419,
    "start_time": "2022-05-20T16:54:57.548Z"
   },
   {
    "duration": 1910,
    "start_time": "2022-05-20T16:55:55.513Z"
   },
   {
    "duration": 1927,
    "start_time": "2022-05-20T16:56:18.318Z"
   },
   {
    "duration": 1611,
    "start_time": "2022-05-20T16:56:25.621Z"
   },
   {
    "duration": 1116,
    "start_time": "2022-05-20T16:57:03.086Z"
   },
   {
    "duration": 1667,
    "start_time": "2022-05-20T16:57:43.054Z"
   },
   {
    "duration": 33,
    "start_time": "2022-05-20T16:58:02.758Z"
   },
   {
    "duration": 40,
    "start_time": "2022-05-20T16:58:15.810Z"
   },
   {
    "duration": 346,
    "start_time": "2022-05-20T16:58:19.733Z"
   },
   {
    "duration": 938,
    "start_time": "2022-05-20T16:59:27.935Z"
   },
   {
    "duration": 982,
    "start_time": "2022-05-20T16:59:37.550Z"
   },
   {
    "duration": 913,
    "start_time": "2022-05-20T17:00:32.791Z"
   },
   {
    "duration": 1030,
    "start_time": "2022-05-20T17:01:30.489Z"
   },
   {
    "duration": 931,
    "start_time": "2022-05-20T17:01:40.584Z"
   },
   {
    "duration": 14,
    "start_time": "2022-05-20T17:03:38.898Z"
   },
   {
    "duration": 17,
    "start_time": "2022-05-20T17:03:55.138Z"
   },
   {
    "duration": 1064,
    "start_time": "2022-05-20T17:04:32.136Z"
   },
   {
    "duration": 2,
    "start_time": "2022-05-20T17:04:33.202Z"
   },
   {
    "duration": 67,
    "start_time": "2022-05-20T17:04:33.206Z"
   },
   {
    "duration": 13,
    "start_time": "2022-05-20T17:04:33.274Z"
   },
   {
    "duration": 22,
    "start_time": "2022-05-20T17:04:33.288Z"
   },
   {
    "duration": 30,
    "start_time": "2022-05-20T17:04:33.312Z"
   },
   {
    "duration": 32,
    "start_time": "2022-05-20T17:04:33.344Z"
   },
   {
    "duration": 41,
    "start_time": "2022-05-20T17:04:33.377Z"
   },
   {
    "duration": 15,
    "start_time": "2022-05-20T17:04:33.419Z"
   },
   {
    "duration": 163,
    "start_time": "2022-05-20T17:04:33.436Z"
   },
   {
    "duration": 8,
    "start_time": "2022-05-20T17:04:33.600Z"
   },
   {
    "duration": 32,
    "start_time": "2022-05-20T17:04:33.609Z"
   },
   {
    "duration": 27,
    "start_time": "2022-05-20T17:04:33.642Z"
   },
   {
    "duration": 42,
    "start_time": "2022-05-20T17:04:33.671Z"
   },
   {
    "duration": 31,
    "start_time": "2022-05-20T17:04:33.714Z"
   },
   {
    "duration": 100,
    "start_time": "2022-05-20T17:04:33.747Z"
   },
   {
    "duration": 944,
    "start_time": "2022-05-20T17:04:33.848Z"
   },
   {
    "duration": 354,
    "start_time": "2022-05-20T17:04:34.794Z"
   },
   {
    "duration": 104,
    "start_time": "2022-05-20T17:04:35.150Z"
   },
   {
    "duration": 7,
    "start_time": "2022-05-20T17:04:35.256Z"
   },
   {
    "duration": 40,
    "start_time": "2022-05-20T17:04:35.264Z"
   },
   {
    "duration": 16,
    "start_time": "2022-05-20T17:04:35.305Z"
   },
   {
    "duration": 48,
    "start_time": "2022-05-20T17:04:35.323Z"
   },
   {
    "duration": 29,
    "start_time": "2022-05-20T17:04:35.373Z"
   },
   {
    "duration": 46,
    "start_time": "2022-05-20T17:04:35.403Z"
   },
   {
    "duration": 126,
    "start_time": "2022-05-20T17:04:35.450Z"
   },
   {
    "duration": 8,
    "start_time": "2022-05-20T17:04:35.577Z"
   },
   {
    "duration": 11,
    "start_time": "2022-05-20T17:04:35.588Z"
   },
   {
    "duration": 24,
    "start_time": "2022-05-20T17:04:35.600Z"
   },
   {
    "duration": 36,
    "start_time": "2022-05-20T17:04:35.625Z"
   },
   {
    "duration": 26,
    "start_time": "2022-05-20T17:04:35.662Z"
   },
   {
    "duration": 74,
    "start_time": "2022-05-20T17:04:35.690Z"
   },
   {
    "duration": 16,
    "start_time": "2022-05-20T17:04:35.766Z"
   },
   {
    "duration": 7,
    "start_time": "2022-05-20T17:04:35.783Z"
   },
   {
    "duration": 24,
    "start_time": "2022-05-20T17:04:35.791Z"
   },
   {
    "duration": 26,
    "start_time": "2022-05-20T17:04:35.816Z"
   },
   {
    "duration": 22,
    "start_time": "2022-05-20T17:04:35.844Z"
   },
   {
    "duration": 31,
    "start_time": "2022-05-20T17:04:35.867Z"
   },
   {
    "duration": 50,
    "start_time": "2022-05-20T17:04:35.900Z"
   },
   {
    "duration": 19,
    "start_time": "2022-05-20T17:04:35.952Z"
   },
   {
    "duration": 50,
    "start_time": "2022-05-20T17:04:35.972Z"
   },
   {
    "duration": 18,
    "start_time": "2022-05-20T17:04:36.024Z"
   },
   {
    "duration": 44,
    "start_time": "2022-05-20T17:04:36.044Z"
   },
   {
    "duration": 19,
    "start_time": "2022-05-20T17:04:36.089Z"
   },
   {
    "duration": 23,
    "start_time": "2022-05-20T17:04:36.109Z"
   },
   {
    "duration": 80,
    "start_time": "2022-05-20T17:04:36.133Z"
   },
   {
    "duration": 26,
    "start_time": "2022-05-20T17:04:36.215Z"
   },
   {
    "duration": 35,
    "start_time": "2022-05-20T17:04:36.242Z"
   },
   {
    "duration": 4,
    "start_time": "2022-05-20T17:04:36.278Z"
   },
   {
    "duration": 6,
    "start_time": "2022-05-20T17:04:36.283Z"
   },
   {
    "duration": 5,
    "start_time": "2022-05-20T17:04:36.290Z"
   },
   {
    "duration": 7,
    "start_time": "2022-05-20T17:04:36.296Z"
   },
   {
    "duration": 6,
    "start_time": "2022-05-20T17:04:36.304Z"
   },
   {
    "duration": 57,
    "start_time": "2022-05-20T17:04:36.311Z"
   },
   {
    "duration": 10,
    "start_time": "2022-05-20T17:04:36.370Z"
   },
   {
    "duration": 4,
    "start_time": "2022-05-20T17:04:36.382Z"
   },
   {
    "duration": 10,
    "start_time": "2022-05-20T17:04:36.387Z"
   },
   {
    "duration": 10,
    "start_time": "2022-05-20T17:04:36.399Z"
   },
   {
    "duration": 11,
    "start_time": "2022-05-20T17:04:36.410Z"
   },
   {
    "duration": 37,
    "start_time": "2022-05-20T17:04:36.423Z"
   },
   {
    "duration": 110,
    "start_time": "2022-05-20T17:05:42.740Z"
   },
   {
    "duration": 10,
    "start_time": "2022-05-20T17:06:27.774Z"
   },
   {
    "duration": 9,
    "start_time": "2022-05-20T17:08:16.949Z"
   },
   {
    "duration": 1046,
    "start_time": "2022-05-20T17:14:45.677Z"
   },
   {
    "duration": 8,
    "start_time": "2022-05-20T17:18:17.799Z"
   },
   {
    "duration": 12,
    "start_time": "2022-05-20T17:18:19.870Z"
   },
   {
    "duration": 8,
    "start_time": "2022-05-20T17:26:29.992Z"
   },
   {
    "duration": 13,
    "start_time": "2022-05-20T17:26:32.540Z"
   },
   {
    "duration": 15,
    "start_time": "2022-05-20T17:26:33.338Z"
   },
   {
    "duration": 11,
    "start_time": "2022-05-20T17:26:35.736Z"
   },
   {
    "duration": 3,
    "start_time": "2022-05-20T17:26:40.893Z"
   },
   {
    "duration": 10,
    "start_time": "2022-05-20T17:26:40.898Z"
   },
   {
    "duration": 56,
    "start_time": "2022-05-20T17:26:40.910Z"
   },
   {
    "duration": 15,
    "start_time": "2022-05-20T17:26:40.970Z"
   },
   {
    "duration": 13,
    "start_time": "2022-05-20T17:26:40.986Z"
   },
   {
    "duration": 18,
    "start_time": "2022-05-20T17:26:41.001Z"
   },
   {
    "duration": 13,
    "start_time": "2022-05-20T17:26:41.021Z"
   },
   {
    "duration": 18,
    "start_time": "2022-05-20T17:26:41.068Z"
   },
   {
    "duration": 6,
    "start_time": "2022-05-20T17:26:41.089Z"
   },
   {
    "duration": 155,
    "start_time": "2022-05-20T17:26:41.096Z"
   },
   {
    "duration": 23,
    "start_time": "2022-05-20T17:26:41.253Z"
   },
   {
    "duration": 8,
    "start_time": "2022-05-20T17:26:41.278Z"
   },
   {
    "duration": 15,
    "start_time": "2022-05-20T17:26:41.288Z"
   },
   {
    "duration": 24,
    "start_time": "2022-05-20T17:26:41.304Z"
   },
   {
    "duration": 53,
    "start_time": "2022-05-20T17:26:41.330Z"
   },
   {
    "duration": 105,
    "start_time": "2022-05-20T17:26:41.384Z"
   },
   {
    "duration": 90,
    "start_time": "2022-05-20T17:26:41.491Z"
   },
   {
    "duration": 7,
    "start_time": "2022-05-20T17:26:41.583Z"
   },
   {
    "duration": 11,
    "start_time": "2022-05-20T17:26:41.592Z"
   },
   {
    "duration": 21,
    "start_time": "2022-05-20T17:26:41.604Z"
   },
   {
    "duration": 53,
    "start_time": "2022-05-20T17:26:41.626Z"
   },
   {
    "duration": 18,
    "start_time": "2022-05-20T17:26:41.681Z"
   },
   {
    "duration": 62,
    "start_time": "2022-05-20T17:26:41.701Z"
   },
   {
    "duration": 150,
    "start_time": "2022-05-20T17:26:41.767Z"
   },
   {
    "duration": 8,
    "start_time": "2022-05-20T17:26:41.918Z"
   },
   {
    "duration": 17,
    "start_time": "2022-05-20T17:26:41.928Z"
   },
   {
    "duration": 29,
    "start_time": "2022-05-20T17:26:41.947Z"
   },
   {
    "duration": 49,
    "start_time": "2022-05-20T17:26:41.977Z"
   },
   {
    "duration": 27,
    "start_time": "2022-05-20T17:26:42.027Z"
   },
   {
    "duration": 62,
    "start_time": "2022-05-20T17:26:42.056Z"
   },
   {
    "duration": 27,
    "start_time": "2022-05-20T17:26:42.120Z"
   },
   {
    "duration": 9,
    "start_time": "2022-05-20T17:26:42.149Z"
   },
   {
    "duration": 45,
    "start_time": "2022-05-20T17:26:42.161Z"
   },
   {
    "duration": 64,
    "start_time": "2022-05-20T17:26:42.208Z"
   },
   {
    "duration": 15,
    "start_time": "2022-05-20T17:26:42.276Z"
   },
   {
    "duration": 26,
    "start_time": "2022-05-20T17:26:42.293Z"
   },
   {
    "duration": 60,
    "start_time": "2022-05-20T17:26:42.320Z"
   },
   {
    "duration": 1098,
    "start_time": "2022-05-20T17:26:42.381Z"
   },
   {
    "duration": 9,
    "start_time": "2022-05-20T17:26:43.480Z"
   },
   {
    "duration": 38,
    "start_time": "2022-05-20T17:26:43.490Z"
   },
   {
    "duration": 22,
    "start_time": "2022-05-20T17:26:43.529Z"
   },
   {
    "duration": 19,
    "start_time": "2022-05-20T17:26:43.553Z"
   },
   {
    "duration": 48,
    "start_time": "2022-05-20T17:26:43.574Z"
   },
   {
    "duration": 48,
    "start_time": "2022-05-20T17:26:43.624Z"
   },
   {
    "duration": 9,
    "start_time": "2022-05-20T17:26:43.674Z"
   },
   {
    "duration": 28,
    "start_time": "2022-05-20T17:26:43.684Z"
   },
   {
    "duration": 59,
    "start_time": "2022-05-20T17:26:43.714Z"
   },
   {
    "duration": 30,
    "start_time": "2022-05-20T17:26:43.775Z"
   },
   {
    "duration": 49,
    "start_time": "2022-05-20T17:26:43.807Z"
   },
   {
    "duration": 4,
    "start_time": "2022-05-20T17:26:43.861Z"
   },
   {
    "duration": 48,
    "start_time": "2022-05-20T17:26:43.869Z"
   },
   {
    "duration": 26,
    "start_time": "2022-05-20T17:26:43.919Z"
   },
   {
    "duration": 34,
    "start_time": "2022-05-20T17:26:43.946Z"
   },
   {
    "duration": 40,
    "start_time": "2022-05-20T17:26:43.982Z"
   },
   {
    "duration": 71,
    "start_time": "2022-05-20T17:26:44.024Z"
   },
   {
    "duration": 13,
    "start_time": "2022-05-20T17:26:44.097Z"
   },
   {
    "duration": 16,
    "start_time": "2022-05-20T17:26:44.112Z"
   },
   {
    "duration": 41,
    "start_time": "2022-05-20T17:26:44.130Z"
   },
   {
    "duration": 27,
    "start_time": "2022-05-20T17:26:44.173Z"
   },
   {
    "duration": 37,
    "start_time": "2022-05-20T17:26:44.202Z"
   },
   {
    "duration": 46,
    "start_time": "2022-05-20T17:26:44.241Z"
   },
   {
    "duration": 8,
    "start_time": "2022-05-20T17:28:16.410Z"
   },
   {
    "duration": 13,
    "start_time": "2022-05-20T17:28:25.373Z"
   },
   {
    "duration": 2,
    "start_time": "2022-05-20T17:28:34.632Z"
   },
   {
    "duration": 8,
    "start_time": "2022-05-20T17:28:34.636Z"
   },
   {
    "duration": 49,
    "start_time": "2022-05-20T17:28:34.645Z"
   },
   {
    "duration": 9,
    "start_time": "2022-05-20T17:28:34.696Z"
   },
   {
    "duration": 37,
    "start_time": "2022-05-20T17:28:34.707Z"
   },
   {
    "duration": 13,
    "start_time": "2022-05-20T17:28:34.745Z"
   },
   {
    "duration": 21,
    "start_time": "2022-05-20T17:28:34.768Z"
   },
   {
    "duration": 29,
    "start_time": "2022-05-20T17:28:34.790Z"
   },
   {
    "duration": 17,
    "start_time": "2022-05-20T17:28:34.821Z"
   },
   {
    "duration": 146,
    "start_time": "2022-05-20T17:28:34.839Z"
   },
   {
    "duration": 7,
    "start_time": "2022-05-20T17:28:34.987Z"
   },
   {
    "duration": 11,
    "start_time": "2022-05-20T17:28:34.996Z"
   },
   {
    "duration": 19,
    "start_time": "2022-05-20T17:28:35.009Z"
   },
   {
    "duration": 51,
    "start_time": "2022-05-20T17:28:35.032Z"
   },
   {
    "duration": 27,
    "start_time": "2022-05-20T17:28:35.085Z"
   },
   {
    "duration": 106,
    "start_time": "2022-05-20T17:28:35.113Z"
   },
   {
    "duration": 84,
    "start_time": "2022-05-20T17:28:35.221Z"
   },
   {
    "duration": 7,
    "start_time": "2022-05-20T17:28:35.306Z"
   },
   {
    "duration": 14,
    "start_time": "2022-05-20T17:28:35.314Z"
   },
   {
    "duration": 21,
    "start_time": "2022-05-20T17:28:35.329Z"
   },
   {
    "duration": 44,
    "start_time": "2022-05-20T17:28:35.352Z"
   },
   {
    "duration": 15,
    "start_time": "2022-05-20T17:28:35.397Z"
   },
   {
    "duration": 53,
    "start_time": "2022-05-20T17:28:35.414Z"
   },
   {
    "duration": 138,
    "start_time": "2022-05-20T17:28:35.473Z"
   },
   {
    "duration": 8,
    "start_time": "2022-05-20T17:28:35.613Z"
   },
   {
    "duration": 19,
    "start_time": "2022-05-20T17:28:35.623Z"
   },
   {
    "duration": 46,
    "start_time": "2022-05-20T17:28:35.644Z"
   },
   {
    "duration": 22,
    "start_time": "2022-05-20T17:28:35.692Z"
   },
   {
    "duration": 27,
    "start_time": "2022-05-20T17:28:35.716Z"
   },
   {
    "duration": 61,
    "start_time": "2022-05-20T17:28:35.744Z"
   },
   {
    "duration": 27,
    "start_time": "2022-05-20T17:28:35.807Z"
   },
   {
    "duration": 7,
    "start_time": "2022-05-20T17:28:35.835Z"
   },
   {
    "duration": 28,
    "start_time": "2022-05-20T17:28:35.844Z"
   },
   {
    "duration": 46,
    "start_time": "2022-05-20T17:28:35.873Z"
   },
   {
    "duration": 6,
    "start_time": "2022-05-20T17:28:35.920Z"
   },
   {
    "duration": 14,
    "start_time": "2022-05-20T17:28:35.927Z"
   },
   {
    "duration": 45,
    "start_time": "2022-05-20T17:28:35.943Z"
   },
   {
    "duration": 1087,
    "start_time": "2022-05-20T17:28:35.989Z"
   },
   {
    "duration": 9,
    "start_time": "2022-05-20T17:28:37.077Z"
   },
   {
    "duration": 36,
    "start_time": "2022-05-20T17:28:37.087Z"
   },
   {
    "duration": 28,
    "start_time": "2022-05-20T17:28:37.127Z"
   },
   {
    "duration": 29,
    "start_time": "2022-05-20T17:28:37.157Z"
   },
   {
    "duration": 38,
    "start_time": "2022-05-20T17:28:37.188Z"
   },
   {
    "duration": 40,
    "start_time": "2022-05-20T17:28:37.227Z"
   },
   {
    "duration": 323,
    "start_time": "2022-05-20T17:28:37.269Z"
   },
   {
    "duration": 0,
    "start_time": "2022-05-20T17:28:37.593Z"
   },
   {
    "duration": 0,
    "start_time": "2022-05-20T17:28:37.595Z"
   },
   {
    "duration": 0,
    "start_time": "2022-05-20T17:28:37.596Z"
   },
   {
    "duration": 0,
    "start_time": "2022-05-20T17:28:37.597Z"
   },
   {
    "duration": 0,
    "start_time": "2022-05-20T17:28:37.598Z"
   },
   {
    "duration": 0,
    "start_time": "2022-05-20T17:28:37.599Z"
   },
   {
    "duration": 0,
    "start_time": "2022-05-20T17:28:37.600Z"
   },
   {
    "duration": 0,
    "start_time": "2022-05-20T17:28:37.601Z"
   },
   {
    "duration": 0,
    "start_time": "2022-05-20T17:28:37.602Z"
   },
   {
    "duration": 0,
    "start_time": "2022-05-20T17:28:37.604Z"
   },
   {
    "duration": 0,
    "start_time": "2022-05-20T17:28:37.605Z"
   },
   {
    "duration": 0,
    "start_time": "2022-05-20T17:28:37.606Z"
   },
   {
    "duration": 0,
    "start_time": "2022-05-20T17:28:37.607Z"
   },
   {
    "duration": 0,
    "start_time": "2022-05-20T17:28:37.607Z"
   },
   {
    "duration": 1,
    "start_time": "2022-05-20T17:28:37.608Z"
   },
   {
    "duration": 0,
    "start_time": "2022-05-20T17:28:37.609Z"
   },
   {
    "duration": 5,
    "start_time": "2022-05-20T17:30:14.307Z"
   },
   {
    "duration": 8,
    "start_time": "2022-05-20T17:30:16.082Z"
   },
   {
    "duration": 2,
    "start_time": "2022-05-20T17:31:11.516Z"
   },
   {
    "duration": 7,
    "start_time": "2022-05-20T17:31:12.273Z"
   },
   {
    "duration": 3,
    "start_time": "2022-05-20T17:33:07.252Z"
   },
   {
    "duration": 29,
    "start_time": "2022-05-20T17:33:07.257Z"
   },
   {
    "duration": 73,
    "start_time": "2022-05-20T17:33:07.287Z"
   },
   {
    "duration": 10,
    "start_time": "2022-05-20T17:33:07.374Z"
   },
   {
    "duration": 17,
    "start_time": "2022-05-20T17:33:07.385Z"
   },
   {
    "duration": 21,
    "start_time": "2022-05-20T17:33:07.403Z"
   },
   {
    "duration": 26,
    "start_time": "2022-05-20T17:33:07.425Z"
   },
   {
    "duration": 31,
    "start_time": "2022-05-20T17:33:07.452Z"
   },
   {
    "duration": 11,
    "start_time": "2022-05-20T17:33:07.484Z"
   },
   {
    "duration": 151,
    "start_time": "2022-05-20T17:33:07.497Z"
   },
   {
    "duration": 8,
    "start_time": "2022-05-20T17:33:07.649Z"
   },
   {
    "duration": 41,
    "start_time": "2022-05-20T17:33:07.658Z"
   },
   {
    "duration": 30,
    "start_time": "2022-05-20T17:33:07.701Z"
   },
   {
    "duration": 30,
    "start_time": "2022-05-20T17:33:07.733Z"
   },
   {
    "duration": 40,
    "start_time": "2022-05-20T17:33:07.765Z"
   },
   {
    "duration": 118,
    "start_time": "2022-05-20T17:33:07.807Z"
   },
   {
    "duration": 90,
    "start_time": "2022-05-20T17:33:07.927Z"
   },
   {
    "duration": 8,
    "start_time": "2022-05-20T17:33:08.019Z"
   },
   {
    "duration": 50,
    "start_time": "2022-05-20T17:33:08.029Z"
   },
   {
    "duration": 26,
    "start_time": "2022-05-20T17:33:08.081Z"
   },
   {
    "duration": 28,
    "start_time": "2022-05-20T17:33:08.108Z"
   },
   {
    "duration": 37,
    "start_time": "2022-05-20T17:33:08.137Z"
   },
   {
    "duration": 41,
    "start_time": "2022-05-20T17:33:08.176Z"
   },
   {
    "duration": 128,
    "start_time": "2022-05-20T17:33:08.220Z"
   },
   {
    "duration": 18,
    "start_time": "2022-05-20T17:33:08.349Z"
   },
   {
    "duration": 23,
    "start_time": "2022-05-20T17:33:08.369Z"
   },
   {
    "duration": 33,
    "start_time": "2022-05-20T17:33:08.394Z"
   },
   {
    "duration": 47,
    "start_time": "2022-05-20T17:33:08.430Z"
   },
   {
    "duration": 28,
    "start_time": "2022-05-20T17:33:08.479Z"
   },
   {
    "duration": 73,
    "start_time": "2022-05-20T17:33:08.509Z"
   },
   {
    "duration": 25,
    "start_time": "2022-05-20T17:33:08.584Z"
   },
   {
    "duration": 6,
    "start_time": "2022-05-20T17:33:08.611Z"
   },
   {
    "duration": 36,
    "start_time": "2022-05-20T17:33:08.619Z"
   },
   {
    "duration": 53,
    "start_time": "2022-05-20T17:33:08.656Z"
   },
   {
    "duration": 16,
    "start_time": "2022-05-20T17:33:08.710Z"
   },
   {
    "duration": 57,
    "start_time": "2022-05-20T17:33:08.728Z"
   },
   {
    "duration": 42,
    "start_time": "2022-05-20T17:33:08.786Z"
   },
   {
    "duration": 1009,
    "start_time": "2022-05-20T17:33:08.830Z"
   },
   {
    "duration": 9,
    "start_time": "2022-05-20T17:33:09.840Z"
   },
   {
    "duration": 26,
    "start_time": "2022-05-20T17:33:09.850Z"
   },
   {
    "duration": 19,
    "start_time": "2022-05-20T17:33:09.880Z"
   },
   {
    "duration": 6,
    "start_time": "2022-05-20T17:33:09.900Z"
   },
   {
    "duration": 12,
    "start_time": "2022-05-20T17:33:09.907Z"
   },
   {
    "duration": 58,
    "start_time": "2022-05-20T17:33:09.920Z"
   },
   {
    "duration": 2,
    "start_time": "2022-05-20T17:33:09.979Z"
   },
   {
    "duration": 10,
    "start_time": "2022-05-20T17:33:09.983Z"
   },
   {
    "duration": 41,
    "start_time": "2022-05-20T17:33:09.995Z"
   },
   {
    "duration": 47,
    "start_time": "2022-05-20T17:33:10.037Z"
   },
   {
    "duration": 30,
    "start_time": "2022-05-20T17:33:10.085Z"
   },
   {
    "duration": 3,
    "start_time": "2022-05-20T17:33:10.117Z"
   },
   {
    "duration": 5,
    "start_time": "2022-05-20T17:33:10.121Z"
   },
   {
    "duration": 5,
    "start_time": "2022-05-20T17:33:10.128Z"
   },
   {
    "duration": 41,
    "start_time": "2022-05-20T17:33:10.134Z"
   },
   {
    "duration": 6,
    "start_time": "2022-05-20T17:33:10.177Z"
   },
   {
    "duration": 106,
    "start_time": "2022-05-20T17:33:10.184Z"
   },
   {
    "duration": 11,
    "start_time": "2022-05-20T17:33:10.291Z"
   },
   {
    "duration": 4,
    "start_time": "2022-05-20T17:33:10.304Z"
   },
   {
    "duration": 9,
    "start_time": "2022-05-20T17:33:10.309Z"
   },
   {
    "duration": 11,
    "start_time": "2022-05-20T17:33:10.320Z"
   },
   {
    "duration": 15,
    "start_time": "2022-05-20T17:33:10.362Z"
   },
   {
    "duration": 6,
    "start_time": "2022-05-20T17:33:10.378Z"
   },
   {
    "duration": 7,
    "start_time": "2022-05-20T17:33:46.334Z"
   },
   {
    "duration": 660,
    "start_time": "2022-05-20T17:34:19.129Z"
   },
   {
    "duration": 989,
    "start_time": "2022-05-20T17:34:26.005Z"
   },
   {
    "duration": 9,
    "start_time": "2022-05-20T17:34:44.749Z"
   },
   {
    "duration": 16,
    "start_time": "2022-05-20T17:34:48.038Z"
   },
   {
    "duration": 3670,
    "start_time": "2022-05-20T17:35:45.070Z"
   },
   {
    "duration": 3,
    "start_time": "2022-05-20T17:35:50.378Z"
   },
   {
    "duration": 26,
    "start_time": "2022-05-20T17:35:50.383Z"
   },
   {
    "duration": 68,
    "start_time": "2022-05-20T17:35:50.411Z"
   },
   {
    "duration": 9,
    "start_time": "2022-05-20T17:35:50.482Z"
   },
   {
    "duration": 40,
    "start_time": "2022-05-20T17:35:50.493Z"
   },
   {
    "duration": 43,
    "start_time": "2022-05-20T17:35:50.536Z"
   },
   {
    "duration": 28,
    "start_time": "2022-05-20T17:35:50.582Z"
   },
   {
    "duration": 35,
    "start_time": "2022-05-20T17:35:50.611Z"
   },
   {
    "duration": 33,
    "start_time": "2022-05-20T17:35:50.649Z"
   },
   {
    "duration": 157,
    "start_time": "2022-05-20T17:35:50.684Z"
   },
   {
    "duration": 8,
    "start_time": "2022-05-20T17:35:50.843Z"
   },
   {
    "duration": 52,
    "start_time": "2022-05-20T17:35:50.859Z"
   },
   {
    "duration": 32,
    "start_time": "2022-05-20T17:35:50.913Z"
   },
   {
    "duration": 44,
    "start_time": "2022-05-20T17:35:50.947Z"
   },
   {
    "duration": 47,
    "start_time": "2022-05-20T17:35:50.993Z"
   },
   {
    "duration": 93,
    "start_time": "2022-05-20T17:35:51.042Z"
   },
   {
    "duration": 94,
    "start_time": "2022-05-20T17:35:51.137Z"
   },
   {
    "duration": 7,
    "start_time": "2022-05-20T17:35:51.233Z"
   },
   {
    "duration": 33,
    "start_time": "2022-05-20T17:35:51.242Z"
   },
   {
    "duration": 15,
    "start_time": "2022-05-20T17:35:51.276Z"
   },
   {
    "duration": 19,
    "start_time": "2022-05-20T17:35:51.293Z"
   },
   {
    "duration": 22,
    "start_time": "2022-05-20T17:35:51.314Z"
   },
   {
    "duration": 61,
    "start_time": "2022-05-20T17:35:51.338Z"
   },
   {
    "duration": 138,
    "start_time": "2022-05-20T17:35:51.403Z"
   },
   {
    "duration": 22,
    "start_time": "2022-05-20T17:35:51.543Z"
   },
   {
    "duration": 30,
    "start_time": "2022-05-20T17:35:51.566Z"
   },
   {
    "duration": 16,
    "start_time": "2022-05-20T17:35:51.598Z"
   },
   {
    "duration": 24,
    "start_time": "2022-05-20T17:35:51.616Z"
   },
   {
    "duration": 55,
    "start_time": "2022-05-20T17:35:51.642Z"
   },
   {
    "duration": 100,
    "start_time": "2022-05-20T17:35:51.699Z"
   },
   {
    "duration": 27,
    "start_time": "2022-05-20T17:35:51.801Z"
   },
   {
    "duration": 10,
    "start_time": "2022-05-20T17:35:51.831Z"
   },
   {
    "duration": 35,
    "start_time": "2022-05-20T17:35:51.843Z"
   },
   {
    "duration": 46,
    "start_time": "2022-05-20T17:35:51.880Z"
   },
   {
    "duration": 6,
    "start_time": "2022-05-20T17:35:51.927Z"
   },
   {
    "duration": 32,
    "start_time": "2022-05-20T17:35:51.935Z"
   },
   {
    "duration": 77,
    "start_time": "2022-05-20T17:35:51.968Z"
   },
   {
    "duration": 1140,
    "start_time": "2022-05-20T17:35:52.046Z"
   },
   {
    "duration": 8,
    "start_time": "2022-05-20T17:35:53.188Z"
   },
   {
    "duration": 22,
    "start_time": "2022-05-20T17:35:53.198Z"
   },
   {
    "duration": 45,
    "start_time": "2022-05-20T17:35:53.222Z"
   },
   {
    "duration": 9,
    "start_time": "2022-05-20T17:35:53.270Z"
   },
   {
    "duration": 17,
    "start_time": "2022-05-20T17:35:53.281Z"
   },
   {
    "duration": 21,
    "start_time": "2022-05-20T17:35:53.300Z"
   },
   {
    "duration": 14,
    "start_time": "2022-05-20T17:35:53.323Z"
   },
   {
    "duration": 48,
    "start_time": "2022-05-20T17:35:53.338Z"
   },
   {
    "duration": 12,
    "start_time": "2022-05-20T17:35:53.388Z"
   },
   {
    "duration": 71,
    "start_time": "2022-05-20T17:35:53.401Z"
   },
   {
    "duration": 29,
    "start_time": "2022-05-20T17:35:53.474Z"
   },
   {
    "duration": 32,
    "start_time": "2022-05-20T17:35:53.505Z"
   },
   {
    "duration": 3,
    "start_time": "2022-05-20T17:35:53.538Z"
   },
   {
    "duration": 7,
    "start_time": "2022-05-20T17:35:53.559Z"
   },
   {
    "duration": 12,
    "start_time": "2022-05-20T17:35:53.568Z"
   },
   {
    "duration": 6,
    "start_time": "2022-05-20T17:35:53.581Z"
   },
   {
    "duration": 6,
    "start_time": "2022-05-20T17:35:53.589Z"
   },
   {
    "duration": 29,
    "start_time": "2022-05-20T17:35:53.597Z"
   },
   {
    "duration": 44,
    "start_time": "2022-05-20T17:35:53.627Z"
   },
   {
    "duration": 5,
    "start_time": "2022-05-20T17:35:53.673Z"
   },
   {
    "duration": 21,
    "start_time": "2022-05-20T17:35:53.680Z"
   },
   {
    "duration": 12,
    "start_time": "2022-05-20T17:35:53.702Z"
   },
   {
    "duration": 15,
    "start_time": "2022-05-20T17:35:53.715Z"
   },
   {
    "duration": 5,
    "start_time": "2022-05-20T17:35:53.731Z"
   },
   {
    "duration": 55,
    "start_time": "2022-05-20T18:09:15.388Z"
   },
   {
    "duration": 4,
    "start_time": "2022-05-20T18:09:21.276Z"
   },
   {
    "duration": 4,
    "start_time": "2022-05-20T18:10:30.348Z"
   },
   {
    "duration": 8,
    "start_time": "2022-05-20T18:10:54.555Z"
   },
   {
    "duration": 29,
    "start_time": "2022-05-20T18:11:39.797Z"
   },
   {
    "duration": 6,
    "start_time": "2022-05-20T18:11:54.077Z"
   },
   {
    "duration": 12,
    "start_time": "2022-05-20T18:12:41.109Z"
   },
   {
    "duration": 7,
    "start_time": "2022-05-20T18:14:43.911Z"
   },
   {
    "duration": 12,
    "start_time": "2022-05-20T18:14:44.998Z"
   },
   {
    "duration": 4,
    "start_time": "2022-05-20T18:17:56.608Z"
   },
   {
    "duration": 1565,
    "start_time": "2022-05-21T16:01:07.523Z"
   },
   {
    "duration": 4,
    "start_time": "2022-05-21T16:01:09.090Z"
   },
   {
    "duration": 67,
    "start_time": "2022-05-21T16:01:09.095Z"
   },
   {
    "duration": 13,
    "start_time": "2022-05-21T16:01:09.164Z"
   },
   {
    "duration": 9,
    "start_time": "2022-05-21T16:01:09.179Z"
   },
   {
    "duration": 13,
    "start_time": "2022-05-21T16:01:09.189Z"
   },
   {
    "duration": 16,
    "start_time": "2022-05-21T16:01:09.204Z"
   },
   {
    "duration": 36,
    "start_time": "2022-05-21T16:01:09.221Z"
   },
   {
    "duration": 7,
    "start_time": "2022-05-21T16:01:09.259Z"
   },
   {
    "duration": 229,
    "start_time": "2022-05-21T16:01:09.269Z"
   },
   {
    "duration": 8,
    "start_time": "2022-05-21T16:01:09.500Z"
   },
   {
    "duration": 10,
    "start_time": "2022-05-21T16:01:09.510Z"
   },
   {
    "duration": 27,
    "start_time": "2022-05-21T16:01:09.522Z"
   },
   {
    "duration": 28,
    "start_time": "2022-05-21T16:01:09.551Z"
   },
   {
    "duration": 55,
    "start_time": "2022-05-21T16:01:09.581Z"
   },
   {
    "duration": 107,
    "start_time": "2022-05-21T16:01:09.638Z"
   },
   {
    "duration": 133,
    "start_time": "2022-05-21T16:01:09.747Z"
   },
   {
    "duration": 8,
    "start_time": "2022-05-21T16:01:09.882Z"
   },
   {
    "duration": 10,
    "start_time": "2022-05-21T16:01:09.891Z"
   },
   {
    "duration": 29,
    "start_time": "2022-05-21T16:01:09.903Z"
   },
   {
    "duration": 24,
    "start_time": "2022-05-21T16:01:09.933Z"
   },
   {
    "duration": 15,
    "start_time": "2022-05-21T16:01:09.959Z"
   },
   {
    "duration": 80,
    "start_time": "2022-05-21T16:01:09.976Z"
   },
   {
    "duration": 321,
    "start_time": "2022-05-21T16:01:10.058Z"
   },
   {
    "duration": 9,
    "start_time": "2022-05-21T16:01:10.380Z"
   },
   {
    "duration": 15,
    "start_time": "2022-05-21T16:01:10.391Z"
   },
   {
    "duration": 22,
    "start_time": "2022-05-21T16:01:10.407Z"
   },
   {
    "duration": 24,
    "start_time": "2022-05-21T16:01:10.433Z"
   },
   {
    "duration": 27,
    "start_time": "2022-05-21T16:01:10.458Z"
   },
   {
    "duration": 92,
    "start_time": "2022-05-21T16:01:10.487Z"
   },
   {
    "duration": 39,
    "start_time": "2022-05-21T16:01:10.581Z"
   },
   {
    "duration": 18,
    "start_time": "2022-05-21T16:01:10.621Z"
   },
   {
    "duration": 22,
    "start_time": "2022-05-21T16:01:10.641Z"
   },
   {
    "duration": 26,
    "start_time": "2022-05-21T16:01:10.664Z"
   },
   {
    "duration": 6,
    "start_time": "2022-05-21T16:01:10.691Z"
   },
   {
    "duration": 38,
    "start_time": "2022-05-21T16:01:10.698Z"
   },
   {
    "duration": 46,
    "start_time": "2022-05-21T16:01:10.738Z"
   },
   {
    "duration": 1412,
    "start_time": "2022-05-21T16:01:10.785Z"
   },
   {
    "duration": 11,
    "start_time": "2022-05-21T16:01:12.199Z"
   },
   {
    "duration": 26,
    "start_time": "2022-05-21T16:01:12.212Z"
   },
   {
    "duration": 24,
    "start_time": "2022-05-21T16:01:12.239Z"
   },
   {
    "duration": 6,
    "start_time": "2022-05-21T16:01:12.264Z"
   },
   {
    "duration": 18,
    "start_time": "2022-05-21T16:01:12.272Z"
   },
   {
    "duration": 58,
    "start_time": "2022-05-21T16:01:12.292Z"
   },
   {
    "duration": 11,
    "start_time": "2022-05-21T16:01:12.352Z"
   },
   {
    "duration": 15,
    "start_time": "2022-05-21T16:01:12.365Z"
   },
   {
    "duration": 7,
    "start_time": "2022-05-21T16:01:12.382Z"
   },
   {
    "duration": 80,
    "start_time": "2022-05-21T16:01:12.391Z"
   },
   {
    "duration": 30,
    "start_time": "2022-05-21T16:01:12.473Z"
   },
   {
    "duration": 55,
    "start_time": "2022-05-21T16:01:12.505Z"
   },
   {
    "duration": 69,
    "start_time": "2022-05-21T16:01:12.561Z"
   },
   {
    "duration": 14,
    "start_time": "2022-05-21T16:01:12.631Z"
   },
   {
    "duration": 5,
    "start_time": "2022-05-21T16:01:12.648Z"
   },
   {
    "duration": 15,
    "start_time": "2022-05-21T16:01:12.655Z"
   },
   {
    "duration": 7,
    "start_time": "2022-05-21T16:01:12.672Z"
   },
   {
    "duration": 7,
    "start_time": "2022-05-21T16:01:12.681Z"
   },
   {
    "duration": 43,
    "start_time": "2022-05-21T16:01:12.690Z"
   },
   {
    "duration": 21,
    "start_time": "2022-05-21T16:03:20.783Z"
   },
   {
    "duration": 116,
    "start_time": "2022-05-21T16:04:44.464Z"
   },
   {
    "duration": 10,
    "start_time": "2022-05-21T16:04:55.488Z"
   },
   {
    "duration": 20,
    "start_time": "2022-05-21T16:20:39.578Z"
   },
   {
    "duration": 31,
    "start_time": "2022-05-21T16:21:02.011Z"
   },
   {
    "duration": 16,
    "start_time": "2022-05-21T17:21:55.619Z"
   },
   {
    "duration": 33,
    "start_time": "2022-05-21T17:21:58.203Z"
   },
   {
    "duration": 20,
    "start_time": "2022-05-21T17:22:04.274Z"
   },
   {
    "duration": 7,
    "start_time": "2022-05-21T17:22:57.683Z"
   },
   {
    "duration": 125,
    "start_time": "2022-05-21T17:23:01.299Z"
   },
   {
    "duration": 11,
    "start_time": "2022-05-21T17:24:12.701Z"
   },
   {
    "duration": 30,
    "start_time": "2022-05-21T17:29:35.674Z"
   },
   {
    "duration": 32,
    "start_time": "2022-05-21T17:29:58.192Z"
   },
   {
    "duration": 29,
    "start_time": "2022-05-21T17:30:10.184Z"
   },
   {
    "duration": 133,
    "start_time": "2022-05-21T17:30:48.408Z"
   },
   {
    "duration": 142,
    "start_time": "2022-05-21T17:30:55.946Z"
   },
   {
    "duration": 132,
    "start_time": "2022-05-21T17:31:06.387Z"
   },
   {
    "duration": 136,
    "start_time": "2022-05-21T17:31:12.739Z"
   },
   {
    "duration": 136,
    "start_time": "2022-05-21T17:31:17.881Z"
   },
   {
    "duration": 121,
    "start_time": "2022-05-21T17:31:23.675Z"
   },
   {
    "duration": 135,
    "start_time": "2022-05-21T17:32:09.811Z"
   },
   {
    "duration": 31,
    "start_time": "2022-05-21T17:32:23.403Z"
   },
   {
    "duration": 126,
    "start_time": "2022-05-21T17:34:05.245Z"
   },
   {
    "duration": 141,
    "start_time": "2022-05-21T17:34:17.102Z"
   },
   {
    "duration": 120,
    "start_time": "2022-05-21T17:34:29.620Z"
   },
   {
    "duration": 124,
    "start_time": "2022-05-21T17:34:33.124Z"
   },
   {
    "duration": 19,
    "start_time": "2022-05-21T17:36:10.640Z"
   },
   {
    "duration": 34,
    "start_time": "2022-05-21T17:36:53.653Z"
   },
   {
    "duration": 22,
    "start_time": "2022-05-21T17:37:47.396Z"
   },
   {
    "duration": 23,
    "start_time": "2022-05-21T17:38:16.389Z"
   },
   {
    "duration": 46,
    "start_time": "2022-05-21T17:38:25.540Z"
   },
   {
    "duration": 103,
    "start_time": "2022-05-21T17:38:35.020Z"
   },
   {
    "duration": 21,
    "start_time": "2022-05-21T17:38:43.373Z"
   },
   {
    "duration": 106,
    "start_time": "2022-05-21T17:39:12.940Z"
   },
   {
    "duration": 22,
    "start_time": "2022-05-21T17:39:23.996Z"
   },
   {
    "duration": 106,
    "start_time": "2022-05-21T17:39:43.180Z"
   },
   {
    "duration": 21,
    "start_time": "2022-05-21T17:39:44.878Z"
   },
   {
    "duration": 5,
    "start_time": "2022-05-21T17:49:36.427Z"
   },
   {
    "duration": 306,
    "start_time": "2022-05-21T17:49:38.347Z"
   },
   {
    "duration": 6,
    "start_time": "2022-05-21T17:49:51.939Z"
   },
   {
    "duration": 128,
    "start_time": "2022-05-21T17:49:54.571Z"
   },
   {
    "duration": 109,
    "start_time": "2022-05-21T17:56:04.580Z"
   },
   {
    "duration": 103,
    "start_time": "2022-05-21T17:57:40.891Z"
   },
   {
    "duration": 111,
    "start_time": "2022-05-21T17:57:52.909Z"
   },
   {
    "duration": 106,
    "start_time": "2022-05-21T17:58:11.143Z"
   },
   {
    "duration": 112,
    "start_time": "2022-05-21T17:59:33.422Z"
   },
   {
    "duration": 118,
    "start_time": "2022-05-21T18:00:12.128Z"
   },
   {
    "duration": 113,
    "start_time": "2022-05-21T18:00:20.461Z"
   },
   {
    "duration": 120,
    "start_time": "2022-05-21T18:00:24.567Z"
   },
   {
    "duration": 118,
    "start_time": "2022-05-21T18:01:52.410Z"
   },
   {
    "duration": 137,
    "start_time": "2022-05-21T18:02:32.603Z"
   },
   {
    "duration": 7,
    "start_time": "2022-05-21T18:02:58.008Z"
   },
   {
    "duration": 105,
    "start_time": "2022-05-21T18:02:59.367Z"
   },
   {
    "duration": 23,
    "start_time": "2022-05-21T18:03:02.168Z"
   },
   {
    "duration": 35,
    "start_time": "2022-05-21T18:03:45.465Z"
   },
   {
    "duration": 4,
    "start_time": "2022-05-21T18:04:23.816Z"
   },
   {
    "duration": 8,
    "start_time": "2022-05-21T18:04:23.822Z"
   },
   {
    "duration": 26,
    "start_time": "2022-05-21T18:04:23.831Z"
   },
   {
    "duration": 10,
    "start_time": "2022-05-21T18:04:23.859Z"
   },
   {
    "duration": 10,
    "start_time": "2022-05-21T18:04:23.871Z"
   },
   {
    "duration": 10,
    "start_time": "2022-05-21T18:04:23.883Z"
   },
   {
    "duration": 34,
    "start_time": "2022-05-21T18:04:23.895Z"
   },
   {
    "duration": 15,
    "start_time": "2022-05-21T18:04:23.931Z"
   },
   {
    "duration": 7,
    "start_time": "2022-05-21T18:04:23.949Z"
   },
   {
    "duration": 180,
    "start_time": "2022-05-21T18:04:23.957Z"
   },
   {
    "duration": 9,
    "start_time": "2022-05-21T18:04:24.139Z"
   },
   {
    "duration": 10,
    "start_time": "2022-05-21T18:04:24.149Z"
   },
   {
    "duration": 14,
    "start_time": "2022-05-21T18:04:24.160Z"
   },
   {
    "duration": 51,
    "start_time": "2022-05-21T18:04:24.176Z"
   },
   {
    "duration": 29,
    "start_time": "2022-05-21T18:04:24.228Z"
   },
   {
    "duration": 125,
    "start_time": "2022-05-21T18:04:24.258Z"
   },
   {
    "duration": 83,
    "start_time": "2022-05-21T18:04:24.385Z"
   },
   {
    "duration": 7,
    "start_time": "2022-05-21T18:04:24.469Z"
   },
   {
    "duration": 9,
    "start_time": "2022-05-21T18:04:24.478Z"
   },
   {
    "duration": 35,
    "start_time": "2022-05-21T18:04:24.489Z"
   },
   {
    "duration": 21,
    "start_time": "2022-05-21T18:04:24.526Z"
   },
   {
    "duration": 13,
    "start_time": "2022-05-21T18:04:24.549Z"
   },
   {
    "duration": 73,
    "start_time": "2022-05-21T18:04:24.564Z"
   },
   {
    "duration": 127,
    "start_time": "2022-05-21T18:04:24.641Z"
   },
   {
    "duration": 9,
    "start_time": "2022-05-21T18:04:24.769Z"
   },
   {
    "duration": 16,
    "start_time": "2022-05-21T18:04:24.779Z"
   },
   {
    "duration": 27,
    "start_time": "2022-05-21T18:04:24.797Z"
   },
   {
    "duration": 22,
    "start_time": "2022-05-21T18:04:24.826Z"
   },
   {
    "duration": 29,
    "start_time": "2022-05-21T18:04:24.850Z"
   },
   {
    "duration": 94,
    "start_time": "2022-05-21T18:04:24.881Z"
   },
   {
    "duration": 15,
    "start_time": "2022-05-21T18:04:24.976Z"
   },
   {
    "duration": 7,
    "start_time": "2022-05-21T18:04:24.993Z"
   },
   {
    "duration": 27,
    "start_time": "2022-05-21T18:04:25.002Z"
   },
   {
    "duration": 27,
    "start_time": "2022-05-21T18:04:25.031Z"
   },
   {
    "duration": 5,
    "start_time": "2022-05-21T18:04:25.060Z"
   },
   {
    "duration": 15,
    "start_time": "2022-05-21T18:04:25.067Z"
   },
   {
    "duration": 69,
    "start_time": "2022-05-21T18:04:25.083Z"
   },
   {
    "duration": 1131,
    "start_time": "2022-05-21T18:04:25.154Z"
   },
   {
    "duration": 12,
    "start_time": "2022-05-21T18:04:26.287Z"
   },
   {
    "duration": 30,
    "start_time": "2022-05-21T18:04:26.301Z"
   },
   {
    "duration": 23,
    "start_time": "2022-05-21T18:04:26.333Z"
   },
   {
    "duration": 8,
    "start_time": "2022-05-21T18:04:26.358Z"
   },
   {
    "duration": 17,
    "start_time": "2022-05-21T18:04:26.368Z"
   },
   {
    "duration": 52,
    "start_time": "2022-05-21T18:04:26.387Z"
   },
   {
    "duration": 9,
    "start_time": "2022-05-21T18:04:26.441Z"
   },
   {
    "duration": 17,
    "start_time": "2022-05-21T18:04:26.451Z"
   },
   {
    "duration": 8,
    "start_time": "2022-05-21T18:04:26.470Z"
   },
   {
    "duration": 74,
    "start_time": "2022-05-21T18:04:26.479Z"
   },
   {
    "duration": 31,
    "start_time": "2022-05-21T18:04:26.555Z"
   },
   {
    "duration": 57,
    "start_time": "2022-05-21T18:04:26.588Z"
   },
   {
    "duration": 32,
    "start_time": "2022-05-21T18:04:26.647Z"
   },
   {
    "duration": 15,
    "start_time": "2022-05-21T18:04:26.680Z"
   },
   {
    "duration": 7,
    "start_time": "2022-05-21T18:04:26.722Z"
   },
   {
    "duration": 10,
    "start_time": "2022-05-21T18:04:26.731Z"
   },
   {
    "duration": 4,
    "start_time": "2022-05-21T18:04:26.742Z"
   },
   {
    "duration": 7,
    "start_time": "2022-05-21T18:04:26.747Z"
   },
   {
    "duration": 9,
    "start_time": "2022-05-21T18:04:26.755Z"
   },
   {
    "duration": 13,
    "start_time": "2022-05-21T18:04:26.766Z"
   },
   {
    "duration": 44,
    "start_time": "2022-05-21T18:04:26.781Z"
   },
   {
    "duration": 122,
    "start_time": "2022-05-21T18:04:26.826Z"
   },
   {
    "duration": 22,
    "start_time": "2022-05-21T18:04:26.950Z"
   },
   {
    "duration": 71,
    "start_time": "2022-05-22T08:03:36.757Z"
   },
   {
    "duration": 1653,
    "start_time": "2022-05-22T08:03:40.533Z"
   },
   {
    "duration": 3,
    "start_time": "2022-05-22T08:03:42.189Z"
   },
   {
    "duration": 100,
    "start_time": "2022-05-22T08:03:42.195Z"
   },
   {
    "duration": 12,
    "start_time": "2022-05-22T08:03:42.297Z"
   },
   {
    "duration": 30,
    "start_time": "2022-05-22T08:03:42.311Z"
   },
   {
    "duration": 19,
    "start_time": "2022-05-22T08:03:42.342Z"
   },
   {
    "duration": 13,
    "start_time": "2022-05-22T08:03:42.362Z"
   },
   {
    "duration": 13,
    "start_time": "2022-05-22T08:03:42.376Z"
   },
   {
    "duration": 5,
    "start_time": "2022-05-22T08:03:42.390Z"
   },
   {
    "duration": 467,
    "start_time": "2022-05-22T08:03:42.397Z"
   },
   {
    "duration": 9,
    "start_time": "2022-05-22T08:03:42.865Z"
   },
   {
    "duration": 10,
    "start_time": "2022-05-22T08:03:42.875Z"
   },
   {
    "duration": 17,
    "start_time": "2022-05-22T08:03:42.887Z"
   },
   {
    "duration": 35,
    "start_time": "2022-05-22T08:03:42.906Z"
   },
   {
    "duration": 24,
    "start_time": "2022-05-22T08:03:42.942Z"
   },
   {
    "duration": 129,
    "start_time": "2022-05-22T08:03:42.968Z"
   },
   {
    "duration": 268,
    "start_time": "2022-05-22T08:03:43.099Z"
   },
   {
    "duration": 8,
    "start_time": "2022-05-22T08:03:43.369Z"
   },
   {
    "duration": 22,
    "start_time": "2022-05-22T08:03:43.379Z"
   },
   {
    "duration": 31,
    "start_time": "2022-05-22T08:03:43.403Z"
   },
   {
    "duration": 40,
    "start_time": "2022-05-22T08:03:43.436Z"
   },
   {
    "duration": 27,
    "start_time": "2022-05-22T08:03:43.478Z"
   },
   {
    "duration": 43,
    "start_time": "2022-05-22T08:03:43.507Z"
   },
   {
    "duration": 423,
    "start_time": "2022-05-22T08:03:43.552Z"
   },
   {
    "duration": 8,
    "start_time": "2022-05-22T08:03:43.977Z"
   },
   {
    "duration": 12,
    "start_time": "2022-05-22T08:03:43.987Z"
   },
   {
    "duration": 24,
    "start_time": "2022-05-22T08:03:44.000Z"
   },
   {
    "duration": 24,
    "start_time": "2022-05-22T08:03:44.027Z"
   },
   {
    "duration": 26,
    "start_time": "2022-05-22T08:03:44.053Z"
   },
   {
    "duration": 95,
    "start_time": "2022-05-22T08:03:44.081Z"
   },
   {
    "duration": 64,
    "start_time": "2022-05-22T08:03:44.178Z"
   },
   {
    "duration": 8,
    "start_time": "2022-05-22T08:03:44.244Z"
   },
   {
    "duration": 33,
    "start_time": "2022-05-22T08:03:44.253Z"
   },
   {
    "duration": 46,
    "start_time": "2022-05-22T08:03:44.288Z"
   },
   {
    "duration": 32,
    "start_time": "2022-05-22T08:03:44.336Z"
   },
   {
    "duration": 30,
    "start_time": "2022-05-22T08:03:44.369Z"
   },
   {
    "duration": 69,
    "start_time": "2022-05-22T08:03:44.401Z"
   },
   {
    "duration": 1182,
    "start_time": "2022-05-22T08:03:44.471Z"
   },
   {
    "duration": 11,
    "start_time": "2022-05-22T08:03:45.654Z"
   },
   {
    "duration": 15,
    "start_time": "2022-05-22T08:03:45.667Z"
   },
   {
    "duration": 42,
    "start_time": "2022-05-22T08:03:45.684Z"
   },
   {
    "duration": 6,
    "start_time": "2022-05-22T08:03:45.728Z"
   },
   {
    "duration": 24,
    "start_time": "2022-05-22T08:03:45.736Z"
   },
   {
    "duration": 30,
    "start_time": "2022-05-22T08:03:45.761Z"
   },
   {
    "duration": 8,
    "start_time": "2022-05-22T08:03:45.793Z"
   },
   {
    "duration": 23,
    "start_time": "2022-05-22T08:03:45.813Z"
   },
   {
    "duration": 15,
    "start_time": "2022-05-22T08:03:45.838Z"
   },
   {
    "duration": 127,
    "start_time": "2022-05-22T08:03:45.854Z"
   },
   {
    "duration": 42,
    "start_time": "2022-05-22T08:03:45.983Z"
   },
   {
    "duration": 33,
    "start_time": "2022-05-22T08:03:46.027Z"
   },
   {
    "duration": 31,
    "start_time": "2022-05-22T08:03:46.062Z"
   },
   {
    "duration": 32,
    "start_time": "2022-05-22T08:03:46.094Z"
   },
   {
    "duration": 4,
    "start_time": "2022-05-22T08:03:46.128Z"
   },
   {
    "duration": 20,
    "start_time": "2022-05-22T08:03:46.134Z"
   },
   {
    "duration": 7,
    "start_time": "2022-05-22T08:03:46.155Z"
   },
   {
    "duration": 22,
    "start_time": "2022-05-22T08:03:46.163Z"
   },
   {
    "duration": 22,
    "start_time": "2022-05-22T08:03:46.186Z"
   },
   {
    "duration": 14,
    "start_time": "2022-05-22T08:03:46.210Z"
   },
   {
    "duration": 124,
    "start_time": "2022-05-22T08:03:46.231Z"
   },
   {
    "duration": 19,
    "start_time": "2022-05-22T08:03:46.357Z"
   },
   {
    "duration": 13,
    "start_time": "2022-05-22T08:04:00.892Z"
   },
   {
    "duration": 17,
    "start_time": "2022-05-22T08:04:08.434Z"
   },
   {
    "duration": 62,
    "start_time": "2022-05-22T08:04:19.787Z"
   },
   {
    "duration": 15,
    "start_time": "2022-05-22T08:04:53.909Z"
   },
   {
    "duration": 32,
    "start_time": "2022-05-22T15:06:47.255Z"
   },
   {
    "duration": 29,
    "start_time": "2022-05-22T15:09:33.666Z"
   },
   {
    "duration": 40,
    "start_time": "2022-05-22T15:12:11.611Z"
   },
   {
    "duration": 10,
    "start_time": "2022-05-22T15:12:49.150Z"
   },
   {
    "duration": 9,
    "start_time": "2022-05-22T15:12:52.083Z"
   },
   {
    "duration": 33,
    "start_time": "2022-05-22T15:16:48.166Z"
   },
   {
    "duration": 26,
    "start_time": "2022-05-22T15:17:11.260Z"
   },
   {
    "duration": 15,
    "start_time": "2022-05-22T15:17:24.310Z"
   },
   {
    "duration": 21,
    "start_time": "2022-05-22T15:17:30.293Z"
   },
   {
    "duration": 11,
    "start_time": "2022-05-22T15:17:35.670Z"
   },
   {
    "duration": 554,
    "start_time": "2022-05-22T15:19:24.528Z"
   },
   {
    "duration": 30,
    "start_time": "2022-05-22T15:19:41.681Z"
   },
   {
    "duration": 460,
    "start_time": "2022-05-22T15:21:04.375Z"
   },
   {
    "duration": 37,
    "start_time": "2022-05-22T15:22:02.155Z"
   },
   {
    "duration": 515,
    "start_time": "2022-05-22T15:22:20.859Z"
   },
   {
    "duration": 538,
    "start_time": "2022-05-22T15:23:44.610Z"
   },
   {
    "duration": 525,
    "start_time": "2022-05-22T15:24:00.456Z"
   },
   {
    "duration": 34,
    "start_time": "2022-05-22T15:24:06.930Z"
   },
   {
    "duration": 16,
    "start_time": "2022-05-22T15:24:17.018Z"
   },
   {
    "duration": 13,
    "start_time": "2022-05-22T15:28:50.729Z"
   },
   {
    "duration": 179,
    "start_time": "2022-05-22T15:29:29.143Z"
   },
   {
    "duration": 163,
    "start_time": "2022-05-22T15:29:48.205Z"
   },
   {
    "duration": 391,
    "start_time": "2022-05-22T15:30:31.759Z"
   },
   {
    "duration": 120,
    "start_time": "2022-05-22T15:30:54.196Z"
   },
   {
    "duration": 9,
    "start_time": "2022-05-22T15:30:58.127Z"
   },
   {
    "duration": 122,
    "start_time": "2022-05-22T15:31:03.309Z"
   },
   {
    "duration": 10,
    "start_time": "2022-05-22T15:31:13.239Z"
   },
   {
    "duration": 9,
    "start_time": "2022-05-22T15:31:47.389Z"
   },
   {
    "duration": 339,
    "start_time": "2022-05-22T15:39:26.690Z"
   },
   {
    "duration": 320,
    "start_time": "2022-05-22T15:40:20.842Z"
   },
   {
    "duration": 408,
    "start_time": "2022-05-22T15:40:26.491Z"
   },
   {
    "duration": 511,
    "start_time": "2022-05-22T15:40:46.970Z"
   },
   {
    "duration": 267,
    "start_time": "2022-05-22T15:41:11.232Z"
   },
   {
    "duration": 236,
    "start_time": "2022-05-22T15:41:18.039Z"
   },
   {
    "duration": 309,
    "start_time": "2022-05-22T15:41:33.268Z"
   },
   {
    "duration": 15,
    "start_time": "2022-05-22T15:41:49.890Z"
   },
   {
    "duration": 221,
    "start_time": "2022-05-22T15:41:54.852Z"
   },
   {
    "duration": 304,
    "start_time": "2022-05-22T15:42:04.179Z"
   },
   {
    "duration": 260,
    "start_time": "2022-05-22T15:42:23.250Z"
   },
   {
    "duration": 386,
    "start_time": "2022-05-22T15:47:54.878Z"
   },
   {
    "duration": 12,
    "start_time": "2022-05-22T15:48:15.767Z"
   },
   {
    "duration": 17,
    "start_time": "2022-05-22T15:49:21.775Z"
   },
   {
    "duration": 648,
    "start_time": "2022-05-22T15:50:21.351Z"
   },
   {
    "duration": 3426,
    "start_time": "2022-05-22T15:51:45.761Z"
   },
   {
    "duration": 3343,
    "start_time": "2022-05-22T15:52:11.978Z"
   },
   {
    "duration": 606,
    "start_time": "2022-05-22T15:52:21.151Z"
   },
   {
    "duration": 726,
    "start_time": "2022-05-22T15:52:27.369Z"
   },
   {
    "duration": 510,
    "start_time": "2022-05-22T15:52:33.150Z"
   },
   {
    "duration": 524,
    "start_time": "2022-05-22T15:52:47.541Z"
   },
   {
    "duration": 522,
    "start_time": "2022-05-22T15:52:56.941Z"
   },
   {
    "duration": 260,
    "start_time": "2022-05-22T15:53:57.653Z"
   },
   {
    "duration": 29,
    "start_time": "2022-05-22T15:54:05.754Z"
   },
   {
    "duration": 260,
    "start_time": "2022-05-22T15:54:10.601Z"
   },
   {
    "duration": 544,
    "start_time": "2022-05-22T15:54:18.850Z"
   },
   {
    "duration": 357,
    "start_time": "2022-05-22T15:55:47.199Z"
   },
   {
    "duration": 572,
    "start_time": "2022-05-22T15:56:04.364Z"
   },
   {
    "duration": 42,
    "start_time": "2022-05-22T15:56:15.306Z"
   },
   {
    "duration": 15,
    "start_time": "2022-05-22T15:58:28.780Z"
   },
   {
    "duration": 16,
    "start_time": "2022-05-22T15:58:32.462Z"
   },
   {
    "duration": 348,
    "start_time": "2022-05-22T15:58:40.845Z"
   },
   {
    "duration": 82,
    "start_time": "2022-05-22T15:59:14.061Z"
   },
   {
    "duration": 534,
    "start_time": "2022-05-22T15:59:20.942Z"
   },
   {
    "duration": 522,
    "start_time": "2022-05-22T16:00:39.365Z"
   },
   {
    "duration": 289,
    "start_time": "2022-05-22T16:00:53.319Z"
   },
   {
    "duration": 611,
    "start_time": "2022-05-22T16:01:07.085Z"
   },
   {
    "duration": 280,
    "start_time": "2022-05-22T16:01:53.966Z"
   },
   {
    "duration": 588,
    "start_time": "2022-05-22T16:02:46.078Z"
   },
   {
    "duration": 528,
    "start_time": "2022-05-22T16:02:53.039Z"
   },
   {
    "duration": 355,
    "start_time": "2022-05-22T16:04:18.711Z"
   },
   {
    "duration": 542,
    "start_time": "2022-05-22T16:04:30.045Z"
   },
   {
    "duration": 10,
    "start_time": "2022-05-22T16:07:22.400Z"
   },
   {
    "duration": 520,
    "start_time": "2022-05-22T16:09:33.154Z"
   },
   {
    "duration": 869,
    "start_time": "2022-05-22T16:10:05.402Z"
   },
   {
    "duration": 2252,
    "start_time": "2022-05-22T16:10:46.140Z"
   },
   {
    "duration": 405,
    "start_time": "2022-05-22T16:11:43.659Z"
   },
   {
    "duration": 413,
    "start_time": "2022-05-22T16:11:54.841Z"
   },
   {
    "duration": 268,
    "start_time": "2022-05-22T16:13:21.444Z"
   },
   {
    "duration": 449,
    "start_time": "2022-05-22T16:13:28.076Z"
   },
   {
    "duration": 450,
    "start_time": "2022-05-22T16:24:20.854Z"
   },
   {
    "duration": 437,
    "start_time": "2022-05-22T16:24:32.258Z"
   },
   {
    "duration": 420,
    "start_time": "2022-05-22T16:24:54.096Z"
   },
   {
    "duration": 364,
    "start_time": "2022-05-22T16:36:23.828Z"
   },
   {
    "duration": 36,
    "start_time": "2022-05-22T16:44:19.040Z"
   },
   {
    "duration": 5,
    "start_time": "2022-05-22T16:54:33.149Z"
   },
   {
    "duration": 53,
    "start_time": "2022-05-22T17:04:53.794Z"
   },
   {
    "duration": 45,
    "start_time": "2022-05-22T17:06:14.890Z"
   },
   {
    "duration": 43,
    "start_time": "2022-05-22T17:13:57.262Z"
   },
   {
    "duration": 55,
    "start_time": "2022-05-22T17:15:27.462Z"
   },
   {
    "duration": 48,
    "start_time": "2022-05-22T17:15:32.806Z"
   },
   {
    "duration": 425,
    "start_time": "2022-05-22T17:26:39.510Z"
   },
   {
    "duration": 7,
    "start_time": "2022-05-22T17:26:58.268Z"
   },
   {
    "duration": 7,
    "start_time": "2022-05-22T17:27:17.091Z"
   },
   {
    "duration": 8,
    "start_time": "2022-05-22T17:27:31.435Z"
   },
   {
    "duration": 6,
    "start_time": "2022-05-22T17:27:33.540Z"
   },
   {
    "duration": 7,
    "start_time": "2022-05-22T17:28:33.341Z"
   },
   {
    "duration": 385,
    "start_time": "2022-05-22T17:29:38.292Z"
   },
   {
    "duration": 13,
    "start_time": "2022-05-22T18:00:01.049Z"
   },
   {
    "duration": 13,
    "start_time": "2022-05-22T18:02:29.811Z"
   },
   {
    "duration": 12,
    "start_time": "2022-05-22T18:02:56.340Z"
   },
   {
    "duration": 302,
    "start_time": "2022-05-22T18:03:18.683Z"
   },
   {
    "duration": 255,
    "start_time": "2022-05-22T18:03:38.915Z"
   },
   {
    "duration": 226,
    "start_time": "2022-05-22T18:06:59.389Z"
   },
   {
    "duration": 460,
    "start_time": "2022-05-22T18:08:41.526Z"
   },
   {
    "duration": 26,
    "start_time": "2022-05-22T18:08:57.759Z"
   },
   {
    "duration": 444,
    "start_time": "2022-05-22T18:09:05.181Z"
   },
   {
    "duration": 292,
    "start_time": "2022-05-22T18:10:00.400Z"
   },
   {
    "duration": 178,
    "start_time": "2022-05-22T18:10:15.464Z"
   },
   {
    "duration": 321,
    "start_time": "2022-05-22T18:10:21.535Z"
   },
   {
    "duration": 322,
    "start_time": "2022-05-22T18:10:28.792Z"
   },
   {
    "duration": 604,
    "start_time": "2022-05-22T18:10:46.792Z"
   },
   {
    "duration": 4612,
    "start_time": "2022-05-22T18:11:30.488Z"
   },
   {
    "duration": 52,
    "start_time": "2022-05-22T18:12:34.729Z"
   },
   {
    "duration": 5225,
    "start_time": "2022-05-22T18:13:05.153Z"
   },
   {
    "duration": 7723,
    "start_time": "2022-05-22T18:14:34.305Z"
   },
   {
    "duration": 83267,
    "start_time": "2022-05-22T18:16:12.843Z"
   },
   {
    "duration": 43,
    "start_time": "2022-05-22T18:25:02.960Z"
   },
   {
    "duration": 66,
    "start_time": "2022-05-23T06:31:32.613Z"
   },
   {
    "duration": 1430,
    "start_time": "2022-05-23T06:31:39.167Z"
   },
   {
    "duration": 4,
    "start_time": "2022-05-23T06:31:40.599Z"
   },
   {
    "duration": 78,
    "start_time": "2022-05-23T06:31:40.605Z"
   },
   {
    "duration": 17,
    "start_time": "2022-05-23T06:31:40.686Z"
   },
   {
    "duration": 66,
    "start_time": "2022-05-23T06:31:40.706Z"
   },
   {
    "duration": 26,
    "start_time": "2022-05-23T06:31:40.775Z"
   },
   {
    "duration": 21,
    "start_time": "2022-05-23T06:31:40.803Z"
   },
   {
    "duration": 38,
    "start_time": "2022-05-23T06:31:40.826Z"
   },
   {
    "duration": 9,
    "start_time": "2022-05-23T06:31:40.866Z"
   },
   {
    "duration": 273,
    "start_time": "2022-05-23T06:31:40.881Z"
   },
   {
    "duration": 12,
    "start_time": "2022-05-23T06:31:41.156Z"
   },
   {
    "duration": 28,
    "start_time": "2022-05-23T06:31:41.170Z"
   },
   {
    "duration": 24,
    "start_time": "2022-05-23T06:31:41.200Z"
   },
   {
    "duration": 51,
    "start_time": "2022-05-23T06:31:41.226Z"
   },
   {
    "duration": 43,
    "start_time": "2022-05-23T06:31:41.280Z"
   },
   {
    "duration": 147,
    "start_time": "2022-05-23T06:31:41.325Z"
   },
   {
    "duration": 149,
    "start_time": "2022-05-23T06:31:41.474Z"
   },
   {
    "duration": 9,
    "start_time": "2022-05-23T06:31:41.625Z"
   },
   {
    "duration": 37,
    "start_time": "2022-05-23T06:31:41.638Z"
   },
   {
    "duration": 16,
    "start_time": "2022-05-23T06:31:41.677Z"
   },
   {
    "duration": 29,
    "start_time": "2022-05-23T06:31:41.695Z"
   },
   {
    "duration": 23,
    "start_time": "2022-05-23T06:31:41.728Z"
   },
   {
    "duration": 68,
    "start_time": "2022-05-23T06:31:41.752Z"
   },
   {
    "duration": 366,
    "start_time": "2022-05-23T06:31:41.826Z"
   },
   {
    "duration": 9,
    "start_time": "2022-05-23T06:31:42.193Z"
   },
   {
    "duration": 12,
    "start_time": "2022-05-23T06:31:42.204Z"
   },
   {
    "duration": 29,
    "start_time": "2022-05-23T06:31:42.218Z"
   },
   {
    "duration": 34,
    "start_time": "2022-05-23T06:31:42.252Z"
   },
   {
    "duration": 28,
    "start_time": "2022-05-23T06:31:42.287Z"
   },
   {
    "duration": 78,
    "start_time": "2022-05-23T06:31:42.317Z"
   },
   {
    "duration": 42,
    "start_time": "2022-05-23T06:31:42.397Z"
   },
   {
    "duration": 10,
    "start_time": "2022-05-23T06:31:42.444Z"
   },
   {
    "duration": 27,
    "start_time": "2022-05-23T06:31:42.456Z"
   },
   {
    "duration": 55,
    "start_time": "2022-05-23T06:31:42.485Z"
   },
   {
    "duration": 9,
    "start_time": "2022-05-23T06:31:42.541Z"
   },
   {
    "duration": 46,
    "start_time": "2022-05-23T06:31:42.552Z"
   },
   {
    "duration": 95,
    "start_time": "2022-05-23T06:31:42.600Z"
   },
   {
    "duration": 1245,
    "start_time": "2022-05-23T06:31:42.696Z"
   },
   {
    "duration": 17,
    "start_time": "2022-05-23T06:31:43.943Z"
   },
   {
    "duration": 30,
    "start_time": "2022-05-23T06:31:43.962Z"
   },
   {
    "duration": 44,
    "start_time": "2022-05-23T06:31:43.994Z"
   },
   {
    "duration": 7,
    "start_time": "2022-05-23T06:31:44.043Z"
   },
   {
    "duration": 39,
    "start_time": "2022-05-23T06:31:44.051Z"
   },
   {
    "duration": 38,
    "start_time": "2022-05-23T06:31:44.092Z"
   },
   {
    "duration": 15,
    "start_time": "2022-05-23T06:31:44.132Z"
   },
   {
    "duration": 39,
    "start_time": "2022-05-23T06:31:44.148Z"
   },
   {
    "duration": 23,
    "start_time": "2022-05-23T06:31:44.189Z"
   },
   {
    "duration": 133,
    "start_time": "2022-05-23T06:31:44.214Z"
   },
   {
    "duration": 28,
    "start_time": "2022-05-23T06:31:44.349Z"
   },
   {
    "duration": 62,
    "start_time": "2022-05-23T06:31:44.379Z"
   },
   {
    "duration": 32,
    "start_time": "2022-05-23T06:31:44.443Z"
   },
   {
    "duration": 14,
    "start_time": "2022-05-23T06:31:44.477Z"
   },
   {
    "duration": 22,
    "start_time": "2022-05-23T06:31:44.493Z"
   },
   {
    "duration": 55,
    "start_time": "2022-05-23T06:31:44.516Z"
   },
   {
    "duration": 10,
    "start_time": "2022-05-23T06:31:44.573Z"
   },
   {
    "duration": 24,
    "start_time": "2022-05-23T06:31:44.585Z"
   },
   {
    "duration": 20,
    "start_time": "2022-05-23T06:31:44.611Z"
   },
   {
    "duration": 41,
    "start_time": "2022-05-23T06:31:44.632Z"
   },
   {
    "duration": 134,
    "start_time": "2022-05-23T06:31:44.675Z"
   },
   {
    "duration": 30,
    "start_time": "2022-05-23T06:31:44.810Z"
   },
   {
    "duration": 56,
    "start_time": "2022-05-23T06:31:44.842Z"
   },
   {
    "duration": 25,
    "start_time": "2022-05-23T06:31:44.900Z"
   },
   {
    "duration": 34,
    "start_time": "2022-05-23T06:31:44.929Z"
   },
   {
    "duration": 472,
    "start_time": "2022-05-23T06:31:44.965Z"
   },
   {
    "duration": 420,
    "start_time": "2022-05-23T06:31:45.441Z"
   },
   {
    "duration": 490,
    "start_time": "2022-05-23T06:31:45.863Z"
   },
   {
    "duration": 502,
    "start_time": "2022-05-23T06:31:46.355Z"
   },
   {
    "duration": 676,
    "start_time": "2022-05-23T06:31:46.859Z"
   },
   {
    "duration": 98,
    "start_time": "2022-05-23T06:31:47.540Z"
   },
   {
    "duration": 33,
    "start_time": "2022-05-23T06:31:47.640Z"
   },
   {
    "duration": 11,
    "start_time": "2022-05-23T06:31:47.675Z"
   },
   {
    "duration": 46,
    "start_time": "2022-05-23T06:31:57.909Z"
   },
   {
    "duration": 31,
    "start_time": "2022-05-23T06:32:35.830Z"
   },
   {
    "duration": 32,
    "start_time": "2022-05-23T06:33:30.805Z"
   },
   {
    "duration": 25,
    "start_time": "2022-05-23T06:34:10.390Z"
   },
   {
    "duration": 39,
    "start_time": "2022-05-23T06:34:19.245Z"
   },
   {
    "duration": 24,
    "start_time": "2022-05-23T06:34:22.085Z"
   },
   {
    "duration": 25,
    "start_time": "2022-05-23T06:35:50.503Z"
   },
   {
    "duration": 24,
    "start_time": "2022-05-23T06:36:00.231Z"
   },
   {
    "duration": 25,
    "start_time": "2022-05-23T06:36:33.455Z"
   },
   {
    "duration": 2213,
    "start_time": "2022-05-23T06:42:27.958Z"
   },
   {
    "duration": 6,
    "start_time": "2022-05-23T07:16:22.310Z"
   },
   {
    "duration": 10,
    "start_time": "2022-05-23T07:16:42.926Z"
   },
   {
    "duration": 7,
    "start_time": "2022-05-23T07:17:13.568Z"
   },
   {
    "duration": 67,
    "start_time": "2022-05-23T07:19:03.056Z"
   },
   {
    "duration": 13,
    "start_time": "2022-05-23T07:19:36.064Z"
   },
   {
    "duration": 10,
    "start_time": "2022-05-23T07:19:49.106Z"
   },
   {
    "duration": 10,
    "start_time": "2022-05-23T07:20:13.289Z"
   },
   {
    "duration": 3,
    "start_time": "2022-05-23T07:23:12.162Z"
   },
   {
    "duration": 4,
    "start_time": "2022-05-23T07:23:18.698Z"
   },
   {
    "duration": 391,
    "start_time": "2022-05-23T07:23:47.916Z"
   },
   {
    "duration": 298,
    "start_time": "2022-05-23T07:24:37.237Z"
   },
   {
    "duration": 47,
    "start_time": "2022-05-23T07:28:27.145Z"
   },
   {
    "duration": 37,
    "start_time": "2022-05-23T07:28:29.949Z"
   },
   {
    "duration": 34,
    "start_time": "2022-05-23T07:28:39.338Z"
   },
   {
    "duration": 20,
    "start_time": "2022-05-23T07:30:58.712Z"
   },
   {
    "duration": 5,
    "start_time": "2022-05-23T07:31:09.136Z"
   },
   {
    "duration": 6,
    "start_time": "2022-05-23T07:31:17.935Z"
   },
   {
    "duration": 47,
    "start_time": "2022-05-23T07:31:46.232Z"
   },
   {
    "duration": 4,
    "start_time": "2022-05-23T07:34:17.400Z"
   },
   {
    "duration": 40,
    "start_time": "2022-05-23T08:08:05.278Z"
   },
   {
    "duration": 32,
    "start_time": "2022-05-23T08:08:09.444Z"
   },
   {
    "duration": 5,
    "start_time": "2022-05-23T08:08:16.701Z"
   },
   {
    "duration": 27,
    "start_time": "2022-05-23T08:08:26.757Z"
   },
   {
    "duration": 5,
    "start_time": "2022-05-23T08:09:24.791Z"
   },
   {
    "duration": 5,
    "start_time": "2022-05-23T08:09:33.720Z"
   },
   {
    "duration": 6,
    "start_time": "2022-05-23T08:09:36.878Z"
   },
   {
    "duration": 4,
    "start_time": "2022-05-23T08:09:45.151Z"
   },
   {
    "duration": 5,
    "start_time": "2022-05-23T08:09:55.526Z"
   },
   {
    "duration": 4,
    "start_time": "2022-05-23T08:10:00.566Z"
   },
   {
    "duration": 50,
    "start_time": "2022-05-23T08:10:05.437Z"
   },
   {
    "duration": 39,
    "start_time": "2022-05-23T08:10:10.942Z"
   },
   {
    "duration": 40,
    "start_time": "2022-05-23T08:10:16.006Z"
   },
   {
    "duration": 37,
    "start_time": "2022-05-23T08:10:20.318Z"
   },
   {
    "duration": 5,
    "start_time": "2022-05-23T08:19:52.868Z"
   },
   {
    "duration": 5,
    "start_time": "2022-05-23T08:26:28.057Z"
   },
   {
    "duration": 5,
    "start_time": "2022-05-23T08:28:46.155Z"
   },
   {
    "duration": 58,
    "start_time": "2022-05-24T10:01:08.638Z"
   },
   {
    "duration": 1841,
    "start_time": "2022-05-24T10:01:15.476Z"
   },
   {
    "duration": 4,
    "start_time": "2022-05-24T10:01:17.319Z"
   },
   {
    "duration": 115,
    "start_time": "2022-05-24T10:01:17.324Z"
   },
   {
    "duration": 14,
    "start_time": "2022-05-24T10:01:17.442Z"
   },
   {
    "duration": 11,
    "start_time": "2022-05-24T10:01:17.457Z"
   },
   {
    "duration": 19,
    "start_time": "2022-05-24T10:01:17.470Z"
   },
   {
    "duration": 28,
    "start_time": "2022-05-24T10:01:17.491Z"
   },
   {
    "duration": 15,
    "start_time": "2022-05-24T10:01:17.521Z"
   },
   {
    "duration": 7,
    "start_time": "2022-05-24T10:01:17.538Z"
   },
   {
    "duration": 825,
    "start_time": "2022-05-24T10:01:17.547Z"
   },
   {
    "duration": 9,
    "start_time": "2022-05-24T10:01:18.373Z"
   },
   {
    "duration": 13,
    "start_time": "2022-05-24T10:01:18.384Z"
   },
   {
    "duration": 21,
    "start_time": "2022-05-24T10:01:18.398Z"
   },
   {
    "duration": 25,
    "start_time": "2022-05-24T10:01:18.421Z"
   },
   {
    "duration": 25,
    "start_time": "2022-05-24T10:01:18.448Z"
   },
   {
    "duration": 131,
    "start_time": "2022-05-24T10:01:18.475Z"
   },
   {
    "duration": 145,
    "start_time": "2022-05-24T10:01:18.612Z"
   },
   {
    "duration": 9,
    "start_time": "2022-05-24T10:01:18.759Z"
   },
   {
    "duration": 12,
    "start_time": "2022-05-24T10:01:18.770Z"
   },
   {
    "duration": 12,
    "start_time": "2022-05-24T10:01:18.784Z"
   },
   {
    "duration": 21,
    "start_time": "2022-05-24T10:01:18.811Z"
   },
   {
    "duration": 15,
    "start_time": "2022-05-24T10:01:18.834Z"
   },
   {
    "duration": 63,
    "start_time": "2022-05-24T10:01:18.850Z"
   },
   {
    "duration": 358,
    "start_time": "2022-05-24T10:01:18.914Z"
   },
   {
    "duration": 8,
    "start_time": "2022-05-24T10:01:19.274Z"
   },
   {
    "duration": 16,
    "start_time": "2022-05-24T10:01:19.283Z"
   },
   {
    "duration": 16,
    "start_time": "2022-05-24T10:01:19.301Z"
   },
   {
    "duration": 26,
    "start_time": "2022-05-24T10:01:19.322Z"
   },
   {
    "duration": 26,
    "start_time": "2022-05-24T10:01:19.350Z"
   },
   {
    "duration": 94,
    "start_time": "2022-05-24T10:01:19.378Z"
   },
   {
    "duration": 45,
    "start_time": "2022-05-24T10:01:19.474Z"
   },
   {
    "duration": 8,
    "start_time": "2022-05-24T10:01:19.521Z"
   },
   {
    "duration": 13,
    "start_time": "2022-05-24T10:01:19.530Z"
   },
   {
    "duration": 29,
    "start_time": "2022-05-24T10:01:19.544Z"
   },
   {
    "duration": 5,
    "start_time": "2022-05-24T10:01:19.575Z"
   },
   {
    "duration": 39,
    "start_time": "2022-05-24T10:01:19.581Z"
   },
   {
    "duration": 44,
    "start_time": "2022-05-24T10:01:19.622Z"
   },
   {
    "duration": 1236,
    "start_time": "2022-05-24T10:01:19.667Z"
   },
   {
    "duration": 10,
    "start_time": "2022-05-24T10:01:20.912Z"
   },
   {
    "duration": 16,
    "start_time": "2022-05-24T10:01:20.924Z"
   },
   {
    "duration": 17,
    "start_time": "2022-05-24T10:01:20.942Z"
   },
   {
    "duration": 6,
    "start_time": "2022-05-24T10:01:20.961Z"
   },
   {
    "duration": 52,
    "start_time": "2022-05-24T10:01:20.969Z"
   },
   {
    "duration": 29,
    "start_time": "2022-05-24T10:01:21.022Z"
   },
   {
    "duration": 8,
    "start_time": "2022-05-24T10:01:21.053Z"
   },
   {
    "duration": 15,
    "start_time": "2022-05-24T10:01:21.063Z"
   },
   {
    "duration": 34,
    "start_time": "2022-05-24T10:01:21.080Z"
   },
   {
    "duration": 51,
    "start_time": "2022-05-24T10:01:21.116Z"
   },
   {
    "duration": 51,
    "start_time": "2022-05-24T10:01:21.168Z"
   },
   {
    "duration": 38,
    "start_time": "2022-05-24T10:01:21.220Z"
   },
   {
    "duration": 30,
    "start_time": "2022-05-24T10:01:21.259Z"
   },
   {
    "duration": 13,
    "start_time": "2022-05-24T10:01:21.311Z"
   },
   {
    "duration": 6,
    "start_time": "2022-05-24T10:01:21.326Z"
   },
   {
    "duration": 13,
    "start_time": "2022-05-24T10:01:21.334Z"
   },
   {
    "duration": 4,
    "start_time": "2022-05-24T10:01:21.348Z"
   },
   {
    "duration": 8,
    "start_time": "2022-05-24T10:01:21.354Z"
   },
   {
    "duration": 50,
    "start_time": "2022-05-24T10:01:21.364Z"
   },
   {
    "duration": 6,
    "start_time": "2022-05-24T10:01:21.417Z"
   },
   {
    "duration": 152,
    "start_time": "2022-05-24T10:01:21.425Z"
   },
   {
    "duration": 19,
    "start_time": "2022-05-24T10:01:21.579Z"
   },
   {
    "duration": 38,
    "start_time": "2022-05-24T10:01:21.599Z"
   },
   {
    "duration": 8,
    "start_time": "2022-05-24T10:01:21.642Z"
   },
   {
    "duration": 14,
    "start_time": "2022-05-24T10:01:21.653Z"
   },
   {
    "duration": 23,
    "start_time": "2022-05-24T10:01:21.669Z"
   },
   {
    "duration": 408,
    "start_time": "2022-05-24T10:01:21.694Z"
   },
   {
    "duration": 411,
    "start_time": "2022-05-24T10:01:22.103Z"
   },
   {
    "duration": 389,
    "start_time": "2022-05-24T10:01:22.516Z"
   },
   {
    "duration": 399,
    "start_time": "2022-05-24T10:01:22.907Z"
   },
   {
    "duration": 374,
    "start_time": "2022-05-24T10:01:23.307Z"
   },
   {
    "duration": 51,
    "start_time": "2022-05-24T10:01:23.683Z"
   },
   {
    "duration": 21,
    "start_time": "2022-05-24T10:01:23.736Z"
   },
   {
    "duration": 2134,
    "start_time": "2022-05-24T10:01:23.759Z"
   },
   {
    "duration": 72,
    "start_time": "2022-05-24T11:26:43.212Z"
   },
   {
    "duration": 316,
    "start_time": "2022-05-24T11:33:48.568Z"
   },
   {
    "duration": 3,
    "start_time": "2022-05-24T11:34:18.376Z"
   },
   {
    "duration": 9,
    "start_time": "2022-05-24T11:34:25.025Z"
   },
   {
    "duration": 20,
    "start_time": "2022-05-24T11:38:56.524Z"
   },
   {
    "duration": 5,
    "start_time": "2022-05-24T11:39:17.835Z"
   },
   {
    "duration": 9,
    "start_time": "2022-05-24T11:40:12.651Z"
   },
   {
    "duration": 9,
    "start_time": "2022-05-24T11:40:20.751Z"
   },
   {
    "duration": 9,
    "start_time": "2022-05-24T11:40:25.859Z"
   },
   {
    "duration": 11,
    "start_time": "2022-05-24T11:40:31.716Z"
   },
   {
    "duration": 5,
    "start_time": "2022-05-24T11:42:00.629Z"
   },
   {
    "duration": 9,
    "start_time": "2022-05-24T11:51:17.962Z"
   },
   {
    "duration": 11,
    "start_time": "2022-05-24T11:51:24.906Z"
   },
   {
    "duration": 14,
    "start_time": "2022-05-24T11:51:32.770Z"
   },
   {
    "duration": 10,
    "start_time": "2022-05-24T11:59:02.555Z"
   },
   {
    "duration": 12,
    "start_time": "2022-05-24T12:03:39.714Z"
   },
   {
    "duration": 13,
    "start_time": "2022-05-24T12:03:45.422Z"
   },
   {
    "duration": 14,
    "start_time": "2022-05-24T12:03:51.855Z"
   },
   {
    "duration": 13,
    "start_time": "2022-05-24T12:04:01.079Z"
   },
   {
    "duration": 6,
    "start_time": "2022-05-24T12:04:32.967Z"
   },
   {
    "duration": 6,
    "start_time": "2022-05-24T12:04:56.119Z"
   },
   {
    "duration": 13,
    "start_time": "2022-05-24T12:05:27.454Z"
   },
   {
    "duration": 7,
    "start_time": "2022-05-24T12:05:33.831Z"
   },
   {
    "duration": 13,
    "start_time": "2022-05-24T12:05:41.148Z"
   },
   {
    "duration": 7,
    "start_time": "2022-05-24T12:05:44.174Z"
   },
   {
    "duration": 13,
    "start_time": "2022-05-24T12:05:48.843Z"
   },
   {
    "duration": 7,
    "start_time": "2022-05-24T12:06:04.991Z"
   },
   {
    "duration": 14,
    "start_time": "2022-05-24T12:07:07.721Z"
   },
   {
    "duration": 11,
    "start_time": "2022-05-24T12:07:10.217Z"
   },
   {
    "duration": 11,
    "start_time": "2022-05-24T12:07:11.112Z"
   },
   {
    "duration": 21,
    "start_time": "2022-05-24T12:07:49.754Z"
   },
   {
    "duration": 10,
    "start_time": "2022-05-24T12:07:56.729Z"
   },
   {
    "duration": 13,
    "start_time": "2022-05-24T12:08:03.061Z"
   },
   {
    "duration": 11,
    "start_time": "2022-05-24T12:08:29.221Z"
   },
   {
    "duration": 13,
    "start_time": "2022-05-24T12:08:36.073Z"
   },
   {
    "duration": 80,
    "start_time": "2022-05-24T12:10:57.498Z"
   },
   {
    "duration": 10,
    "start_time": "2022-05-24T12:11:11.226Z"
   },
   {
    "duration": 11,
    "start_time": "2022-05-24T12:11:34.318Z"
   },
   {
    "duration": 13,
    "start_time": "2022-05-24T12:11:39.220Z"
   },
   {
    "duration": 12,
    "start_time": "2022-05-24T12:12:14.586Z"
   },
   {
    "duration": 5,
    "start_time": "2022-05-24T12:39:46.152Z"
   },
   {
    "duration": 6,
    "start_time": "2022-05-24T12:39:55.952Z"
   },
   {
    "duration": 8,
    "start_time": "2022-05-24T12:40:02.419Z"
   },
   {
    "duration": 6,
    "start_time": "2022-05-24T12:40:08.383Z"
   },
   {
    "duration": 7,
    "start_time": "2022-05-24T12:40:25.672Z"
   },
   {
    "duration": 6,
    "start_time": "2022-05-24T12:41:09.653Z"
   },
   {
    "duration": 3,
    "start_time": "2022-05-24T12:43:07.647Z"
   },
   {
    "duration": 24,
    "start_time": "2022-05-24T12:43:07.652Z"
   },
   {
    "duration": 92,
    "start_time": "2022-05-24T12:43:07.678Z"
   },
   {
    "duration": 15,
    "start_time": "2022-05-24T12:43:07.772Z"
   },
   {
    "duration": 16,
    "start_time": "2022-05-24T12:43:07.789Z"
   },
   {
    "duration": 23,
    "start_time": "2022-05-24T12:43:07.807Z"
   },
   {
    "duration": 23,
    "start_time": "2022-05-24T12:43:07.832Z"
   },
   {
    "duration": 23,
    "start_time": "2022-05-24T12:43:07.856Z"
   },
   {
    "duration": 8,
    "start_time": "2022-05-24T12:43:07.881Z"
   },
   {
    "duration": 515,
    "start_time": "2022-05-24T12:43:07.890Z"
   },
   {
    "duration": 11,
    "start_time": "2022-05-24T12:43:08.409Z"
   },
   {
    "duration": 12,
    "start_time": "2022-05-24T12:43:08.422Z"
   },
   {
    "duration": 24,
    "start_time": "2022-05-24T12:43:08.436Z"
   },
   {
    "duration": 55,
    "start_time": "2022-05-24T12:43:08.462Z"
   },
   {
    "duration": 25,
    "start_time": "2022-05-24T12:43:08.519Z"
   },
   {
    "duration": 126,
    "start_time": "2022-05-24T12:43:08.546Z"
   },
   {
    "duration": 116,
    "start_time": "2022-05-24T12:43:08.674Z"
   },
   {
    "duration": 7,
    "start_time": "2022-05-24T12:43:08.792Z"
   },
   {
    "duration": 14,
    "start_time": "2022-05-24T12:43:08.800Z"
   },
   {
    "duration": 12,
    "start_time": "2022-05-24T12:43:08.816Z"
   },
   {
    "duration": 22,
    "start_time": "2022-05-24T12:43:08.830Z"
   },
   {
    "duration": 15,
    "start_time": "2022-05-24T12:43:08.853Z"
   },
   {
    "duration": 80,
    "start_time": "2022-05-24T12:43:08.870Z"
   },
   {
    "duration": 137,
    "start_time": "2022-05-24T12:43:08.951Z"
   },
   {
    "duration": 8,
    "start_time": "2022-05-24T12:43:09.089Z"
   },
   {
    "duration": 18,
    "start_time": "2022-05-24T12:43:09.099Z"
   },
   {
    "duration": 14,
    "start_time": "2022-05-24T12:43:09.118Z"
   },
   {
    "duration": 22,
    "start_time": "2022-05-24T12:43:09.133Z"
   },
   {
    "duration": 68,
    "start_time": "2022-05-24T12:43:09.158Z"
   },
   {
    "duration": 60,
    "start_time": "2022-05-24T12:43:09.227Z"
   },
   {
    "duration": 23,
    "start_time": "2022-05-24T12:43:09.289Z"
   },
   {
    "duration": 8,
    "start_time": "2022-05-24T12:43:09.314Z"
   },
   {
    "duration": 23,
    "start_time": "2022-05-24T12:43:09.323Z"
   },
   {
    "duration": 32,
    "start_time": "2022-05-24T12:43:09.348Z"
   },
   {
    "duration": 16,
    "start_time": "2022-05-24T12:43:09.381Z"
   },
   {
    "duration": 23,
    "start_time": "2022-05-24T12:43:09.399Z"
   },
   {
    "duration": 62,
    "start_time": "2022-05-24T12:43:09.424Z"
   },
   {
    "duration": 1080,
    "start_time": "2022-05-24T12:43:09.487Z"
   },
   {
    "duration": 10,
    "start_time": "2022-05-24T12:43:10.569Z"
   },
   {
    "duration": 15,
    "start_time": "2022-05-24T12:43:10.581Z"
   },
   {
    "duration": 19,
    "start_time": "2022-05-24T12:43:10.611Z"
   },
   {
    "duration": 6,
    "start_time": "2022-05-24T12:43:10.632Z"
   },
   {
    "duration": 14,
    "start_time": "2022-05-24T12:43:10.640Z"
   },
   {
    "duration": 21,
    "start_time": "2022-05-24T12:43:10.655Z"
   },
   {
    "duration": 41,
    "start_time": "2022-05-24T12:43:10.678Z"
   },
   {
    "duration": 12,
    "start_time": "2022-05-24T12:43:10.721Z"
   },
   {
    "duration": 8,
    "start_time": "2022-05-24T12:43:10.735Z"
   },
   {
    "duration": 80,
    "start_time": "2022-05-24T12:43:10.745Z"
   },
   {
    "duration": 30,
    "start_time": "2022-05-24T12:43:10.827Z"
   },
   {
    "duration": 54,
    "start_time": "2022-05-24T12:43:10.859Z"
   },
   {
    "duration": 168,
    "start_time": "2022-05-24T12:43:10.915Z"
   },
   {
    "duration": 13,
    "start_time": "2022-05-24T12:43:11.085Z"
   },
   {
    "duration": 15,
    "start_time": "2022-05-24T12:43:11.100Z"
   },
   {
    "duration": 15,
    "start_time": "2022-05-24T12:43:11.117Z"
   },
   {
    "duration": 4,
    "start_time": "2022-05-24T12:43:11.134Z"
   },
   {
    "duration": 8,
    "start_time": "2022-05-24T12:43:11.139Z"
   },
   {
    "duration": 12,
    "start_time": "2022-05-24T12:43:11.148Z"
   },
   {
    "duration": 7,
    "start_time": "2022-05-24T12:43:11.161Z"
   },
   {
    "duration": 143,
    "start_time": "2022-05-24T12:43:11.170Z"
   },
   {
    "duration": 21,
    "start_time": "2022-05-24T12:43:11.315Z"
   },
   {
    "duration": 23,
    "start_time": "2022-05-24T12:43:11.338Z"
   },
   {
    "duration": 4,
    "start_time": "2022-05-24T12:43:11.362Z"
   },
   {
    "duration": 6,
    "start_time": "2022-05-24T12:43:11.368Z"
   },
   {
    "duration": 39,
    "start_time": "2022-05-24T12:43:11.376Z"
   },
   {
    "duration": 407,
    "start_time": "2022-05-24T12:43:11.416Z"
   },
   {
    "duration": 399,
    "start_time": "2022-05-24T12:43:11.825Z"
   },
   {
    "duration": 380,
    "start_time": "2022-05-24T12:43:12.226Z"
   },
   {
    "duration": 376,
    "start_time": "2022-05-24T12:43:12.612Z"
   },
   {
    "duration": 397,
    "start_time": "2022-05-24T12:43:12.990Z"
   },
   {
    "duration": 47,
    "start_time": "2022-05-24T12:43:13.389Z"
   },
   {
    "duration": 28,
    "start_time": "2022-05-24T12:43:13.438Z"
   },
   {
    "duration": 2104,
    "start_time": "2022-05-24T12:43:13.468Z"
   },
   {
    "duration": 10,
    "start_time": "2022-05-24T12:43:15.574Z"
   },
   {
    "duration": 31,
    "start_time": "2022-05-24T12:43:15.586Z"
   },
   {
    "duration": 7,
    "start_time": "2022-05-24T12:43:15.618Z"
   },
   {
    "duration": 9,
    "start_time": "2022-05-24T12:43:15.627Z"
   },
   {
    "duration": 1194,
    "start_time": "2022-05-25T10:02:06.395Z"
   },
   {
    "duration": 2,
    "start_time": "2022-05-25T10:02:07.591Z"
   },
   {
    "duration": 94,
    "start_time": "2022-05-25T10:02:07.595Z"
   },
   {
    "duration": 13,
    "start_time": "2022-05-25T10:02:07.691Z"
   },
   {
    "duration": 18,
    "start_time": "2022-05-25T10:02:07.705Z"
   },
   {
    "duration": 27,
    "start_time": "2022-05-25T10:02:07.730Z"
   },
   {
    "duration": 34,
    "start_time": "2022-05-25T10:02:07.759Z"
   },
   {
    "duration": 15,
    "start_time": "2022-05-25T10:02:07.794Z"
   },
   {
    "duration": 20,
    "start_time": "2022-05-25T10:02:07.811Z"
   },
   {
    "duration": 242,
    "start_time": "2022-05-25T10:02:07.835Z"
   },
   {
    "duration": 8,
    "start_time": "2022-05-25T10:02:08.079Z"
   },
   {
    "duration": 21,
    "start_time": "2022-05-25T10:02:08.089Z"
   },
   {
    "duration": 47,
    "start_time": "2022-05-25T10:02:08.112Z"
   },
   {
    "duration": 34,
    "start_time": "2022-05-25T10:02:08.161Z"
   },
   {
    "duration": 26,
    "start_time": "2022-05-25T10:02:08.196Z"
   },
   {
    "duration": 107,
    "start_time": "2022-05-25T10:02:08.227Z"
   },
   {
    "duration": 325,
    "start_time": "2022-05-25T10:02:08.336Z"
   },
   {
    "duration": 7,
    "start_time": "2022-05-25T10:02:08.663Z"
   },
   {
    "duration": 12,
    "start_time": "2022-05-25T10:02:08.671Z"
   },
   {
    "duration": 25,
    "start_time": "2022-05-25T10:02:08.684Z"
   },
   {
    "duration": 42,
    "start_time": "2022-05-25T10:02:08.711Z"
   },
   {
    "duration": 36,
    "start_time": "2022-05-25T10:02:08.755Z"
   },
   {
    "duration": 49,
    "start_time": "2022-05-25T10:02:08.792Z"
   },
   {
    "duration": 323,
    "start_time": "2022-05-25T10:02:08.842Z"
   },
   {
    "duration": 8,
    "start_time": "2022-05-25T10:02:09.167Z"
   },
   {
    "duration": 24,
    "start_time": "2022-05-25T10:02:09.177Z"
   },
   {
    "duration": 56,
    "start_time": "2022-05-25T10:02:09.203Z"
   },
   {
    "duration": 29,
    "start_time": "2022-05-25T10:02:09.263Z"
   },
   {
    "duration": 27,
    "start_time": "2022-05-25T10:02:09.294Z"
   },
   {
    "duration": 68,
    "start_time": "2022-05-25T10:02:09.326Z"
   },
   {
    "duration": 51,
    "start_time": "2022-05-25T10:02:09.396Z"
   },
   {
    "duration": 8,
    "start_time": "2022-05-25T10:02:09.449Z"
   },
   {
    "duration": 24,
    "start_time": "2022-05-25T10:02:09.458Z"
   },
   {
    "duration": 24,
    "start_time": "2022-05-25T10:02:09.483Z"
   },
   {
    "duration": 4,
    "start_time": "2022-05-25T10:02:09.509Z"
   },
   {
    "duration": 32,
    "start_time": "2022-05-25T10:02:09.514Z"
   },
   {
    "duration": 54,
    "start_time": "2022-05-25T10:02:09.547Z"
   },
   {
    "duration": 1056,
    "start_time": "2022-05-25T10:02:09.603Z"
   },
   {
    "duration": 10,
    "start_time": "2022-05-25T10:02:10.661Z"
   },
   {
    "duration": 37,
    "start_time": "2022-05-25T10:02:10.673Z"
   },
   {
    "duration": 25,
    "start_time": "2022-05-25T10:02:10.712Z"
   },
   {
    "duration": 8,
    "start_time": "2022-05-25T10:02:10.739Z"
   },
   {
    "duration": 32,
    "start_time": "2022-05-25T10:02:10.748Z"
   },
   {
    "duration": 44,
    "start_time": "2022-05-25T10:02:10.782Z"
   },
   {
    "duration": 12,
    "start_time": "2022-05-25T10:02:10.828Z"
   },
   {
    "duration": 21,
    "start_time": "2022-05-25T10:02:10.841Z"
   },
   {
    "duration": 23,
    "start_time": "2022-05-25T10:02:10.864Z"
   },
   {
    "duration": 129,
    "start_time": "2022-05-25T10:02:10.889Z"
   },
   {
    "duration": 34,
    "start_time": "2022-05-25T10:02:11.020Z"
   },
   {
    "duration": 40,
    "start_time": "2022-05-25T10:02:11.056Z"
   },
   {
    "duration": 59,
    "start_time": "2022-05-25T10:02:11.097Z"
   },
   {
    "duration": 14,
    "start_time": "2022-05-25T10:02:11.158Z"
   },
   {
    "duration": 35,
    "start_time": "2022-05-25T10:02:11.173Z"
   },
   {
    "duration": 31,
    "start_time": "2022-05-25T10:02:11.210Z"
   },
   {
    "duration": 12,
    "start_time": "2022-05-25T10:02:11.242Z"
   },
   {
    "duration": 23,
    "start_time": "2022-05-25T10:02:11.255Z"
   },
   {
    "duration": 19,
    "start_time": "2022-05-25T10:02:11.279Z"
   },
   {
    "duration": 8,
    "start_time": "2022-05-25T10:02:11.300Z"
   },
   {
    "duration": 142,
    "start_time": "2022-05-25T10:02:11.309Z"
   },
   {
    "duration": 14,
    "start_time": "2022-05-25T10:02:11.453Z"
   },
   {
    "duration": 29,
    "start_time": "2022-05-25T10:02:11.469Z"
   },
   {
    "duration": 5,
    "start_time": "2022-05-25T10:02:11.499Z"
   },
   {
    "duration": 41,
    "start_time": "2022-05-25T10:02:11.506Z"
   },
   {
    "duration": 26,
    "start_time": "2022-05-25T10:02:11.548Z"
   },
   {
    "duration": 430,
    "start_time": "2022-05-25T10:02:11.576Z"
   },
   {
    "duration": 430,
    "start_time": "2022-05-25T10:02:12.008Z"
   },
   {
    "duration": 414,
    "start_time": "2022-05-25T10:02:12.439Z"
   },
   {
    "duration": 458,
    "start_time": "2022-05-25T10:02:12.855Z"
   },
   {
    "duration": 369,
    "start_time": "2022-05-25T10:02:13.323Z"
   },
   {
    "duration": 57,
    "start_time": "2022-05-25T10:02:13.694Z"
   },
   {
    "duration": 24,
    "start_time": "2022-05-25T10:02:13.753Z"
   },
   {
    "duration": 2386,
    "start_time": "2022-05-25T10:02:13.779Z"
   },
   {
    "duration": 10,
    "start_time": "2022-05-25T10:02:16.168Z"
   },
   {
    "duration": 15,
    "start_time": "2022-05-25T10:02:16.180Z"
   },
   {
    "duration": 30,
    "start_time": "2022-05-25T10:02:16.197Z"
   },
   {
    "duration": 8,
    "start_time": "2022-05-25T10:02:16.229Z"
   },
   {
    "duration": 415,
    "start_time": "2022-05-25T10:18:32.775Z"
   },
   {
    "duration": 3390,
    "start_time": "2022-05-25T10:18:47.937Z"
   },
   {
    "duration": 2530,
    "start_time": "2022-05-25T10:20:37.707Z"
   },
   {
    "duration": 8,
    "start_time": "2022-05-25T10:47:39.918Z"
   },
   {
    "duration": 110,
    "start_time": "2022-05-25T10:47:50.551Z"
   },
   {
    "duration": 37,
    "start_time": "2022-05-26T10:09:41.605Z"
   },
   {
    "duration": 49,
    "start_time": "2022-05-26T10:50:15.492Z"
   },
   {
    "duration": 1775,
    "start_time": "2022-05-26T10:50:29.129Z"
   },
   {
    "duration": 3,
    "start_time": "2022-05-26T10:50:30.907Z"
   },
   {
    "duration": 24,
    "start_time": "2022-05-26T10:50:30.912Z"
   },
   {
    "duration": 0,
    "start_time": "2022-05-26T10:50:30.940Z"
   },
   {
    "duration": 0,
    "start_time": "2022-05-26T10:50:30.941Z"
   },
   {
    "duration": 0,
    "start_time": "2022-05-26T10:50:30.943Z"
   },
   {
    "duration": 0,
    "start_time": "2022-05-26T10:50:30.944Z"
   },
   {
    "duration": 0,
    "start_time": "2022-05-26T10:50:30.945Z"
   },
   {
    "duration": 0,
    "start_time": "2022-05-26T10:50:30.946Z"
   },
   {
    "duration": 0,
    "start_time": "2022-05-26T10:50:30.948Z"
   },
   {
    "duration": 0,
    "start_time": "2022-05-26T10:50:30.949Z"
   },
   {
    "duration": 0,
    "start_time": "2022-05-26T10:50:30.950Z"
   },
   {
    "duration": 0,
    "start_time": "2022-05-26T10:50:30.951Z"
   },
   {
    "duration": 0,
    "start_time": "2022-05-26T10:50:30.952Z"
   },
   {
    "duration": 0,
    "start_time": "2022-05-26T10:50:30.974Z"
   },
   {
    "duration": 0,
    "start_time": "2022-05-26T10:50:30.975Z"
   },
   {
    "duration": 0,
    "start_time": "2022-05-26T10:50:30.976Z"
   },
   {
    "duration": 0,
    "start_time": "2022-05-26T10:50:30.978Z"
   },
   {
    "duration": 0,
    "start_time": "2022-05-26T10:50:30.979Z"
   },
   {
    "duration": 0,
    "start_time": "2022-05-26T10:50:30.981Z"
   },
   {
    "duration": 0,
    "start_time": "2022-05-26T10:50:30.982Z"
   },
   {
    "duration": 0,
    "start_time": "2022-05-26T10:50:30.983Z"
   },
   {
    "duration": 0,
    "start_time": "2022-05-26T10:50:30.984Z"
   },
   {
    "duration": 0,
    "start_time": "2022-05-26T10:50:30.985Z"
   },
   {
    "duration": 0,
    "start_time": "2022-05-26T10:50:30.986Z"
   },
   {
    "duration": 0,
    "start_time": "2022-05-26T10:50:30.988Z"
   },
   {
    "duration": 0,
    "start_time": "2022-05-26T10:50:30.989Z"
   },
   {
    "duration": 0,
    "start_time": "2022-05-26T10:50:30.990Z"
   },
   {
    "duration": 0,
    "start_time": "2022-05-26T10:50:30.991Z"
   },
   {
    "duration": 0,
    "start_time": "2022-05-26T10:50:30.992Z"
   },
   {
    "duration": 0,
    "start_time": "2022-05-26T10:50:30.994Z"
   },
   {
    "duration": 0,
    "start_time": "2022-05-26T10:50:30.994Z"
   },
   {
    "duration": 0,
    "start_time": "2022-05-26T10:50:30.996Z"
   },
   {
    "duration": 1,
    "start_time": "2022-05-26T10:50:30.996Z"
   },
   {
    "duration": 0,
    "start_time": "2022-05-26T10:50:30.998Z"
   },
   {
    "duration": 0,
    "start_time": "2022-05-26T10:50:30.999Z"
   },
   {
    "duration": 0,
    "start_time": "2022-05-26T10:50:31.001Z"
   },
   {
    "duration": 0,
    "start_time": "2022-05-26T10:50:31.003Z"
   },
   {
    "duration": 0,
    "start_time": "2022-05-26T10:50:31.004Z"
   },
   {
    "duration": 0,
    "start_time": "2022-05-26T10:50:31.006Z"
   },
   {
    "duration": 0,
    "start_time": "2022-05-26T10:50:31.007Z"
   },
   {
    "duration": 0,
    "start_time": "2022-05-26T10:50:31.009Z"
   },
   {
    "duration": 0,
    "start_time": "2022-05-26T10:50:31.010Z"
   },
   {
    "duration": 0,
    "start_time": "2022-05-26T10:50:31.012Z"
   },
   {
    "duration": 1,
    "start_time": "2022-05-26T10:50:31.013Z"
   },
   {
    "duration": 0,
    "start_time": "2022-05-26T10:50:31.070Z"
   },
   {
    "duration": 0,
    "start_time": "2022-05-26T10:50:31.071Z"
   },
   {
    "duration": 0,
    "start_time": "2022-05-26T10:50:31.072Z"
   },
   {
    "duration": 0,
    "start_time": "2022-05-26T10:50:31.077Z"
   },
   {
    "duration": 0,
    "start_time": "2022-05-26T10:50:31.078Z"
   },
   {
    "duration": 0,
    "start_time": "2022-05-26T10:50:31.079Z"
   },
   {
    "duration": 0,
    "start_time": "2022-05-26T10:50:31.081Z"
   },
   {
    "duration": 0,
    "start_time": "2022-05-26T10:50:31.083Z"
   },
   {
    "duration": 0,
    "start_time": "2022-05-26T10:50:31.084Z"
   },
   {
    "duration": 0,
    "start_time": "2022-05-26T10:50:31.086Z"
   },
   {
    "duration": 0,
    "start_time": "2022-05-26T10:50:31.087Z"
   },
   {
    "duration": 0,
    "start_time": "2022-05-26T10:50:31.088Z"
   },
   {
    "duration": 0,
    "start_time": "2022-05-26T10:50:31.090Z"
   },
   {
    "duration": 0,
    "start_time": "2022-05-26T10:50:31.091Z"
   },
   {
    "duration": 0,
    "start_time": "2022-05-26T10:50:31.092Z"
   },
   {
    "duration": 0,
    "start_time": "2022-05-26T10:50:31.094Z"
   },
   {
    "duration": 0,
    "start_time": "2022-05-26T10:50:31.095Z"
   },
   {
    "duration": 0,
    "start_time": "2022-05-26T10:50:31.096Z"
   },
   {
    "duration": 0,
    "start_time": "2022-05-26T10:50:31.098Z"
   },
   {
    "duration": 0,
    "start_time": "2022-05-26T10:50:31.099Z"
   },
   {
    "duration": 0,
    "start_time": "2022-05-26T10:50:31.100Z"
   },
   {
    "duration": 0,
    "start_time": "2022-05-26T10:50:31.101Z"
   },
   {
    "duration": 0,
    "start_time": "2022-05-26T10:50:31.102Z"
   },
   {
    "duration": 0,
    "start_time": "2022-05-26T10:50:31.103Z"
   },
   {
    "duration": 0,
    "start_time": "2022-05-26T10:50:31.104Z"
   },
   {
    "duration": 0,
    "start_time": "2022-05-26T10:50:31.106Z"
   },
   {
    "duration": 0,
    "start_time": "2022-05-26T10:50:31.106Z"
   },
   {
    "duration": 0,
    "start_time": "2022-05-26T10:50:31.108Z"
   },
   {
    "duration": 0,
    "start_time": "2022-05-26T10:50:31.109Z"
   },
   {
    "duration": 0,
    "start_time": "2022-05-26T10:50:31.179Z"
   },
   {
    "duration": 0,
    "start_time": "2022-05-26T10:50:31.180Z"
   },
   {
    "duration": 44,
    "start_time": "2022-05-26T10:51:46.534Z"
   },
   {
    "duration": 90,
    "start_time": "2022-05-26T10:52:11.585Z"
   },
   {
    "duration": 360,
    "start_time": "2022-05-26T10:53:07.226Z"
   },
   {
    "duration": 384,
    "start_time": "2022-05-26T10:53:47.562Z"
   },
   {
    "duration": 163,
    "start_time": "2022-05-26T10:53:50.001Z"
   },
   {
    "duration": 72,
    "start_time": "2022-05-26T10:54:23.657Z"
   },
   {
    "duration": 270,
    "start_time": "2022-05-26T10:55:17.921Z"
   },
   {
    "duration": 208,
    "start_time": "2022-05-26T10:57:25.017Z"
   },
   {
    "duration": 159,
    "start_time": "2022-05-26T10:57:42.745Z"
   },
   {
    "duration": 173,
    "start_time": "2022-05-26T10:58:04.220Z"
   },
   {
    "duration": 40,
    "start_time": "2022-05-26T10:58:17.516Z"
   },
   {
    "duration": 88,
    "start_time": "2022-05-26T10:58:40.316Z"
   },
   {
    "duration": 372,
    "start_time": "2022-05-26T11:05:01.061Z"
   },
   {
    "duration": 10,
    "start_time": "2022-05-26T11:05:18.364Z"
   },
   {
    "duration": 17,
    "start_time": "2022-05-26T11:05:18.381Z"
   },
   {
    "duration": 48,
    "start_time": "2022-05-26T11:05:18.401Z"
   },
   {
    "duration": 31,
    "start_time": "2022-05-26T11:05:18.451Z"
   },
   {
    "duration": 22,
    "start_time": "2022-05-26T11:05:18.485Z"
   },
   {
    "duration": 23,
    "start_time": "2022-05-26T11:05:18.509Z"
   },
   {
    "duration": 63,
    "start_time": "2022-05-26T11:05:18.534Z"
   },
   {
    "duration": 32,
    "start_time": "2022-05-26T11:05:18.599Z"
   },
   {
    "duration": 41,
    "start_time": "2022-05-26T11:05:18.633Z"
   },
   {
    "duration": 310,
    "start_time": "2022-05-26T11:05:18.677Z"
   },
   {
    "duration": 12,
    "start_time": "2022-05-26T11:05:18.990Z"
   },
   {
    "duration": 24,
    "start_time": "2022-05-26T11:05:19.004Z"
   },
   {
    "duration": 22,
    "start_time": "2022-05-26T11:05:19.030Z"
   },
   {
    "duration": 52,
    "start_time": "2022-05-26T11:05:19.054Z"
   },
   {
    "duration": 34,
    "start_time": "2022-05-26T11:05:19.111Z"
   },
   {
    "duration": 158,
    "start_time": "2022-05-26T11:05:19.147Z"
   },
   {
    "duration": 120,
    "start_time": "2022-05-26T11:05:19.308Z"
   },
   {
    "duration": 8,
    "start_time": "2022-05-26T11:05:19.429Z"
   },
   {
    "duration": 11,
    "start_time": "2022-05-26T11:05:19.439Z"
   },
   {
    "duration": 24,
    "start_time": "2022-05-26T11:05:19.452Z"
   },
   {
    "duration": 21,
    "start_time": "2022-05-26T11:05:19.478Z"
   },
   {
    "duration": 17,
    "start_time": "2022-05-26T11:05:19.501Z"
   },
   {
    "duration": 89,
    "start_time": "2022-05-26T11:05:19.520Z"
   },
   {
    "duration": 169,
    "start_time": "2022-05-26T11:05:19.611Z"
   },
   {
    "duration": 10,
    "start_time": "2022-05-26T11:05:19.782Z"
   },
   {
    "duration": 12,
    "start_time": "2022-05-26T11:05:19.794Z"
   },
   {
    "duration": 18,
    "start_time": "2022-05-26T11:05:19.808Z"
   },
   {
    "duration": 45,
    "start_time": "2022-05-26T11:05:19.828Z"
   },
   {
    "duration": 33,
    "start_time": "2022-05-26T11:05:19.876Z"
   },
   {
    "duration": 90,
    "start_time": "2022-05-26T11:05:19.911Z"
   },
   {
    "duration": 18,
    "start_time": "2022-05-26T11:05:20.003Z"
   },
   {
    "duration": 9,
    "start_time": "2022-05-26T11:05:20.023Z"
   },
   {
    "duration": 19,
    "start_time": "2022-05-26T11:05:20.033Z"
   },
   {
    "duration": 50,
    "start_time": "2022-05-26T11:05:20.054Z"
   },
   {
    "duration": 6,
    "start_time": "2022-05-26T11:05:20.106Z"
   },
   {
    "duration": 15,
    "start_time": "2022-05-26T11:05:20.113Z"
   },
   {
    "duration": 66,
    "start_time": "2022-05-26T11:05:20.129Z"
   },
   {
    "duration": 1307,
    "start_time": "2022-05-26T11:05:20.197Z"
   },
   {
    "duration": 10,
    "start_time": "2022-05-26T11:05:21.505Z"
   },
   {
    "duration": 16,
    "start_time": "2022-05-26T11:05:21.517Z"
   },
   {
    "duration": 19,
    "start_time": "2022-05-26T11:05:21.535Z"
   },
   {
    "duration": 9,
    "start_time": "2022-05-26T11:05:21.573Z"
   },
   {
    "duration": 19,
    "start_time": "2022-05-26T11:05:21.584Z"
   },
   {
    "duration": 25,
    "start_time": "2022-05-26T11:05:21.606Z"
   },
   {
    "duration": 10,
    "start_time": "2022-05-26T11:05:21.633Z"
   },
   {
    "duration": 18,
    "start_time": "2022-05-26T11:05:21.673Z"
   },
   {
    "duration": 9,
    "start_time": "2022-05-26T11:05:21.693Z"
   },
   {
    "duration": 144,
    "start_time": "2022-05-26T11:05:21.704Z"
   },
   {
    "duration": 40,
    "start_time": "2022-05-26T11:05:21.850Z"
   },
   {
    "duration": 38,
    "start_time": "2022-05-26T11:05:21.893Z"
   },
   {
    "duration": 52,
    "start_time": "2022-05-26T11:05:21.932Z"
   },
   {
    "duration": 13,
    "start_time": "2022-05-26T11:05:21.986Z"
   },
   {
    "duration": 5,
    "start_time": "2022-05-26T11:05:22.001Z"
   },
   {
    "duration": 12,
    "start_time": "2022-05-26T11:05:22.008Z"
   },
   {
    "duration": 4,
    "start_time": "2022-05-26T11:05:22.022Z"
   },
   {
    "duration": 7,
    "start_time": "2022-05-26T11:05:22.028Z"
   },
   {
    "duration": 10,
    "start_time": "2022-05-26T11:05:22.073Z"
   },
   {
    "duration": 7,
    "start_time": "2022-05-26T11:05:22.086Z"
   },
   {
    "duration": 137,
    "start_time": "2022-05-26T11:05:22.095Z"
   },
   {
    "duration": 17,
    "start_time": "2022-05-26T11:05:22.234Z"
   },
   {
    "duration": 42,
    "start_time": "2022-05-26T11:05:22.253Z"
   },
   {
    "duration": 5,
    "start_time": "2022-05-26T11:05:22.296Z"
   },
   {
    "duration": 8,
    "start_time": "2022-05-26T11:05:22.302Z"
   },
   {
    "duration": 7,
    "start_time": "2022-05-26T11:05:22.312Z"
   },
   {
    "duration": 454,
    "start_time": "2022-05-26T11:05:22.320Z"
   },
   {
    "duration": 419,
    "start_time": "2022-05-26T11:05:22.778Z"
   },
   {
    "duration": 403,
    "start_time": "2022-05-26T11:05:23.199Z"
   },
   {
    "duration": 451,
    "start_time": "2022-05-26T11:05:23.604Z"
   },
   {
    "duration": 412,
    "start_time": "2022-05-26T11:05:24.056Z"
   },
   {
    "duration": 40,
    "start_time": "2022-05-26T11:05:24.475Z"
   },
   {
    "duration": 22,
    "start_time": "2022-05-26T11:05:24.517Z"
   },
   {
    "duration": 2519,
    "start_time": "2022-05-26T11:05:24.540Z"
   },
   {
    "duration": 25,
    "start_time": "2022-05-26T11:05:27.061Z"
   },
   {
    "duration": 12,
    "start_time": "2022-05-26T11:05:27.088Z"
   },
   {
    "duration": 16,
    "start_time": "2022-05-26T11:05:27.102Z"
   },
   {
    "duration": 26,
    "start_time": "2022-05-26T11:05:27.119Z"
   },
   {
    "duration": 14,
    "start_time": "2022-05-26T11:08:32.666Z"
   },
   {
    "duration": 127,
    "start_time": "2022-05-26T11:10:51.813Z"
   },
   {
    "duration": 20,
    "start_time": "2022-05-26T11:11:00.358Z"
   },
   {
    "duration": 34,
    "start_time": "2022-05-26T11:11:16.414Z"
   },
   {
    "duration": 22,
    "start_time": "2022-05-26T11:11:23.958Z"
   },
   {
    "duration": 157,
    "start_time": "2022-05-26T11:11:37.078Z"
   },
   {
    "duration": 13,
    "start_time": "2022-05-26T11:11:39.526Z"
   },
   {
    "duration": 36,
    "start_time": "2022-05-26T11:12:54.263Z"
   },
   {
    "duration": 13,
    "start_time": "2022-05-26T11:12:55.550Z"
   },
   {
    "duration": 34,
    "start_time": "2022-05-26T11:14:13.561Z"
   },
   {
    "duration": 34,
    "start_time": "2022-05-26T11:14:30.048Z"
   },
   {
    "duration": 3,
    "start_time": "2022-05-26T11:14:58.476Z"
   },
   {
    "duration": 5,
    "start_time": "2022-05-26T11:14:58.482Z"
   },
   {
    "duration": 63,
    "start_time": "2022-05-26T11:14:58.489Z"
   },
   {
    "duration": 20,
    "start_time": "2022-05-26T11:14:58.554Z"
   },
   {
    "duration": 18,
    "start_time": "2022-05-26T11:14:58.579Z"
   },
   {
    "duration": 17,
    "start_time": "2022-05-26T11:14:58.599Z"
   },
   {
    "duration": 20,
    "start_time": "2022-05-26T11:14:58.618Z"
   },
   {
    "duration": 42,
    "start_time": "2022-05-26T11:14:58.640Z"
   },
   {
    "duration": 8,
    "start_time": "2022-05-26T11:14:58.685Z"
   },
   {
    "duration": 200,
    "start_time": "2022-05-26T11:14:58.695Z"
   },
   {
    "duration": 10,
    "start_time": "2022-05-26T11:14:58.897Z"
   },
   {
    "duration": 15,
    "start_time": "2022-05-26T11:14:58.909Z"
   },
   {
    "duration": 19,
    "start_time": "2022-05-26T11:14:58.926Z"
   },
   {
    "duration": 50,
    "start_time": "2022-05-26T11:14:58.948Z"
   },
   {
    "duration": 32,
    "start_time": "2022-05-26T11:14:59.000Z"
   },
   {
    "duration": 150,
    "start_time": "2022-05-26T11:14:59.034Z"
   },
   {
    "duration": 118,
    "start_time": "2022-05-26T11:14:59.187Z"
   },
   {
    "duration": 10,
    "start_time": "2022-05-26T11:14:59.307Z"
   },
   {
    "duration": 11,
    "start_time": "2022-05-26T11:14:59.319Z"
   },
   {
    "duration": 13,
    "start_time": "2022-05-26T11:14:59.331Z"
   },
   {
    "duration": 38,
    "start_time": "2022-05-26T11:14:59.345Z"
   },
   {
    "duration": 14,
    "start_time": "2022-05-26T11:14:59.385Z"
   },
   {
    "duration": 43,
    "start_time": "2022-05-26T11:14:59.401Z"
   },
   {
    "duration": 186,
    "start_time": "2022-05-26T11:14:59.473Z"
   },
   {
    "duration": 23,
    "start_time": "2022-05-26T11:14:59.660Z"
   },
   {
    "duration": 14,
    "start_time": "2022-05-26T11:14:59.685Z"
   },
   {
    "duration": 13,
    "start_time": "2022-05-26T11:14:59.700Z"
   },
   {
    "duration": 21,
    "start_time": "2022-05-26T11:14:59.715Z"
   },
   {
    "duration": 49,
    "start_time": "2022-05-26T11:14:59.738Z"
   },
   {
    "duration": 60,
    "start_time": "2022-05-26T11:14:59.789Z"
   },
   {
    "duration": 49,
    "start_time": "2022-05-26T11:14:59.851Z"
   },
   {
    "duration": 9,
    "start_time": "2022-05-26T11:14:59.902Z"
   },
   {
    "duration": 14,
    "start_time": "2022-05-26T11:14:59.912Z"
   },
   {
    "duration": 27,
    "start_time": "2022-05-26T11:14:59.928Z"
   },
   {
    "duration": 5,
    "start_time": "2022-05-26T11:14:59.957Z"
   },
   {
    "duration": 30,
    "start_time": "2022-05-26T11:14:59.964Z"
   },
   {
    "duration": 52,
    "start_time": "2022-05-26T11:14:59.995Z"
   },
   {
    "duration": 26,
    "start_time": "2022-05-26T11:15:00.048Z"
   },
   {
    "duration": 20,
    "start_time": "2022-05-26T11:15:00.076Z"
   },
   {
    "duration": 1231,
    "start_time": "2022-05-26T11:15:00.098Z"
   },
   {
    "duration": 6,
    "start_time": "2022-05-26T11:15:01.331Z"
   },
   {
    "duration": 25,
    "start_time": "2022-05-26T11:15:01.338Z"
   },
   {
    "duration": 35,
    "start_time": "2022-05-26T11:15:01.375Z"
   },
   {
    "duration": 11,
    "start_time": "2022-05-26T11:15:01.412Z"
   },
   {
    "duration": 19,
    "start_time": "2022-05-26T11:15:01.425Z"
   },
   {
    "duration": 44,
    "start_time": "2022-05-26T11:15:01.446Z"
   },
   {
    "duration": 11,
    "start_time": "2022-05-26T11:15:01.492Z"
   },
   {
    "duration": 17,
    "start_time": "2022-05-26T11:15:01.504Z"
   },
   {
    "duration": 8,
    "start_time": "2022-05-26T11:15:01.523Z"
   },
   {
    "duration": 101,
    "start_time": "2022-05-26T11:15:01.532Z"
   },
   {
    "duration": 43,
    "start_time": "2022-05-26T11:15:01.635Z"
   },
   {
    "duration": 41,
    "start_time": "2022-05-26T11:15:01.680Z"
   },
   {
    "duration": 52,
    "start_time": "2022-05-26T11:15:01.723Z"
   },
   {
    "duration": 14,
    "start_time": "2022-05-26T11:15:01.777Z"
   },
   {
    "duration": 11,
    "start_time": "2022-05-26T11:15:01.793Z"
   },
   {
    "duration": 13,
    "start_time": "2022-05-26T11:15:01.806Z"
   },
   {
    "duration": 4,
    "start_time": "2022-05-26T11:15:01.821Z"
   },
   {
    "duration": 8,
    "start_time": "2022-05-26T11:15:01.827Z"
   },
   {
    "duration": 37,
    "start_time": "2022-05-26T11:15:01.836Z"
   },
   {
    "duration": 9,
    "start_time": "2022-05-26T11:15:01.876Z"
   },
   {
    "duration": 136,
    "start_time": "2022-05-26T11:15:01.888Z"
   },
   {
    "duration": 16,
    "start_time": "2022-05-26T11:15:02.026Z"
   },
   {
    "duration": 41,
    "start_time": "2022-05-26T11:15:02.044Z"
   },
   {
    "duration": 5,
    "start_time": "2022-05-26T11:15:02.087Z"
   },
   {
    "duration": 14,
    "start_time": "2022-05-26T11:15:02.094Z"
   },
   {
    "duration": 16,
    "start_time": "2022-05-26T11:15:02.110Z"
   },
   {
    "duration": 485,
    "start_time": "2022-05-26T11:15:02.127Z"
   },
   {
    "duration": 467,
    "start_time": "2022-05-26T11:15:02.615Z"
   },
   {
    "duration": 414,
    "start_time": "2022-05-26T11:15:03.088Z"
   },
   {
    "duration": 428,
    "start_time": "2022-05-26T11:15:03.504Z"
   },
   {
    "duration": 452,
    "start_time": "2022-05-26T11:15:03.934Z"
   },
   {
    "duration": 42,
    "start_time": "2022-05-26T11:15:04.388Z"
   },
   {
    "duration": 48,
    "start_time": "2022-05-26T11:15:04.432Z"
   },
   {
    "duration": 2475,
    "start_time": "2022-05-26T11:15:04.482Z"
   },
   {
    "duration": 27,
    "start_time": "2022-05-26T11:15:06.959Z"
   },
   {
    "duration": 20,
    "start_time": "2022-05-26T11:15:06.987Z"
   },
   {
    "duration": 7,
    "start_time": "2022-05-26T11:15:07.009Z"
   },
   {
    "duration": 7,
    "start_time": "2022-05-26T11:15:07.017Z"
   },
   {
    "duration": 187,
    "start_time": "2022-05-26T11:15:59.665Z"
   },
   {
    "duration": 1248,
    "start_time": "2022-05-26T11:16:29.864Z"
   },
   {
    "duration": 3,
    "start_time": "2022-05-26T11:20:19.516Z"
   },
   {
    "duration": 8,
    "start_time": "2022-05-26T11:20:19.521Z"
   },
   {
    "duration": 58,
    "start_time": "2022-05-26T11:20:19.531Z"
   },
   {
    "duration": 10,
    "start_time": "2022-05-26T11:20:19.591Z"
   },
   {
    "duration": 18,
    "start_time": "2022-05-26T11:20:19.604Z"
   },
   {
    "duration": 13,
    "start_time": "2022-05-26T11:20:19.623Z"
   },
   {
    "duration": 13,
    "start_time": "2022-05-26T11:20:19.637Z"
   },
   {
    "duration": 38,
    "start_time": "2022-05-26T11:20:19.651Z"
   },
   {
    "duration": 8,
    "start_time": "2022-05-26T11:20:19.691Z"
   },
   {
    "duration": 185,
    "start_time": "2022-05-26T11:20:19.701Z"
   },
   {
    "duration": 8,
    "start_time": "2022-05-26T11:20:19.888Z"
   },
   {
    "duration": 11,
    "start_time": "2022-05-26T11:20:19.898Z"
   },
   {
    "duration": 15,
    "start_time": "2022-05-26T11:20:19.910Z"
   },
   {
    "duration": 45,
    "start_time": "2022-05-26T11:20:19.928Z"
   },
   {
    "duration": 30,
    "start_time": "2022-05-26T11:20:19.976Z"
   },
   {
    "duration": 131,
    "start_time": "2022-05-26T11:20:20.008Z"
   },
   {
    "duration": 119,
    "start_time": "2022-05-26T11:20:20.141Z"
   },
   {
    "duration": 18,
    "start_time": "2022-05-26T11:20:20.262Z"
   },
   {
    "duration": 25,
    "start_time": "2022-05-26T11:20:20.282Z"
   },
   {
    "duration": 11,
    "start_time": "2022-05-26T11:20:20.309Z"
   },
   {
    "duration": 19,
    "start_time": "2022-05-26T11:20:20.322Z"
   },
   {
    "duration": 31,
    "start_time": "2022-05-26T11:20:20.342Z"
   },
   {
    "duration": 44,
    "start_time": "2022-05-26T11:20:20.375Z"
   },
   {
    "duration": 159,
    "start_time": "2022-05-26T11:20:20.421Z"
   },
   {
    "duration": 12,
    "start_time": "2022-05-26T11:20:20.583Z"
   },
   {
    "duration": 15,
    "start_time": "2022-05-26T11:20:20.597Z"
   },
   {
    "duration": 12,
    "start_time": "2022-05-26T11:20:20.614Z"
   },
   {
    "duration": 21,
    "start_time": "2022-05-26T11:20:20.628Z"
   },
   {
    "duration": 31,
    "start_time": "2022-05-26T11:20:20.675Z"
   },
   {
    "duration": 77,
    "start_time": "2022-05-26T11:20:20.708Z"
   },
   {
    "duration": 38,
    "start_time": "2022-05-26T11:20:20.787Z"
   },
   {
    "duration": 9,
    "start_time": "2022-05-26T11:20:20.826Z"
   },
   {
    "duration": 15,
    "start_time": "2022-05-26T11:20:20.836Z"
   },
   {
    "duration": 38,
    "start_time": "2022-05-26T11:20:20.852Z"
   },
   {
    "duration": 6,
    "start_time": "2022-05-26T11:20:20.892Z"
   },
   {
    "duration": 14,
    "start_time": "2022-05-26T11:20:20.899Z"
   },
   {
    "duration": 73,
    "start_time": "2022-05-26T11:20:20.915Z"
   },
   {
    "duration": 1207,
    "start_time": "2022-05-26T11:20:20.990Z"
   },
   {
    "duration": 9,
    "start_time": "2022-05-26T11:20:22.199Z"
   },
   {
    "duration": 16,
    "start_time": "2022-05-26T11:20:22.209Z"
   },
   {
    "duration": 19,
    "start_time": "2022-05-26T11:20:22.229Z"
   },
   {
    "duration": 7,
    "start_time": "2022-05-26T11:20:22.250Z"
   },
   {
    "duration": 25,
    "start_time": "2022-05-26T11:20:22.258Z"
   },
   {
    "duration": 26,
    "start_time": "2022-05-26T11:20:22.285Z"
   },
   {
    "duration": 10,
    "start_time": "2022-05-26T11:20:22.313Z"
   },
   {
    "duration": 12,
    "start_time": "2022-05-26T11:20:22.325Z"
   },
   {
    "duration": 47,
    "start_time": "2022-05-26T11:20:22.339Z"
   },
   {
    "duration": 55,
    "start_time": "2022-05-26T11:20:22.388Z"
   },
   {
    "duration": 44,
    "start_time": "2022-05-26T11:20:22.445Z"
   },
   {
    "duration": 35,
    "start_time": "2022-05-26T11:20:22.491Z"
   },
   {
    "duration": 55,
    "start_time": "2022-05-26T11:20:22.528Z"
   },
   {
    "duration": 12,
    "start_time": "2022-05-26T11:20:22.585Z"
   },
   {
    "duration": 8,
    "start_time": "2022-05-26T11:20:22.599Z"
   },
   {
    "duration": 13,
    "start_time": "2022-05-26T11:20:22.609Z"
   },
   {
    "duration": 3,
    "start_time": "2022-05-26T11:20:22.624Z"
   },
   {
    "duration": 7,
    "start_time": "2022-05-26T11:20:22.628Z"
   },
   {
    "duration": 39,
    "start_time": "2022-05-26T11:20:22.636Z"
   },
   {
    "duration": 9,
    "start_time": "2022-05-26T11:20:22.677Z"
   },
   {
    "duration": 125,
    "start_time": "2022-05-26T11:20:22.688Z"
   },
   {
    "duration": 15,
    "start_time": "2022-05-26T11:20:22.815Z"
   },
   {
    "duration": 26,
    "start_time": "2022-05-26T11:20:22.832Z"
   },
   {
    "duration": 22,
    "start_time": "2022-05-26T11:20:22.859Z"
   },
   {
    "duration": 10,
    "start_time": "2022-05-26T11:20:22.883Z"
   },
   {
    "duration": 8,
    "start_time": "2022-05-26T11:20:22.895Z"
   },
   {
    "duration": 419,
    "start_time": "2022-05-26T11:20:22.905Z"
   },
   {
    "duration": 479,
    "start_time": "2022-05-26T11:20:23.326Z"
   },
   {
    "duration": 419,
    "start_time": "2022-05-26T11:20:23.807Z"
   },
   {
    "duration": 434,
    "start_time": "2022-05-26T11:20:24.228Z"
   },
   {
    "duration": 405,
    "start_time": "2022-05-26T11:20:24.664Z"
   },
   {
    "duration": 56,
    "start_time": "2022-05-26T11:20:25.079Z"
   },
   {
    "duration": 45,
    "start_time": "2022-05-26T11:20:25.137Z"
   },
   {
    "duration": 2500,
    "start_time": "2022-05-26T11:20:25.185Z"
   },
   {
    "duration": 11,
    "start_time": "2022-05-26T11:20:27.687Z"
   },
   {
    "duration": 11,
    "start_time": "2022-05-26T11:20:27.700Z"
   },
   {
    "duration": 7,
    "start_time": "2022-05-26T11:20:27.713Z"
   },
   {
    "duration": 13,
    "start_time": "2022-05-26T11:20:27.722Z"
   },
   {
    "duration": 203,
    "start_time": "2022-05-26T11:22:38.026Z"
   },
   {
    "duration": 1224,
    "start_time": "2022-05-26T11:22:40.711Z"
   },
   {
    "duration": 15,
    "start_time": "2022-05-26T11:22:46.579Z"
   },
   {
    "duration": 4,
    "start_time": "2022-05-26T11:22:52.477Z"
   },
   {
    "duration": 8,
    "start_time": "2022-05-26T11:22:52.483Z"
   },
   {
    "duration": 62,
    "start_time": "2022-05-26T11:22:52.493Z"
   },
   {
    "duration": 29,
    "start_time": "2022-05-26T11:22:52.557Z"
   },
   {
    "duration": 28,
    "start_time": "2022-05-26T11:22:52.589Z"
   },
   {
    "duration": 17,
    "start_time": "2022-05-26T11:22:52.618Z"
   },
   {
    "duration": 19,
    "start_time": "2022-05-26T11:22:52.637Z"
   },
   {
    "duration": 26,
    "start_time": "2022-05-26T11:22:52.658Z"
   },
   {
    "duration": 7,
    "start_time": "2022-05-26T11:22:52.686Z"
   },
   {
    "duration": 174,
    "start_time": "2022-05-26T11:22:52.695Z"
   },
   {
    "duration": 17,
    "start_time": "2022-05-26T11:22:52.875Z"
   },
   {
    "duration": 15,
    "start_time": "2022-05-26T11:22:52.894Z"
   },
   {
    "duration": 18,
    "start_time": "2022-05-26T11:22:52.911Z"
   },
   {
    "duration": 28,
    "start_time": "2022-05-26T11:22:52.932Z"
   },
   {
    "duration": 43,
    "start_time": "2022-05-26T11:22:52.961Z"
   },
   {
    "duration": 143,
    "start_time": "2022-05-26T11:22:53.005Z"
   },
   {
    "duration": 135,
    "start_time": "2022-05-26T11:22:53.149Z"
   },
   {
    "duration": 7,
    "start_time": "2022-05-26T11:22:53.286Z"
   },
   {
    "duration": 13,
    "start_time": "2022-05-26T11:22:53.295Z"
   },
   {
    "duration": 22,
    "start_time": "2022-05-26T11:22:53.309Z"
   },
   {
    "duration": 20,
    "start_time": "2022-05-26T11:22:53.332Z"
   },
   {
    "duration": 24,
    "start_time": "2022-05-26T11:22:53.353Z"
   },
   {
    "duration": 46,
    "start_time": "2022-05-26T11:22:53.379Z"
   },
   {
    "duration": 168,
    "start_time": "2022-05-26T11:22:53.427Z"
   },
   {
    "duration": 12,
    "start_time": "2022-05-26T11:22:53.596Z"
   },
   {
    "duration": 18,
    "start_time": "2022-05-26T11:22:53.610Z"
   },
   {
    "duration": 17,
    "start_time": "2022-05-26T11:22:53.631Z"
   },
   {
    "duration": 41,
    "start_time": "2022-05-26T11:22:53.650Z"
   },
   {
    "duration": 34,
    "start_time": "2022-05-26T11:22:53.693Z"
   },
   {
    "duration": 93,
    "start_time": "2022-05-26T11:22:53.728Z"
   },
   {
    "duration": 37,
    "start_time": "2022-05-26T11:22:53.823Z"
   },
   {
    "duration": 21,
    "start_time": "2022-05-26T11:22:53.862Z"
   },
   {
    "duration": 30,
    "start_time": "2022-05-26T11:22:53.884Z"
   },
   {
    "duration": 29,
    "start_time": "2022-05-26T11:22:53.916Z"
   },
   {
    "duration": 6,
    "start_time": "2022-05-26T11:22:53.947Z"
   },
   {
    "duration": 30,
    "start_time": "2022-05-26T11:22:53.955Z"
   },
   {
    "duration": 61,
    "start_time": "2022-05-26T11:22:53.987Z"
   },
   {
    "duration": 1287,
    "start_time": "2022-05-26T11:22:54.049Z"
   },
   {
    "duration": 9,
    "start_time": "2022-05-26T11:22:55.338Z"
   },
   {
    "duration": 26,
    "start_time": "2022-05-26T11:22:55.348Z"
   },
   {
    "duration": 22,
    "start_time": "2022-05-26T11:22:55.379Z"
   },
   {
    "duration": 7,
    "start_time": "2022-05-26T11:22:55.403Z"
   },
   {
    "duration": 16,
    "start_time": "2022-05-26T11:22:55.412Z"
   },
   {
    "duration": 62,
    "start_time": "2022-05-26T11:22:55.429Z"
   },
   {
    "duration": 10,
    "start_time": "2022-05-26T11:22:55.492Z"
   },
   {
    "duration": 16,
    "start_time": "2022-05-26T11:22:55.504Z"
   },
   {
    "duration": 8,
    "start_time": "2022-05-26T11:22:55.522Z"
   },
   {
    "duration": 71,
    "start_time": "2022-05-26T11:22:55.532Z"
   },
   {
    "duration": 32,
    "start_time": "2022-05-26T11:22:55.605Z"
   },
   {
    "duration": 65,
    "start_time": "2022-05-26T11:22:55.639Z"
   },
   {
    "duration": 36,
    "start_time": "2022-05-26T11:22:55.706Z"
   },
   {
    "duration": 31,
    "start_time": "2022-05-26T11:22:55.744Z"
   },
   {
    "duration": 12,
    "start_time": "2022-05-26T11:22:55.777Z"
   },
   {
    "duration": 13,
    "start_time": "2022-05-26T11:22:55.791Z"
   },
   {
    "duration": 4,
    "start_time": "2022-05-26T11:22:55.807Z"
   },
   {
    "duration": 6,
    "start_time": "2022-05-26T11:22:55.813Z"
   },
   {
    "duration": 9,
    "start_time": "2022-05-26T11:22:55.821Z"
   },
   {
    "duration": 7,
    "start_time": "2022-05-26T11:22:55.832Z"
   },
   {
    "duration": 133,
    "start_time": "2022-05-26T11:22:55.866Z"
   },
   {
    "duration": 18,
    "start_time": "2022-05-26T11:22:56.001Z"
   },
   {
    "duration": 25,
    "start_time": "2022-05-26T11:22:56.021Z"
   },
   {
    "duration": 31,
    "start_time": "2022-05-26T11:22:56.048Z"
   },
   {
    "duration": 12,
    "start_time": "2022-05-26T11:22:56.081Z"
   },
   {
    "duration": 9,
    "start_time": "2022-05-26T11:22:56.095Z"
   },
   {
    "duration": 452,
    "start_time": "2022-05-26T11:22:56.105Z"
   },
   {
    "duration": 449,
    "start_time": "2022-05-26T11:22:56.559Z"
   },
   {
    "duration": 768,
    "start_time": "2022-05-26T11:22:57.009Z"
   },
   {
    "duration": 732,
    "start_time": "2022-05-26T11:22:57.779Z"
   },
   {
    "duration": 871,
    "start_time": "2022-05-26T11:22:58.513Z"
   },
   {
    "duration": 103,
    "start_time": "2022-05-26T11:22:59.386Z"
   },
   {
    "duration": 24,
    "start_time": "2022-05-26T11:22:59.491Z"
   },
   {
    "duration": 2723,
    "start_time": "2022-05-26T11:22:59.517Z"
   },
   {
    "duration": 10,
    "start_time": "2022-05-26T11:23:02.242Z"
   },
   {
    "duration": 29,
    "start_time": "2022-05-26T11:23:02.254Z"
   },
   {
    "duration": 19,
    "start_time": "2022-05-26T11:23:02.284Z"
   },
   {
    "duration": 8,
    "start_time": "2022-05-26T11:23:02.304Z"
   },
   {
    "duration": 12,
    "start_time": "2022-05-26T11:23:52.076Z"
   },
   {
    "duration": 41,
    "start_time": "2022-05-26T11:24:24.549Z"
   },
   {
    "duration": 11,
    "start_time": "2022-05-26T11:24:27.810Z"
   },
   {
    "duration": 24,
    "start_time": "2022-05-26T11:24:40.764Z"
   },
   {
    "duration": 3,
    "start_time": "2022-05-26T11:24:45.537Z"
   },
   {
    "duration": 5,
    "start_time": "2022-05-26T11:24:45.543Z"
   },
   {
    "duration": 63,
    "start_time": "2022-05-26T11:24:45.550Z"
   },
   {
    "duration": 13,
    "start_time": "2022-05-26T11:24:45.616Z"
   },
   {
    "duration": 18,
    "start_time": "2022-05-26T11:24:45.631Z"
   },
   {
    "duration": 30,
    "start_time": "2022-05-26T11:24:45.651Z"
   },
   {
    "duration": 15,
    "start_time": "2022-05-26T11:24:45.683Z"
   },
   {
    "duration": 23,
    "start_time": "2022-05-26T11:24:45.700Z"
   },
   {
    "duration": 10,
    "start_time": "2022-05-26T11:24:45.726Z"
   },
   {
    "duration": 224,
    "start_time": "2022-05-26T11:24:45.738Z"
   },
   {
    "duration": 21,
    "start_time": "2022-05-26T11:24:45.963Z"
   },
   {
    "duration": 26,
    "start_time": "2022-05-26T11:24:45.986Z"
   },
   {
    "duration": 20,
    "start_time": "2022-05-26T11:24:46.014Z"
   },
   {
    "duration": 46,
    "start_time": "2022-05-26T11:24:46.035Z"
   },
   {
    "duration": 31,
    "start_time": "2022-05-26T11:24:46.085Z"
   },
   {
    "duration": 169,
    "start_time": "2022-05-26T11:24:46.118Z"
   },
   {
    "duration": 134,
    "start_time": "2022-05-26T11:24:46.288Z"
   },
   {
    "duration": 9,
    "start_time": "2022-05-26T11:24:46.423Z"
   },
   {
    "duration": 17,
    "start_time": "2022-05-26T11:24:46.434Z"
   },
   {
    "duration": 29,
    "start_time": "2022-05-26T11:24:46.452Z"
   },
   {
    "duration": 21,
    "start_time": "2022-05-26T11:24:46.483Z"
   },
   {
    "duration": 14,
    "start_time": "2022-05-26T11:24:46.506Z"
   },
   {
    "duration": 78,
    "start_time": "2022-05-26T11:24:46.522Z"
   },
   {
    "duration": 158,
    "start_time": "2022-05-26T11:24:46.605Z"
   },
   {
    "duration": 12,
    "start_time": "2022-05-26T11:24:46.775Z"
   },
   {
    "duration": 16,
    "start_time": "2022-05-26T11:24:46.788Z"
   },
   {
    "duration": 17,
    "start_time": "2022-05-26T11:24:46.806Z"
   },
   {
    "duration": 31,
    "start_time": "2022-05-26T11:24:46.830Z"
   },
   {
    "duration": 39,
    "start_time": "2022-05-26T11:24:46.863Z"
   },
   {
    "duration": 79,
    "start_time": "2022-05-26T11:24:46.903Z"
   },
   {
    "duration": 27,
    "start_time": "2022-05-26T11:24:46.984Z"
   },
   {
    "duration": 9,
    "start_time": "2022-05-26T11:24:47.012Z"
   },
   {
    "duration": 13,
    "start_time": "2022-05-26T11:24:47.022Z"
   },
   {
    "duration": 38,
    "start_time": "2022-05-26T11:24:47.036Z"
   },
   {
    "duration": 7,
    "start_time": "2022-05-26T11:24:47.077Z"
   },
   {
    "duration": 18,
    "start_time": "2022-05-26T11:24:47.085Z"
   },
   {
    "duration": 65,
    "start_time": "2022-05-26T11:24:47.105Z"
   },
   {
    "duration": 19,
    "start_time": "2022-05-26T11:24:47.172Z"
   },
   {
    "duration": 13,
    "start_time": "2022-05-26T11:24:47.192Z"
   },
   {
    "duration": 1212,
    "start_time": "2022-05-26T11:24:47.206Z"
   },
   {
    "duration": 8,
    "start_time": "2022-05-26T11:24:48.420Z"
   },
   {
    "duration": 14,
    "start_time": "2022-05-26T11:24:48.430Z"
   },
   {
    "duration": 45,
    "start_time": "2022-05-26T11:24:48.445Z"
   },
   {
    "duration": 6,
    "start_time": "2022-05-26T11:24:48.492Z"
   },
   {
    "duration": 21,
    "start_time": "2022-05-26T11:24:48.500Z"
   },
   {
    "duration": 24,
    "start_time": "2022-05-26T11:24:48.522Z"
   },
   {
    "duration": 28,
    "start_time": "2022-05-26T11:24:48.548Z"
   },
   {
    "duration": 22,
    "start_time": "2022-05-26T11:24:48.578Z"
   },
   {
    "duration": 16,
    "start_time": "2022-05-26T11:24:48.602Z"
   },
   {
    "duration": 62,
    "start_time": "2022-05-26T11:24:48.620Z"
   },
   {
    "duration": 33,
    "start_time": "2022-05-26T11:24:48.684Z"
   },
   {
    "duration": 57,
    "start_time": "2022-05-26T11:24:48.719Z"
   },
   {
    "duration": 251,
    "start_time": "2022-05-26T11:24:48.778Z"
   },
   {
    "duration": 17,
    "start_time": "2022-05-26T11:24:49.031Z"
   },
   {
    "duration": 7,
    "start_time": "2022-05-26T11:24:49.050Z"
   },
   {
    "duration": 37,
    "start_time": "2022-05-26T11:24:49.075Z"
   },
   {
    "duration": 5,
    "start_time": "2022-05-26T11:24:49.115Z"
   },
   {
    "duration": 17,
    "start_time": "2022-05-26T11:24:49.123Z"
   },
   {
    "duration": 13,
    "start_time": "2022-05-26T11:24:49.143Z"
   },
   {
    "duration": 15,
    "start_time": "2022-05-26T11:24:49.176Z"
   },
   {
    "duration": 161,
    "start_time": "2022-05-26T11:24:49.194Z"
   },
   {
    "duration": 29,
    "start_time": "2022-05-26T11:24:49.357Z"
   },
   {
    "duration": 31,
    "start_time": "2022-05-26T11:24:49.388Z"
   },
   {
    "duration": 7,
    "start_time": "2022-05-26T11:24:49.421Z"
   },
   {
    "duration": 8,
    "start_time": "2022-05-26T11:24:49.430Z"
   },
   {
    "duration": 9,
    "start_time": "2022-05-26T11:24:49.440Z"
   },
   {
    "duration": 405,
    "start_time": "2022-05-26T11:24:49.475Z"
   },
   {
    "duration": 691,
    "start_time": "2022-05-26T11:24:49.882Z"
   },
   {
    "duration": 721,
    "start_time": "2022-05-26T11:24:50.586Z"
   },
   {
    "duration": 865,
    "start_time": "2022-05-26T11:24:51.309Z"
   },
   {
    "duration": 563,
    "start_time": "2022-05-26T11:24:52.177Z"
   },
   {
    "duration": 61,
    "start_time": "2022-05-26T11:24:52.742Z"
   },
   {
    "duration": 23,
    "start_time": "2022-05-26T11:24:52.804Z"
   },
   {
    "duration": 2498,
    "start_time": "2022-05-26T11:24:52.829Z"
   },
   {
    "duration": 11,
    "start_time": "2022-05-26T11:24:55.328Z"
   },
   {
    "duration": 33,
    "start_time": "2022-05-26T11:24:55.341Z"
   },
   {
    "duration": 6,
    "start_time": "2022-05-26T11:24:55.377Z"
   },
   {
    "duration": 7,
    "start_time": "2022-05-26T11:24:55.385Z"
   },
   {
    "duration": 29,
    "start_time": "2022-05-26T11:25:20.789Z"
   },
   {
    "duration": 12,
    "start_time": "2022-05-26T11:25:25.076Z"
   },
   {
    "duration": 4,
    "start_time": "2022-05-26T11:27:41.665Z"
   },
   {
    "duration": 18,
    "start_time": "2022-05-26T11:27:41.672Z"
   },
   {
    "duration": 74,
    "start_time": "2022-05-26T11:27:41.693Z"
   },
   {
    "duration": 15,
    "start_time": "2022-05-26T11:27:41.770Z"
   },
   {
    "duration": 31,
    "start_time": "2022-05-26T11:27:41.788Z"
   },
   {
    "duration": 34,
    "start_time": "2022-05-26T11:27:41.821Z"
   },
   {
    "duration": 30,
    "start_time": "2022-05-26T11:27:41.858Z"
   },
   {
    "duration": 33,
    "start_time": "2022-05-26T11:27:41.890Z"
   },
   {
    "duration": 21,
    "start_time": "2022-05-26T11:27:41.926Z"
   },
   {
    "duration": 207,
    "start_time": "2022-05-26T11:27:41.949Z"
   },
   {
    "duration": 9,
    "start_time": "2022-05-26T11:27:42.158Z"
   },
   {
    "duration": 26,
    "start_time": "2022-05-26T11:27:42.168Z"
   },
   {
    "duration": 32,
    "start_time": "2022-05-26T11:27:42.196Z"
   },
   {
    "duration": 33,
    "start_time": "2022-05-26T11:27:42.229Z"
   },
   {
    "duration": 29,
    "start_time": "2022-05-26T11:27:42.265Z"
   },
   {
    "duration": 133,
    "start_time": "2022-05-26T11:27:42.296Z"
   },
   {
    "duration": 121,
    "start_time": "2022-05-26T11:27:42.431Z"
   },
   {
    "duration": 8,
    "start_time": "2022-05-26T11:27:42.554Z"
   },
   {
    "duration": 31,
    "start_time": "2022-05-26T11:27:42.563Z"
   },
   {
    "duration": 15,
    "start_time": "2022-05-26T11:27:42.596Z"
   },
   {
    "duration": 21,
    "start_time": "2022-05-26T11:27:42.613Z"
   },
   {
    "duration": 14,
    "start_time": "2022-05-26T11:27:42.635Z"
   },
   {
    "duration": 56,
    "start_time": "2022-05-26T11:27:42.651Z"
   },
   {
    "duration": 220,
    "start_time": "2022-05-26T11:27:42.711Z"
   },
   {
    "duration": 11,
    "start_time": "2022-05-26T11:27:42.935Z"
   },
   {
    "duration": 18,
    "start_time": "2022-05-26T11:27:42.948Z"
   },
   {
    "duration": 21,
    "start_time": "2022-05-26T11:27:42.967Z"
   },
   {
    "duration": 26,
    "start_time": "2022-05-26T11:27:42.990Z"
   },
   {
    "duration": 48,
    "start_time": "2022-05-26T11:27:43.018Z"
   },
   {
    "duration": 64,
    "start_time": "2022-05-26T11:27:43.068Z"
   },
   {
    "duration": 27,
    "start_time": "2022-05-26T11:27:43.134Z"
   },
   {
    "duration": 9,
    "start_time": "2022-05-26T11:27:43.163Z"
   },
   {
    "duration": 14,
    "start_time": "2022-05-26T11:27:43.174Z"
   },
   {
    "duration": 27,
    "start_time": "2022-05-26T11:27:43.190Z"
   },
   {
    "duration": 5,
    "start_time": "2022-05-26T11:27:43.219Z"
   },
   {
    "duration": 40,
    "start_time": "2022-05-26T11:27:43.226Z"
   },
   {
    "duration": 55,
    "start_time": "2022-05-26T11:27:43.268Z"
   },
   {
    "duration": 1078,
    "start_time": "2022-05-26T11:27:43.325Z"
   },
   {
    "duration": 10,
    "start_time": "2022-05-26T11:27:44.405Z"
   },
   {
    "duration": 16,
    "start_time": "2022-05-26T11:27:44.417Z"
   },
   {
    "duration": 39,
    "start_time": "2022-05-26T11:27:44.435Z"
   },
   {
    "duration": 8,
    "start_time": "2022-05-26T11:27:44.475Z"
   },
   {
    "duration": 14,
    "start_time": "2022-05-26T11:27:44.484Z"
   },
   {
    "duration": 32,
    "start_time": "2022-05-26T11:27:44.500Z"
   },
   {
    "duration": 32,
    "start_time": "2022-05-26T11:27:44.533Z"
   },
   {
    "duration": 13,
    "start_time": "2022-05-26T11:27:44.567Z"
   },
   {
    "duration": 8,
    "start_time": "2022-05-26T11:27:44.583Z"
   },
   {
    "duration": 49,
    "start_time": "2022-05-26T11:27:44.593Z"
   },
   {
    "duration": 30,
    "start_time": "2022-05-26T11:27:44.666Z"
   },
   {
    "duration": 36,
    "start_time": "2022-05-26T11:27:44.698Z"
   },
   {
    "duration": 223,
    "start_time": "2022-05-26T11:27:44.736Z"
   },
   {
    "duration": 13,
    "start_time": "2022-05-26T11:27:44.961Z"
   },
   {
    "duration": 6,
    "start_time": "2022-05-26T11:27:44.976Z"
   },
   {
    "duration": 13,
    "start_time": "2022-05-26T11:27:44.983Z"
   },
   {
    "duration": 4,
    "start_time": "2022-05-26T11:27:44.997Z"
   },
   {
    "duration": 25,
    "start_time": "2022-05-26T11:27:45.003Z"
   },
   {
    "duration": 12,
    "start_time": "2022-05-26T11:27:45.030Z"
   },
   {
    "duration": 21,
    "start_time": "2022-05-26T11:27:45.044Z"
   },
   {
    "duration": 125,
    "start_time": "2022-05-26T11:27:45.067Z"
   },
   {
    "duration": 17,
    "start_time": "2022-05-26T11:27:45.194Z"
   },
   {
    "duration": 26,
    "start_time": "2022-05-26T11:27:45.213Z"
   },
   {
    "duration": 25,
    "start_time": "2022-05-26T11:27:45.242Z"
   },
   {
    "duration": 6,
    "start_time": "2022-05-26T11:27:45.269Z"
   },
   {
    "duration": 11,
    "start_time": "2022-05-26T11:27:45.277Z"
   },
   {
    "duration": 407,
    "start_time": "2022-05-26T11:27:45.290Z"
   },
   {
    "duration": 466,
    "start_time": "2022-05-26T11:27:45.699Z"
   },
   {
    "duration": 416,
    "start_time": "2022-05-26T11:27:46.166Z"
   },
   {
    "duration": 402,
    "start_time": "2022-05-26T11:27:46.584Z"
   },
   {
    "duration": 419,
    "start_time": "2022-05-26T11:27:46.991Z"
   },
   {
    "duration": 68,
    "start_time": "2022-05-26T11:27:47.412Z"
   },
   {
    "duration": 28,
    "start_time": "2022-05-26T11:27:47.482Z"
   },
   {
    "duration": 2515,
    "start_time": "2022-05-26T11:27:47.512Z"
   },
   {
    "duration": 12,
    "start_time": "2022-05-26T11:27:50.029Z"
   },
   {
    "duration": 29,
    "start_time": "2022-05-26T11:27:50.043Z"
   },
   {
    "duration": 6,
    "start_time": "2022-05-26T11:27:50.074Z"
   },
   {
    "duration": 7,
    "start_time": "2022-05-26T11:27:50.082Z"
   },
   {
    "duration": 10,
    "start_time": "2022-05-26T11:49:36.991Z"
   },
   {
    "duration": 43,
    "start_time": "2022-05-26T11:49:51.958Z"
   },
   {
    "duration": 12,
    "start_time": "2022-05-26T11:50:06.046Z"
   },
   {
    "duration": 14,
    "start_time": "2022-05-26T11:50:12.282Z"
   },
   {
    "duration": 31,
    "start_time": "2022-05-26T11:50:18.334Z"
   },
   {
    "duration": 15,
    "start_time": "2022-05-26T11:51:51.872Z"
   },
   {
    "duration": 20,
    "start_time": "2022-05-26T11:56:44.223Z"
   },
   {
    "duration": 12,
    "start_time": "2022-05-26T11:56:48.738Z"
   },
   {
    "duration": 12,
    "start_time": "2022-05-26T11:57:24.828Z"
   },
   {
    "duration": 13,
    "start_time": "2022-05-26T11:58:21.421Z"
   },
   {
    "duration": 21,
    "start_time": "2022-05-26T11:59:16.860Z"
   },
   {
    "duration": 21,
    "start_time": "2022-05-26T11:59:48.877Z"
   },
   {
    "duration": 17,
    "start_time": "2022-05-26T12:00:19.623Z"
   },
   {
    "duration": 23,
    "start_time": "2022-05-26T12:00:33.678Z"
   },
   {
    "duration": 37,
    "start_time": "2022-05-26T12:00:38.015Z"
   },
   {
    "duration": 3,
    "start_time": "2022-05-26T12:00:58.039Z"
   },
   {
    "duration": 12,
    "start_time": "2022-05-26T12:00:58.044Z"
   },
   {
    "duration": 81,
    "start_time": "2022-05-26T12:00:58.059Z"
   },
   {
    "duration": 10,
    "start_time": "2022-05-26T12:00:58.142Z"
   },
   {
    "duration": 13,
    "start_time": "2022-05-26T12:00:58.155Z"
   },
   {
    "duration": 24,
    "start_time": "2022-05-26T12:00:58.171Z"
   },
   {
    "duration": 14,
    "start_time": "2022-05-26T12:00:58.197Z"
   },
   {
    "duration": 16,
    "start_time": "2022-05-26T12:00:58.212Z"
   },
   {
    "duration": 6,
    "start_time": "2022-05-26T12:00:58.230Z"
   },
   {
    "duration": 197,
    "start_time": "2022-05-26T12:00:58.266Z"
   },
   {
    "duration": 15,
    "start_time": "2022-05-26T12:00:58.467Z"
   },
   {
    "duration": 8,
    "start_time": "2022-05-26T12:00:58.483Z"
   },
   {
    "duration": 23,
    "start_time": "2022-05-26T12:00:58.493Z"
   },
   {
    "duration": 27,
    "start_time": "2022-05-26T12:00:58.518Z"
   },
   {
    "duration": 34,
    "start_time": "2022-05-26T12:00:58.566Z"
   },
   {
    "duration": 125,
    "start_time": "2022-05-26T12:00:58.602Z"
   },
   {
    "duration": 111,
    "start_time": "2022-05-26T12:00:58.729Z"
   },
   {
    "duration": 10,
    "start_time": "2022-05-26T12:00:58.842Z"
   },
   {
    "duration": 36,
    "start_time": "2022-05-26T12:00:58.854Z"
   },
   {
    "duration": 17,
    "start_time": "2022-05-26T12:00:58.892Z"
   },
   {
    "duration": 22,
    "start_time": "2022-05-26T12:00:58.911Z"
   },
   {
    "duration": 15,
    "start_time": "2022-05-26T12:00:58.935Z"
   },
   {
    "duration": 74,
    "start_time": "2022-05-26T12:00:58.952Z"
   },
   {
    "duration": 175,
    "start_time": "2022-05-26T12:00:59.028Z"
   },
   {
    "duration": 12,
    "start_time": "2022-05-26T12:00:59.205Z"
   },
   {
    "duration": 20,
    "start_time": "2022-05-26T12:00:59.219Z"
   },
   {
    "duration": 35,
    "start_time": "2022-05-26T12:00:59.241Z"
   },
   {
    "duration": 33,
    "start_time": "2022-05-26T12:00:59.278Z"
   },
   {
    "duration": 50,
    "start_time": "2022-05-26T12:00:59.317Z"
   },
   {
    "duration": 68,
    "start_time": "2022-05-26T12:00:59.369Z"
   },
   {
    "duration": 42,
    "start_time": "2022-05-26T12:00:59.439Z"
   },
   {
    "duration": 8,
    "start_time": "2022-05-26T12:00:59.483Z"
   },
   {
    "duration": 14,
    "start_time": "2022-05-26T12:00:59.493Z"
   },
   {
    "duration": 33,
    "start_time": "2022-05-26T12:00:59.509Z"
   },
   {
    "duration": 5,
    "start_time": "2022-05-26T12:00:59.544Z"
   },
   {
    "duration": 25,
    "start_time": "2022-05-26T12:00:59.551Z"
   },
   {
    "duration": 54,
    "start_time": "2022-05-26T12:00:59.578Z"
   },
   {
    "duration": 1180,
    "start_time": "2022-05-26T12:00:59.634Z"
   },
   {
    "duration": 8,
    "start_time": "2022-05-26T12:01:00.816Z"
   },
   {
    "duration": 38,
    "start_time": "2022-05-26T12:01:00.826Z"
   },
   {
    "duration": 39,
    "start_time": "2022-05-26T12:01:00.867Z"
   },
   {
    "duration": 7,
    "start_time": "2022-05-26T12:01:00.907Z"
   },
   {
    "duration": 30,
    "start_time": "2022-05-26T12:01:00.916Z"
   },
   {
    "duration": 46,
    "start_time": "2022-05-26T12:01:00.947Z"
   },
   {
    "duration": 9,
    "start_time": "2022-05-26T12:01:00.995Z"
   },
   {
    "duration": 29,
    "start_time": "2022-05-26T12:01:01.006Z"
   },
   {
    "duration": 16,
    "start_time": "2022-05-26T12:01:01.037Z"
   },
   {
    "duration": 73,
    "start_time": "2022-05-26T12:01:01.055Z"
   },
   {
    "duration": 33,
    "start_time": "2022-05-26T12:01:01.129Z"
   },
   {
    "duration": 55,
    "start_time": "2022-05-26T12:01:01.164Z"
   },
   {
    "duration": 31,
    "start_time": "2022-05-26T12:01:01.221Z"
   },
   {
    "duration": 20,
    "start_time": "2022-05-26T12:01:01.254Z"
   },
   {
    "duration": 55,
    "start_time": "2022-05-26T12:01:01.277Z"
   },
   {
    "duration": 50,
    "start_time": "2022-05-26T12:01:01.335Z"
   },
   {
    "duration": 24,
    "start_time": "2022-05-26T12:01:01.387Z"
   },
   {
    "duration": 14,
    "start_time": "2022-05-26T12:01:01.413Z"
   },
   {
    "duration": 29,
    "start_time": "2022-05-26T12:01:01.429Z"
   },
   {
    "duration": 12,
    "start_time": "2022-05-26T12:01:01.460Z"
   },
   {
    "duration": 154,
    "start_time": "2022-05-26T12:01:01.475Z"
   },
   {
    "duration": 16,
    "start_time": "2022-05-26T12:01:01.631Z"
   },
   {
    "duration": 39,
    "start_time": "2022-05-26T12:01:01.649Z"
   },
   {
    "duration": 6,
    "start_time": "2022-05-26T12:01:01.690Z"
   },
   {
    "duration": 14,
    "start_time": "2022-05-26T12:01:01.697Z"
   },
   {
    "duration": 15,
    "start_time": "2022-05-26T12:01:01.712Z"
   },
   {
    "duration": 443,
    "start_time": "2022-05-26T12:01:01.728Z"
   },
   {
    "duration": 458,
    "start_time": "2022-05-26T12:01:02.173Z"
   },
   {
    "duration": 485,
    "start_time": "2022-05-26T12:01:02.633Z"
   },
   {
    "duration": 698,
    "start_time": "2022-05-26T12:01:03.121Z"
   },
   {
    "duration": 857,
    "start_time": "2022-05-26T12:01:03.821Z"
   },
   {
    "duration": 107,
    "start_time": "2022-05-26T12:01:04.680Z"
   },
   {
    "duration": 78,
    "start_time": "2022-05-26T12:01:04.788Z"
   },
   {
    "duration": 3312,
    "start_time": "2022-05-26T12:01:04.868Z"
   },
   {
    "duration": 12,
    "start_time": "2022-05-26T12:01:08.182Z"
   },
   {
    "duration": 15,
    "start_time": "2022-05-26T12:01:08.197Z"
   },
   {
    "duration": 11,
    "start_time": "2022-05-26T12:01:08.213Z"
   },
   {
    "duration": 43,
    "start_time": "2022-05-26T12:01:08.225Z"
   },
   {
    "duration": 17,
    "start_time": "2022-05-26T12:05:50.564Z"
   },
   {
    "duration": 8,
    "start_time": "2022-05-26T12:06:01.916Z"
   },
   {
    "duration": 8,
    "start_time": "2022-05-26T12:07:45.421Z"
   },
   {
    "duration": 18,
    "start_time": "2022-05-26T12:08:02.578Z"
   },
   {
    "duration": 7,
    "start_time": "2022-05-26T12:08:13.840Z"
   },
   {
    "duration": 50,
    "start_time": "2022-05-26T12:12:11.542Z"
   },
   {
    "duration": 15,
    "start_time": "2022-05-26T12:12:15.310Z"
   },
   {
    "duration": 15,
    "start_time": "2022-05-26T12:12:19.133Z"
   },
   {
    "duration": 8,
    "start_time": "2022-05-26T12:12:22.501Z"
   },
   {
    "duration": 35,
    "start_time": "2022-05-26T12:13:04.679Z"
   },
   {
    "duration": 13,
    "start_time": "2022-05-26T12:13:07.902Z"
   },
   {
    "duration": 17,
    "start_time": "2022-05-26T12:13:09.870Z"
   },
   {
    "duration": 9,
    "start_time": "2022-05-26T12:13:12.077Z"
   },
   {
    "duration": 5,
    "start_time": "2022-05-26T12:13:30.327Z"
   },
   {
    "duration": 13,
    "start_time": "2022-05-26T12:13:31.333Z"
   },
   {
    "duration": 8,
    "start_time": "2022-05-26T12:13:34.749Z"
   },
   {
    "duration": 9,
    "start_time": "2022-05-26T12:13:37.717Z"
   },
   {
    "duration": 8,
    "start_time": "2022-05-26T12:14:00.975Z"
   },
   {
    "duration": 7,
    "start_time": "2022-05-26T12:14:08.566Z"
   },
   {
    "duration": 9,
    "start_time": "2022-05-26T12:14:09.700Z"
   },
   {
    "duration": 4,
    "start_time": "2022-05-26T12:14:12.004Z"
   },
   {
    "duration": 14,
    "start_time": "2022-05-26T12:14:12.010Z"
   },
   {
    "duration": 80,
    "start_time": "2022-05-26T12:14:12.026Z"
   },
   {
    "duration": 14,
    "start_time": "2022-05-26T12:14:12.108Z"
   },
   {
    "duration": 28,
    "start_time": "2022-05-26T12:14:12.124Z"
   },
   {
    "duration": 28,
    "start_time": "2022-05-26T12:14:12.154Z"
   },
   {
    "duration": 25,
    "start_time": "2022-05-26T12:14:12.184Z"
   },
   {
    "duration": 36,
    "start_time": "2022-05-26T12:14:12.211Z"
   },
   {
    "duration": 19,
    "start_time": "2022-05-26T12:14:12.249Z"
   },
   {
    "duration": 200,
    "start_time": "2022-05-26T12:14:12.270Z"
   },
   {
    "duration": 9,
    "start_time": "2022-05-26T12:14:12.471Z"
   },
   {
    "duration": 25,
    "start_time": "2022-05-26T12:14:12.481Z"
   },
   {
    "duration": 23,
    "start_time": "2022-05-26T12:14:12.509Z"
   },
   {
    "duration": 42,
    "start_time": "2022-05-26T12:14:12.533Z"
   },
   {
    "duration": 31,
    "start_time": "2022-05-26T12:14:12.576Z"
   },
   {
    "duration": 127,
    "start_time": "2022-05-26T12:14:12.608Z"
   },
   {
    "duration": 129,
    "start_time": "2022-05-26T12:14:12.736Z"
   },
   {
    "duration": 8,
    "start_time": "2022-05-26T12:14:12.867Z"
   },
   {
    "duration": 38,
    "start_time": "2022-05-26T12:14:12.876Z"
   },
   {
    "duration": 23,
    "start_time": "2022-05-26T12:14:12.916Z"
   },
   {
    "duration": 22,
    "start_time": "2022-05-26T12:14:12.941Z"
   },
   {
    "duration": 13,
    "start_time": "2022-05-26T12:14:12.964Z"
   },
   {
    "duration": 44,
    "start_time": "2022-05-26T12:14:12.978Z"
   },
   {
    "duration": 149,
    "start_time": "2022-05-26T12:14:13.023Z"
   },
   {
    "duration": 10,
    "start_time": "2022-05-26T12:14:13.174Z"
   },
   {
    "duration": 11,
    "start_time": "2022-05-26T12:14:13.186Z"
   },
   {
    "duration": 20,
    "start_time": "2022-05-26T12:14:13.198Z"
   },
   {
    "duration": 23,
    "start_time": "2022-05-26T12:14:13.219Z"
   },
   {
    "duration": 30,
    "start_time": "2022-05-26T12:14:13.264Z"
   },
   {
    "duration": 79,
    "start_time": "2022-05-26T12:14:13.295Z"
   },
   {
    "duration": 39,
    "start_time": "2022-05-26T12:14:13.375Z"
   },
   {
    "duration": 8,
    "start_time": "2022-05-26T12:14:13.415Z"
   },
   {
    "duration": 15,
    "start_time": "2022-05-26T12:14:13.425Z"
   },
   {
    "duration": 29,
    "start_time": "2022-05-26T12:14:13.441Z"
   },
   {
    "duration": 5,
    "start_time": "2022-05-26T12:14:13.472Z"
   },
   {
    "duration": 13,
    "start_time": "2022-05-26T12:14:13.479Z"
   },
   {
    "duration": 69,
    "start_time": "2022-05-26T12:14:13.497Z"
   },
   {
    "duration": 1133,
    "start_time": "2022-05-26T12:14:13.568Z"
   },
   {
    "duration": 10,
    "start_time": "2022-05-26T12:14:14.703Z"
   },
   {
    "duration": 18,
    "start_time": "2022-05-26T12:14:14.715Z"
   },
   {
    "duration": 35,
    "start_time": "2022-05-26T12:14:14.735Z"
   },
   {
    "duration": 8,
    "start_time": "2022-05-26T12:14:14.772Z"
   },
   {
    "duration": 19,
    "start_time": "2022-05-26T12:14:14.782Z"
   },
   {
    "duration": 24,
    "start_time": "2022-05-26T12:14:14.803Z"
   },
   {
    "duration": 8,
    "start_time": "2022-05-26T12:14:14.829Z"
   },
   {
    "duration": 33,
    "start_time": "2022-05-26T12:14:14.839Z"
   },
   {
    "duration": 8,
    "start_time": "2022-05-26T12:14:14.874Z"
   },
   {
    "duration": 58,
    "start_time": "2022-05-26T12:14:14.884Z"
   },
   {
    "duration": 53,
    "start_time": "2022-05-26T12:14:14.944Z"
   },
   {
    "duration": 42,
    "start_time": "2022-05-26T12:14:14.999Z"
   },
   {
    "duration": 45,
    "start_time": "2022-05-26T12:14:15.043Z"
   },
   {
    "duration": 14,
    "start_time": "2022-05-26T12:14:15.090Z"
   },
   {
    "duration": 6,
    "start_time": "2022-05-26T12:14:15.106Z"
   },
   {
    "duration": 12,
    "start_time": "2022-05-26T12:14:15.114Z"
   },
   {
    "duration": 42,
    "start_time": "2022-05-26T12:14:15.128Z"
   },
   {
    "duration": 9,
    "start_time": "2022-05-26T12:14:15.172Z"
   },
   {
    "duration": 6,
    "start_time": "2022-05-26T12:14:15.182Z"
   },
   {
    "duration": 11,
    "start_time": "2022-05-26T12:14:15.189Z"
   },
   {
    "duration": 7,
    "start_time": "2022-05-26T12:14:15.202Z"
   },
   {
    "duration": 139,
    "start_time": "2022-05-26T12:14:15.211Z"
   },
   {
    "duration": 18,
    "start_time": "2022-05-26T12:14:15.352Z"
   },
   {
    "duration": 27,
    "start_time": "2022-05-26T12:14:15.372Z"
   },
   {
    "duration": 4,
    "start_time": "2022-05-26T12:14:15.401Z"
   },
   {
    "duration": 6,
    "start_time": "2022-05-26T12:14:15.406Z"
   },
   {
    "duration": 7,
    "start_time": "2022-05-26T12:14:15.414Z"
   },
   {
    "duration": 414,
    "start_time": "2022-05-26T12:14:15.423Z"
   },
   {
    "duration": 439,
    "start_time": "2022-05-26T12:14:15.839Z"
   },
   {
    "duration": 412,
    "start_time": "2022-05-26T12:14:16.280Z"
   },
   {
    "duration": 424,
    "start_time": "2022-05-26T12:14:16.694Z"
   },
   {
    "duration": 673,
    "start_time": "2022-05-26T12:14:17.120Z"
   },
   {
    "duration": 96,
    "start_time": "2022-05-26T12:14:17.795Z"
   },
   {
    "duration": 81,
    "start_time": "2022-05-26T12:14:17.893Z"
   },
   {
    "duration": 3178,
    "start_time": "2022-05-26T12:14:17.976Z"
   },
   {
    "duration": 17,
    "start_time": "2022-05-26T12:14:21.156Z"
   },
   {
    "duration": 12,
    "start_time": "2022-05-26T12:14:21.175Z"
   },
   {
    "duration": 8,
    "start_time": "2022-05-26T12:14:21.189Z"
   },
   {
    "duration": 8,
    "start_time": "2022-05-26T12:14:21.198Z"
   },
   {
    "duration": 7,
    "start_time": "2022-05-26T12:16:26.840Z"
   },
   {
    "duration": 10,
    "start_time": "2022-05-26T12:16:48.503Z"
   },
   {
    "duration": 8,
    "start_time": "2022-05-26T12:16:50.151Z"
   },
   {
    "duration": 1104,
    "start_time": "2022-05-26T12:16:59.415Z"
   },
   {
    "duration": 3,
    "start_time": "2022-05-26T12:17:00.521Z"
   },
   {
    "duration": 70,
    "start_time": "2022-05-26T12:17:00.525Z"
   },
   {
    "duration": 13,
    "start_time": "2022-05-26T12:17:00.598Z"
   },
   {
    "duration": 18,
    "start_time": "2022-05-26T12:17:00.612Z"
   },
   {
    "duration": 20,
    "start_time": "2022-05-26T12:17:00.632Z"
   },
   {
    "duration": 18,
    "start_time": "2022-05-26T12:17:00.654Z"
   },
   {
    "duration": 41,
    "start_time": "2022-05-26T12:17:00.673Z"
   },
   {
    "duration": 18,
    "start_time": "2022-05-26T12:17:00.716Z"
   },
   {
    "duration": 167,
    "start_time": "2022-05-26T12:17:00.737Z"
   },
   {
    "duration": 9,
    "start_time": "2022-05-26T12:17:00.906Z"
   },
   {
    "duration": 28,
    "start_time": "2022-05-26T12:17:00.917Z"
   },
   {
    "duration": 23,
    "start_time": "2022-05-26T12:17:00.947Z"
   },
   {
    "duration": 44,
    "start_time": "2022-05-26T12:17:00.971Z"
   },
   {
    "duration": 30,
    "start_time": "2022-05-26T12:17:01.016Z"
   },
   {
    "duration": 124,
    "start_time": "2022-05-26T12:17:01.048Z"
   },
   {
    "duration": 99,
    "start_time": "2022-05-26T12:17:01.173Z"
   },
   {
    "duration": 8,
    "start_time": "2022-05-26T12:17:01.274Z"
   },
   {
    "duration": 22,
    "start_time": "2022-05-26T12:17:01.283Z"
   },
   {
    "duration": 35,
    "start_time": "2022-05-26T12:17:01.307Z"
   },
   {
    "duration": 31,
    "start_time": "2022-05-26T12:17:01.344Z"
   },
   {
    "duration": 17,
    "start_time": "2022-05-26T12:17:01.377Z"
   },
   {
    "duration": 55,
    "start_time": "2022-05-26T12:17:01.396Z"
   },
   {
    "duration": 135,
    "start_time": "2022-05-26T12:17:01.465Z"
   },
   {
    "duration": 9,
    "start_time": "2022-05-26T12:17:01.602Z"
   },
   {
    "duration": 11,
    "start_time": "2022-05-26T12:17:01.612Z"
   },
   {
    "duration": 14,
    "start_time": "2022-05-26T12:17:01.624Z"
   },
   {
    "duration": 37,
    "start_time": "2022-05-26T12:17:01.643Z"
   },
   {
    "duration": 30,
    "start_time": "2022-05-26T12:17:01.683Z"
   },
   {
    "duration": 100,
    "start_time": "2022-05-26T12:17:01.715Z"
   },
   {
    "duration": 30,
    "start_time": "2022-05-26T12:17:01.817Z"
   },
   {
    "duration": 30,
    "start_time": "2022-05-26T12:17:01.849Z"
   },
   {
    "duration": 17,
    "start_time": "2022-05-26T12:17:01.881Z"
   },
   {
    "duration": 36,
    "start_time": "2022-05-26T12:17:01.900Z"
   },
   {
    "duration": 32,
    "start_time": "2022-05-26T12:17:01.938Z"
   },
   {
    "duration": 51,
    "start_time": "2022-05-26T12:17:01.972Z"
   },
   {
    "duration": 62,
    "start_time": "2022-05-26T12:17:02.024Z"
   },
   {
    "duration": 1132,
    "start_time": "2022-05-26T12:17:02.088Z"
   },
   {
    "duration": 10,
    "start_time": "2022-05-26T12:17:03.222Z"
   },
   {
    "duration": 32,
    "start_time": "2022-05-26T12:17:03.233Z"
   },
   {
    "duration": 27,
    "start_time": "2022-05-26T12:17:03.267Z"
   },
   {
    "duration": 21,
    "start_time": "2022-05-26T12:17:03.296Z"
   },
   {
    "duration": 28,
    "start_time": "2022-05-26T12:17:03.319Z"
   },
   {
    "duration": 32,
    "start_time": "2022-05-26T12:17:03.349Z"
   },
   {
    "duration": 15,
    "start_time": "2022-05-26T12:17:03.383Z"
   },
   {
    "duration": 25,
    "start_time": "2022-05-26T12:17:03.400Z"
   },
   {
    "duration": 23,
    "start_time": "2022-05-26T12:17:03.427Z"
   },
   {
    "duration": 162,
    "start_time": "2022-05-26T12:17:03.452Z"
   },
   {
    "duration": 31,
    "start_time": "2022-05-26T12:17:03.616Z"
   },
   {
    "duration": 55,
    "start_time": "2022-05-26T12:17:03.649Z"
   },
   {
    "duration": 32,
    "start_time": "2022-05-26T12:17:03.706Z"
   },
   {
    "duration": 24,
    "start_time": "2022-05-26T12:17:03.740Z"
   },
   {
    "duration": 5,
    "start_time": "2022-05-26T12:17:03.766Z"
   },
   {
    "duration": 26,
    "start_time": "2022-05-26T12:17:03.773Z"
   },
   {
    "duration": 7,
    "start_time": "2022-05-26T12:17:03.801Z"
   },
   {
    "duration": 34,
    "start_time": "2022-05-26T12:17:03.810Z"
   },
   {
    "duration": 17,
    "start_time": "2022-05-26T12:17:03.845Z"
   },
   {
    "duration": 35,
    "start_time": "2022-05-26T12:17:03.864Z"
   },
   {
    "duration": 18,
    "start_time": "2022-05-26T12:17:03.901Z"
   },
   {
    "duration": 134,
    "start_time": "2022-05-26T12:17:03.921Z"
   },
   {
    "duration": 17,
    "start_time": "2022-05-26T12:17:04.057Z"
   },
   {
    "duration": 50,
    "start_time": "2022-05-26T12:17:04.076Z"
   },
   {
    "duration": 8,
    "start_time": "2022-05-26T12:17:04.127Z"
   },
   {
    "duration": 25,
    "start_time": "2022-05-26T12:17:04.136Z"
   },
   {
    "duration": 17,
    "start_time": "2022-05-26T12:17:04.163Z"
   },
   {
    "duration": 434,
    "start_time": "2022-05-26T12:17:04.182Z"
   },
   {
    "duration": 453,
    "start_time": "2022-05-26T12:17:04.618Z"
   },
   {
    "duration": 384,
    "start_time": "2022-05-26T12:17:05.073Z"
   },
   {
    "duration": 395,
    "start_time": "2022-05-26T12:17:05.458Z"
   },
   {
    "duration": 394,
    "start_time": "2022-05-26T12:17:05.854Z"
   },
   {
    "duration": 49,
    "start_time": "2022-05-26T12:17:06.249Z"
   },
   {
    "duration": 23,
    "start_time": "2022-05-26T12:17:06.300Z"
   },
   {
    "duration": 3218,
    "start_time": "2022-05-26T12:17:06.325Z"
   },
   {
    "duration": 21,
    "start_time": "2022-05-26T12:17:09.545Z"
   },
   {
    "duration": 12,
    "start_time": "2022-05-26T12:17:09.567Z"
   },
   {
    "duration": 11,
    "start_time": "2022-05-26T12:17:09.580Z"
   },
   {
    "duration": 16,
    "start_time": "2022-05-26T12:17:09.593Z"
   },
   {
    "duration": 23,
    "start_time": "2022-05-26T12:22:41.234Z"
   },
   {
    "duration": 8,
    "start_time": "2022-05-26T12:23:02.695Z"
   },
   {
    "duration": 9,
    "start_time": "2022-05-26T12:24:20.338Z"
   },
   {
    "duration": 9,
    "start_time": "2022-05-26T12:24:41.426Z"
   },
   {
    "duration": 18,
    "start_time": "2022-05-26T12:25:09.531Z"
   },
   {
    "duration": 7,
    "start_time": "2022-05-26T12:25:15.658Z"
   },
   {
    "duration": 4,
    "start_time": "2022-05-26T12:25:24.816Z"
   },
   {
    "duration": 8,
    "start_time": "2022-05-26T12:25:24.822Z"
   },
   {
    "duration": 59,
    "start_time": "2022-05-26T12:25:24.832Z"
   },
   {
    "duration": 9,
    "start_time": "2022-05-26T12:25:24.893Z"
   },
   {
    "duration": 12,
    "start_time": "2022-05-26T12:25:24.904Z"
   },
   {
    "duration": 14,
    "start_time": "2022-05-26T12:25:24.918Z"
   },
   {
    "duration": 20,
    "start_time": "2022-05-26T12:25:24.934Z"
   },
   {
    "duration": 25,
    "start_time": "2022-05-26T12:25:24.955Z"
   },
   {
    "duration": 10,
    "start_time": "2022-05-26T12:25:24.983Z"
   },
   {
    "duration": 221,
    "start_time": "2022-05-26T12:25:24.995Z"
   },
   {
    "duration": 8,
    "start_time": "2022-05-26T12:25:25.218Z"
   },
   {
    "duration": 13,
    "start_time": "2022-05-26T12:25:25.228Z"
   },
   {
    "duration": 27,
    "start_time": "2022-05-26T12:25:25.243Z"
   },
   {
    "duration": 30,
    "start_time": "2022-05-26T12:25:25.272Z"
   },
   {
    "duration": 25,
    "start_time": "2022-05-26T12:25:25.304Z"
   },
   {
    "duration": 138,
    "start_time": "2022-05-26T12:25:25.331Z"
   },
   {
    "duration": 166,
    "start_time": "2022-05-26T12:25:25.471Z"
   },
   {
    "duration": 8,
    "start_time": "2022-05-26T12:25:25.639Z"
   },
   {
    "duration": 17,
    "start_time": "2022-05-26T12:25:25.649Z"
   },
   {
    "duration": 13,
    "start_time": "2022-05-26T12:25:25.668Z"
   },
   {
    "duration": 22,
    "start_time": "2022-05-26T12:25:25.683Z"
   },
   {
    "duration": 13,
    "start_time": "2022-05-26T12:25:25.707Z"
   },
   {
    "duration": 79,
    "start_time": "2022-05-26T12:25:25.721Z"
   },
   {
    "duration": 145,
    "start_time": "2022-05-26T12:25:25.804Z"
   },
   {
    "duration": 9,
    "start_time": "2022-05-26T12:25:25.951Z"
   },
   {
    "duration": 12,
    "start_time": "2022-05-26T12:25:25.969Z"
   },
   {
    "duration": 17,
    "start_time": "2022-05-26T12:25:25.983Z"
   },
   {
    "duration": 26,
    "start_time": "2022-05-26T12:25:26.002Z"
   },
   {
    "duration": 49,
    "start_time": "2022-05-26T12:25:26.030Z"
   },
   {
    "duration": 61,
    "start_time": "2022-05-26T12:25:26.081Z"
   },
   {
    "duration": 49,
    "start_time": "2022-05-26T12:25:26.144Z"
   },
   {
    "duration": 8,
    "start_time": "2022-05-26T12:25:26.195Z"
   },
   {
    "duration": 36,
    "start_time": "2022-05-26T12:25:26.205Z"
   },
   {
    "duration": 39,
    "start_time": "2022-05-26T12:25:26.243Z"
   },
   {
    "duration": 6,
    "start_time": "2022-05-26T12:25:26.284Z"
   },
   {
    "duration": 17,
    "start_time": "2022-05-26T12:25:26.291Z"
   },
   {
    "duration": 73,
    "start_time": "2022-05-26T12:25:26.310Z"
   },
   {
    "duration": 1183,
    "start_time": "2022-05-26T12:25:26.385Z"
   },
   {
    "duration": 12,
    "start_time": "2022-05-26T12:25:27.571Z"
   },
   {
    "duration": 19,
    "start_time": "2022-05-26T12:25:27.585Z"
   },
   {
    "duration": 18,
    "start_time": "2022-05-26T12:25:27.606Z"
   },
   {
    "duration": 5,
    "start_time": "2022-05-26T12:25:27.626Z"
   },
   {
    "duration": 34,
    "start_time": "2022-05-26T12:25:27.633Z"
   },
   {
    "duration": 29,
    "start_time": "2022-05-26T12:25:27.670Z"
   },
   {
    "duration": 9,
    "start_time": "2022-05-26T12:25:27.701Z"
   },
   {
    "duration": 14,
    "start_time": "2022-05-26T12:25:27.712Z"
   },
   {
    "duration": 8,
    "start_time": "2022-05-26T12:25:27.728Z"
   },
   {
    "duration": 50,
    "start_time": "2022-05-26T12:25:27.765Z"
   },
   {
    "duration": 51,
    "start_time": "2022-05-26T12:25:27.817Z"
   },
   {
    "duration": 37,
    "start_time": "2022-05-26T12:25:27.870Z"
   },
   {
    "duration": 187,
    "start_time": "2022-05-26T12:25:27.909Z"
   },
   {
    "duration": 14,
    "start_time": "2022-05-26T12:25:28.098Z"
   },
   {
    "duration": 5,
    "start_time": "2022-05-26T12:25:28.114Z"
   },
   {
    "duration": 15,
    "start_time": "2022-05-26T12:25:28.121Z"
   },
   {
    "duration": 28,
    "start_time": "2022-05-26T12:25:28.138Z"
   },
   {
    "duration": 14,
    "start_time": "2022-05-26T12:25:28.168Z"
   },
   {
    "duration": 6,
    "start_time": "2022-05-26T12:25:28.184Z"
   },
   {
    "duration": 8,
    "start_time": "2022-05-26T12:25:28.191Z"
   },
   {
    "duration": 10,
    "start_time": "2022-05-26T12:25:28.201Z"
   },
   {
    "duration": 6,
    "start_time": "2022-05-26T12:25:28.213Z"
   },
   {
    "duration": 140,
    "start_time": "2022-05-26T12:25:28.221Z"
   },
   {
    "duration": 25,
    "start_time": "2022-05-26T12:25:28.365Z"
   },
   {
    "duration": 22,
    "start_time": "2022-05-26T12:25:28.392Z"
   },
   {
    "duration": 4,
    "start_time": "2022-05-26T12:25:28.416Z"
   },
   {
    "duration": 8,
    "start_time": "2022-05-26T12:25:28.422Z"
   },
   {
    "duration": 32,
    "start_time": "2022-05-26T12:25:28.432Z"
   },
   {
    "duration": 398,
    "start_time": "2022-05-26T12:25:28.466Z"
   },
   {
    "duration": 454,
    "start_time": "2022-05-26T12:25:28.867Z"
   },
   {
    "duration": 442,
    "start_time": "2022-05-26T12:25:29.326Z"
   },
   {
    "duration": 421,
    "start_time": "2022-05-26T12:25:29.770Z"
   },
   {
    "duration": 395,
    "start_time": "2022-05-26T12:25:30.193Z"
   },
   {
    "duration": 47,
    "start_time": "2022-05-26T12:25:30.591Z"
   },
   {
    "duration": 50,
    "start_time": "2022-05-26T12:25:30.639Z"
   },
   {
    "duration": 2380,
    "start_time": "2022-05-26T12:25:30.691Z"
   },
   {
    "duration": 14,
    "start_time": "2022-05-26T12:25:33.074Z"
   },
   {
    "duration": 35,
    "start_time": "2022-05-26T12:25:33.090Z"
   },
   {
    "duration": 5,
    "start_time": "2022-05-26T12:25:33.128Z"
   },
   {
    "duration": 7,
    "start_time": "2022-05-26T12:25:33.135Z"
   },
   {
    "duration": 28,
    "start_time": "2022-05-26T12:26:19.501Z"
   },
   {
    "duration": 9,
    "start_time": "2022-05-26T12:26:26.412Z"
   },
   {
    "duration": 10,
    "start_time": "2022-05-26T12:26:33.778Z"
   },
   {
    "duration": 3,
    "start_time": "2022-05-26T12:26:36.903Z"
   },
   {
    "duration": 13,
    "start_time": "2022-05-26T12:26:36.909Z"
   },
   {
    "duration": 194,
    "start_time": "2022-05-26T12:26:36.923Z"
   },
   {
    "duration": 12,
    "start_time": "2022-05-26T12:26:37.120Z"
   },
   {
    "duration": 44,
    "start_time": "2022-05-26T12:26:37.134Z"
   },
   {
    "duration": 27,
    "start_time": "2022-05-26T12:26:37.181Z"
   },
   {
    "duration": 34,
    "start_time": "2022-05-26T12:26:37.209Z"
   },
   {
    "duration": 31,
    "start_time": "2022-05-26T12:26:37.244Z"
   },
   {
    "duration": 28,
    "start_time": "2022-05-26T12:26:37.279Z"
   },
   {
    "duration": 207,
    "start_time": "2022-05-26T12:26:37.310Z"
   },
   {
    "duration": 9,
    "start_time": "2022-05-26T12:26:37.519Z"
   },
   {
    "duration": 24,
    "start_time": "2022-05-26T12:26:37.531Z"
   },
   {
    "duration": 41,
    "start_time": "2022-05-26T12:26:37.557Z"
   },
   {
    "duration": 33,
    "start_time": "2022-05-26T12:26:37.600Z"
   },
   {
    "duration": 31,
    "start_time": "2022-05-26T12:26:37.635Z"
   },
   {
    "duration": 121,
    "start_time": "2022-05-26T12:26:37.669Z"
   },
   {
    "duration": 116,
    "start_time": "2022-05-26T12:26:37.791Z"
   },
   {
    "duration": 9,
    "start_time": "2022-05-26T12:26:37.909Z"
   },
   {
    "duration": 23,
    "start_time": "2022-05-26T12:26:37.920Z"
   },
   {
    "duration": 36,
    "start_time": "2022-05-26T12:26:37.945Z"
   },
   {
    "duration": 39,
    "start_time": "2022-05-26T12:26:37.982Z"
   },
   {
    "duration": 21,
    "start_time": "2022-05-26T12:26:38.023Z"
   },
   {
    "duration": 75,
    "start_time": "2022-05-26T12:26:38.046Z"
   },
   {
    "duration": 178,
    "start_time": "2022-05-26T12:26:38.126Z"
   },
   {
    "duration": 10,
    "start_time": "2022-05-26T12:26:38.306Z"
   },
   {
    "duration": 37,
    "start_time": "2022-05-26T12:26:38.318Z"
   },
   {
    "duration": 36,
    "start_time": "2022-05-26T12:26:38.357Z"
   },
   {
    "duration": 55,
    "start_time": "2022-05-26T12:26:38.395Z"
   },
   {
    "duration": 36,
    "start_time": "2022-05-26T12:26:38.451Z"
   },
   {
    "duration": 77,
    "start_time": "2022-05-26T12:26:38.489Z"
   },
   {
    "duration": 36,
    "start_time": "2022-05-26T12:26:38.568Z"
   },
   {
    "duration": 20,
    "start_time": "2022-05-26T12:26:38.606Z"
   },
   {
    "duration": 32,
    "start_time": "2022-05-26T12:26:38.628Z"
   },
   {
    "duration": 73,
    "start_time": "2022-05-26T12:26:38.662Z"
   },
   {
    "duration": 27,
    "start_time": "2022-05-26T12:26:38.737Z"
   },
   {
    "duration": 47,
    "start_time": "2022-05-26T12:26:38.766Z"
   },
   {
    "duration": 124,
    "start_time": "2022-05-26T12:26:38.815Z"
   },
   {
    "duration": 1272,
    "start_time": "2022-05-26T12:26:38.942Z"
   },
   {
    "duration": 10,
    "start_time": "2022-05-26T12:26:40.216Z"
   },
   {
    "duration": 24,
    "start_time": "2022-05-26T12:26:40.227Z"
   },
   {
    "duration": 45,
    "start_time": "2022-05-26T12:26:40.253Z"
   },
   {
    "duration": 7,
    "start_time": "2022-05-26T12:26:40.300Z"
   },
   {
    "duration": 40,
    "start_time": "2022-05-26T12:26:40.309Z"
   },
   {
    "duration": 44,
    "start_time": "2022-05-26T12:26:40.351Z"
   },
   {
    "duration": 9,
    "start_time": "2022-05-26T12:26:40.397Z"
   },
   {
    "duration": 35,
    "start_time": "2022-05-26T12:26:40.408Z"
   },
   {
    "duration": 27,
    "start_time": "2022-05-26T12:26:40.446Z"
   },
   {
    "duration": 64,
    "start_time": "2022-05-26T12:26:40.476Z"
   },
   {
    "duration": 43,
    "start_time": "2022-05-26T12:26:40.542Z"
   },
   {
    "duration": 41,
    "start_time": "2022-05-26T12:26:40.587Z"
   },
   {
    "duration": 210,
    "start_time": "2022-05-26T12:26:40.630Z"
   },
   {
    "duration": 23,
    "start_time": "2022-05-26T12:26:40.842Z"
   },
   {
    "duration": 27,
    "start_time": "2022-05-26T12:26:40.876Z"
   },
   {
    "duration": 43,
    "start_time": "2022-05-26T12:26:40.905Z"
   },
   {
    "duration": 19,
    "start_time": "2022-05-26T12:26:40.951Z"
   },
   {
    "duration": 40,
    "start_time": "2022-05-26T12:26:40.972Z"
   },
   {
    "duration": 26,
    "start_time": "2022-05-26T12:26:41.014Z"
   },
   {
    "duration": 46,
    "start_time": "2022-05-26T12:26:41.042Z"
   },
   {
    "duration": 26,
    "start_time": "2022-05-26T12:26:41.090Z"
   },
   {
    "duration": 22,
    "start_time": "2022-05-26T12:26:41.118Z"
   },
   {
    "duration": 153,
    "start_time": "2022-05-26T12:26:41.143Z"
   },
   {
    "duration": 16,
    "start_time": "2022-05-26T12:26:41.298Z"
   },
   {
    "duration": 38,
    "start_time": "2022-05-26T12:26:41.315Z"
   },
   {
    "duration": 11,
    "start_time": "2022-05-26T12:26:41.355Z"
   },
   {
    "duration": 19,
    "start_time": "2022-05-26T12:26:41.368Z"
   },
   {
    "duration": 24,
    "start_time": "2022-05-26T12:26:41.389Z"
   },
   {
    "duration": 453,
    "start_time": "2022-05-26T12:26:41.415Z"
   },
   {
    "duration": 439,
    "start_time": "2022-05-26T12:26:41.870Z"
   },
   {
    "duration": 480,
    "start_time": "2022-05-26T12:26:42.314Z"
   },
   {
    "duration": 479,
    "start_time": "2022-05-26T12:26:42.796Z"
   },
   {
    "duration": 425,
    "start_time": "2022-05-26T12:26:43.278Z"
   },
   {
    "duration": 61,
    "start_time": "2022-05-26T12:26:43.706Z"
   },
   {
    "duration": 29,
    "start_time": "2022-05-26T12:26:43.769Z"
   },
   {
    "duration": 2514,
    "start_time": "2022-05-26T12:26:43.800Z"
   },
   {
    "duration": 14,
    "start_time": "2022-05-26T12:26:46.317Z"
   },
   {
    "duration": 38,
    "start_time": "2022-05-26T12:26:46.333Z"
   },
   {
    "duration": 10,
    "start_time": "2022-05-26T12:26:46.373Z"
   },
   {
    "duration": 13,
    "start_time": "2022-05-26T12:26:46.385Z"
   },
   {
    "duration": 13,
    "start_time": "2022-05-26T12:29:15.200Z"
   },
   {
    "duration": 12,
    "start_time": "2022-05-26T12:29:40.892Z"
   },
   {
    "duration": 32,
    "start_time": "2022-05-26T12:32:10.526Z"
   },
   {
    "duration": 15,
    "start_time": "2022-05-26T12:55:12.202Z"
   },
   {
    "duration": 6,
    "start_time": "2022-05-26T13:10:21.035Z"
   },
   {
    "duration": 17,
    "start_time": "2022-05-26T13:10:29.634Z"
   },
   {
    "duration": 7,
    "start_time": "2022-05-26T13:18:23.907Z"
   },
   {
    "duration": 12,
    "start_time": "2022-05-26T13:18:30.870Z"
   },
   {
    "duration": 8,
    "start_time": "2022-05-26T13:25:32.048Z"
   },
   {
    "duration": 4,
    "start_time": "2022-05-26T13:25:36.431Z"
   },
   {
    "duration": 9,
    "start_time": "2022-05-26T13:25:36.437Z"
   },
   {
    "duration": 76,
    "start_time": "2022-05-26T13:25:36.448Z"
   },
   {
    "duration": 13,
    "start_time": "2022-05-26T13:25:36.526Z"
   },
   {
    "duration": 15,
    "start_time": "2022-05-26T13:25:36.541Z"
   },
   {
    "duration": 23,
    "start_time": "2022-05-26T13:25:36.558Z"
   },
   {
    "duration": 18,
    "start_time": "2022-05-26T13:25:36.584Z"
   },
   {
    "duration": 20,
    "start_time": "2022-05-26T13:25:36.604Z"
   },
   {
    "duration": 10,
    "start_time": "2022-05-26T13:25:36.626Z"
   },
   {
    "duration": 214,
    "start_time": "2022-05-26T13:25:36.637Z"
   },
   {
    "duration": 12,
    "start_time": "2022-05-26T13:25:36.855Z"
   },
   {
    "duration": 29,
    "start_time": "2022-05-26T13:25:36.870Z"
   },
   {
    "duration": 16,
    "start_time": "2022-05-26T13:25:36.901Z"
   },
   {
    "duration": 26,
    "start_time": "2022-05-26T13:25:36.919Z"
   },
   {
    "duration": 51,
    "start_time": "2022-05-26T13:25:36.947Z"
   },
   {
    "duration": 127,
    "start_time": "2022-05-26T13:25:37.000Z"
   },
   {
    "duration": 122,
    "start_time": "2022-05-26T13:25:37.128Z"
   },
   {
    "duration": 8,
    "start_time": "2022-05-26T13:25:37.252Z"
   },
   {
    "duration": 22,
    "start_time": "2022-05-26T13:25:37.264Z"
   },
   {
    "duration": 13,
    "start_time": "2022-05-26T13:25:37.288Z"
   },
   {
    "duration": 27,
    "start_time": "2022-05-26T13:25:37.303Z"
   },
   {
    "duration": 14,
    "start_time": "2022-05-26T13:25:37.332Z"
   },
   {
    "duration": 77,
    "start_time": "2022-05-26T13:25:37.347Z"
   },
   {
    "duration": 168,
    "start_time": "2022-05-26T13:25:37.426Z"
   },
   {
    "duration": 14,
    "start_time": "2022-05-26T13:25:37.596Z"
   },
   {
    "duration": 14,
    "start_time": "2022-05-26T13:25:37.612Z"
   },
   {
    "duration": 20,
    "start_time": "2022-05-26T13:25:37.629Z"
   },
   {
    "duration": 44,
    "start_time": "2022-05-26T13:25:37.650Z"
   },
   {
    "duration": 29,
    "start_time": "2022-05-26T13:25:37.699Z"
   },
   {
    "duration": 103,
    "start_time": "2022-05-26T13:25:37.730Z"
   },
   {
    "duration": 49,
    "start_time": "2022-05-26T13:25:37.834Z"
   },
   {
    "duration": 10,
    "start_time": "2022-05-26T13:25:37.885Z"
   },
   {
    "duration": 22,
    "start_time": "2022-05-26T13:25:37.897Z"
   },
   {
    "duration": 34,
    "start_time": "2022-05-26T13:25:37.921Z"
   },
   {
    "duration": 6,
    "start_time": "2022-05-26T13:25:37.956Z"
   },
   {
    "duration": 33,
    "start_time": "2022-05-26T13:25:37.963Z"
   },
   {
    "duration": 63,
    "start_time": "2022-05-26T13:25:37.998Z"
   },
   {
    "duration": 1377,
    "start_time": "2022-05-26T13:25:38.063Z"
   },
   {
    "duration": 10,
    "start_time": "2022-05-26T13:25:39.442Z"
   },
   {
    "duration": 40,
    "start_time": "2022-05-26T13:25:39.454Z"
   },
   {
    "duration": 32,
    "start_time": "2022-05-26T13:25:39.496Z"
   },
   {
    "duration": 7,
    "start_time": "2022-05-26T13:25:39.531Z"
   },
   {
    "duration": 52,
    "start_time": "2022-05-26T13:25:39.540Z"
   },
   {
    "duration": 36,
    "start_time": "2022-05-26T13:25:39.594Z"
   },
   {
    "duration": 10,
    "start_time": "2022-05-26T13:25:39.632Z"
   },
   {
    "duration": 18,
    "start_time": "2022-05-26T13:25:39.644Z"
   },
   {
    "duration": 25,
    "start_time": "2022-05-26T13:25:39.664Z"
   },
   {
    "duration": 67,
    "start_time": "2022-05-26T13:25:39.691Z"
   },
   {
    "duration": 39,
    "start_time": "2022-05-26T13:25:39.760Z"
   },
   {
    "duration": 37,
    "start_time": "2022-05-26T13:25:39.801Z"
   },
   {
    "duration": 258,
    "start_time": "2022-05-26T13:25:39.840Z"
   },
   {
    "duration": 17,
    "start_time": "2022-05-26T13:25:40.100Z"
   },
   {
    "duration": 7,
    "start_time": "2022-05-26T13:25:40.119Z"
   },
   {
    "duration": 37,
    "start_time": "2022-05-26T13:25:40.128Z"
   },
   {
    "duration": 10,
    "start_time": "2022-05-26T13:25:40.169Z"
   },
   {
    "duration": 19,
    "start_time": "2022-05-26T13:25:40.181Z"
   },
   {
    "duration": 19,
    "start_time": "2022-05-26T13:25:40.203Z"
   },
   {
    "duration": 15,
    "start_time": "2022-05-26T13:25:40.224Z"
   },
   {
    "duration": 9,
    "start_time": "2022-05-26T13:25:40.264Z"
   },
   {
    "duration": 23,
    "start_time": "2022-05-26T13:25:40.275Z"
   },
   {
    "duration": 7,
    "start_time": "2022-05-26T13:25:40.300Z"
   },
   {
    "duration": 141,
    "start_time": "2022-05-26T13:25:40.308Z"
   },
   {
    "duration": 0,
    "start_time": "2022-05-26T13:25:40.450Z"
   },
   {
    "duration": 0,
    "start_time": "2022-05-26T13:25:40.452Z"
   },
   {
    "duration": 0,
    "start_time": "2022-05-26T13:25:40.453Z"
   },
   {
    "duration": 0,
    "start_time": "2022-05-26T13:25:40.454Z"
   },
   {
    "duration": 0,
    "start_time": "2022-05-26T13:25:40.465Z"
   },
   {
    "duration": 0,
    "start_time": "2022-05-26T13:25:40.467Z"
   },
   {
    "duration": 0,
    "start_time": "2022-05-26T13:25:40.468Z"
   },
   {
    "duration": 0,
    "start_time": "2022-05-26T13:25:40.470Z"
   },
   {
    "duration": 0,
    "start_time": "2022-05-26T13:25:40.472Z"
   },
   {
    "duration": 0,
    "start_time": "2022-05-26T13:25:40.473Z"
   },
   {
    "duration": 0,
    "start_time": "2022-05-26T13:25:40.478Z"
   },
   {
    "duration": 0,
    "start_time": "2022-05-26T13:25:40.479Z"
   },
   {
    "duration": 0,
    "start_time": "2022-05-26T13:25:40.480Z"
   },
   {
    "duration": 0,
    "start_time": "2022-05-26T13:25:40.481Z"
   },
   {
    "duration": 0,
    "start_time": "2022-05-26T13:25:40.483Z"
   },
   {
    "duration": 0,
    "start_time": "2022-05-26T13:25:40.484Z"
   },
   {
    "duration": 0,
    "start_time": "2022-05-26T13:25:40.486Z"
   },
   {
    "duration": 0,
    "start_time": "2022-05-26T13:25:40.488Z"
   },
   {
    "duration": 7,
    "start_time": "2022-05-26T16:19:33.133Z"
   },
   {
    "duration": 26,
    "start_time": "2022-05-26T16:19:37.821Z"
   },
   {
    "duration": 7,
    "start_time": "2022-05-26T16:20:35.046Z"
   },
   {
    "duration": 21,
    "start_time": "2022-05-26T16:20:37.693Z"
   },
   {
    "duration": 8,
    "start_time": "2022-05-26T16:21:10.006Z"
   },
   {
    "duration": 188,
    "start_time": "2022-05-26T16:21:13.927Z"
   },
   {
    "duration": 20,
    "start_time": "2022-05-26T16:24:20.568Z"
   },
   {
    "duration": 21,
    "start_time": "2022-05-26T16:24:24.889Z"
   },
   {
    "duration": 4,
    "start_time": "2022-05-26T16:26:32.987Z"
   },
   {
    "duration": 9,
    "start_time": "2022-05-26T16:26:32.994Z"
   },
   {
    "duration": 69,
    "start_time": "2022-05-26T16:26:33.006Z"
   },
   {
    "duration": 11,
    "start_time": "2022-05-26T16:26:33.077Z"
   },
   {
    "duration": 14,
    "start_time": "2022-05-26T16:26:33.091Z"
   },
   {
    "duration": 12,
    "start_time": "2022-05-26T16:26:33.106Z"
   },
   {
    "duration": 45,
    "start_time": "2022-05-26T16:26:33.120Z"
   },
   {
    "duration": 20,
    "start_time": "2022-05-26T16:26:33.168Z"
   },
   {
    "duration": 9,
    "start_time": "2022-05-26T16:26:33.190Z"
   },
   {
    "duration": 203,
    "start_time": "2022-05-26T16:26:33.202Z"
   },
   {
    "duration": 10,
    "start_time": "2022-05-26T16:26:33.407Z"
   },
   {
    "duration": 11,
    "start_time": "2022-05-26T16:26:33.418Z"
   },
   {
    "duration": 35,
    "start_time": "2022-05-26T16:26:33.431Z"
   },
   {
    "duration": 41,
    "start_time": "2022-05-26T16:26:33.468Z"
   },
   {
    "duration": 29,
    "start_time": "2022-05-26T16:26:33.511Z"
   },
   {
    "duration": 128,
    "start_time": "2022-05-26T16:26:33.565Z"
   },
   {
    "duration": 112,
    "start_time": "2022-05-26T16:26:33.695Z"
   },
   {
    "duration": 9,
    "start_time": "2022-05-26T16:26:33.809Z"
   },
   {
    "duration": 13,
    "start_time": "2022-05-26T16:26:33.820Z"
   },
   {
    "duration": 36,
    "start_time": "2022-05-26T16:26:33.835Z"
   },
   {
    "duration": 41,
    "start_time": "2022-05-26T16:26:33.874Z"
   },
   {
    "duration": 26,
    "start_time": "2022-05-26T16:26:33.917Z"
   },
   {
    "duration": 61,
    "start_time": "2022-05-26T16:26:33.945Z"
   },
   {
    "duration": 146,
    "start_time": "2022-05-26T16:26:34.007Z"
   },
   {
    "duration": 15,
    "start_time": "2022-05-26T16:26:34.157Z"
   },
   {
    "duration": 14,
    "start_time": "2022-05-26T16:26:34.174Z"
   },
   {
    "duration": 18,
    "start_time": "2022-05-26T16:26:34.190Z"
   },
   {
    "duration": 57,
    "start_time": "2022-05-26T16:26:34.210Z"
   },
   {
    "duration": 31,
    "start_time": "2022-05-26T16:26:34.270Z"
   },
   {
    "duration": 83,
    "start_time": "2022-05-26T16:26:34.303Z"
   },
   {
    "duration": 37,
    "start_time": "2022-05-26T16:26:34.388Z"
   },
   {
    "duration": 9,
    "start_time": "2022-05-26T16:26:34.427Z"
   },
   {
    "duration": 16,
    "start_time": "2022-05-26T16:26:34.438Z"
   },
   {
    "duration": 45,
    "start_time": "2022-05-26T16:26:34.457Z"
   },
   {
    "duration": 8,
    "start_time": "2022-05-26T16:26:34.504Z"
   },
   {
    "duration": 16,
    "start_time": "2022-05-26T16:26:34.514Z"
   },
   {
    "duration": 84,
    "start_time": "2022-05-26T16:26:34.532Z"
   },
   {
    "duration": 1128,
    "start_time": "2022-05-26T16:26:34.618Z"
   },
   {
    "duration": 17,
    "start_time": "2022-05-26T16:26:35.748Z"
   },
   {
    "duration": 18,
    "start_time": "2022-05-26T16:26:35.768Z"
   },
   {
    "duration": 21,
    "start_time": "2022-05-26T16:26:35.788Z"
   },
   {
    "duration": 7,
    "start_time": "2022-05-26T16:26:35.811Z"
   },
   {
    "duration": 15,
    "start_time": "2022-05-26T16:26:35.820Z"
   },
   {
    "duration": 26,
    "start_time": "2022-05-26T16:26:35.866Z"
   },
   {
    "duration": 11,
    "start_time": "2022-05-26T16:26:35.894Z"
   },
   {
    "duration": 22,
    "start_time": "2022-05-26T16:26:35.907Z"
   },
   {
    "duration": 8,
    "start_time": "2022-05-26T16:26:35.931Z"
   },
   {
    "duration": 59,
    "start_time": "2022-05-26T16:26:35.966Z"
   },
   {
    "duration": 54,
    "start_time": "2022-05-26T16:26:36.027Z"
   },
   {
    "duration": 57,
    "start_time": "2022-05-26T16:26:36.083Z"
   },
   {
    "duration": 64,
    "start_time": "2022-05-26T16:26:36.143Z"
   },
   {
    "duration": 14,
    "start_time": "2022-05-26T16:26:36.209Z"
   },
   {
    "duration": 5,
    "start_time": "2022-05-26T16:26:36.226Z"
   },
   {
    "duration": 46,
    "start_time": "2022-05-26T16:26:36.233Z"
   },
   {
    "duration": 10,
    "start_time": "2022-05-26T16:26:36.282Z"
   },
   {
    "duration": 11,
    "start_time": "2022-05-26T16:26:36.294Z"
   },
   {
    "duration": 18,
    "start_time": "2022-05-26T16:26:36.308Z"
   },
   {
    "duration": 39,
    "start_time": "2022-05-26T16:26:36.328Z"
   },
   {
    "duration": 6,
    "start_time": "2022-05-26T16:26:36.370Z"
   },
   {
    "duration": 13,
    "start_time": "2022-05-26T16:26:36.378Z"
   },
   {
    "duration": 8,
    "start_time": "2022-05-26T16:26:36.393Z"
   },
   {
    "duration": 215,
    "start_time": "2022-05-26T16:26:36.403Z"
   },
   {
    "duration": 18,
    "start_time": "2022-05-26T16:26:36.620Z"
   },
   {
    "duration": 37,
    "start_time": "2022-05-26T16:26:36.640Z"
   },
   {
    "duration": 5,
    "start_time": "2022-05-26T16:26:36.679Z"
   },
   {
    "duration": 8,
    "start_time": "2022-05-26T16:26:36.686Z"
   },
   {
    "duration": 8,
    "start_time": "2022-05-26T16:26:36.696Z"
   },
   {
    "duration": 473,
    "start_time": "2022-05-26T16:26:36.706Z"
   },
   {
    "duration": 433,
    "start_time": "2022-05-26T16:26:37.181Z"
   },
   {
    "duration": 449,
    "start_time": "2022-05-26T16:26:37.619Z"
   },
   {
    "duration": 422,
    "start_time": "2022-05-26T16:26:38.070Z"
   },
   {
    "duration": 467,
    "start_time": "2022-05-26T16:26:38.494Z"
   },
   {
    "duration": 57,
    "start_time": "2022-05-26T16:26:38.965Z"
   },
   {
    "duration": 56,
    "start_time": "2022-05-26T16:26:39.024Z"
   },
   {
    "duration": 2367,
    "start_time": "2022-05-26T16:26:39.082Z"
   },
   {
    "duration": 19,
    "start_time": "2022-05-26T16:26:41.451Z"
   },
   {
    "duration": 11,
    "start_time": "2022-05-26T16:26:41.472Z"
   },
   {
    "duration": 6,
    "start_time": "2022-05-26T16:26:41.485Z"
   },
   {
    "duration": 6,
    "start_time": "2022-05-26T16:26:41.493Z"
   },
   {
    "duration": 11,
    "start_time": "2022-05-26T16:29:02.107Z"
   },
   {
    "duration": 26,
    "start_time": "2022-05-26T16:31:26.264Z"
   },
   {
    "duration": 17,
    "start_time": "2022-05-26T16:32:47.418Z"
   },
   {
    "duration": 37,
    "start_time": "2022-05-26T16:33:00.624Z"
   },
   {
    "duration": 21,
    "start_time": "2022-05-26T16:34:34.713Z"
   },
   {
    "duration": 35,
    "start_time": "2022-05-26T16:34:41.080Z"
   },
   {
    "duration": 19,
    "start_time": "2022-05-26T16:39:49.729Z"
   },
   {
    "duration": 13,
    "start_time": "2022-05-26T16:41:41.616Z"
   },
   {
    "duration": 20,
    "start_time": "2022-05-26T16:41:47.362Z"
   },
   {
    "duration": 34,
    "start_time": "2022-05-26T16:45:27.085Z"
   },
   {
    "duration": 38,
    "start_time": "2022-05-26T16:46:19.244Z"
   },
   {
    "duration": 443,
    "start_time": "2022-05-26T16:46:43.540Z"
   },
   {
    "duration": 6,
    "start_time": "2022-05-26T16:54:23.282Z"
   },
   {
    "duration": 34,
    "start_time": "2022-05-26T17:03:30.286Z"
   },
   {
    "duration": 58,
    "start_time": "2022-05-26T17:04:26.039Z"
   },
   {
    "duration": 73,
    "start_time": "2022-05-26T17:04:37.862Z"
   },
   {
    "duration": 41,
    "start_time": "2022-05-26T17:04:42.805Z"
   },
   {
    "duration": 31,
    "start_time": "2022-05-26T17:04:50.886Z"
   },
   {
    "duration": 75,
    "start_time": "2022-05-26T17:05:04.942Z"
   },
   {
    "duration": 33,
    "start_time": "2022-05-26T17:05:17.303Z"
   },
   {
    "duration": 62,
    "start_time": "2022-05-26T17:06:25.154Z"
   },
   {
    "duration": 46,
    "start_time": "2022-05-26T17:06:49.606Z"
   },
   {
    "duration": 40,
    "start_time": "2022-05-26T17:07:15.710Z"
   },
   {
    "duration": 45,
    "start_time": "2022-05-26T17:07:31.091Z"
   },
   {
    "duration": 27,
    "start_time": "2022-05-26T17:12:21.652Z"
   },
   {
    "duration": 33,
    "start_time": "2022-05-26T17:12:26.814Z"
   },
   {
    "duration": 35,
    "start_time": "2022-05-26T17:13:17.215Z"
   },
   {
    "duration": 31,
    "start_time": "2022-05-26T17:14:19.969Z"
   },
   {
    "duration": 3666,
    "start_time": "2022-05-26T17:14:38.375Z"
   },
   {
    "duration": 68,
    "start_time": "2022-05-26T17:20:03.822Z"
   },
   {
    "duration": 40,
    "start_time": "2022-05-26T17:20:21.861Z"
   },
   {
    "duration": 49,
    "start_time": "2022-05-26T17:20:28.757Z"
   },
   {
    "duration": 32,
    "start_time": "2022-05-26T17:21:30.816Z"
   },
   {
    "duration": 2767,
    "start_time": "2022-05-26T17:21:34.856Z"
   },
   {
    "duration": 30,
    "start_time": "2022-05-26T17:23:01.617Z"
   },
   {
    "duration": 3214,
    "start_time": "2022-05-26T17:23:06.520Z"
   },
   {
    "duration": 35,
    "start_time": "2022-05-26T17:24:38.683Z"
   },
   {
    "duration": 2540,
    "start_time": "2022-05-26T17:24:42.556Z"
   },
   {
    "duration": 42,
    "start_time": "2022-05-26T17:25:58.027Z"
   },
   {
    "duration": 3242,
    "start_time": "2022-05-26T17:26:09.931Z"
   },
   {
    "duration": 2665,
    "start_time": "2022-05-26T17:26:56.557Z"
   },
   {
    "duration": 1926,
    "start_time": "2022-05-26T17:27:12.656Z"
   },
   {
    "duration": 1690,
    "start_time": "2022-05-26T17:27:20.004Z"
   },
   {
    "duration": 467,
    "start_time": "2022-05-26T17:27:31.450Z"
   },
   {
    "duration": 406,
    "start_time": "2022-05-26T17:27:41.397Z"
   },
   {
    "duration": 204,
    "start_time": "2022-05-26T17:27:44.222Z"
   },
   {
    "duration": 3467,
    "start_time": "2022-05-26T17:27:47.228Z"
   },
   {
    "duration": 3357,
    "start_time": "2022-05-26T17:28:05.447Z"
   },
   {
    "duration": 55,
    "start_time": "2022-05-26T17:30:28.569Z"
   },
   {
    "duration": 70,
    "start_time": "2022-05-26T17:32:48.930Z"
   },
   {
    "duration": 51,
    "start_time": "2022-05-26T17:33:56.672Z"
   },
   {
    "duration": 685,
    "start_time": "2022-05-26T17:34:07.306Z"
   },
   {
    "duration": 49,
    "start_time": "2022-05-26T17:34:30.002Z"
   },
   {
    "duration": 56,
    "start_time": "2022-05-26T17:34:38.634Z"
   },
   {
    "duration": 47,
    "start_time": "2022-05-26T17:34:44.299Z"
   },
   {
    "duration": 51,
    "start_time": "2022-05-26T17:35:05.880Z"
   },
   {
    "duration": 75,
    "start_time": "2022-05-26T17:35:14.140Z"
   },
   {
    "duration": 1073,
    "start_time": "2022-05-26T17:35:18.366Z"
   },
   {
    "duration": 27,
    "start_time": "2022-05-26T17:35:49.828Z"
   },
   {
    "duration": 38,
    "start_time": "2022-05-26T17:35:57.979Z"
   },
   {
    "duration": 925,
    "start_time": "2022-05-26T17:36:00.524Z"
   },
   {
    "duration": 3,
    "start_time": "2022-05-26T17:36:16.544Z"
   },
   {
    "duration": 4,
    "start_time": "2022-05-26T17:36:16.588Z"
   },
   {
    "duration": 64,
    "start_time": "2022-05-26T17:36:16.594Z"
   },
   {
    "duration": 16,
    "start_time": "2022-05-26T17:36:16.660Z"
   },
   {
    "duration": 27,
    "start_time": "2022-05-26T17:36:16.684Z"
   },
   {
    "duration": 21,
    "start_time": "2022-05-26T17:36:16.714Z"
   },
   {
    "duration": 17,
    "start_time": "2022-05-26T17:36:16.737Z"
   },
   {
    "duration": 20,
    "start_time": "2022-05-26T17:36:16.764Z"
   },
   {
    "duration": 10,
    "start_time": "2022-05-26T17:36:16.788Z"
   },
   {
    "duration": 209,
    "start_time": "2022-05-26T17:36:16.800Z"
   },
   {
    "duration": 12,
    "start_time": "2022-05-26T17:36:17.011Z"
   },
   {
    "duration": 21,
    "start_time": "2022-05-26T17:36:17.025Z"
   },
   {
    "duration": 36,
    "start_time": "2022-05-26T17:36:17.048Z"
   },
   {
    "duration": 48,
    "start_time": "2022-05-26T17:36:17.086Z"
   },
   {
    "duration": 38,
    "start_time": "2022-05-26T17:36:17.138Z"
   },
   {
    "duration": 161,
    "start_time": "2022-05-26T17:36:17.178Z"
   },
   {
    "duration": 122,
    "start_time": "2022-05-26T17:36:17.341Z"
   },
   {
    "duration": 13,
    "start_time": "2022-05-26T17:36:17.467Z"
   },
   {
    "duration": 25,
    "start_time": "2022-05-26T17:36:17.487Z"
   },
   {
    "duration": 11,
    "start_time": "2022-05-26T17:36:17.514Z"
   },
   {
    "duration": 20,
    "start_time": "2022-05-26T17:36:17.527Z"
   },
   {
    "duration": 36,
    "start_time": "2022-05-26T17:36:17.549Z"
   },
   {
    "duration": 53,
    "start_time": "2022-05-26T17:36:17.587Z"
   },
   {
    "duration": 181,
    "start_time": "2022-05-26T17:36:17.642Z"
   },
   {
    "duration": 9,
    "start_time": "2022-05-26T17:36:17.825Z"
   },
   {
    "duration": 11,
    "start_time": "2022-05-26T17:36:17.836Z"
   },
   {
    "duration": 42,
    "start_time": "2022-05-26T17:36:17.848Z"
   },
   {
    "duration": 27,
    "start_time": "2022-05-26T17:36:17.892Z"
   },
   {
    "duration": 31,
    "start_time": "2022-05-26T17:36:17.921Z"
   },
   {
    "duration": 85,
    "start_time": "2022-05-26T17:36:17.954Z"
   },
   {
    "duration": 27,
    "start_time": "2022-05-26T17:36:18.042Z"
   },
   {
    "duration": 12,
    "start_time": "2022-05-26T17:36:18.071Z"
   },
   {
    "duration": 23,
    "start_time": "2022-05-26T17:36:18.086Z"
   },
   {
    "duration": 32,
    "start_time": "2022-05-26T17:36:18.110Z"
   },
   {
    "duration": 21,
    "start_time": "2022-05-26T17:36:18.144Z"
   },
   {
    "duration": 28,
    "start_time": "2022-05-26T17:36:18.167Z"
   },
   {
    "duration": 50,
    "start_time": "2022-05-26T17:36:18.197Z"
   },
   {
    "duration": 1191,
    "start_time": "2022-05-26T17:36:18.249Z"
   },
   {
    "duration": 8,
    "start_time": "2022-05-26T17:36:19.442Z"
   },
   {
    "duration": 29,
    "start_time": "2022-05-26T17:36:19.452Z"
   },
   {
    "duration": 30,
    "start_time": "2022-05-26T17:36:19.483Z"
   },
   {
    "duration": 7,
    "start_time": "2022-05-26T17:36:19.519Z"
   },
   {
    "duration": 17,
    "start_time": "2022-05-26T17:36:19.527Z"
   },
   {
    "duration": 30,
    "start_time": "2022-05-26T17:36:19.565Z"
   },
   {
    "duration": 10,
    "start_time": "2022-05-26T17:36:19.597Z"
   },
   {
    "duration": 14,
    "start_time": "2022-05-26T17:36:19.609Z"
   },
   {
    "duration": 8,
    "start_time": "2022-05-26T17:36:19.626Z"
   },
   {
    "duration": 52,
    "start_time": "2022-05-26T17:36:19.666Z"
   },
   {
    "duration": 33,
    "start_time": "2022-05-26T17:36:19.720Z"
   },
   {
    "duration": 40,
    "start_time": "2022-05-26T17:36:19.767Z"
   },
   {
    "duration": 33,
    "start_time": "2022-05-26T17:36:19.809Z"
   },
   {
    "duration": 38,
    "start_time": "2022-05-26T17:36:19.844Z"
   },
   {
    "duration": 5,
    "start_time": "2022-05-26T17:36:19.884Z"
   },
   {
    "duration": 14,
    "start_time": "2022-05-26T17:36:19.891Z"
   },
   {
    "duration": 6,
    "start_time": "2022-05-26T17:36:19.907Z"
   },
   {
    "duration": 8,
    "start_time": "2022-05-26T17:36:19.914Z"
   },
   {
    "duration": 42,
    "start_time": "2022-05-26T17:36:19.924Z"
   },
   {
    "duration": 11,
    "start_time": "2022-05-26T17:36:19.978Z"
   },
   {
    "duration": 8,
    "start_time": "2022-05-26T17:36:19.990Z"
   },
   {
    "duration": 8,
    "start_time": "2022-05-26T17:36:20.000Z"
   },
   {
    "duration": 6,
    "start_time": "2022-05-26T17:36:20.010Z"
   },
   {
    "duration": 199,
    "start_time": "2022-05-26T17:36:20.018Z"
   },
   {
    "duration": 15,
    "start_time": "2022-05-26T17:36:20.219Z"
   },
   {
    "duration": 42,
    "start_time": "2022-05-26T17:36:20.235Z"
   },
   {
    "duration": 6,
    "start_time": "2022-05-26T17:36:20.279Z"
   },
   {
    "duration": 6,
    "start_time": "2022-05-26T17:36:20.286Z"
   },
   {
    "duration": 8,
    "start_time": "2022-05-26T17:36:20.294Z"
   },
   {
    "duration": 453,
    "start_time": "2022-05-26T17:36:20.304Z"
   },
   {
    "duration": 422,
    "start_time": "2022-05-26T17:36:20.764Z"
   },
   {
    "duration": 400,
    "start_time": "2022-05-26T17:36:21.187Z"
   },
   {
    "duration": 371,
    "start_time": "2022-05-26T17:36:21.590Z"
   },
   {
    "duration": 389,
    "start_time": "2022-05-26T17:36:21.963Z"
   },
   {
    "duration": 59,
    "start_time": "2022-05-26T17:36:22.353Z"
   },
   {
    "duration": 25,
    "start_time": "2022-05-26T17:36:22.414Z"
   },
   {
    "duration": 686,
    "start_time": "2022-05-26T17:36:22.440Z"
   },
   {
    "duration": 0,
    "start_time": "2022-05-26T17:36:23.128Z"
   },
   {
    "duration": 0,
    "start_time": "2022-05-26T17:36:23.129Z"
   },
   {
    "duration": 0,
    "start_time": "2022-05-26T17:36:23.130Z"
   },
   {
    "duration": 0,
    "start_time": "2022-05-26T17:36:23.131Z"
   },
   {
    "duration": 35,
    "start_time": "2022-05-26T17:37:12.786Z"
   },
   {
    "duration": 748,
    "start_time": "2022-05-26T17:37:22.331Z"
   },
   {
    "duration": 28,
    "start_time": "2022-05-26T17:37:34.005Z"
   },
   {
    "duration": 1276,
    "start_time": "2022-05-26T17:37:41.862Z"
   },
   {
    "duration": 3,
    "start_time": "2022-05-26T17:37:43.140Z"
   },
   {
    "duration": 52,
    "start_time": "2022-05-26T17:37:43.146Z"
   },
   {
    "duration": 16,
    "start_time": "2022-05-26T17:37:43.200Z"
   },
   {
    "duration": 14,
    "start_time": "2022-05-26T17:37:43.219Z"
   },
   {
    "duration": 18,
    "start_time": "2022-05-26T17:37:43.235Z"
   },
   {
    "duration": 28,
    "start_time": "2022-05-26T17:37:43.255Z"
   },
   {
    "duration": 33,
    "start_time": "2022-05-26T17:37:43.285Z"
   },
   {
    "duration": 23,
    "start_time": "2022-05-26T17:37:43.319Z"
   },
   {
    "duration": 196,
    "start_time": "2022-05-26T17:37:43.344Z"
   },
   {
    "duration": 9,
    "start_time": "2022-05-26T17:37:43.542Z"
   },
   {
    "duration": 55,
    "start_time": "2022-05-26T17:37:43.553Z"
   },
   {
    "duration": 36,
    "start_time": "2022-05-26T17:37:43.610Z"
   },
   {
    "duration": 54,
    "start_time": "2022-05-26T17:37:43.650Z"
   },
   {
    "duration": 42,
    "start_time": "2022-05-26T17:37:43.706Z"
   },
   {
    "duration": 157,
    "start_time": "2022-05-26T17:37:43.750Z"
   },
   {
    "duration": 106,
    "start_time": "2022-05-26T17:37:43.909Z"
   },
   {
    "duration": 8,
    "start_time": "2022-05-26T17:37:44.017Z"
   },
   {
    "duration": 59,
    "start_time": "2022-05-26T17:37:44.026Z"
   },
   {
    "duration": 45,
    "start_time": "2022-05-26T17:37:44.087Z"
   },
   {
    "duration": 25,
    "start_time": "2022-05-26T17:37:44.134Z"
   },
   {
    "duration": 42,
    "start_time": "2022-05-26T17:37:44.160Z"
   },
   {
    "duration": 54,
    "start_time": "2022-05-26T17:37:44.204Z"
   },
   {
    "duration": 183,
    "start_time": "2022-05-26T17:37:44.259Z"
   },
   {
    "duration": 11,
    "start_time": "2022-05-26T17:37:44.444Z"
   },
   {
    "duration": 29,
    "start_time": "2022-05-26T17:37:44.457Z"
   },
   {
    "duration": 17,
    "start_time": "2022-05-26T17:37:44.488Z"
   },
   {
    "duration": 26,
    "start_time": "2022-05-26T17:37:44.507Z"
   },
   {
    "duration": 65,
    "start_time": "2022-05-26T17:37:44.535Z"
   },
   {
    "duration": 97,
    "start_time": "2022-05-26T17:37:44.602Z"
   },
   {
    "duration": 17,
    "start_time": "2022-05-26T17:37:44.700Z"
   },
   {
    "duration": 9,
    "start_time": "2022-05-26T17:37:44.719Z"
   },
   {
    "duration": 14,
    "start_time": "2022-05-26T17:37:44.730Z"
   },
   {
    "duration": 38,
    "start_time": "2022-05-26T17:37:44.746Z"
   },
   {
    "duration": 6,
    "start_time": "2022-05-26T17:37:44.786Z"
   },
   {
    "duration": 16,
    "start_time": "2022-05-26T17:37:44.793Z"
   },
   {
    "duration": 80,
    "start_time": "2022-05-26T17:37:44.811Z"
   },
   {
    "duration": 1192,
    "start_time": "2022-05-26T17:37:44.893Z"
   },
   {
    "duration": 10,
    "start_time": "2022-05-26T17:37:46.088Z"
   },
   {
    "duration": 16,
    "start_time": "2022-05-26T17:37:46.100Z"
   },
   {
    "duration": 19,
    "start_time": "2022-05-26T17:37:46.121Z"
   },
   {
    "duration": 26,
    "start_time": "2022-05-26T17:37:46.142Z"
   },
   {
    "duration": 26,
    "start_time": "2022-05-26T17:37:46.171Z"
   },
   {
    "duration": 23,
    "start_time": "2022-05-26T17:37:46.199Z"
   },
   {
    "duration": 9,
    "start_time": "2022-05-26T17:37:46.224Z"
   },
   {
    "duration": 14,
    "start_time": "2022-05-26T17:37:46.235Z"
   },
   {
    "duration": 16,
    "start_time": "2022-05-26T17:37:46.265Z"
   },
   {
    "duration": 134,
    "start_time": "2022-05-26T17:37:46.283Z"
   },
   {
    "duration": 53,
    "start_time": "2022-05-26T17:37:46.419Z"
   },
   {
    "duration": 38,
    "start_time": "2022-05-26T17:37:46.473Z"
   },
   {
    "duration": 29,
    "start_time": "2022-05-26T17:37:46.512Z"
   },
   {
    "duration": 37,
    "start_time": "2022-05-26T17:37:46.542Z"
   },
   {
    "duration": 11,
    "start_time": "2022-05-26T17:37:46.582Z"
   },
   {
    "duration": 12,
    "start_time": "2022-05-26T17:37:46.595Z"
   },
   {
    "duration": 8,
    "start_time": "2022-05-26T17:37:46.609Z"
   },
   {
    "duration": 12,
    "start_time": "2022-05-26T17:37:46.619Z"
   },
   {
    "duration": 39,
    "start_time": "2022-05-26T17:37:46.633Z"
   },
   {
    "duration": 23,
    "start_time": "2022-05-26T17:37:46.673Z"
   },
   {
    "duration": 15,
    "start_time": "2022-05-26T17:37:46.698Z"
   },
   {
    "duration": 9,
    "start_time": "2022-05-26T17:37:46.715Z"
   },
   {
    "duration": 5,
    "start_time": "2022-05-26T17:37:46.726Z"
   },
   {
    "duration": 203,
    "start_time": "2022-05-26T17:37:46.733Z"
   },
   {
    "duration": 26,
    "start_time": "2022-05-26T17:37:46.938Z"
   },
   {
    "duration": 37,
    "start_time": "2022-05-26T17:37:46.965Z"
   },
   {
    "duration": 5,
    "start_time": "2022-05-26T17:37:47.004Z"
   },
   {
    "duration": 6,
    "start_time": "2022-05-26T17:37:47.011Z"
   },
   {
    "duration": 8,
    "start_time": "2022-05-26T17:37:47.019Z"
   },
   {
    "duration": 429,
    "start_time": "2022-05-26T17:37:47.028Z"
   },
   {
    "duration": 440,
    "start_time": "2022-05-26T17:37:47.465Z"
   },
   {
    "duration": 480,
    "start_time": "2022-05-26T17:37:47.907Z"
   },
   {
    "duration": 426,
    "start_time": "2022-05-26T17:37:48.389Z"
   },
   {
    "duration": 493,
    "start_time": "2022-05-26T17:37:48.817Z"
   },
   {
    "duration": 64,
    "start_time": "2022-05-26T17:37:49.312Z"
   },
   {
    "duration": 26,
    "start_time": "2022-05-26T17:37:49.379Z"
   },
   {
    "duration": 322,
    "start_time": "2022-05-26T17:37:49.407Z"
   },
   {
    "duration": 0,
    "start_time": "2022-05-26T17:37:49.731Z"
   },
   {
    "duration": 0,
    "start_time": "2022-05-26T17:37:49.732Z"
   },
   {
    "duration": 0,
    "start_time": "2022-05-26T17:37:49.733Z"
   },
   {
    "duration": 0,
    "start_time": "2022-05-26T17:37:49.735Z"
   },
   {
    "duration": 26,
    "start_time": "2022-05-26T17:38:23.402Z"
   },
   {
    "duration": 256,
    "start_time": "2022-05-26T17:38:28.994Z"
   },
   {
    "duration": 26,
    "start_time": "2022-05-26T17:38:44.002Z"
   },
   {
    "duration": 2339,
    "start_time": "2022-05-26T17:38:48.435Z"
   },
   {
    "duration": 34,
    "start_time": "2022-05-26T17:41:35.875Z"
   },
   {
    "duration": 45,
    "start_time": "2022-05-26T17:45:37.862Z"
   },
   {
    "duration": 48,
    "start_time": "2022-05-26T17:45:55.548Z"
   },
   {
    "duration": 38,
    "start_time": "2022-05-26T17:46:15.950Z"
   },
   {
    "duration": 4154,
    "start_time": "2022-05-26T17:47:07.612Z"
   },
   {
    "duration": 3869,
    "start_time": "2022-05-26T17:47:21.680Z"
   },
   {
    "duration": 249,
    "start_time": "2022-05-26T17:47:40.692Z"
   },
   {
    "duration": 3209,
    "start_time": "2022-05-26T17:47:43.519Z"
   },
   {
    "duration": 39,
    "start_time": "2022-05-26T17:51:58.528Z"
   },
   {
    "duration": 2956,
    "start_time": "2022-05-26T17:52:06.760Z"
   },
   {
    "duration": 3030,
    "start_time": "2022-05-26T17:53:12.000Z"
   },
   {
    "duration": 2916,
    "start_time": "2022-05-26T17:54:40.847Z"
   },
   {
    "duration": 12,
    "start_time": "2022-05-26T17:57:55.893Z"
   },
   {
    "duration": 430,
    "start_time": "2022-05-26T18:00:13.980Z"
   },
   {
    "duration": 437,
    "start_time": "2022-05-26T18:00:22.094Z"
   },
   {
    "duration": 2838,
    "start_time": "2022-05-26T18:01:10.626Z"
   },
   {
    "duration": 382,
    "start_time": "2022-05-26T18:03:17.927Z"
   },
   {
    "duration": 136,
    "start_time": "2022-05-26T18:03:22.590Z"
   },
   {
    "duration": 2918,
    "start_time": "2022-05-26T18:03:28.550Z"
   },
   {
    "duration": 3421,
    "start_time": "2022-05-26T18:03:35.455Z"
   },
   {
    "duration": 3637,
    "start_time": "2022-05-26T18:03:52.559Z"
   },
   {
    "duration": 2863,
    "start_time": "2022-05-26T18:04:19.359Z"
   },
   {
    "duration": 33,
    "start_time": "2022-05-26T18:05:53.189Z"
   },
   {
    "duration": 30,
    "start_time": "2022-05-26T18:06:13.243Z"
   },
   {
    "duration": 2657,
    "start_time": "2022-05-26T18:06:25.442Z"
   },
   {
    "duration": 2639,
    "start_time": "2022-05-26T18:07:10.639Z"
   },
   {
    "duration": 218,
    "start_time": "2022-05-26T18:07:28.581Z"
   },
   {
    "duration": 2974,
    "start_time": "2022-05-26T18:07:36.697Z"
   },
   {
    "duration": 28,
    "start_time": "2022-05-26T18:07:44.885Z"
   },
   {
    "duration": 25,
    "start_time": "2022-05-26T18:07:47.093Z"
   },
   {
    "duration": 30,
    "start_time": "2022-05-26T18:08:11.226Z"
   },
   {
    "duration": 34,
    "start_time": "2022-05-26T18:08:23.602Z"
   },
   {
    "duration": 2720,
    "start_time": "2022-05-26T18:08:37.727Z"
   },
   {
    "duration": 1491,
    "start_time": "2022-05-26T18:09:50.551Z"
   },
   {
    "duration": 1907,
    "start_time": "2022-05-26T18:10:13.557Z"
   },
   {
    "duration": 1563,
    "start_time": "2022-05-26T18:10:24.748Z"
   },
   {
    "duration": 3,
    "start_time": "2022-05-26T18:13:11.646Z"
   },
   {
    "duration": 21,
    "start_time": "2022-05-26T18:14:44.406Z"
   },
   {
    "duration": 51,
    "start_time": "2022-05-26T18:14:47.663Z"
   },
   {
    "duration": 59,
    "start_time": "2022-05-26T18:15:04.437Z"
   },
   {
    "duration": 1929,
    "start_time": "2022-05-26T18:15:16.361Z"
   },
   {
    "duration": 851,
    "start_time": "2022-05-26T18:19:26.657Z"
   },
   {
    "duration": 1040,
    "start_time": "2022-05-26T18:24:56.917Z"
   },
   {
    "duration": 9,
    "start_time": "2022-05-26T18:25:11.519Z"
   },
   {
    "duration": 841,
    "start_time": "2022-05-26T18:25:20.319Z"
   },
   {
    "duration": 23,
    "start_time": "2022-05-26T18:27:04.428Z"
   },
   {
    "duration": 795,
    "start_time": "2022-05-26T18:27:15.773Z"
   },
   {
    "duration": 4698,
    "start_time": "2022-05-26T18:29:23.431Z"
   },
   {
    "duration": 816,
    "start_time": "2022-05-26T18:29:35.679Z"
   },
   {
    "duration": 1267,
    "start_time": "2022-05-26T18:30:32.104Z"
   },
   {
    "duration": 1688,
    "start_time": "2022-05-26T18:31:09.528Z"
   },
   {
    "duration": 40,
    "start_time": "2022-05-26T18:31:52.920Z"
   },
   {
    "duration": 36,
    "start_time": "2022-05-26T18:31:58.760Z"
   },
   {
    "duration": 14350,
    "start_time": "2022-05-26T18:33:09.618Z"
   },
   {
    "duration": 875,
    "start_time": "2022-05-26T18:33:40.677Z"
   },
   {
    "duration": 4719,
    "start_time": "2022-05-26T18:36:05.524Z"
   },
   {
    "duration": 5,
    "start_time": "2022-05-26T19:20:29.037Z"
   },
   {
    "duration": 16,
    "start_time": "2022-05-26T19:20:29.045Z"
   },
   {
    "duration": 75,
    "start_time": "2022-05-26T19:20:29.064Z"
   },
   {
    "duration": 14,
    "start_time": "2022-05-26T19:20:29.141Z"
   },
   {
    "duration": 27,
    "start_time": "2022-05-26T19:20:29.157Z"
   },
   {
    "duration": 16,
    "start_time": "2022-05-26T19:20:29.186Z"
   },
   {
    "duration": 21,
    "start_time": "2022-05-26T19:20:29.204Z"
   },
   {
    "duration": 19,
    "start_time": "2022-05-26T19:20:29.228Z"
   },
   {
    "duration": 8,
    "start_time": "2022-05-26T19:20:29.264Z"
   },
   {
    "duration": 188,
    "start_time": "2022-05-26T19:20:29.274Z"
   },
   {
    "duration": 9,
    "start_time": "2022-05-26T19:20:29.467Z"
   },
   {
    "duration": 11,
    "start_time": "2022-05-26T19:20:29.478Z"
   },
   {
    "duration": 14,
    "start_time": "2022-05-26T19:20:29.491Z"
   },
   {
    "duration": 24,
    "start_time": "2022-05-26T19:20:29.507Z"
   },
   {
    "duration": 54,
    "start_time": "2022-05-26T19:20:29.533Z"
   },
   {
    "duration": 112,
    "start_time": "2022-05-26T19:20:29.589Z"
   },
   {
    "duration": 113,
    "start_time": "2022-05-26T19:20:29.703Z"
   },
   {
    "duration": 8,
    "start_time": "2022-05-26T19:20:29.818Z"
   },
   {
    "duration": 9,
    "start_time": "2022-05-26T19:20:29.828Z"
   },
   {
    "duration": 27,
    "start_time": "2022-05-26T19:20:29.838Z"
   },
   {
    "duration": 21,
    "start_time": "2022-05-26T19:20:29.868Z"
   },
   {
    "duration": 20,
    "start_time": "2022-05-26T19:20:29.892Z"
   },
   {
    "duration": 95,
    "start_time": "2022-05-26T19:20:29.914Z"
   },
   {
    "duration": 149,
    "start_time": "2022-05-26T19:20:30.010Z"
   },
   {
    "duration": 10,
    "start_time": "2022-05-26T19:20:30.161Z"
   },
   {
    "duration": 24,
    "start_time": "2022-05-26T19:20:30.173Z"
   },
   {
    "duration": 17,
    "start_time": "2022-05-26T19:20:30.199Z"
   },
   {
    "duration": 36,
    "start_time": "2022-05-26T19:20:30.218Z"
   },
   {
    "duration": 32,
    "start_time": "2022-05-26T19:20:30.258Z"
   },
   {
    "duration": 76,
    "start_time": "2022-05-26T19:20:30.292Z"
   },
   {
    "duration": 52,
    "start_time": "2022-05-26T19:20:30.370Z"
   },
   {
    "duration": 8,
    "start_time": "2022-05-26T19:20:30.424Z"
   },
   {
    "duration": 37,
    "start_time": "2022-05-26T19:20:30.434Z"
   },
   {
    "duration": 40,
    "start_time": "2022-05-26T19:20:30.473Z"
   },
   {
    "duration": 24,
    "start_time": "2022-05-26T19:20:30.515Z"
   },
   {
    "duration": 65,
    "start_time": "2022-05-26T19:20:30.541Z"
   },
   {
    "duration": 82,
    "start_time": "2022-05-26T19:20:30.608Z"
   },
   {
    "duration": 1136,
    "start_time": "2022-05-26T19:20:30.692Z"
   },
   {
    "duration": 10,
    "start_time": "2022-05-26T19:20:31.831Z"
   },
   {
    "duration": 28,
    "start_time": "2022-05-26T19:20:31.843Z"
   },
   {
    "duration": 24,
    "start_time": "2022-05-26T19:20:31.874Z"
   },
   {
    "duration": 9,
    "start_time": "2022-05-26T19:20:31.900Z"
   },
   {
    "duration": 32,
    "start_time": "2022-05-26T19:20:31.911Z"
   },
   {
    "duration": 40,
    "start_time": "2022-05-26T19:20:31.945Z"
   },
   {
    "duration": 11,
    "start_time": "2022-05-26T19:20:31.987Z"
   },
   {
    "duration": 23,
    "start_time": "2022-05-26T19:20:32.000Z"
   },
   {
    "duration": 8,
    "start_time": "2022-05-26T19:20:32.026Z"
   },
   {
    "duration": 83,
    "start_time": "2022-05-26T19:20:32.036Z"
   },
   {
    "duration": 32,
    "start_time": "2022-05-26T19:20:32.121Z"
   },
   {
    "duration": 37,
    "start_time": "2022-05-26T19:20:32.165Z"
   },
   {
    "duration": 476,
    "start_time": "2022-05-26T19:20:32.204Z"
   },
   {
    "duration": 14,
    "start_time": "2022-05-26T19:20:32.682Z"
   },
   {
    "duration": 9,
    "start_time": "2022-05-26T19:20:32.698Z"
   },
   {
    "duration": 12,
    "start_time": "2022-05-26T19:20:32.709Z"
   },
   {
    "duration": 10,
    "start_time": "2022-05-26T19:20:32.723Z"
   },
   {
    "duration": 10,
    "start_time": "2022-05-26T19:20:32.735Z"
   },
   {
    "duration": 30,
    "start_time": "2022-05-26T19:20:32.746Z"
   },
   {
    "duration": 15,
    "start_time": "2022-05-26T19:20:32.778Z"
   },
   {
    "duration": 13,
    "start_time": "2022-05-26T19:20:32.795Z"
   },
   {
    "duration": 10,
    "start_time": "2022-05-26T19:20:32.811Z"
   },
   {
    "duration": 9,
    "start_time": "2022-05-26T19:20:32.823Z"
   },
   {
    "duration": 201,
    "start_time": "2022-05-26T19:20:32.834Z"
   },
   {
    "duration": 16,
    "start_time": "2022-05-26T19:20:33.037Z"
   },
   {
    "duration": 24,
    "start_time": "2022-05-26T19:20:33.055Z"
   },
   {
    "duration": 5,
    "start_time": "2022-05-26T19:20:33.081Z"
   },
   {
    "duration": 9,
    "start_time": "2022-05-26T19:20:33.087Z"
   },
   {
    "duration": 8,
    "start_time": "2022-05-26T19:20:33.098Z"
   },
   {
    "duration": 461,
    "start_time": "2022-05-26T19:20:33.107Z"
   },
   {
    "duration": 740,
    "start_time": "2022-05-26T19:20:33.570Z"
   },
   {
    "duration": 857,
    "start_time": "2022-05-26T19:20:34.311Z"
   },
   {
    "duration": 445,
    "start_time": "2022-05-26T19:20:35.170Z"
   },
   {
    "duration": 484,
    "start_time": "2022-05-26T19:20:35.618Z"
   },
   {
    "duration": 43,
    "start_time": "2022-05-26T19:20:36.104Z"
   },
   {
    "duration": 34,
    "start_time": "2022-05-26T19:20:36.164Z"
   },
   {
    "duration": 27,
    "start_time": "2022-05-26T19:20:36.200Z"
   },
   {
    "duration": 4701,
    "start_time": "2022-05-26T19:20:36.228Z"
   },
   {
    "duration": 2488,
    "start_time": "2022-05-26T19:20:40.930Z"
   },
   {
    "duration": 12,
    "start_time": "2022-05-26T19:20:43.420Z"
   },
   {
    "duration": 31,
    "start_time": "2022-05-26T19:20:43.434Z"
   },
   {
    "duration": 6,
    "start_time": "2022-05-26T19:20:43.467Z"
   },
   {
    "duration": 8,
    "start_time": "2022-05-26T19:20:43.475Z"
   },
   {
    "duration": 1373,
    "start_time": "2022-05-27T19:36:50.544Z"
   },
   {
    "duration": 3,
    "start_time": "2022-05-27T19:36:51.919Z"
   },
   {
    "duration": 89,
    "start_time": "2022-05-27T19:36:51.923Z"
   },
   {
    "duration": 13,
    "start_time": "2022-05-27T19:36:52.014Z"
   },
   {
    "duration": 9,
    "start_time": "2022-05-27T19:36:52.029Z"
   },
   {
    "duration": 11,
    "start_time": "2022-05-27T19:36:52.039Z"
   },
   {
    "duration": 16,
    "start_time": "2022-05-27T19:36:52.051Z"
   },
   {
    "duration": 19,
    "start_time": "2022-05-27T19:36:52.069Z"
   },
   {
    "duration": 10,
    "start_time": "2022-05-27T19:36:52.090Z"
   },
   {
    "duration": 488,
    "start_time": "2022-05-27T19:36:52.102Z"
   },
   {
    "duration": 9,
    "start_time": "2022-05-27T19:36:52.591Z"
   },
   {
    "duration": 15,
    "start_time": "2022-05-27T19:36:52.602Z"
   },
   {
    "duration": 21,
    "start_time": "2022-05-27T19:36:52.619Z"
   },
   {
    "duration": 27,
    "start_time": "2022-05-27T19:36:52.642Z"
   },
   {
    "duration": 43,
    "start_time": "2022-05-27T19:36:52.670Z"
   },
   {
    "duration": 149,
    "start_time": "2022-05-27T19:36:52.715Z"
   },
   {
    "duration": 177,
    "start_time": "2022-05-27T19:36:52.866Z"
   },
   {
    "duration": 9,
    "start_time": "2022-05-27T19:36:53.045Z"
   },
   {
    "duration": 14,
    "start_time": "2022-05-27T19:36:53.056Z"
   },
   {
    "duration": 18,
    "start_time": "2022-05-27T19:36:53.071Z"
   },
   {
    "duration": 25,
    "start_time": "2022-05-27T19:36:53.091Z"
   },
   {
    "duration": 13,
    "start_time": "2022-05-27T19:36:53.118Z"
   },
   {
    "duration": 63,
    "start_time": "2022-05-27T19:36:53.133Z"
   },
   {
    "duration": 433,
    "start_time": "2022-05-27T19:36:53.198Z"
   },
   {
    "duration": 9,
    "start_time": "2022-05-27T19:36:53.633Z"
   },
   {
    "duration": 9,
    "start_time": "2022-05-27T19:36:53.643Z"
   },
   {
    "duration": 12,
    "start_time": "2022-05-27T19:36:53.654Z"
   },
   {
    "duration": 29,
    "start_time": "2022-05-27T19:36:53.669Z"
   },
   {
    "duration": 29,
    "start_time": "2022-05-27T19:36:53.700Z"
   },
   {
    "duration": 91,
    "start_time": "2022-05-27T19:36:53.730Z"
   },
   {
    "duration": 45,
    "start_time": "2022-05-27T19:36:53.822Z"
   },
   {
    "duration": 12,
    "start_time": "2022-05-27T19:36:53.869Z"
   },
   {
    "duration": 25,
    "start_time": "2022-05-27T19:36:53.883Z"
   },
   {
    "duration": 37,
    "start_time": "2022-05-27T19:36:53.910Z"
   },
   {
    "duration": 6,
    "start_time": "2022-05-27T19:36:53.948Z"
   },
   {
    "duration": 15,
    "start_time": "2022-05-27T19:36:53.955Z"
   },
   {
    "duration": 75,
    "start_time": "2022-05-27T19:37:37.878Z"
   },
   {
    "duration": 30,
    "start_time": "2022-05-27T19:37:55.735Z"
   },
   {
    "duration": 1096,
    "start_time": "2022-05-27T19:48:55.221Z"
   },
   {
    "duration": 3,
    "start_time": "2022-05-27T19:48:56.319Z"
   },
   {
    "duration": 82,
    "start_time": "2022-05-27T19:48:56.324Z"
   },
   {
    "duration": 15,
    "start_time": "2022-05-27T19:48:56.408Z"
   },
   {
    "duration": 11,
    "start_time": "2022-05-27T19:48:56.425Z"
   },
   {
    "duration": 16,
    "start_time": "2022-05-27T19:48:56.438Z"
   },
   {
    "duration": 15,
    "start_time": "2022-05-27T19:48:56.455Z"
   },
   {
    "duration": 14,
    "start_time": "2022-05-27T19:48:56.472Z"
   },
   {
    "duration": 6,
    "start_time": "2022-05-27T19:48:56.487Z"
   },
   {
    "duration": 480,
    "start_time": "2022-05-27T19:48:56.496Z"
   },
   {
    "duration": 8,
    "start_time": "2022-05-27T19:48:56.978Z"
   },
   {
    "duration": 11,
    "start_time": "2022-05-27T19:48:56.989Z"
   },
   {
    "duration": 15,
    "start_time": "2022-05-27T19:48:57.002Z"
   },
   {
    "duration": 25,
    "start_time": "2022-05-27T19:48:57.018Z"
   },
   {
    "duration": 48,
    "start_time": "2022-05-27T19:48:57.045Z"
   },
   {
    "duration": 111,
    "start_time": "2022-05-27T19:48:57.095Z"
   },
   {
    "duration": 133,
    "start_time": "2022-05-27T19:48:57.208Z"
   },
   {
    "duration": 7,
    "start_time": "2022-05-27T19:48:57.342Z"
   },
   {
    "duration": 14,
    "start_time": "2022-05-27T19:48:57.351Z"
   },
   {
    "duration": 27,
    "start_time": "2022-05-27T19:48:57.367Z"
   },
   {
    "duration": 25,
    "start_time": "2022-05-27T19:48:57.396Z"
   },
   {
    "duration": 16,
    "start_time": "2022-05-27T19:48:57.423Z"
   },
   {
    "duration": 76,
    "start_time": "2022-05-27T19:48:57.442Z"
   },
   {
    "duration": 413,
    "start_time": "2022-05-27T19:48:57.520Z"
   },
   {
    "duration": 10,
    "start_time": "2022-05-27T19:48:57.935Z"
   },
   {
    "duration": 18,
    "start_time": "2022-05-27T19:48:57.947Z"
   },
   {
    "duration": 15,
    "start_time": "2022-05-27T19:48:57.967Z"
   },
   {
    "duration": 22,
    "start_time": "2022-05-27T19:48:57.988Z"
   },
   {
    "duration": 27,
    "start_time": "2022-05-27T19:48:58.012Z"
   },
   {
    "duration": 85,
    "start_time": "2022-05-27T19:48:58.040Z"
   },
   {
    "duration": 46,
    "start_time": "2022-05-27T19:48:58.126Z"
   },
   {
    "duration": 10,
    "start_time": "2022-05-27T19:48:58.174Z"
   },
   {
    "duration": 17,
    "start_time": "2022-05-27T19:48:58.185Z"
   },
   {
    "duration": 41,
    "start_time": "2022-05-27T19:48:58.204Z"
   },
   {
    "duration": 27,
    "start_time": "2022-05-27T19:48:58.248Z"
   },
   {
    "duration": 19,
    "start_time": "2022-05-27T19:48:58.277Z"
   },
   {
    "duration": 59,
    "start_time": "2022-05-27T19:48:58.298Z"
   },
   {
    "duration": 1283,
    "start_time": "2022-05-27T19:48:58.359Z"
   },
   {
    "duration": 10,
    "start_time": "2022-05-27T19:48:59.643Z"
   },
   {
    "duration": 22,
    "start_time": "2022-05-27T19:48:59.655Z"
   },
   {
    "duration": 18,
    "start_time": "2022-05-27T19:48:59.678Z"
   },
   {
    "duration": 10,
    "start_time": "2022-05-27T19:48:59.698Z"
   },
   {
    "duration": 17,
    "start_time": "2022-05-27T19:48:59.709Z"
   },
   {
    "duration": 48,
    "start_time": "2022-05-27T19:48:59.727Z"
   },
   {
    "duration": 9,
    "start_time": "2022-05-27T19:48:59.777Z"
   },
   {
    "duration": 13,
    "start_time": "2022-05-27T19:48:59.788Z"
   },
   {
    "duration": 10,
    "start_time": "2022-05-27T19:48:59.802Z"
   },
   {
    "duration": 158,
    "start_time": "2022-05-27T19:48:59.814Z"
   },
   {
    "duration": 28,
    "start_time": "2022-05-27T19:48:59.974Z"
   },
   {
    "duration": 32,
    "start_time": "2022-05-27T19:49:00.004Z"
   },
   {
    "duration": 49,
    "start_time": "2022-05-27T19:49:00.038Z"
   },
   {
    "duration": 16,
    "start_time": "2022-05-27T19:49:00.089Z"
   },
   {
    "duration": 6,
    "start_time": "2022-05-27T19:49:00.106Z"
   },
   {
    "duration": 17,
    "start_time": "2022-05-27T19:49:00.114Z"
   },
   {
    "duration": 17,
    "start_time": "2022-05-27T19:49:00.133Z"
   },
   {
    "duration": 12,
    "start_time": "2022-05-27T19:49:00.152Z"
   },
   {
    "duration": 26,
    "start_time": "2022-05-27T19:49:00.166Z"
   },
   {
    "duration": 18,
    "start_time": "2022-05-27T19:49:00.194Z"
   },
   {
    "duration": 13,
    "start_time": "2022-05-27T19:49:00.214Z"
   },
   {
    "duration": 14,
    "start_time": "2022-05-27T19:49:00.229Z"
   },
   {
    "duration": 9,
    "start_time": "2022-05-27T19:49:00.245Z"
   },
   {
    "duration": 175,
    "start_time": "2022-05-27T19:49:00.256Z"
   },
   {
    "duration": 14,
    "start_time": "2022-05-27T19:49:00.433Z"
   },
   {
    "duration": 31,
    "start_time": "2022-05-27T19:49:00.449Z"
   },
   {
    "duration": 4,
    "start_time": "2022-05-27T19:49:00.482Z"
   },
   {
    "duration": 28,
    "start_time": "2022-05-27T19:49:00.488Z"
   },
   {
    "duration": 13,
    "start_time": "2022-05-27T19:49:00.517Z"
   },
   {
    "duration": 413,
    "start_time": "2022-05-27T19:49:00.531Z"
   },
   {
    "duration": 451,
    "start_time": "2022-05-27T19:49:00.946Z"
   },
   {
    "duration": 533,
    "start_time": "2022-05-27T19:49:01.399Z"
   },
   {
    "duration": 431,
    "start_time": "2022-05-27T19:49:01.934Z"
   },
   {
    "duration": 399,
    "start_time": "2022-05-27T19:49:02.367Z"
   },
   {
    "duration": 48,
    "start_time": "2022-05-27T19:49:02.775Z"
   },
   {
    "duration": 63,
    "start_time": "2022-05-27T19:49:02.825Z"
   },
   {
    "duration": 31,
    "start_time": "2022-05-27T19:49:02.890Z"
   },
   {
    "duration": 4622,
    "start_time": "2022-05-27T19:49:02.975Z"
   },
   {
    "duration": 117,
    "start_time": "2022-05-27T19:49:07.599Z"
   },
   {
    "duration": 0,
    "start_time": "2022-05-27T19:49:07.718Z"
   },
   {
    "duration": 0,
    "start_time": "2022-05-27T19:49:07.719Z"
   },
   {
    "duration": 0,
    "start_time": "2022-05-27T19:49:07.720Z"
   },
   {
    "duration": 0,
    "start_time": "2022-05-27T19:49:07.722Z"
   },
   {
    "duration": 61,
    "start_time": "2022-05-28T18:13:19.473Z"
   },
   {
    "duration": 1386,
    "start_time": "2022-05-28T18:13:22.795Z"
   },
   {
    "duration": 3,
    "start_time": "2022-05-28T18:13:24.183Z"
   },
   {
    "duration": 120,
    "start_time": "2022-05-28T18:13:24.188Z"
   },
   {
    "duration": 14,
    "start_time": "2022-05-28T18:13:24.310Z"
   },
   {
    "duration": 10,
    "start_time": "2022-05-28T18:13:24.326Z"
   },
   {
    "duration": 13,
    "start_time": "2022-05-28T18:13:24.337Z"
   },
   {
    "duration": 18,
    "start_time": "2022-05-28T18:13:24.351Z"
   },
   {
    "duration": 30,
    "start_time": "2022-05-28T18:13:24.371Z"
   },
   {
    "duration": 6,
    "start_time": "2022-05-28T18:13:24.403Z"
   },
   {
    "duration": 228,
    "start_time": "2022-05-28T18:13:24.411Z"
   },
   {
    "duration": 9,
    "start_time": "2022-05-28T18:13:24.640Z"
   },
   {
    "duration": 10,
    "start_time": "2022-05-28T18:13:24.651Z"
   },
   {
    "duration": 19,
    "start_time": "2022-05-28T18:13:24.663Z"
   },
   {
    "duration": 25,
    "start_time": "2022-05-28T18:13:24.684Z"
   },
   {
    "duration": 31,
    "start_time": "2022-05-28T18:13:24.711Z"
   },
   {
    "duration": 122,
    "start_time": "2022-05-28T18:13:24.744Z"
   },
   {
    "duration": 615,
    "start_time": "2022-05-28T18:13:24.867Z"
   },
   {
    "duration": 7,
    "start_time": "2022-05-28T18:13:25.483Z"
   },
   {
    "duration": 49,
    "start_time": "2022-05-28T18:13:25.491Z"
   },
   {
    "duration": 59,
    "start_time": "2022-05-28T18:13:25.542Z"
   },
   {
    "duration": 20,
    "start_time": "2022-05-28T18:13:25.603Z"
   },
   {
    "duration": 42,
    "start_time": "2022-05-28T18:13:25.625Z"
   },
   {
    "duration": 43,
    "start_time": "2022-05-28T18:13:25.668Z"
   },
   {
    "duration": 323,
    "start_time": "2022-05-28T18:13:25.713Z"
   },
   {
    "duration": 12,
    "start_time": "2022-05-28T18:13:26.038Z"
   },
   {
    "duration": 19,
    "start_time": "2022-05-28T18:13:26.051Z"
   },
   {
    "duration": 27,
    "start_time": "2022-05-28T18:13:26.072Z"
   },
   {
    "duration": 24,
    "start_time": "2022-05-28T18:13:26.104Z"
   },
   {
    "duration": 29,
    "start_time": "2022-05-28T18:13:26.130Z"
   },
   {
    "duration": 88,
    "start_time": "2022-05-28T18:13:26.161Z"
   },
   {
    "duration": 65,
    "start_time": "2022-05-28T18:13:26.251Z"
   },
   {
    "duration": 8,
    "start_time": "2022-05-28T18:13:26.317Z"
   },
   {
    "duration": 15,
    "start_time": "2022-05-28T18:13:26.327Z"
   },
   {
    "duration": 29,
    "start_time": "2022-05-28T18:13:26.344Z"
   },
   {
    "duration": 7,
    "start_time": "2022-05-28T18:13:26.375Z"
   },
   {
    "duration": 18,
    "start_time": "2022-05-28T18:13:26.384Z"
   },
   {
    "duration": 58,
    "start_time": "2022-05-28T18:13:26.404Z"
   },
   {
    "duration": 1198,
    "start_time": "2022-05-28T18:13:26.464Z"
   },
   {
    "duration": 11,
    "start_time": "2022-05-28T18:13:27.664Z"
   },
   {
    "duration": 26,
    "start_time": "2022-05-28T18:13:27.677Z"
   },
   {
    "duration": 20,
    "start_time": "2022-05-28T18:13:27.705Z"
   },
   {
    "duration": 8,
    "start_time": "2022-05-28T18:13:27.727Z"
   },
   {
    "duration": 15,
    "start_time": "2022-05-28T18:13:27.736Z"
   },
   {
    "duration": 46,
    "start_time": "2022-05-28T18:13:27.752Z"
   },
   {
    "duration": 11,
    "start_time": "2022-05-28T18:13:27.800Z"
   },
   {
    "duration": 14,
    "start_time": "2022-05-28T18:13:27.813Z"
   },
   {
    "duration": 7,
    "start_time": "2022-05-28T18:13:27.829Z"
   },
   {
    "duration": 128,
    "start_time": "2022-05-28T18:13:27.837Z"
   },
   {
    "duration": 46,
    "start_time": "2022-05-28T18:13:27.966Z"
   },
   {
    "duration": 34,
    "start_time": "2022-05-28T18:13:28.014Z"
   },
   {
    "duration": 45,
    "start_time": "2022-05-28T18:13:28.050Z"
   },
   {
    "duration": 12,
    "start_time": "2022-05-28T18:13:28.097Z"
   },
   {
    "duration": 7,
    "start_time": "2022-05-28T18:13:28.111Z"
   },
   {
    "duration": 18,
    "start_time": "2022-05-28T18:13:28.120Z"
   },
   {
    "duration": 7,
    "start_time": "2022-05-28T18:13:28.140Z"
   },
   {
    "duration": 8,
    "start_time": "2022-05-28T18:13:28.149Z"
   },
   {
    "duration": 47,
    "start_time": "2022-05-28T18:13:28.158Z"
   },
   {
    "duration": 11,
    "start_time": "2022-05-28T18:13:28.207Z"
   },
   {
    "duration": 9,
    "start_time": "2022-05-28T18:13:28.219Z"
   },
   {
    "duration": 10,
    "start_time": "2022-05-28T18:13:28.229Z"
   },
   {
    "duration": 8,
    "start_time": "2022-05-28T18:13:28.241Z"
   },
   {
    "duration": 212,
    "start_time": "2022-05-28T18:13:28.250Z"
   },
   {
    "duration": 15,
    "start_time": "2022-05-28T18:13:28.464Z"
   },
   {
    "duration": 33,
    "start_time": "2022-05-28T18:13:28.481Z"
   },
   {
    "duration": 4,
    "start_time": "2022-05-28T18:13:28.516Z"
   },
   {
    "duration": 7,
    "start_time": "2022-05-28T18:13:28.521Z"
   },
   {
    "duration": 9,
    "start_time": "2022-05-28T18:13:28.529Z"
   },
   {
    "duration": 460,
    "start_time": "2022-05-28T18:13:28.539Z"
   },
   {
    "duration": 495,
    "start_time": "2022-05-28T18:13:29.001Z"
   },
   {
    "duration": 399,
    "start_time": "2022-05-28T18:13:29.498Z"
   },
   {
    "duration": 405,
    "start_time": "2022-05-28T18:13:29.900Z"
   },
   {
    "duration": 388,
    "start_time": "2022-05-28T18:13:30.307Z"
   },
   {
    "duration": 53,
    "start_time": "2022-05-28T18:13:30.698Z"
   },
   {
    "duration": 64,
    "start_time": "2022-05-28T18:13:30.752Z"
   },
   {
    "duration": 30,
    "start_time": "2022-05-28T18:13:30.818Z"
   },
   {
    "duration": 4381,
    "start_time": "2022-05-28T18:13:30.850Z"
   },
   {
    "duration": 73,
    "start_time": "2022-05-28T18:13:35.233Z"
   },
   {
    "duration": 0,
    "start_time": "2022-05-28T18:13:35.308Z"
   },
   {
    "duration": 0,
    "start_time": "2022-05-28T18:13:35.310Z"
   },
   {
    "duration": 0,
    "start_time": "2022-05-28T18:13:35.312Z"
   },
   {
    "duration": 0,
    "start_time": "2022-05-28T18:13:35.313Z"
   },
   {
    "duration": 31,
    "start_time": "2022-05-28T18:19:44.674Z"
   },
   {
    "duration": 31,
    "start_time": "2022-05-28T18:19:54.238Z"
   },
   {
    "duration": 11,
    "start_time": "2022-05-28T18:19:57.957Z"
   },
   {
    "duration": 10,
    "start_time": "2022-05-28T18:20:04.438Z"
   },
   {
    "duration": 16,
    "start_time": "2022-05-28T18:21:43.279Z"
   },
   {
    "duration": 8,
    "start_time": "2022-05-28T18:22:40.393Z"
   },
   {
    "duration": 11,
    "start_time": "2022-05-28T18:22:50.168Z"
   },
   {
    "duration": 16,
    "start_time": "2022-05-28T18:24:00.281Z"
   },
   {
    "duration": 10,
    "start_time": "2022-05-28T18:24:47.521Z"
   },
   {
    "duration": 11,
    "start_time": "2022-05-28T18:25:22.321Z"
   },
   {
    "duration": 10,
    "start_time": "2022-05-28T18:26:01.234Z"
   },
   {
    "duration": 387,
    "start_time": "2022-05-28T18:26:05.689Z"
   },
   {
    "duration": 28,
    "start_time": "2022-05-28T18:26:23.187Z"
   },
   {
    "duration": 9,
    "start_time": "2022-05-28T18:26:27.355Z"
   },
   {
    "duration": 7,
    "start_time": "2022-05-28T18:26:36.268Z"
   },
   {
    "duration": 29,
    "start_time": "2022-05-28T18:44:02.614Z"
   },
   {
    "duration": 23,
    "start_time": "2022-05-28T18:44:59.335Z"
   },
   {
    "duration": 38,
    "start_time": "2022-05-28T18:45:32.048Z"
   },
   {
    "duration": 51,
    "start_time": "2022-05-28T18:46:32.625Z"
   },
   {
    "duration": 4,
    "start_time": "2022-05-28T18:47:29.290Z"
   },
   {
    "duration": 10,
    "start_time": "2022-05-28T18:50:09.693Z"
   },
   {
    "duration": 20,
    "start_time": "2022-05-28T18:50:14.948Z"
   },
   {
    "duration": 15,
    "start_time": "2022-05-28T18:51:10.461Z"
   },
   {
    "duration": 97,
    "start_time": "2022-05-28T18:51:48.142Z"
   },
   {
    "duration": 9,
    "start_time": "2022-05-28T18:51:57.661Z"
   },
   {
    "duration": 25,
    "start_time": "2022-05-28T18:52:14.045Z"
   },
   {
    "duration": 109,
    "start_time": "2022-05-28T18:52:47.190Z"
   },
   {
    "duration": 4,
    "start_time": "2022-05-28T18:52:52.142Z"
   },
   {
    "duration": 30,
    "start_time": "2022-05-28T18:52:59.398Z"
   },
   {
    "duration": 26,
    "start_time": "2022-05-28T18:53:07.334Z"
   },
   {
    "duration": 5,
    "start_time": "2022-05-28T18:54:07.038Z"
   },
   {
    "duration": 20,
    "start_time": "2022-05-28T18:54:10.814Z"
   },
   {
    "duration": 5,
    "start_time": "2022-05-28T18:56:15.976Z"
   },
   {
    "duration": 19,
    "start_time": "2022-05-28T18:56:28.464Z"
   },
   {
    "duration": 5,
    "start_time": "2022-05-28T18:59:33.555Z"
   },
   {
    "duration": 166,
    "start_time": "2022-05-28T18:59:37.276Z"
   },
   {
    "duration": 14,
    "start_time": "2022-05-28T18:59:43.970Z"
   },
   {
    "duration": 23,
    "start_time": "2022-05-28T19:00:18.068Z"
   },
   {
    "duration": 1073,
    "start_time": "2022-05-28T19:04:40.159Z"
   },
   {
    "duration": 3,
    "start_time": "2022-05-28T19:04:41.234Z"
   },
   {
    "duration": 41,
    "start_time": "2022-05-28T19:04:41.238Z"
   },
   {
    "duration": 13,
    "start_time": "2022-05-28T19:04:41.282Z"
   },
   {
    "duration": 9,
    "start_time": "2022-05-28T19:04:41.297Z"
   },
   {
    "duration": 12,
    "start_time": "2022-05-28T19:04:41.307Z"
   },
   {
    "duration": 14,
    "start_time": "2022-05-28T19:04:41.321Z"
   },
   {
    "duration": 14,
    "start_time": "2022-05-28T19:04:41.337Z"
   },
   {
    "duration": 5,
    "start_time": "2022-05-28T19:04:41.353Z"
   },
   {
    "duration": 171,
    "start_time": "2022-05-28T19:04:41.360Z"
   },
   {
    "duration": 10,
    "start_time": "2022-05-28T19:04:41.533Z"
   },
   {
    "duration": 23,
    "start_time": "2022-05-28T19:04:41.545Z"
   },
   {
    "duration": 12,
    "start_time": "2022-05-28T19:04:41.570Z"
   },
   {
    "duration": 29,
    "start_time": "2022-05-28T19:04:41.584Z"
   },
   {
    "duration": 24,
    "start_time": "2022-05-28T19:04:41.615Z"
   },
   {
    "duration": 106,
    "start_time": "2022-05-28T19:04:41.641Z"
   },
   {
    "duration": 83,
    "start_time": "2022-05-28T19:04:41.749Z"
   },
   {
    "duration": 7,
    "start_time": "2022-05-28T19:04:41.834Z"
   },
   {
    "duration": 10,
    "start_time": "2022-05-28T19:04:41.842Z"
   },
   {
    "duration": 10,
    "start_time": "2022-05-28T19:04:41.853Z"
   },
   {
    "duration": 33,
    "start_time": "2022-05-28T19:04:41.865Z"
   },
   {
    "duration": 13,
    "start_time": "2022-05-28T19:04:41.900Z"
   },
   {
    "duration": 42,
    "start_time": "2022-05-28T19:04:41.915Z"
   },
   {
    "duration": 132,
    "start_time": "2022-05-28T19:04:41.959Z"
   },
   {
    "duration": 9,
    "start_time": "2022-05-28T19:04:42.094Z"
   },
   {
    "duration": 10,
    "start_time": "2022-05-28T19:04:42.104Z"
   },
   {
    "duration": 14,
    "start_time": "2022-05-28T19:04:42.115Z"
   },
   {
    "duration": 20,
    "start_time": "2022-05-28T19:04:42.132Z"
   },
   {
    "duration": 48,
    "start_time": "2022-05-28T19:04:42.153Z"
   },
   {
    "duration": 71,
    "start_time": "2022-05-28T19:04:42.203Z"
   },
   {
    "duration": 42,
    "start_time": "2022-05-28T19:04:42.276Z"
   },
   {
    "duration": 8,
    "start_time": "2022-05-28T19:04:42.319Z"
   },
   {
    "duration": 14,
    "start_time": "2022-05-28T19:04:42.328Z"
   },
   {
    "duration": 29,
    "start_time": "2022-05-28T19:04:42.343Z"
   },
   {
    "duration": 9,
    "start_time": "2022-05-28T19:04:42.373Z"
   },
   {
    "duration": 23,
    "start_time": "2022-05-28T19:04:42.383Z"
   },
   {
    "duration": 46,
    "start_time": "2022-05-28T19:04:42.407Z"
   },
   {
    "duration": 1012,
    "start_time": "2022-05-28T19:04:42.455Z"
   },
   {
    "duration": 11,
    "start_time": "2022-05-28T19:04:43.468Z"
   },
   {
    "duration": 14,
    "start_time": "2022-05-28T19:04:43.494Z"
   },
   {
    "duration": 18,
    "start_time": "2022-05-28T19:04:43.509Z"
   },
   {
    "duration": 7,
    "start_time": "2022-05-28T19:04:43.529Z"
   },
   {
    "duration": 22,
    "start_time": "2022-05-28T19:04:43.537Z"
   },
   {
    "duration": 35,
    "start_time": "2022-05-28T19:04:43.561Z"
   },
   {
    "duration": 10,
    "start_time": "2022-05-28T19:04:43.598Z"
   },
   {
    "duration": 14,
    "start_time": "2022-05-28T19:04:43.610Z"
   },
   {
    "duration": 6,
    "start_time": "2022-05-28T19:04:43.626Z"
   },
   {
    "duration": 131,
    "start_time": "2022-05-28T19:04:43.634Z"
   },
   {
    "duration": 34,
    "start_time": "2022-05-28T19:04:43.767Z"
   },
   {
    "duration": 32,
    "start_time": "2022-05-28T19:04:43.803Z"
   },
   {
    "duration": 27,
    "start_time": "2022-05-28T19:04:43.836Z"
   },
   {
    "duration": 29,
    "start_time": "2022-05-28T19:04:43.865Z"
   },
   {
    "duration": 4,
    "start_time": "2022-05-28T19:04:43.896Z"
   },
   {
    "duration": 14,
    "start_time": "2022-05-28T19:04:43.902Z"
   },
   {
    "duration": 6,
    "start_time": "2022-05-28T19:04:43.917Z"
   },
   {
    "duration": 15,
    "start_time": "2022-05-28T19:04:43.924Z"
   },
   {
    "duration": 15,
    "start_time": "2022-05-28T19:04:43.941Z"
   },
   {
    "duration": 16,
    "start_time": "2022-05-28T19:04:43.958Z"
   },
   {
    "duration": 20,
    "start_time": "2022-05-28T19:04:43.975Z"
   },
   {
    "duration": 4,
    "start_time": "2022-05-28T19:04:43.997Z"
   },
   {
    "duration": 145,
    "start_time": "2022-05-28T19:04:44.003Z"
   },
   {
    "duration": 13,
    "start_time": "2022-05-28T19:04:44.150Z"
   },
   {
    "duration": 34,
    "start_time": "2022-05-28T19:04:44.164Z"
   },
   {
    "duration": 4,
    "start_time": "2022-05-28T19:04:44.199Z"
   },
   {
    "duration": 9,
    "start_time": "2022-05-28T19:04:44.204Z"
   },
   {
    "duration": 6,
    "start_time": "2022-05-28T19:04:44.215Z"
   },
   {
    "duration": 355,
    "start_time": "2022-05-28T19:04:44.223Z"
   },
   {
    "duration": 397,
    "start_time": "2022-05-28T19:04:44.579Z"
   },
   {
    "duration": 392,
    "start_time": "2022-05-28T19:04:44.977Z"
   },
   {
    "duration": 402,
    "start_time": "2022-05-28T19:04:45.371Z"
   },
   {
    "duration": 399,
    "start_time": "2022-05-28T19:04:45.775Z"
   },
   {
    "duration": 49,
    "start_time": "2022-05-28T19:04:46.176Z"
   },
   {
    "duration": 31,
    "start_time": "2022-05-28T19:04:46.226Z"
   },
   {
    "duration": 41,
    "start_time": "2022-05-28T19:04:46.259Z"
   },
   {
    "duration": 3897,
    "start_time": "2022-05-28T19:04:46.302Z"
   },
   {
    "duration": 106,
    "start_time": "2022-05-28T19:04:50.200Z"
   },
   {
    "duration": 0,
    "start_time": "2022-05-28T19:04:50.308Z"
   },
   {
    "duration": 0,
    "start_time": "2022-05-28T19:04:50.309Z"
   },
   {
    "duration": 0,
    "start_time": "2022-05-28T19:04:50.310Z"
   },
   {
    "duration": 0,
    "start_time": "2022-05-28T19:04:50.311Z"
   },
   {
    "duration": 1631,
    "start_time": "2022-05-28T19:05:48.939Z"
   },
   {
    "duration": 21,
    "start_time": "2022-05-28T19:10:11.910Z"
   },
   {
    "duration": 20,
    "start_time": "2022-05-28T19:10:24.559Z"
   },
   {
    "duration": 20,
    "start_time": "2022-05-28T19:10:28.929Z"
   },
   {
    "duration": 15,
    "start_time": "2022-05-28T19:12:27.914Z"
   },
   {
    "duration": 7225,
    "start_time": "2022-05-28T19:12:33.720Z"
   },
   {
    "duration": 497,
    "start_time": "2022-05-28T19:19:44.556Z"
   },
   {
    "duration": 490,
    "start_time": "2022-05-28T19:20:10.312Z"
   },
   {
    "duration": 529,
    "start_time": "2022-05-28T19:22:36.117Z"
   },
   {
    "duration": 467,
    "start_time": "2022-05-28T19:23:23.894Z"
   },
   {
    "duration": 500,
    "start_time": "2022-05-28T19:23:39.934Z"
   },
   {
    "duration": 481,
    "start_time": "2022-05-28T19:27:04.985Z"
   },
   {
    "duration": 15,
    "start_time": "2022-05-28T19:27:35.664Z"
   },
   {
    "duration": 588,
    "start_time": "2022-05-28T19:29:34.207Z"
   },
   {
    "duration": 170,
    "start_time": "2022-05-28T19:30:40.115Z"
   },
   {
    "duration": 521,
    "start_time": "2022-05-28T19:30:58.434Z"
   },
   {
    "duration": 713,
    "start_time": "2022-05-28T19:31:07.986Z"
   },
   {
    "duration": 10,
    "start_time": "2022-05-28T19:31:12.354Z"
   },
   {
    "duration": 262,
    "start_time": "2022-05-28T19:31:17.658Z"
   },
   {
    "duration": 167,
    "start_time": "2022-05-28T19:32:16.196Z"
   },
   {
    "duration": 207,
    "start_time": "2022-05-28T19:32:48.987Z"
   },
   {
    "duration": 155,
    "start_time": "2022-05-28T19:32:56.922Z"
   },
   {
    "duration": 155,
    "start_time": "2022-05-28T19:34:10.052Z"
   },
   {
    "duration": 136,
    "start_time": "2022-05-28T19:34:35.436Z"
   },
   {
    "duration": 167,
    "start_time": "2022-05-28T19:34:52.902Z"
   },
   {
    "duration": 125,
    "start_time": "2022-05-28T19:35:05.332Z"
   },
   {
    "duration": 129,
    "start_time": "2022-05-28T19:36:06.510Z"
   },
   {
    "duration": 200,
    "start_time": "2022-05-28T19:36:18.069Z"
   },
   {
    "duration": 282,
    "start_time": "2022-05-28T19:38:03.990Z"
   },
   {
    "duration": 136,
    "start_time": "2022-05-28T19:40:45.112Z"
   },
   {
    "duration": 28,
    "start_time": "2022-05-28T19:41:22.753Z"
   },
   {
    "duration": 13,
    "start_time": "2022-05-28T19:41:36.760Z"
   },
   {
    "duration": 21,
    "start_time": "2022-05-28T19:41:44.608Z"
   },
   {
    "duration": 134,
    "start_time": "2022-05-28T19:42:15.232Z"
   },
   {
    "duration": 40,
    "start_time": "2022-05-28T19:43:10.193Z"
   },
   {
    "duration": 262,
    "start_time": "2022-05-28T19:43:14.818Z"
   },
   {
    "duration": 147,
    "start_time": "2022-05-28T19:43:23.490Z"
   },
   {
    "duration": 1134,
    "start_time": "2022-05-28T19:47:11.312Z"
   },
   {
    "duration": 2,
    "start_time": "2022-05-28T19:47:12.448Z"
   },
   {
    "duration": 75,
    "start_time": "2022-05-28T19:47:12.452Z"
   },
   {
    "duration": 13,
    "start_time": "2022-05-28T19:47:12.530Z"
   },
   {
    "duration": 10,
    "start_time": "2022-05-28T19:47:12.545Z"
   },
   {
    "duration": 13,
    "start_time": "2022-05-28T19:47:12.556Z"
   },
   {
    "duration": 19,
    "start_time": "2022-05-28T19:47:12.570Z"
   },
   {
    "duration": 21,
    "start_time": "2022-05-28T19:47:12.591Z"
   },
   {
    "duration": 7,
    "start_time": "2022-05-28T19:47:12.614Z"
   },
   {
    "duration": 200,
    "start_time": "2022-05-28T19:47:12.624Z"
   },
   {
    "duration": 11,
    "start_time": "2022-05-28T19:47:12.826Z"
   },
   {
    "duration": 14,
    "start_time": "2022-05-28T19:47:12.839Z"
   },
   {
    "duration": 15,
    "start_time": "2022-05-28T19:47:12.855Z"
   },
   {
    "duration": 37,
    "start_time": "2022-05-28T19:47:12.872Z"
   },
   {
    "duration": 28,
    "start_time": "2022-05-28T19:47:12.910Z"
   },
   {
    "duration": 132,
    "start_time": "2022-05-28T19:47:12.940Z"
   },
   {
    "duration": 104,
    "start_time": "2022-05-28T19:47:13.073Z"
   },
   {
    "duration": 15,
    "start_time": "2022-05-28T19:47:13.179Z"
   },
   {
    "duration": 22,
    "start_time": "2022-05-28T19:47:13.197Z"
   },
   {
    "duration": 22,
    "start_time": "2022-05-28T19:47:13.221Z"
   },
   {
    "duration": 21,
    "start_time": "2022-05-28T19:47:13.245Z"
   },
   {
    "duration": 21,
    "start_time": "2022-05-28T19:47:13.268Z"
   },
   {
    "duration": 59,
    "start_time": "2022-05-28T19:47:13.298Z"
   },
   {
    "duration": 141,
    "start_time": "2022-05-28T19:47:13.359Z"
   },
   {
    "duration": 12,
    "start_time": "2022-05-28T19:47:13.502Z"
   },
   {
    "duration": 11,
    "start_time": "2022-05-28T19:47:13.516Z"
   },
   {
    "duration": 24,
    "start_time": "2022-05-28T19:47:13.529Z"
   },
   {
    "duration": 21,
    "start_time": "2022-05-28T19:47:13.557Z"
   },
   {
    "duration": 48,
    "start_time": "2022-05-28T19:47:13.579Z"
   },
   {
    "duration": 88,
    "start_time": "2022-05-28T19:47:13.628Z"
   },
   {
    "duration": 27,
    "start_time": "2022-05-28T19:47:13.717Z"
   },
   {
    "duration": 7,
    "start_time": "2022-05-28T19:47:13.746Z"
   },
   {
    "duration": 14,
    "start_time": "2022-05-28T19:47:13.755Z"
   },
   {
    "duration": 37,
    "start_time": "2022-05-28T19:47:13.770Z"
   },
   {
    "duration": 12,
    "start_time": "2022-05-28T19:47:13.809Z"
   },
   {
    "duration": 20,
    "start_time": "2022-05-28T19:47:13.823Z"
   },
   {
    "duration": 60,
    "start_time": "2022-05-28T19:47:13.845Z"
   },
   {
    "duration": 1098,
    "start_time": "2022-05-28T19:47:13.907Z"
   },
   {
    "duration": 15,
    "start_time": "2022-05-28T19:47:15.007Z"
   },
   {
    "duration": 21,
    "start_time": "2022-05-28T19:47:15.024Z"
   },
   {
    "duration": 18,
    "start_time": "2022-05-28T19:47:15.047Z"
   },
   {
    "duration": 12,
    "start_time": "2022-05-28T19:47:15.066Z"
   },
   {
    "duration": 27,
    "start_time": "2022-05-28T19:47:15.079Z"
   },
   {
    "duration": 25,
    "start_time": "2022-05-28T19:47:15.109Z"
   },
   {
    "duration": 9,
    "start_time": "2022-05-28T19:47:15.136Z"
   },
   {
    "duration": 29,
    "start_time": "2022-05-28T19:47:15.146Z"
   },
   {
    "duration": 17,
    "start_time": "2022-05-28T19:47:15.177Z"
   },
   {
    "duration": 158,
    "start_time": "2022-05-28T19:47:15.196Z"
   },
   {
    "duration": 30,
    "start_time": "2022-05-28T19:47:15.356Z"
   },
   {
    "duration": 41,
    "start_time": "2022-05-28T19:47:15.394Z"
   },
   {
    "duration": 27,
    "start_time": "2022-05-28T19:47:15.436Z"
   },
   {
    "duration": 34,
    "start_time": "2022-05-28T19:47:15.465Z"
   },
   {
    "duration": 6,
    "start_time": "2022-05-28T19:47:15.502Z"
   },
   {
    "duration": 18,
    "start_time": "2022-05-28T19:47:15.510Z"
   },
   {
    "duration": 6,
    "start_time": "2022-05-28T19:47:15.530Z"
   },
   {
    "duration": 7,
    "start_time": "2022-05-28T19:47:15.538Z"
   },
   {
    "duration": 11,
    "start_time": "2022-05-28T19:47:15.547Z"
   },
   {
    "duration": 36,
    "start_time": "2022-05-28T19:47:15.560Z"
   },
   {
    "duration": 12,
    "start_time": "2022-05-28T19:47:15.599Z"
   },
   {
    "duration": 6,
    "start_time": "2022-05-28T19:47:15.612Z"
   },
   {
    "duration": 161,
    "start_time": "2022-05-28T19:47:15.619Z"
   },
   {
    "duration": 18,
    "start_time": "2022-05-28T19:47:15.781Z"
   },
   {
    "duration": 40,
    "start_time": "2022-05-28T19:47:15.801Z"
   },
   {
    "duration": 5,
    "start_time": "2022-05-28T19:47:15.843Z"
   },
   {
    "duration": 8,
    "start_time": "2022-05-28T19:47:15.849Z"
   },
   {
    "duration": 7,
    "start_time": "2022-05-28T19:47:15.858Z"
   },
   {
    "duration": 413,
    "start_time": "2022-05-28T19:47:15.867Z"
   },
   {
    "duration": 407,
    "start_time": "2022-05-28T19:47:16.282Z"
   },
   {
    "duration": 389,
    "start_time": "2022-05-28T19:47:16.690Z"
   },
   {
    "duration": 402,
    "start_time": "2022-05-28T19:47:17.081Z"
   },
   {
    "duration": 398,
    "start_time": "2022-05-28T19:47:17.485Z"
   },
   {
    "duration": 47,
    "start_time": "2022-05-28T19:47:17.894Z"
   },
   {
    "duration": 36,
    "start_time": "2022-05-28T19:47:17.942Z"
   },
   {
    "duration": 39,
    "start_time": "2022-05-28T19:47:17.979Z"
   },
   {
    "duration": 525,
    "start_time": "2022-05-28T19:47:18.019Z"
   },
   {
    "duration": 148,
    "start_time": "2022-05-28T19:47:18.546Z"
   },
   {
    "duration": 4452,
    "start_time": "2022-05-28T19:47:18.696Z"
   },
   {
    "duration": 1699,
    "start_time": "2022-05-28T19:47:23.150Z"
   },
   {
    "duration": 12,
    "start_time": "2022-05-28T19:47:24.850Z"
   },
   {
    "duration": 31,
    "start_time": "2022-05-28T19:47:24.864Z"
   },
   {
    "duration": 10,
    "start_time": "2022-05-28T19:47:24.897Z"
   },
   {
    "duration": 9,
    "start_time": "2022-05-28T19:47:24.914Z"
   },
   {
    "duration": 1170,
    "start_time": "2022-07-03T12:12:33.616Z"
   }
  ],
  "kernelspec": {
   "display_name": "Python 3 (ipykernel)",
   "language": "python",
   "name": "python3"
  },
  "language_info": {
   "codemirror_mode": {
    "name": "ipython",
    "version": 3
   },
   "file_extension": ".py",
   "mimetype": "text/x-python",
   "name": "python",
   "nbconvert_exporter": "python",
   "pygments_lexer": "ipython3",
   "version": "3.9.7"
  },
  "toc": {
   "base_numbering": 1,
   "nav_menu": {},
   "number_sections": true,
   "sideBar": true,
   "skip_h1_title": true,
   "title_cell": "Содержание",
   "title_sidebar": "Contents",
   "toc_cell": true,
   "toc_position": {
    "height": "calc(100% - 180px)",
    "left": "10px",
    "top": "150px",
    "width": "396.391px"
   },
   "toc_section_display": true,
   "toc_window_display": true
  }
 },
 "nbformat": 4,
 "nbformat_minor": 2
}
