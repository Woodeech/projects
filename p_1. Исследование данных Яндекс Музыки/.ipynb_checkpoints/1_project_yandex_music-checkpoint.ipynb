{
 "cells": [
  {
   "cell_type": "markdown",
   "metadata": {
    "toc": true
   },
   "source": [
    "<h1>Содержание<span class=\"tocSkip\"></span></h1>\n",
    "<div class=\"toc\"><ul class=\"toc-item\"><li><span><a href=\"#Обзор-данных\" data-toc-modified-id=\"Обзор-данных-1\"><span class=\"toc-item-num\">1&nbsp;&nbsp;</span>Обзор данных</a></span></li><li><span><a href=\"#Предобработка-данных\" data-toc-modified-id=\"Предобработка-данных-2\"><span class=\"toc-item-num\">2&nbsp;&nbsp;</span>Предобработка данных</a></span></li><li><span><a href=\"#Проверка-гипотез\" data-toc-modified-id=\"Проверка-гипотез-3\"><span class=\"toc-item-num\">3&nbsp;&nbsp;</span>Проверка гипотез</a></span><ul class=\"toc-item\"><li><span><a href=\"#Сравнение-поведения-пользователей-двух-столиц\" data-toc-modified-id=\"Сравнение-поведения-пользователей-двух-столиц-3.1\"><span class=\"toc-item-num\">3.1&nbsp;&nbsp;</span>Сравнение поведения пользователей двух столиц</a></span></li><li><span><a href=\"#Музыка-в-начале-и-в-конце-недели\" data-toc-modified-id=\"Музыка-в-начале-и-в-конце-недели-3.2\"><span class=\"toc-item-num\">3.2&nbsp;&nbsp;</span>Музыка в начале и в конце недели</a></span></li><li><span><a href=\"#Жанровые-предпочтения-в-Москве-и-Петербурге\" data-toc-modified-id=\"Жанровые-предпочтения-в-Москве-и-Петербурге-3.3\"><span class=\"toc-item-num\">3.3&nbsp;&nbsp;</span>Жанровые предпочтения в Москве и Петербурге</a></span></li></ul></li><li><span><a href=\"#Итоги-исследования\" data-toc-modified-id=\"Итоги-исследования-4\"><span class=\"toc-item-num\">4&nbsp;&nbsp;</span>Итоги исследования</a></span></li></ul></div>"
   ]
  },
  {
   "cell_type": "markdown",
   "metadata": {
    "id": "E0vqbgi9ay0H"
   },
   "source": [
    "# Яндекс.Музыка"
   ]
  },
  {
   "cell_type": "markdown",
   "metadata": {
    "id": "VUC88oWjTJw2"
   },
   "source": [
    "Сравнение Москвы и Петербурга окружено мифами. Например:\n",
    " * Москва;\n",
    " * Петербург.\n",
    "\n",
    "**Цель исследования** — проверить три гипотезы:\n",
    "1. Активность пользователей зависит от дня недели. Причём в Москве и Петербурге это проявляется по-разному.\n",
    "2. В понедельник утром в Москве преобладают одни жанры, а в Петербурге — другие. Так же и вечером пятницы преобладают разные жанры — в зависимости от города. \n",
    "3. Москва и Петербург предпочитают разные жанры музыки. В Москве чаще слушают поп-музыку, в Петербурге — русский рэп."
   ]
  },
  {
   "cell_type": "markdown",
   "metadata": {
    "id": "Ml1hmfXC_Zcs"
   },
   "source": [
    "## Обзор данных"
   ]
  },
  {
   "cell_type": "code",
   "execution_count": 1,
   "metadata": {
    "id": "AXN7PHPN_Zcs"
   },
   "outputs": [],
   "source": [
    "# импорт библиотеки pandas\n",
    "import pandas as pd"
   ]
  },
  {
   "cell_type": "markdown",
   "metadata": {
    "id": "SG23P8tt_Zcs"
   },
   "source": [
    "Прочитаем файл `yandex_music_project.csv` из папки `/datasets` и сохраним его в переменной `df`:"
   ]
  },
  {
   "cell_type": "code",
   "execution_count": 2,
   "metadata": {
    "id": "fFVu7vqh_Zct"
   },
   "outputs": [],
   "source": [
    "# чтение файла с данными и сохранение в df\n",
    "df = pd.read_csv('/datasets/yandex_music_project.csv')"
   ]
  },
  {
   "cell_type": "code",
   "execution_count": 3,
   "metadata": {
    "id": "oWTVX3gW_Zct"
   },
   "outputs": [
    {
     "data": {
      "text/html": [
       "<div>\n",
       "<style scoped>\n",
       "    .dataframe tbody tr th:only-of-type {\n",
       "        vertical-align: middle;\n",
       "    }\n",
       "\n",
       "    .dataframe tbody tr th {\n",
       "        vertical-align: top;\n",
       "    }\n",
       "\n",
       "    .dataframe thead th {\n",
       "        text-align: right;\n",
       "    }\n",
       "</style>\n",
       "<table border=\"1\" class=\"dataframe\">\n",
       "  <thead>\n",
       "    <tr style=\"text-align: right;\">\n",
       "      <th></th>\n",
       "      <th>userID</th>\n",
       "      <th>Track</th>\n",
       "      <th>artist</th>\n",
       "      <th>genre</th>\n",
       "      <th>City</th>\n",
       "      <th>time</th>\n",
       "      <th>Day</th>\n",
       "    </tr>\n",
       "  </thead>\n",
       "  <tbody>\n",
       "    <tr>\n",
       "      <td>0</td>\n",
       "      <td>FFB692EC</td>\n",
       "      <td>Kamigata To Boots</td>\n",
       "      <td>The Mass Missile</td>\n",
       "      <td>rock</td>\n",
       "      <td>Saint-Petersburg</td>\n",
       "      <td>20:28:33</td>\n",
       "      <td>Wednesday</td>\n",
       "    </tr>\n",
       "    <tr>\n",
       "      <td>1</td>\n",
       "      <td>55204538</td>\n",
       "      <td>Delayed Because of Accident</td>\n",
       "      <td>Andreas Rönnberg</td>\n",
       "      <td>rock</td>\n",
       "      <td>Moscow</td>\n",
       "      <td>14:07:09</td>\n",
       "      <td>Friday</td>\n",
       "    </tr>\n",
       "    <tr>\n",
       "      <td>2</td>\n",
       "      <td>20EC38</td>\n",
       "      <td>Funiculì funiculà</td>\n",
       "      <td>Mario Lanza</td>\n",
       "      <td>pop</td>\n",
       "      <td>Saint-Petersburg</td>\n",
       "      <td>20:58:07</td>\n",
       "      <td>Wednesday</td>\n",
       "    </tr>\n",
       "    <tr>\n",
       "      <td>3</td>\n",
       "      <td>A3DD03C9</td>\n",
       "      <td>Dragons in the Sunset</td>\n",
       "      <td>Fire + Ice</td>\n",
       "      <td>folk</td>\n",
       "      <td>Saint-Petersburg</td>\n",
       "      <td>08:37:09</td>\n",
       "      <td>Monday</td>\n",
       "    </tr>\n",
       "    <tr>\n",
       "      <td>4</td>\n",
       "      <td>E2DC1FAE</td>\n",
       "      <td>Soul People</td>\n",
       "      <td>Space Echo</td>\n",
       "      <td>dance</td>\n",
       "      <td>Moscow</td>\n",
       "      <td>08:34:34</td>\n",
       "      <td>Monday</td>\n",
       "    </tr>\n",
       "    <tr>\n",
       "      <td>5</td>\n",
       "      <td>842029A1</td>\n",
       "      <td>Преданная</td>\n",
       "      <td>IMPERVTOR</td>\n",
       "      <td>rusrap</td>\n",
       "      <td>Saint-Petersburg</td>\n",
       "      <td>13:09:41</td>\n",
       "      <td>Friday</td>\n",
       "    </tr>\n",
       "    <tr>\n",
       "      <td>6</td>\n",
       "      <td>4CB90AA5</td>\n",
       "      <td>True</td>\n",
       "      <td>Roman Messer</td>\n",
       "      <td>dance</td>\n",
       "      <td>Moscow</td>\n",
       "      <td>13:00:07</td>\n",
       "      <td>Wednesday</td>\n",
       "    </tr>\n",
       "    <tr>\n",
       "      <td>7</td>\n",
       "      <td>F03E1C1F</td>\n",
       "      <td>Feeling This Way</td>\n",
       "      <td>Polina Griffith</td>\n",
       "      <td>dance</td>\n",
       "      <td>Moscow</td>\n",
       "      <td>20:47:49</td>\n",
       "      <td>Wednesday</td>\n",
       "    </tr>\n",
       "    <tr>\n",
       "      <td>8</td>\n",
       "      <td>8FA1D3BE</td>\n",
       "      <td>И вновь продолжается бой</td>\n",
       "      <td>NaN</td>\n",
       "      <td>ruspop</td>\n",
       "      <td>Moscow</td>\n",
       "      <td>09:17:40</td>\n",
       "      <td>Friday</td>\n",
       "    </tr>\n",
       "    <tr>\n",
       "      <td>9</td>\n",
       "      <td>E772D5C0</td>\n",
       "      <td>Pessimist</td>\n",
       "      <td>NaN</td>\n",
       "      <td>dance</td>\n",
       "      <td>Saint-Petersburg</td>\n",
       "      <td>21:20:49</td>\n",
       "      <td>Wednesday</td>\n",
       "    </tr>\n",
       "  </tbody>\n",
       "</table>\n",
       "</div>"
      ],
      "text/plain": [
       "     userID                        Track            artist   genre  \\\n",
       "0  FFB692EC            Kamigata To Boots  The Mass Missile    rock   \n",
       "1  55204538  Delayed Because of Accident  Andreas Rönnberg    rock   \n",
       "2    20EC38            Funiculì funiculà       Mario Lanza     pop   \n",
       "3  A3DD03C9        Dragons in the Sunset        Fire + Ice    folk   \n",
       "4  E2DC1FAE                  Soul People        Space Echo   dance   \n",
       "5  842029A1                    Преданная         IMPERVTOR  rusrap   \n",
       "6  4CB90AA5                         True      Roman Messer   dance   \n",
       "7  F03E1C1F             Feeling This Way   Polina Griffith   dance   \n",
       "8  8FA1D3BE     И вновь продолжается бой               NaN  ruspop   \n",
       "9  E772D5C0                    Pessimist               NaN   dance   \n",
       "\n",
       "             City        time        Day  \n",
       "0  Saint-Petersburg  20:28:33  Wednesday  \n",
       "1            Moscow  14:07:09     Friday  \n",
       "2  Saint-Petersburg  20:58:07  Wednesday  \n",
       "3  Saint-Petersburg  08:37:09     Monday  \n",
       "4            Moscow  08:34:34     Monday  \n",
       "5  Saint-Petersburg  13:09:41     Friday  \n",
       "6            Moscow  13:00:07  Wednesday  \n",
       "7            Moscow  20:47:49  Wednesday  \n",
       "8            Moscow  09:17:40     Friday  \n",
       "9  Saint-Petersburg  21:20:49  Wednesday  "
      ]
     },
     "metadata": {},
     "output_type": "display_data"
    }
   ],
   "source": [
    "# получение первых 10 строк таблицы df\n",
    "display(df.head(10)) "
   ]
  },
  {
   "cell_type": "code",
   "execution_count": 4,
   "metadata": {
    "id": "DSf2kIb-_Zct"
   },
   "outputs": [
    {
     "name": "stdout",
     "output_type": "stream",
     "text": [
      "<class 'pandas.core.frame.DataFrame'>\n",
      "RangeIndex: 65079 entries, 0 to 65078\n",
      "Data columns (total 7 columns):\n",
      "  userID    65079 non-null object\n",
      "Track       63848 non-null object\n",
      "artist      57876 non-null object\n",
      "genre       63881 non-null object\n",
      "  City      65079 non-null object\n",
      "time        65079 non-null object\n",
      "Day         65079 non-null object\n",
      "dtypes: object(7)\n",
      "memory usage: 3.5+ MB\n"
     ]
    }
   ],
   "source": [
    "# получение общей информации о данных в таблице df\n",
    "df.info()"
   ]
  },
  {
   "cell_type": "markdown",
   "metadata": {
    "id": "TaQ2Iwbr_Zct"
   },
   "source": [
    "Итак, в таблице семь столбцов. Тип данных во всех столбцах — `object`.\n",
    "\n",
    "Согласно документации к данным:\n",
    "* `userID` — идентификатор пользователя;\n",
    "* `Track` — название трека;  \n",
    "* `artist` — имя исполнителя;\n",
    "* `genre` — название жанра;\n",
    "* `City` — город пользователя;\n",
    "* `time` — время начала прослушивания;\n",
    "* `Day` — день недели.\n",
    "\n",
    "В названиях колонок видны три нарушения стиля:\n",
    "1. Строчные буквы сочетаются с прописными.\n",
    "2. Встречаются пробелы.\n",
    "3. Несколько слов написанны слитно, не соблюдается змеиный регистр.\n",
    "\n",
    "\n",
    "\n",
    "Количество значений в столбцах различается. Значит, в данных есть пропущенные значения.\n"
   ]
  },
  {
   "cell_type": "markdown",
   "metadata": {
    "id": "MCB6-dXG_Zct"
   },
   "source": [
    "**Выводы**\n",
    "\n",
    "В каждой строке таблицы — данные о прослушанном треке. Часть колонок описывает саму композицию: название, исполнителя и жанр. Остальные данные рассказывают о пользователе: из какого он города, когда он слушал музыку. \n",
    "\n",
    "Предварительно можно утверждать, что, данных достаточно для проверки гипотез. Но встречаются пропуски в данных, а в названиях колонок — расхождения с хорошим стилем.\n",
    "\n",
    "Чтобы двигаться дальше, нужно устранить проблемы в данных."
   ]
  },
  {
   "cell_type": "markdown",
   "metadata": {
    "id": "SjYF6Ub9_Zct"
   },
   "source": [
    "## Предобработка данных\n",
    "Исправим стиль в заголовках столбцов, исключим пропуски. Затем проверим данные на дубликаты."
   ]
  },
  {
   "cell_type": "code",
   "execution_count": 5,
   "metadata": {
    "id": "oKOTdF_Q_Zct"
   },
   "outputs": [
    {
     "data": {
      "text/plain": [
       "Index(['  userID', 'Track', 'artist', 'genre', '  City  ', 'time', 'Day'], dtype='object')"
      ]
     },
     "metadata": {},
     "output_type": "display_data"
    }
   ],
   "source": [
    "# перечень названий столбцов таблицы df\n",
    "display(df.columns)"
   ]
  },
  {
   "cell_type": "code",
   "execution_count": 6,
   "metadata": {
    "id": "ISlFqs5y_Zct"
   },
   "outputs": [],
   "source": [
    "# переименование столбцов\n",
    "df = df.rename(columns={'  userID' : 'user_id', 'Track' : 'track', '  City  ' : 'city', 'Day' : 'day'})"
   ]
  },
  {
   "cell_type": "markdown",
   "metadata": {
    "id": "1dqbh00J_Zct"
   },
   "source": [
    "Проверьте результат. Для этого ещё раз выведим на экран названия столбцов:"
   ]
  },
  {
   "cell_type": "code",
   "execution_count": 7,
   "metadata": {
    "id": "d4NOAmTW_Zct"
   },
   "outputs": [
    {
     "data": {
      "text/plain": [
       "Index(['user_id', 'track', 'artist', 'genre', 'city', 'time', 'day'], dtype='object')"
      ]
     },
     "metadata": {},
     "output_type": "display_data"
    }
   ],
   "source": [
    "# проверка результатов - перечень названий столбцов\n",
    "display(df.columns)"
   ]
  },
  {
   "cell_type": "code",
   "execution_count": 8,
   "metadata": {
    "id": "RskX29qr_Zct"
   },
   "outputs": [
    {
     "data": {
      "text/plain": [
       "user_id       0\n",
       "track      1231\n",
       "artist     7203\n",
       "genre      1198\n",
       "city          0\n",
       "time          0\n",
       "day           0\n",
       "dtype: int64"
      ]
     },
     "metadata": {},
     "output_type": "display_data"
    }
   ],
   "source": [
    "# подсчёт пропусков\n",
    "display(df.isna().sum())"
   ]
  },
  {
   "cell_type": "markdown",
   "metadata": {
    "id": "qubhgnlO_Zct"
   },
   "source": [
    "Не все пропущенные значения влияют на исследование. Так в `track` и `artist` пропуски не важны для вашей работы. Достаточно заменить их явными обозначениями.\n",
    "\n",
    "Но пропуски в `genre` могут помешать сравнению музыкальных вкусов в Москве и Санкт-Петербурге. На практике было бы правильно установить причину пропусков и восстановить данные. Такой возможности нет в учебном проекте. Придётся:\n",
    "* заполнить и эти пропуски явными обозначениями,\n",
    "* оценить, насколько они повредят расчётам. "
   ]
  },
  {
   "cell_type": "markdown",
   "metadata": {
    "id": "fSv2laPA_Zct"
   },
   "source": [
    "Заменим пропущенные значения в столбцах `track`, `artist` и `genre` на строку `'unknown'`. Для этого создадим список `columns_to_replace`, переберем его элементы циклом `for` и для каждого столбца выполним замену пропущенных значений:"
   ]
  },
  {
   "cell_type": "code",
   "execution_count": 9,
   "metadata": {
    "id": "KplB5qWs_Zct"
   },
   "outputs": [],
   "source": [
    "# список столбцов\n",
    "columns_to_replace = ['track', 'artist', 'genre']\n",
    "# перебор названий столбцов в цикле и замена пропущенных значений на 'unknown'\n",
    "for column in columns_to_replace:\n",
    "    df[column] = df[column].fillna('unknown') "
   ]
  },
  {
   "cell_type": "markdown",
   "metadata": {
    "id": "Ilsm-MZo_Zct"
   },
   "source": [
    "Убедимся, что в таблице не осталось пропусков"
   ]
  },
  {
   "cell_type": "code",
   "execution_count": 10,
   "metadata": {
    "id": "Tq4nYRX4_Zct"
   },
   "outputs": [
    {
     "data": {
      "text/plain": [
       "user_id    0\n",
       "track      0\n",
       "artist     0\n",
       "genre      0\n",
       "city       0\n",
       "time       0\n",
       "day        0\n",
       "dtype: int64"
      ]
     },
     "metadata": {},
     "output_type": "display_data"
    }
   ],
   "source": [
    "# подсчёт пропусков\n",
    "display(df.isna().sum())"
   ]
  },
  {
   "cell_type": "code",
   "execution_count": 11,
   "metadata": {
    "id": "36eES_S0_Zct"
   },
   "outputs": [
    {
     "data": {
      "text/plain": [
       "3826"
      ]
     },
     "metadata": {},
     "output_type": "display_data"
    }
   ],
   "source": [
    "# подсчёт явных дубликатов\n",
    "display(df.duplicated().sum())"
   ]
  },
  {
   "cell_type": "code",
   "execution_count": 12,
   "metadata": {
    "id": "exFHq6tt_Zct"
   },
   "outputs": [],
   "source": [
    "# удаление явных дубликатов (с удалением старых индексов и формированием новых)\n",
    "df = df.drop_duplicates().reset_index(drop=True)"
   ]
  },
  {
   "cell_type": "markdown",
   "metadata": {
    "id": "Im2YwBEG_Zct"
   },
   "source": [
    "Ещё раз посчитаем явные дубликаты в таблице — убедимся, что полностью от них избавились:"
   ]
  },
  {
   "cell_type": "code",
   "execution_count": 13,
   "metadata": {
    "id": "-8PuNWQ0_Zct"
   },
   "outputs": [
    {
     "data": {
      "text/plain": [
       "0"
      ]
     },
     "metadata": {},
     "output_type": "display_data"
    }
   ],
   "source": [
    "# проверка на отсутствие дубликатов\n",
    "display(df.duplicated().sum())"
   ]
  },
  {
   "cell_type": "markdown",
   "metadata": {
    "id": "QlFBsxAr_Zct"
   },
   "source": [
    "Теперь избавимся от неявных дубликатов в колонке `genre`"
   ]
  },
  {
   "cell_type": "markdown",
   "metadata": {
    "id": "eSjWwsOh_Zct"
   },
   "source": [
    "Выведим на экран список уникальных названий жанров, отсортированный в алфавитном порядке. Для этого:\n",
    "* извлечем нужный столбец датафрейма, \n",
    "* применим к нему метод сортировки,\n",
    "* для отсортированного столбца вызовим метод, который вернёт уникальные значения из столбца."
   ]
  },
  {
   "cell_type": "code",
   "execution_count": 14,
   "metadata": {
    "id": "JIUcqzZN_Zct"
   },
   "outputs": [
    {
     "data": {
      "text/plain": [
       "['acid',\n",
       " 'acoustic',\n",
       " 'action',\n",
       " 'adult',\n",
       " 'africa',\n",
       " 'afrikaans',\n",
       " 'alternative',\n",
       " 'alternativepunk',\n",
       " 'ambient',\n",
       " 'americana',\n",
       " 'animated',\n",
       " 'anime',\n",
       " 'arabesk',\n",
       " 'arabic',\n",
       " 'arena',\n",
       " 'argentinetango',\n",
       " 'art',\n",
       " 'audiobook',\n",
       " 'author',\n",
       " 'avantgarde',\n",
       " 'axé',\n",
       " 'baile',\n",
       " 'balkan',\n",
       " 'beats',\n",
       " 'bigroom',\n",
       " 'black',\n",
       " 'bluegrass',\n",
       " 'blues',\n",
       " 'bollywood',\n",
       " 'bossa',\n",
       " 'brazilian',\n",
       " 'breakbeat',\n",
       " 'breaks',\n",
       " 'broadway',\n",
       " 'cantautori',\n",
       " 'cantopop',\n",
       " 'canzone',\n",
       " 'caribbean',\n",
       " 'caucasian',\n",
       " 'celtic',\n",
       " 'chamber',\n",
       " 'chanson',\n",
       " 'children',\n",
       " 'chill',\n",
       " 'chinese',\n",
       " 'choral',\n",
       " 'christian',\n",
       " 'christmas',\n",
       " 'classical',\n",
       " 'classicmetal',\n",
       " 'club',\n",
       " 'colombian',\n",
       " 'comedy',\n",
       " 'conjazz',\n",
       " 'contemporary',\n",
       " 'country',\n",
       " 'cuban',\n",
       " 'dance',\n",
       " 'dancehall',\n",
       " 'dancepop',\n",
       " 'dark',\n",
       " 'death',\n",
       " 'deep',\n",
       " 'deutschrock',\n",
       " 'deutschspr',\n",
       " 'dirty',\n",
       " 'disco',\n",
       " 'dnb',\n",
       " 'documentary',\n",
       " 'downbeat',\n",
       " 'downtempo',\n",
       " 'drum',\n",
       " 'dub',\n",
       " 'dubstep',\n",
       " 'eastern',\n",
       " 'easy',\n",
       " 'electronic',\n",
       " 'electropop',\n",
       " 'emo',\n",
       " 'entehno',\n",
       " 'epicmetal',\n",
       " 'estrada',\n",
       " 'ethnic',\n",
       " 'eurofolk',\n",
       " 'european',\n",
       " 'experimental',\n",
       " 'extrememetal',\n",
       " 'fado',\n",
       " 'fairytail',\n",
       " 'film',\n",
       " 'fitness',\n",
       " 'flamenco',\n",
       " 'folk',\n",
       " 'folklore',\n",
       " 'folkmetal',\n",
       " 'folkrock',\n",
       " 'folktronica',\n",
       " 'forró',\n",
       " 'frankreich',\n",
       " 'französisch',\n",
       " 'french',\n",
       " 'funk',\n",
       " 'future',\n",
       " 'gangsta',\n",
       " 'garage',\n",
       " 'german',\n",
       " 'ghazal',\n",
       " 'gitarre',\n",
       " 'glitch',\n",
       " 'gospel',\n",
       " 'gothic',\n",
       " 'grime',\n",
       " 'grunge',\n",
       " 'gypsy',\n",
       " 'handsup',\n",
       " \"hard'n'heavy\",\n",
       " 'hardcore',\n",
       " 'hardstyle',\n",
       " 'hardtechno',\n",
       " 'hip',\n",
       " 'hip-hop',\n",
       " 'hiphop',\n",
       " 'historisch',\n",
       " 'holiday',\n",
       " 'hop',\n",
       " 'horror',\n",
       " 'house',\n",
       " 'hymn',\n",
       " 'idm',\n",
       " 'independent',\n",
       " 'indian',\n",
       " 'indie',\n",
       " 'indipop',\n",
       " 'industrial',\n",
       " 'inspirational',\n",
       " 'instrumental',\n",
       " 'international',\n",
       " 'irish',\n",
       " 'jam',\n",
       " 'japanese',\n",
       " 'jazz',\n",
       " 'jewish',\n",
       " 'jpop',\n",
       " 'jungle',\n",
       " 'k-pop',\n",
       " 'karadeniz',\n",
       " 'karaoke',\n",
       " 'kayokyoku',\n",
       " 'korean',\n",
       " 'laiko',\n",
       " 'latin',\n",
       " 'latino',\n",
       " 'leftfield',\n",
       " 'local',\n",
       " 'lounge',\n",
       " 'loungeelectronic',\n",
       " 'lovers',\n",
       " 'malaysian',\n",
       " 'mandopop',\n",
       " 'marschmusik',\n",
       " 'meditative',\n",
       " 'mediterranean',\n",
       " 'melodic',\n",
       " 'metal',\n",
       " 'metalcore',\n",
       " 'mexican',\n",
       " 'middle',\n",
       " 'minimal',\n",
       " 'miscellaneous',\n",
       " 'modern',\n",
       " 'mood',\n",
       " 'mpb',\n",
       " 'muslim',\n",
       " 'native',\n",
       " 'neoklassik',\n",
       " 'neue',\n",
       " 'new',\n",
       " 'newage',\n",
       " 'newwave',\n",
       " 'nu',\n",
       " 'nujazz',\n",
       " 'numetal',\n",
       " 'oceania',\n",
       " 'old',\n",
       " 'opera',\n",
       " 'orchestral',\n",
       " 'other',\n",
       " 'piano',\n",
       " 'podcasts',\n",
       " 'pop',\n",
       " 'popdance',\n",
       " 'popelectronic',\n",
       " 'popeurodance',\n",
       " 'poprussian',\n",
       " 'post',\n",
       " 'posthardcore',\n",
       " 'postrock',\n",
       " 'power',\n",
       " 'progmetal',\n",
       " 'progressive',\n",
       " 'psychedelic',\n",
       " 'punjabi',\n",
       " 'punk',\n",
       " 'quebecois',\n",
       " 'ragga',\n",
       " 'ram',\n",
       " 'rancheras',\n",
       " 'rap',\n",
       " 'rave',\n",
       " 'reggae',\n",
       " 'reggaeton',\n",
       " 'regional',\n",
       " 'relax',\n",
       " 'religious',\n",
       " 'retro',\n",
       " 'rhythm',\n",
       " 'rnb',\n",
       " 'rnr',\n",
       " 'rock',\n",
       " 'rockabilly',\n",
       " 'rockalternative',\n",
       " 'rockindie',\n",
       " 'rockother',\n",
       " 'romance',\n",
       " 'roots',\n",
       " 'ruspop',\n",
       " 'rusrap',\n",
       " 'rusrock',\n",
       " 'russian',\n",
       " 'salsa',\n",
       " 'samba',\n",
       " 'scenic',\n",
       " 'schlager',\n",
       " 'self',\n",
       " 'sertanejo',\n",
       " 'shanson',\n",
       " 'shoegazing',\n",
       " 'showtunes',\n",
       " 'singer',\n",
       " 'ska',\n",
       " 'skarock',\n",
       " 'slow',\n",
       " 'smooth',\n",
       " 'soft',\n",
       " 'soul',\n",
       " 'soulful',\n",
       " 'sound',\n",
       " 'soundtrack',\n",
       " 'southern',\n",
       " 'specialty',\n",
       " 'speech',\n",
       " 'spiritual',\n",
       " 'sport',\n",
       " 'stonerrock',\n",
       " 'surf',\n",
       " 'swing',\n",
       " 'synthpop',\n",
       " 'synthrock',\n",
       " 'sängerportrait',\n",
       " 'tango',\n",
       " 'tanzorchester',\n",
       " 'taraftar',\n",
       " 'tatar',\n",
       " 'tech',\n",
       " 'techno',\n",
       " 'teen',\n",
       " 'thrash',\n",
       " 'top',\n",
       " 'traditional',\n",
       " 'tradjazz',\n",
       " 'trance',\n",
       " 'tribal',\n",
       " 'trip',\n",
       " 'triphop',\n",
       " 'tropical',\n",
       " 'türk',\n",
       " 'türkçe',\n",
       " 'ukrrock',\n",
       " 'unknown',\n",
       " 'urban',\n",
       " 'uzbek',\n",
       " 'variété',\n",
       " 'vi',\n",
       " 'videogame',\n",
       " 'vocal',\n",
       " 'western',\n",
       " 'world',\n",
       " 'worldbeat',\n",
       " 'ïîï',\n",
       " 'электроника']"
      ]
     },
     "metadata": {},
     "output_type": "display_data"
    }
   ],
   "source": [
    "# просмотр уникальных названий жанров\n",
    "display(sorted(df['genre'].unique()))"
   ]
  },
  {
   "cell_type": "markdown",
   "metadata": {
    "id": "qej-Qmuo_Zct"
   },
   "source": [
    "Просмотрим список и найдем неявные дубликаты названия `hiphop`. Это могут быть названия с ошибками или альтернативные названия того же жанра.\n",
    "\n",
    "Мы увидели следующие неявные дубликаты:\n",
    "* *hip*,\n",
    "* *hop*,\n",
    "* *hip-hop*.\n",
    "\n",
    "Чтобы очистить от них таблицу, напишем функцию `replace_wrong_genres()` с двумя параметрами: \n",
    "* `wrong_genres` — список дубликатов,\n",
    "* `correct_genre` — строка с правильным значением.\n",
    "\n",
    "Функция должна исправить колонку `genre` в таблице `df`: заменить каждое значение из списка `wrong_genres` на значение из `correct_genre`."
   ]
  },
  {
   "cell_type": "code",
   "execution_count": 15,
   "metadata": {
    "id": "ErNDkmns_Zct"
   },
   "outputs": [],
   "source": [
    "def replace_wrong_genres(wrong_genres, correct_genre): # функция для замены неявных дубликатов\n",
    "    for wrong_genre in wrong_genres: # перебираем неправильные названия жанров\n",
    "        df['genre'] = df['genre'].replace(wrong_genres, correct_genre) # для каждого неправильного названия жанра вызываем метод replace()   \n",
    "duplicates_genre = ['hip', 'hop', 'hip-hop'] # список неправильных названий жанров\n",
    "correct_name_genre = 'hiphop' # правельное название жанра"
   ]
  },
  {
   "cell_type": "code",
   "execution_count": 16,
   "metadata": {
    "id": "YN5i2hpmSo09"
   },
   "outputs": [],
   "source": [
    "# вызов функции и устранение неявных дубликатов\n",
    "replace_wrong_genres(duplicates_genre, correct_name_genre)"
   ]
  },
  {
   "cell_type": "markdown",
   "metadata": {
    "id": "zQKF16_RG15m"
   },
   "source": [
    "Проверим, что заменили неправильные названия:\n",
    "\n",
    "*   hip\n",
    "*   hop\n",
    "*   hip-hop\n",
    "\n",
    "Выведем отсортированный список уникальных значений столбца `genre`:"
   ]
  },
  {
   "cell_type": "code",
   "execution_count": 17,
   "metadata": {
    "id": "wvixALnFG15m"
   },
   "outputs": [
    {
     "data": {
      "text/plain": [
       "['acid',\n",
       " 'acoustic',\n",
       " 'action',\n",
       " 'adult',\n",
       " 'africa',\n",
       " 'afrikaans',\n",
       " 'alternative',\n",
       " 'alternativepunk',\n",
       " 'ambient',\n",
       " 'americana',\n",
       " 'animated',\n",
       " 'anime',\n",
       " 'arabesk',\n",
       " 'arabic',\n",
       " 'arena',\n",
       " 'argentinetango',\n",
       " 'art',\n",
       " 'audiobook',\n",
       " 'author',\n",
       " 'avantgarde',\n",
       " 'axé',\n",
       " 'baile',\n",
       " 'balkan',\n",
       " 'beats',\n",
       " 'bigroom',\n",
       " 'black',\n",
       " 'bluegrass',\n",
       " 'blues',\n",
       " 'bollywood',\n",
       " 'bossa',\n",
       " 'brazilian',\n",
       " 'breakbeat',\n",
       " 'breaks',\n",
       " 'broadway',\n",
       " 'cantautori',\n",
       " 'cantopop',\n",
       " 'canzone',\n",
       " 'caribbean',\n",
       " 'caucasian',\n",
       " 'celtic',\n",
       " 'chamber',\n",
       " 'chanson',\n",
       " 'children',\n",
       " 'chill',\n",
       " 'chinese',\n",
       " 'choral',\n",
       " 'christian',\n",
       " 'christmas',\n",
       " 'classical',\n",
       " 'classicmetal',\n",
       " 'club',\n",
       " 'colombian',\n",
       " 'comedy',\n",
       " 'conjazz',\n",
       " 'contemporary',\n",
       " 'country',\n",
       " 'cuban',\n",
       " 'dance',\n",
       " 'dancehall',\n",
       " 'dancepop',\n",
       " 'dark',\n",
       " 'death',\n",
       " 'deep',\n",
       " 'deutschrock',\n",
       " 'deutschspr',\n",
       " 'dirty',\n",
       " 'disco',\n",
       " 'dnb',\n",
       " 'documentary',\n",
       " 'downbeat',\n",
       " 'downtempo',\n",
       " 'drum',\n",
       " 'dub',\n",
       " 'dubstep',\n",
       " 'eastern',\n",
       " 'easy',\n",
       " 'electronic',\n",
       " 'electropop',\n",
       " 'emo',\n",
       " 'entehno',\n",
       " 'epicmetal',\n",
       " 'estrada',\n",
       " 'ethnic',\n",
       " 'eurofolk',\n",
       " 'european',\n",
       " 'experimental',\n",
       " 'extrememetal',\n",
       " 'fado',\n",
       " 'fairytail',\n",
       " 'film',\n",
       " 'fitness',\n",
       " 'flamenco',\n",
       " 'folk',\n",
       " 'folklore',\n",
       " 'folkmetal',\n",
       " 'folkrock',\n",
       " 'folktronica',\n",
       " 'forró',\n",
       " 'frankreich',\n",
       " 'französisch',\n",
       " 'french',\n",
       " 'funk',\n",
       " 'future',\n",
       " 'gangsta',\n",
       " 'garage',\n",
       " 'german',\n",
       " 'ghazal',\n",
       " 'gitarre',\n",
       " 'glitch',\n",
       " 'gospel',\n",
       " 'gothic',\n",
       " 'grime',\n",
       " 'grunge',\n",
       " 'gypsy',\n",
       " 'handsup',\n",
       " \"hard'n'heavy\",\n",
       " 'hardcore',\n",
       " 'hardstyle',\n",
       " 'hardtechno',\n",
       " 'hiphop',\n",
       " 'historisch',\n",
       " 'holiday',\n",
       " 'horror',\n",
       " 'house',\n",
       " 'hymn',\n",
       " 'idm',\n",
       " 'independent',\n",
       " 'indian',\n",
       " 'indie',\n",
       " 'indipop',\n",
       " 'industrial',\n",
       " 'inspirational',\n",
       " 'instrumental',\n",
       " 'international',\n",
       " 'irish',\n",
       " 'jam',\n",
       " 'japanese',\n",
       " 'jazz',\n",
       " 'jewish',\n",
       " 'jpop',\n",
       " 'jungle',\n",
       " 'k-pop',\n",
       " 'karadeniz',\n",
       " 'karaoke',\n",
       " 'kayokyoku',\n",
       " 'korean',\n",
       " 'laiko',\n",
       " 'latin',\n",
       " 'latino',\n",
       " 'leftfield',\n",
       " 'local',\n",
       " 'lounge',\n",
       " 'loungeelectronic',\n",
       " 'lovers',\n",
       " 'malaysian',\n",
       " 'mandopop',\n",
       " 'marschmusik',\n",
       " 'meditative',\n",
       " 'mediterranean',\n",
       " 'melodic',\n",
       " 'metal',\n",
       " 'metalcore',\n",
       " 'mexican',\n",
       " 'middle',\n",
       " 'minimal',\n",
       " 'miscellaneous',\n",
       " 'modern',\n",
       " 'mood',\n",
       " 'mpb',\n",
       " 'muslim',\n",
       " 'native',\n",
       " 'neoklassik',\n",
       " 'neue',\n",
       " 'new',\n",
       " 'newage',\n",
       " 'newwave',\n",
       " 'nu',\n",
       " 'nujazz',\n",
       " 'numetal',\n",
       " 'oceania',\n",
       " 'old',\n",
       " 'opera',\n",
       " 'orchestral',\n",
       " 'other',\n",
       " 'piano',\n",
       " 'podcasts',\n",
       " 'pop',\n",
       " 'popdance',\n",
       " 'popelectronic',\n",
       " 'popeurodance',\n",
       " 'poprussian',\n",
       " 'post',\n",
       " 'posthardcore',\n",
       " 'postrock',\n",
       " 'power',\n",
       " 'progmetal',\n",
       " 'progressive',\n",
       " 'psychedelic',\n",
       " 'punjabi',\n",
       " 'punk',\n",
       " 'quebecois',\n",
       " 'ragga',\n",
       " 'ram',\n",
       " 'rancheras',\n",
       " 'rap',\n",
       " 'rave',\n",
       " 'reggae',\n",
       " 'reggaeton',\n",
       " 'regional',\n",
       " 'relax',\n",
       " 'religious',\n",
       " 'retro',\n",
       " 'rhythm',\n",
       " 'rnb',\n",
       " 'rnr',\n",
       " 'rock',\n",
       " 'rockabilly',\n",
       " 'rockalternative',\n",
       " 'rockindie',\n",
       " 'rockother',\n",
       " 'romance',\n",
       " 'roots',\n",
       " 'ruspop',\n",
       " 'rusrap',\n",
       " 'rusrock',\n",
       " 'russian',\n",
       " 'salsa',\n",
       " 'samba',\n",
       " 'scenic',\n",
       " 'schlager',\n",
       " 'self',\n",
       " 'sertanejo',\n",
       " 'shanson',\n",
       " 'shoegazing',\n",
       " 'showtunes',\n",
       " 'singer',\n",
       " 'ska',\n",
       " 'skarock',\n",
       " 'slow',\n",
       " 'smooth',\n",
       " 'soft',\n",
       " 'soul',\n",
       " 'soulful',\n",
       " 'sound',\n",
       " 'soundtrack',\n",
       " 'southern',\n",
       " 'specialty',\n",
       " 'speech',\n",
       " 'spiritual',\n",
       " 'sport',\n",
       " 'stonerrock',\n",
       " 'surf',\n",
       " 'swing',\n",
       " 'synthpop',\n",
       " 'synthrock',\n",
       " 'sängerportrait',\n",
       " 'tango',\n",
       " 'tanzorchester',\n",
       " 'taraftar',\n",
       " 'tatar',\n",
       " 'tech',\n",
       " 'techno',\n",
       " 'teen',\n",
       " 'thrash',\n",
       " 'top',\n",
       " 'traditional',\n",
       " 'tradjazz',\n",
       " 'trance',\n",
       " 'tribal',\n",
       " 'trip',\n",
       " 'triphop',\n",
       " 'tropical',\n",
       " 'türk',\n",
       " 'türkçe',\n",
       " 'ukrrock',\n",
       " 'unknown',\n",
       " 'urban',\n",
       " 'uzbek',\n",
       " 'variété',\n",
       " 'vi',\n",
       " 'videogame',\n",
       " 'vocal',\n",
       " 'western',\n",
       " 'world',\n",
       " 'worldbeat',\n",
       " 'ïîï',\n",
       " 'электроника']"
      ]
     },
     "metadata": {},
     "output_type": "display_data"
    }
   ],
   "source": [
    "# проверка на неявные дубликаты\n",
    "display(sorted(df['genre'].unique()))"
   ]
  },
  {
   "cell_type": "markdown",
   "metadata": {
    "id": "jz6a9-7HQUDd"
   },
   "source": [
    "**Выводы**\n",
    "\n",
    "Предобработка обнаружила три проблемы в данных:\n",
    "\n",
    "- нарушения в стиле заголовков,\n",
    "- пропущенные значения,\n",
    "- дубликаты — явные и неявные.\n",
    "\n",
    "Мы исправили заголовки, чтобы упростить работу с таблицей. Без дубликатов исследование станет более точным.\n",
    "\n",
    "Пропущенные значения вы заменили на `'unknown'`. Ещё предстоит увидеть, не повредят ли исследованию пропуски в колонке `genre`.\n",
    "\n",
    "Теперь можно перейти к проверке гипотез."
   ]
  },
  {
   "cell_type": "markdown",
   "metadata": {
    "id": "WttZHXH0SqKk"
   },
   "source": [
    "## Проверка гипотез"
   ]
  },
  {
   "cell_type": "markdown",
   "metadata": {
    "id": "Im936VVi_Zcu"
   },
   "source": [
    "### Сравнение поведения пользователей двух столиц"
   ]
  },
  {
   "cell_type": "markdown",
   "metadata": {
    "id": "nwt_MuaL_Zcu"
   },
   "source": [
    "Первая гипотеза утверждает, что пользователи по-разному слушают музыку в Москве и Санкт-Петербурге. Проверим это предположение по данным о трёх днях недели — понедельнике, среде и пятнице. Для этого:\n",
    "\n",
    "* Разделим пользователей Москвы и Санкт-Петербурга\n",
    "* Сравним, сколько треков послушала каждая группа пользователей в понедельник, среду и пятницу.\n"
   ]
  },
  {
   "cell_type": "markdown",
   "metadata": {
    "id": "8Dw_YMmT_Zcu"
   },
   "source": [
    "Оцените активность пользователей в каждом городе. Сгруппируем данные по городу и посчитаем прослушивания в каждой группе."
   ]
  },
  {
   "cell_type": "code",
   "execution_count": 18,
   "metadata": {
    "id": "0_Qs96oh_Zcu"
   },
   "outputs": [
    {
     "data": {
      "text/plain": [
       "city\n",
       "Moscow              42741\n",
       "Saint-Petersburg    18512\n",
       "Name: track, dtype: int64"
      ]
     },
     "metadata": {},
     "output_type": "display_data"
    },
    {
     "data": {
      "text/plain": [
       "42741"
      ]
     },
     "metadata": {},
     "output_type": "display_data"
    },
    {
     "data": {
      "text/plain": [
       "18512"
      ]
     },
     "metadata": {},
     "output_type": "display_data"
    }
   ],
   "source": [
    "# подсчёт прослушиваний в каждом городе\n",
    "display(df.groupby('city')['track'].count())\n",
    "# в Москве\n",
    "display(df[df['city'] == 'Moscow']['track'].count())\n",
    "# в Санкт-Петербурге\n",
    "display(df[df['city'] == 'Saint-Petersburg']['track'].count())"
   ]
  },
  {
   "cell_type": "markdown",
   "metadata": {
    "id": "dzli3w8o_Zcu"
   },
   "source": [
    "В Москве прослушиваний больше, чем в Петербурге. Из этого не следует, что московские пользователи чаще слушают музыку. Просто самих пользователей в Москве больше.\n",
    "\n",
    "Теперь сгруппируем данные по дню недели и подсчитаем прослушивания в понедельник, среду и пятницу."
   ]
  },
  {
   "cell_type": "code",
   "execution_count": 19,
   "metadata": {
    "id": "uZMKjiJz_Zcu"
   },
   "outputs": [
    {
     "data": {
      "text/plain": [
       "day\n",
       "Friday       21840\n",
       "Monday       21354\n",
       "Wednesday    18059\n",
       "Name: track, dtype: int64"
      ]
     },
     "metadata": {},
     "output_type": "display_data"
    }
   ],
   "source": [
    "# подсчёт прослушиваний в каждый из трёх дней\n",
    "display(df.groupby('day')['track'].count())"
   ]
  },
  {
   "cell_type": "markdown",
   "metadata": {
    "id": "cC2tNrlL_Zcu"
   },
   "source": [
    "В среднем пользователи из двух городов менее активны по средам. Но картина может измениться, если рассмотреть каждый город в отдельности."
   ]
  },
  {
   "cell_type": "markdown",
   "metadata": {
    "id": "POzs8bGa_Zcu"
   },
   "source": [
    "Мы видели, как работает группировка по городу и по дням недели. Теперь напишите функцию, которая объединит два эти расчёта."
   ]
  },
  {
   "cell_type": "code",
   "execution_count": 1,
   "metadata": {
    "id": "Nz3GdQB1_Zcu"
   },
   "outputs": [],
   "source": [
    "def number_tracks(day, city):                                  # <создание функции number_tracks()>\n",
    "    track_list = df[(df['day'] == day) & (df['city'] == city)] # Объявляется функция с двумя параметрами: day, city.\n",
    "    track_list_count = track_list['user_id'].count()           # В переменной track_list сохраняются те строки таблицы df, для которых \n",
    "    return track_list_count                                    # значение в столбце 'day' равно параметру day и одновременно значение\n",
    "                                                               # в столбце 'city' равно параметру city (используйте последовательную фильтрацию\n",
    "                                                               # с помощью логической индексации).\n",
    "                                                               # В переменной track_list_count сохраняется число значений столбца 'user_id',\n",
    "                                                               # рассчитанное методом count() для таблицы track_list.\n",
    "                                                               # Функция возвращает число - значение track_list_count.\n",
    "                                                               # Функция для подсчёта прослушиваний для конкретного города и дня.\n",
    "                                                               # С помощью последовательной фильтрации с логической индексацией она \n",
    "                                                               # сначала получит из исходной таблицы строки с нужным днём,\n",
    "                                                               # затем из результата отфильтрует строки с нужным городом,\n",
    "                                                               # методом count() посчитает количество значений в колонке user_id. \n",
    "                                                               # Это количество функция вернёт в качестве результата"
   ]
  },
  {
   "cell_type": "code",
   "execution_count": 21,
   "metadata": {
    "id": "rJcRATNQ_Zcu"
   },
   "outputs": [
    {
     "data": {
      "text/plain": [
       "15740"
      ]
     },
     "metadata": {},
     "output_type": "display_data"
    }
   ],
   "source": [
    "# количество прослушиваний в Москве по понедельникам\n",
    "display(number_tracks('Monday','Moscow')) "
   ]
  },
  {
   "cell_type": "code",
   "execution_count": 22,
   "metadata": {
    "id": "hq_ncZ5T_Zcu"
   },
   "outputs": [
    {
     "data": {
      "text/plain": [
       "5614"
      ]
     },
     "metadata": {},
     "output_type": "display_data"
    }
   ],
   "source": [
    "# количество прослушиваний в Санкт-Петербурге по понедельникам\n",
    "display(number_tracks('Monday','Saint-Petersburg'))"
   ]
  },
  {
   "cell_type": "code",
   "execution_count": 23,
   "metadata": {
    "id": "_NTy2VPU_Zcu"
   },
   "outputs": [
    {
     "data": {
      "text/plain": [
       "11056"
      ]
     },
     "metadata": {},
     "output_type": "display_data"
    }
   ],
   "source": [
    "# количество прослушиваний в Москве по средам\n",
    "display(number_tracks('Wednesday','Moscow')) "
   ]
  },
  {
   "cell_type": "code",
   "execution_count": 24,
   "metadata": {
    "id": "j2y3TAwo_Zcu"
   },
   "outputs": [
    {
     "data": {
      "text/plain": [
       "7003"
      ]
     },
     "metadata": {},
     "output_type": "display_data"
    }
   ],
   "source": [
    "# количество прослушиваний в Санкт-Петербурге по средам\n",
    "display(number_tracks('Wednesday', 'Saint-Petersburg')) "
   ]
  },
  {
   "cell_type": "code",
   "execution_count": 25,
   "metadata": {
    "id": "vYDw5u_K_Zcu"
   },
   "outputs": [
    {
     "data": {
      "text/plain": [
       "15945"
      ]
     },
     "metadata": {},
     "output_type": "display_data"
    }
   ],
   "source": [
    "# количество прослушиваний в Москве по пятницам\n",
    "display(number_tracks('Friday','Moscow')) "
   ]
  },
  {
   "cell_type": "code",
   "execution_count": 26,
   "metadata": {
    "id": "8_yzFtW3_Zcu"
   },
   "outputs": [
    {
     "data": {
      "text/plain": [
       "5895"
      ]
     },
     "metadata": {},
     "output_type": "display_data"
    }
   ],
   "source": [
    "# количество прослушиваний в Санкт-Петербурге по пятницам\n",
    "display(number_tracks('Friday','Saint-Petersburg')) "
   ]
  },
  {
   "cell_type": "code",
   "execution_count": 27,
   "metadata": {
    "id": "APAcLpOr_Zcu"
   },
   "outputs": [
    {
     "data": {
      "text/html": [
       "<div>\n",
       "<style scoped>\n",
       "    .dataframe tbody tr th:only-of-type {\n",
       "        vertical-align: middle;\n",
       "    }\n",
       "\n",
       "    .dataframe tbody tr th {\n",
       "        vertical-align: top;\n",
       "    }\n",
       "\n",
       "    .dataframe thead th {\n",
       "        text-align: right;\n",
       "    }\n",
       "</style>\n",
       "<table border=\"1\" class=\"dataframe\">\n",
       "  <thead>\n",
       "    <tr style=\"text-align: right;\">\n",
       "      <th></th>\n",
       "      <th>city</th>\n",
       "      <th>monday</th>\n",
       "      <th>wednesday</th>\n",
       "      <th>friday</th>\n",
       "    </tr>\n",
       "  </thead>\n",
       "  <tbody>\n",
       "    <tr>\n",
       "      <td>0</td>\n",
       "      <td>Moscow</td>\n",
       "      <td>15740</td>\n",
       "      <td>11056</td>\n",
       "      <td>15945</td>\n",
       "    </tr>\n",
       "    <tr>\n",
       "      <td>1</td>\n",
       "      <td>Saint-Petersburg</td>\n",
       "      <td>5614</td>\n",
       "      <td>7003</td>\n",
       "      <td>5895</td>\n",
       "    </tr>\n",
       "  </tbody>\n",
       "</table>\n",
       "</div>"
      ],
      "text/plain": [
       "               city  monday  wednesday  friday\n",
       "0            Moscow   15740      11056   15945\n",
       "1  Saint-Petersburg    5614       7003    5895"
      ]
     },
     "metadata": {},
     "output_type": "display_data"
    }
   ],
   "source": [
    "data = [['Moscow', 15740, 11056, 15945],\n",
    "       ['Saint-Petersburg', 5614, 7003, 5895]]\n",
    "# таблица с результатами\n",
    "display(pd.DataFrame(data = data, columns = ['city', 'monday', 'wednesday', 'friday']))"
   ]
  },
  {
   "cell_type": "markdown",
   "metadata": {
    "id": "-EgPIHYu_Zcu"
   },
   "source": [
    "**Выводы**\n",
    "\n",
    "Данные показывают разницу поведения пользователей:\n",
    "\n",
    "- В Москве пик прослушиваний приходится на понедельник и пятницу, а в среду заметен спад.\n",
    "- В Петербурге, наоборот, больше слушают музыку по средам. Активность в понедельник и пятницу здесь почти в равной мере уступает среде.\n",
    "\n",
    "Значит, данные говорят в пользу первой гипотезы."
   ]
  },
  {
   "cell_type": "markdown",
   "metadata": {
    "id": "atZAxtq4_Zcu"
   },
   "source": [
    "### Музыка в начале и в конце недели"
   ]
  },
  {
   "cell_type": "markdown",
   "metadata": {
    "id": "eXrQqXFH_Zcu"
   },
   "source": [
    "Согласно второй гипотезе, утром в понедельник в Москве преобладают одни жанры, а в Петербурге — другие. Так же и вечером пятницы преобладают разные жанры — в зависимости от города."
   ]
  },
  {
   "cell_type": "code",
   "execution_count": 28,
   "metadata": {
    "id": "qeaFfM_P_Zcu"
   },
   "outputs": [],
   "source": [
    "# получение таблицы moscow_general из тех строк таблицы df, \n",
    "# для которых значение в столбце 'city' равно 'Moscow'\n",
    "moscow_general = df[df['city'] == 'Moscow'] "
   ]
  },
  {
   "cell_type": "code",
   "execution_count": 29,
   "metadata": {
    "id": "ORaVRKto_Zcu"
   },
   "outputs": [],
   "source": [
    "# получение таблицы spb_general из тех строк таблицы df,\n",
    "# для которых значение в столбце 'city' равно 'Saint-Petersburg'\n",
    "spb_general = df[df['city'] == 'Saint-Petersburg']"
   ]
  },
  {
   "cell_type": "markdown",
   "metadata": {
    "id": "MEJV-CX2_Zcu"
   },
   "source": [
    "Создадим функцию `genre_weekday()` с четырьмя параметрами:\n",
    "* таблица (датафрейм) с данными,\n",
    "* день недели,\n",
    "* начальная временная метка в формате 'hh:mm', \n",
    "* последняя временная метка в формате 'hh:mm'."
   ]
  },
  {
   "cell_type": "code",
   "execution_count": 30,
   "metadata": {
    "id": "laJT9BYl_Zcu"
   },
   "outputs": [],
   "source": [
    "def genre_weekday(table, day, time1, time2): # Объявление функции genre_weekday() с параметрами table, day, time1, time2,\n",
    "    genre_df = table[table['day'] == day]\n",
    "    genre_df = genre_df[genre_df['time'] > time1]\n",
    "    genre_df = genre_df[genre_df['time'] < time2]\n",
    "    genre_df_count = genre_df.groupby('genre')['user_id'].count()\n",
    "    genre_df_sorted = genre_df_count.sort_values(ascending = False)\n",
    "    return genre_df_sorted.head(10)\n",
    "# которая возвращает информацию о самых популярных жанрах в указанный день в\n",
    "# заданное время:\n",
    "# 1) в переменную genre_df сохраняются те строки переданного датафрейма table, для\n",
    "#    которых одновременно:\n",
    "#    - значение в столбце day равно значению аргумента day\n",
    "#    - значение в столбце time больше значения аргумента time1\n",
    "#    - значение в столбце time меньше значения аргумента time2\n",
    "#    Используйте последовательную фильтрацию с помощью логической индексации.\n",
    "# 2) сгруппировать датафрейм genre_df по столбцу genre, взять один из его\n",
    "#    столбцов и посчитать методом count() количество записей для каждого из\n",
    "#    присутствующих жанров, получившийся Series записать в переменную\n",
    "#    genre_df_count\n",
    "# 3) отсортировать genre_df_count по убыванию встречаемости и сохранить\n",
    "#    в переменную genre_df_sorted\n",
    "# 4) вернуть Series из 10 первых значений genre_df_sorted, это будут топ-10\n",
    "#    популярных жанров (в указанный день, в заданное время)"
   ]
  },
  {
   "cell_type": "markdown",
   "metadata": {
    "id": "la2s2_PF_Zcu"
   },
   "source": [
    "Cравним результаты функции `genre_weekday()` для Москвы и Санкт-Петербурга в понедельник утром (с 7:00 до 11:00) и в пятницу вечером (с 17:00 до 23:00):"
   ]
  },
  {
   "cell_type": "code",
   "execution_count": 31,
   "metadata": {
    "id": "yz7itPUQ_Zcu"
   },
   "outputs": [
    {
     "data": {
      "text/plain": [
       "genre\n",
       "pop            781\n",
       "dance          549\n",
       "electronic     480\n",
       "rock           474\n",
       "hiphop         286\n",
       "ruspop         186\n",
       "world          181\n",
       "rusrap         175\n",
       "alternative    164\n",
       "unknown        161\n",
       "Name: user_id, dtype: int64"
      ]
     },
     "metadata": {},
     "output_type": "display_data"
    }
   ],
   "source": [
    "# вызов функции для утра понедельника в Москве (вместо df — таблица moscow_general)\n",
    "display(genre_weekday(moscow_general, 'Monday', '07:00', '11:00')) "
   ]
  },
  {
   "cell_type": "code",
   "execution_count": 32,
   "metadata": {
    "id": "kwUcHPdy_Zcu"
   },
   "outputs": [
    {
     "data": {
      "text/plain": [
       "genre\n",
       "pop            218\n",
       "dance          182\n",
       "rock           162\n",
       "electronic     147\n",
       "hiphop          80\n",
       "ruspop          64\n",
       "alternative     58\n",
       "rusrap          55\n",
       "jazz            44\n",
       "classical       40\n",
       "Name: user_id, dtype: int64"
      ]
     },
     "metadata": {},
     "output_type": "display_data"
    }
   ],
   "source": [
    "# вызов функции для утра понедельника в Петербурге (вместо df — таблица spb_general)\n",
    "display(genre_weekday(spb_general, 'Monday', '07:00', '11:00')) "
   ]
  },
  {
   "cell_type": "code",
   "execution_count": 33,
   "metadata": {
    "id": "EzXVRE1o_Zcu"
   },
   "outputs": [
    {
     "data": {
      "text/plain": [
       "genre\n",
       "pop            713\n",
       "rock           517\n",
       "dance          495\n",
       "electronic     482\n",
       "hiphop         273\n",
       "world          208\n",
       "ruspop         170\n",
       "alternative    163\n",
       "classical      163\n",
       "rusrap         142\n",
       "Name: user_id, dtype: int64"
      ]
     },
     "metadata": {},
     "output_type": "display_data"
    }
   ],
   "source": [
    "# вызов функции для вечера пятницы в Москве\n",
    "display(genre_weekday(moscow_general, 'Friday', '17:00', '23:00'))"
   ]
  },
  {
   "cell_type": "code",
   "execution_count": 34,
   "metadata": {
    "id": "JZaEKu5v_Zcu"
   },
   "outputs": [
    {
     "data": {
      "text/plain": [
       "genre\n",
       "pop            256\n",
       "rock           216\n",
       "electronic     216\n",
       "dance          210\n",
       "hiphop          97\n",
       "alternative     63\n",
       "jazz            61\n",
       "classical       60\n",
       "rusrap          59\n",
       "world           54\n",
       "Name: user_id, dtype: int64"
      ]
     },
     "metadata": {},
     "output_type": "display_data"
    }
   ],
   "source": [
    "# вызов функции для вечера пятницы в Петербурге\n",
    "display(genre_weekday(spb_general, 'Friday', '17:00', '23:00'))"
   ]
  },
  {
   "cell_type": "markdown",
   "metadata": {
    "id": "wrCe4MNX_Zcu"
   },
   "source": [
    "**Выводы**\n",
    "\n",
    "Если сравнить топ-10 жанров в понедельник утром, можно сделать такие выводы:\n",
    "\n",
    "1. В Москве и Петербурге слушают похожую музыку. Единственное отличие — в московский рейтинг вошёл жанр “world”, а в петербургский — джаз и классика.\n",
    "\n",
    "2. В Москве пропущенных значений оказалось так много, что значение `'unknown'` заняло десятое место среди самых популярных жанров. Значит, пропущенные значения занимают существенную долю в данных и угрожают достоверности исследования.\n",
    "\n",
    "Вечер пятницы не меняет эту картину. Некоторые жанры поднимаются немного выше, другие спускаются, но в целом топ-10 остаётся тем же самым.\n",
    "\n",
    "Таким образом, вторая гипотеза подтвердилась лишь частично:\n",
    "* Пользователи слушают похожую музыку в начале недели и в конце.\n",
    "* Разница между Москвой и Петербургом не слишком выражена. В Москве чаще слушают русскую популярную музыку, в Петербурге — джаз.\n",
    "\n",
    "Однако пропуски в данных ставят под сомнение этот результат. В Москве их так много, что рейтинг топ-10 мог бы выглядеть иначе, если бы не утерянные  данные о жанрах."
   ]
  },
  {
   "cell_type": "markdown",
   "metadata": {
    "id": "JolODAqr_Zcu"
   },
   "source": [
    "### Жанровые предпочтения в Москве и Петербурге\n",
    "\n",
    "Гипотеза: Петербург — столица рэпа, музыку этого жанра там слушают чаще, чем в Москве.  А Москва — город контрастов, в котором, тем не менее, преобладает поп-музыка."
   ]
  },
  {
   "cell_type": "code",
   "execution_count": 35,
   "metadata": {
    "id": "r19lIPke_Zcu"
   },
   "outputs": [],
   "source": [
    "# одной строкой: группировка таблицы moscow_general по столбцу 'genre', \n",
    "# подсчёт числа значений 'genre' в этой группировке методом count(), \n",
    "# сортировка получившегося Series в порядке убывания и сохранение в moscow_genres\n",
    "moscow_genres = moscow_general.groupby('genre')['genre'].count().sort_values(ascending=False)"
   ]
  },
  {
   "cell_type": "code",
   "execution_count": 36,
   "metadata": {
    "id": "WhCSooF8_Zcv"
   },
   "outputs": [
    {
     "data": {
      "text/plain": [
       "genre\n",
       "pop            5892\n",
       "dance          4435\n",
       "rock           3965\n",
       "electronic     3786\n",
       "hiphop         2096\n",
       "classical      1616\n",
       "world          1432\n",
       "alternative    1379\n",
       "ruspop         1372\n",
       "rusrap         1161\n",
       "Name: genre, dtype: int64"
      ]
     },
     "metadata": {},
     "output_type": "display_data"
    }
   ],
   "source": [
    "# посмотрим первые 10 строк moscow_genres\n",
    "display(moscow_genres.head(10))"
   ]
  },
  {
   "cell_type": "code",
   "execution_count": 37,
   "metadata": {
    "id": "gluLIpE7_Zcv"
   },
   "outputs": [],
   "source": [
    "# одной строкой: группировка таблицы spb_general по столбцу 'genre',\n",
    "# подсчёт числа значений 'genre' в этой группировке методом count(),\n",
    "# сортировка получившегося Series в порядке убывания и сохранение в spb_genres\n",
    "spb_genres = spb_general.groupby('genre')['genre'].count().sort_values(ascending = False)"
   ]
  },
  {
   "cell_type": "code",
   "execution_count": 38,
   "metadata": {
    "id": "uaGJHjVU_Zcv"
   },
   "outputs": [
    {
     "data": {
      "text/plain": [
       "genre\n",
       "pop            2431\n",
       "dance          1932\n",
       "rock           1879\n",
       "electronic     1736\n",
       "hiphop          960\n",
       "alternative     649\n",
       "classical       646\n",
       "rusrap          564\n",
       "ruspop          538\n",
       "world           515\n",
       "Name: genre, dtype: int64"
      ]
     },
     "metadata": {},
     "output_type": "display_data"
    }
   ],
   "source": [
    "# посмотрим первые 10 строк spb_genres\n",
    "display(spb_genres.head(10))"
   ]
  },
  {
   "cell_type": "markdown",
   "metadata": {
    "id": "RY51YJYu_Zcv"
   },
   "source": [
    "**Выводы**"
   ]
  },
  {
   "cell_type": "markdown",
   "metadata": {
    "id": "nVhnJEm__Zcv"
   },
   "source": [
    "Гипотеза частично подтвердилась:\n",
    "* Поп-музыка — самый популярный жанр в Москве, как и предполагала гипотеза. Более того, в топ-10 жанров встречается близкий жанр — русская популярная музыка.\n",
    "* Вопреки ожиданиям, рэп одинаково популярен в Москве и Петербурге. \n"
   ]
  },
  {
   "cell_type": "markdown",
   "metadata": {
    "id": "ykKQ0N65_Zcv"
   },
   "source": [
    "## Итоги исследования"
   ]
  },
  {
   "cell_type": "markdown",
   "metadata": {
    "id": "tjUwbHb3_Zcv"
   },
   "source": [
    "Мы проверили три гипотезы и установили:\n",
    "\n",
    "1. День недели по-разному влияет на активность пользователей в Москве и Петербурге. \n",
    "\n",
    "Первая гипотеза полностью подтвердилась.\n",
    "\n",
    "2. Музыкальные предпочтения не сильно меняются в течение недели — будь то Москва или Петербург. Небольшие различия заметны в начале недели, по понедельникам:\n",
    "* в Москве слушают музыку жанра “world”,\n",
    "* в Петербурге — джаз и классику.\n",
    "\n",
    "Таким образом, вторая гипотеза подтвердилась лишь отчасти. Этот результат мог оказаться иным, если бы не пропуски в данных.\n",
    "\n",
    "3. Во вкусах пользователей Москвы и Петербурга больше общего чем различий. Вопреки ожиданиям, предпочтения жанров в Петербурге напоминают московские.\n",
    "\n",
    "Третья гипотеза не подтвердилась. Если различия в предпочтениях и существуют, на основной массе пользователей они незаметны."
   ]
  }
 ],
 "metadata": {
  "ExecuteTimeLog": [
   {
    "duration": 316,
    "start_time": "2022-02-18T12:41:59.312Z"
   },
   {
    "duration": 636,
    "start_time": "2022-02-18T12:42:11.195Z"
   },
   {
    "duration": 152,
    "start_time": "2022-02-18T12:42:13.132Z"
   },
   {
    "duration": 20,
    "start_time": "2022-02-18T12:42:15.380Z"
   },
   {
    "duration": 28,
    "start_time": "2022-02-18T12:44:19.391Z"
   },
   {
    "duration": 4,
    "start_time": "2022-02-18T12:59:17.883Z"
   },
   {
    "duration": 4,
    "start_time": "2022-02-18T12:59:37.142Z"
   },
   {
    "duration": 5,
    "start_time": "2022-02-18T12:59:39.926Z"
   },
   {
    "duration": 4,
    "start_time": "2022-02-18T12:59:51.911Z"
   },
   {
    "duration": 22,
    "start_time": "2022-02-18T13:04:25.334Z"
   },
   {
    "duration": 5,
    "start_time": "2022-02-18T13:04:29.340Z"
   },
   {
    "duration": 333,
    "start_time": "2022-02-18T13:14:06.115Z"
   },
   {
    "duration": 23,
    "start_time": "2022-02-18T13:14:27.454Z"
   },
   {
    "duration": 24,
    "start_time": "2022-02-18T13:16:34.401Z"
   },
   {
    "duration": 25,
    "start_time": "2022-02-18T13:16:36.377Z"
   },
   {
    "duration": 25,
    "start_time": "2022-02-18T13:16:37.738Z"
   },
   {
    "duration": 25,
    "start_time": "2022-02-18T13:16:57.097Z"
   },
   {
    "duration": 24,
    "start_time": "2022-02-18T13:17:09.562Z"
   },
   {
    "duration": 4,
    "start_time": "2022-02-18T13:17:34.538Z"
   },
   {
    "duration": 4,
    "start_time": "2022-02-18T13:18:03.026Z"
   },
   {
    "duration": 27,
    "start_time": "2022-02-18T13:18:22.402Z"
   },
   {
    "duration": 24,
    "start_time": "2022-02-18T13:18:54.419Z"
   },
   {
    "duration": 12,
    "start_time": "2022-02-18T13:19:06.345Z"
   },
   {
    "duration": 19,
    "start_time": "2022-02-18T13:36:12.483Z"
   },
   {
    "duration": 24,
    "start_time": "2022-02-18T13:36:14.957Z"
   },
   {
    "duration": 68,
    "start_time": "2022-02-18T13:39:06.191Z"
   },
   {
    "duration": 64,
    "start_time": "2022-02-18T15:47:58.554Z"
   },
   {
    "duration": 64,
    "start_time": "2022-02-18T15:48:11.411Z"
   },
   {
    "duration": 250,
    "start_time": "2022-02-18T15:48:26.996Z"
   },
   {
    "duration": 94,
    "start_time": "2022-02-18T15:49:19.565Z"
   },
   {
    "duration": 63,
    "start_time": "2022-02-18T15:49:23.731Z"
   },
   {
    "duration": 284,
    "start_time": "2022-02-18T15:55:19.896Z"
   },
   {
    "duration": 34,
    "start_time": "2022-02-18T15:55:49.768Z"
   },
   {
    "duration": 266,
    "start_time": "2022-02-18T15:56:45.210Z"
   },
   {
    "duration": 10,
    "start_time": "2022-02-18T15:56:52.121Z"
   },
   {
    "duration": 190,
    "start_time": "2022-02-19T12:51:00.646Z"
   },
   {
    "duration": 136,
    "start_time": "2022-02-19T12:52:00.885Z"
   },
   {
    "duration": 6,
    "start_time": "2022-02-19T12:52:23.078Z"
   },
   {
    "duration": 461,
    "start_time": "2022-02-19T12:55:31.004Z"
   },
   {
    "duration": 5,
    "start_time": "2022-02-19T12:55:38.477Z"
   },
   {
    "duration": 768,
    "start_time": "2022-02-19T12:56:08.113Z"
   },
   {
    "duration": 4,
    "start_time": "2022-02-19T12:56:14.664Z"
   },
   {
    "duration": 750,
    "start_time": "2022-02-19T12:56:15.896Z"
   },
   {
    "duration": 6,
    "start_time": "2022-02-19T12:57:53.679Z"
   },
   {
    "duration": 737,
    "start_time": "2022-02-19T12:57:55.474Z"
   },
   {
    "duration": 5,
    "start_time": "2022-02-19T12:59:37.867Z"
   },
   {
    "duration": 743,
    "start_time": "2022-02-19T12:59:39.642Z"
   },
   {
    "duration": 363,
    "start_time": "2022-02-19T13:00:44.517Z"
   },
   {
    "duration": 448,
    "start_time": "2022-02-19T13:02:04.661Z"
   },
   {
    "duration": 365,
    "start_time": "2022-02-19T13:02:38.157Z"
   },
   {
    "duration": 796,
    "start_time": "2022-02-19T13:02:48.573Z"
   },
   {
    "duration": 224,
    "start_time": "2022-02-19T13:02:50.485Z"
   },
   {
    "duration": 29,
    "start_time": "2022-02-19T13:02:52.461Z"
   },
   {
    "duration": 34,
    "start_time": "2022-02-19T13:02:55.901Z"
   },
   {
    "duration": 6,
    "start_time": "2022-02-19T13:03:01.085Z"
   },
   {
    "duration": 28,
    "start_time": "2022-02-19T13:03:04.230Z"
   },
   {
    "duration": 6,
    "start_time": "2022-02-19T13:03:06.068Z"
   },
   {
    "duration": 34,
    "start_time": "2022-02-19T13:03:07.260Z"
   },
   {
    "duration": 23,
    "start_time": "2022-02-19T13:03:11.484Z"
   },
   {
    "duration": 31,
    "start_time": "2022-02-19T13:03:14.861Z"
   },
   {
    "duration": 111,
    "start_time": "2022-02-19T13:03:27.141Z"
   },
   {
    "duration": 101,
    "start_time": "2022-02-19T13:03:32.061Z"
   },
   {
    "duration": 77,
    "start_time": "2022-02-19T13:03:33.532Z"
   },
   {
    "duration": 15,
    "start_time": "2022-02-19T13:03:37.045Z"
   },
   {
    "duration": 5,
    "start_time": "2022-02-19T13:03:42.885Z"
   },
   {
    "duration": 7,
    "start_time": "2022-02-19T13:03:47.453Z"
   },
   {
    "duration": 22,
    "start_time": "2022-02-19T13:04:08.430Z"
   },
   {
    "duration": 16,
    "start_time": "2022-02-19T13:05:18.806Z"
   },
   {
    "duration": 409,
    "start_time": "2022-02-19T13:14:45.962Z"
   },
   {
    "duration": 392,
    "start_time": "2022-02-19T13:14:57.884Z"
   },
   {
    "duration": 46,
    "start_time": "2022-02-19T13:15:13.524Z"
   },
   {
    "duration": 130,
    "start_time": "2022-02-19T13:17:11.718Z"
   },
   {
    "duration": 34,
    "start_time": "2022-02-19T13:17:30.798Z"
   },
   {
    "duration": 29,
    "start_time": "2022-02-19T13:18:41.007Z"
   },
   {
    "duration": 41,
    "start_time": "2022-02-19T13:20:11.016Z"
   },
   {
    "duration": 14,
    "start_time": "2022-02-19T13:22:27.775Z"
   },
   {
    "duration": 45,
    "start_time": "2022-02-19T13:22:42.353Z"
   },
   {
    "duration": 16,
    "start_time": "2022-02-19T13:22:58.793Z"
   },
   {
    "duration": 16,
    "start_time": "2022-02-19T13:24:27.939Z"
   },
   {
    "duration": 15,
    "start_time": "2022-02-19T13:27:42.322Z"
   },
   {
    "duration": 41,
    "start_time": "2022-02-19T13:31:52.837Z"
   },
   {
    "duration": 41,
    "start_time": "2022-02-19T13:32:38.487Z"
   },
   {
    "duration": 46,
    "start_time": "2022-02-19T13:33:23.048Z"
   },
   {
    "duration": 41,
    "start_time": "2022-02-19T13:34:03.897Z"
   },
   {
    "duration": 43,
    "start_time": "2022-02-19T13:34:34.585Z"
   },
   {
    "duration": 431,
    "start_time": "2022-02-19T13:34:50.433Z"
   },
   {
    "duration": 67,
    "start_time": "2022-02-19T13:34:55.185Z"
   },
   {
    "duration": 16,
    "start_time": "2022-02-19T13:37:39.497Z"
   },
   {
    "duration": 6,
    "start_time": "2022-02-19T14:08:25.406Z"
   },
   {
    "duration": 17,
    "start_time": "2022-02-19T14:25:47.897Z"
   },
   {
    "duration": 19,
    "start_time": "2022-02-19T14:26:01.267Z"
   },
   {
    "duration": 24,
    "start_time": "2022-02-19T14:27:06.540Z"
   },
   {
    "duration": 22,
    "start_time": "2022-02-19T14:27:10.442Z"
   },
   {
    "duration": 4,
    "start_time": "2022-02-19T14:27:25.342Z"
   },
   {
    "duration": 32,
    "start_time": "2022-02-19T14:27:27.619Z"
   },
   {
    "duration": 22,
    "start_time": "2022-02-19T14:27:29.162Z"
   },
   {
    "duration": 22,
    "start_time": "2022-02-19T14:27:30.723Z"
   },
   {
    "duration": 17,
    "start_time": "2022-02-19T14:28:07.333Z"
   },
   {
    "duration": 15,
    "start_time": "2022-02-19T14:29:46.203Z"
   },
   {
    "duration": 21,
    "start_time": "2022-02-19T14:30:13.350Z"
   },
   {
    "duration": 17,
    "start_time": "2022-02-19T14:30:20.876Z"
   },
   {
    "duration": 19,
    "start_time": "2022-02-19T14:30:38.790Z"
   },
   {
    "duration": 132,
    "start_time": "2022-02-19T14:32:08.695Z"
   },
   {
    "duration": 19,
    "start_time": "2022-02-19T14:32:34.775Z"
   },
   {
    "duration": 23,
    "start_time": "2022-02-19T14:33:08.423Z"
   },
   {
    "duration": 19,
    "start_time": "2022-02-19T14:33:33.377Z"
   },
   {
    "duration": 144,
    "start_time": "2022-02-19T14:42:30.819Z"
   },
   {
    "duration": 123,
    "start_time": "2022-02-19T14:47:26.550Z"
   },
   {
    "duration": 132,
    "start_time": "2022-02-19T14:48:01.138Z"
   },
   {
    "duration": 12,
    "start_time": "2022-02-19T14:48:47.370Z"
   },
   {
    "duration": 13,
    "start_time": "2022-02-19T14:49:23.816Z"
   },
   {
    "duration": 31,
    "start_time": "2022-02-19T15:49:52.851Z"
   },
   {
    "duration": 30,
    "start_time": "2022-02-19T15:52:32.379Z"
   },
   {
    "duration": 43,
    "start_time": "2022-02-19T15:53:01.932Z"
   },
   {
    "duration": 32,
    "start_time": "2022-02-19T15:53:23.708Z"
   },
   {
    "duration": 30,
    "start_time": "2022-02-19T15:53:46.661Z"
   },
   {
    "duration": 28,
    "start_time": "2022-02-19T15:54:20.395Z"
   },
   {
    "duration": 29,
    "start_time": "2022-02-19T15:54:38.964Z"
   },
   {
    "duration": 32,
    "start_time": "2022-02-19T15:54:41.460Z"
   },
   {
    "duration": 8,
    "start_time": "2022-02-19T16:19:47.652Z"
   },
   {
    "duration": 728,
    "start_time": "2022-02-19T16:24:40.607Z"
   },
   {
    "duration": 6,
    "start_time": "2022-02-19T16:24:57.802Z"
   },
   {
    "duration": 854,
    "start_time": "2022-02-19T16:24:59.440Z"
   },
   {
    "duration": 131,
    "start_time": "2022-02-19T16:32:43.284Z"
   },
   {
    "duration": 141,
    "start_time": "2022-02-19T16:33:49.629Z"
   },
   {
    "duration": 204,
    "start_time": "2022-02-19T16:34:48.224Z"
   },
   {
    "duration": 5,
    "start_time": "2022-02-19T16:36:17.631Z"
   },
   {
    "duration": 779,
    "start_time": "2022-02-19T16:36:25.161Z"
   },
   {
    "duration": 5,
    "start_time": "2022-02-19T16:36:44.690Z"
   },
   {
    "duration": 1000,
    "start_time": "2022-02-19T16:36:48.257Z"
   },
   {
    "duration": 7,
    "start_time": "2022-02-19T16:37:38.155Z"
   },
   {
    "duration": 34,
    "start_time": "2022-02-19T16:37:40.906Z"
   },
   {
    "duration": 35,
    "start_time": "2022-02-19T16:40:37.701Z"
   },
   {
    "duration": 40,
    "start_time": "2022-02-19T16:41:54.016Z"
   },
   {
    "duration": 32,
    "start_time": "2022-02-19T16:42:58.574Z"
   },
   {
    "duration": 30,
    "start_time": "2022-02-19T16:43:56.726Z"
   },
   {
    "duration": 30,
    "start_time": "2022-02-19T16:44:21.381Z"
   },
   {
    "duration": 31,
    "start_time": "2022-02-19T16:44:23.982Z"
   },
   {
    "duration": 6,
    "start_time": "2022-02-19T16:44:33.559Z"
   },
   {
    "duration": 32,
    "start_time": "2022-02-19T16:44:36.238Z"
   },
   {
    "duration": 28,
    "start_time": "2022-02-19T16:44:38.902Z"
   },
   {
    "duration": 29,
    "start_time": "2022-02-19T16:44:41.374Z"
   },
   {
    "duration": 38,
    "start_time": "2022-02-19T16:44:43.206Z"
   },
   {
    "duration": 30,
    "start_time": "2022-02-19T16:46:33.151Z"
   },
   {
    "duration": 29,
    "start_time": "2022-02-19T16:46:35.463Z"
   },
   {
    "duration": 5,
    "start_time": "2022-02-19T16:48:17.297Z"
   },
   {
    "duration": 880,
    "start_time": "2022-02-19T16:48:20.808Z"
   },
   {
    "duration": 5,
    "start_time": "2022-02-19T16:49:41.519Z"
   },
   {
    "duration": 722,
    "start_time": "2022-02-19T16:49:46.936Z"
   },
   {
    "duration": 747,
    "start_time": "2022-02-19T16:49:48.977Z"
   },
   {
    "duration": 5,
    "start_time": "2022-02-19T16:49:52.778Z"
   },
   {
    "duration": 753,
    "start_time": "2022-02-19T16:50:09.554Z"
   },
   {
    "duration": 5,
    "start_time": "2022-02-19T16:51:50.244Z"
   },
   {
    "duration": 814,
    "start_time": "2022-02-19T16:51:53.475Z"
   },
   {
    "duration": 6,
    "start_time": "2022-02-19T16:52:59.620Z"
   },
   {
    "duration": 4350,
    "start_time": "2022-02-19T16:53:08.888Z"
   },
   {
    "duration": 70,
    "start_time": "2022-02-19T16:53:13.170Z"
   },
   {
    "duration": 763,
    "start_time": "2022-02-19T16:53:18.524Z"
   },
   {
    "duration": 6,
    "start_time": "2022-02-19T16:54:17.502Z"
   },
   {
    "duration": 709,
    "start_time": "2022-02-19T16:54:20.597Z"
   },
   {
    "duration": 711,
    "start_time": "2022-02-19T16:54:41.198Z"
   },
   {
    "duration": 5,
    "start_time": "2022-02-19T16:54:43.973Z"
   },
   {
    "duration": 722,
    "start_time": "2022-02-19T16:54:46.589Z"
   },
   {
    "duration": 6,
    "start_time": "2022-02-19T16:56:53.975Z"
   },
   {
    "duration": 6,
    "start_time": "2022-02-19T16:56:55.863Z"
   },
   {
    "duration": 740,
    "start_time": "2022-02-19T16:57:00.119Z"
   },
   {
    "duration": 7,
    "start_time": "2022-02-19T16:57:30.928Z"
   },
   {
    "duration": 697,
    "start_time": "2022-02-19T16:57:36.852Z"
   },
   {
    "duration": 6,
    "start_time": "2022-02-19T16:58:16.272Z"
   },
   {
    "duration": 714,
    "start_time": "2022-02-19T16:58:19.359Z"
   },
   {
    "duration": 6,
    "start_time": "2022-02-19T16:58:58.256Z"
   },
   {
    "duration": 743,
    "start_time": "2022-02-19T16:59:05.496Z"
   },
   {
    "duration": 6,
    "start_time": "2022-02-19T17:04:12.642Z"
   },
   {
    "duration": 6,
    "start_time": "2022-02-19T17:04:15.691Z"
   },
   {
    "duration": 735,
    "start_time": "2022-02-19T17:04:17.491Z"
   },
   {
    "duration": 14,
    "start_time": "2022-02-19T17:08:34.615Z"
   },
   {
    "duration": 5,
    "start_time": "2022-02-19T17:08:39.935Z"
   },
   {
    "duration": 32,
    "start_time": "2022-02-19T17:08:44.010Z"
   },
   {
    "duration": 16,
    "start_time": "2022-02-19T17:08:46.270Z"
   },
   {
    "duration": 42,
    "start_time": "2022-02-19T17:08:51.950Z"
   },
   {
    "duration": 15,
    "start_time": "2022-02-19T17:08:54.207Z"
   },
   {
    "duration": 5,
    "start_time": "2022-02-19T17:08:59.095Z"
   },
   {
    "duration": 20,
    "start_time": "2022-02-19T17:09:02.751Z"
   },
   {
    "duration": 18,
    "start_time": "2022-02-19T17:09:04.063Z"
   },
   {
    "duration": 27,
    "start_time": "2022-02-19T17:09:04.702Z"
   },
   {
    "duration": 18,
    "start_time": "2022-02-19T17:09:05.422Z"
   },
   {
    "duration": 22,
    "start_time": "2022-02-19T17:09:06.278Z"
   },
   {
    "duration": 19,
    "start_time": "2022-02-19T17:09:07.086Z"
   },
   {
    "duration": 12,
    "start_time": "2022-02-19T17:09:10.510Z"
   },
   {
    "duration": 12,
    "start_time": "2022-02-19T17:09:20.263Z"
   },
   {
    "duration": 40,
    "start_time": "2022-02-19T17:09:24.792Z"
   },
   {
    "duration": 28,
    "start_time": "2022-02-19T17:09:37.527Z"
   },
   {
    "duration": 5,
    "start_time": "2022-02-19T17:12:44.850Z"
   },
   {
    "duration": 993,
    "start_time": "2022-02-19T17:12:50.282Z"
   },
   {
    "duration": 729,
    "start_time": "2022-02-19T17:13:19.577Z"
   },
   {
    "duration": 843,
    "start_time": "2022-02-19T17:14:34.307Z"
   },
   {
    "duration": 3,
    "start_time": "2022-02-19T17:14:54.279Z"
   },
   {
    "duration": 220,
    "start_time": "2022-02-19T17:14:54.284Z"
   },
   {
    "duration": 17,
    "start_time": "2022-02-19T17:14:54.506Z"
   },
   {
    "duration": 34,
    "start_time": "2022-02-19T17:14:54.526Z"
   },
   {
    "duration": 5,
    "start_time": "2022-02-19T17:14:54.563Z"
   },
   {
    "duration": 59,
    "start_time": "2022-02-19T17:14:54.570Z"
   },
   {
    "duration": 7,
    "start_time": "2022-02-19T17:14:54.632Z"
   },
   {
    "duration": 32,
    "start_time": "2022-02-19T17:14:54.643Z"
   },
   {
    "duration": 48,
    "start_time": "2022-02-19T17:14:54.677Z"
   },
   {
    "duration": 30,
    "start_time": "2022-02-19T17:14:54.727Z"
   },
   {
    "duration": 102,
    "start_time": "2022-02-19T17:14:54.760Z"
   },
   {
    "duration": 93,
    "start_time": "2022-02-19T17:14:54.864Z"
   },
   {
    "duration": 81,
    "start_time": "2022-02-19T17:14:54.959Z"
   },
   {
    "duration": 14,
    "start_time": "2022-02-19T17:14:55.042Z"
   },
   {
    "duration": 4,
    "start_time": "2022-02-19T17:14:55.058Z"
   },
   {
    "duration": 50,
    "start_time": "2022-02-19T17:14:55.065Z"
   },
   {
    "duration": 14,
    "start_time": "2022-02-19T17:14:55.118Z"
   },
   {
    "duration": 41,
    "start_time": "2022-02-19T17:14:55.135Z"
   },
   {
    "duration": 44,
    "start_time": "2022-02-19T17:14:55.179Z"
   },
   {
    "duration": 5,
    "start_time": "2022-02-19T17:14:55.225Z"
   },
   {
    "duration": 25,
    "start_time": "2022-02-19T17:14:55.232Z"
   },
   {
    "duration": 17,
    "start_time": "2022-02-19T17:14:55.259Z"
   },
   {
    "duration": 18,
    "start_time": "2022-02-19T17:14:55.311Z"
   },
   {
    "duration": 16,
    "start_time": "2022-02-19T17:14:55.331Z"
   },
   {
    "duration": 19,
    "start_time": "2022-02-19T17:14:55.349Z"
   },
   {
    "duration": 51,
    "start_time": "2022-02-19T17:14:55.370Z"
   },
   {
    "duration": 11,
    "start_time": "2022-02-19T17:14:55.423Z"
   },
   {
    "duration": 38,
    "start_time": "2022-02-19T17:14:55.436Z"
   },
   {
    "duration": 50,
    "start_time": "2022-02-19T17:14:55.476Z"
   },
   {
    "duration": 6,
    "start_time": "2022-02-19T17:14:55.529Z"
   },
   {
    "duration": 792,
    "start_time": "2022-02-19T17:14:55.537Z"
   },
   {
    "duration": 85,
    "start_time": "2022-02-19T17:14:56.246Z"
   },
   {
    "duration": 82,
    "start_time": "2022-02-19T17:14:56.250Z"
   },
   {
    "duration": 81,
    "start_time": "2022-02-19T17:14:56.253Z"
   },
   {
    "duration": 80,
    "start_time": "2022-02-19T17:14:56.255Z"
   },
   {
    "duration": 81,
    "start_time": "2022-02-19T17:14:56.256Z"
   },
   {
    "duration": 80,
    "start_time": "2022-02-19T17:14:56.258Z"
   },
   {
    "duration": 81,
    "start_time": "2022-02-19T17:14:56.259Z"
   },
   {
    "duration": 7,
    "start_time": "2022-02-19T17:17:05.700Z"
   },
   {
    "duration": 814,
    "start_time": "2022-02-19T17:17:09.260Z"
   },
   {
    "duration": 906,
    "start_time": "2022-02-19T17:18:42.733Z"
   },
   {
    "duration": 6,
    "start_time": "2022-02-19T17:18:46.301Z"
   },
   {
    "duration": 906,
    "start_time": "2022-02-19T17:18:49.589Z"
   },
   {
    "duration": 871,
    "start_time": "2022-02-19T17:18:52.421Z"
   },
   {
    "duration": 780,
    "start_time": "2022-02-19T17:18:54.308Z"
   },
   {
    "duration": 7,
    "start_time": "2022-02-19T17:24:03.681Z"
   },
   {
    "duration": 5,
    "start_time": "2022-02-19T17:24:05.881Z"
   },
   {
    "duration": 7,
    "start_time": "2022-02-19T17:24:06.944Z"
   },
   {
    "duration": 844,
    "start_time": "2022-02-19T17:24:10.535Z"
   },
   {
    "duration": 5,
    "start_time": "2022-02-19T17:27:19.003Z"
   },
   {
    "duration": 5,
    "start_time": "2022-02-19T17:27:34.435Z"
   },
   {
    "duration": 777,
    "start_time": "2022-02-19T17:27:46.755Z"
   },
   {
    "duration": 5,
    "start_time": "2022-02-19T17:29:01.634Z"
   },
   {
    "duration": 885,
    "start_time": "2022-02-19T17:29:05.250Z"
   },
   {
    "duration": 7,
    "start_time": "2022-02-19T17:30:23.108Z"
   },
   {
    "duration": 774,
    "start_time": "2022-02-19T17:30:29.291Z"
   },
   {
    "duration": 5,
    "start_time": "2022-02-19T17:30:58.028Z"
   },
   {
    "duration": 380,
    "start_time": "2022-02-19T17:31:01.060Z"
   },
   {
    "duration": 10,
    "start_time": "2022-02-19T17:31:29.233Z"
   },
   {
    "duration": 35,
    "start_time": "2022-02-19T17:31:36.738Z"
   },
   {
    "duration": 364,
    "start_time": "2022-02-19T17:31:43.260Z"
   },
   {
    "duration": 6,
    "start_time": "2022-02-19T17:32:10.732Z"
   },
   {
    "duration": 7,
    "start_time": "2022-02-19T17:32:13.336Z"
   },
   {
    "duration": 446,
    "start_time": "2022-02-19T17:32:16.485Z"
   },
   {
    "duration": 6,
    "start_time": "2022-02-19T17:32:44.402Z"
   },
   {
    "duration": 872,
    "start_time": "2022-02-19T17:32:47.349Z"
   },
   {
    "duration": 6,
    "start_time": "2022-02-19T17:34:34.351Z"
   },
   {
    "duration": 738,
    "start_time": "2022-02-19T17:34:36.007Z"
   },
   {
    "duration": 5,
    "start_time": "2022-02-19T17:34:58.952Z"
   },
   {
    "duration": 2632,
    "start_time": "2022-02-19T17:35:02.983Z"
   },
   {
    "duration": 6,
    "start_time": "2022-02-19T17:36:47.273Z"
   },
   {
    "duration": 768,
    "start_time": "2022-02-19T17:36:49.841Z"
   },
   {
    "duration": 6,
    "start_time": "2022-02-19T17:41:40.973Z"
   },
   {
    "duration": 747,
    "start_time": "2022-02-19T17:41:45.612Z"
   },
   {
    "duration": 7,
    "start_time": "2022-02-19T17:47:04.920Z"
   },
   {
    "duration": 726,
    "start_time": "2022-02-19T17:47:09.239Z"
   },
   {
    "duration": 783,
    "start_time": "2022-02-19T17:48:22.905Z"
   },
   {
    "duration": 4,
    "start_time": "2022-02-19T17:49:20.408Z"
   },
   {
    "duration": 225,
    "start_time": "2022-02-19T17:49:20.414Z"
   },
   {
    "duration": 16,
    "start_time": "2022-02-19T17:49:20.642Z"
   },
   {
    "duration": 52,
    "start_time": "2022-02-19T17:49:20.660Z"
   },
   {
    "duration": 5,
    "start_time": "2022-02-19T17:49:20.715Z"
   },
   {
    "duration": 44,
    "start_time": "2022-02-19T17:49:20.722Z"
   },
   {
    "duration": 5,
    "start_time": "2022-02-19T17:49:20.768Z"
   },
   {
    "duration": 52,
    "start_time": "2022-02-19T17:49:20.779Z"
   },
   {
    "duration": 24,
    "start_time": "2022-02-19T17:49:20.836Z"
   },
   {
    "duration": 54,
    "start_time": "2022-02-19T17:49:20.863Z"
   },
   {
    "duration": 105,
    "start_time": "2022-02-19T17:49:20.920Z"
   },
   {
    "duration": 111,
    "start_time": "2022-02-19T17:49:21.027Z"
   },
   {
    "duration": 86,
    "start_time": "2022-02-19T17:49:21.141Z"
   },
   {
    "duration": 15,
    "start_time": "2022-02-19T17:49:21.229Z"
   },
   {
    "duration": 5,
    "start_time": "2022-02-19T17:49:21.246Z"
   },
   {
    "duration": 26,
    "start_time": "2022-02-19T17:49:21.253Z"
   },
   {
    "duration": 38,
    "start_time": "2022-02-19T17:49:21.282Z"
   },
   {
    "duration": 44,
    "start_time": "2022-02-19T17:49:21.322Z"
   },
   {
    "duration": 51,
    "start_time": "2022-02-19T17:49:21.369Z"
   },
   {
    "duration": 7,
    "start_time": "2022-02-19T17:49:21.423Z"
   },
   {
    "duration": 24,
    "start_time": "2022-02-19T17:49:21.433Z"
   },
   {
    "duration": 56,
    "start_time": "2022-02-19T17:49:21.460Z"
   },
   {
    "duration": 20,
    "start_time": "2022-02-19T17:49:21.522Z"
   },
   {
    "duration": 26,
    "start_time": "2022-02-19T17:49:21.545Z"
   },
   {
    "duration": 47,
    "start_time": "2022-02-19T17:49:21.573Z"
   },
   {
    "duration": 21,
    "start_time": "2022-02-19T17:49:21.623Z"
   },
   {
    "duration": 13,
    "start_time": "2022-02-19T17:49:21.646Z"
   },
   {
    "duration": 75,
    "start_time": "2022-02-19T17:49:21.662Z"
   },
   {
    "duration": 28,
    "start_time": "2022-02-19T17:49:21.740Z"
   },
   {
    "duration": 5,
    "start_time": "2022-02-19T17:49:21.771Z"
   },
   {
    "duration": 902,
    "start_time": "2022-02-19T17:49:21.779Z"
   },
   {
    "duration": 87,
    "start_time": "2022-02-19T17:49:22.596Z"
   },
   {
    "duration": 84,
    "start_time": "2022-02-19T17:49:22.601Z"
   },
   {
    "duration": 84,
    "start_time": "2022-02-19T17:49:22.603Z"
   },
   {
    "duration": 83,
    "start_time": "2022-02-19T17:49:22.605Z"
   },
   {
    "duration": 83,
    "start_time": "2022-02-19T17:49:22.606Z"
   },
   {
    "duration": 83,
    "start_time": "2022-02-19T17:49:22.608Z"
   },
   {
    "duration": 82,
    "start_time": "2022-02-19T17:49:22.611Z"
   },
   {
    "duration": 5,
    "start_time": "2022-02-19T17:50:54.859Z"
   },
   {
    "duration": 771,
    "start_time": "2022-02-19T17:50:58.090Z"
   },
   {
    "duration": 6,
    "start_time": "2022-02-19T17:51:08.389Z"
   },
   {
    "duration": 738,
    "start_time": "2022-02-19T17:51:11.730Z"
   },
   {
    "duration": 7,
    "start_time": "2022-02-19T18:08:24.872Z"
   },
   {
    "duration": 28,
    "start_time": "2022-02-19T18:08:28.678Z"
   },
   {
    "duration": 6,
    "start_time": "2022-02-19T18:09:15.998Z"
   },
   {
    "duration": 721,
    "start_time": "2022-02-19T18:09:19.086Z"
   },
   {
    "duration": 6,
    "start_time": "2022-02-19T18:12:42.617Z"
   },
   {
    "duration": 885,
    "start_time": "2022-02-19T18:12:45.354Z"
   },
   {
    "duration": 5,
    "start_time": "2022-02-19T18:14:16.049Z"
   },
   {
    "duration": 768,
    "start_time": "2022-02-19T18:14:18.186Z"
   },
   {
    "duration": 6,
    "start_time": "2022-02-19T18:16:57.539Z"
   },
   {
    "duration": 766,
    "start_time": "2022-02-19T18:17:02.091Z"
   },
   {
    "duration": 1072,
    "start_time": "2022-02-19T18:20:28.678Z"
   },
   {
    "duration": 15,
    "start_time": "2022-02-19T18:22:37.039Z"
   },
   {
    "duration": 12,
    "start_time": "2022-02-19T18:22:38.608Z"
   },
   {
    "duration": 6,
    "start_time": "2022-02-19T18:22:43.310Z"
   },
   {
    "duration": 28,
    "start_time": "2022-02-19T18:22:45.887Z"
   },
   {
    "duration": 18,
    "start_time": "2022-02-19T18:23:53.438Z"
   },
   {
    "duration": 18,
    "start_time": "2022-02-19T18:24:33.897Z"
   },
   {
    "duration": 26,
    "start_time": "2022-02-19T18:24:50.922Z"
   },
   {
    "duration": 22,
    "start_time": "2022-02-19T18:25:39.147Z"
   },
   {
    "duration": 17,
    "start_time": "2022-02-19T18:26:30.443Z"
   },
   {
    "duration": 5,
    "start_time": "2022-02-19T18:31:09.172Z"
   },
   {
    "duration": 355,
    "start_time": "2022-02-19T18:35:15.737Z"
   },
   {
    "duration": 35,
    "start_time": "2022-02-19T18:36:01.410Z"
   },
   {
    "duration": 31,
    "start_time": "2022-02-19T18:36:03.689Z"
   },
   {
    "duration": 32,
    "start_time": "2022-02-19T18:36:04.808Z"
   },
   {
    "duration": 59,
    "start_time": "2022-02-19T18:36:33.170Z"
   },
   {
    "duration": 28,
    "start_time": "2022-02-19T18:36:54.888Z"
   },
   {
    "duration": 141,
    "start_time": "2022-02-19T18:37:17.075Z"
   },
   {
    "duration": 12,
    "start_time": "2022-02-19T18:41:32.620Z"
   },
   {
    "duration": 12,
    "start_time": "2022-02-19T18:41:45.707Z"
   },
   {
    "duration": 17,
    "start_time": "2022-02-19T18:43:43.747Z"
   },
   {
    "duration": 21,
    "start_time": "2022-02-19T18:43:46.014Z"
   },
   {
    "duration": 13,
    "start_time": "2022-02-19T18:43:50.268Z"
   },
   {
    "duration": 25,
    "start_time": "2022-02-19T18:50:25.343Z"
   },
   {
    "duration": 775,
    "start_time": "2022-02-19T18:50:27.434Z"
   },
   {
    "duration": 757,
    "start_time": "2022-02-19T18:50:31.290Z"
   },
   {
    "duration": 4,
    "start_time": "2022-02-19T18:50:54.762Z"
   },
   {
    "duration": 203,
    "start_time": "2022-02-19T18:50:54.768Z"
   },
   {
    "duration": 18,
    "start_time": "2022-02-19T18:50:54.975Z"
   },
   {
    "duration": 43,
    "start_time": "2022-02-19T18:50:54.996Z"
   },
   {
    "duration": 7,
    "start_time": "2022-02-19T18:50:55.041Z"
   },
   {
    "duration": 37,
    "start_time": "2022-02-19T18:50:55.050Z"
   },
   {
    "duration": 6,
    "start_time": "2022-02-19T18:50:55.111Z"
   },
   {
    "duration": 33,
    "start_time": "2022-02-19T18:50:55.120Z"
   },
   {
    "duration": 55,
    "start_time": "2022-02-19T18:50:55.156Z"
   },
   {
    "duration": 34,
    "start_time": "2022-02-19T18:50:55.213Z"
   },
   {
    "duration": 108,
    "start_time": "2022-02-19T18:50:55.249Z"
   },
   {
    "duration": 108,
    "start_time": "2022-02-19T18:50:55.360Z"
   },
   {
    "duration": 84,
    "start_time": "2022-02-19T18:50:55.470Z"
   },
   {
    "duration": 14,
    "start_time": "2022-02-19T18:50:55.557Z"
   },
   {
    "duration": 5,
    "start_time": "2022-02-19T18:50:55.573Z"
   },
   {
    "duration": 48,
    "start_time": "2022-02-19T18:50:55.580Z"
   },
   {
    "duration": 14,
    "start_time": "2022-02-19T18:50:55.630Z"
   },
   {
    "duration": 82,
    "start_time": "2022-02-19T18:50:55.647Z"
   },
   {
    "duration": 14,
    "start_time": "2022-02-19T18:50:55.732Z"
   },
   {
    "duration": 5,
    "start_time": "2022-02-19T18:50:55.749Z"
   },
   {
    "duration": 26,
    "start_time": "2022-02-19T18:50:55.756Z"
   },
   {
    "duration": 42,
    "start_time": "2022-02-19T18:50:55.784Z"
   },
   {
    "duration": 22,
    "start_time": "2022-02-19T18:50:55.831Z"
   },
   {
    "duration": 60,
    "start_time": "2022-02-19T18:50:55.857Z"
   },
   {
    "duration": 32,
    "start_time": "2022-02-19T18:50:55.920Z"
   },
   {
    "duration": 19,
    "start_time": "2022-02-19T18:50:55.955Z"
   },
   {
    "duration": 42,
    "start_time": "2022-02-19T18:50:55.976Z"
   },
   {
    "duration": 25,
    "start_time": "2022-02-19T18:50:56.021Z"
   },
   {
    "duration": 13,
    "start_time": "2022-02-19T18:50:56.048Z"
   },
   {
    "duration": 6,
    "start_time": "2022-02-19T18:50:56.064Z"
   },
   {
    "duration": 63,
    "start_time": "2022-02-19T18:50:56.073Z"
   },
   {
    "duration": 19,
    "start_time": "2022-02-19T18:50:56.139Z"
   },
   {
    "duration": 25,
    "start_time": "2022-02-19T18:50:56.160Z"
   },
   {
    "duration": 17,
    "start_time": "2022-02-19T18:50:56.211Z"
   },
   {
    "duration": 31,
    "start_time": "2022-02-19T18:50:56.231Z"
   },
   {
    "duration": 13,
    "start_time": "2022-02-19T18:50:56.264Z"
   },
   {
    "duration": 21,
    "start_time": "2022-02-19T18:50:56.312Z"
   },
   {
    "duration": 13,
    "start_time": "2022-02-19T18:50:56.336Z"
   },
   {
    "duration": 653,
    "start_time": "2022-02-19T18:52:58.147Z"
   },
   {
    "duration": 130,
    "start_time": "2022-02-19T18:57:59.846Z"
   },
   {
    "duration": 114,
    "start_time": "2022-02-19T19:00:12.161Z"
   },
   {
    "duration": 182,
    "start_time": "2022-02-19T19:00:21.728Z"
   },
   {
    "duration": 433,
    "start_time": "2022-02-19T19:00:29.185Z"
   },
   {
    "duration": 7,
    "start_time": "2022-02-19T19:02:43.448Z"
   },
   {
    "duration": 12,
    "start_time": "2022-02-19T19:02:47.111Z"
   },
   {
    "duration": 32,
    "start_time": "2022-02-19T19:03:54.888Z"
   },
   {
    "duration": 16,
    "start_time": "2022-02-19T19:03:58.291Z"
   },
   {
    "duration": 7,
    "start_time": "2022-02-19T19:04:23.428Z"
   },
   {
    "duration": 11,
    "start_time": "2022-02-19T19:04:26.043Z"
   },
   {
    "duration": 30,
    "start_time": "2022-02-19T19:04:40.819Z"
   },
   {
    "duration": 7,
    "start_time": "2022-02-19T19:04:47.059Z"
   },
   {
    "duration": 13,
    "start_time": "2022-02-19T19:04:49.340Z"
   },
   {
    "duration": 12,
    "start_time": "2022-02-19T19:05:22.021Z"
   },
   {
    "duration": 6,
    "start_time": "2022-02-19T19:05:26.060Z"
   },
   {
    "duration": 11,
    "start_time": "2022-02-19T19:05:28.340Z"
   },
   {
    "duration": 4,
    "start_time": "2022-02-19T19:06:32.825Z"
   },
   {
    "duration": 228,
    "start_time": "2022-02-19T19:06:32.832Z"
   },
   {
    "duration": 18,
    "start_time": "2022-02-19T19:06:33.063Z"
   },
   {
    "duration": 67,
    "start_time": "2022-02-19T19:06:33.084Z"
   },
   {
    "duration": 7,
    "start_time": "2022-02-19T19:06:33.154Z"
   },
   {
    "duration": 47,
    "start_time": "2022-02-19T19:06:33.164Z"
   },
   {
    "duration": 7,
    "start_time": "2022-02-19T19:06:33.213Z"
   },
   {
    "duration": 41,
    "start_time": "2022-02-19T19:06:33.224Z"
   },
   {
    "duration": 51,
    "start_time": "2022-02-19T19:06:33.268Z"
   },
   {
    "duration": 37,
    "start_time": "2022-02-19T19:06:33.322Z"
   },
   {
    "duration": 112,
    "start_time": "2022-02-19T19:06:33.362Z"
   },
   {
    "duration": 117,
    "start_time": "2022-02-19T19:06:33.477Z"
   },
   {
    "duration": 87,
    "start_time": "2022-02-19T19:06:33.596Z"
   },
   {
    "duration": 28,
    "start_time": "2022-02-19T19:06:33.685Z"
   },
   {
    "duration": 17,
    "start_time": "2022-02-19T19:06:33.715Z"
   },
   {
    "duration": 37,
    "start_time": "2022-02-19T19:06:33.734Z"
   },
   {
    "duration": 15,
    "start_time": "2022-02-19T19:06:33.774Z"
   },
   {
    "duration": 62,
    "start_time": "2022-02-19T19:06:33.792Z"
   },
   {
    "duration": 16,
    "start_time": "2022-02-19T19:06:33.856Z"
   },
   {
    "duration": 36,
    "start_time": "2022-02-19T19:06:33.875Z"
   },
   {
    "duration": 35,
    "start_time": "2022-02-19T19:06:33.914Z"
   },
   {
    "duration": 17,
    "start_time": "2022-02-19T19:06:33.951Z"
   },
   {
    "duration": 39,
    "start_time": "2022-02-19T19:06:33.973Z"
   },
   {
    "duration": 18,
    "start_time": "2022-02-19T19:06:34.015Z"
   },
   {
    "duration": 24,
    "start_time": "2022-02-19T19:06:34.035Z"
   },
   {
    "duration": 18,
    "start_time": "2022-02-19T19:06:34.061Z"
   },
   {
    "duration": 12,
    "start_time": "2022-02-19T19:06:34.111Z"
   },
   {
    "duration": 21,
    "start_time": "2022-02-19T19:06:34.126Z"
   },
   {
    "duration": 13,
    "start_time": "2022-02-19T19:06:34.150Z"
   },
   {
    "duration": 5,
    "start_time": "2022-02-19T19:06:34.166Z"
   },
   {
    "duration": 59,
    "start_time": "2022-02-19T19:06:34.174Z"
   },
   {
    "duration": 16,
    "start_time": "2022-02-19T19:06:34.236Z"
   },
   {
    "duration": 21,
    "start_time": "2022-02-19T19:06:34.255Z"
   },
   {
    "duration": 45,
    "start_time": "2022-02-19T19:06:34.278Z"
   },
   {
    "duration": 30,
    "start_time": "2022-02-19T19:06:34.326Z"
   },
   {
    "duration": 11,
    "start_time": "2022-02-19T19:06:34.359Z"
   },
   {
    "duration": 48,
    "start_time": "2022-02-19T19:06:34.373Z"
   },
   {
    "duration": 12,
    "start_time": "2022-02-19T19:06:34.423Z"
   },
   {
    "duration": 15,
    "start_time": "2022-02-19T19:10:11.685Z"
   },
   {
    "duration": 13,
    "start_time": "2022-02-19T19:10:28.224Z"
   },
   {
    "duration": 11,
    "start_time": "2022-02-19T19:10:59.329Z"
   },
   {
    "duration": 45,
    "start_time": "2022-02-19T19:12:24.201Z"
   },
   {
    "duration": 16,
    "start_time": "2022-02-19T19:12:26.209Z"
   },
   {
    "duration": 43,
    "start_time": "2022-02-19T19:12:51.524Z"
   },
   {
    "duration": 17,
    "start_time": "2022-02-19T19:12:53.449Z"
   },
   {
    "duration": 30,
    "start_time": "2022-02-19T19:14:52.514Z"
   },
   {
    "duration": 12,
    "start_time": "2022-02-19T19:14:54.098Z"
   },
   {
    "duration": 523,
    "start_time": "2022-02-19T19:16:02.611Z"
   },
   {
    "duration": 33,
    "start_time": "2022-02-19T19:16:08.987Z"
   },
   {
    "duration": 378,
    "start_time": "2022-02-19T19:21:36.429Z"
   },
   {
    "duration": 16,
    "start_time": "2022-02-19T19:24:35.610Z"
   },
   {
    "duration": 12,
    "start_time": "2022-02-19T19:24:37.553Z"
   },
   {
    "duration": 20,
    "start_time": "2022-02-19T19:25:23.203Z"
   },
   {
    "duration": 12,
    "start_time": "2022-02-19T19:25:24.794Z"
   },
   {
    "duration": 397,
    "start_time": "2022-02-19T19:25:43.107Z"
   },
   {
    "duration": 24,
    "start_time": "2022-02-19T19:25:52.385Z"
   },
   {
    "duration": 14,
    "start_time": "2022-02-19T19:25:55.737Z"
   },
   {
    "duration": 33,
    "start_time": "2022-02-19T19:26:50.115Z"
   },
   {
    "duration": 13,
    "start_time": "2022-02-19T19:26:51.370Z"
   },
   {
    "duration": 46,
    "start_time": "2022-02-19T19:28:46.146Z"
   },
   {
    "duration": 12,
    "start_time": "2022-02-19T19:28:47.324Z"
   },
   {
    "duration": 25,
    "start_time": "2022-02-19T19:28:49.395Z"
   },
   {
    "duration": 12,
    "start_time": "2022-02-19T19:28:50.467Z"
   },
   {
    "duration": 20,
    "start_time": "2022-02-19T19:30:03.237Z"
   },
   {
    "duration": 13,
    "start_time": "2022-02-19T19:30:04.492Z"
   },
   {
    "duration": 18,
    "start_time": "2022-02-19T19:30:17.005Z"
   },
   {
    "duration": 13,
    "start_time": "2022-02-19T19:30:18.871Z"
   },
   {
    "duration": 29,
    "start_time": "2022-02-19T19:30:24.732Z"
   },
   {
    "duration": 11,
    "start_time": "2022-02-19T19:30:25.910Z"
   },
   {
    "duration": 381,
    "start_time": "2022-02-19T19:32:53.102Z"
   },
   {
    "duration": 8,
    "start_time": "2022-02-19T19:33:03.310Z"
   },
   {
    "duration": 6,
    "start_time": "2022-02-19T19:33:05.710Z"
   },
   {
    "duration": 12,
    "start_time": "2022-02-19T19:33:35.479Z"
   },
   {
    "duration": 6,
    "start_time": "2022-02-19T19:33:37.271Z"
   },
   {
    "duration": 7,
    "start_time": "2022-02-19T19:35:38.564Z"
   },
   {
    "duration": 3,
    "start_time": "2022-02-19T19:35:44.539Z"
   },
   {
    "duration": 196,
    "start_time": "2022-02-19T19:35:44.544Z"
   },
   {
    "duration": 15,
    "start_time": "2022-02-19T19:35:44.743Z"
   },
   {
    "duration": 52,
    "start_time": "2022-02-19T19:35:44.760Z"
   },
   {
    "duration": 5,
    "start_time": "2022-02-19T19:35:44.814Z"
   },
   {
    "duration": 17,
    "start_time": "2022-02-19T19:35:44.821Z"
   },
   {
    "duration": 5,
    "start_time": "2022-02-19T19:35:44.840Z"
   },
   {
    "duration": 64,
    "start_time": "2022-02-19T19:35:44.848Z"
   },
   {
    "duration": 33,
    "start_time": "2022-02-19T19:35:44.916Z"
   },
   {
    "duration": 30,
    "start_time": "2022-02-19T19:35:44.952Z"
   },
   {
    "duration": 107,
    "start_time": "2022-02-19T19:35:44.984Z"
   },
   {
    "duration": 103,
    "start_time": "2022-02-19T19:35:45.093Z"
   },
   {
    "duration": 85,
    "start_time": "2022-02-19T19:35:45.199Z"
   },
   {
    "duration": 27,
    "start_time": "2022-02-19T19:35:45.286Z"
   },
   {
    "duration": 4,
    "start_time": "2022-02-19T19:35:45.315Z"
   },
   {
    "duration": 27,
    "start_time": "2022-02-19T19:35:45.321Z"
   },
   {
    "duration": 14,
    "start_time": "2022-02-19T19:35:45.351Z"
   },
   {
    "duration": 78,
    "start_time": "2022-02-19T19:35:45.367Z"
   },
   {
    "duration": 14,
    "start_time": "2022-02-19T19:35:45.447Z"
   },
   {
    "duration": 5,
    "start_time": "2022-02-19T19:35:45.463Z"
   },
   {
    "duration": 51,
    "start_time": "2022-02-19T19:35:45.470Z"
   },
   {
    "duration": 18,
    "start_time": "2022-02-19T19:35:45.523Z"
   },
   {
    "duration": 19,
    "start_time": "2022-02-19T19:35:45.543Z"
   },
   {
    "duration": 50,
    "start_time": "2022-02-19T19:35:45.564Z"
   },
   {
    "duration": 20,
    "start_time": "2022-02-19T19:35:45.617Z"
   },
   {
    "duration": 18,
    "start_time": "2022-02-19T19:35:45.639Z"
   },
   {
    "duration": 12,
    "start_time": "2022-02-19T19:35:45.662Z"
   },
   {
    "duration": 20,
    "start_time": "2022-02-19T19:35:45.712Z"
   },
   {
    "duration": 16,
    "start_time": "2022-02-19T19:35:45.734Z"
   },
   {
    "duration": 5,
    "start_time": "2022-02-19T19:35:45.753Z"
   },
   {
    "duration": 55,
    "start_time": "2022-02-19T19:35:45.760Z"
   },
   {
    "duration": 17,
    "start_time": "2022-02-19T19:35:45.817Z"
   },
   {
    "duration": 21,
    "start_time": "2022-02-19T19:35:45.836Z"
   },
   {
    "duration": 15,
    "start_time": "2022-02-19T19:35:45.859Z"
   },
   {
    "duration": 42,
    "start_time": "2022-02-19T19:35:45.876Z"
   },
   {
    "duration": 6,
    "start_time": "2022-02-19T19:35:45.921Z"
   },
   {
    "duration": 8,
    "start_time": "2022-02-19T19:35:45.930Z"
   },
   {
    "duration": 6,
    "start_time": "2022-02-19T19:35:45.941Z"
   },
   {
    "duration": 99,
    "start_time": "2022-03-01T11:38:34.660Z"
   },
   {
    "duration": 63,
    "start_time": "2022-03-01T11:38:42.573Z"
   },
   {
    "duration": 233,
    "start_time": "2022-03-01T11:39:26.932Z"
   },
   {
    "duration": 571,
    "start_time": "2022-03-01T11:39:40.547Z"
   },
   {
    "duration": 133,
    "start_time": "2022-03-01T11:39:41.120Z"
   },
   {
    "duration": 17,
    "start_time": "2022-03-01T11:39:41.255Z"
   },
   {
    "duration": 28,
    "start_time": "2022-03-01T11:39:41.274Z"
   },
   {
    "duration": 4,
    "start_time": "2022-03-01T11:39:41.304Z"
   },
   {
    "duration": 39,
    "start_time": "2022-03-01T11:39:41.310Z"
   },
   {
    "duration": 12,
    "start_time": "2022-03-01T11:39:41.351Z"
   },
   {
    "duration": 25,
    "start_time": "2022-03-01T11:39:41.365Z"
   },
   {
    "duration": 20,
    "start_time": "2022-03-01T11:39:41.392Z"
   },
   {
    "duration": 32,
    "start_time": "2022-03-01T11:39:41.414Z"
   },
   {
    "duration": 62,
    "start_time": "2022-03-01T11:39:41.448Z"
   },
   {
    "duration": 91,
    "start_time": "2022-03-01T11:39:41.511Z"
   },
   {
    "duration": 60,
    "start_time": "2022-03-01T11:39:41.603Z"
   },
   {
    "duration": 9,
    "start_time": "2022-03-01T11:39:41.665Z"
   },
   {
    "duration": 3,
    "start_time": "2022-03-01T11:39:41.676Z"
   },
   {
    "duration": 19,
    "start_time": "2022-03-01T11:39:41.681Z"
   },
   {
    "duration": 10,
    "start_time": "2022-03-01T11:39:41.702Z"
   },
   {
    "duration": 49,
    "start_time": "2022-03-01T11:39:41.713Z"
   },
   {
    "duration": 10,
    "start_time": "2022-03-01T11:39:41.764Z"
   },
   {
    "duration": 7,
    "start_time": "2022-03-01T11:39:41.776Z"
   },
   {
    "duration": 23,
    "start_time": "2022-03-01T11:39:41.785Z"
   },
   {
    "duration": 15,
    "start_time": "2022-03-01T11:39:41.809Z"
   },
   {
    "duration": 15,
    "start_time": "2022-03-01T11:39:41.827Z"
   },
   {
    "duration": 13,
    "start_time": "2022-03-01T11:39:41.844Z"
   },
   {
    "duration": 16,
    "start_time": "2022-03-01T11:39:41.859Z"
   },
   {
    "duration": 14,
    "start_time": "2022-03-01T11:39:41.877Z"
   },
   {
    "duration": 8,
    "start_time": "2022-03-01T11:39:41.892Z"
   },
   {
    "duration": 20,
    "start_time": "2022-03-01T11:39:41.902Z"
   },
   {
    "duration": 11,
    "start_time": "2022-03-01T11:39:41.924Z"
   },
   {
    "duration": 4,
    "start_time": "2022-03-01T11:39:41.937Z"
   },
   {
    "duration": 28,
    "start_time": "2022-03-01T11:39:41.942Z"
   },
   {
    "duration": 13,
    "start_time": "2022-03-01T11:39:41.971Z"
   },
   {
    "duration": 17,
    "start_time": "2022-03-01T11:39:41.985Z"
   },
   {
    "duration": 13,
    "start_time": "2022-03-01T11:39:42.003Z"
   },
   {
    "duration": 7,
    "start_time": "2022-03-01T11:39:42.018Z"
   },
   {
    "duration": 5,
    "start_time": "2022-03-01T11:39:42.027Z"
   },
   {
    "duration": 9,
    "start_time": "2022-03-01T11:39:42.034Z"
   },
   {
    "duration": 7,
    "start_time": "2022-03-01T11:39:42.045Z"
   },
   {
    "duration": 22,
    "start_time": "2022-03-01T11:39:55.710Z"
   },
   {
    "duration": 17,
    "start_time": "2022-03-01T11:40:11.677Z"
   },
   {
    "duration": 70,
    "start_time": "2022-03-01T11:40:27.405Z"
   },
   {
    "duration": 3,
    "start_time": "2022-03-01T11:42:05.337Z"
   },
   {
    "duration": 573,
    "start_time": "2022-03-01T11:47:03.384Z"
   },
   {
    "duration": 147,
    "start_time": "2022-03-01T11:47:03.958Z"
   },
   {
    "duration": 17,
    "start_time": "2022-03-01T11:47:04.107Z"
   },
   {
    "duration": 58,
    "start_time": "2022-03-01T11:47:04.126Z"
   },
   {
    "duration": 16,
    "start_time": "2022-03-01T11:47:04.186Z"
   },
   {
    "duration": 39,
    "start_time": "2022-03-01T11:47:04.203Z"
   },
   {
    "duration": 24,
    "start_time": "2022-03-01T11:47:04.244Z"
   },
   {
    "duration": 39,
    "start_time": "2022-03-01T11:47:04.270Z"
   },
   {
    "duration": 31,
    "start_time": "2022-03-01T11:47:04.311Z"
   },
   {
    "duration": 69,
    "start_time": "2022-03-01T11:47:04.344Z"
   },
   {
    "duration": 98,
    "start_time": "2022-03-01T11:47:04.415Z"
   },
   {
    "duration": 67,
    "start_time": "2022-03-01T11:47:04.515Z"
   },
   {
    "duration": 54,
    "start_time": "2022-03-01T11:47:04.584Z"
   },
   {
    "duration": 8,
    "start_time": "2022-03-01T11:47:04.640Z"
   },
   {
    "duration": 260,
    "start_time": "2022-03-01T11:47:04.650Z"
   },
   {
    "duration": -472,
    "start_time": "2022-03-01T11:47:05.385Z"
   },
   {
    "duration": -473,
    "start_time": "2022-03-01T11:47:05.387Z"
   },
   {
    "duration": -474,
    "start_time": "2022-03-01T11:47:05.390Z"
   },
   {
    "duration": -474,
    "start_time": "2022-03-01T11:47:05.392Z"
   },
   {
    "duration": -474,
    "start_time": "2022-03-01T11:47:05.393Z"
   },
   {
    "duration": -479,
    "start_time": "2022-03-01T11:47:05.399Z"
   },
   {
    "duration": -481,
    "start_time": "2022-03-01T11:47:05.402Z"
   },
   {
    "duration": -482,
    "start_time": "2022-03-01T11:47:05.405Z"
   },
   {
    "duration": -483,
    "start_time": "2022-03-01T11:47:05.407Z"
   },
   {
    "duration": -483,
    "start_time": "2022-03-01T11:47:05.409Z"
   },
   {
    "duration": -484,
    "start_time": "2022-03-01T11:47:05.411Z"
   },
   {
    "duration": -485,
    "start_time": "2022-03-01T11:47:05.413Z"
   },
   {
    "duration": -485,
    "start_time": "2022-03-01T11:47:05.415Z"
   },
   {
    "duration": -485,
    "start_time": "2022-03-01T11:47:05.416Z"
   },
   {
    "duration": -487,
    "start_time": "2022-03-01T11:47:05.419Z"
   },
   {
    "duration": -487,
    "start_time": "2022-03-01T11:47:05.420Z"
   },
   {
    "duration": -489,
    "start_time": "2022-03-01T11:47:05.423Z"
   },
   {
    "duration": -490,
    "start_time": "2022-03-01T11:47:05.425Z"
   },
   {
    "duration": -490,
    "start_time": "2022-03-01T11:47:05.427Z"
   },
   {
    "duration": -495,
    "start_time": "2022-03-01T11:47:05.433Z"
   },
   {
    "duration": -496,
    "start_time": "2022-03-01T11:47:05.435Z"
   },
   {
    "duration": -496,
    "start_time": "2022-03-01T11:47:05.436Z"
   },
   {
    "duration": -497,
    "start_time": "2022-03-01T11:47:05.438Z"
   },
   {
    "duration": 16,
    "start_time": "2022-03-01T11:47:14.454Z"
   },
   {
    "duration": 9,
    "start_time": "2022-03-01T11:47:21.982Z"
   },
   {
    "duration": 11,
    "start_time": "2022-03-01T11:47:57.407Z"
   },
   {
    "duration": 606,
    "start_time": "2022-03-01T11:51:07.358Z"
   },
   {
    "duration": 133,
    "start_time": "2022-03-01T11:51:07.966Z"
   },
   {
    "duration": 17,
    "start_time": "2022-03-01T11:51:08.101Z"
   },
   {
    "duration": 31,
    "start_time": "2022-03-01T11:51:08.120Z"
   },
   {
    "duration": 4,
    "start_time": "2022-03-01T11:51:08.153Z"
   },
   {
    "duration": 25,
    "start_time": "2022-03-01T11:51:08.159Z"
   },
   {
    "duration": 4,
    "start_time": "2022-03-01T11:51:08.186Z"
   },
   {
    "duration": 48,
    "start_time": "2022-03-01T11:51:08.193Z"
   },
   {
    "duration": 18,
    "start_time": "2022-03-01T11:51:08.244Z"
   },
   {
    "duration": 22,
    "start_time": "2022-03-01T11:51:08.264Z"
   },
   {
    "duration": 84,
    "start_time": "2022-03-01T11:51:08.288Z"
   },
   {
    "duration": 82,
    "start_time": "2022-03-01T11:51:08.374Z"
   },
   {
    "duration": 52,
    "start_time": "2022-03-01T11:51:08.457Z"
   },
   {
    "duration": 9,
    "start_time": "2022-03-01T11:51:08.511Z"
   },
   {
    "duration": 17,
    "start_time": "2022-03-01T11:51:08.521Z"
   },
   {
    "duration": 16,
    "start_time": "2022-03-01T11:51:08.539Z"
   },
   {
    "duration": 9,
    "start_time": "2022-03-01T11:51:08.557Z"
   },
   {
    "duration": 35,
    "start_time": "2022-03-01T11:51:08.568Z"
   },
   {
    "duration": 40,
    "start_time": "2022-03-01T11:51:08.605Z"
   },
   {
    "duration": 4,
    "start_time": "2022-03-01T11:51:08.647Z"
   },
   {
    "duration": 23,
    "start_time": "2022-03-01T11:51:08.652Z"
   },
   {
    "duration": 14,
    "start_time": "2022-03-01T11:51:08.677Z"
   },
   {
    "duration": 16,
    "start_time": "2022-03-01T11:51:08.694Z"
   },
   {
    "duration": 40,
    "start_time": "2022-03-01T11:51:08.712Z"
   },
   {
    "duration": 16,
    "start_time": "2022-03-01T11:51:08.754Z"
   },
   {
    "duration": 14,
    "start_time": "2022-03-01T11:51:08.772Z"
   },
   {
    "duration": 8,
    "start_time": "2022-03-01T11:51:08.788Z"
   },
   {
    "duration": 42,
    "start_time": "2022-03-01T11:51:08.798Z"
   },
   {
    "duration": 8,
    "start_time": "2022-03-01T11:51:08.842Z"
   },
   {
    "duration": 4,
    "start_time": "2022-03-01T11:51:08.852Z"
   },
   {
    "duration": 24,
    "start_time": "2022-03-01T11:51:08.858Z"
   },
   {
    "duration": 13,
    "start_time": "2022-03-01T11:51:08.884Z"
   },
   {
    "duration": 43,
    "start_time": "2022-03-01T11:51:08.898Z"
   },
   {
    "duration": 13,
    "start_time": "2022-03-01T11:51:08.943Z"
   },
   {
    "duration": 11,
    "start_time": "2022-03-01T11:51:08.958Z"
   },
   {
    "duration": 6,
    "start_time": "2022-03-01T11:51:08.971Z"
   },
   {
    "duration": 12,
    "start_time": "2022-03-01T11:51:08.979Z"
   },
   {
    "duration": 8,
    "start_time": "2022-03-01T11:51:08.993Z"
   },
   {
    "duration": 60,
    "start_time": "2022-03-01T11:52:14.278Z"
   },
   {
    "duration": 35,
    "start_time": "2022-03-01T11:52:21.295Z"
   },
   {
    "duration": 61,
    "start_time": "2022-03-01T11:52:31.183Z"
   },
   {
    "duration": 4,
    "start_time": "2022-03-01T11:52:42.064Z"
   },
   {
    "duration": 9,
    "start_time": "2022-03-01T11:52:59.815Z"
   },
   {
    "duration": 62,
    "start_time": "2022-03-01T11:53:35.977Z"
   },
   {
    "duration": 9,
    "start_time": "2022-03-01T11:54:07.779Z"
   },
   {
    "duration": 29,
    "start_time": "2022-03-01T11:55:59.935Z"
   },
   {
    "duration": 32,
    "start_time": "2022-03-01T11:56:15.355Z"
   },
   {
    "duration": 535,
    "start_time": "2022-03-01T11:56:53.986Z"
   },
   {
    "duration": 135,
    "start_time": "2022-03-01T11:56:54.523Z"
   },
   {
    "duration": 15,
    "start_time": "2022-03-01T11:56:54.660Z"
   },
   {
    "duration": 25,
    "start_time": "2022-03-01T11:56:54.677Z"
   },
   {
    "duration": 4,
    "start_time": "2022-03-01T11:56:54.704Z"
   },
   {
    "duration": 45,
    "start_time": "2022-03-01T11:56:54.709Z"
   },
   {
    "duration": 8,
    "start_time": "2022-03-01T11:56:54.755Z"
   },
   {
    "duration": 24,
    "start_time": "2022-03-01T11:56:54.765Z"
   },
   {
    "duration": 16,
    "start_time": "2022-03-01T11:56:54.791Z"
   },
   {
    "duration": 48,
    "start_time": "2022-03-01T11:56:54.809Z"
   },
   {
    "duration": 60,
    "start_time": "2022-03-01T11:56:54.858Z"
   },
   {
    "duration": 71,
    "start_time": "2022-03-01T11:56:54.919Z"
   },
   {
    "duration": 65,
    "start_time": "2022-03-01T11:56:54.991Z"
   },
   {
    "duration": 9,
    "start_time": "2022-03-01T11:56:55.058Z"
   },
   {
    "duration": 3,
    "start_time": "2022-03-01T11:56:55.069Z"
   },
   {
    "duration": 19,
    "start_time": "2022-03-01T11:56:55.074Z"
   },
   {
    "duration": 9,
    "start_time": "2022-03-01T11:56:55.095Z"
   },
   {
    "duration": 57,
    "start_time": "2022-03-01T11:56:55.106Z"
   },
   {
    "duration": 11,
    "start_time": "2022-03-01T11:56:55.165Z"
   },
   {
    "duration": 4,
    "start_time": "2022-03-01T11:56:55.177Z"
   },
   {
    "duration": 26,
    "start_time": "2022-03-01T11:56:55.183Z"
   },
   {
    "duration": 35,
    "start_time": "2022-03-01T11:56:55.210Z"
   },
   {
    "duration": 17,
    "start_time": "2022-03-01T11:56:55.249Z"
   },
   {
    "duration": 13,
    "start_time": "2022-03-01T11:56:55.268Z"
   },
   {
    "duration": 14,
    "start_time": "2022-03-01T11:56:55.283Z"
   },
   {
    "duration": 38,
    "start_time": "2022-03-01T11:56:55.299Z"
   },
   {
    "duration": 8,
    "start_time": "2022-03-01T11:56:55.340Z"
   },
   {
    "duration": 13,
    "start_time": "2022-03-01T11:56:55.349Z"
   },
   {
    "duration": 8,
    "start_time": "2022-03-01T11:56:55.363Z"
   },
   {
    "duration": 6,
    "start_time": "2022-03-01T11:56:55.373Z"
   },
   {
    "duration": 21,
    "start_time": "2022-03-01T11:56:55.381Z"
   },
   {
    "duration": 35,
    "start_time": "2022-03-01T11:56:55.404Z"
   },
   {
    "duration": 18,
    "start_time": "2022-03-01T11:56:55.440Z"
   },
   {
    "duration": 12,
    "start_time": "2022-03-01T11:56:55.459Z"
   },
   {
    "duration": 8,
    "start_time": "2022-03-01T11:56:55.473Z"
   },
   {
    "duration": 7,
    "start_time": "2022-03-01T11:56:55.483Z"
   },
   {
    "duration": 7,
    "start_time": "2022-03-01T11:56:55.492Z"
   },
   {
    "duration": 5,
    "start_time": "2022-03-01T11:56:55.501Z"
   },
   {
    "duration": 30,
    "start_time": "2022-03-01T11:56:55.538Z"
   },
   {
    "duration": 5,
    "start_time": "2022-03-06T14:46:34.497Z"
   },
   {
    "duration": 67,
    "start_time": "2022-03-06T16:55:07.865Z"
   },
   {
    "duration": 86,
    "start_time": "2022-03-06T16:57:45.378Z"
   }
  ],
  "colab": {
   "collapsed_sections": [
    "E0vqbgi9ay0H",
    "VUC88oWjTJw2"
   ],
   "name": "yandex_music_project_2021.2.ipynb",
   "provenance": []
  },
  "kernelspec": {
   "display_name": "Python 3 (ipykernel)",
   "language": "python",
   "name": "python3"
  },
  "language_info": {
   "codemirror_mode": {
    "name": "ipython",
    "version": 3
   },
   "file_extension": ".py",
   "mimetype": "text/x-python",
   "name": "python",
   "nbconvert_exporter": "python",
   "pygments_lexer": "ipython3",
   "version": "3.9.7"
  },
  "toc": {
   "base_numbering": 1,
   "nav_menu": {},
   "number_sections": true,
   "sideBar": true,
   "skip_h1_title": true,
   "title_cell": "Содержание",
   "title_sidebar": "Contents",
   "toc_cell": true,
   "toc_position": {},
   "toc_section_display": true,
   "toc_window_display": false
  }
 },
 "nbformat": 4,
 "nbformat_minor": 1
}
