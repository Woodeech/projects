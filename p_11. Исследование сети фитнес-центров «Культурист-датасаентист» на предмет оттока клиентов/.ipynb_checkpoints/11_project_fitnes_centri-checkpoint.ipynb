{
 "cells": [
  {
   "cell_type": "markdown",
   "metadata": {
    "toc": true
   },
   "source": [
    "<h1>Содержание<span class=\"tocSkip\"></span></h1>\n",
    "<div class=\"toc\"><ul class=\"toc-item\"><li><span><a href=\"#Шаг.-загрузить-данные\" data-toc-modified-id=\"Шаг.-загрузить-данные-1\"><span class=\"toc-item-num\">1&nbsp;&nbsp;</span>Шаг. загрузить данные</a></span><ul class=\"toc-item\"><li><span><a href=\"#Вывод-по-загрузке-данных\" data-toc-modified-id=\"Вывод-по-загрузке-данных-1.1\"><span class=\"toc-item-num\">1.1&nbsp;&nbsp;</span>Вывод по загрузке данных</a></span></li></ul></li><li><span><a href=\"#Шаг.-Провести-исследовательский-анализ-данных-(EDA)\" data-toc-modified-id=\"Шаг.-Провести-исследовательский-анализ-данных-(EDA)-2\"><span class=\"toc-item-num\">2&nbsp;&nbsp;</span>Шаг. Провести исследовательский анализ данных (EDA)</a></span><ul class=\"toc-item\"><li><span><a href=\"#Посмотрим-на-датасет:-есть-ли-в-нём-отсутствующие-значения-(пропуски),-изучим-средние-значения-и-стандартные-отклонения\" data-toc-modified-id=\"Посмотрим-на-датасет:-есть-ли-в-нём-отсутствующие-значения-(пропуски),-изучим-средние-значения-и-стандартные-отклонения-2.1\"><span class=\"toc-item-num\">2.1&nbsp;&nbsp;</span>Посмотрим на датасет: есть ли в нём отсутствующие значения (пропуски), изучим средние значения и стандартные отклонения</a></span></li><li><span><a href=\"#Посмотрим-на-средние-значения-признаков-в-двух-группах-—-тех,-кто-ушел-в-отток-и-тех,-кто-остался\" data-toc-modified-id=\"Посмотрим-на-средние-значения-признаков-в-двух-группах-—-тех,-кто-ушел-в-отток-и-тех,-кто-остался-2.2\"><span class=\"toc-item-num\">2.2&nbsp;&nbsp;</span>Посмотрим на средние значения признаков в двух группах — тех, кто ушел в отток и тех, кто остался</a></span></li><li><span><a href=\"#Построим-столбчатые-гистограммы-и-распределения-признаков-для-тех,-кто-ушёл-(отток)-и-тех,-кто-остался-(не-попали-в-отток);\" data-toc-modified-id=\"Построим-столбчатые-гистограммы-и-распределения-признаков-для-тех,-кто-ушёл-(отток)-и-тех,-кто-остался-(не-попали-в-отток);-2.3\"><span class=\"toc-item-num\">2.3&nbsp;&nbsp;</span>Построим столбчатые гистограммы и распределения признаков для тех, кто ушёл (отток) и тех, кто остался (не попали в отток);</a></span></li><li><span><a href=\"#Построим-матрицу-корреляций-и-отобразим-её\" data-toc-modified-id=\"Построим-матрицу-корреляций-и-отобразим-её-2.4\"><span class=\"toc-item-num\">2.4&nbsp;&nbsp;</span>Построим матрицу корреляций и отобразим её</a></span></li><li><span><a href=\"#Вывод-по-исследовательскиому-анализу-данных-(EDA)\" data-toc-modified-id=\"Вывод-по-исследовательскиому-анализу-данных-(EDA)-2.5\"><span class=\"toc-item-num\">2.5&nbsp;&nbsp;</span>Вывод по исследовательскиому анализу данных (EDA)</a></span></li></ul></li><li><span><a href=\"#Шаг.-Построим-модель-прогнозирования-оттока-клиентов\" data-toc-modified-id=\"Шаг.-Построим-модель-прогнозирования-оттока-клиентов-3\"><span class=\"toc-item-num\">3&nbsp;&nbsp;</span>Шаг. Построим модель прогнозирования оттока клиентов</a></span><ul class=\"toc-item\"><li><span><a href=\"#Построим-модель-бинарной-классификации-клиентов,-где-целевой-признак-—-факт-оттока-клиента-в-следующем-месяце\" data-toc-modified-id=\"Построим-модель-бинарной-классификации-клиентов,-где-целевой-признак-—-факт-оттока-клиента-в-следующем-месяце-3.1\"><span class=\"toc-item-num\">3.1&nbsp;&nbsp;</span>Построим модель бинарной классификации клиентов, где целевой признак — факт оттока клиента в следующем месяце</a></span></li><li><span><a href=\"#Вывод-по-модели-прогнозирования-оттока-клиентов\" data-toc-modified-id=\"Вывод-по-модели-прогнозирования-оттока-клиентов-3.2\"><span class=\"toc-item-num\">3.2&nbsp;&nbsp;</span>Вывод по модели прогнозирования оттока клиентов</a></span></li></ul></li><li><span><a href=\"#Шаг.-Сделаем-кластеризацию-клиентов\" data-toc-modified-id=\"Шаг.-Сделаем-кластеризацию-клиентов-4\"><span class=\"toc-item-num\">4&nbsp;&nbsp;</span>Шаг. Сделаем кластеризацию клиентов</a></span><ul class=\"toc-item\"><li><span><a href=\"#Стандартизируем-данные-и-построим-матрицу-расстояний-функцией-linkage()-на-стандартизованной-матрице-признаков-и-нарисуем-дендрограмму\" data-toc-modified-id=\"Стандартизируем-данные-и-построим-матрицу-расстояний-функцией-linkage()-на-стандартизованной-матрице-признаков-и-нарисуем-дендрограмму-4.1\"><span class=\"toc-item-num\">4.1&nbsp;&nbsp;</span>Стандартизируем данные и построим матрицу расстояний функцией <code>linkage()</code> на стандартизованной матрице признаков и нарисуем дендрограмму</a></span></li><li><span><a href=\"#Обучим-модель-кластеризации-на-основании-алгоритма-K-Means-и-спрогнозируем-кластеры-клиентов-и-посмотрим-на-средние-значения-признаков-для-кластеров\" data-toc-modified-id=\"Обучим-модель-кластеризации-на-основании-алгоритма-K-Means-и-спрогнозируем-кластеры-клиентов-и-посмотрим-на-средние-значения-признаков-для-кластеров-4.2\"><span class=\"toc-item-num\">4.2&nbsp;&nbsp;</span>Обучим модель кластеризации на основании алгоритма K-Means и спрогнозируем кластеры клиентов и посмотрим на средние значения признаков для кластеров</a></span></li><li><span><a href=\"#Пострим-распределения-признаков-для-кластеров\" data-toc-modified-id=\"Пострим-распределения-признаков-для-кластеров-4.3\"><span class=\"toc-item-num\">4.3&nbsp;&nbsp;</span>Пострим распределения признаков для кластеров</a></span></li><li><span><a href=\"#Для-каждого-полученного-кластера-посчитаем-долю-оттока\" data-toc-modified-id=\"Для-каждого-полученного-кластера-посчитаем-долю-оттока-4.4\"><span class=\"toc-item-num\">4.4&nbsp;&nbsp;</span>Для каждого полученного кластера посчитаем долю оттока</a></span></li><li><span><a href=\"#Вывод-по-кластеризации-клиентов\" data-toc-modified-id=\"Вывод-по-кластеризации-клиентов-4.5\"><span class=\"toc-item-num\">4.5&nbsp;&nbsp;</span>Вывод по кластеризации клиентов</a></span></li></ul></li><li><span><a href=\"#Шаг.-Выводы-и-базовые-рекомендации-по-работе-с-клиентами\" data-toc-modified-id=\"Шаг.-Выводы-и-базовые-рекомендации-по-работе-с-клиентами-5\"><span class=\"toc-item-num\">5&nbsp;&nbsp;</span>Шаг. Выводы и базовые рекомендации по работе с клиентами</a></span></li></ul></div>"
   ]
  },
  {
   "cell_type": "markdown",
   "metadata": {},
   "source": [
    "# Исследование сети фитнес-центров «Культурист-датасаентист» на предмет оттока клиентов"
   ]
  },
  {
   "cell_type": "markdown",
   "metadata": {},
   "source": [
    "**Цель исследования**\n",
    "\n",
    "Разобраться, когда клиенты перестают пользоваться услугами фитнес центров и дать рекомендации по уменьшению оттока клиентов\n"
   ]
  },
  {
   "cell_type": "markdown",
   "metadata": {},
   "source": [
    "## Шаг. загрузить данные"
   ]
  },
  {
   "cell_type": "code",
   "execution_count": 1,
   "metadata": {},
   "outputs": [],
   "source": [
    "# импортируем библиотеку pandas\n",
    "import pandas as pd\n",
    "# импортируем библиотеку matplotlib\n",
    "import matplotlib.pyplot as plt\n",
    "# импортируем библиотеку seaborn\n",
    "import seaborn as sns\n",
    "# импортируем библиотеку math\n",
    "import math as mth\n",
    "# импортируем библиотеку numpy\n",
    "import numpy as np\n",
    "# импортируем библиотеку stats\n",
    "from scipy import stats as st\n",
    "# импортируем модуль datetime для управления временем\n",
    "import datetime as dt\n",
    "# импортируем класс timedelta() модуля datetime представляет собой продолжительность, разницу между двумя датами или временем\n",
    "from datetime import datetime, timedelta\n",
    "# импортируем библиотеку plotly для построения интерактивных графиков\n",
    "import plotly.express as px\n",
    "# импортируем набор методов graph_objects\n",
    "from plotly import graph_objects as go\n",
    "# импортируем класс StandardScaler() для нормализации и стандартизации данных. В модуле preprocessing есть готовые класс соответственно.\n",
    "from sklearn.preprocessing import StandardScaler\n",
    "# импортируем функцию train_test_split(), чтобы разделить выборку на обучающую и валидационную\n",
    "from sklearn.model_selection import train_test_split\n",
    "# импортируем алгоритмы линейной регрессии, которые находятся в модуле linear_model.\n",
    "from sklearn.linear_model import Lasso, Ridge\n",
    "# импортируем алгоритм дерева принятия решений\n",
    "from sklearn.tree import DecisionTreeRegressor\n",
    "# импортируем метрики регрессии\n",
    "from sklearn.metrics import mean_absolute_error, mean_squared_error, r2_score\n",
    "# импортируем логистическую регрессию\n",
    "from sklearn.linear_model import LogisticRegression\n",
    "# импортируем метрики классификации\n",
    "from sklearn.metrics import accuracy_score, precision_score, recall_score, f1_score\n",
    "# импортируем алгоритм ансамбль деревьев: случайный лес и градиентный бустинг\n",
    "from sklearn.ensemble import RandomForestClassifier, GradientBoostingClassifier\n",
    "# из модуля для иерархической кластеризации hierarchy импортируем классы модели кластеризации linkage() и dendrogram()\n",
    "from scipy.cluster.hierarchy import dendrogram, linkage\n",
    "# импортируем алгоритм KMeans\n",
    "from sklearn.cluster import KMeans"
   ]
  },
  {
   "cell_type": "code",
   "execution_count": 2,
   "metadata": {},
   "outputs": [],
   "source": [
    "# используем настроики \"pandas\". Настроим вывод таблиц так, чтобы все колонки были видны. \n",
    "pd.set_option('display.max_columns', 200)\n",
    "pd.set_option('display.max_colwidth', 200)"
   ]
  },
  {
   "cell_type": "code",
   "execution_count": 3,
   "metadata": {},
   "outputs": [],
   "source": [
    "# чтение файла и использование параметра \"sep\", который отвечает за разделитель колонок.\n",
    "try:\n",
    "    gym_churn = pd.read_csv('C:/Users/Woode/Projects yandex/ML/gym_churn.csv')\n",
    "except:\n",
    "    gym_churn = pd.read_csv('/datasets/gym_churn.csv')"
   ]
  },
  {
   "cell_type": "markdown",
   "metadata": {},
   "source": [
    "### Вывод по загрузке данных\n",
    "Данные загружены в файл: - `gym_churn`."
   ]
  },
  {
   "cell_type": "markdown",
   "metadata": {},
   "source": [
    "## Шаг. Провести исследовательский анализ данных (EDA)"
   ]
  },
  {
   "cell_type": "markdown",
   "metadata": {},
   "source": [
    "### Посмотрим на датасет: есть ли в нём отсутствующие значения (пропуски), изучим средние значения и стандартные отклонения"
   ]
  },
  {
   "cell_type": "code",
   "execution_count": 4,
   "metadata": {},
   "outputs": [
    {
     "data": {
      "text/html": [
       "<div>\n",
       "<style scoped>\n",
       "    .dataframe tbody tr th:only-of-type {\n",
       "        vertical-align: middle;\n",
       "    }\n",
       "\n",
       "    .dataframe tbody tr th {\n",
       "        vertical-align: top;\n",
       "    }\n",
       "\n",
       "    .dataframe thead th {\n",
       "        text-align: right;\n",
       "    }\n",
       "</style>\n",
       "<table border=\"1\" class=\"dataframe\">\n",
       "  <thead>\n",
       "    <tr style=\"text-align: right;\">\n",
       "      <th></th>\n",
       "      <th>gender</th>\n",
       "      <th>Near_Location</th>\n",
       "      <th>Partner</th>\n",
       "      <th>Promo_friends</th>\n",
       "      <th>Phone</th>\n",
       "      <th>Contract_period</th>\n",
       "      <th>Group_visits</th>\n",
       "      <th>Age</th>\n",
       "      <th>Avg_additional_charges_total</th>\n",
       "      <th>Month_to_end_contract</th>\n",
       "      <th>Lifetime</th>\n",
       "      <th>Avg_class_frequency_total</th>\n",
       "      <th>Avg_class_frequency_current_month</th>\n",
       "      <th>Churn</th>\n",
       "    </tr>\n",
       "  </thead>\n",
       "  <tbody>\n",
       "    <tr>\n",
       "      <th>0</th>\n",
       "      <td>1</td>\n",
       "      <td>1</td>\n",
       "      <td>1</td>\n",
       "      <td>1</td>\n",
       "      <td>0</td>\n",
       "      <td>6</td>\n",
       "      <td>1</td>\n",
       "      <td>29</td>\n",
       "      <td>14.227470</td>\n",
       "      <td>5.0</td>\n",
       "      <td>3</td>\n",
       "      <td>0.020398</td>\n",
       "      <td>0.000000</td>\n",
       "      <td>0</td>\n",
       "    </tr>\n",
       "    <tr>\n",
       "      <th>1</th>\n",
       "      <td>0</td>\n",
       "      <td>1</td>\n",
       "      <td>0</td>\n",
       "      <td>0</td>\n",
       "      <td>1</td>\n",
       "      <td>12</td>\n",
       "      <td>1</td>\n",
       "      <td>31</td>\n",
       "      <td>113.202938</td>\n",
       "      <td>12.0</td>\n",
       "      <td>7</td>\n",
       "      <td>1.922936</td>\n",
       "      <td>1.910244</td>\n",
       "      <td>0</td>\n",
       "    </tr>\n",
       "    <tr>\n",
       "      <th>2</th>\n",
       "      <td>0</td>\n",
       "      <td>1</td>\n",
       "      <td>1</td>\n",
       "      <td>0</td>\n",
       "      <td>1</td>\n",
       "      <td>1</td>\n",
       "      <td>0</td>\n",
       "      <td>28</td>\n",
       "      <td>129.448479</td>\n",
       "      <td>1.0</td>\n",
       "      <td>2</td>\n",
       "      <td>1.859098</td>\n",
       "      <td>1.736502</td>\n",
       "      <td>0</td>\n",
       "    </tr>\n",
       "    <tr>\n",
       "      <th>3</th>\n",
       "      <td>0</td>\n",
       "      <td>1</td>\n",
       "      <td>1</td>\n",
       "      <td>1</td>\n",
       "      <td>1</td>\n",
       "      <td>12</td>\n",
       "      <td>1</td>\n",
       "      <td>33</td>\n",
       "      <td>62.669863</td>\n",
       "      <td>12.0</td>\n",
       "      <td>2</td>\n",
       "      <td>3.205633</td>\n",
       "      <td>3.357215</td>\n",
       "      <td>0</td>\n",
       "    </tr>\n",
       "    <tr>\n",
       "      <th>4</th>\n",
       "      <td>1</td>\n",
       "      <td>1</td>\n",
       "      <td>1</td>\n",
       "      <td>1</td>\n",
       "      <td>1</td>\n",
       "      <td>1</td>\n",
       "      <td>0</td>\n",
       "      <td>26</td>\n",
       "      <td>198.362265</td>\n",
       "      <td>1.0</td>\n",
       "      <td>3</td>\n",
       "      <td>1.113884</td>\n",
       "      <td>1.120078</td>\n",
       "      <td>0</td>\n",
       "    </tr>\n",
       "    <tr>\n",
       "      <th>5</th>\n",
       "      <td>1</td>\n",
       "      <td>1</td>\n",
       "      <td>0</td>\n",
       "      <td>0</td>\n",
       "      <td>1</td>\n",
       "      <td>1</td>\n",
       "      <td>1</td>\n",
       "      <td>34</td>\n",
       "      <td>450.743960</td>\n",
       "      <td>1.0</td>\n",
       "      <td>3</td>\n",
       "      <td>2.623477</td>\n",
       "      <td>2.637007</td>\n",
       "      <td>0</td>\n",
       "    </tr>\n",
       "    <tr>\n",
       "      <th>6</th>\n",
       "      <td>1</td>\n",
       "      <td>1</td>\n",
       "      <td>1</td>\n",
       "      <td>1</td>\n",
       "      <td>0</td>\n",
       "      <td>6</td>\n",
       "      <td>1</td>\n",
       "      <td>32</td>\n",
       "      <td>94.266389</td>\n",
       "      <td>6.0</td>\n",
       "      <td>2</td>\n",
       "      <td>1.138941</td>\n",
       "      <td>1.277242</td>\n",
       "      <td>0</td>\n",
       "    </tr>\n",
       "    <tr>\n",
       "      <th>7</th>\n",
       "      <td>0</td>\n",
       "      <td>1</td>\n",
       "      <td>0</td>\n",
       "      <td>0</td>\n",
       "      <td>1</td>\n",
       "      <td>1</td>\n",
       "      <td>0</td>\n",
       "      <td>30</td>\n",
       "      <td>217.786641</td>\n",
       "      <td>1.0</td>\n",
       "      <td>0</td>\n",
       "      <td>1.213502</td>\n",
       "      <td>1.049387</td>\n",
       "      <td>1</td>\n",
       "    </tr>\n",
       "    <tr>\n",
       "      <th>8</th>\n",
       "      <td>1</td>\n",
       "      <td>1</td>\n",
       "      <td>1</td>\n",
       "      <td>1</td>\n",
       "      <td>1</td>\n",
       "      <td>1</td>\n",
       "      <td>1</td>\n",
       "      <td>23</td>\n",
       "      <td>45.409909</td>\n",
       "      <td>1.0</td>\n",
       "      <td>1</td>\n",
       "      <td>1.106239</td>\n",
       "      <td>1.059333</td>\n",
       "      <td>0</td>\n",
       "    </tr>\n",
       "    <tr>\n",
       "      <th>9</th>\n",
       "      <td>0</td>\n",
       "      <td>1</td>\n",
       "      <td>0</td>\n",
       "      <td>0</td>\n",
       "      <td>1</td>\n",
       "      <td>1</td>\n",
       "      <td>0</td>\n",
       "      <td>31</td>\n",
       "      <td>65.310836</td>\n",
       "      <td>1.0</td>\n",
       "      <td>11</td>\n",
       "      <td>1.810852</td>\n",
       "      <td>1.951368</td>\n",
       "      <td>0</td>\n",
       "    </tr>\n",
       "  </tbody>\n",
       "</table>\n",
       "</div>"
      ],
      "text/plain": [
       "   gender  Near_Location  Partner  Promo_friends  Phone  Contract_period  \\\n",
       "0       1              1        1              1      0                6   \n",
       "1       0              1        0              0      1               12   \n",
       "2       0              1        1              0      1                1   \n",
       "3       0              1        1              1      1               12   \n",
       "4       1              1        1              1      1                1   \n",
       "5       1              1        0              0      1                1   \n",
       "6       1              1        1              1      0                6   \n",
       "7       0              1        0              0      1                1   \n",
       "8       1              1        1              1      1                1   \n",
       "9       0              1        0              0      1                1   \n",
       "\n",
       "   Group_visits  Age  Avg_additional_charges_total  Month_to_end_contract  \\\n",
       "0             1   29                     14.227470                    5.0   \n",
       "1             1   31                    113.202938                   12.0   \n",
       "2             0   28                    129.448479                    1.0   \n",
       "3             1   33                     62.669863                   12.0   \n",
       "4             0   26                    198.362265                    1.0   \n",
       "5             1   34                    450.743960                    1.0   \n",
       "6             1   32                     94.266389                    6.0   \n",
       "7             0   30                    217.786641                    1.0   \n",
       "8             1   23                     45.409909                    1.0   \n",
       "9             0   31                     65.310836                    1.0   \n",
       "\n",
       "   Lifetime  Avg_class_frequency_total  Avg_class_frequency_current_month  \\\n",
       "0         3                   0.020398                           0.000000   \n",
       "1         7                   1.922936                           1.910244   \n",
       "2         2                   1.859098                           1.736502   \n",
       "3         2                   3.205633                           3.357215   \n",
       "4         3                   1.113884                           1.120078   \n",
       "5         3                   2.623477                           2.637007   \n",
       "6         2                   1.138941                           1.277242   \n",
       "7         0                   1.213502                           1.049387   \n",
       "8         1                   1.106239                           1.059333   \n",
       "9        11                   1.810852                           1.951368   \n",
       "\n",
       "   Churn  \n",
       "0      0  \n",
       "1      0  \n",
       "2      0  \n",
       "3      0  \n",
       "4      0  \n",
       "5      0  \n",
       "6      0  \n",
       "7      1  \n",
       "8      0  \n",
       "9      0  "
      ]
     },
     "execution_count": 4,
     "metadata": {},
     "output_type": "execute_result"
    }
   ],
   "source": [
    "# посмотрим первые 10 записей таблицы gym_churn\n",
    "gym_churn.head(10)"
   ]
  },
  {
   "cell_type": "code",
   "execution_count": 5,
   "metadata": {
    "scrolled": true
   },
   "outputs": [
    {
     "name": "stdout",
     "output_type": "stream",
     "text": [
      "<class 'pandas.core.frame.DataFrame'>\n",
      "RangeIndex: 4000 entries, 0 to 3999\n",
      "Data columns (total 14 columns):\n",
      " #   Column                             Non-Null Count  Dtype  \n",
      "---  ------                             --------------  -----  \n",
      " 0   gender                             4000 non-null   int64  \n",
      " 1   Near_Location                      4000 non-null   int64  \n",
      " 2   Partner                            4000 non-null   int64  \n",
      " 3   Promo_friends                      4000 non-null   int64  \n",
      " 4   Phone                              4000 non-null   int64  \n",
      " 5   Contract_period                    4000 non-null   int64  \n",
      " 6   Group_visits                       4000 non-null   int64  \n",
      " 7   Age                                4000 non-null   int64  \n",
      " 8   Avg_additional_charges_total       4000 non-null   float64\n",
      " 9   Month_to_end_contract              4000 non-null   float64\n",
      " 10  Lifetime                           4000 non-null   int64  \n",
      " 11  Avg_class_frequency_total          4000 non-null   float64\n",
      " 12  Avg_class_frequency_current_month  4000 non-null   float64\n",
      " 13  Churn                              4000 non-null   int64  \n",
      "dtypes: float64(4), int64(10)\n",
      "memory usage: 437.6 KB\n",
      "None\n",
      "Количество строк и колонок (4000, 14)\n",
      "Количество дубликатов в данных: 0\n",
      "Доля дубликатов в данных: 0.0 %\n"
     ]
    },
    {
     "data": {
      "text/plain": [
       "'Статистические показатели:'"
      ]
     },
     "metadata": {},
     "output_type": "display_data"
    },
    {
     "data": {
      "text/html": [
       "<div>\n",
       "<style scoped>\n",
       "    .dataframe tbody tr th:only-of-type {\n",
       "        vertical-align: middle;\n",
       "    }\n",
       "\n",
       "    .dataframe tbody tr th {\n",
       "        vertical-align: top;\n",
       "    }\n",
       "\n",
       "    .dataframe thead th {\n",
       "        text-align: right;\n",
       "    }\n",
       "</style>\n",
       "<table border=\"1\" class=\"dataframe\">\n",
       "  <thead>\n",
       "    <tr style=\"text-align: right;\">\n",
       "      <th></th>\n",
       "      <th>gender</th>\n",
       "      <th>Near_Location</th>\n",
       "      <th>Partner</th>\n",
       "      <th>Promo_friends</th>\n",
       "      <th>Phone</th>\n",
       "      <th>Contract_period</th>\n",
       "      <th>Group_visits</th>\n",
       "      <th>Age</th>\n",
       "      <th>Avg_additional_charges_total</th>\n",
       "      <th>Month_to_end_contract</th>\n",
       "      <th>Lifetime</th>\n",
       "      <th>Avg_class_frequency_total</th>\n",
       "      <th>Avg_class_frequency_current_month</th>\n",
       "      <th>Churn</th>\n",
       "    </tr>\n",
       "  </thead>\n",
       "  <tbody>\n",
       "    <tr>\n",
       "      <th>count</th>\n",
       "      <td>4000.000000</td>\n",
       "      <td>4000.000000</td>\n",
       "      <td>4000.000000</td>\n",
       "      <td>4000.000000</td>\n",
       "      <td>4000.000000</td>\n",
       "      <td>4000.000000</td>\n",
       "      <td>4000.000000</td>\n",
       "      <td>4000.000000</td>\n",
       "      <td>4000.000000</td>\n",
       "      <td>4000.000000</td>\n",
       "      <td>4000.000000</td>\n",
       "      <td>4000.000000</td>\n",
       "      <td>4000.000000</td>\n",
       "      <td>4000.000000</td>\n",
       "    </tr>\n",
       "    <tr>\n",
       "      <th>mean</th>\n",
       "      <td>0.510250</td>\n",
       "      <td>0.845250</td>\n",
       "      <td>0.486750</td>\n",
       "      <td>0.308500</td>\n",
       "      <td>0.903500</td>\n",
       "      <td>4.681250</td>\n",
       "      <td>0.412250</td>\n",
       "      <td>29.184250</td>\n",
       "      <td>146.943728</td>\n",
       "      <td>4.322750</td>\n",
       "      <td>3.724750</td>\n",
       "      <td>1.879020</td>\n",
       "      <td>1.767052</td>\n",
       "      <td>0.265250</td>\n",
       "    </tr>\n",
       "    <tr>\n",
       "      <th>std</th>\n",
       "      <td>0.499957</td>\n",
       "      <td>0.361711</td>\n",
       "      <td>0.499887</td>\n",
       "      <td>0.461932</td>\n",
       "      <td>0.295313</td>\n",
       "      <td>4.549706</td>\n",
       "      <td>0.492301</td>\n",
       "      <td>3.258367</td>\n",
       "      <td>96.355602</td>\n",
       "      <td>4.191297</td>\n",
       "      <td>3.749267</td>\n",
       "      <td>0.972245</td>\n",
       "      <td>1.052906</td>\n",
       "      <td>0.441521</td>\n",
       "    </tr>\n",
       "    <tr>\n",
       "      <th>min</th>\n",
       "      <td>0.000000</td>\n",
       "      <td>0.000000</td>\n",
       "      <td>0.000000</td>\n",
       "      <td>0.000000</td>\n",
       "      <td>0.000000</td>\n",
       "      <td>1.000000</td>\n",
       "      <td>0.000000</td>\n",
       "      <td>18.000000</td>\n",
       "      <td>0.148205</td>\n",
       "      <td>1.000000</td>\n",
       "      <td>0.000000</td>\n",
       "      <td>0.000000</td>\n",
       "      <td>0.000000</td>\n",
       "      <td>0.000000</td>\n",
       "    </tr>\n",
       "    <tr>\n",
       "      <th>25%</th>\n",
       "      <td>0.000000</td>\n",
       "      <td>1.000000</td>\n",
       "      <td>0.000000</td>\n",
       "      <td>0.000000</td>\n",
       "      <td>1.000000</td>\n",
       "      <td>1.000000</td>\n",
       "      <td>0.000000</td>\n",
       "      <td>27.000000</td>\n",
       "      <td>68.868830</td>\n",
       "      <td>1.000000</td>\n",
       "      <td>1.000000</td>\n",
       "      <td>1.180875</td>\n",
       "      <td>0.963003</td>\n",
       "      <td>0.000000</td>\n",
       "    </tr>\n",
       "    <tr>\n",
       "      <th>50%</th>\n",
       "      <td>1.000000</td>\n",
       "      <td>1.000000</td>\n",
       "      <td>0.000000</td>\n",
       "      <td>0.000000</td>\n",
       "      <td>1.000000</td>\n",
       "      <td>1.000000</td>\n",
       "      <td>0.000000</td>\n",
       "      <td>29.000000</td>\n",
       "      <td>136.220159</td>\n",
       "      <td>1.000000</td>\n",
       "      <td>3.000000</td>\n",
       "      <td>1.832768</td>\n",
       "      <td>1.719574</td>\n",
       "      <td>0.000000</td>\n",
       "    </tr>\n",
       "    <tr>\n",
       "      <th>75%</th>\n",
       "      <td>1.000000</td>\n",
       "      <td>1.000000</td>\n",
       "      <td>1.000000</td>\n",
       "      <td>1.000000</td>\n",
       "      <td>1.000000</td>\n",
       "      <td>6.000000</td>\n",
       "      <td>1.000000</td>\n",
       "      <td>31.000000</td>\n",
       "      <td>210.949625</td>\n",
       "      <td>6.000000</td>\n",
       "      <td>5.000000</td>\n",
       "      <td>2.536078</td>\n",
       "      <td>2.510336</td>\n",
       "      <td>1.000000</td>\n",
       "    </tr>\n",
       "    <tr>\n",
       "      <th>max</th>\n",
       "      <td>1.000000</td>\n",
       "      <td>1.000000</td>\n",
       "      <td>1.000000</td>\n",
       "      <td>1.000000</td>\n",
       "      <td>1.000000</td>\n",
       "      <td>12.000000</td>\n",
       "      <td>1.000000</td>\n",
       "      <td>41.000000</td>\n",
       "      <td>552.590740</td>\n",
       "      <td>12.000000</td>\n",
       "      <td>31.000000</td>\n",
       "      <td>6.023668</td>\n",
       "      <td>6.146783</td>\n",
       "      <td>1.000000</td>\n",
       "    </tr>\n",
       "  </tbody>\n",
       "</table>\n",
       "</div>"
      ],
      "text/plain": [
       "            gender  Near_Location      Partner  Promo_friends        Phone  \\\n",
       "count  4000.000000    4000.000000  4000.000000    4000.000000  4000.000000   \n",
       "mean      0.510250       0.845250     0.486750       0.308500     0.903500   \n",
       "std       0.499957       0.361711     0.499887       0.461932     0.295313   \n",
       "min       0.000000       0.000000     0.000000       0.000000     0.000000   \n",
       "25%       0.000000       1.000000     0.000000       0.000000     1.000000   \n",
       "50%       1.000000       1.000000     0.000000       0.000000     1.000000   \n",
       "75%       1.000000       1.000000     1.000000       1.000000     1.000000   \n",
       "max       1.000000       1.000000     1.000000       1.000000     1.000000   \n",
       "\n",
       "       Contract_period  Group_visits          Age  \\\n",
       "count      4000.000000   4000.000000  4000.000000   \n",
       "mean          4.681250      0.412250    29.184250   \n",
       "std           4.549706      0.492301     3.258367   \n",
       "min           1.000000      0.000000    18.000000   \n",
       "25%           1.000000      0.000000    27.000000   \n",
       "50%           1.000000      0.000000    29.000000   \n",
       "75%           6.000000      1.000000    31.000000   \n",
       "max          12.000000      1.000000    41.000000   \n",
       "\n",
       "       Avg_additional_charges_total  Month_to_end_contract     Lifetime  \\\n",
       "count                   4000.000000            4000.000000  4000.000000   \n",
       "mean                     146.943728               4.322750     3.724750   \n",
       "std                       96.355602               4.191297     3.749267   \n",
       "min                        0.148205               1.000000     0.000000   \n",
       "25%                       68.868830               1.000000     1.000000   \n",
       "50%                      136.220159               1.000000     3.000000   \n",
       "75%                      210.949625               6.000000     5.000000   \n",
       "max                      552.590740              12.000000    31.000000   \n",
       "\n",
       "       Avg_class_frequency_total  Avg_class_frequency_current_month  \\\n",
       "count                4000.000000                        4000.000000   \n",
       "mean                    1.879020                           1.767052   \n",
       "std                     0.972245                           1.052906   \n",
       "min                     0.000000                           0.000000   \n",
       "25%                     1.180875                           0.963003   \n",
       "50%                     1.832768                           1.719574   \n",
       "75%                     2.536078                           2.510336   \n",
       "max                     6.023668                           6.146783   \n",
       "\n",
       "             Churn  \n",
       "count  4000.000000  \n",
       "mean      0.265250  \n",
       "std       0.441521  \n",
       "min       0.000000  \n",
       "25%       0.000000  \n",
       "50%       0.000000  \n",
       "75%       1.000000  \n",
       "max       1.000000  "
      ]
     },
     "metadata": {},
     "output_type": "display_data"
    },
    {
     "name": "stdout",
     "output_type": "stream",
     "text": [
      "--------------------------------------------------\n",
      "gender [0 1]\n",
      "gender : кол-во NaN 0 , процент NaN 0.0 %\n",
      "--------------------------------------------------\n",
      "Near_Location [0 1]\n",
      "Near_Location : кол-во NaN 0 , процент NaN 0.0 %\n",
      "--------------------------------------------------\n",
      "Partner [0 1]\n",
      "Partner : кол-во NaN 0 , процент NaN 0.0 %\n",
      "--------------------------------------------------\n",
      "Promo_friends [0 1]\n",
      "Promo_friends : кол-во NaN 0 , процент NaN 0.0 %\n",
      "--------------------------------------------------\n",
      "Phone [0 1]\n",
      "Phone : кол-во NaN 0 , процент NaN 0.0 %\n",
      "--------------------------------------------------\n",
      "Contract_period [ 1  6 12]\n",
      "Contract_period : кол-во NaN 0 , процент NaN 0.0 %\n",
      "--------------------------------------------------\n",
      "Group_visits [0 1]\n",
      "Group_visits : кол-во NaN 0 , процент NaN 0.0 %\n",
      "--------------------------------------------------\n",
      "Age [18 19 20 21 22 23 24 25 26 27 28 29 30 31 32 33 34 35 36 37 38 39 41]\n",
      "Age : кол-во NaN 0 , процент NaN 0.0 %\n",
      "--------------------------------------------------\n",
      "Avg_additional_charges_total [1.48204788e-01 1.71862303e-01 2.51605722e-01 ... 5.15392606e+02\n",
      " 5.34256182e+02 5.52590740e+02]\n",
      "Avg_additional_charges_total : кол-во NaN 0 , процент NaN 0.0 %\n",
      "--------------------------------------------------\n",
      "Month_to_end_contract [ 1.  2.  3.  4.  5.  6.  7.  8.  9. 10. 11. 12.]\n",
      "Month_to_end_contract : кол-во NaN 0 , процент NaN 0.0 %\n",
      "--------------------------------------------------\n",
      "Lifetime [ 0  1  2  3  4  5  6  7  8  9 10 11 12 13 14 15 16 17 18 19 20 21 22 23\n",
      " 24 26 27 29 31]\n",
      "Lifetime : кол-во NaN 0 , процент NaN 0.0 %\n",
      "--------------------------------------------------\n",
      "Avg_class_frequency_total [0.00000000e+00 2.76039295e-03 6.43569613e-03 ... 5.41005446e+00\n",
      " 5.42189771e+00 6.02366848e+00]\n",
      "Avg_class_frequency_total : кол-во NaN 0 , процент NaN 0.0 %\n",
      "--------------------------------------------------\n",
      "Avg_class_frequency_current_month [0.00000000e+00 2.87236242e-03 3.27356568e-03 ... 5.36841531e+00\n",
      " 5.45829466e+00 6.14678288e+00]\n",
      "Avg_class_frequency_current_month : кол-во NaN 0 , процент NaN 0.0 %\n",
      "--------------------------------------------------\n",
      "Churn [0 1]\n",
      "Churn : кол-во NaN 0 , процент NaN 0.0 %\n"
     ]
    }
   ],
   "source": [
    "# скопируем датафрейм\n",
    "temp_v = gym_churn.copy()\n",
    "\n",
    "# выведем список колонок\n",
    "list_v = ['gender', 'Near_Location', 'Partner', 'Promo_friends', 'Phone', 'Contract_period',\n",
    "          'Group_visits', 'Age', 'Avg_additional_charges_total', 'Month_to_end_contract',\n",
    "          'Lifetime', 'Avg_class_frequency_total', 'Avg_class_frequency_current_month', 'Churn']\n",
    "\n",
    "# посмотрим общую информацию\n",
    "print(temp_v.info())\n",
    "\n",
    "# посмотрим количество строк и столбцов\n",
    "print('Количество строк и колонок', temp_v.shape)\n",
    "\n",
    "# посмотрим есть ли дубликаты в данных\n",
    "print('Количество дубликатов в данных:', gym_churn.duplicated().sum())\n",
    "\n",
    "# доля дубликатов в данных\n",
    "print('Доля дубликатов в данных:', round(gym_churn.duplicated().sum() / gym_churn['gender'].count()*100, 2), '%')\n",
    "\n",
    "# посмотрим статистические показатели\n",
    "display('Статистические показатели:', gym_churn.describe(include='all'))\n",
    "\n",
    "# напишем цикл\n",
    "for col_v in list_v:\n",
    "    print('-' * 50)\n",
    "    print(col_v, temp_v[col_v].sort_values().unique())\n",
    "    print(col_v,': кол-во NaN',temp_v[col_v].isna().sum(),\n",
    "        ', процент NaN', round(temp_v[col_v].isna().sum()/len(temp_v)*100, 2),'%')"
   ]
  },
  {
   "cell_type": "code",
   "execution_count": 6,
   "metadata": {},
   "outputs": [],
   "source": [
    "# сделаем копию таблицы gym_churn и сохраним её в переменной df\n",
    "df = gym_churn.copy()"
   ]
  },
  {
   "cell_type": "code",
   "execution_count": 7,
   "metadata": {},
   "outputs": [],
   "source": [
    "# приводим навзания всех колонок к нижнему регистру в таблице gym_churn\n",
    "gym_churn.columns = gym_churn.columns.str.lower()"
   ]
  },
  {
   "cell_type": "code",
   "execution_count": 8,
   "metadata": {},
   "outputs": [
    {
     "data": {
      "text/plain": [
       "gender                                 0.51\n",
       "near_location                          0.85\n",
       "partner                                0.49\n",
       "promo_friends                          0.31\n",
       "phone                                  0.90\n",
       "contract_period                        4.68\n",
       "group_visits                           0.41\n",
       "age                                   29.18\n",
       "avg_additional_charges_total         146.94\n",
       "month_to_end_contract                  4.32\n",
       "lifetime                               3.72\n",
       "avg_class_frequency_total              1.88\n",
       "avg_class_frequency_current_month      1.77\n",
       "churn                                  0.27\n",
       "dtype: float64"
      ]
     },
     "metadata": {},
     "output_type": "display_data"
    }
   ],
   "source": [
    "# посмотрим средние значения по таблице gym_churn\n",
    "display(round(gym_churn.mean(), 2))"
   ]
  },
  {
   "cell_type": "code",
   "execution_count": 9,
   "metadata": {},
   "outputs": [
    {
     "data": {
      "text/plain": [
       "gender                                0.50\n",
       "near_location                         0.36\n",
       "partner                               0.50\n",
       "promo_friends                         0.46\n",
       "phone                                 0.30\n",
       "contract_period                       4.55\n",
       "group_visits                          0.49\n",
       "age                                   3.26\n",
       "avg_additional_charges_total         96.36\n",
       "month_to_end_contract                 4.19\n",
       "lifetime                              3.75\n",
       "avg_class_frequency_total             0.97\n",
       "avg_class_frequency_current_month     1.05\n",
       "churn                                 0.44\n",
       "dtype: float64"
      ]
     },
     "metadata": {},
     "output_type": "display_data"
    }
   ],
   "source": [
    "# посмотрим средние значения по таблице gym_churn\n",
    "display(round(gym_churn.std(), 2))"
   ]
  },
  {
   "cell_type": "markdown",
   "metadata": {},
   "source": [
    "По общей информации из файла `gym_churn` видно что:\n",
    "\n",
    "В таблице `gym_churn` - `14` колонок:\n",
    "\n",
    "- `gender` среднее значение - `0.51`, стандартное отклонение - `50`;\n",
    "- `near_location` среднее значение - `0.85`, стандартное отклонение - `0.36`;\n",
    "- `partner` среднее значение - `0.49`, стандартное отклонение - `0.50`;\n",
    "- `promo_friends` среднее значение - `0.31`, стандартное отклонение - `0.46`;\n",
    "- `phone` среднее значение - `0.90`, стандартное отклонение - `0.30`;\n",
    "- `contract_period` среднее значение - `4.68`, стандартное отклонение - `4.55`;\n",
    "- `group_visits` среднее значение - `0.41`, стандартное отклонение - `0.49`;\n",
    "- `age` среднее значение - `29.18`, стандартное отклонение - `3.26`;\n",
    "- `avg_additional_charges_total` среднее значение - `146.94`, стандартное отклонение - `96.36`;\n",
    "- `month_to_end_contract` среднее значение - `4.32`, стандартное отклонение - `4.19`;\n",
    "- `lifetime` среднее значение - `3.72`, стандартное отклонение - `3.75`;\n",
    "- `avg_class_frequency_total` среднее значение - `1.88`, стандартное отклонение - `0.97`;\n",
    "- `avg_class_frequency_current_month` среднее значение - `1.77`, стандартное отклонение - `1.05`;\n",
    "- `churn` среднее значение - `0.27`, стандартное отклонение - `0.44`.\n",
    "\n",
    "И - `4 000` строчк. Дубликатов и пропусков в данных нет. И мы привели названия всех колонок таблицы к змеиному регистру"
   ]
  },
  {
   "cell_type": "markdown",
   "metadata": {},
   "source": [
    "### Посмотрим на средние значения признаков в двух группах — тех, кто ушел в отток и тех, кто остался "
   ]
  },
  {
   "cell_type": "code",
   "execution_count": 10,
   "metadata": {
    "scrolled": true
   },
   "outputs": [
    {
     "data": {
      "text/html": [
       "<div>\n",
       "<style scoped>\n",
       "    .dataframe tbody tr th:only-of-type {\n",
       "        vertical-align: middle;\n",
       "    }\n",
       "\n",
       "    .dataframe tbody tr th {\n",
       "        vertical-align: top;\n",
       "    }\n",
       "\n",
       "    .dataframe thead th {\n",
       "        text-align: right;\n",
       "    }\n",
       "</style>\n",
       "<table border=\"1\" class=\"dataframe\">\n",
       "  <thead>\n",
       "    <tr style=\"text-align: right;\">\n",
       "      <th>churn</th>\n",
       "      <th>0</th>\n",
       "      <th>1</th>\n",
       "    </tr>\n",
       "  </thead>\n",
       "  <tbody>\n",
       "    <tr>\n",
       "      <th>gender</th>\n",
       "      <td>0.51</td>\n",
       "      <td>0.51</td>\n",
       "    </tr>\n",
       "    <tr>\n",
       "      <th>near_location</th>\n",
       "      <td>0.87</td>\n",
       "      <td>0.77</td>\n",
       "    </tr>\n",
       "    <tr>\n",
       "      <th>partner</th>\n",
       "      <td>0.53</td>\n",
       "      <td>0.36</td>\n",
       "    </tr>\n",
       "    <tr>\n",
       "      <th>promo_friends</th>\n",
       "      <td>0.35</td>\n",
       "      <td>0.18</td>\n",
       "    </tr>\n",
       "    <tr>\n",
       "      <th>phone</th>\n",
       "      <td>0.90</td>\n",
       "      <td>0.90</td>\n",
       "    </tr>\n",
       "    <tr>\n",
       "      <th>contract_period</th>\n",
       "      <td>5.75</td>\n",
       "      <td>1.73</td>\n",
       "    </tr>\n",
       "    <tr>\n",
       "      <th>group_visits</th>\n",
       "      <td>0.46</td>\n",
       "      <td>0.27</td>\n",
       "    </tr>\n",
       "    <tr>\n",
       "      <th>age</th>\n",
       "      <td>29.98</td>\n",
       "      <td>26.99</td>\n",
       "    </tr>\n",
       "    <tr>\n",
       "      <th>avg_additional_charges_total</th>\n",
       "      <td>158.45</td>\n",
       "      <td>115.08</td>\n",
       "    </tr>\n",
       "    <tr>\n",
       "      <th>month_to_end_contract</th>\n",
       "      <td>5.28</td>\n",
       "      <td>1.66</td>\n",
       "    </tr>\n",
       "    <tr>\n",
       "      <th>lifetime</th>\n",
       "      <td>4.71</td>\n",
       "      <td>0.99</td>\n",
       "    </tr>\n",
       "    <tr>\n",
       "      <th>avg_class_frequency_total</th>\n",
       "      <td>2.02</td>\n",
       "      <td>1.47</td>\n",
       "    </tr>\n",
       "    <tr>\n",
       "      <th>avg_class_frequency_current_month</th>\n",
       "      <td>2.03</td>\n",
       "      <td>1.04</td>\n",
       "    </tr>\n",
       "  </tbody>\n",
       "</table>\n",
       "</div>"
      ],
      "text/plain": [
       "churn                                   0       1\n",
       "gender                               0.51    0.51\n",
       "near_location                        0.87    0.77\n",
       "partner                              0.53    0.36\n",
       "promo_friends                        0.35    0.18\n",
       "phone                                0.90    0.90\n",
       "contract_period                      5.75    1.73\n",
       "group_visits                         0.46    0.27\n",
       "age                                 29.98   26.99\n",
       "avg_additional_charges_total       158.45  115.08\n",
       "month_to_end_contract                5.28    1.66\n",
       "lifetime                             4.71    0.99\n",
       "avg_class_frequency_total            2.02    1.47\n",
       "avg_class_frequency_current_month    2.03    1.04"
      ]
     },
     "execution_count": 10,
     "metadata": {},
     "output_type": "execute_result"
    }
   ],
   "source": [
    "# создадим переменную churm_mean, в которую поместим сгруппированную таблицу по колонке 'churn'\n",
    "# и транспонируем столбцы, чтобы удобнее смотреть на данные\n",
    "churm_mean = round(gym_churn.groupby('churn').mean().T, 2)\n",
    "\n",
    "# посмотрим получившуюся таблицу\n",
    "churm_mean"
   ]
  },
  {
   "cell_type": "markdown",
   "metadata": {},
   "source": [
    "По средним значения признаков в двух группах — тех, кто ушел в отток и тех, кто остался видно следущее:\n",
    "\n",
    "- `gender` среднее значение - `0.51` тех кто остался, а тех кто ушел - `0.51` пол не влияет на отток клиентов;\n",
    "- `near_location` среднее значение - `0.87` тех кто остался, а тех кто ушел - `0.77` близост фитнес центра не сильно влияет на отток клиентов, хотя в любом случае фитнес рядом это удобно;\n",
    "- `partner` среднее значение - `0.53`, тех кто остался, а тех кто ушел - `0.36` сотрудники компании-партнёра клуба, скидки на абонемент лучше удерживают клиентов в клубе;\n",
    "- `promo_friends` среднее значение - `0.35`, тех кто остался, а тех кто ушел - `0.18` акция приведи друга, хорошо сдерживает отток клиентов;\n",
    "- `phone` среднее значение - `0.90`, тех кто остался, а тех кто ушел - `0.90` наличее контактного телефона не влияет на отток клиентов;\n",
    "- `contract_period` среднее значение - `5.75`, тех кто остался, а тех кто ушел - `1.73` длительность абонемента очень хорошо сдерживает клиентов в клубе, видимо люди не хотят его терять;\n",
    "- `group_visits` среднее значение - `0.46`, тех кто остался, а тех кто ушел - `0.27` груповые занятия хорошо удерживают клиентов;\n",
    "- `age` среднее значение - `29.98`, тех кто остался, а тех кто ушел - `26.99` более взрослые люди лучше ходят в фитнес центр;\n",
    "- `avg_additional_charges_total` среднее значение - `158.45`, тех кто остался, а тех кто ушел - `115.08` сумарная выручка от доп. услуг фитнес центра выше у тех кто остался;\n",
    "- `month_to_end_contract` среднее значение - `5.28`, тех кто остался, а тех кто ушел - `1.66` срок до окончания текущего действующего абонемента сильно выше у тех кто остался;\n",
    "- `lifetime` среднее значение - `4.71`, тех кто остался, а тех, кто ушел - `0.99` время с момента первого обращения в фитнес-центр (в месяцах) у тех кто остался в среднем 4-5 месяца, а у тех кто уходит 1 месяц;\n",
    "- `avg_class_frequency_total` среднее значение - `2.02`, тех кто остался, а тех кто ушел - `1.47` средняя частота посещений в неделю за все время с начала действия абонемента. Те, кто остается ходят в среднем 2 раза, а те кто уходит полтора раза.;\n",
    "- `avg_class_frequency_current_month` среднее значение - `2.03`, тех кто остался, а тех кто ушел - `1.04` средняя частота посещений в неделю за предыдущий месяц у тех, кто остался составляет два раза в неделю, а те, кто уходят в отток 1 раз."
   ]
  },
  {
   "cell_type": "markdown",
   "metadata": {},
   "source": [
    "### Построим столбчатые гистограммы и распределения признаков для тех, кто ушёл (отток) и тех, кто остался (не попали в отток);"
   ]
  },
  {
   "cell_type": "code",
   "execution_count": 12,
   "metadata": {},
   "outputs": [
    {
     "data": {
      "image/png": "[encoded data removed]",
      "text/plain": [
       "<Figure size 936x432 with 1 Axes>"
      ]
     },
     "metadata": {
      "needs_background": "light"
     },
     "output_type": "display_data"
    },
    {
     "data": {
      "image/png": "[encoded data removed]",
      "text/plain": [
       "<Figure size 936x432 with 1 Axes>"
      ]
     },
     "metadata": {
      "needs_background": "light"
     },
     "output_type": "display_data"
    },
    {
     "data": {
      "image/png": "[encoded data removed]",
      "text/plain": [
       "<Figure size 936x432 with 1 Axes>"
      ]
     },
     "metadata": {
      "needs_background": "light"
     },
     "output_type": "display_data"
    },
    {
     "data": {
      "image/png": "[encoded data removed]",
      "text/plain": [
       "<Figure size 936x432 with 1 Axes>"
      ]
     },
     "metadata": {
      "needs_background": "light"
     },
     "output_type": "display_data"
    },
    {
     "data": {
      "image/png": "[encoded data removed]",
      "text/plain": [
       "<Figure size 936x432 with 1 Axes>"
      ]
     },
     "metadata": {
      "needs_background": "light"
     },
     "output_type": "display_data"
    },
    {
     "data": {
      "image/png": "[encoded data removed]",
      "text/plain": [
       "<Figure size 936x432 with 1 Axes>"
      ]
     },
     "metadata": {
      "needs_background": "light"
     },
     "output_type": "display_data"
    },
    {
     "data": {
      "image/png": "[encoded data removed]",
      "text/plain": [
       "<Figure size 936x432 with 1 Axes>"
      ]
     },
     "metadata": {
      "needs_background": "light"
     },
     "output_type": "display_data"
    },
    {
     "data": {
      "image/png": "[encoded data removed]",
      "text/plain": [
       "<Figure size 936x432 with 1 Axes>"
      ]
     },
     "metadata": {
      "needs_background": "light"
     },
     "output_type": "display_data"
    },
    {
     "data": {
      "image/png": "[encoded data removed]",
      "text/plain": [
       "<Figure size 936x432 with 1 Axes>"
      ]
     },
     "metadata": {
      "needs_background": "light"
     },
     "output_type": "display_data"
    },
    {
     "data": {
      "image/png": "[encoded data removed]",
      "text/plain": [
       "<Figure size 936x432 with 1 Axes>"
      ]
     },
     "metadata": {
      "needs_background": "light"
     },
     "output_type": "display_data"
    },
    {
     "data": {
      "image/png": "[encoded data removed]",
      "text/plain": [
       "<Figure size 936x432 with 1 Axes>"
      ]
     },
     "metadata": {
      "needs_background": "light"
     },
     "output_type": "display_data"
    },
    {
     "data": {
      "image/png": "[encoded data removed]",
      "text/plain": [
       "<Figure size 936x432 with 1 Axes>"
      ]
     },
     "metadata": {
      "needs_background": "light"
     },
     "output_type": "display_data"
    },
    {
     "data": {
      "image/png": "[encoded data removed]",
      "text/plain": [
       "<Figure size 936x432 with 1 Axes>"
      ]
     },
     "metadata": {
      "needs_background": "light"
     },
     "output_type": "display_data"
    }
   ],
   "source": [
    "# сделаем цикл для вывода графиков\n",
    "# возьмем все колонки кроме колонки с целевой переменной\n",
    "for column in gym_churn.columns[:-1]:\n",
    "    # укажем размер графика\n",
    "    plt.figure(figsize=(13, 6))\n",
    "    \n",
    "    # построим столбчатую диаграмму\n",
    "    sns.histplot(data = gym_churn, x=gym_churn[column], hue='churn', multiple=\"dodge\")\n",
    "    \n",
    "    # заголовок графика\n",
    "    plt.title(column, fontsize = 18)\n",
    "    \n",
    "    # подпись оси X\n",
    "    plt.xlabel('Распределение признака', fontsize = 13)\n",
    "\n",
    "    # подпись оси Y\n",
    "    plt.ylabel('Количество клиентов', fontsize = 13)\n",
    "    \n",
    "    # поменяем название легенды и оставим её в правом верхнем углу\n",
    "    plt.legend(loc='upper right', labels=['отток', 'остались'])\n",
    "    \n",
    "    # уберем технические надписи\n",
    "    plt.show()"
   ]
  },
  {
   "cell_type": "markdown",
   "metadata": {},
   "source": [
    "Из графиков видно следущее:\n",
    "- те, кто берет абонемент на 6 и более месяцев остаются, остальные чаще уходят;\n",
    "- в основном уходят в отток, те кто моложе;\n",
    "- суммарную выручку приносят больше те, кто остается."
   ]
  },
  {
   "cell_type": "markdown",
   "metadata": {},
   "source": [
    "### Построим матрицу корреляций и отобразим её"
   ]
  },
  {
   "cell_type": "code",
   "execution_count": 12,
   "metadata": {},
   "outputs": [
    {
     "data": {
      "text/html": [
       "<div>\n",
       "<style scoped>\n",
       "    .dataframe tbody tr th:only-of-type {\n",
       "        vertical-align: middle;\n",
       "    }\n",
       "\n",
       "    .dataframe tbody tr th {\n",
       "        vertical-align: top;\n",
       "    }\n",
       "\n",
       "    .dataframe thead th {\n",
       "        text-align: right;\n",
       "    }\n",
       "</style>\n",
       "<table border=\"1\" class=\"dataframe\">\n",
       "  <thead>\n",
       "    <tr style=\"text-align: right;\">\n",
       "      <th></th>\n",
       "      <th>gender</th>\n",
       "      <th>near_location</th>\n",
       "      <th>partner</th>\n",
       "      <th>promo_friends</th>\n",
       "      <th>phone</th>\n",
       "      <th>contract_period</th>\n",
       "      <th>group_visits</th>\n",
       "      <th>age</th>\n",
       "      <th>avg_additional_charges_total</th>\n",
       "      <th>month_to_end_contract</th>\n",
       "      <th>lifetime</th>\n",
       "      <th>avg_class_frequency_total</th>\n",
       "      <th>avg_class_frequency_current_month</th>\n",
       "      <th>churn</th>\n",
       "    </tr>\n",
       "  </thead>\n",
       "  <tbody>\n",
       "    <tr>\n",
       "      <th>gender</th>\n",
       "      <td>1.000000</td>\n",
       "      <td>0.006699</td>\n",
       "      <td>-0.010463</td>\n",
       "      <td>-0.005033</td>\n",
       "      <td>-0.008542</td>\n",
       "      <td>0.000502</td>\n",
       "      <td>0.017879</td>\n",
       "      <td>0.013807</td>\n",
       "      <td>-0.009334</td>\n",
       "      <td>-0.001281</td>\n",
       "      <td>0.013579</td>\n",
       "      <td>0.014620</td>\n",
       "      <td>0.009156</td>\n",
       "      <td>0.000708</td>\n",
       "    </tr>\n",
       "    <tr>\n",
       "      <th>near_location</th>\n",
       "      <td>0.006699</td>\n",
       "      <td>1.000000</td>\n",
       "      <td>-0.005119</td>\n",
       "      <td>0.210964</td>\n",
       "      <td>-0.015763</td>\n",
       "      <td>0.150233</td>\n",
       "      <td>0.154728</td>\n",
       "      <td>0.058358</td>\n",
       "      <td>0.040761</td>\n",
       "      <td>0.143961</td>\n",
       "      <td>0.070921</td>\n",
       "      <td>0.043127</td>\n",
       "      <td>0.062664</td>\n",
       "      <td>-0.128098</td>\n",
       "    </tr>\n",
       "    <tr>\n",
       "      <th>partner</th>\n",
       "      <td>-0.010463</td>\n",
       "      <td>-0.005119</td>\n",
       "      <td>1.000000</td>\n",
       "      <td>0.451960</td>\n",
       "      <td>0.009970</td>\n",
       "      <td>0.306166</td>\n",
       "      <td>0.022710</td>\n",
       "      <td>0.047480</td>\n",
       "      <td>0.022941</td>\n",
       "      <td>0.294632</td>\n",
       "      <td>0.061229</td>\n",
       "      <td>0.024938</td>\n",
       "      <td>0.045561</td>\n",
       "      <td>-0.157986</td>\n",
       "    </tr>\n",
       "    <tr>\n",
       "      <th>promo_friends</th>\n",
       "      <td>-0.005033</td>\n",
       "      <td>0.210964</td>\n",
       "      <td>0.451960</td>\n",
       "      <td>1.000000</td>\n",
       "      <td>0.001982</td>\n",
       "      <td>0.244552</td>\n",
       "      <td>0.120170</td>\n",
       "      <td>0.050113</td>\n",
       "      <td>0.036898</td>\n",
       "      <td>0.239553</td>\n",
       "      <td>0.072721</td>\n",
       "      <td>0.028063</td>\n",
       "      <td>0.053768</td>\n",
       "      <td>-0.162233</td>\n",
       "    </tr>\n",
       "    <tr>\n",
       "      <th>phone</th>\n",
       "      <td>-0.008542</td>\n",
       "      <td>-0.015763</td>\n",
       "      <td>0.009970</td>\n",
       "      <td>0.001982</td>\n",
       "      <td>1.000000</td>\n",
       "      <td>-0.006893</td>\n",
       "      <td>-0.010099</td>\n",
       "      <td>-0.011403</td>\n",
       "      <td>0.009279</td>\n",
       "      <td>-0.011196</td>\n",
       "      <td>-0.018801</td>\n",
       "      <td>0.008340</td>\n",
       "      <td>0.013375</td>\n",
       "      <td>-0.001177</td>\n",
       "    </tr>\n",
       "    <tr>\n",
       "      <th>contract_period</th>\n",
       "      <td>0.000502</td>\n",
       "      <td>0.150233</td>\n",
       "      <td>0.306166</td>\n",
       "      <td>0.244552</td>\n",
       "      <td>-0.006893</td>\n",
       "      <td>1.000000</td>\n",
       "      <td>0.169991</td>\n",
       "      <td>0.138249</td>\n",
       "      <td>0.111445</td>\n",
       "      <td>0.973064</td>\n",
       "      <td>0.170725</td>\n",
       "      <td>0.096211</td>\n",
       "      <td>0.159407</td>\n",
       "      <td>-0.389984</td>\n",
       "    </tr>\n",
       "    <tr>\n",
       "      <th>group_visits</th>\n",
       "      <td>0.017879</td>\n",
       "      <td>0.154728</td>\n",
       "      <td>0.022710</td>\n",
       "      <td>0.120170</td>\n",
       "      <td>-0.010099</td>\n",
       "      <td>0.169991</td>\n",
       "      <td>1.000000</td>\n",
       "      <td>0.080934</td>\n",
       "      <td>0.032079</td>\n",
       "      <td>0.163703</td>\n",
       "      <td>0.075853</td>\n",
       "      <td>0.056695</td>\n",
       "      <td>0.075923</td>\n",
       "      <td>-0.175325</td>\n",
       "    </tr>\n",
       "    <tr>\n",
       "      <th>age</th>\n",
       "      <td>0.013807</td>\n",
       "      <td>0.058358</td>\n",
       "      <td>0.047480</td>\n",
       "      <td>0.050113</td>\n",
       "      <td>-0.011403</td>\n",
       "      <td>0.138249</td>\n",
       "      <td>0.080934</td>\n",
       "      <td>1.000000</td>\n",
       "      <td>0.080240</td>\n",
       "      <td>0.134511</td>\n",
       "      <td>0.164693</td>\n",
       "      <td>0.119953</td>\n",
       "      <td>0.183095</td>\n",
       "      <td>-0.404735</td>\n",
       "    </tr>\n",
       "    <tr>\n",
       "      <th>avg_additional_charges_total</th>\n",
       "      <td>-0.009334</td>\n",
       "      <td>0.040761</td>\n",
       "      <td>0.022941</td>\n",
       "      <td>0.036898</td>\n",
       "      <td>0.009279</td>\n",
       "      <td>0.111445</td>\n",
       "      <td>0.032079</td>\n",
       "      <td>0.080240</td>\n",
       "      <td>1.000000</td>\n",
       "      <td>0.113958</td>\n",
       "      <td>0.079028</td>\n",
       "      <td>0.044426</td>\n",
       "      <td>0.079570</td>\n",
       "      <td>-0.198697</td>\n",
       "    </tr>\n",
       "    <tr>\n",
       "      <th>month_to_end_contract</th>\n",
       "      <td>-0.001281</td>\n",
       "      <td>0.143961</td>\n",
       "      <td>0.294632</td>\n",
       "      <td>0.239553</td>\n",
       "      <td>-0.011196</td>\n",
       "      <td>0.973064</td>\n",
       "      <td>0.163703</td>\n",
       "      <td>0.134511</td>\n",
       "      <td>0.113958</td>\n",
       "      <td>1.000000</td>\n",
       "      <td>0.161078</td>\n",
       "      <td>0.085387</td>\n",
       "      <td>0.147605</td>\n",
       "      <td>-0.381393</td>\n",
       "    </tr>\n",
       "    <tr>\n",
       "      <th>lifetime</th>\n",
       "      <td>0.013579</td>\n",
       "      <td>0.070921</td>\n",
       "      <td>0.061229</td>\n",
       "      <td>0.072721</td>\n",
       "      <td>-0.018801</td>\n",
       "      <td>0.170725</td>\n",
       "      <td>0.075853</td>\n",
       "      <td>0.164693</td>\n",
       "      <td>0.079028</td>\n",
       "      <td>0.161078</td>\n",
       "      <td>1.000000</td>\n",
       "      <td>0.112338</td>\n",
       "      <td>0.181975</td>\n",
       "      <td>-0.438220</td>\n",
       "    </tr>\n",
       "    <tr>\n",
       "      <th>avg_class_frequency_total</th>\n",
       "      <td>0.014620</td>\n",
       "      <td>0.043127</td>\n",
       "      <td>0.024938</td>\n",
       "      <td>0.028063</td>\n",
       "      <td>0.008340</td>\n",
       "      <td>0.096211</td>\n",
       "      <td>0.056695</td>\n",
       "      <td>0.119953</td>\n",
       "      <td>0.044426</td>\n",
       "      <td>0.085387</td>\n",
       "      <td>0.112338</td>\n",
       "      <td>1.000000</td>\n",
       "      <td>0.952739</td>\n",
       "      <td>-0.249715</td>\n",
       "    </tr>\n",
       "    <tr>\n",
       "      <th>avg_class_frequency_current_month</th>\n",
       "      <td>0.009156</td>\n",
       "      <td>0.062664</td>\n",
       "      <td>0.045561</td>\n",
       "      <td>0.053768</td>\n",
       "      <td>0.013375</td>\n",
       "      <td>0.159407</td>\n",
       "      <td>0.075923</td>\n",
       "      <td>0.183095</td>\n",
       "      <td>0.079570</td>\n",
       "      <td>0.147605</td>\n",
       "      <td>0.181975</td>\n",
       "      <td>0.952739</td>\n",
       "      <td>1.000000</td>\n",
       "      <td>-0.412348</td>\n",
       "    </tr>\n",
       "    <tr>\n",
       "      <th>churn</th>\n",
       "      <td>0.000708</td>\n",
       "      <td>-0.128098</td>\n",
       "      <td>-0.157986</td>\n",
       "      <td>-0.162233</td>\n",
       "      <td>-0.001177</td>\n",
       "      <td>-0.389984</td>\n",
       "      <td>-0.175325</td>\n",
       "      <td>-0.404735</td>\n",
       "      <td>-0.198697</td>\n",
       "      <td>-0.381393</td>\n",
       "      <td>-0.438220</td>\n",
       "      <td>-0.249715</td>\n",
       "      <td>-0.412348</td>\n",
       "      <td>1.000000</td>\n",
       "    </tr>\n",
       "  </tbody>\n",
       "</table>\n",
       "</div>"
      ],
      "text/plain": [
       "                                     gender  near_location   partner  \\\n",
       "gender                             1.000000       0.006699 -0.010463   \n",
       "near_location                      0.006699       1.000000 -0.005119   \n",
       "partner                           -0.010463      -0.005119  1.000000   \n",
       "promo_friends                     -0.005033       0.210964  0.451960   \n",
       "phone                             -0.008542      -0.015763  0.009970   \n",
       "contract_period                    0.000502       0.150233  0.306166   \n",
       "group_visits                       0.017879       0.154728  0.022710   \n",
       "age                                0.013807       0.058358  0.047480   \n",
       "avg_additional_charges_total      -0.009334       0.040761  0.022941   \n",
       "month_to_end_contract             -0.001281       0.143961  0.294632   \n",
       "lifetime                           0.013579       0.070921  0.061229   \n",
       "avg_class_frequency_total          0.014620       0.043127  0.024938   \n",
       "avg_class_frequency_current_month  0.009156       0.062664  0.045561   \n",
       "churn                              0.000708      -0.128098 -0.157986   \n",
       "\n",
       "                                   promo_friends     phone  contract_period  \\\n",
       "gender                                 -0.005033 -0.008542         0.000502   \n",
       "near_location                           0.210964 -0.015763         0.150233   \n",
       "partner                                 0.451960  0.009970         0.306166   \n",
       "promo_friends                           1.000000  0.001982         0.244552   \n",
       "phone                                   0.001982  1.000000        -0.006893   \n",
       "contract_period                         0.244552 -0.006893         1.000000   \n",
       "group_visits                            0.120170 -0.010099         0.169991   \n",
       "age                                     0.050113 -0.011403         0.138249   \n",
       "avg_additional_charges_total            0.036898  0.009279         0.111445   \n",
       "month_to_end_contract                   0.239553 -0.011196         0.973064   \n",
       "lifetime                                0.072721 -0.018801         0.170725   \n",
       "avg_class_frequency_total               0.028063  0.008340         0.096211   \n",
       "avg_class_frequency_current_month       0.053768  0.013375         0.159407   \n",
       "churn                                  -0.162233 -0.001177        -0.389984   \n",
       "\n",
       "                                   group_visits       age  \\\n",
       "gender                                 0.017879  0.013807   \n",
       "near_location                          0.154728  0.058358   \n",
       "partner                                0.022710  0.047480   \n",
       "promo_friends                          0.120170  0.050113   \n",
       "phone                                 -0.010099 -0.011403   \n",
       "contract_period                        0.169991  0.138249   \n",
       "group_visits                           1.000000  0.080934   \n",
       "age                                    0.080934  1.000000   \n",
       "avg_additional_charges_total           0.032079  0.080240   \n",
       "month_to_end_contract                  0.163703  0.134511   \n",
       "lifetime                               0.075853  0.164693   \n",
       "avg_class_frequency_total              0.056695  0.119953   \n",
       "avg_class_frequency_current_month      0.075923  0.183095   \n",
       "churn                                 -0.175325 -0.404735   \n",
       "\n",
       "                                   avg_additional_charges_total  \\\n",
       "gender                                                -0.009334   \n",
       "near_location                                          0.040761   \n",
       "partner                                                0.022941   \n",
       "promo_friends                                          0.036898   \n",
       "phone                                                  0.009279   \n",
       "contract_period                                        0.111445   \n",
       "group_visits                                           0.032079   \n",
       "age                                                    0.080240   \n",
       "avg_additional_charges_total                           1.000000   \n",
       "month_to_end_contract                                  0.113958   \n",
       "lifetime                                               0.079028   \n",
       "avg_class_frequency_total                              0.044426   \n",
       "avg_class_frequency_current_month                      0.079570   \n",
       "churn                                                 -0.198697   \n",
       "\n",
       "                                   month_to_end_contract  lifetime  \\\n",
       "gender                                         -0.001281  0.013579   \n",
       "near_location                                   0.143961  0.070921   \n",
       "partner                                         0.294632  0.061229   \n",
       "promo_friends                                   0.239553  0.072721   \n",
       "phone                                          -0.011196 -0.018801   \n",
       "contract_period                                 0.973064  0.170725   \n",
       "group_visits                                    0.163703  0.075853   \n",
       "age                                             0.134511  0.164693   \n",
       "avg_additional_charges_total                    0.113958  0.079028   \n",
       "month_to_end_contract                           1.000000  0.161078   \n",
       "lifetime                                        0.161078  1.000000   \n",
       "avg_class_frequency_total                       0.085387  0.112338   \n",
       "avg_class_frequency_current_month               0.147605  0.181975   \n",
       "churn                                          -0.381393 -0.438220   \n",
       "\n",
       "                                   avg_class_frequency_total  \\\n",
       "gender                                              0.014620   \n",
       "near_location                                       0.043127   \n",
       "partner                                             0.024938   \n",
       "promo_friends                                       0.028063   \n",
       "phone                                               0.008340   \n",
       "contract_period                                     0.096211   \n",
       "group_visits                                        0.056695   \n",
       "age                                                 0.119953   \n",
       "avg_additional_charges_total                        0.044426   \n",
       "month_to_end_contract                               0.085387   \n",
       "lifetime                                            0.112338   \n",
       "avg_class_frequency_total                           1.000000   \n",
       "avg_class_frequency_current_month                   0.952739   \n",
       "churn                                              -0.249715   \n",
       "\n",
       "                                   avg_class_frequency_current_month     churn  \n",
       "gender                                                      0.009156  0.000708  \n",
       "near_location                                               0.062664 -0.128098  \n",
       "partner                                                     0.045561 -0.157986  \n",
       "promo_friends                                               0.053768 -0.162233  \n",
       "phone                                                       0.013375 -0.001177  \n",
       "contract_period                                             0.159407 -0.389984  \n",
       "group_visits                                                0.075923 -0.175325  \n",
       "age                                                         0.183095 -0.404735  \n",
       "avg_additional_charges_total                                0.079570 -0.198697  \n",
       "month_to_end_contract                                       0.147605 -0.381393  \n",
       "lifetime                                                    0.181975 -0.438220  \n",
       "avg_class_frequency_total                                   0.952739 -0.249715  \n",
       "avg_class_frequency_current_month                           1.000000 -0.412348  \n",
       "churn                                                      -0.412348  1.000000  "
      ]
     },
     "metadata": {},
     "output_type": "display_data"
    }
   ],
   "source": [
    "# поместим данные о корреляции всей таблицы в gym_churn_corr\n",
    "gym_churn_corr = gym_churn.corr()\n",
    "\n",
    "# посмотрим на таблицу корреляции по всем данным\n",
    "display(gym_churn_corr)"
   ]
  },
  {
   "cell_type": "markdown",
   "metadata": {},
   "source": [
    "Отобразим матрицу с помощью теплового графика"
   ]
  },
  {
   "cell_type": "code",
   "execution_count": 13,
   "metadata": {},
   "outputs": [
    {
     "data": {
      "image/png": "[encoded data removed]",
      "text/plain": [
       "<Figure size 1080x864 with 2 Axes>"
      ]
     },
     "metadata": {
      "needs_background": "light"
     },
     "output_type": "display_data"
    }
   ],
   "source": [
    "# укажем размер графика\n",
    "plt.figure(figsize=(15, 12))\n",
    "\n",
    "# нарисуем тепловую карту с подписями для матрицы корреляций\n",
    "sns.heatmap(gym_churn_corr, annot = True, square = True, vmin=-1, vmax=1, center= 0, cmap= 'coolwarm', linewidths=3, linecolor='black')\n",
    "\n",
    "# заголовок графика\n",
    "plt.title('Матрица корреляции по признакам', fontsize = 18)\n",
    "\n",
    "# уберем технические надписи\n",
    "plt.show()"
   ]
  },
  {
   "cell_type": "markdown",
   "metadata": {},
   "source": [
    "Сильнее всего коррелируют такие показатели как:\n",
    "\n",
    "- `month_to_end_contract` и `contract_period`;\n",
    "- `avg_class_frequency_total` и `avg_class_frequency_current_month`.\n",
    "\n",
    "Cильная зависимость между сроком до окончания текущего действующего абонемента и длительность текущего действующего абонемента. Также средняя частота посещений в неделю за предыдущий месяц и средняя частота посещений в неделю за все время с начала действия абонемента. Наименьшая зависимость у признака, как пол, наличие номера телефона, близость к фитнес-центру."
   ]
  },
  {
   "cell_type": "markdown",
   "metadata": {},
   "source": [
    "### Вывод по исследовательскиому анализу данных (EDA)\n",
    "\n",
    "По общей информации из файла `gym_churn` видно что:\n",
    "\n",
    "В таблице `gym_churn` - `14` колонок:\n",
    "\n",
    "- `gender`;\n",
    "- `near_location`;\n",
    "- `partner`;\n",
    "- `promo_friends`;\n",
    "- `phone`;\n",
    "- `contract_period`;\n",
    "- `group_visits`;\n",
    "- `age`;\n",
    "- `avg_additional_charges_total`; \n",
    "- `month_to_end_contract`;\n",
    "- `lifetime`;\n",
    "- `avg_class_frequency_total`;\n",
    "- `avg_class_frequency_current_month`;\n",
    "- `churn`.\n",
    "\n",
    "И - `4 000` строчк. Дубликатов и пропусков в данных нет. И мы привели названия всех колонок таблицы к змеиному регистру\n",
    "\n",
    "\n",
    "По средним значения признаков в двух группах — тех, кто ушел в отток и тех, кто остался видно следущее:\n",
    "\n",
    "- пол не влияет на отток клиентов;\n",
    "- близост фитнес центра не сильно влияет на отток клиентов, хотя в любом случае фитнес рядом это удобно;\n",
    "- сотрудники компании-партнёра клуба, скидки на абонемент лучше удерживают клиентов в клубе;\n",
    "- акция приведи друга, хорошо сдерживает отток клиентов;\n",
    "- наличее контактного телефона не влияет на отток клиентов;\n",
    "- длительность абонемента очень хорошо сдерживает клиентов в клубе, видимо люди не хотят его терять;\n",
    "- груповые занятия хорошо удерживают клиентов;\n",
    "- более взрослые люди лучше ходят в фитнес центр;\n",
    "- сумарная выручка от доп. услуг фитнес центра выше у тех кто остался;\n",
    "- срок до окончания текущего действующего абонемента сильно выше у тех кто остался;\n",
    "- время с момента первого обращения в фитнес-центр (в месяцах) у тех кто остался в среднем 4-5 месяца, а у тех кто уходит 1 месяц;\n",
    "- средняя частота посещений в неделю за все время с начала действия абонемента. Те, кто остается ходят в среднем 2 раза, а те кто уходит полтора раза;\n",
    "- средняя частота посещений в неделю за предыдущий месяц у тех, кто остался составляет два раза в неделю, а те, кто уходят в отток 1 раз.\n",
    "\n",
    "\n",
    "Сильнее всего коррелируют такие показатели как:\n",
    "\n",
    "- `month_to_end_contract` и `contract_period`;\n",
    "- `avg_class_frequency_total` и `avg_class_frequency_current_month`.\n",
    "\n",
    "Cильная зависимость между сроком до окончания текущего действующего абонемента и длительность текущего действующего абонемента. Также средняя частота посещений в неделю за предыдущий месяц и средняя частота посещений в неделю за все время с начала действия абонемента. Наименьшая зависимость у признака, как пол, наличие номера телефона, близость к фитнес-центру."
   ]
  },
  {
   "cell_type": "markdown",
   "metadata": {},
   "source": [
    "## Шаг. Построим модель прогнозирования оттока клиентов"
   ]
  },
  {
   "cell_type": "markdown",
   "metadata": {},
   "source": [
    "### Построим модель бинарной классификации клиентов, где целевой признак — факт оттока клиента в следующем месяце"
   ]
  },
  {
   "cell_type": "markdown",
   "metadata": {},
   "source": [
    "Разберем данные на обучающую и валидационную выборку функцией `train_test_split()`\n",
    "\n",
    "Обучим модель на `train-выборке` двумя способами:\n",
    "\n",
    "- логистической регрессией,\n",
    "\n",
    "- случайным лесом.\n",
    "\n",
    "Оценим метрики `accuracy`, `precision` и `recall` для обеих моделей на валидационной выборке. Сравним по ним модели. Какая модель показала себя лучше на основании метрик?"
   ]
  },
  {
   "cell_type": "code",
   "execution_count": 14,
   "metadata": {},
   "outputs": [],
   "source": [
    "# напишем функцию для вывода результатов по метрикам accuracy, precision и recall\n",
    "def print_all_metrics(y_true, y_pred, y_proba, title='Метрики классификации'):\n",
    "    print(title)\n",
    "    print('\\tAccuracy: {:.2f}'.format(accuracy_score(y_true, y_pred)))\n",
    "    print('\\tPrecision: {:.2f}'.format(precision_score(y_true, y_pred)))\n",
    "    print('\\tRecall: {:.2f}'.format(recall_score(y_true, y_pred)))"
   ]
  },
  {
   "cell_type": "code",
   "execution_count": 15,
   "metadata": {},
   "outputs": [],
   "source": [
    "# разделим наши данные на признаки (матрица X) и целевую переменную (y)\n",
    "X = gym_churn.drop(columns=['churn'])\n",
    "y = gym_churn['churn']\n",
    "\n",
    "# разделяем модель на обучающую и валидационную выборки, укажем параметр random_state\n",
    "# чтобы использовать одинаковые обучающие и проверочные сеты\n",
    "X_train, X_test, y_train, y_test = train_test_split(X, y, test_size = 0.2, random_state=0)"
   ]
  },
  {
   "cell_type": "code",
   "execution_count": 17,
   "metadata": {},
   "outputs": [
    {
     "name": "stdout",
     "output_type": "stream",
     "text": [
      "Метрики для модели логистической регрессии:\n",
      "\tAccuracy: 0.92\n",
      "\tPrecision: 0.85\n",
      "\tRecall: 0.83\n",
      "Метрики для модели случайного леса:\n",
      "\tAccuracy: 0.92\n",
      "\tPrecision: 0.84\n",
      "\tRecall: 0.81\n"
     ]
    }
   ],
   "source": [
    "# создадим объект класса StandardScaler и применим его к обучающей выборке\n",
    "scaler = StandardScaler()\n",
    "\n",
    "# обучаем scaler и одновременно трансформируем матрицу для обучающей выборки\n",
    "X_train_st = scaler.fit_transform(X_train)\n",
    "\n",
    "# применяем стандартизацию к матрице признаков для тестовой выборки\n",
    "X_test_st = scaler.transform(X_test)\n",
    "\n",
    "# задаём алгоритм для нашей модели логической регрессии\n",
    "model = LogisticRegression(solver='liblinear')\n",
    "\n",
    "# обучите модель\n",
    "model.fit(X_train, y_train)\n",
    "\n",
    "# зададим алгоритм для модели логистической регрессии\n",
    "lr_model = LogisticRegression(solver='liblinear', random_state=0)\n",
    "\n",
    "# обучим модель\n",
    "lr_model.fit(X_train_st, y_train)\n",
    "\n",
    "# воспользуемся уже обученной моделью, чтобы сделать прогнозы\n",
    "lr_predictions = lr_model.predict(X_test_st)\n",
    "lr_probabilities = lr_model.predict_proba(X_test_st)[:, 1]\n",
    "\n",
    "# выведем все метрики\n",
    "print_all_metrics(\n",
    "    y_test,\n",
    "    lr_predictions,\n",
    "    lr_probabilities,\n",
    "    title='Метрики для модели логистической регрессии:',\n",
    ")\n",
    "\n",
    "# зададим алгоритм для новой модели на основе алгоритма случайного леса\n",
    "rf_model = RandomForestClassifier(random_state = 0)\n",
    "# обучим модель случайного леса\n",
    "rf_model.fit(X_train_st, y_train)\n",
    "# воспользуемся уже обученной моделью, чтобы сделать прогнозы\n",
    "rf_predictions = rf_model.predict(X_test_st) \n",
    "rf_probabilities = rf_model.predict_proba(X_test_st)[:, 1]\n",
    "# выведем все метрики\n",
    "print_all_metrics(\n",
    "    y_test,\n",
    "    rf_predictions,\n",
    "    rf_probabilities, \n",
    "    title='Метрики для модели случайного леса:'\n",
    ")"
   ]
  },
  {
   "cell_type": "markdown",
   "metadata": {},
   "source": [
    "### Вывод по модели прогнозирования оттока клиентов\n",
    "\n",
    "Модели показали следущие результаты по метрикам классификации:\n",
    "\n",
    "Модель логистической регрессии:\n",
    "- Accuracy: `0.92`;\n",
    "- Precision: `0.85`;\n",
    "- Recall: `0.83`;\n",
    "    \n",
    "    \n",
    "Модель случайного леса:\n",
    "- Accuracy: `0.92`;\n",
    "- Precision: `0.84`;\n",
    "- Recall: `0.81`;\n",
    "\n",
    "По метрике `Accuracy` обе модели показали одинаковый результат. Метрики `Precision` и `Recall` чуть лучше у логической регрессии."
   ]
  },
  {
   "cell_type": "markdown",
   "metadata": {},
   "source": [
    "## Шаг. Сделаем кластеризацию клиентов"
   ]
  },
  {
   "cell_type": "markdown",
   "metadata": {},
   "source": [
    "### Стандартизируем данные и построим матрицу расстояний функцией `linkage()` на стандартизованной матрице признаков и нарисуем дендрограмму"
   ]
  },
  {
   "cell_type": "code",
   "execution_count": 18,
   "metadata": {},
   "outputs": [],
   "source": [
    "# обязательная стандартизация данных перед работой с алгоритмами\n",
    "sc = StandardScaler()\n",
    "x_sc = sc.fit_transform(X)\n",
    "\n",
    "# В переменной linked сохранена таблица «связок» между объектами. Её можно визуализировать как дендрограмму\n",
    "linked = linkage(x_sc, method = 'ward')"
   ]
  },
  {
   "cell_type": "code",
   "execution_count": 19,
   "metadata": {},
   "outputs": [
    {
     "data": {
      "image/png": "[encoded data removed]",
      "text/plain": [
       "<Figure size 1080x720 with 1 Axes>"
      ]
     },
     "metadata": {
      "needs_background": "light"
     },
     "output_type": "display_data"
    }
   ],
   "source": [
    "# укажем размер графика\n",
    "plt.figure(figsize=(15, 10))\n",
    "\n",
    "# нарисуем график иерархической кластеризации\n",
    "dendrogram(linked, orientation='top', no_labels=True)\n",
    "\n",
    "# заголовок графика\n",
    "plt.title('Агломеративная иерархическая кластеризация', fontsize = 18)\n",
    "\n",
    "# уберем технические надписи\n",
    "plt.show()"
   ]
  },
  {
   "cell_type": "markdown",
   "metadata": {},
   "source": [
    "На основании полученного графика видно, что есть `5` основных кластеров. Самый большой из них фиолетовый."
   ]
  },
  {
   "cell_type": "markdown",
   "metadata": {},
   "source": [
    "### Обучим модель кластеризации на основании алгоритма K-Means и спрогнозируем кластеры клиентов и посмотрим на средние значения признаков для кластеров"
   ]
  },
  {
   "cell_type": "code",
   "execution_count": 20,
   "metadata": {
    "scrolled": true
   },
   "outputs": [
    {
     "data": {
      "text/html": [
       "<div>\n",
       "<style scoped>\n",
       "    .dataframe tbody tr th:only-of-type {\n",
       "        vertical-align: middle;\n",
       "    }\n",
       "\n",
       "    .dataframe tbody tr th {\n",
       "        vertical-align: top;\n",
       "    }\n",
       "\n",
       "    .dataframe thead th {\n",
       "        text-align: right;\n",
       "    }\n",
       "</style>\n",
       "<table border=\"1\" class=\"dataframe\">\n",
       "  <thead>\n",
       "    <tr style=\"text-align: right;\">\n",
       "      <th></th>\n",
       "      <th>gender</th>\n",
       "      <th>near_location</th>\n",
       "      <th>partner</th>\n",
       "      <th>promo_friends</th>\n",
       "      <th>phone</th>\n",
       "      <th>contract_period</th>\n",
       "      <th>group_visits</th>\n",
       "      <th>age</th>\n",
       "      <th>avg_additional_charges_total</th>\n",
       "      <th>month_to_end_contract</th>\n",
       "      <th>lifetime</th>\n",
       "      <th>avg_class_frequency_total</th>\n",
       "      <th>avg_class_frequency_current_month</th>\n",
       "      <th>churn</th>\n",
       "      <th>cluster_km</th>\n",
       "    </tr>\n",
       "  </thead>\n",
       "  <tbody>\n",
       "    <tr>\n",
       "      <th>0</th>\n",
       "      <td>1</td>\n",
       "      <td>1</td>\n",
       "      <td>1</td>\n",
       "      <td>1</td>\n",
       "      <td>0</td>\n",
       "      <td>6</td>\n",
       "      <td>1</td>\n",
       "      <td>29</td>\n",
       "      <td>14.227470</td>\n",
       "      <td>5.0</td>\n",
       "      <td>3</td>\n",
       "      <td>0.020398</td>\n",
       "      <td>0.000000</td>\n",
       "      <td>0</td>\n",
       "      <td>1</td>\n",
       "    </tr>\n",
       "    <tr>\n",
       "      <th>1</th>\n",
       "      <td>0</td>\n",
       "      <td>1</td>\n",
       "      <td>0</td>\n",
       "      <td>0</td>\n",
       "      <td>1</td>\n",
       "      <td>12</td>\n",
       "      <td>1</td>\n",
       "      <td>31</td>\n",
       "      <td>113.202938</td>\n",
       "      <td>12.0</td>\n",
       "      <td>7</td>\n",
       "      <td>1.922936</td>\n",
       "      <td>1.910244</td>\n",
       "      <td>0</td>\n",
       "      <td>0</td>\n",
       "    </tr>\n",
       "    <tr>\n",
       "      <th>2</th>\n",
       "      <td>0</td>\n",
       "      <td>1</td>\n",
       "      <td>1</td>\n",
       "      <td>0</td>\n",
       "      <td>1</td>\n",
       "      <td>1</td>\n",
       "      <td>0</td>\n",
       "      <td>28</td>\n",
       "      <td>129.448479</td>\n",
       "      <td>1.0</td>\n",
       "      <td>2</td>\n",
       "      <td>1.859098</td>\n",
       "      <td>1.736502</td>\n",
       "      <td>0</td>\n",
       "      <td>3</td>\n",
       "    </tr>\n",
       "    <tr>\n",
       "      <th>3</th>\n",
       "      <td>0</td>\n",
       "      <td>1</td>\n",
       "      <td>1</td>\n",
       "      <td>1</td>\n",
       "      <td>1</td>\n",
       "      <td>12</td>\n",
       "      <td>1</td>\n",
       "      <td>33</td>\n",
       "      <td>62.669863</td>\n",
       "      <td>12.0</td>\n",
       "      <td>2</td>\n",
       "      <td>3.205633</td>\n",
       "      <td>3.357215</td>\n",
       "      <td>0</td>\n",
       "      <td>0</td>\n",
       "    </tr>\n",
       "    <tr>\n",
       "      <th>4</th>\n",
       "      <td>1</td>\n",
       "      <td>1</td>\n",
       "      <td>1</td>\n",
       "      <td>1</td>\n",
       "      <td>1</td>\n",
       "      <td>1</td>\n",
       "      <td>0</td>\n",
       "      <td>26</td>\n",
       "      <td>198.362265</td>\n",
       "      <td>1.0</td>\n",
       "      <td>3</td>\n",
       "      <td>1.113884</td>\n",
       "      <td>1.120078</td>\n",
       "      <td>0</td>\n",
       "      <td>3</td>\n",
       "    </tr>\n",
       "  </tbody>\n",
       "</table>\n",
       "</div>"
      ],
      "text/plain": [
       "   gender  near_location  partner  promo_friends  phone  contract_period  \\\n",
       "0       1              1        1              1      0                6   \n",
       "1       0              1        0              0      1               12   \n",
       "2       0              1        1              0      1                1   \n",
       "3       0              1        1              1      1               12   \n",
       "4       1              1        1              1      1                1   \n",
       "\n",
       "   group_visits  age  avg_additional_charges_total  month_to_end_contract  \\\n",
       "0             1   29                     14.227470                    5.0   \n",
       "1             1   31                    113.202938                   12.0   \n",
       "2             0   28                    129.448479                    1.0   \n",
       "3             1   33                     62.669863                   12.0   \n",
       "4             0   26                    198.362265                    1.0   \n",
       "\n",
       "   lifetime  avg_class_frequency_total  avg_class_frequency_current_month  \\\n",
       "0         3                   0.020398                           0.000000   \n",
       "1         7                   1.922936                           1.910244   \n",
       "2         2                   1.859098                           1.736502   \n",
       "3         2                   3.205633                           3.357215   \n",
       "4         3                   1.113884                           1.120078   \n",
       "\n",
       "   churn  cluster_km  \n",
       "0      0           1  \n",
       "1      0           0  \n",
       "2      0           3  \n",
       "3      0           0  \n",
       "4      0           3  "
      ]
     },
     "metadata": {},
     "output_type": "display_data"
    }
   ],
   "source": [
    "# задаём модель k_means с числом кластеров 3 и фиксируем значение random_state\n",
    "km = KMeans(n_clusters=5, random_state=0)\n",
    "\n",
    "# прогнозируем кластеры для наблюдений (алгоритм присваивает им номера от 0 до 2)\n",
    "labels = km.fit_predict(x_sc)\n",
    "\n",
    "# сохраняем метки кластера в поле нашего датасета\n",
    "gym_churn['cluster_km'] = labels\n",
    "\n",
    "# посмотрим первые 5 строк таблицы gym_churn\n",
    "display(gym_churn.head())"
   ]
  },
  {
   "cell_type": "markdown",
   "metadata": {},
   "source": [
    "Колонка с кластерами добавлена"
   ]
  },
  {
   "cell_type": "code",
   "execution_count": 21,
   "metadata": {},
   "outputs": [
    {
     "data": {
      "text/html": [
       "<div>\n",
       "<style scoped>\n",
       "    .dataframe tbody tr th:only-of-type {\n",
       "        vertical-align: middle;\n",
       "    }\n",
       "\n",
       "    .dataframe tbody tr th {\n",
       "        vertical-align: top;\n",
       "    }\n",
       "\n",
       "    .dataframe thead th {\n",
       "        text-align: right;\n",
       "    }\n",
       "</style>\n",
       "<table border=\"1\" class=\"dataframe\">\n",
       "  <thead>\n",
       "    <tr style=\"text-align: right;\">\n",
       "      <th></th>\n",
       "      <th>cluster_km</th>\n",
       "      <th>gender</th>\n",
       "      <th>near_location</th>\n",
       "      <th>partner</th>\n",
       "      <th>promo_friends</th>\n",
       "      <th>phone</th>\n",
       "      <th>contract_period</th>\n",
       "      <th>group_visits</th>\n",
       "      <th>age</th>\n",
       "      <th>avg_additional_charges_total</th>\n",
       "      <th>month_to_end_contract</th>\n",
       "      <th>lifetime</th>\n",
       "      <th>avg_class_frequency_total</th>\n",
       "      <th>avg_class_frequency_current_month</th>\n",
       "      <th>churn</th>\n",
       "    </tr>\n",
       "  </thead>\n",
       "  <tbody>\n",
       "    <tr>\n",
       "      <th>0</th>\n",
       "      <td>0</td>\n",
       "      <td>0.50</td>\n",
       "      <td>0.96</td>\n",
       "      <td>0.78</td>\n",
       "      <td>0.57</td>\n",
       "      <td>1.0</td>\n",
       "      <td>10.89</td>\n",
       "      <td>0.54</td>\n",
       "      <td>29.98</td>\n",
       "      <td>160.76</td>\n",
       "      <td>9.95</td>\n",
       "      <td>4.74</td>\n",
       "      <td>1.98</td>\n",
       "      <td>1.97</td>\n",
       "      <td>0.03</td>\n",
       "    </tr>\n",
       "    <tr>\n",
       "      <th>1</th>\n",
       "      <td>1</td>\n",
       "      <td>0.52</td>\n",
       "      <td>0.86</td>\n",
       "      <td>0.47</td>\n",
       "      <td>0.31</td>\n",
       "      <td>0.0</td>\n",
       "      <td>4.79</td>\n",
       "      <td>0.43</td>\n",
       "      <td>29.30</td>\n",
       "      <td>143.96</td>\n",
       "      <td>4.48</td>\n",
       "      <td>3.92</td>\n",
       "      <td>1.85</td>\n",
       "      <td>1.72</td>\n",
       "      <td>0.27</td>\n",
       "    </tr>\n",
       "    <tr>\n",
       "      <th>2</th>\n",
       "      <td>2</td>\n",
       "      <td>0.50</td>\n",
       "      <td>0.00</td>\n",
       "      <td>0.46</td>\n",
       "      <td>0.08</td>\n",
       "      <td>1.0</td>\n",
       "      <td>2.35</td>\n",
       "      <td>0.22</td>\n",
       "      <td>28.48</td>\n",
       "      <td>135.46</td>\n",
       "      <td>2.20</td>\n",
       "      <td>2.81</td>\n",
       "      <td>1.66</td>\n",
       "      <td>1.48</td>\n",
       "      <td>0.44</td>\n",
       "    </tr>\n",
       "    <tr>\n",
       "      <th>3</th>\n",
       "      <td>3</td>\n",
       "      <td>0.49</td>\n",
       "      <td>1.00</td>\n",
       "      <td>0.35</td>\n",
       "      <td>0.24</td>\n",
       "      <td>1.0</td>\n",
       "      <td>1.95</td>\n",
       "      <td>0.34</td>\n",
       "      <td>28.17</td>\n",
       "      <td>131.62</td>\n",
       "      <td>1.86</td>\n",
       "      <td>2.44</td>\n",
       "      <td>1.25</td>\n",
       "      <td>1.01</td>\n",
       "      <td>0.51</td>\n",
       "    </tr>\n",
       "    <tr>\n",
       "      <th>4</th>\n",
       "      <td>4</td>\n",
       "      <td>0.56</td>\n",
       "      <td>0.98</td>\n",
       "      <td>0.36</td>\n",
       "      <td>0.23</td>\n",
       "      <td>1.0</td>\n",
       "      <td>2.67</td>\n",
       "      <td>0.47</td>\n",
       "      <td>30.13</td>\n",
       "      <td>161.66</td>\n",
       "      <td>2.46</td>\n",
       "      <td>4.90</td>\n",
       "      <td>2.85</td>\n",
       "      <td>2.85</td>\n",
       "      <td>0.07</td>\n",
       "    </tr>\n",
       "  </tbody>\n",
       "</table>\n",
       "</div>"
      ],
      "text/plain": [
       "   cluster_km  gender  near_location  partner  promo_friends  phone  \\\n",
       "0           0    0.50           0.96     0.78           0.57    1.0   \n",
       "1           1    0.52           0.86     0.47           0.31    0.0   \n",
       "2           2    0.50           0.00     0.46           0.08    1.0   \n",
       "3           3    0.49           1.00     0.35           0.24    1.0   \n",
       "4           4    0.56           0.98     0.36           0.23    1.0   \n",
       "\n",
       "   contract_period  group_visits    age  avg_additional_charges_total  \\\n",
       "0            10.89          0.54  29.98                        160.76   \n",
       "1             4.79          0.43  29.30                        143.96   \n",
       "2             2.35          0.22  28.48                        135.46   \n",
       "3             1.95          0.34  28.17                        131.62   \n",
       "4             2.67          0.47  30.13                        161.66   \n",
       "\n",
       "   month_to_end_contract  lifetime  avg_class_frequency_total  \\\n",
       "0                   9.95      4.74                       1.98   \n",
       "1                   4.48      3.92                       1.85   \n",
       "2                   2.20      2.81                       1.66   \n",
       "3                   1.86      2.44                       1.25   \n",
       "4                   2.46      4.90                       2.85   \n",
       "\n",
       "   avg_class_frequency_current_month  churn  \n",
       "0                               1.97   0.03  \n",
       "1                               1.72   0.27  \n",
       "2                               1.48   0.44  \n",
       "3                               1.01   0.51  \n",
       "4                               2.85   0.07  "
      ]
     },
     "execution_count": 21,
     "metadata": {},
     "output_type": "execute_result"
    }
   ],
   "source": [
    "# посмотрим среднее значение для кластеров\n",
    "round(gym_churn.groupby('cluster_km').mean().reset_index(), 2)"
   ]
  },
  {
   "cell_type": "markdown",
   "metadata": {},
   "source": [
    "По показателям кластеров видно следящее:\n",
    "\n",
    "- `gender` колеблется от `0.49` до `0.56` разница по полу небольшая;\n",
    "- `near_location` колеблется от `0.00` до `1.00`, первая группа ближе всего к фитнес центру, а вторая группа дальше всего расположена от фитнес центра;\n",
    "- `partner` колеблется от `0.35` до `0.78` лучший показатель у нулевой группы, а худший у третьей.\n",
    "- `promo_friends` колеблется от `0.08` до `0.57` нулевая группа больше всего приглашает друзей, а вторя меньше всего;\n",
    "- `phone` колеблется от `0.00` до `1.00` только вторая группа не оставляет телефон;\n",
    "- `contract_period` колеблется от `1.95` до `10.89` длительность текущего действующего абонемента больше всего у нулевой группы, а меньше всего у третьей;\n",
    "- `group_visits` колеблется от `0.22` до `0.54` в групповых программах лидирует нулевая группа, а аутсайдер группа номер два;\n",
    "- `age` колеблется от `29.98` до `30.13` разница по возрасту небольшая в среднем 30 лет;\n",
    "- `avg_additional_charges_total` колеблется от `131.62` до `161.66` больше всего выручки от других услуг фитнес-центра приносит четвертая группа, а меньше всего турья группа;\n",
    "- `month_to_end_contract` колеблется от `1.86` до `9.95` срок до окончания текущего действующего абонемента больше всего у нулевой группы, а меньше всего у третьей;\n",
    "- `lifetime` колеблется от `2.44` до `4.90` по времени с момента первого обращения в фитнес-центр лидирует четвертая группа, а аутсайдер вторая группа;\n",
    "- `avg_class_frequency_total` колеблется от `1.25` до `2.85` средняя частота посещений в неделю за все время с начала действия абонемента выше всего у группы четыре, а аутсайдер третья группа;\n",
    "- `avg_class_frequency_current_month` колеблется от `1.01` до `2.85` средняя частота посещений в неделю за предыдущий месяц так же выше у четвертой группы, а аутсайдер третья;\n",
    "- `churn` колеблется от `0.03` до `0.51` по факту оттока в текущем месяце лидирует третья группа, а меньше всего этот показатель у нулевой группы."
   ]
  },
  {
   "cell_type": "markdown",
   "metadata": {},
   "source": [
    "### Пострим распределения признаков для кластеров"
   ]
  },
  {
   "cell_type": "code",
   "execution_count": 22,
   "metadata": {},
   "outputs": [
    {
     "data": {
      "image/png": "[encoded data removed]",
      "text/plain": [
       "<Figure size 936x432 with 1 Axes>"
      ]
     },
     "metadata": {
      "needs_background": "light"
     },
     "output_type": "display_data"
    },
    {
     "data": {
      "image/png": "[encoded data removed]",
      "text/plain": [
       "<Figure size 936x432 with 1 Axes>"
      ]
     },
     "metadata": {
      "needs_background": "light"
     },
     "output_type": "display_data"
    },
    {
     "data": {
      "image/png": "[encoded data removed]",
      "text/plain": [
       "<Figure size 936x432 with 1 Axes>"
      ]
     },
     "metadata": {
      "needs_background": "light"
     },
     "output_type": "display_data"
    },
    {
     "data": {
      "image/png": "[encoded data removed]",
      "text/plain": [
       "<Figure size 936x432 with 1 Axes>"
      ]
     },
     "metadata": {
      "needs_background": "light"
     },
     "output_type": "display_data"
    },
    {
     "data": {
      "image/png": "[encoded data removed]",
      "text/plain": [
       "<Figure size 936x432 with 1 Axes>"
      ]
     },
     "metadata": {
      "needs_background": "light"
     },
     "output_type": "display_data"
    },
    {
     "data": {
      "image/png": "[encoded data removed]",
      "text/plain": [
       "<Figure size 936x432 with 1 Axes>"
      ]
     },
     "metadata": {
      "needs_background": "light"
     },
     "output_type": "display_data"
    },
    {
     "data": {
      "image/png": "[encoded data removed]",
      "text/plain": [
       "<Figure size 936x432 with 1 Axes>"
      ]
     },
     "metadata": {
      "needs_background": "light"
     },
     "output_type": "display_data"
    },
    {
     "data": {
      "image/png": "[encoded data removed]",
      "text/plain": [
       "<Figure size 936x432 with 1 Axes>"
      ]
     },
     "metadata": {
      "needs_background": "light"
     },
     "output_type": "display_data"
    },
    {
     "data": {
      "image/png": "[encoded data removed]",
      "text/plain": [
       "<Figure size 936x432 with 1 Axes>"
      ]
     },
     "metadata": {
      "needs_background": "light"
     },
     "output_type": "display_data"
    },
    {
     "data": {
      "image/png": "[encoded data removed]",
      "text/plain": [
       "<Figure size 936x432 with 1 Axes>"
      ]
     },
     "metadata": {
      "needs_background": "light"
     },
     "output_type": "display_data"
    },
    {
     "data": {
      "image/png": "[encoded data removed]",
      "text/plain": [
       "<Figure size 936x432 with 1 Axes>"
      ]
     },
     "metadata": {
      "needs_background": "light"
     },
     "output_type": "display_data"
    },
    {
     "data": {
      "image/png": "[encoded data removed]",
      "text/plain": [
       "<Figure size 936x432 with 1 Axes>"
      ]
     },
     "metadata": {
      "needs_background": "light"
     },
     "output_type": "display_data"
    },
    {
     "data": {
      "image/png": "[encoded data removed]",
      "text/plain": [
       "<Figure size 936x432 with 1 Axes>"
      ]
     },
     "metadata": {
      "needs_background": "light"
     },
     "output_type": "display_data"
    },
    {
     "data": {
      "image/png": "[encoded data removed]",
      "text/plain": [
       "<Figure size 936x432 with 1 Axes>"
      ]
     },
     "metadata": {
      "needs_background": "light"
     },
     "output_type": "display_data"
    },
    {
     "data": {
      "image/png": "[encoded data removed]",
      "text/plain": [
       "<Figure size 936x432 with 1 Axes>"
      ]
     },
     "metadata": {
      "needs_background": "light"
     },
     "output_type": "display_data"
    }
   ],
   "source": [
    "# сделаем цикл для вывода графиков\n",
    "# возьмем все колонки кроме колонки с целевой переменной\n",
    "for column in gym_churn:\n",
    "    \n",
    "    # укажем размер графика\n",
    "    plt.figure(figsize=(13, 6))\n",
    "    \n",
    "    # построим столбчатую диаграмму\n",
    "    sns.histplot(data = gym_churn, x=gym_churn[column], hue='cluster_km', multiple=\"dodge\",  palette=\"Spectral\")\n",
    "    \n",
    "    # заголовок графика\n",
    "    plt.title(column, fontsize = 18)\n",
    "    \n",
    "    # подпись оси X\n",
    "    plt.xlabel('Распределение признака', fontsize = 13)\n",
    "\n",
    "    # подпись оси Y\n",
    "    plt.ylabel('Количество клиентов', fontsize = 13)\n",
    "    \n",
    "    # уберем технические надписи\n",
    "    plt.show()"
   ]
  },
  {
   "cell_type": "markdown",
   "metadata": {},
   "source": [
    "Из графиков видно:\n",
    "\n",
    "- большинство клиентов находится в третьей группе;\n",
    "- по полу все примерно на одном уровне;\n",
    "- те, у кого абонемент на 12 месяцев попали в нулевую группу;\n",
    "- по частоте посещений фитнес-центра и времени с момента первого обращения в клуб у третьего кластера наименьшие показатели. Это самые молодые клиенты, как правило, до 30 лет;\n",
    "- третий кластер приносят меньше суммарной выручки от дополнительных услуг;\n",
    "- третий кластер представляют клиентов с самым высоким оттоком;\n",
    "- самый низкий отток у четвертого кластера."
   ]
  },
  {
   "cell_type": "markdown",
   "metadata": {},
   "source": [
    "### Для каждого полученного кластера посчитаем долю оттока"
   ]
  },
  {
   "cell_type": "code",
   "execution_count": 23,
   "metadata": {},
   "outputs": [
    {
     "data": {
      "text/plain": [
       "cluster_km\n",
       "0    0.03\n",
       "4    0.07\n",
       "1    0.27\n",
       "2    0.44\n",
       "3    0.51\n",
       "Name: churn, dtype: float64"
      ]
     },
     "metadata": {},
     "output_type": "display_data"
    }
   ],
   "source": [
    "# посмотрим долю оттока для каждого кластеров\n",
    "display(round(gym_churn.groupby('cluster_km')['churn'].mean(), 2).sort_values(ascending=True))"
   ]
  },
  {
   "cell_type": "markdown",
   "metadata": {},
   "source": [
    "В среднем больший отток у третьего кластера - `0.51`, а наименьший у четвертого - `0.07`."
   ]
  },
  {
   "cell_type": "markdown",
   "metadata": {},
   "source": [
    "### Вывод по кластеризации клиентов\n",
    "\n",
    "Мы получили 5 основных кластеров (от `0` до `4`).\n",
    "\n",
    "\n",
    "По показателям кластеров видно следящее:\n",
    "\n",
    "- `gender` колеблется от `0.49` до `0.56` разница по полу небольшая;\n",
    "- `near_location` колеблется от `0.00` до `1.00`, первая группа ближе всего к фитнес центру, а вторая группа дальше всего расположена от фитнес центра;\n",
    "- `partner` колеблется от `0.35` до `0.78` лучший показатель у нулевой группы, а худший у третьей.\n",
    "- `promo_friends` колеблется от `0.08` до `0.57` нулевая группа больше всего приглашает друзей, а вторя меньше всего;\n",
    "- `phone` колеблется от `0.00` до `1.00` только вторая группа не оставляет телефон;\n",
    "- `contract_period` колеблется от `1.95` до `10.89` длительность текущего действующего абонемента больше всего у нулевой группы, а меньше всего у третьей;\n",
    "- `group_visits` колеблется от `0.22` до `0.54` в групповых программах лидирует нулевая группа, а аутсайдер группа номер два;\n",
    "- `age` колеблется от `29.98` до `30.13` разница по возрасту небольшая в среднем 30 лет;\n",
    "- `avg_additional_charges_total` колеблется от `131.62` до `161.66` больше всего выручки от других услуг фитнес-центра приносит четвертая группа, а меньше всего турья группа;\n",
    "- `month_to_end_contract` колеблется от `1.86` до `9.95` срок до окончания текущего действующего абонемента больше всего у нулевой группы, а меньше всего у третьей;\n",
    "- `lifetime` колеблется от `2.44` до `4.90` по времени с момента первого обращения в фитнес-центр лидирует четвертая группа, а аутсайдер вторая группа;\n",
    "- `avg_class_frequency_total` колеблется от `1.25` до `2.85` средняя частота посещений в неделю за все время с начала действия абонемента выше всего у группы четыре, а аутсайдер третья группа;\n",
    "- `avg_class_frequency_current_month` колеблется от `1.01` до `2.85` средняя частота посещений в неделю за предыдущий месяц так же выше у четвертой группы, а аутсайдер третья;\n",
    "- `churn` колеблется от `0.03` до `0.51` по факту оттока в текущем месяце лидирует третья группа, а меньше всего этот показатель у нулевой группы.\n",
    "\n",
    "Из графиков видно:\n",
    "\n",
    "- большинство клиентов находится в третьей группе;\n",
    "- по полу все примерно на одном уровне;\n",
    "- те, у кого абонемент на 12 месяцев попали в нулевую группу;\n",
    "- по частоте посещений фитнес-центра и времени с момента первого обращения в клуб у третьего кластера наименьшие показатели. Это самые молодые клиенты, как правило, до 30 лет;\n",
    "- третий кластер приносят меньше суммарной выручки от дополнительных услуг;\n",
    "- третий кластер представляют клиентов с самым высоким оттоком;\n",
    "- самый низкий отток у четвертого кластера.\n",
    "\n",
    "В среднем больший отток у третьего кластера - `0.51`, а наименьший у четвертого - `0.07`."
   ]
  },
  {
   "cell_type": "markdown",
   "metadata": {},
   "source": [
    "## Шаг. Выводы и базовые рекомендации по работе с клиентами\n",
    "\n",
    "По гендерному признаку разницы нет, распределение очень похоже. Обычный клиент сети фитнес центров — это человек среднего возраста, около `30` лет, который пользуется услугами два раза в неделю. В основном фитнес центр находится рядом с домом или работой. Средняя выручка от дополнительных услуг составляет `146,94`, а средний отток составляет `0.27%`.\n",
    "\n",
    "\n",
    "Модели прогнозирования показали следующие результаты по метрикам классификации:\n",
    "\n",
    "Модель логистической регрессии:\n",
    "- Accuracy: `0.92`;\n",
    "- Precision: `0.85`;\n",
    "- Recall: `0.83`;\n",
    "    \n",
    "    \n",
    "Модель случайного леса:\n",
    "- Accuracy: `0.92`;\n",
    "- Precision: `0.84`;\n",
    "- Recall: `0.81`;\n",
    "\n",
    "По метрике `Accuracy` обе модели показали одинаковый результат. Метрики `Precision` и `Recall` чуть лучше у логической регрессии.\n",
    "\n",
    "Чаще уходят следящие клиенты:\n",
    "\n",
    "- более молодые;\n",
    "- те, у кого нет скидок или партнерских программ;\n",
    "- кто берет абонемент на короткий срок;\n",
    "- те, кто не посещает групповых программ.\n",
    "\n",
    "Рекомендации, чтобы удержать клиентов:\n",
    "\n",
    "- предлагать больше скидок и партнерский программ;\n",
    "- продавать абонементы на более долгий срок, возможно делать этот абонемент дешевле или добавлять к нему различные бонусы;\n",
    "- привлекать клиентов на групповые программы, люди, которые ходят на групповые занятия менее склонны к уходу из фитнес центра"
   ]
  }
 ],
 "metadata": {
  "ExecuteTimeLog": [
   {
    "duration": 1407,
    "start_time": "2022-10-11T17:30:59.195Z"
   },
   {
    "duration": 298,
    "start_time": "2022-10-11T17:48:03.510Z"
   },
   {
    "duration": 45,
    "start_time": "2022-10-13T16:33:49.726Z"
   },
   {
    "duration": 1580,
    "start_time": "2022-10-13T16:33:57.908Z"
   },
   {
    "duration": 3,
    "start_time": "2022-10-13T16:33:59.490Z"
   },
   {
    "duration": 874,
    "start_time": "2022-10-13T16:36:34.703Z"
   },
   {
    "duration": 377,
    "start_time": "2022-10-13T16:36:45.626Z"
   },
   {
    "duration": 12,
    "start_time": "2022-10-13T16:36:48.481Z"
   },
   {
    "duration": 249,
    "start_time": "2022-10-13T16:37:20.696Z"
   },
   {
    "duration": 9,
    "start_time": "2022-10-13T16:37:21.665Z"
   },
   {
    "duration": 170,
    "start_time": "2022-10-13T16:43:24.467Z"
   },
   {
    "duration": 73,
    "start_time": "2022-10-13T16:44:14.405Z"
   },
   {
    "duration": 6,
    "start_time": "2022-10-13T16:44:25.629Z"
   },
   {
    "duration": 69,
    "start_time": "2022-10-13T16:44:28.524Z"
   },
   {
    "duration": 5,
    "start_time": "2022-10-13T16:44:29.741Z"
   },
   {
    "duration": 1494,
    "start_time": "2022-10-13T16:45:01.179Z"
   },
   {
    "duration": 3,
    "start_time": "2022-10-13T16:45:02.675Z"
   },
   {
    "duration": 111,
    "start_time": "2022-10-13T16:45:02.679Z"
   },
   {
    "duration": 8,
    "start_time": "2022-10-13T16:45:02.792Z"
   },
   {
    "duration": 70,
    "start_time": "2022-10-13T16:45:21.769Z"
   },
   {
    "duration": 12,
    "start_time": "2022-10-13T16:45:22.953Z"
   },
   {
    "duration": 153,
    "start_time": "2022-10-13T16:48:21.442Z"
   },
   {
    "duration": 105,
    "start_time": "2022-10-13T16:51:44.254Z"
   },
   {
    "duration": 89,
    "start_time": "2022-10-13T16:53:45.606Z"
   },
   {
    "duration": 2,
    "start_time": "2022-10-13T17:07:28.951Z"
   },
   {
    "duration": 4,
    "start_time": "2022-10-13T17:08:27.489Z"
   },
   {
    "duration": 68,
    "start_time": "2022-10-13T17:09:16.506Z"
   },
   {
    "duration": 4,
    "start_time": "2022-10-13T17:09:27.554Z"
   },
   {
    "duration": 4,
    "start_time": "2022-10-13T17:09:33.771Z"
   },
   {
    "duration": 8,
    "start_time": "2022-10-13T17:12:40.597Z"
   },
   {
    "duration": 1470,
    "start_time": "2022-10-13T17:12:54.727Z"
   },
   {
    "duration": 3,
    "start_time": "2022-10-13T17:12:56.199Z"
   },
   {
    "duration": 73,
    "start_time": "2022-10-13T17:12:56.204Z"
   },
   {
    "duration": 23,
    "start_time": "2022-10-13T17:12:56.279Z"
   },
   {
    "duration": 110,
    "start_time": "2022-10-13T17:12:56.305Z"
   },
   {
    "duration": 3,
    "start_time": "2022-10-13T17:12:56.417Z"
   },
   {
    "duration": 10,
    "start_time": "2022-10-13T17:12:56.422Z"
   },
   {
    "duration": 27,
    "start_time": "2022-10-13T17:12:56.433Z"
   },
   {
    "duration": 1582,
    "start_time": "2022-10-13T17:30:00.599Z"
   },
   {
    "duration": 1531,
    "start_time": "2022-10-13T17:30:15.852Z"
   },
   {
    "duration": 2,
    "start_time": "2022-10-13T17:30:17.385Z"
   },
   {
    "duration": 76,
    "start_time": "2022-10-13T17:30:17.388Z"
   },
   {
    "duration": 15,
    "start_time": "2022-10-13T17:30:17.465Z"
   },
   {
    "duration": 101,
    "start_time": "2022-10-13T17:30:17.482Z"
   },
   {
    "duration": 3,
    "start_time": "2022-10-13T17:30:17.585Z"
   },
   {
    "duration": 34,
    "start_time": "2022-10-13T17:30:17.590Z"
   },
   {
    "duration": 87,
    "start_time": "2022-10-13T17:30:17.626Z"
   },
   {
    "duration": 40,
    "start_time": "2022-10-13T17:31:31.669Z"
   },
   {
    "duration": 41,
    "start_time": "2022-10-13T17:31:47.669Z"
   },
   {
    "duration": 111,
    "start_time": "2022-10-13T17:33:45.119Z"
   },
   {
    "duration": 13,
    "start_time": "2022-10-13T17:35:44.618Z"
   },
   {
    "duration": 14,
    "start_time": "2022-10-13T17:35:58.537Z"
   },
   {
    "duration": 13,
    "start_time": "2022-10-13T17:36:01.617Z"
   },
   {
    "duration": 46,
    "start_time": "2022-10-13T17:38:34.770Z"
   },
   {
    "duration": 6,
    "start_time": "2022-10-13T17:44:54.503Z"
   },
   {
    "duration": 6,
    "start_time": "2022-10-13T17:45:23.439Z"
   },
   {
    "duration": 7,
    "start_time": "2022-10-13T17:45:38.712Z"
   },
   {
    "duration": 8,
    "start_time": "2022-10-13T17:46:30.896Z"
   },
   {
    "duration": 8,
    "start_time": "2022-10-13T17:47:51.554Z"
   },
   {
    "duration": 27,
    "start_time": "2022-10-13T17:49:38.755Z"
   },
   {
    "duration": 42,
    "start_time": "2022-10-13T17:49:44.611Z"
   },
   {
    "duration": 16,
    "start_time": "2022-10-13T17:50:11.505Z"
   },
   {
    "duration": 43,
    "start_time": "2022-10-13T17:50:56.204Z"
   },
   {
    "duration": 12,
    "start_time": "2022-10-13T18:21:12.337Z"
   },
   {
    "duration": 6,
    "start_time": "2022-10-13T18:21:48.273Z"
   },
   {
    "duration": 16,
    "start_time": "2022-10-13T18:21:52.938Z"
   },
   {
    "duration": 10,
    "start_time": "2022-10-13T18:22:22.144Z"
   },
   {
    "duration": 3,
    "start_time": "2022-10-13T18:23:07.635Z"
   },
   {
    "duration": 71,
    "start_time": "2022-10-13T18:23:22.430Z"
   },
   {
    "duration": 13,
    "start_time": "2022-10-13T18:23:28.842Z"
   },
   {
    "duration": 18,
    "start_time": "2022-10-13T18:25:52.853Z"
   },
   {
    "duration": 12,
    "start_time": "2022-10-13T18:26:59.317Z"
   },
   {
    "duration": 12,
    "start_time": "2022-10-13T18:28:45.031Z"
   },
   {
    "duration": 85,
    "start_time": "2022-10-15T05:34:41.566Z"
   },
   {
    "duration": 1780,
    "start_time": "2022-10-15T05:34:45.689Z"
   },
   {
    "duration": 3,
    "start_time": "2022-10-15T05:34:47.472Z"
   },
   {
    "duration": 107,
    "start_time": "2022-10-15T05:34:47.477Z"
   },
   {
    "duration": 31,
    "start_time": "2022-10-15T05:34:47.587Z"
   },
   {
    "duration": 157,
    "start_time": "2022-10-15T05:34:47.621Z"
   },
   {
    "duration": 4,
    "start_time": "2022-10-15T05:34:47.780Z"
   },
   {
    "duration": 43,
    "start_time": "2022-10-15T05:34:47.788Z"
   },
   {
    "duration": 28,
    "start_time": "2022-10-15T05:34:47.833Z"
   },
   {
    "duration": 66,
    "start_time": "2022-10-15T05:34:47.863Z"
   },
   {
    "duration": 51,
    "start_time": "2022-10-15T05:34:47.930Z"
   },
   {
    "duration": 644,
    "start_time": "2022-10-15T05:34:47.983Z"
   },
   {
    "duration": 13,
    "start_time": "2022-10-15T05:35:16.438Z"
   },
   {
    "duration": 17,
    "start_time": "2022-10-15T05:35:37.199Z"
   },
   {
    "duration": 14,
    "start_time": "2022-10-15T05:35:55.511Z"
   },
   {
    "duration": 13,
    "start_time": "2022-10-15T05:36:23.910Z"
   },
   {
    "duration": 8,
    "start_time": "2022-10-15T05:36:26.389Z"
   },
   {
    "duration": 4,
    "start_time": "2022-10-15T05:36:41.319Z"
   },
   {
    "duration": 4,
    "start_time": "2022-10-15T05:37:26.263Z"
   },
   {
    "duration": 6,
    "start_time": "2022-10-15T05:37:29.783Z"
   },
   {
    "duration": 16,
    "start_time": "2022-10-15T05:38:11.666Z"
   },
   {
    "duration": 7,
    "start_time": "2022-10-15T05:38:15.936Z"
   },
   {
    "duration": 5,
    "start_time": "2022-10-15T05:39:30.265Z"
   },
   {
    "duration": 6,
    "start_time": "2022-10-15T05:39:50.714Z"
   },
   {
    "duration": 3,
    "start_time": "2022-10-15T05:39:57.329Z"
   },
   {
    "duration": 4,
    "start_time": "2022-10-15T05:39:59.113Z"
   },
   {
    "duration": 4,
    "start_time": "2022-10-15T05:40:04.825Z"
   },
   {
    "duration": 48,
    "start_time": "2022-10-15T12:24:43.578Z"
   },
   {
    "duration": 1612,
    "start_time": "2022-10-15T12:24:53.069Z"
   },
   {
    "duration": 9,
    "start_time": "2022-10-15T12:24:54.683Z"
   },
   {
    "duration": 184,
    "start_time": "2022-10-15T12:24:54.693Z"
   },
   {
    "duration": 24,
    "start_time": "2022-10-15T12:24:54.879Z"
   },
   {
    "duration": 125,
    "start_time": "2022-10-15T12:24:54.907Z"
   },
   {
    "duration": 3,
    "start_time": "2022-10-15T12:24:55.033Z"
   },
   {
    "duration": 26,
    "start_time": "2022-10-15T12:24:55.038Z"
   },
   {
    "duration": 15,
    "start_time": "2022-10-15T12:24:55.065Z"
   },
   {
    "duration": 20,
    "start_time": "2022-10-15T12:24:55.082Z"
   },
   {
    "duration": 17,
    "start_time": "2022-10-15T12:24:55.103Z"
   },
   {
    "duration": 3,
    "start_time": "2022-10-15T12:24:55.121Z"
   },
   {
    "duration": 88,
    "start_time": "2022-10-15T12:24:55.126Z"
   },
   {
    "duration": 0,
    "start_time": "2022-10-15T12:24:55.216Z"
   },
   {
    "duration": 20,
    "start_time": "2022-10-15T12:25:09.017Z"
   },
   {
    "duration": 71,
    "start_time": "2022-10-15T12:28:10.300Z"
   },
   {
    "duration": 3603,
    "start_time": "2022-10-15T12:28:16.771Z"
   },
   {
    "duration": 6,
    "start_time": "2022-10-15T12:29:14.502Z"
   },
   {
    "duration": 16,
    "start_time": "2022-10-15T12:29:21.997Z"
   },
   {
    "duration": 722,
    "start_time": "2022-10-15T12:33:37.184Z"
   },
   {
    "duration": 701,
    "start_time": "2022-10-15T12:33:45.972Z"
   },
   {
    "duration": 1991,
    "start_time": "2022-10-15T12:33:49.679Z"
   },
   {
    "duration": 1225,
    "start_time": "2022-10-15T12:34:09.893Z"
   },
   {
    "duration": 610,
    "start_time": "2022-10-15T12:34:39.136Z"
   },
   {
    "duration": 1144,
    "start_time": "2022-10-15T12:41:54.559Z"
   },
   {
    "duration": 1150,
    "start_time": "2022-10-15T12:42:14.913Z"
   },
   {
    "duration": 1601,
    "start_time": "2022-10-15T12:42:18.967Z"
   },
   {
    "duration": 1419,
    "start_time": "2022-10-15T12:48:47.450Z"
   },
   {
    "duration": 527,
    "start_time": "2022-10-15T12:54:49.910Z"
   },
   {
    "duration": 652,
    "start_time": "2022-10-15T12:55:23.502Z"
   },
   {
    "duration": 654,
    "start_time": "2022-10-15T12:56:14.456Z"
   },
   {
    "duration": 1463,
    "start_time": "2022-10-15T12:56:26.367Z"
   },
   {
    "duration": 328,
    "start_time": "2022-10-15T13:03:53.676Z"
   },
   {
    "duration": 12,
    "start_time": "2022-10-15T13:06:57.599Z"
   },
   {
    "duration": 14,
    "start_time": "2022-10-15T13:07:12.639Z"
   },
   {
    "duration": 13,
    "start_time": "2022-10-15T13:07:15.703Z"
   },
   {
    "duration": 9,
    "start_time": "2022-10-15T13:12:02.714Z"
   },
   {
    "duration": 68,
    "start_time": "2022-10-15T13:12:25.346Z"
   },
   {
    "duration": 1544,
    "start_time": "2022-10-15T13:12:32.932Z"
   },
   {
    "duration": 7786,
    "start_time": "2022-10-15T13:13:18.331Z"
   },
   {
    "duration": 9,
    "start_time": "2022-10-15T13:14:24.083Z"
   },
   {
    "duration": 7,
    "start_time": "2022-10-15T13:14:33.800Z"
   },
   {
    "duration": 7,
    "start_time": "2022-10-15T13:14:33.809Z"
   },
   {
    "duration": 81,
    "start_time": "2022-10-15T13:14:33.818Z"
   },
   {
    "duration": 13,
    "start_time": "2022-10-15T13:14:33.901Z"
   },
   {
    "duration": 97,
    "start_time": "2022-10-15T13:14:33.916Z"
   },
   {
    "duration": 3,
    "start_time": "2022-10-15T13:14:34.016Z"
   },
   {
    "duration": 6,
    "start_time": "2022-10-15T13:14:34.020Z"
   },
   {
    "duration": 13,
    "start_time": "2022-10-15T13:14:34.028Z"
   },
   {
    "duration": 7,
    "start_time": "2022-10-15T13:14:34.042Z"
   },
   {
    "duration": 38,
    "start_time": "2022-10-15T13:14:34.051Z"
   },
   {
    "duration": 3,
    "start_time": "2022-10-15T13:14:34.091Z"
   },
   {
    "duration": 11,
    "start_time": "2022-10-15T13:14:34.095Z"
   },
   {
    "duration": 0,
    "start_time": "2022-10-15T13:14:34.108Z"
   },
   {
    "duration": 0,
    "start_time": "2022-10-15T13:14:34.109Z"
   },
   {
    "duration": 12,
    "start_time": "2022-10-15T13:14:48.883Z"
   },
   {
    "duration": 7948,
    "start_time": "2022-10-15T13:16:25.501Z"
   },
   {
    "duration": 9,
    "start_time": "2022-10-15T13:16:50.253Z"
   },
   {
    "duration": 12,
    "start_time": "2022-10-15T13:19:53.007Z"
   },
   {
    "duration": 3,
    "start_time": "2022-10-15T13:20:00.271Z"
   },
   {
    "duration": 12,
    "start_time": "2022-10-15T13:20:03.095Z"
   },
   {
    "duration": 67,
    "start_time": "2022-10-15T13:20:45.952Z"
   },
   {
    "duration": 12,
    "start_time": "2022-10-15T13:20:59.983Z"
   },
   {
    "duration": 8,
    "start_time": "2022-10-15T13:21:09.872Z"
   },
   {
    "duration": 1436,
    "start_time": "2022-10-15T13:21:26.111Z"
   },
   {
    "duration": 3,
    "start_time": "2022-10-15T13:21:27.550Z"
   },
   {
    "duration": 78,
    "start_time": "2022-10-15T13:21:27.555Z"
   },
   {
    "duration": 16,
    "start_time": "2022-10-15T13:21:27.635Z"
   },
   {
    "duration": 96,
    "start_time": "2022-10-15T13:21:27.653Z"
   },
   {
    "duration": 6,
    "start_time": "2022-10-15T13:21:27.751Z"
   },
   {
    "duration": 29,
    "start_time": "2022-10-15T13:21:27.758Z"
   },
   {
    "duration": 10,
    "start_time": "2022-10-15T13:21:27.789Z"
   },
   {
    "duration": 17,
    "start_time": "2022-10-15T13:21:27.801Z"
   },
   {
    "duration": 13,
    "start_time": "2022-10-15T13:21:27.821Z"
   },
   {
    "duration": 7,
    "start_time": "2022-10-15T13:21:27.836Z"
   },
   {
    "duration": 115,
    "start_time": "2022-10-15T13:21:27.845Z"
   },
   {
    "duration": 0,
    "start_time": "2022-10-15T13:21:27.962Z"
   },
   {
    "duration": 11,
    "start_time": "2022-10-15T13:21:35.452Z"
   },
   {
    "duration": 3,
    "start_time": "2022-10-15T13:21:40.069Z"
   },
   {
    "duration": 4,
    "start_time": "2022-10-15T13:21:44.474Z"
   },
   {
    "duration": 11,
    "start_time": "2022-10-15T13:21:50.317Z"
   },
   {
    "duration": 5,
    "start_time": "2022-10-15T13:21:55.309Z"
   },
   {
    "duration": 1390,
    "start_time": "2022-10-15T13:22:08.383Z"
   },
   {
    "duration": 3,
    "start_time": "2022-10-15T13:22:09.775Z"
   },
   {
    "duration": 69,
    "start_time": "2022-10-15T13:22:09.779Z"
   },
   {
    "duration": 17,
    "start_time": "2022-10-15T13:22:09.850Z"
   },
   {
    "duration": 88,
    "start_time": "2022-10-15T13:22:09.868Z"
   },
   {
    "duration": 3,
    "start_time": "2022-10-15T13:22:09.957Z"
   },
   {
    "duration": 24,
    "start_time": "2022-10-15T13:22:09.961Z"
   },
   {
    "duration": 7,
    "start_time": "2022-10-15T13:22:09.986Z"
   },
   {
    "duration": 11,
    "start_time": "2022-10-15T13:22:09.995Z"
   },
   {
    "duration": 37,
    "start_time": "2022-10-15T13:22:10.008Z"
   },
   {
    "duration": 2,
    "start_time": "2022-10-15T13:22:10.047Z"
   },
   {
    "duration": 8,
    "start_time": "2022-10-15T13:22:10.051Z"
   },
   {
    "duration": 110,
    "start_time": "2022-10-15T13:22:10.061Z"
   },
   {
    "duration": 12,
    "start_time": "2022-10-15T13:22:40.946Z"
   },
   {
    "duration": 3,
    "start_time": "2022-10-15T13:22:51.818Z"
   },
   {
    "duration": 9,
    "start_time": "2022-10-15T13:23:06.786Z"
   },
   {
    "duration": 5,
    "start_time": "2022-10-15T13:23:24.714Z"
   },
   {
    "duration": 5,
    "start_time": "2022-10-15T13:26:16.532Z"
   },
   {
    "duration": 509,
    "start_time": "2022-10-15T13:26:31.301Z"
   },
   {
    "duration": 7552,
    "start_time": "2022-10-15T13:26:43.404Z"
   },
   {
    "duration": 7531,
    "start_time": "2022-10-15T13:28:15.622Z"
   },
   {
    "duration": 7513,
    "start_time": "2022-10-15T13:29:25.935Z"
   },
   {
    "duration": 7397,
    "start_time": "2022-10-15T13:30:39.785Z"
   },
   {
    "duration": 7379,
    "start_time": "2022-10-15T13:30:52.592Z"
   },
   {
    "duration": 7801,
    "start_time": "2022-10-15T13:32:23.528Z"
   },
   {
    "duration": 7731,
    "start_time": "2022-10-15T13:32:45.369Z"
   },
   {
    "duration": 7334,
    "start_time": "2022-10-15T13:35:17.500Z"
   },
   {
    "duration": 8024,
    "start_time": "2022-10-15T13:35:26.971Z"
   },
   {
    "duration": 20,
    "start_time": "2022-10-15T13:44:04.169Z"
   },
   {
    "duration": 15,
    "start_time": "2022-10-15T13:44:16.890Z"
   },
   {
    "duration": 7261,
    "start_time": "2022-10-15T13:47:14.924Z"
   },
   {
    "duration": 10680,
    "start_time": "2022-10-15T13:47:23.683Z"
   },
   {
    "duration": 11,
    "start_time": "2022-10-15T13:47:57.973Z"
   },
   {
    "duration": 11059,
    "start_time": "2022-10-15T13:48:02.612Z"
   },
   {
    "duration": 73,
    "start_time": "2022-10-15T13:51:54.999Z"
   },
   {
    "duration": 63,
    "start_time": "2022-10-15T13:51:58.711Z"
   },
   {
    "duration": 7553,
    "start_time": "2022-10-15T13:52:12.438Z"
   },
   {
    "duration": 7237,
    "start_time": "2022-10-15T13:53:19.024Z"
   },
   {
    "duration": 7341,
    "start_time": "2022-10-15T13:53:53.131Z"
   },
   {
    "duration": 8114,
    "start_time": "2022-10-15T13:58:38.361Z"
   },
   {
    "duration": 12,
    "start_time": "2022-10-15T14:02:04.661Z"
   },
   {
    "duration": 3299,
    "start_time": "2022-10-15T14:02:18.818Z"
   },
   {
    "duration": 16,
    "start_time": "2022-10-15T14:05:19.849Z"
   },
   {
    "duration": 13,
    "start_time": "2022-10-15T14:06:04.288Z"
   },
   {
    "duration": 4128,
    "start_time": "2022-10-15T14:10:49.271Z"
   },
   {
    "duration": 72,
    "start_time": "2022-10-15T14:11:13.723Z"
   },
   {
    "duration": 4814,
    "start_time": "2022-10-15T14:11:18.462Z"
   },
   {
    "duration": 5373,
    "start_time": "2022-10-15T14:11:38.311Z"
   },
   {
    "duration": 5151,
    "start_time": "2022-10-15T14:11:49.534Z"
   },
   {
    "duration": 5077,
    "start_time": "2022-10-15T14:11:54.910Z"
   },
   {
    "duration": 5908,
    "start_time": "2022-10-15T14:12:50.806Z"
   },
   {
    "duration": 68,
    "start_time": "2022-10-15T14:14:24.396Z"
   },
   {
    "duration": 74,
    "start_time": "2022-10-15T14:14:30.919Z"
   },
   {
    "duration": 66,
    "start_time": "2022-10-15T14:14:34.446Z"
   },
   {
    "duration": 6565,
    "start_time": "2022-10-15T14:18:33.686Z"
   },
   {
    "duration": 361,
    "start_time": "2022-10-15T14:18:58.783Z"
   },
   {
    "duration": 5588,
    "start_time": "2022-10-15T14:19:04.629Z"
   },
   {
    "duration": 6036,
    "start_time": "2022-10-15T14:20:44.319Z"
   },
   {
    "duration": 5931,
    "start_time": "2022-10-15T14:21:09.638Z"
   },
   {
    "duration": 7089,
    "start_time": "2022-10-15T14:21:24.703Z"
   },
   {
    "duration": 6183,
    "start_time": "2022-10-15T14:21:43.679Z"
   },
   {
    "duration": 6192,
    "start_time": "2022-10-15T14:23:57.767Z"
   },
   {
    "duration": 4222,
    "start_time": "2022-10-15T14:24:51.127Z"
   },
   {
    "duration": 5868,
    "start_time": "2022-10-15T14:25:13.350Z"
   },
   {
    "duration": 5637,
    "start_time": "2022-10-15T14:25:22.263Z"
   },
   {
    "duration": 20,
    "start_time": "2022-10-15T14:25:34.383Z"
   },
   {
    "duration": 4198,
    "start_time": "2022-10-15T14:25:39.492Z"
   },
   {
    "duration": 3644,
    "start_time": "2022-10-15T14:28:46.608Z"
   },
   {
    "duration": 3727,
    "start_time": "2022-10-15T14:29:36.874Z"
   },
   {
    "duration": 236,
    "start_time": "2022-10-15T14:29:46.568Z"
   },
   {
    "duration": 3569,
    "start_time": "2022-10-15T14:30:10.016Z"
   },
   {
    "duration": 3596,
    "start_time": "2022-10-15T14:31:49.305Z"
   },
   {
    "duration": 3348,
    "start_time": "2022-10-15T14:33:31.002Z"
   },
   {
    "duration": 3225,
    "start_time": "2022-10-15T14:39:18.498Z"
   },
   {
    "duration": 3226,
    "start_time": "2022-10-15T14:39:54.805Z"
   },
   {
    "duration": 3163,
    "start_time": "2022-10-15T14:41:21.663Z"
   },
   {
    "duration": 3245,
    "start_time": "2022-10-15T14:42:29.482Z"
   },
   {
    "duration": 3112,
    "start_time": "2022-10-15T14:42:54.298Z"
   },
   {
    "duration": 23,
    "start_time": "2022-10-15T16:28:49.923Z"
   },
   {
    "duration": 3379,
    "start_time": "2022-10-15T16:29:00.971Z"
   },
   {
    "duration": 213,
    "start_time": "2022-10-15T16:29:48.405Z"
   },
   {
    "duration": 3231,
    "start_time": "2022-10-15T16:30:11.292Z"
   },
   {
    "duration": 3285,
    "start_time": "2022-10-15T16:31:16.621Z"
   },
   {
    "duration": 3319,
    "start_time": "2022-10-15T16:31:22.276Z"
   },
   {
    "duration": 3209,
    "start_time": "2022-10-15T16:32:06.246Z"
   },
   {
    "duration": 3544,
    "start_time": "2022-10-15T16:34:19.552Z"
   },
   {
    "duration": 3860,
    "start_time": "2022-10-15T16:34:35.767Z"
   },
   {
    "duration": 3205,
    "start_time": "2022-10-15T16:35:52.207Z"
   },
   {
    "duration": 3258,
    "start_time": "2022-10-15T16:35:57.400Z"
   },
   {
    "duration": 3120,
    "start_time": "2022-10-15T16:36:02.880Z"
   },
   {
    "duration": 3145,
    "start_time": "2022-10-15T16:36:23.864Z"
   },
   {
    "duration": 3298,
    "start_time": "2022-10-15T16:36:38.026Z"
   },
   {
    "duration": 3138,
    "start_time": "2022-10-15T16:36:54.849Z"
   },
   {
    "duration": 3246,
    "start_time": "2022-10-15T16:37:07.105Z"
   },
   {
    "duration": 23,
    "start_time": "2022-10-15T16:38:25.281Z"
   },
   {
    "duration": 19,
    "start_time": "2022-10-15T16:39:26.106Z"
   },
   {
    "duration": 20,
    "start_time": "2022-10-15T16:42:34.722Z"
   },
   {
    "duration": 16,
    "start_time": "2022-10-15T16:42:47.814Z"
   },
   {
    "duration": 493,
    "start_time": "2022-10-15T16:45:20.550Z"
   },
   {
    "duration": 1333,
    "start_time": "2022-10-15T16:45:40.022Z"
   },
   {
    "duration": 1408,
    "start_time": "2022-10-15T16:45:52.286Z"
   },
   {
    "duration": 1449,
    "start_time": "2022-10-15T16:46:07.063Z"
   },
   {
    "duration": 1369,
    "start_time": "2022-10-15T16:47:09.159Z"
   },
   {
    "duration": 1520,
    "start_time": "2022-10-15T16:47:35.265Z"
   },
   {
    "duration": 1366,
    "start_time": "2022-10-15T16:48:17.088Z"
   },
   {
    "duration": 1344,
    "start_time": "2022-10-15T16:49:47.233Z"
   },
   {
    "duration": 1411,
    "start_time": "2022-10-15T16:50:27.889Z"
   },
   {
    "duration": 503,
    "start_time": "2022-10-15T16:57:03.486Z"
   },
   {
    "duration": 1583,
    "start_time": "2022-10-15T16:57:10.446Z"
   },
   {
    "duration": 1420,
    "start_time": "2022-10-15T17:00:55.306Z"
   },
   {
    "duration": 1444,
    "start_time": "2022-10-15T17:02:01.137Z"
   },
   {
    "duration": 21,
    "start_time": "2022-10-15T17:02:12.370Z"
   },
   {
    "duration": 18,
    "start_time": "2022-10-15T17:02:25.075Z"
   },
   {
    "duration": 1407,
    "start_time": "2022-10-15T17:02:29.778Z"
   },
   {
    "duration": 16,
    "start_time": "2022-10-15T17:02:35.090Z"
   },
   {
    "duration": 1366,
    "start_time": "2022-10-15T17:02:39.154Z"
   },
   {
    "duration": 25,
    "start_time": "2022-10-15T17:04:57.166Z"
   },
   {
    "duration": 41,
    "start_time": "2022-10-16T10:54:27.614Z"
   },
   {
    "duration": 1381,
    "start_time": "2022-10-16T10:54:31.697Z"
   },
   {
    "duration": 3,
    "start_time": "2022-10-16T10:54:33.079Z"
   },
   {
    "duration": 190,
    "start_time": "2022-10-16T10:54:33.083Z"
   },
   {
    "duration": 17,
    "start_time": "2022-10-16T10:54:33.275Z"
   },
   {
    "duration": 100,
    "start_time": "2022-10-16T10:54:33.293Z"
   },
   {
    "duration": 2,
    "start_time": "2022-10-16T10:54:33.395Z"
   },
   {
    "duration": 8,
    "start_time": "2022-10-16T10:54:33.398Z"
   },
   {
    "duration": 13,
    "start_time": "2022-10-16T10:54:33.407Z"
   },
   {
    "duration": 12,
    "start_time": "2022-10-16T10:54:33.422Z"
   },
   {
    "duration": 13,
    "start_time": "2022-10-16T10:54:33.436Z"
   },
   {
    "duration": 3157,
    "start_time": "2022-10-16T10:54:33.450Z"
   },
   {
    "duration": 20,
    "start_time": "2022-10-16T10:54:36.608Z"
   },
   {
    "duration": 1533,
    "start_time": "2022-10-16T10:54:36.630Z"
   },
   {
    "duration": 4,
    "start_time": "2022-10-16T10:54:38.165Z"
   },
   {
    "duration": 5,
    "start_time": "2022-10-16T10:56:48.289Z"
   },
   {
    "duration": 6,
    "start_time": "2022-10-16T11:23:58.651Z"
   },
   {
    "duration": 62,
    "start_time": "2022-10-16T11:24:09.923Z"
   },
   {
    "duration": 9,
    "start_time": "2022-10-16T11:24:17.403Z"
   },
   {
    "duration": 78,
    "start_time": "2022-10-16T12:03:30.430Z"
   },
   {
    "duration": 4,
    "start_time": "2022-10-16T12:05:11.984Z"
   },
   {
    "duration": 189,
    "start_time": "2022-10-16T12:05:17.896Z"
   },
   {
    "duration": 4,
    "start_time": "2022-10-16T12:09:46.130Z"
   },
   {
    "duration": 3,
    "start_time": "2022-10-16T12:10:42.548Z"
   },
   {
    "duration": 61,
    "start_time": "2022-10-16T12:10:47.444Z"
   },
   {
    "duration": 5,
    "start_time": "2022-10-16T12:13:21.079Z"
   },
   {
    "duration": 106,
    "start_time": "2022-10-16T12:13:26.886Z"
   },
   {
    "duration": 5,
    "start_time": "2022-10-16T12:16:07.030Z"
   },
   {
    "duration": 620,
    "start_time": "2022-10-16T12:16:13.008Z"
   },
   {
    "duration": 522,
    "start_time": "2022-10-16T12:18:30.305Z"
   },
   {
    "duration": 4,
    "start_time": "2022-10-16T12:18:35.705Z"
   },
   {
    "duration": 13,
    "start_time": "2022-10-16T12:38:40.990Z"
   },
   {
    "duration": 5,
    "start_time": "2022-10-16T12:40:13.929Z"
   },
   {
    "duration": 474,
    "start_time": "2022-10-16T12:40:19.658Z"
   },
   {
    "duration": 464,
    "start_time": "2022-10-16T12:40:21.857Z"
   },
   {
    "duration": 1383,
    "start_time": "2022-10-16T12:43:12.800Z"
   },
   {
    "duration": 3,
    "start_time": "2022-10-16T12:43:14.185Z"
   },
   {
    "duration": 77,
    "start_time": "2022-10-16T12:43:14.190Z"
   },
   {
    "duration": 18,
    "start_time": "2022-10-16T12:43:14.269Z"
   },
   {
    "duration": 116,
    "start_time": "2022-10-16T12:43:14.289Z"
   },
   {
    "duration": 3,
    "start_time": "2022-10-16T12:43:14.407Z"
   },
   {
    "duration": 7,
    "start_time": "2022-10-16T12:43:14.411Z"
   },
   {
    "duration": 11,
    "start_time": "2022-10-16T12:43:14.419Z"
   },
   {
    "duration": 7,
    "start_time": "2022-10-16T12:43:14.431Z"
   },
   {
    "duration": 14,
    "start_time": "2022-10-16T12:43:14.440Z"
   },
   {
    "duration": 3360,
    "start_time": "2022-10-16T12:43:14.455Z"
   },
   {
    "duration": 31,
    "start_time": "2022-10-16T12:43:17.817Z"
   },
   {
    "duration": 1472,
    "start_time": "2022-10-16T12:43:17.850Z"
   },
   {
    "duration": 4,
    "start_time": "2022-10-16T12:43:19.324Z"
   },
   {
    "duration": 38,
    "start_time": "2022-10-16T12:43:19.329Z"
   },
   {
    "duration": 625,
    "start_time": "2022-10-16T12:43:19.369Z"
   },
   {
    "duration": 572,
    "start_time": "2022-10-16T12:43:19.995Z"
   },
   {
    "duration": 103924,
    "start_time": "2022-10-16T12:43:20.569Z"
   },
   {
    "duration": 301,
    "start_time": "2022-10-16T12:45:28.214Z"
   },
   {
    "duration": 405,
    "start_time": "2022-10-16T12:46:20.374Z"
   },
   {
    "duration": 292,
    "start_time": "2022-10-16T12:46:44.384Z"
   },
   {
    "duration": 280,
    "start_time": "2022-10-16T12:48:08.669Z"
   },
   {
    "duration": 9,
    "start_time": "2022-10-16T14:04:15.786Z"
   },
   {
    "duration": 18,
    "start_time": "2022-10-16T14:05:26.502Z"
   },
   {
    "duration": 12,
    "start_time": "2022-10-16T14:05:33.019Z"
   },
   {
    "duration": 535,
    "start_time": "2022-10-16T14:06:43.725Z"
   },
   {
    "duration": 481,
    "start_time": "2022-10-16T14:06:46.277Z"
   },
   {
    "duration": 1040,
    "start_time": "2022-10-16T14:06:49.348Z"
   },
   {
    "duration": 18,
    "start_time": "2022-10-16T14:06:55.132Z"
   },
   {
    "duration": 1211,
    "start_time": "2022-10-16T14:07:53.182Z"
   },
   {
    "duration": 1042,
    "start_time": "2022-10-16T14:07:58.846Z"
   },
   {
    "duration": 17,
    "start_time": "2022-10-16T14:11:16.814Z"
   },
   {
    "duration": 17,
    "start_time": "2022-10-16T14:11:54.046Z"
   },
   {
    "duration": 24,
    "start_time": "2022-10-16T14:29:39.980Z"
   },
   {
    "duration": 5815,
    "start_time": "2022-10-16T17:05:44.190Z"
   },
   {
    "duration": 6692,
    "start_time": "2022-10-16T17:05:57.464Z"
   },
   {
    "duration": 6143,
    "start_time": "2022-10-16T17:06:11.272Z"
   },
   {
    "duration": 6494,
    "start_time": "2022-10-16T17:06:20.536Z"
   },
   {
    "duration": 5445,
    "start_time": "2022-10-16T17:06:56.720Z"
   },
   {
    "duration": 6362,
    "start_time": "2022-10-16T17:07:15.145Z"
   },
   {
    "duration": 6271,
    "start_time": "2022-10-16T17:07:30.865Z"
   },
   {
    "duration": 13,
    "start_time": "2022-10-16T17:10:10.564Z"
   },
   {
    "duration": 6416,
    "start_time": "2022-10-16T17:10:20.660Z"
   },
   {
    "duration": 6548,
    "start_time": "2022-10-16T17:10:37.780Z"
   },
   {
    "duration": 11,
    "start_time": "2022-10-16T17:15:14.407Z"
   },
   {
    "duration": 22,
    "start_time": "2022-10-16T17:19:34.425Z"
   },
   {
    "duration": 35,
    "start_time": "2022-10-16T17:20:46.722Z"
   },
   {
    "duration": 6096,
    "start_time": "2022-10-16T17:21:11.499Z"
   },
   {
    "duration": 6686,
    "start_time": "2022-10-16T17:25:06.213Z"
   },
   {
    "duration": 6743,
    "start_time": "2022-10-16T17:26:01.925Z"
   },
   {
    "duration": 7156,
    "start_time": "2022-10-16T17:28:06.119Z"
   },
   {
    "duration": 7158,
    "start_time": "2022-10-16T17:29:31.415Z"
   },
   {
    "duration": 32,
    "start_time": "2022-10-16T17:29:44.791Z"
   },
   {
    "duration": 28,
    "start_time": "2022-10-16T17:29:51.063Z"
   },
   {
    "duration": 43,
    "start_time": "2022-10-16T17:29:54.039Z"
   },
   {
    "duration": 7836,
    "start_time": "2022-10-16T17:29:58.335Z"
   },
   {
    "duration": 7108,
    "start_time": "2022-10-16T17:30:55.520Z"
   },
   {
    "duration": 9556,
    "start_time": "2022-10-16T17:31:18.624Z"
   },
   {
    "duration": 6817,
    "start_time": "2022-10-16T17:31:50.049Z"
   },
   {
    "duration": 6931,
    "start_time": "2022-10-16T17:32:21.753Z"
   },
   {
    "duration": 6983,
    "start_time": "2022-10-16T17:33:21.067Z"
   },
   {
    "duration": 7296,
    "start_time": "2022-10-16T17:33:36.530Z"
   },
   {
    "duration": 6746,
    "start_time": "2022-10-16T17:34:44.347Z"
   },
   {
    "duration": 7561,
    "start_time": "2022-10-16T17:35:04.460Z"
   },
   {
    "duration": 7031,
    "start_time": "2022-10-16T17:46:34.603Z"
   },
   {
    "duration": 6605,
    "start_time": "2022-10-16T17:47:40.924Z"
   },
   {
    "duration": 6689,
    "start_time": "2022-10-16T17:48:04.779Z"
   },
   {
    "duration": 14,
    "start_time": "2022-10-16T18:08:56.618Z"
   },
   {
    "duration": 11,
    "start_time": "2022-10-16T18:09:21.354Z"
   },
   {
    "duration": 6,
    "start_time": "2022-10-16T18:09:33.058Z"
   },
   {
    "duration": 7,
    "start_time": "2022-10-16T18:09:43.369Z"
   },
   {
    "duration": 11,
    "start_time": "2022-10-16T18:09:57.180Z"
   },
   {
    "duration": 7,
    "start_time": "2022-10-16T18:10:04.435Z"
   },
   {
    "duration": 7,
    "start_time": "2022-10-16T18:13:45.389Z"
   },
   {
    "duration": 13,
    "start_time": "2022-10-16T18:17:37.919Z"
   },
   {
    "duration": 6,
    "start_time": "2022-10-16T18:17:41.879Z"
   },
   {
    "duration": 74,
    "start_time": "2022-10-16T18:18:36.936Z"
   },
   {
    "duration": 12,
    "start_time": "2022-10-16T18:18:40.729Z"
   },
   {
    "duration": 75,
    "start_time": "2022-10-16T18:19:22.129Z"
   },
   {
    "duration": 7,
    "start_time": "2022-10-16T18:19:27.656Z"
   },
   {
    "duration": 8,
    "start_time": "2022-10-16T18:19:37.074Z"
   },
   {
    "duration": 1407,
    "start_time": "2022-10-16T18:53:47.085Z"
   },
   {
    "duration": 3,
    "start_time": "2022-10-16T18:53:48.494Z"
   },
   {
    "duration": 72,
    "start_time": "2022-10-16T18:53:48.498Z"
   },
   {
    "duration": 15,
    "start_time": "2022-10-16T18:53:48.572Z"
   },
   {
    "duration": 78,
    "start_time": "2022-10-16T18:53:48.588Z"
   },
   {
    "duration": 17,
    "start_time": "2022-10-16T18:53:48.668Z"
   },
   {
    "duration": 4,
    "start_time": "2022-10-16T18:53:48.687Z"
   },
   {
    "duration": 8,
    "start_time": "2022-10-16T18:53:48.692Z"
   },
   {
    "duration": 6,
    "start_time": "2022-10-16T18:53:48.701Z"
   },
   {
    "duration": 12,
    "start_time": "2022-10-16T18:53:48.709Z"
   },
   {
    "duration": 3173,
    "start_time": "2022-10-16T18:53:48.722Z"
   },
   {
    "duration": 19,
    "start_time": "2022-10-16T18:53:51.897Z"
   },
   {
    "duration": 1362,
    "start_time": "2022-10-16T18:53:51.917Z"
   },
   {
    "duration": 4,
    "start_time": "2022-10-16T18:53:53.281Z"
   },
   {
    "duration": 9,
    "start_time": "2022-10-16T18:53:53.287Z"
   },
   {
    "duration": 619,
    "start_time": "2022-10-16T18:53:53.297Z"
   },
   {
    "duration": 114,
    "start_time": "2022-10-16T18:53:53.917Z"
   },
   {
    "duration": 0,
    "start_time": "2022-10-16T18:53:54.032Z"
   },
   {
    "duration": 0,
    "start_time": "2022-10-16T18:53:54.033Z"
   },
   {
    "duration": 0,
    "start_time": "2022-10-16T18:53:54.034Z"
   },
   {
    "duration": 0,
    "start_time": "2022-10-16T18:53:54.035Z"
   },
   {
    "duration": 0,
    "start_time": "2022-10-16T18:53:54.036Z"
   },
   {
    "duration": 550,
    "start_time": "2022-10-16T18:54:50.122Z"
   },
   {
    "duration": 1433,
    "start_time": "2022-10-16T18:54:56.124Z"
   },
   {
    "duration": 3,
    "start_time": "2022-10-16T18:54:57.559Z"
   },
   {
    "duration": 76,
    "start_time": "2022-10-16T18:54:57.566Z"
   },
   {
    "duration": 16,
    "start_time": "2022-10-16T18:54:57.643Z"
   },
   {
    "duration": 83,
    "start_time": "2022-10-16T18:54:57.660Z"
   },
   {
    "duration": 3,
    "start_time": "2022-10-16T18:54:57.744Z"
   },
   {
    "duration": 9,
    "start_time": "2022-10-16T18:54:57.748Z"
   },
   {
    "duration": 11,
    "start_time": "2022-10-16T18:54:57.759Z"
   },
   {
    "duration": 14,
    "start_time": "2022-10-16T18:54:57.772Z"
   },
   {
    "duration": 16,
    "start_time": "2022-10-16T18:54:57.788Z"
   },
   {
    "duration": 3168,
    "start_time": "2022-10-16T18:54:57.806Z"
   },
   {
    "duration": 24,
    "start_time": "2022-10-16T18:55:00.975Z"
   },
   {
    "duration": 1377,
    "start_time": "2022-10-16T18:55:01.001Z"
   },
   {
    "duration": 4,
    "start_time": "2022-10-16T18:55:02.380Z"
   },
   {
    "duration": 29,
    "start_time": "2022-10-16T18:55:02.385Z"
   },
   {
    "duration": 499,
    "start_time": "2022-10-16T18:55:02.416Z"
   },
   {
    "duration": 550,
    "start_time": "2022-10-16T18:55:02.917Z"
   },
   {
    "duration": 389,
    "start_time": "2022-10-16T18:55:03.469Z"
   },
   {
    "duration": 1127,
    "start_time": "2022-10-16T18:55:03.859Z"
   },
   {
    "duration": 22,
    "start_time": "2022-10-16T18:55:04.988Z"
   },
   {
    "duration": 6301,
    "start_time": "2022-10-16T18:55:05.012Z"
   },
   {
    "duration": 7,
    "start_time": "2022-10-16T18:55:11.314Z"
   },
   {
    "duration": 1750,
    "start_time": "2022-10-17T10:35:35.871Z"
   },
   {
    "duration": 3,
    "start_time": "2022-10-17T10:35:37.623Z"
   },
   {
    "duration": 74,
    "start_time": "2022-10-17T10:35:37.627Z"
   },
   {
    "duration": 18,
    "start_time": "2022-10-17T10:35:37.703Z"
   },
   {
    "duration": 102,
    "start_time": "2022-10-17T10:35:37.723Z"
   },
   {
    "duration": 2,
    "start_time": "2022-10-17T10:35:37.827Z"
   },
   {
    "duration": 6,
    "start_time": "2022-10-17T10:35:37.831Z"
   },
   {
    "duration": 9,
    "start_time": "2022-10-17T10:35:37.838Z"
   },
   {
    "duration": 8,
    "start_time": "2022-10-17T10:35:37.849Z"
   },
   {
    "duration": 15,
    "start_time": "2022-10-17T10:35:37.859Z"
   },
   {
    "duration": 3128,
    "start_time": "2022-10-17T10:35:37.875Z"
   },
   {
    "duration": 26,
    "start_time": "2022-10-17T10:35:41.005Z"
   },
   {
    "duration": 1376,
    "start_time": "2022-10-17T10:35:41.032Z"
   },
   {
    "duration": 4,
    "start_time": "2022-10-17T10:35:42.410Z"
   },
   {
    "duration": 9,
    "start_time": "2022-10-17T10:35:42.415Z"
   },
   {
    "duration": 557,
    "start_time": "2022-10-17T10:35:42.425Z"
   },
   {
    "duration": 476,
    "start_time": "2022-10-17T10:35:42.983Z"
   },
   {
    "duration": 381,
    "start_time": "2022-10-17T10:35:43.460Z"
   },
   {
    "duration": 1168,
    "start_time": "2022-10-17T10:35:43.843Z"
   },
   {
    "duration": 21,
    "start_time": "2022-10-17T10:35:45.013Z"
   },
   {
    "duration": 5818,
    "start_time": "2022-10-17T10:35:45.036Z"
   },
   {
    "duration": 6,
    "start_time": "2022-10-17T10:35:50.856Z"
   },
   {
    "duration": 3,
    "start_time": "2022-10-17T13:59:03.706Z"
   },
   {
    "duration": 56,
    "start_time": "2022-10-17T16:35:54.983Z"
   },
   {
    "duration": 54,
    "start_time": "2022-10-17T16:40:40.626Z"
   },
   {
    "duration": 1652,
    "start_time": "2022-10-17T16:41:15.729Z"
   },
   {
    "duration": 2,
    "start_time": "2022-10-17T16:41:17.383Z"
   },
   {
    "duration": 75,
    "start_time": "2022-10-17T16:41:17.386Z"
   },
   {
    "duration": 16,
    "start_time": "2022-10-17T16:41:17.463Z"
   },
   {
    "duration": 83,
    "start_time": "2022-10-17T16:41:17.481Z"
   },
   {
    "duration": 3,
    "start_time": "2022-10-17T16:41:17.565Z"
   },
   {
    "duration": 6,
    "start_time": "2022-10-17T16:41:17.570Z"
   },
   {
    "duration": 7,
    "start_time": "2022-10-17T16:41:17.578Z"
   },
   {
    "duration": 8,
    "start_time": "2022-10-17T16:41:17.609Z"
   },
   {
    "duration": 13,
    "start_time": "2022-10-17T16:41:17.619Z"
   },
   {
    "duration": 3107,
    "start_time": "2022-10-17T16:41:17.634Z"
   },
   {
    "duration": 20,
    "start_time": "2022-10-17T16:41:20.742Z"
   },
   {
    "duration": 1425,
    "start_time": "2022-10-17T16:41:20.763Z"
   },
   {
    "duration": 3,
    "start_time": "2022-10-17T16:41:22.190Z"
   },
   {
    "duration": 11,
    "start_time": "2022-10-17T16:41:22.194Z"
   },
   {
    "duration": 10,
    "start_time": "2022-10-17T16:41:22.206Z"
   },
   {
    "duration": 563,
    "start_time": "2022-10-17T16:41:22.217Z"
   },
   {
    "duration": 487,
    "start_time": "2022-10-17T16:41:22.782Z"
   },
   {
    "duration": 411,
    "start_time": "2022-10-17T16:41:23.271Z"
   },
   {
    "duration": 1226,
    "start_time": "2022-10-17T16:41:23.684Z"
   },
   {
    "duration": 20,
    "start_time": "2022-10-17T16:41:24.912Z"
   },
   {
    "duration": 5677,
    "start_time": "2022-10-17T16:41:24.933Z"
   },
   {
    "duration": 6,
    "start_time": "2022-10-17T16:41:30.612Z"
   },
   {
    "duration": 44,
    "start_time": "2022-10-17T16:46:06.212Z"
   },
   {
    "duration": 12,
    "start_time": "2022-10-17T16:50:43.018Z"
   },
   {
    "duration": 1427,
    "start_time": "2022-10-17T17:08:47.566Z"
   },
   {
    "duration": 3,
    "start_time": "2022-10-17T17:08:48.995Z"
   },
   {
    "duration": 47,
    "start_time": "2022-10-17T17:08:48.999Z"
   },
   {
    "duration": 15,
    "start_time": "2022-10-17T17:08:49.048Z"
   },
   {
    "duration": 77,
    "start_time": "2022-10-17T17:08:49.064Z"
   },
   {
    "duration": 2,
    "start_time": "2022-10-17T17:08:49.142Z"
   },
   {
    "duration": 12,
    "start_time": "2022-10-17T17:08:49.146Z"
   },
   {
    "duration": 24,
    "start_time": "2022-10-17T17:08:49.160Z"
   },
   {
    "duration": 7,
    "start_time": "2022-10-17T17:08:49.185Z"
   },
   {
    "duration": 16,
    "start_time": "2022-10-17T17:08:49.194Z"
   },
   {
    "duration": 2969,
    "start_time": "2022-10-17T17:08:49.211Z"
   },
   {
    "duration": 18,
    "start_time": "2022-10-17T17:08:52.181Z"
   },
   {
    "duration": 1344,
    "start_time": "2022-10-17T17:08:52.208Z"
   },
   {
    "duration": 3,
    "start_time": "2022-10-17T17:08:53.554Z"
   },
   {
    "duration": 12,
    "start_time": "2022-10-17T17:08:53.558Z"
   },
   {
    "duration": 7,
    "start_time": "2022-10-17T17:08:53.571Z"
   },
   {
    "duration": 580,
    "start_time": "2022-10-17T17:08:53.579Z"
   },
   {
    "duration": 516,
    "start_time": "2022-10-17T17:08:54.161Z"
   },
   {
    "duration": 392,
    "start_time": "2022-10-17T17:08:54.678Z"
   },
   {
    "duration": 1244,
    "start_time": "2022-10-17T17:08:55.072Z"
   },
   {
    "duration": 19,
    "start_time": "2022-10-17T17:08:56.318Z"
   },
   {
    "duration": 5664,
    "start_time": "2022-10-17T17:08:56.338Z"
   },
   {
    "duration": 7,
    "start_time": "2022-10-17T17:09:02.003Z"
   },
   {
    "duration": 2355,
    "start_time": "2022-10-18T07:47:26.141Z"
   },
   {
    "duration": 3,
    "start_time": "2022-10-18T07:47:28.498Z"
   },
   {
    "duration": 78,
    "start_time": "2022-10-18T07:47:29.781Z"
   },
   {
    "duration": 16,
    "start_time": "2022-10-18T07:47:33.970Z"
   },
   {
    "duration": 93,
    "start_time": "2022-10-18T07:47:46.526Z"
   },
   {
    "duration": 3,
    "start_time": "2022-10-18T07:47:48.122Z"
   },
   {
    "duration": 3,
    "start_time": "2022-10-18T07:47:49.185Z"
   },
   {
    "duration": 7,
    "start_time": "2022-10-18T07:47:56.938Z"
   },
   {
    "duration": 7,
    "start_time": "2022-10-18T07:47:57.388Z"
   },
   {
    "duration": 7,
    "start_time": "2022-10-18T07:48:38.157Z"
   },
   {
    "duration": 8,
    "start_time": "2022-10-18T07:53:53.494Z"
   },
   {
    "duration": 3493,
    "start_time": "2022-10-18T07:54:49.762Z"
   },
   {
    "duration": 23,
    "start_time": "2022-10-18T07:55:05.927Z"
   }
  ],
  "kernelspec": {
   "display_name": "Python 3 (ipykernel)",
   "language": "python",
   "name": "python3"
  },
  "language_info": {
   "codemirror_mode": {
    "name": "ipython",
    "version": 3
   },
   "file_extension": ".py",
   "mimetype": "text/x-python",
   "name": "python",
   "nbconvert_exporter": "python",
   "pygments_lexer": "ipython3",
   "version": "3.9.7"
  },
  "toc": {
   "base_numbering": 1,
   "nav_menu": {},
   "number_sections": true,
   "sideBar": true,
   "skip_h1_title": true,
   "title_cell": "Содержание",
   "title_sidebar": "Contents",
   "toc_cell": true,
   "toc_position": {},
   "toc_section_display": true,
   "toc_window_display": true
  }
 },
 "nbformat": 4,
 "nbformat_minor": 2
}
